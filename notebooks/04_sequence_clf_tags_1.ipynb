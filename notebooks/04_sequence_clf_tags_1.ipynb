{
 "cells": [
  {
   "cell_type": "code",
   "execution_count": 1,
   "metadata": {},
   "outputs": [],
   "source": [
    "import os\n",
    "os.environ['CUDA_VISIBLE_DEVICES'] = '1'"
   ]
  },
  {
   "cell_type": "code",
   "execution_count": 2,
   "metadata": {},
   "outputs": [],
   "source": [
    "from pathlib import Path\n",
    "import pandas as pd\n",
    "import numpy as np\n",
    "\n",
    "import tensorflow as tf\n",
    "import tensorflow.keras.layers as layers\n",
    "import tensorflow.keras.models as models\n",
    "import tensorflow.keras.preprocessing.sequence as sequence\n",
    "import tensorflow.keras.utils as utils\n",
    "\n",
    "import matplotlib.pyplot as plt\n",
    "%matplotlib inline"
   ]
  },
  {
   "cell_type": "code",
   "execution_count": 3,
   "metadata": {},
   "outputs": [
    {
     "name": "stdout",
     "output_type": "stream",
     "text": [
      "[name: \"/device:CPU:0\"\n",
      "device_type: \"CPU\"\n",
      "memory_limit: 268435456\n",
      "locality {\n",
      "}\n",
      "incarnation: 8609142173534651521\n",
      ", name: \"/device:XLA_CPU:0\"\n",
      "device_type: \"XLA_CPU\"\n",
      "memory_limit: 17179869184\n",
      "locality {\n",
      "}\n",
      "incarnation: 9080737575347913529\n",
      "physical_device_desc: \"device: XLA_CPU device\"\n",
      ", name: \"/device:GPU:0\"\n",
      "device_type: \"GPU\"\n",
      "memory_limit: 96927744\n",
      "locality {\n",
      "  bus_id: 1\n",
      "  links {\n",
      "  }\n",
      "}\n",
      "incarnation: 11705825456033011944\n",
      "physical_device_desc: \"device: 0, name: Tesla M60, pci bus id: 0000:00:1e.0, compute capability: 5.2\"\n",
      ", name: \"/device:XLA_GPU:0\"\n",
      "device_type: \"XLA_GPU\"\n",
      "memory_limit: 17179869184\n",
      "locality {\n",
      "}\n",
      "incarnation: 161827357660719783\n",
      "physical_device_desc: \"device: XLA_GPU device\"\n",
      "]\n"
     ]
    }
   ],
   "source": [
    "from tensorflow.python.client import device_lib\n",
    "print(device_lib.list_local_devices())"
   ]
  },
  {
   "cell_type": "code",
   "execution_count": 4,
   "metadata": {},
   "outputs": [
    {
     "name": "stderr",
     "output_type": "stream",
     "text": [
      "Using TensorFlow backend.\n",
      "WARNING: Logging before flag parsing goes to stderr.\n",
      "W0816 07:05:30.748323 140481931388672 deprecation_wrapper.py:119] From /home/mdogan/miniconda3/lib/python3.7/site-packages/keras/backend/tensorflow_backend.py:174: The name tf.get_default_session is deprecated. Please use tf.compat.v1.get_default_session instead.\n",
      "\n",
      "W0816 07:05:30.749112 140481931388672 deprecation_wrapper.py:119] From /home/mdogan/miniconda3/lib/python3.7/site-packages/keras/backend/tensorflow_backend.py:181: The name tf.ConfigProto is deprecated. Please use tf.compat.v1.ConfigProto instead.\n",
      "\n",
      "W0816 07:05:30.749741 140481931388672 deprecation_wrapper.py:119] From /home/mdogan/miniconda3/lib/python3.7/site-packages/keras/backend/tensorflow_backend.py:186: The name tf.Session is deprecated. Please use tf.compat.v1.Session instead.\n",
      "\n",
      "W0816 07:05:30.757012 140481931388672 deprecation_wrapper.py:119] From /home/mdogan/miniconda3/lib/python3.7/site-packages/keras/backend/tensorflow_backend.py:190: The name tf.global_variables is deprecated. Please use tf.compat.v1.global_variables instead.\n",
      "\n"
     ]
    },
    {
     "data": {
      "text/plain": [
       "['/job:localhost/replica:0/task:0/device:GPU:0']"
      ]
     },
     "execution_count": 4,
     "metadata": {},
     "output_type": "execute_result"
    }
   ],
   "source": [
    "from keras import backend\n",
    "backend.tensorflow_backend._get_available_gpus()"
   ]
  },
  {
   "cell_type": "code",
   "execution_count": 5,
   "metadata": {},
   "outputs": [],
   "source": [
    "#read in the csvs obtained from 03_tags_clustering\n",
    "chem = pd.read_csv(\"../data/equation/chemistry_post_eq_tag_id.csv\", lineterminator='\\n')\n",
    "physics = pd.read_csv(\"../data/equation/physics_post_eq_tag_id.csv\", lineterminator='\\n')\n",
    "bio = pd.read_csv(\"../data/equation/biology_post_eq_tag_id.csv\", lineterminator='\\n')"
   ]
  },
  {
   "cell_type": "code",
   "execution_count": 6,
   "metadata": {},
   "outputs": [
    {
     "data": {
      "text/html": [
       "<div>\n",
       "<style scoped>\n",
       "    .dataframe tbody tr th:only-of-type {\n",
       "        vertical-align: middle;\n",
       "    }\n",
       "\n",
       "    .dataframe tbody tr th {\n",
       "        vertical-align: top;\n",
       "    }\n",
       "\n",
       "    .dataframe thead th {\n",
       "        text-align: right;\n",
       "    }\n",
       "</style>\n",
       "<table border=\"1\" class=\"dataframe\">\n",
       "  <thead>\n",
       "    <tr style=\"text-align: right;\">\n",
       "      <th></th>\n",
       "      <th>Equation</th>\n",
       "      <th>Label</th>\n",
       "      <th>Cluster_label</th>\n",
       "      <th>Id</th>\n",
       "      <th>Tags</th>\n",
       "    </tr>\n",
       "  </thead>\n",
       "  <tbody>\n",
       "    <tr>\n",
       "      <th>0</th>\n",
       "      <td>\\mathrm{NaCl}</td>\n",
       "      <td>chemistry</td>\n",
       "      <td>chemistry</td>\n",
       "      <td>2</td>\n",
       "      <td>&lt;ions&gt;&lt;crystal-structure&gt;&lt;ionic-compounds&gt;&lt;sol...</td>\n",
       "    </tr>\n",
       "    <tr>\n",
       "      <th>1</th>\n",
       "      <td>\\mathrm{Cl}</td>\n",
       "      <td>chemistry</td>\n",
       "      <td>chemistry</td>\n",
       "      <td>2</td>\n",
       "      <td>&lt;ions&gt;&lt;crystal-structure&gt;&lt;ionic-compounds&gt;&lt;sol...</td>\n",
       "    </tr>\n",
       "    <tr>\n",
       "      <th>2</th>\n",
       "      <td>\\mathrm{Cl^-}</td>\n",
       "      <td>chemistry</td>\n",
       "      <td>chemistry</td>\n",
       "      <td>2</td>\n",
       "      <td>&lt;ions&gt;&lt;crystal-structure&gt;&lt;ionic-compounds&gt;&lt;sol...</td>\n",
       "    </tr>\n",
       "    <tr>\n",
       "      <th>3</th>\n",
       "      <td>\\mathrm{Na}</td>\n",
       "      <td>chemistry</td>\n",
       "      <td>chemistry</td>\n",
       "      <td>2</td>\n",
       "      <td>&lt;ions&gt;&lt;crystal-structure&gt;&lt;ionic-compounds&gt;&lt;sol...</td>\n",
       "    </tr>\n",
       "    <tr>\n",
       "      <th>4</th>\n",
       "      <td>\\mathrm{Na^+}</td>\n",
       "      <td>chemistry</td>\n",
       "      <td>chemistry</td>\n",
       "      <td>2</td>\n",
       "      <td>&lt;ions&gt;&lt;crystal-structure&gt;&lt;ionic-compounds&gt;&lt;sol...</td>\n",
       "    </tr>\n",
       "  </tbody>\n",
       "</table>\n",
       "</div>"
      ],
      "text/plain": [
       "        Equation      Label Cluster_label  Id  \\\n",
       "0  \\mathrm{NaCl}  chemistry     chemistry   2   \n",
       "1    \\mathrm{Cl}  chemistry     chemistry   2   \n",
       "2  \\mathrm{Cl^-}  chemistry     chemistry   2   \n",
       "3    \\mathrm{Na}  chemistry     chemistry   2   \n",
       "4  \\mathrm{Na^+}  chemistry     chemistry   2   \n",
       "\n",
       "                                                Tags  \n",
       "0  <ions><crystal-structure><ionic-compounds><sol...  \n",
       "1  <ions><crystal-structure><ionic-compounds><sol...  \n",
       "2  <ions><crystal-structure><ionic-compounds><sol...  \n",
       "3  <ions><crystal-structure><ionic-compounds><sol...  \n",
       "4  <ions><crystal-structure><ionic-compounds><sol...  "
      ]
     },
     "execution_count": 6,
     "metadata": {},
     "output_type": "execute_result"
    }
   ],
   "source": [
    "df = pd.concat([chem, physics, bio], ignore_index=True)\n",
    "df.head()"
   ]
  },
  {
   "cell_type": "code",
   "execution_count": 7,
   "metadata": {},
   "outputs": [],
   "source": [
    "df.rename(columns={\"Label\": \"Source\"}, inplace = True)"
   ]
  },
  {
   "cell_type": "code",
   "execution_count": 8,
   "metadata": {},
   "outputs": [],
   "source": [
    "def split_data(df, frac=0.1):\n",
    "    \"\"\"\n",
    "    Split the data by the post id.\n",
    "    Equations from the same post will be in the same set.\n",
    "    \"\"\"\n",
    "    split_by = df.Id\n",
    "    post_ids = df.Id.unique()\n",
    "    N = len(post_ids)\n",
    "    \n",
    "    test_posts = np.random.choice(post_ids, int(N * frac))\n",
    "    n_test = len(test_posts)\n",
    "    test_condition = df.Id.isin(test_posts)\n",
    "    return df[~test_condition], df[test_condition]"
   ]
  },
  {
   "cell_type": "code",
   "execution_count": 9,
   "metadata": {},
   "outputs": [
    {
     "name": "stdout",
     "output_type": "stream",
     "text": [
      "Null Data:  184\n",
      "Training rows: 269523\n",
      "Val rows: 28265\n",
      "Test rows: 31653\n"
     ]
    }
   ],
   "source": [
    "np.random.seed(1)\n",
    "print('Null Data: ', df.Equation.isnull().sum())\n",
    "df.dropna(subset=['Equation'], inplace=True)\n",
    "df = df.drop_duplicates(subset=['Equation', 'Source', 'Cluster_label'])\n",
    "train_df, test_df = split_data(df, 0.1)\n",
    "train_df, val_df = split_data(train_df, 0.1)\n",
    "\n",
    "print(f'Training rows: {train_df.shape[0]}')\n",
    "print(f'Val rows: {val_df.shape[0]}')\n",
    "print(f'Test rows: {test_df.shape[0]}')"
   ]
  },
  {
   "cell_type": "code",
   "execution_count": 10,
   "metadata": {},
   "outputs": [
    {
     "data": {
      "text/html": [
       "<div>\n",
       "<style scoped>\n",
       "    .dataframe tbody tr th:only-of-type {\n",
       "        vertical-align: middle;\n",
       "    }\n",
       "\n",
       "    .dataframe tbody tr th {\n",
       "        vertical-align: top;\n",
       "    }\n",
       "\n",
       "    .dataframe thead th {\n",
       "        text-align: right;\n",
       "    }\n",
       "</style>\n",
       "<table border=\"1\" class=\"dataframe\">\n",
       "  <thead>\n",
       "    <tr style=\"text-align: right;\">\n",
       "      <th></th>\n",
       "      <th>Equation</th>\n",
       "      <th>Source</th>\n",
       "      <th>Cluster_label</th>\n",
       "      <th>Id</th>\n",
       "      <th>Tags</th>\n",
       "    </tr>\n",
       "  </thead>\n",
       "  <tbody>\n",
       "    <tr>\n",
       "      <th>0</th>\n",
       "      <td>\\mathrm{NaCl}</td>\n",
       "      <td>chemistry</td>\n",
       "      <td>chemistry</td>\n",
       "      <td>2</td>\n",
       "      <td>&lt;ions&gt;&lt;crystal-structure&gt;&lt;ionic-compounds&gt;&lt;sol...</td>\n",
       "    </tr>\n",
       "    <tr>\n",
       "      <th>1</th>\n",
       "      <td>\\mathrm{Cl}</td>\n",
       "      <td>chemistry</td>\n",
       "      <td>chemistry</td>\n",
       "      <td>2</td>\n",
       "      <td>&lt;ions&gt;&lt;crystal-structure&gt;&lt;ionic-compounds&gt;&lt;sol...</td>\n",
       "    </tr>\n",
       "    <tr>\n",
       "      <th>2</th>\n",
       "      <td>\\mathrm{Cl^-}</td>\n",
       "      <td>chemistry</td>\n",
       "      <td>chemistry</td>\n",
       "      <td>2</td>\n",
       "      <td>&lt;ions&gt;&lt;crystal-structure&gt;&lt;ionic-compounds&gt;&lt;sol...</td>\n",
       "    </tr>\n",
       "    <tr>\n",
       "      <th>3</th>\n",
       "      <td>\\mathrm{Na}</td>\n",
       "      <td>chemistry</td>\n",
       "      <td>chemistry</td>\n",
       "      <td>2</td>\n",
       "      <td>&lt;ions&gt;&lt;crystal-structure&gt;&lt;ionic-compounds&gt;&lt;sol...</td>\n",
       "    </tr>\n",
       "    <tr>\n",
       "      <th>4</th>\n",
       "      <td>\\mathrm{Na^+}</td>\n",
       "      <td>chemistry</td>\n",
       "      <td>chemistry</td>\n",
       "      <td>2</td>\n",
       "      <td>&lt;ions&gt;&lt;crystal-structure&gt;&lt;ionic-compounds&gt;&lt;sol...</td>\n",
       "    </tr>\n",
       "  </tbody>\n",
       "</table>\n",
       "</div>"
      ],
      "text/plain": [
       "        Equation     Source Cluster_label  Id  \\\n",
       "0  \\mathrm{NaCl}  chemistry     chemistry   2   \n",
       "1    \\mathrm{Cl}  chemistry     chemistry   2   \n",
       "2  \\mathrm{Cl^-}  chemistry     chemistry   2   \n",
       "3    \\mathrm{Na}  chemistry     chemistry   2   \n",
       "4  \\mathrm{Na^+}  chemistry     chemistry   2   \n",
       "\n",
       "                                                Tags  \n",
       "0  <ions><crystal-structure><ionic-compounds><sol...  \n",
       "1  <ions><crystal-structure><ionic-compounds><sol...  \n",
       "2  <ions><crystal-structure><ionic-compounds><sol...  \n",
       "3  <ions><crystal-structure><ionic-compounds><sol...  \n",
       "4  <ions><crystal-structure><ionic-compounds><sol...  "
      ]
     },
     "execution_count": 10,
     "metadata": {},
     "output_type": "execute_result"
    }
   ],
   "source": [
    "train_df.head()"
   ]
  },
  {
   "cell_type": "code",
   "execution_count": 11,
   "metadata": {},
   "outputs": [],
   "source": [
    "class Tokenizer:\n",
    "    \"\"\"Convert chars to ints\"\"\"\n",
    "    def __init__(self):\n",
    "        self.UNK = '<UNK>'  # Unknown\n",
    "        self.BOS = '<BOS>'  # Begin of string\n",
    "        self.EOS = '<EOS>'  # End of string\n",
    "        self.PAD = '<PAD>'  # Padding\n",
    "        self.char_to_idx = dict()\n",
    "        self.idx_to_char = dict()\n",
    "        self.vocab = []\n",
    "        \n",
    "        self.specials = [self.PAD, self.BOS, self.EOS, self.UNK]\n",
    "        for c in self.specials: self.add(c)\n",
    "        \n",
    "    \n",
    "    def __getitem__(self, c: str):\n",
    "        try:\n",
    "            return self.char_to_idx[c]\n",
    "        except KeyError:\n",
    "            return self.char_to_idx[self.UNK]\n",
    "    \n",
    "    def fit(self, sequences):\n",
    "        \"\"\"Create the vocab from a sequence of strings\"\"\"\n",
    "        chars = set.union(*map(set, sequences))\n",
    "        for char in chars: self.add(char)\n",
    "\n",
    "    def add(self, c: str):\n",
    "        \"\"\"Add the character if its not in the vocab, else do nothing\"\"\"\n",
    "        if self.char_to_idx.get(c) is None:\n",
    "            self.char_to_idx[c] = len(self.vocab)\n",
    "            self.idx_to_char[len(self.vocab)] = c\n",
    "            self.vocab.append(c)\n",
    "        return len(self.vocab)\n",
    "\n",
    "    \n",
    "def encode_sequence(seq, tokenizer):\n",
    "    return [tokenizer[tokenizer.BOS]] + [tokenizer[c] for c in seq] + [tokenizer[tokenizer.EOS]]"
   ]
  },
  {
   "cell_type": "code",
   "execution_count": 12,
   "metadata": {},
   "outputs": [
    {
     "name": "stderr",
     "output_type": "stream",
     "text": [
      "/home/mdogan/miniconda3/lib/python3.7/site-packages/ipykernel_launcher.py:7: SettingWithCopyWarning: \n",
      "A value is trying to be set on a copy of a slice from a DataFrame.\n",
      "Try using .loc[row_indexer,col_indexer] = value instead\n",
      "\n",
      "See the caveats in the documentation: http://pandas.pydata.org/pandas-docs/stable/user_guide/indexing.html#returning-a-view-versus-a-copy\n",
      "  import sys\n",
      "/home/mdogan/miniconda3/lib/python3.7/site-packages/ipykernel_launcher.py:11: SettingWithCopyWarning: \n",
      "A value is trying to be set on a copy of a slice from a DataFrame.\n",
      "Try using .loc[row_indexer,col_indexer] = value instead\n",
      "\n",
      "See the caveats in the documentation: http://pandas.pydata.org/pandas-docs/stable/user_guide/indexing.html#returning-a-view-versus-a-copy\n",
      "  # This is added back by InteractiveShellApp.init_path()\n",
      "/home/mdogan/miniconda3/lib/python3.7/site-packages/ipykernel_launcher.py:18: SettingWithCopyWarning: \n",
      "A value is trying to be set on a copy of a slice from a DataFrame.\n",
      "Try using .loc[row_indexer,col_indexer] = value instead\n",
      "\n",
      "See the caveats in the documentation: http://pandas.pydata.org/pandas-docs/stable/user_guide/indexing.html#returning-a-view-versus-a-copy\n"
     ]
    }
   ],
   "source": [
    "tokenizer = Tokenizer()\n",
    "tokenizer.fit(train_df.Equation)\n",
    "\n",
    "# convert string to list of int\n",
    "train_df['seq'] = train_df.Equation.apply(encode_sequence, args=(tokenizer,))\n",
    "val_df['seq'] = val_df.Equation.apply(encode_sequence, args=(tokenizer,))\n",
    "test_df['seq'] = test_df.Equation.apply(encode_sequence, args=(tokenizer,))\n",
    "\n",
    "train_df['length'] = train_df.seq.apply(len)\n",
    "val_df['length'] = val_df.seq.apply(len)\n",
    "test_df['length'] = test_df.seq.apply(len)\n",
    "\n",
    "labels = train_df.Cluster_label.unique()\n",
    "label_map = {label: i for i, label in enumerate(labels)}\n",
    "\n",
    "train_df['Label'] = train_df.Cluster_label.map(label_map)\n",
    "val_df['Label'] = val_df.Cluster_label.map(label_map)\n",
    "test_df['Label'] = test_df.Cluster_label.map(label_map)\n"
   ]
  },
  {
   "cell_type": "code",
   "execution_count": 13,
   "metadata": {},
   "outputs": [
    {
     "data": {
      "text/plain": [
       "[1, 331, 61, 118, 137, 2]"
      ]
     },
     "execution_count": 13,
     "metadata": {},
     "output_type": "execute_result"
    }
   ],
   "source": [
    "encode_sequence('1234', tokenizer)"
   ]
  },
  {
   "cell_type": "code",
   "execution_count": 14,
   "metadata": {},
   "outputs": [
    {
     "data": {
      "text/plain": [
       "137"
      ]
     },
     "execution_count": 14,
     "metadata": {},
     "output_type": "execute_result"
    }
   ],
   "source": [
    "tokenizer['4']"
   ]
  },
  {
   "cell_type": "code",
   "execution_count": 15,
   "metadata": {},
   "outputs": [
    {
     "data": {
      "text/plain": [
       "337"
      ]
     },
     "execution_count": 15,
     "metadata": {},
     "output_type": "execute_result"
    }
   ],
   "source": [
    "len(tokenizer.vocab)"
   ]
  },
  {
   "cell_type": "code",
   "execution_count": 16,
   "metadata": {},
   "outputs": [
    {
     "data": {
      "text/plain": [
       "{'chemistry': 0,\n",
       " 'physics-everything-else': 1,\n",
       " 'physics-quantum-mechanics': 2,\n",
       " 'quantum-field-theory': 3,\n",
       " 'biology': 4}"
      ]
     },
     "execution_count": 16,
     "metadata": {},
     "output_type": "execute_result"
    }
   ],
   "source": [
    "label_map"
   ]
  },
  {
   "cell_type": "code",
   "execution_count": 17,
   "metadata": {},
   "outputs": [
    {
     "data": {
      "text/html": [
       "<div>\n",
       "<style scoped>\n",
       "    .dataframe tbody tr th:only-of-type {\n",
       "        vertical-align: middle;\n",
       "    }\n",
       "\n",
       "    .dataframe tbody tr th {\n",
       "        vertical-align: top;\n",
       "    }\n",
       "\n",
       "    .dataframe thead th {\n",
       "        text-align: right;\n",
       "    }\n",
       "</style>\n",
       "<table border=\"1\" class=\"dataframe\">\n",
       "  <thead>\n",
       "    <tr style=\"text-align: right;\">\n",
       "      <th></th>\n",
       "      <th>Equation</th>\n",
       "      <th>Source</th>\n",
       "      <th>Cluster_label</th>\n",
       "      <th>Id</th>\n",
       "      <th>Tags</th>\n",
       "      <th>seq</th>\n",
       "      <th>length</th>\n",
       "      <th>Label</th>\n",
       "    </tr>\n",
       "  </thead>\n",
       "  <tbody>\n",
       "    <tr>\n",
       "      <th>654016</th>\n",
       "      <td>W_{A_{12}}=W_{A_{22}}</td>\n",
       "      <td>biology</td>\n",
       "      <td>biology</td>\n",
       "      <td>68143</td>\n",
       "      <td>NaN</td>\n",
       "      <td>[1, 51, 294, 72, 315, 294, 72, 331, 61, 93, 93...</td>\n",
       "      <td>23</td>\n",
       "      <td>4</td>\n",
       "    </tr>\n",
       "    <tr>\n",
       "      <th>272610</th>\n",
       "      <td>E_n = \\hbar\\omega(n + 1/2)</td>\n",
       "      <td>physics</td>\n",
       "      <td>physics-everything-else</td>\n",
       "      <td>98952</td>\n",
       "      <td>&lt;homework-and-exercises&gt;&lt;statistical-mechanics&gt;</td>\n",
       "      <td>[1, 193, 294, 197, 302, 308, 302, 152, 209, 12...</td>\n",
       "      <td>28</td>\n",
       "      <td>1</td>\n",
       "    </tr>\n",
       "    <tr>\n",
       "      <th>270387</th>\n",
       "      <td>\\frac{\\vec\\mu_1\\cdot\\vec\\mu_2}{R^3}-3\\frac{(\\v...</td>\n",
       "      <td>physics</td>\n",
       "      <td>physics-quantum-mechanics</td>\n",
       "      <td>95652</td>\n",
       "      <td>&lt;quantum-mechanics&gt;&lt;statistical-mechanics&gt;&lt;isi...</td>\n",
       "      <td>[1, 152, 332, 250, 17, 210, 72, 152, 15, 334, ...</td>\n",
       "      <td>96</td>\n",
       "      <td>2</td>\n",
       "    </tr>\n",
       "    <tr>\n",
       "      <th>287234</th>\n",
       "      <td>(-\\nabla^2 - E) \\psi(x, y) = 0</td>\n",
       "      <td>physics</td>\n",
       "      <td>physics-everything-else</td>\n",
       "      <td>113761</td>\n",
       "      <td>&lt;homework-and-exercises&gt;&lt;greens-functions&gt;</td>\n",
       "      <td>[1, 299, 183, 152, 197, 17, 120, 59, 17, 203, ...</td>\n",
       "      <td>32</td>\n",
       "      <td>1</td>\n",
       "    </tr>\n",
       "    <tr>\n",
       "      <th>142026</th>\n",
       "      <td>\\pu{800°C}</td>\n",
       "      <td>chemistry</td>\n",
       "      <td>chemistry</td>\n",
       "      <td>81481</td>\n",
       "      <td>NaN</td>\n",
       "      <td>[1, 152, 104, 318, 72, 143, 159, 159, 160, 60,...</td>\n",
       "      <td>12</td>\n",
       "      <td>0</td>\n",
       "    </tr>\n",
       "    <tr>\n",
       "      <th>45365</th>\n",
       "      <td>\\Delta E \\space</td>\n",
       "      <td>chemistry</td>\n",
       "      <td>chemistry</td>\n",
       "      <td>28187</td>\n",
       "      <td>NaN</td>\n",
       "      <td>[1, 152, 276, 334, 59, 40, 17, 302, 193, 302, ...</td>\n",
       "      <td>18</td>\n",
       "      <td>0</td>\n",
       "    </tr>\n",
       "    <tr>\n",
       "      <th>618832</th>\n",
       "      <td>a_i = (\\phi_i,\\phi)</td>\n",
       "      <td>physics</td>\n",
       "      <td>quantum-field-theory</td>\n",
       "      <td>463350</td>\n",
       "      <td>&lt;quantum-field-theory&gt;&lt;regularization&gt;&lt;functio...</td>\n",
       "      <td>[1, 17, 294, 293, 302, 308, 302, 299, 152, 104...</td>\n",
       "      <td>21</td>\n",
       "      <td>3</td>\n",
       "    </tr>\n",
       "    <tr>\n",
       "      <th>211774</th>\n",
       "      <td>a=1</td>\n",
       "      <td>physics</td>\n",
       "      <td>physics-quantum-mechanics</td>\n",
       "      <td>23183</td>\n",
       "      <td>&lt;quantum-mechanics&gt;&lt;quantum-information&gt;&lt;quant...</td>\n",
       "      <td>[1, 17, 308, 331, 2]</td>\n",
       "      <td>5</td>\n",
       "      <td>2</td>\n",
       "    </tr>\n",
       "    <tr>\n",
       "      <th>374227</th>\n",
       "      <td>k_a=\\nabla_au</td>\n",
       "      <td>physics</td>\n",
       "      <td>physics-everything-else</td>\n",
       "      <td>219487</td>\n",
       "      <td>&lt;general-relativity&gt;&lt;differential-geometry&gt;&lt;ge...</td>\n",
       "      <td>[1, 85, 294, 17, 308, 152, 197, 17, 120, 59, 1...</td>\n",
       "      <td>15</td>\n",
       "      <td>1</td>\n",
       "    </tr>\n",
       "    <tr>\n",
       "      <th>37105</th>\n",
       "      <td>E_\\text{a} = 53\\,568.49\\ \\mathrm{J/mol}</td>\n",
       "      <td>chemistry</td>\n",
       "      <td>chemistry</td>\n",
       "      <td>22158</td>\n",
       "      <td>NaN</td>\n",
       "      <td>[1, 193, 294, 152, 40, 334, 49, 40, 72, 17, 93...</td>\n",
       "      <td>41</td>\n",
       "      <td>0</td>\n",
       "    </tr>\n",
       "  </tbody>\n",
       "</table>\n",
       "</div>"
      ],
      "text/plain": [
       "                                                 Equation     Source  \\\n",
       "654016                              W_{A_{12}}=W_{A_{22}}    biology   \n",
       "272610                         E_n = \\hbar\\omega(n + 1/2)    physics   \n",
       "270387  \\frac{\\vec\\mu_1\\cdot\\vec\\mu_2}{R^3}-3\\frac{(\\v...    physics   \n",
       "287234                     (-\\nabla^2 - E) \\psi(x, y) = 0    physics   \n",
       "142026                                         \\pu{800°C}  chemistry   \n",
       "45365                                    \\Delta E \\space   chemistry   \n",
       "618832                                a_i = (\\phi_i,\\phi)    physics   \n",
       "211774                                                a=1    physics   \n",
       "374227                                      k_a=\\nabla_au    physics   \n",
       "37105             E_\\text{a} = 53\\,568.49\\ \\mathrm{J/mol}  chemistry   \n",
       "\n",
       "                    Cluster_label      Id  \\\n",
       "654016                    biology   68143   \n",
       "272610    physics-everything-else   98952   \n",
       "270387  physics-quantum-mechanics   95652   \n",
       "287234    physics-everything-else  113761   \n",
       "142026                  chemistry   81481   \n",
       "45365                   chemistry   28187   \n",
       "618832       quantum-field-theory  463350   \n",
       "211774  physics-quantum-mechanics   23183   \n",
       "374227    physics-everything-else  219487   \n",
       "37105                   chemistry   22158   \n",
       "\n",
       "                                                     Tags  \\\n",
       "654016                                                NaN   \n",
       "272610    <homework-and-exercises><statistical-mechanics>   \n",
       "270387  <quantum-mechanics><statistical-mechanics><isi...   \n",
       "287234         <homework-and-exercises><greens-functions>   \n",
       "142026                                                NaN   \n",
       "45365                                                 NaN   \n",
       "618832  <quantum-field-theory><regularization><functio...   \n",
       "211774  <quantum-mechanics><quantum-information><quant...   \n",
       "374227  <general-relativity><differential-geometry><ge...   \n",
       "37105                                                 NaN   \n",
       "\n",
       "                                                      seq  length  Label  \n",
       "654016  [1, 51, 294, 72, 315, 294, 72, 331, 61, 93, 93...      23      4  \n",
       "272610  [1, 193, 294, 197, 302, 308, 302, 152, 209, 12...      28      1  \n",
       "270387  [1, 152, 332, 250, 17, 210, 72, 152, 15, 334, ...      96      2  \n",
       "287234  [1, 299, 183, 152, 197, 17, 120, 59, 17, 203, ...      32      1  \n",
       "142026  [1, 152, 104, 318, 72, 143, 159, 159, 160, 60,...      12      0  \n",
       "45365   [1, 152, 276, 334, 59, 40, 17, 302, 193, 302, ...      18      0  \n",
       "618832  [1, 17, 294, 293, 302, 308, 302, 299, 152, 104...      21      3  \n",
       "211774                               [1, 17, 308, 331, 2]       5      2  \n",
       "374227  [1, 85, 294, 17, 308, 152, 197, 17, 120, 59, 1...      15      1  \n",
       "37105   [1, 193, 294, 152, 40, 334, 49, 40, 72, 17, 93...      41      0  "
      ]
     },
     "execution_count": 17,
     "metadata": {},
     "output_type": "execute_result"
    }
   ],
   "source": [
    "train_df.sample(10)"
   ]
  },
  {
   "cell_type": "code",
   "execution_count": 18,
   "metadata": {},
   "outputs": [],
   "source": [
    "class DataGenerator(utils.Sequence):\n",
    "    def __init__(self, df, batch_size: int = 32, shuffle: bool = False, weight: bool = False, n_class: int = 3):\n",
    "        self.df = df\n",
    "        self.batch_size = batch_size\n",
    "        self.shuffle = shuffle\n",
    "        self.weight = weight\n",
    "        self.n_class = n_class\n",
    "        self.class_weight =  self.compute_class_weight(self.n_class) if self.weight else np.ones((self.n_class,))\n",
    "        \n",
    "        if self.shuffle:\n",
    "            self.df = self.df.sample(frac=1)\n",
    "            \n",
    "\n",
    "    def get_data_at_index(self, batch_idx):\n",
    "        offset = self.batch_size * batch_idx\n",
    "        return self.df.iloc[offset: offset+self.batch_size]\n",
    "    \n",
    "    def __getitem__(self, batch_idx: int):\n",
    "        batch = self.get_data_at_index(batch_idx)\n",
    "        if self.shuffle:\n",
    "            batch = batch.sample(frac=1)\n",
    "\n",
    "        X = sequence.pad_sequences(\n",
    "            batch.seq,\n",
    "            maxlen=min( max(batch.length), 32),\n",
    "            truncating='post',\n",
    "        )\n",
    "        Y = batch.Label.values\n",
    "        w = np.array([self.class_weight[label] for label in Y])\n",
    "        return X, Y, w\n",
    "    \n",
    "    def on_epoch_end(self):\n",
    "        if self.shuffle:\n",
    "            self.df = self.df.sample(frac=1)\n",
    "            \n",
    "    def __len__(self):\n",
    "        return int(np.ceil( self.df.shape[0] / self.batch_size ))\n",
    "    \n",
    "    def compute_class_weight(self, n_classes):\n",
    "        n_samples = self.df.shape[0]\n",
    "        return n_samples / (n_classes * np.bincount(self.df.Label.values))\n"
   ]
  },
  {
   "cell_type": "code",
   "execution_count": 19,
   "metadata": {},
   "outputs": [],
   "source": [
    "class Mask(layers.Layer):\n",
    "    def call(self, inputs):\n",
    "        value = tf.cast(0, dtype=inputs.dtype)\n",
    "        is_zero = tf.equal(inputs, value)\n",
    "        return tf.cast(tf.logical_not(is_zero), tf.float32)\n",
    "\n",
    "        \n",
    "class ApplyMask(layers.Layer):\n",
    "    def call(self, inputs):\n",
    "        data, mask = inputs\n",
    "        mask = tf.expand_dims(mask, axis=-1)  # (N, T, 1)\n",
    "        return tf.multiply(data, mask)"
   ]
  },
  {
   "cell_type": "code",
   "execution_count": 20,
   "metadata": {},
   "outputs": [],
   "source": [
    "def clf_model(tokenizer, emb, n_kernels, kernel_width, n_class):\n",
    "    \n",
    "    # define layers\n",
    "    input = layers.Input(batch_shape=(None, None))  # (N, T)\n",
    "    embedding_layer = layers.Embedding(len(tokenizer.vocab), emb, mask_zero=False, name='embedding')  # (N, T, emb)\n",
    "    mask_layer = Mask(name='mask')  # (N, T)\n",
    "    conv_layer = layers.Conv1D(\n",
    "        n_kernels, kernel_width, \n",
    "        activation='tanh',\n",
    "        kernel_initializer='he_normal',\n",
    "        padding='same',\n",
    "        name='conv'\n",
    "    )  # (N, T, n_kernels), selects 3-grams\n",
    "    apply_mask_layer = ApplyMask(name='apply_mask')  # (N, T, n_kernels), zero the timesteps that were padding\n",
    "    rnn_layer = layers.LSTM(n_kernels, name='rnn') # (N, e)\n",
    "    softmax_layer = layers.Dense(n_class, activation='softmax', name='output')\n",
    "    \n",
    "    # call layers\n",
    "    embedding = embedding_layer(input)\n",
    "    mask = mask_layer(input)\n",
    "    conv = conv_layer(embedding)\n",
    "    conv = apply_mask_layer([conv, mask])\n",
    "    encoded = rnn_layer(conv)\n",
    "    output = softmax_layer(encoded)\n",
    "    model = models.Model(input, output)\n",
    "    return model\n",
    "    \n",
    "def compile_model(model):\n",
    "    model.compile(\n",
    "        loss='sparse_categorical_crossentropy',\n",
    "        optimizer='adam',\n",
    "        metrics=['sparse_categorical_accuracy']\n",
    "    )\n"
   ]
  },
  {
   "cell_type": "code",
   "execution_count": 21,
   "metadata": {},
   "outputs": [],
   "source": [
    "# ensure balanced classes\n",
    "# N_train = train_df.groupby('source').count().values.min()\n",
    "# N_val = val_df.groupby('source').count().values.min()\n",
    "\n",
    "# small_df = pd.concat([train_df[train_df.label==l].sample(N_train, replace=False) for l in range(3)])\n",
    "# small_val_df = pd.concat([val_df[val_df.label==l].sample(N_val, replace=False) for l in range(3)])\n"
   ]
  },
  {
   "cell_type": "markdown",
   "metadata": {},
   "source": [
    "# model1: clustersize = 5, batch_size = 1024, emb = 32, n_kernels = 128, kernel_width = 3, epochs = 16"
   ]
  },
  {
   "cell_type": "code",
   "execution_count": 22,
   "metadata": {},
   "outputs": [],
   "source": [
    "batch_size = 1024\n",
    "n_class = 5\n",
    "train_dg = DataGenerator(train_df, batch_size=batch_size, shuffle=True, weight=True, n_class = n_class)\n",
    "val_dg = DataGenerator(val_df, batch_size=batch_size, shuffle=False, weight=False, n_class = n_class)"
   ]
  },
  {
   "cell_type": "code",
   "execution_count": 23,
   "metadata": {},
   "outputs": [],
   "source": [
    "emb = 32\n",
    "n_kernels = 128\n",
    "kernel_width = 3"
   ]
  },
  {
   "cell_type": "code",
   "execution_count": 24,
   "metadata": {},
   "outputs": [
    {
     "name": "stderr",
     "output_type": "stream",
     "text": [
      "W0815 19:08:23.104248 140013776791296 deprecation.py:506] From /home/mdogan/miniconda3/lib/python3.7/site-packages/tensorflow/python/keras/initializers.py:119: calling RandomUniform.__init__ (from tensorflow.python.ops.init_ops) with dtype is deprecated and will be removed in a future version.\n",
      "Instructions for updating:\n",
      "Call initializer instance with the dtype argument instead of passing it to the constructor\n",
      "W0815 19:08:23.107206 140013776791296 deprecation.py:506] From /home/mdogan/miniconda3/lib/python3.7/site-packages/tensorflow/python/ops/init_ops.py:1251: calling VarianceScaling.__init__ (from tensorflow.python.ops.init_ops) with dtype is deprecated and will be removed in a future version.\n",
      "Instructions for updating:\n",
      "Call initializer instance with the dtype argument instead of passing it to the constructor\n"
     ]
    },
    {
     "name": "stdout",
     "output_type": "stream",
     "text": [
      "Model: \"model\"\n",
      "__________________________________________________________________________________________________\n",
      "Layer (type)                    Output Shape         Param #     Connected to                     \n",
      "==================================================================================================\n",
      "input_1 (InputLayer)            [(None, None)]       0                                            \n",
      "__________________________________________________________________________________________________\n",
      "embedding (Embedding)           (None, None, 32)     10784       input_1[0][0]                    \n",
      "__________________________________________________________________________________________________\n",
      "conv (Conv1D)                   (None, None, 128)    12416       embedding[0][0]                  \n",
      "__________________________________________________________________________________________________\n",
      "mask (Mask)                     (None, None)         0           input_1[0][0]                    \n",
      "__________________________________________________________________________________________________\n",
      "apply_mask (ApplyMask)          (None, None, 128)    0           conv[0][0]                       \n",
      "                                                                 mask[0][0]                       \n",
      "__________________________________________________________________________________________________\n",
      "rnn (LSTM)                      (None, 128)          131584      apply_mask[0][0]                 \n",
      "__________________________________________________________________________________________________\n",
      "output (Dense)                  (None, 5)            645         rnn[0][0]                        \n",
      "==================================================================================================\n",
      "Total params: 155,429\n",
      "Trainable params: 155,429\n",
      "Non-trainable params: 0\n",
      "__________________________________________________________________________________________________\n",
      "None\n"
     ]
    }
   ],
   "source": [
    "model = clf_model(tokenizer, emb, n_kernels, kernel_width, n_class)  # initialize the weights\n",
    "compile_model(model)  # set the loss fn and optimizer\n",
    "print(model.summary())  # check the number of parameters\n"
   ]
  },
  {
   "cell_type": "code",
   "execution_count": 25,
   "metadata": {},
   "outputs": [],
   "source": [
    "model.save('../result/model/model1_cluster5_epoch16.h5')"
   ]
  },
  {
   "cell_type": "code",
   "execution_count": 26,
   "metadata": {},
   "outputs": [
    {
     "name": "stderr",
     "output_type": "stream",
     "text": [
      "W0815 19:08:27.654284 140013776791296 deprecation.py:323] From /home/mdogan/miniconda3/lib/python3.7/site-packages/tensorflow/python/ops/math_grad.py:1250: add_dispatch_support.<locals>.wrapper (from tensorflow.python.ops.array_ops) is deprecated and will be removed in a future version.\n",
      "Instructions for updating:\n",
      "Use tf.where in 2.0, which has the same broadcast rule as np.where\n"
     ]
    },
    {
     "name": "stdout",
     "output_type": "stream",
     "text": [
      "Epoch 1/16\n",
      "264/264 [==============================] - 17s 66ms/step - loss: 1.3179 - sparse_categorical_accuracy: 0.3727 - val_loss: 1.3394 - val_sparse_categorical_accuracy: 0.3910\n",
      "Epoch 2/16\n",
      "264/264 [==============================] - 14s 53ms/step - loss: 1.2133 - sparse_categorical_accuracy: 0.4478 - val_loss: 1.2420 - val_sparse_categorical_accuracy: 0.4483\n",
      "Epoch 3/16\n",
      "264/264 [==============================] - 14s 53ms/step - loss: 1.1768 - sparse_categorical_accuracy: 0.4608 - val_loss: 1.2272 - val_sparse_categorical_accuracy: 0.4472\n",
      "Epoch 4/16\n",
      "264/264 [==============================] - 14s 53ms/step - loss: 1.1460 - sparse_categorical_accuracy: 0.4793 - val_loss: 1.2119 - val_sparse_categorical_accuracy: 0.4645\n",
      "Epoch 5/16\n",
      "264/264 [==============================] - 14s 53ms/step - loss: 1.1138 - sparse_categorical_accuracy: 0.4899 - val_loss: 1.1323 - val_sparse_categorical_accuracy: 0.5134\n",
      "Epoch 6/16\n",
      "264/264 [==============================] - 14s 53ms/step - loss: 1.0834 - sparse_categorical_accuracy: 0.5020 - val_loss: 1.1538 - val_sparse_categorical_accuracy: 0.5055\n",
      "Epoch 7/16\n",
      "264/264 [==============================] - 14s 54ms/step - loss: 1.0541 - sparse_categorical_accuracy: 0.5161 - val_loss: 1.1344 - val_sparse_categorical_accuracy: 0.5167\n",
      "Epoch 8/16\n",
      "264/264 [==============================] - 14s 53ms/step - loss: 1.0286 - sparse_categorical_accuracy: 0.5236 - val_loss: 1.1136 - val_sparse_categorical_accuracy: 0.5232\n",
      "Epoch 9/16\n",
      "264/264 [==============================] - 14s 53ms/step - loss: 1.0009 - sparse_categorical_accuracy: 0.5355 - val_loss: 1.1308 - val_sparse_categorical_accuracy: 0.5136\n",
      "Epoch 10/16\n",
      "264/264 [==============================] - 14s 54ms/step - loss: 0.9754 - sparse_categorical_accuracy: 0.5429 - val_loss: 1.1141 - val_sparse_categorical_accuracy: 0.5233\n",
      "Epoch 11/16\n",
      "264/264 [==============================] - 14s 53ms/step - loss: 0.9526 - sparse_categorical_accuracy: 0.5509 - val_loss: 1.0562 - val_sparse_categorical_accuracy: 0.5547\n",
      "Epoch 12/16\n",
      "264/264 [==============================] - 14s 53ms/step - loss: 0.9269 - sparse_categorical_accuracy: 0.5603 - val_loss: 1.0996 - val_sparse_categorical_accuracy: 0.5290\n",
      "Epoch 13/16\n",
      "264/264 [==============================] - 14s 53ms/step - loss: 0.9070 - sparse_categorical_accuracy: 0.5662 - val_loss: 1.0851 - val_sparse_categorical_accuracy: 0.5437\n",
      "Epoch 14/16\n",
      "264/264 [==============================] - 14s 53ms/step - loss: 0.8878 - sparse_categorical_accuracy: 0.5724 - val_loss: 1.0785 - val_sparse_categorical_accuracy: 0.5403\n",
      "Epoch 15/16\n",
      "264/264 [==============================] - 14s 54ms/step - loss: 0.8671 - sparse_categorical_accuracy: 0.5787 - val_loss: 1.0840 - val_sparse_categorical_accuracy: 0.5440\n",
      "Epoch 16/16\n",
      "264/264 [==============================] - 14s 53ms/step - loss: 0.8468 - sparse_categorical_accuracy: 0.5859 - val_loss: 1.0822 - val_sparse_categorical_accuracy: 0.5450\n"
     ]
    }
   ],
   "source": [
    "history = model.fit_generator(\n",
    "    train_dg,\n",
    "    validation_data=val_dg,\n",
    "    epochs=16,\n",
    "    workers=4,\n",
    "    use_multiprocessing=True\n",
    ")"
   ]
  },
  {
   "cell_type": "code",
   "execution_count": 27,
   "metadata": {},
   "outputs": [
    {
     "data": {
      "image/png": "[encoded data removed]",
      "text/plain": [
       "<Figure size 432x288 with 1 Axes>"
      ]
     },
     "metadata": {
      "needs_background": "light"
     },
     "output_type": "display_data"
    }
   ],
   "source": [
    "%matplotlib inline\n",
    "plt.plot(history.history['loss'], label='training')\n",
    "plt.plot(history.history['val_loss'], label='validation')\n",
    "plt.legend()\n",
    "plt.show()\n"
   ]
  },
  {
   "cell_type": "markdown",
   "metadata": {},
   "source": [
    "# save loss data"
   ]
  },
  {
   "cell_type": "code",
   "execution_count": 28,
   "metadata": {},
   "outputs": [],
   "source": [
    "import pickle"
   ]
  },
  {
   "cell_type": "code",
   "execution_count": 29,
   "metadata": {},
   "outputs": [],
   "source": [
    "with open('../result/loss/model1_cluster5_epoch16', 'wb') as file_pi:\n",
    "        pickle.dump(history.history, file_pi)"
   ]
  },
  {
   "cell_type": "code",
   "execution_count": 30,
   "metadata": {},
   "outputs": [],
   "source": [
    "file = open('../result/loss/model1_cluster5_epoch16', 'rb')\n",
    "data = pickle.load(file)"
   ]
  },
  {
   "cell_type": "markdown",
   "metadata": {},
   "source": [
    "# Evaluation"
   ]
  },
  {
   "cell_type": "markdown",
   "metadata": {
    "heading_collapsed": true
   },
   "source": [
    "## evaluation tools"
   ]
  },
  {
   "cell_type": "code",
   "execution_count": 38,
   "metadata": {
    "hidden": true
   },
   "outputs": [],
   "source": [
    "import itertools\n",
    "from sklearn.metrics import confusion_matrix\n",
    "from sklearn.utils.multiclass import unique_labels\n",
    "import matplotlib.pyplot as plt\n",
    "\n",
    "%matplotlib notebook\n",
    "\n",
    "def plot_confusion_matrix(y_true, y_pred, classes, name,\n",
    "                          normalize=False,\n",
    "                          title=None,\n",
    "                          cmap=plt.cm.Blues):\n",
    "    if not title:\n",
    "        if normalize:\n",
    "            title = 'Normalized confusion matrix'\n",
    "        else:\n",
    "            title = 'Confusion matrix, without normalization'\n",
    "\n",
    "    # Compute confusion matrix\n",
    "    cm = confusion_matrix(y_true, y_pred)\n",
    "    # Only use the labels that appear in the data\n",
    "    classes = classes[unique_labels(y_true, y_pred)]\n",
    "    if normalize:\n",
    "        cm = cm.astype('float') / cm.sum(axis=1)[:, np.newaxis]\n",
    "        print(\"Normalized confusion matrix\")\n",
    "    else:\n",
    "        print('Confusion matrix, without normalization')\n",
    "\n",
    "    print(cm)\n",
    "\n",
    "    fig, ax = plt.subplots(figsize=(8, 8))\n",
    "    im = ax.imshow(cm, interpolation='nearest', cmap=cmap)\n",
    "    ax.figure.colorbar(im, ax=ax)\n",
    "    # We want to show all ticks...\n",
    "    ax.set(xticks=np.arange(cm.shape[1]),\n",
    "           yticks=np.arange(cm.shape[0]),\n",
    "           # ... and label them with the respective list entries\n",
    "           xticklabels=classes, yticklabels=classes,\n",
    "           title=title,\n",
    "           ylabel='True label',\n",
    "           xlabel='Predicted label')\n",
    "\n",
    "    # Rotate the tick labels and set their alignment.\n",
    "    plt.setp(ax.get_xticklabels(), rotation=45, ha=\"right\",\n",
    "             rotation_mode=\"anchor\")\n",
    "\n",
    "    # Loop over data dimensions and create text annotations.\n",
    "    fmt = '.2f' if normalize else 'd'\n",
    "    thresh = cm.max() / 2.\n",
    "    for i in range(cm.shape[0]):\n",
    "        for j in range(cm.shape[1]):\n",
    "            ax.text(j, i, format(cm[i, j], fmt),\n",
    "                    ha=\"center\", va=\"center\",\n",
    "                    color=\"white\" if cm[i, j] > thresh else \"black\")\n",
    "    fig.tight_layout()\n",
    "    \n",
    "    plt.savefig('../result/confusion_matrix/' + name + '.png')\n",
    "    return ax"
   ]
  },
  {
   "cell_type": "code",
   "execution_count": 39,
   "metadata": {
    "hidden": true
   },
   "outputs": [],
   "source": [
    "def predict_on_df(model, df, batch_size, n_class):\n",
    "    dg = DataGenerator(df, batch_size=batch_size, shuffle=False, weight = False, n_class = n_class)\n",
    "    yhat = model.predict_generator(dg)\n",
    "    pred_index = yhat.argmax(axis=1)\n",
    "    pred_conf = yhat.max(axis=1)\n",
    "    df['pred_index'] = pred_index\n",
    "    df['pred_label'] = df.pred_index.apply(lambda x: list(label_map.keys())[x])\n",
    "    df['pred_conf'] = pred_conf\n",
    "    df['match'] = df['pred_index'] == df['Label']\n",
    "    return df\n",
    "\n",
    "\n",
    "def display_top_losses(prediction_df, k: int = 10):\n",
    "    wrong_condition = ~prediction_df.match\n",
    "    wrong_df = prediction_df[wrong_condition]\n",
    "    return wrong_df.sort_values('pred_conf', ascending=False).iloc[0:k][['Equation', 'pred_label', 'Cluster_label', 'pred_index', 'Label', 'pred_conf']]\n",
    "    \n",
    "def predict_from_str(equation, model, tokenizer):\n",
    "    X = np.array([encode_sequence(equation, tokenizer)])\n",
    "    yhat = model.predict(X)\n",
    "    pred_index = yhat.argmax()\n",
    "    label = [label for label, i in label_map.items() if i==pred_index][0]\n",
    "    return {\n",
    "        'yhat': yhat.tolist(),\n",
    "        'pred_index': pred_index,\n",
    "        'label': label\n",
    "           }"
   ]
  },
  {
   "cell_type": "markdown",
   "metadata": {},
   "source": [
    "## evaluate"
   ]
  },
  {
   "cell_type": "code",
   "execution_count": 40,
   "metadata": {},
   "outputs": [],
   "source": [
    "batch_size = 1024\n",
    "n_class = 5\n",
    "predictions = predict_on_df(model, val_df, batch_size, n_class)"
   ]
  },
  {
   "cell_type": "code",
   "execution_count": 44,
   "metadata": {},
   "outputs": [],
   "source": [
    "%matplotlib inline"
   ]
  },
  {
   "cell_type": "code",
   "execution_count": 45,
   "metadata": {
    "scrolled": true
   },
   "outputs": [
    {
     "name": "stdout",
     "output_type": "stream",
     "text": [
      "Confusion matrix, without normalization\n",
      "[[5161  689  438  442  713]\n",
      " [ 996 6541 2077 3201 1425]\n",
      " [ 100  547 2170  760  373]\n",
      " [  49  282  398 1287  166]\n",
      " [  83   60   32   30  245]]\n"
     ]
    },
    {
     "data": {
      "text/plain": [
       "<matplotlib.axes._subplots.AxesSubplot at 0x7f54a754f6d8>"
      ]
     },
     "execution_count": 45,
     "metadata": {},
     "output_type": "execute_result"
    },
    {
     "data": {
      "image/png": "[encoded data removed]",
      "text/plain": [
       "<Figure size 576x576 with 2 Axes>"
      ]
     },
     "metadata": {
      "needs_background": "light"
     },
     "output_type": "display_data"
    }
   ],
   "source": [
    "name = \"model1_cluster5_epoch128_1\"\n",
    "plot_confusion_matrix(predictions.Label, predictions.pred_index, np.array(list(label_map.keys())), name)\n"
   ]
  },
  {
   "cell_type": "code",
   "execution_count": 46,
   "metadata": {
    "scrolled": true
   },
   "outputs": [
    {
     "name": "stdout",
     "output_type": "stream",
     "text": [
      "Normalized confusion matrix\n",
      "[[0.6934032  0.0925702  0.05884724 0.05938466 0.09579471]\n",
      " [0.06994382 0.45933989 0.14585674 0.22478933 0.10007022]\n",
      " [0.02531646 0.13848101 0.54936709 0.19240506 0.09443038]\n",
      " [0.02245646 0.12923923 0.18240147 0.58982585 0.07607699]\n",
      " [0.18444444 0.13333333 0.07111111 0.06666667 0.54444444]]\n"
     ]
    },
    {
     "data": {
      "text/plain": [
       "<matplotlib.axes._subplots.AxesSubplot at 0x7f54a748e0f0>"
      ]
     },
     "execution_count": 46,
     "metadata": {},
     "output_type": "execute_result"
    },
    {
     "data": {
      "image/png": "[encoded data removed]",
      "text/plain": [
       "<Figure size 576x576 with 2 Axes>"
      ]
     },
     "metadata": {
      "needs_background": "light"
     },
     "output_type": "display_data"
    }
   ],
   "source": [
    "name = \"model1_cluster5_epoch128_2\"\n",
    "plot_confusion_matrix(predictions.Label, predictions.pred_index, np.array(list(label_map.keys())), name, normalize=True)\n"
   ]
  },
  {
   "cell_type": "code",
   "execution_count": 47,
   "metadata": {},
   "outputs": [
    {
     "data": {
      "text/plain": [
       "{'yhat': [[0.38748618960380554,\n",
       "   0.21728625893592834,\n",
       "   0.33957773447036743,\n",
       "   0.05234651640057564,\n",
       "   0.0033032973296940327]],\n",
       " 'pred_index': 0,\n",
       " 'label': 'chemistry'}"
      ]
     },
     "execution_count": 47,
     "metadata": {},
     "output_type": "execute_result"
    }
   ],
   "source": [
    "predict_from_str('H\\PSI = E\\PSI', model, tokenizer)"
   ]
  },
  {
   "cell_type": "code",
   "execution_count": 48,
   "metadata": {},
   "outputs": [
    {
     "data": {
      "text/html": [
       "<div>\n",
       "<style scoped>\n",
       "    .dataframe tbody tr th:only-of-type {\n",
       "        vertical-align: middle;\n",
       "    }\n",
       "\n",
       "    .dataframe tbody tr th {\n",
       "        vertical-align: top;\n",
       "    }\n",
       "\n",
       "    .dataframe thead th {\n",
       "        text-align: right;\n",
       "    }\n",
       "</style>\n",
       "<table border=\"1\" class=\"dataframe\">\n",
       "  <thead>\n",
       "    <tr style=\"text-align: right;\">\n",
       "      <th></th>\n",
       "      <th>Equation</th>\n",
       "      <th>pred_label</th>\n",
       "      <th>Cluster_label</th>\n",
       "      <th>pred_index</th>\n",
       "      <th>Label</th>\n",
       "      <th>pred_conf</th>\n",
       "    </tr>\n",
       "  </thead>\n",
       "  <tbody>\n",
       "    <tr>\n",
       "      <th>654596</th>\n",
       "      <td>\\ce{R1-S-S-R2 + R3-SH &amp;lt;=&amp;gt; R1-S-S-R3 + R2...</td>\n",
       "      <td>chemistry</td>\n",
       "      <td>biology</td>\n",
       "      <td>0</td>\n",
       "      <td>4</td>\n",
       "      <td>0.995662</td>\n",
       "    </tr>\n",
       "    <tr>\n",
       "      <th>402378</th>\n",
       "      <td>z\\left( {m + 1} \\right) = f\\left[ {z\\left( m \\...</td>\n",
       "      <td>biology</td>\n",
       "      <td>physics-everything-else</td>\n",
       "      <td>4</td>\n",
       "      <td>1</td>\n",
       "      <td>0.993719</td>\n",
       "    </tr>\n",
       "    <tr>\n",
       "      <th>654595</th>\n",
       "      <td>\\ce{HOCH2CH2-S-S-CH2CH2OH + HS-{Protein} &amp;lt;=...</td>\n",
       "      <td>chemistry</td>\n",
       "      <td>biology</td>\n",
       "      <td>0</td>\n",
       "      <td>4</td>\n",
       "      <td>0.993349</td>\n",
       "    </tr>\n",
       "    <tr>\n",
       "      <th>91774</th>\n",
       "      <td>\\hspace{13 mm}=4.0\\times10^{2}</td>\n",
       "      <td>biology</td>\n",
       "      <td>chemistry</td>\n",
       "      <td>4</td>\n",
       "      <td>0</td>\n",
       "      <td>0.993241</td>\n",
       "    </tr>\n",
       "    <tr>\n",
       "      <th>376865</th>\n",
       "      <td>N\\left(\\frac{2x}{q}\\right)^2= 1\\;\\; \\text{or} ...</td>\n",
       "      <td>biology</td>\n",
       "      <td>physics-everything-else</td>\n",
       "      <td>4</td>\n",
       "      <td>1</td>\n",
       "      <td>0.992067</td>\n",
       "    </tr>\n",
       "    <tr>\n",
       "      <th>346857</th>\n",
       "      <td>[t] = [K][V^a][A^b][C^c]</td>\n",
       "      <td>chemistry</td>\n",
       "      <td>physics-everything-else</td>\n",
       "      <td>0</td>\n",
       "      <td>1</td>\n",
       "      <td>0.991990</td>\n",
       "    </tr>\n",
       "    <tr>\n",
       "      <th>471553</th>\n",
       "      <td>Z_{\\mathrm{PBC}} = \\left( e^{\\beta J} + 1 \\rig...</td>\n",
       "      <td>chemistry</td>\n",
       "      <td>physics-everything-else</td>\n",
       "      <td>0</td>\n",
       "      <td>1</td>\n",
       "      <td>0.991033</td>\n",
       "    </tr>\n",
       "    <tr>\n",
       "      <th>204922</th>\n",
       "      <td>4NE_0p(1-p)</td>\n",
       "      <td>biology</td>\n",
       "      <td>physics-everything-else</td>\n",
       "      <td>4</td>\n",
       "      <td>1</td>\n",
       "      <td>0.990241</td>\n",
       "    </tr>\n",
       "    <tr>\n",
       "      <th>334546</th>\n",
       "      <td>^\\circ\\mathrm{C}^2</td>\n",
       "      <td>chemistry</td>\n",
       "      <td>physics-everything-else</td>\n",
       "      <td>0</td>\n",
       "      <td>1</td>\n",
       "      <td>0.987937</td>\n",
       "    </tr>\n",
       "    <tr>\n",
       "      <th>643676</th>\n",
       "      <td>V_{W/G}</td>\n",
       "      <td>biology</td>\n",
       "      <td>physics-everything-else</td>\n",
       "      <td>4</td>\n",
       "      <td>1</td>\n",
       "      <td>0.987759</td>\n",
       "    </tr>\n",
       "    <tr>\n",
       "      <th>651767</th>\n",
       "      <td>OH^• + CH_3OH \\rightarrow CH_2OH^• + H_2O</td>\n",
       "      <td>chemistry</td>\n",
       "      <td>biology</td>\n",
       "      <td>0</td>\n",
       "      <td>4</td>\n",
       "      <td>0.987576</td>\n",
       "    </tr>\n",
       "    <tr>\n",
       "      <th>651414</th>\n",
       "      <td>\\frac{\\ln{2}}{k_{\\text{off}}} \\approx 16116s \\...</td>\n",
       "      <td>chemistry</td>\n",
       "      <td>biology</td>\n",
       "      <td>0</td>\n",
       "      <td>4</td>\n",
       "      <td>0.986845</td>\n",
       "    </tr>\n",
       "    <tr>\n",
       "      <th>287698</th>\n",
       "      <td>(N-W)/(W/g)=a</td>\n",
       "      <td>biology</td>\n",
       "      <td>physics-everything-else</td>\n",
       "      <td>4</td>\n",
       "      <td>1</td>\n",
       "      <td>0.986597</td>\n",
       "    </tr>\n",
       "    <tr>\n",
       "      <th>367599</th>\n",
       "      <td>\\mathrm{^{228}Ra}</td>\n",
       "      <td>chemistry</td>\n",
       "      <td>physics-everything-else</td>\n",
       "      <td>0</td>\n",
       "      <td>1</td>\n",
       "      <td>0.985226</td>\n",
       "    </tr>\n",
       "    <tr>\n",
       "      <th>542958</th>\n",
       "      <td>V[x_l-x_l']\\approx \\sum_{l\\neq l'}V\\Big[\\frac{...</td>\n",
       "      <td>biology</td>\n",
       "      <td>physics-everything-else</td>\n",
       "      <td>4</td>\n",
       "      <td>1</td>\n",
       "      <td>0.984622</td>\n",
       "    </tr>\n",
       "    <tr>\n",
       "      <th>644117</th>\n",
       "      <td>121^\\circ \\mathrm{C})</td>\n",
       "      <td>chemistry</td>\n",
       "      <td>biology</td>\n",
       "      <td>0</td>\n",
       "      <td>4</td>\n",
       "      <td>0.984149</td>\n",
       "    </tr>\n",
       "    <tr>\n",
       "      <th>200838</th>\n",
       "      <td>[Ar] 4s^2 3d^{10} 4p^4</td>\n",
       "      <td>chemistry</td>\n",
       "      <td>physics-everything-else</td>\n",
       "      <td>0</td>\n",
       "      <td>1</td>\n",
       "      <td>0.984089</td>\n",
       "    </tr>\n",
       "    <tr>\n",
       "      <th>412539</th>\n",
       "      <td>p_{i}^{-}</td>\n",
       "      <td>biology</td>\n",
       "      <td>physics-everything-else</td>\n",
       "      <td>4</td>\n",
       "      <td>1</td>\n",
       "      <td>0.983931</td>\n",
       "    </tr>\n",
       "    <tr>\n",
       "      <th>447131</th>\n",
       "      <td>E[XY]=E[X]E[Y]</td>\n",
       "      <td>biology</td>\n",
       "      <td>physics-quantum-mechanics</td>\n",
       "      <td>4</td>\n",
       "      <td>2</td>\n",
       "      <td>0.983712</td>\n",
       "    </tr>\n",
       "    <tr>\n",
       "      <th>531932</th>\n",
       "      <td>\\mathrm{n_i = 1.5 \\times 10^{16} \\ m^{-3}}</td>\n",
       "      <td>chemistry</td>\n",
       "      <td>physics-everything-else</td>\n",
       "      <td>0</td>\n",
       "      <td>1</td>\n",
       "      <td>0.982358</td>\n",
       "    </tr>\n",
       "  </tbody>\n",
       "</table>\n",
       "</div>"
      ],
      "text/plain": [
       "                                                 Equation pred_label  \\\n",
       "654596  \\ce{R1-S-S-R2 + R3-SH &lt;=&gt; R1-S-S-R3 + R2...  chemistry   \n",
       "402378  z\\left( {m + 1} \\right) = f\\left[ {z\\left( m \\...    biology   \n",
       "654595  \\ce{HOCH2CH2-S-S-CH2CH2OH + HS-{Protein} &lt;=...  chemistry   \n",
       "91774                      \\hspace{13 mm}=4.0\\times10^{2}    biology   \n",
       "376865  N\\left(\\frac{2x}{q}\\right)^2= 1\\;\\; \\text{or} ...    biology   \n",
       "346857                          [t] = [K][V^a][A^b][C^c]   chemistry   \n",
       "471553  Z_{\\mathrm{PBC}} = \\left( e^{\\beta J} + 1 \\rig...  chemistry   \n",
       "204922                                        4NE_0p(1-p)    biology   \n",
       "334546                                 ^\\circ\\mathrm{C}^2  chemistry   \n",
       "643676                                            V_{W/G}    biology   \n",
       "651767          OH^• + CH_3OH \\rightarrow CH_2OH^• + H_2O  chemistry   \n",
       "651414  \\frac{\\ln{2}}{k_{\\text{off}}} \\approx 16116s \\...  chemistry   \n",
       "287698                                      (N-W)/(W/g)=a    biology   \n",
       "367599                                  \\mathrm{^{228}Ra}  chemistry   \n",
       "542958  V[x_l-x_l']\\approx \\sum_{l\\neq l'}V\\Big[\\frac{...    biology   \n",
       "644117                              121^\\circ \\mathrm{C})  chemistry   \n",
       "200838                             [Ar] 4s^2 3d^{10} 4p^4  chemistry   \n",
       "412539                                          p_{i}^{-}    biology   \n",
       "447131                                     E[XY]=E[X]E[Y]    biology   \n",
       "531932         \\mathrm{n_i = 1.5 \\times 10^{16} \\ m^{-3}}  chemistry   \n",
       "\n",
       "                    Cluster_label  pred_index  Label  pred_conf  \n",
       "654596                    biology           0      4   0.995662  \n",
       "402378    physics-everything-else           4      1   0.993719  \n",
       "654595                    biology           0      4   0.993349  \n",
       "91774                   chemistry           4      0   0.993241  \n",
       "376865    physics-everything-else           4      1   0.992067  \n",
       "346857    physics-everything-else           0      1   0.991990  \n",
       "471553    physics-everything-else           0      1   0.991033  \n",
       "204922    physics-everything-else           4      1   0.990241  \n",
       "334546    physics-everything-else           0      1   0.987937  \n",
       "643676    physics-everything-else           4      1   0.987759  \n",
       "651767                    biology           0      4   0.987576  \n",
       "651414                    biology           0      4   0.986845  \n",
       "287698    physics-everything-else           4      1   0.986597  \n",
       "367599    physics-everything-else           0      1   0.985226  \n",
       "542958    physics-everything-else           4      1   0.984622  \n",
       "644117                    biology           0      4   0.984149  \n",
       "200838    physics-everything-else           0      1   0.984089  \n",
       "412539    physics-everything-else           4      1   0.983931  \n",
       "447131  physics-quantum-mechanics           4      2   0.983712  \n",
       "531932    physics-everything-else           0      1   0.982358  "
      ]
     },
     "execution_count": 48,
     "metadata": {},
     "output_type": "execute_result"
    }
   ],
   "source": [
    "display_top_losses(predictions, 20)"
   ]
  },
  {
   "cell_type": "code",
   "execution_count": null,
   "metadata": {},
   "outputs": [],
   "source": []
  }
 ],
 "metadata": {
  "kernelspec": {
   "display_name": "Python 3",
   "language": "python",
   "name": "python3"
  },
  "language_info": {
   "codemirror_mode": {
    "name": "ipython",
    "version": 3
   },
   "file_extension": ".py",
   "mimetype": "text/x-python",
   "name": "python",
   "nbconvert_exporter": "python",
   "pygments_lexer": "ipython3",
   "version": "3.7.3"
  }
 },
 "nbformat": 4,
 "nbformat_minor": 2
}

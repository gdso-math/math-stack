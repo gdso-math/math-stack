{
 "cells": [
  {
   "cell_type": "code",
   "execution_count": 1,
   "metadata": {},
   "outputs": [],
   "source": [
    "from pathlib import Path\n",
    "import pandas as pd"
   ]
  },
  {
   "cell_type": "code",
   "execution_count": 2,
   "metadata": {},
   "outputs": [],
   "source": [
    "data_dirname = Path('../data/raw/')\n",
    "processed_dirname = Path('../data/processed')\n",
    "processed_dirname.mkdir(exist_ok=True, parents=True)"
   ]
  },
  {
   "cell_type": "code",
   "execution_count": 3,
   "metadata": {},
   "outputs": [],
   "source": [
    "def print_df_stats(df: pd.DataFrame):\n",
    "    \"\"\"\n",
    "    Print some basic info about the dataframe.\n",
    "    \"\"\"\n",
    "    count = df.shape[0]  # n rows\n",
    "    n_latex_equations = df['latex'].apply(len)\n",
    "    n_latex_equations = n_latex_equations.sum()  # count the total number of latex equations\n",
    "    print(f'{count} rows from with {n_latex_equations} latex equations.')\n",
    "\n",
    "\n",
    "def combine_data_from_sources(file_type: str):\n",
    "    \"\"\"\n",
    "    Find all of the .csv files in the data directory and combine them all together into a large dataframe.\n",
    "    Assign a new column which tells me which forum each row came from, i.e. math, astronomy, etc.\n",
    "    Assign a new column which tells me what kind of text this is, i.e. Post, Comment, etc.\n",
    "    Useful when working with more than one stack exchange forum.\n",
    "    \"\"\"\n",
    "    assert file_type in ('Posts', 'Comments')\n",
    "    df_chunks = []\n",
    "    for data_dir in data_dirname.rglob('*.com'):\n",
    "        for json_filename in data_dir.rglob(f'{file_type}.json'):\n",
    "            file_type = json_filename.with_suffix('').name  # Posts, Comments, etc.\n",
    "            df = pd.read_json(json_filename)\n",
    "            df['source'] = data_dir.name\n",
    "            df['type'] = file_type\n",
    "            print(json_filename)\n",
    "            print_df_stats(df)\n",
    "            df_chunks.append(df)\n",
    "            save_dirname = processed_dirname/data_dir.name\n",
    "            save_dirname.mkdir(exist_ok=True, parents=True)\n",
    "            df.to_json(save_dirname/json_filename.name)\n",
    "    df = pd.concat(df_chunks, axis=0, sort=False, ignore_index=True)\n",
    "    return df"
   ]
  },
  {
   "cell_type": "code",
   "execution_count": 4,
   "metadata": {},
   "outputs": [
    {
     "name": "stdout",
     "output_type": "stream",
     "text": [
      "../data/raw/math.stackexchange.com/Posts.json\n",
      "2637841 rows from with 23162186 latex equations.\n"
     ]
    }
   ],
   "source": [
    "file_type = 'Posts'\n",
    "posts = combine_data_from_sources(file_type)\n",
    "posts.to_csv(processed_dirname/'Posts.csv')"
   ]
  },
  {
   "cell_type": "code",
   "execution_count": 5,
   "metadata": {},
   "outputs": [
    {
     "name": "stdout",
     "output_type": "stream",
     "text": [
      "../data/raw/math.stackexchange.com/Comments.json\n",
      "4769204 rows from with 5677017 latex equations.\n"
     ]
    }
   ],
   "source": [
    "file_type = 'Comments'\n",
    "comments = combine_data_from_sources(file_type)\n",
    "comments.to_csv(processed_dirname/'Comments.csv')"
   ]
  },
  {
   "cell_type": "code",
   "execution_count": 6,
   "metadata": {},
   "outputs": [
    {
     "data": {
      "text/plain": [
       "0"
      ]
     },
     "execution_count": 6,
     "metadata": {},
     "output_type": "execute_result"
    }
   ],
   "source": [
    "comments.latex.isnull().sum()"
   ]
  },
  {
   "cell_type": "code",
   "execution_count": null,
   "metadata": {},
   "outputs": [],
   "source": []
  }
 ],
 "metadata": {
  "kernelspec": {
   "display_name": "Python 3",
   "language": "python",
   "name": "python3"
  },
  "language_info": {
   "codemirror_mode": {
    "name": "ipython",
    "version": 3
   },
   "file_extension": ".py",
   "mimetype": "text/x-python",
   "name": "python",
   "nbconvert_exporter": "python",
   "pygments_lexer": "ipython3",
   "version": "3.7.3"
  }
 },
 "nbformat": 4,
 "nbformat_minor": 2
}

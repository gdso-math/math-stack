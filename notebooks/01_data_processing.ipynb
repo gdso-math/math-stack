{
 "cells": [
  {
   "cell_type": "code",
   "execution_count": 1,
   "metadata": {},
   "outputs": [],
   "source": [
    "from pathlib import Path\n",
    "import pandas as pd"
   ]
  },
  {
   "cell_type": "code",
   "execution_count": 2,
   "metadata": {},
   "outputs": [],
   "source": [
    "data_dirname = Path('../data/raw/')\n",
    "processed_dirname = Path('../data/processed')\n",
    "processed_dirname.mkdir(exist_ok=True, parents=True)"
   ]
  },
  {
   "cell_type": "code",
   "execution_count": 7,
   "metadata": {},
   "outputs": [],
   "source": [
    "def print_df_stats(df: pd.DataFrame):\n",
    "    \"\"\"\n",
    "    Print some basic info about the dataframe.\n",
    "    \"\"\"\n",
    "    dates = df.CreationDate.apply(lambda x: x.date())  # get year-month-day\n",
    "    min_date = dates.min()\n",
    "    max_date = dates.max()\n",
    "    count = df.shape[0]  # n rows\n",
    "    n_latex_equations = df['latex'].apply(len)\n",
    "    n_latex_equations = n_latex_equations.sum()  # count the total number of latex equations\n",
    "    print(f'{count} rows from {min_date} -> {max_date}, with {n_latex_equations} latex equations.')\n",
    "\n",
    "\n",
    "def combine_data_from_sources(file_type: str):\n",
    "    \"\"\"\n",
    "    Find all of the .csv files in the data directory and combine them all together into a large dataframe.\n",
    "    Assign a new column which tells me which forum each row came from, i.e. math, astronomy, etc.\n",
    "    Assign a new column which tells me what kind of text this is, i.e. Post, Comment, etc.\n",
    "    Useful when working with more than one stack exchange forum.\n",
    "    \"\"\"\n",
    "    assert file_type in ('Posts', 'Comments')\n",
    "    df_chunks = []\n",
    "    for data_dir in data_dirname.rglob('*.com'):\n",
    "        for csv_filename in data_dir.rglob(f'{file_type}.csv'):\n",
    "            file_type = csv_filename.with_suffix('').name  # Posts, Comments, etc.\n",
    "            df = pd.read_csv(csv_filename, parse_dates=['CreationDate'])\n",
    "            df['source'] = data_dir.name\n",
    "            df['type'] = file_type\n",
    "            print(csv_filename)\n",
    "            print_df_stats(df)\n",
    "            df_chunks.append(df)\n",
    "            save_dirname = processed_dirname/data_dir.name\n",
    "            save_dirname.mkdir(exist_ok=True, parents=True)\n",
    "            df.to_csv(save_dirname/csv_filename.name)\n",
    "    df = pd.concat(df_chunks, axis=0, sort=False, ignore_index=True)\n",
    "    return df"
   ]
  },
  {
   "cell_type": "code",
   "execution_count": null,
   "metadata": {},
   "outputs": [
    {
     "name": "stdout",
     "output_type": "stream",
     "text": [
      "../data/raw/math.stackexchange.com/Posts.csv\n",
      "2637841 rows from 2010-03-27 -> 2019-06-02, with 531304261 latex equations.\n"
     ]
    }
   ],
   "source": [
    "file_type = 'Posts'\n",
    "posts = combine_data_from_sources(file_type)\n",
    "posts.to_csv(processed_dirname/'Posts.csv', index=False)"
   ]
  },
  {
   "cell_type": "code",
   "execution_count": null,
   "metadata": {},
   "outputs": [],
   "source": [
    "file_type = 'Comments'\n",
    "comments = combine_data_from_sources(file_type)\n",
    "comments.to_csv(processed_dirname/'Comments.csv', index=False)"
   ]
  },
  {
   "cell_type": "code",
   "execution_count": null,
   "metadata": {},
   "outputs": [],
   "source": []
  }
 ],
 "metadata": {
  "kernelspec": {
   "display_name": "Python 3",
   "language": "python",
   "name": "python3"
  },
  "language_info": {
   "codemirror_mode": {
    "name": "ipython",
    "version": 3
   },
   "file_extension": ".py",
   "mimetype": "text/x-python",
   "name": "python",
   "nbconvert_exporter": "python",
   "pygments_lexer": "ipython3",
   "version": "3.7.1"
  }
 },
 "nbformat": 4,
 "nbformat_minor": 2
}

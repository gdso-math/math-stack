{
 "cells": [
  {
   "cell_type": "code",
   "execution_count": 2,
   "metadata": {},
   "outputs": [],
   "source": [
    "from pathlib import Path\n",
    "\n",
    "import numpy as np\n",
    "import pandas as pd\n",
    "import PIL\n",
    "\n",
    "import tensorflow as tf\n",
    "import tensorflow.keras.preprocessing.image as image\n",
    "import tensorflow.keras.models as models\n",
    "import tensorflow.keras.layers as layers\n",
    "import tensorflow.keras.optimizers as optimizers\n",
    "\n",
    "import matplotlib.pyplot as plt\n",
    "%matplotlib inline"
   ]
  },
  {
   "cell_type": "code",
   "execution_count": 3,
   "metadata": {},
   "outputs": [
    {
     "data": {
      "text/plain": [
       "<matplotlib.image.AxesImage at 0x7fd5400365c0>"
      ]
     },
     "execution_count": 3,
     "metadata": {},
     "output_type": "execute_result"
    },
    {
     "data": {
      "image/png": "[encoded data removed]",
      "text/plain": [
       "<Figure size 432x288 with 1 Axes>"
      ]
     },
     "metadata": {
      "needs_background": "light"
     },
     "output_type": "display_data"
    }
   ],
   "source": [
    "image_path = list(Path('/data/images-small/').rglob('*.png'))[100]\n",
    "img = PIL.Image.open(image_path)\n",
    "data = np.asarray(img)\n",
    "plt.imshow(data, cmap='Greys')"
   ]
  },
  {
   "cell_type": "code",
   "execution_count": 6,
   "metadata": {},
   "outputs": [],
   "source": [
    "image_dirname = Path('/data/images-small/')\n",
    "data_generator = image.ImageDataGenerator(\n",
    "    featurewise_center=True,\n",
    "    featurewise_std_normalization=True,\n",
    "    horizontal_flip=False,\n",
    "    vertical_flip=False,\n",
    "    validation_split=0.1,\n",
    ")"
   ]
  },
  {
   "cell_type": "code",
   "execution_count": 7,
   "metadata": {},
   "outputs": [
    {
     "name": "stdout",
     "output_type": "stream",
     "text": [
      "Found 22683 images belonging to 3 classes.\n",
      "Found 2520 images belonging to 3 classes.\n",
      "Found 22683 images belonging to 3 classes.\n",
      "Found 2520 images belonging to 3 classes.\n"
     ]
    }
   ],
   "source": [
    "dgen_args = {\n",
    "    'directory': image_dirname,\n",
    "    'target_size': (64, 128),\n",
    "    'class_mode': 'sparse',\n",
    "    'batch_size': 512,\n",
    "    'shuffle': True,\n",
    "    'color_mode': 'grayscale'\n",
    "}\n",
    "\n",
    "train_dg = data_generator.flow_from_directory(subset='training', **dgen_args)\n",
    "val_dg = data_generator.flow_from_directory(subset='validation', **dgen_args)\n",
    "\n",
    "n_batches = len(train_dg)\n",
    "trainX = []\n",
    "for i in range(500):\n",
    "    batch = train_dg.next()\n",
    "    trainX.append(batch[0])\n",
    "trainX = np.concatenate(trainX, axis=0)\n",
    "data_generator.fit(trainX)\n",
    "\n",
    "train_dg = data_generator.flow_from_directory(subset='training', **dgen_args)\n",
    "val_dg = data_generator.flow_from_directory(subset='validation', **dgen_args)"
   ]
  },
  {
   "cell_type": "code",
   "execution_count": 8,
   "metadata": {},
   "outputs": [
    {
     "name": "stdout",
     "output_type": "stream",
     "text": [
      "batch mean: -0.0017\n",
      "batch std: 1.0015\n",
      "batch shape: (512, 64, 128, 1)\n",
      "Standard Normal: True\n"
     ]
    },
    {
     "data": {
      "image/png": "[encoded data removed]",
      "text/plain": [
       "<Figure size 432x288 with 1 Axes>"
      ]
     },
     "metadata": {
      "needs_background": "light"
     },
     "output_type": "display_data"
    }
   ],
   "source": [
    "batch = train_dg.next()\n",
    "X = batch[0]\n",
    "print(f'batch mean: {X.mean():0.4f}')\n",
    "print(f'batch std: {X.std():0.4f}')\n",
    "print(f'batch shape: {X.shape}')\n",
    "m, s = X.mean(), X.std()\n",
    "print(f'Standard Normal: {(np.isclose(m,0, atol=0.1)) and (np.isclose(s, 1, atol=0.1))}')\n",
    "plt.imshow(X[0, ..., 0], cmap='Greys')\n",
    "plt.show()"
   ]
  },
  {
   "cell_type": "code",
   "execution_count": 9,
   "metadata": {},
   "outputs": [],
   "source": [
    "def cv_model():\n",
    "    input_shape = (64, 128, 1)\n",
    "    input = layers.Input(shape=input_shape)\n",
    "    tmp = input\n",
    "    for i in range(5):\n",
    "        #conv = layers.Conv2D(64*(2**i), 3, activation='relu', kernel_initializer='he_uniform', padding='same')(tmp)\n",
    "        conv = layers.Conv2D(64*(2**i), 3, padding='same')(tmp)\n",
    "        norm = layers.BatchNormalization()(conv)\n",
    "        activ = layers.Activation('relu')(norm)\n",
    "        pool = layers.MaxPooling2D(3, padding='same')(activ)\n",
    "        tmp = pool\n",
    "    flat = layers.Flatten()(tmp)\n",
    "    for i in range(3):\n",
    "        #flat = layers.Dense(256//(2**i), activation='relu', kernel_initializer='he_uniform')(flat)\n",
    "        flat = layers.Dense(256//(2**i))(flat)\n",
    "        norm = layers.BatchNormalization()(flat)\n",
    "        activ = layers.Activation('relu')(norm)\n",
    "        flat = activ\n",
    "    output = layers.Dense(3, activation='softmax')(flat)\n",
    "    model = models.Model(input, output)\n",
    "    return model\n",
    "\n",
    "def compile_model(model):\n",
    "    opt = optimizers.Adam(0.01)\n",
    "    model.compile(\n",
    "        loss='sparse_categorical_crossentropy',\n",
    "        optimizer=opt,\n",
    "        metrics=['sparse_categorical_accuracy']\n",
    "    )\n",
    "    return model"
   ]
  },
  {
   "cell_type": "code",
   "execution_count": 19,
   "metadata": {},
   "outputs": [
    {
     "name": "stdout",
     "output_type": "stream",
     "text": [
      "Model: \"model_1\"\n",
      "_________________________________________________________________\n",
      "Layer (type)                 Output Shape              Param #   \n",
      "=================================================================\n",
      "input_2 (InputLayer)         [(None, 64, 128, 1)]      0         \n",
      "_________________________________________________________________\n",
      "conv2d_5 (Conv2D)            (None, 64, 128, 64)       640       \n",
      "_________________________________________________________________\n",
      "batch_normalization_8 (Batch (None, 64, 128, 64)       256       \n",
      "_________________________________________________________________\n",
      "activation_8 (Activation)    (None, 64, 128, 64)       0         \n",
      "_________________________________________________________________\n",
      "max_pooling2d_5 (MaxPooling2 (None, 22, 43, 64)        0         \n",
      "_________________________________________________________________\n",
      "conv2d_6 (Conv2D)            (None, 22, 43, 128)       73856     \n",
      "_________________________________________________________________\n",
      "batch_normalization_9 (Batch (None, 22, 43, 128)       512       \n",
      "_________________________________________________________________\n",
      "activation_9 (Activation)    (None, 22, 43, 128)       0         \n",
      "_________________________________________________________________\n",
      "max_pooling2d_6 (MaxPooling2 (None, 8, 15, 128)        0         \n",
      "_________________________________________________________________\n",
      "conv2d_7 (Conv2D)            (None, 8, 15, 256)        295168    \n",
      "_________________________________________________________________\n",
      "batch_normalization_10 (Batc (None, 8, 15, 256)        1024      \n",
      "_________________________________________________________________\n",
      "activation_10 (Activation)   (None, 8, 15, 256)        0         \n",
      "_________________________________________________________________\n",
      "max_pooling2d_7 (MaxPooling2 (None, 3, 5, 256)         0         \n",
      "_________________________________________________________________\n",
      "conv2d_8 (Conv2D)            (None, 3, 5, 512)         1180160   \n",
      "_________________________________________________________________\n",
      "batch_normalization_11 (Batc (None, 3, 5, 512)         2048      \n",
      "_________________________________________________________________\n",
      "activation_11 (Activation)   (None, 3, 5, 512)         0         \n",
      "_________________________________________________________________\n",
      "max_pooling2d_8 (MaxPooling2 (None, 1, 2, 512)         0         \n",
      "_________________________________________________________________\n",
      "conv2d_9 (Conv2D)            (None, 1, 2, 1024)        4719616   \n",
      "_________________________________________________________________\n",
      "batch_normalization_12 (Batc (None, 1, 2, 1024)        4096      \n",
      "_________________________________________________________________\n",
      "activation_12 (Activation)   (None, 1, 2, 1024)        0         \n",
      "_________________________________________________________________\n",
      "max_pooling2d_9 (MaxPooling2 (None, 1, 1, 1024)        0         \n",
      "_________________________________________________________________\n",
      "flatten_1 (Flatten)          (None, 1024)              0         \n",
      "_________________________________________________________________\n",
      "dense_4 (Dense)              (None, 256)               262400    \n",
      "_________________________________________________________________\n",
      "batch_normalization_13 (Batc (None, 256)               1024      \n",
      "_________________________________________________________________\n",
      "activation_13 (Activation)   (None, 256)               0         \n",
      "_________________________________________________________________\n",
      "dense_5 (Dense)              (None, 128)               32896     \n",
      "_________________________________________________________________\n",
      "batch_normalization_14 (Batc (None, 128)               512       \n",
      "_________________________________________________________________\n",
      "activation_14 (Activation)   (None, 128)               0         \n",
      "_________________________________________________________________\n",
      "dense_6 (Dense)              (None, 64)                8256      \n",
      "_________________________________________________________________\n",
      "batch_normalization_15 (Batc (None, 64)                256       \n",
      "_________________________________________________________________\n",
      "activation_15 (Activation)   (None, 64)                0         \n",
      "_________________________________________________________________\n",
      "dense_7 (Dense)              (None, 3)                 195       \n",
      "=================================================================\n",
      "Total params: 6,582,915\n",
      "Trainable params: 6,578,051\n",
      "Non-trainable params: 4,864\n",
      "_________________________________________________________________\n"
     ]
    }
   ],
   "source": [
    "model = cv_model()\n",
    "model = compile_model(model)\n",
    "model.summary()"
   ]
  },
  {
   "cell_type": "code",
   "execution_count": 12,
   "metadata": {},
   "outputs": [
    {
     "name": "stdout",
     "output_type": "stream",
     "text": [
      "Epoch 1/24\n",
      "45/45 [==============================] - 29s 647ms/step - loss: 1.0231 - sparse_categorical_accuracy: 0.4899 - val_loss: 12.9197 - val_sparse_categorical_accuracy: 0.3968\n",
      "Epoch 2/24\n",
      "45/45 [==============================] - 26s 571ms/step - loss: 0.9996 - sparse_categorical_accuracy: 0.5170 - val_loss: 4.1352 - val_sparse_categorical_accuracy: 0.3968\n",
      "Epoch 3/24\n",
      "45/45 [==============================] - 26s 572ms/step - loss: 0.9717 - sparse_categorical_accuracy: 0.5417 - val_loss: 2.9909 - val_sparse_categorical_accuracy: 0.3968\n",
      "Epoch 4/24\n",
      "45/45 [==============================] - 26s 569ms/step - loss: 0.9481 - sparse_categorical_accuracy: 0.5557 - val_loss: 1.1299 - val_sparse_categorical_accuracy: 0.4286\n",
      "Epoch 5/24\n",
      "45/45 [==============================] - 26s 569ms/step - loss: 0.9300 - sparse_categorical_accuracy: 0.5662 - val_loss: 1.1090 - val_sparse_categorical_accuracy: 0.4365\n",
      "Epoch 6/24\n",
      "45/45 [==============================] - 26s 569ms/step - loss: 0.9035 - sparse_categorical_accuracy: 0.5792 - val_loss: 1.2046 - val_sparse_categorical_accuracy: 0.3790\n",
      "Epoch 7/24\n",
      "45/45 [==============================] - 26s 572ms/step - loss: 0.8727 - sparse_categorical_accuracy: 0.6031 - val_loss: 1.0573 - val_sparse_categorical_accuracy: 0.4361\n",
      "Epoch 8/24\n",
      "45/45 [==============================] - 26s 574ms/step - loss: 0.8313 - sparse_categorical_accuracy: 0.6224 - val_loss: 1.3577 - val_sparse_categorical_accuracy: 0.2909\n",
      "Epoch 9/24\n",
      "45/45 [==============================] - 26s 570ms/step - loss: 0.7892 - sparse_categorical_accuracy: 0.6513 - val_loss: 1.0385 - val_sparse_categorical_accuracy: 0.4679\n",
      "Epoch 10/24\n",
      "45/45 [==============================] - 26s 569ms/step - loss: 0.7306 - sparse_categorical_accuracy: 0.6813 - val_loss: 2.1934 - val_sparse_categorical_accuracy: 0.4012\n",
      "Epoch 11/24\n",
      "45/45 [==============================] - 26s 572ms/step - loss: 0.6671 - sparse_categorical_accuracy: 0.7145 - val_loss: 2.4240 - val_sparse_categorical_accuracy: 0.4016\n",
      "Epoch 12/24\n",
      "45/45 [==============================] - 26s 571ms/step - loss: 0.5958 - sparse_categorical_accuracy: 0.7529 - val_loss: 2.3519 - val_sparse_categorical_accuracy: 0.4825\n",
      "Epoch 13/24\n",
      "45/45 [==============================] - 26s 572ms/step - loss: 0.5152 - sparse_categorical_accuracy: 0.7916 - val_loss: 1.6555 - val_sparse_categorical_accuracy: 0.5294\n",
      "Epoch 14/24\n",
      "45/45 [==============================] - 26s 572ms/step - loss: 0.4485 - sparse_categorical_accuracy: 0.8198 - val_loss: 8.6897 - val_sparse_categorical_accuracy: 0.4115\n",
      "Epoch 15/24\n",
      "45/45 [==============================] - 26s 572ms/step - loss: 0.3823 - sparse_categorical_accuracy: 0.8505 - val_loss: 6.5348 - val_sparse_categorical_accuracy: 0.4718\n",
      "Epoch 16/24\n",
      "45/45 [==============================] - 26s 572ms/step - loss: 0.3289 - sparse_categorical_accuracy: 0.8712 - val_loss: 5.4731 - val_sparse_categorical_accuracy: 0.4881\n",
      "Epoch 17/24\n",
      "45/45 [==============================] - 26s 572ms/step - loss: 0.2806 - sparse_categorical_accuracy: 0.8912 - val_loss: 12.4600 - val_sparse_categorical_accuracy: 0.4040\n",
      "Epoch 18/24\n",
      "45/45 [==============================] - 26s 572ms/step - loss: 0.2295 - sparse_categorical_accuracy: 0.9136 - val_loss: 5.2915 - val_sparse_categorical_accuracy: 0.4595\n",
      "Epoch 19/24\n",
      "45/45 [==============================] - 26s 574ms/step - loss: 0.2156 - sparse_categorical_accuracy: 0.9195 - val_loss: 3.6706 - val_sparse_categorical_accuracy: 0.4679\n",
      "Epoch 20/24\n",
      "45/45 [==============================] - 26s 571ms/step - loss: 0.1757 - sparse_categorical_accuracy: 0.9356 - val_loss: 6.0779 - val_sparse_categorical_accuracy: 0.4770\n",
      "Epoch 21/24\n",
      "45/45 [==============================] - 26s 572ms/step - loss: 0.1665 - sparse_categorical_accuracy: 0.9404 - val_loss: 7.1726 - val_sparse_categorical_accuracy: 0.4524\n",
      "Epoch 22/24\n",
      "45/45 [==============================] - 26s 572ms/step - loss: 0.1305 - sparse_categorical_accuracy: 0.9535 - val_loss: 4.9391 - val_sparse_categorical_accuracy: 0.3433\n",
      "Epoch 23/24\n",
      "45/45 [==============================] - 26s 571ms/step - loss: 0.1215 - sparse_categorical_accuracy: 0.9574 - val_loss: 4.4854 - val_sparse_categorical_accuracy: 0.4806\n",
      "Epoch 24/24\n",
      "45/45 [==============================] - 26s 571ms/step - loss: 0.1366 - sparse_categorical_accuracy: 0.9491 - val_loss: 3.1673 - val_sparse_categorical_accuracy: 0.5306\n"
     ]
    }
   ],
   "source": [
    "history = model.fit_generator(\n",
    "    train_dg,\n",
    "    steps_per_epoch=len(train_dg),\n",
    "    validation_data=val_dg,\n",
    "    validation_steps=len(val_dg),\n",
    "    epochs=24,\n",
    "    shuffle=True\n",
    ")"
   ]
  },
  {
   "cell_type": "code",
   "execution_count": 26,
   "metadata": {},
   "outputs": [],
   "source": [
    "def summarize_diagnostics(history):\n",
    "    # plot loss\n",
    "    plt.subplot(211)\n",
    "    plt.title('Cross Entropy Loss')\n",
    "    plt.plot(history.history['loss'], color='blue', label='train')\n",
    "    plt.plot(history.history['val_loss'], color='orange', label='test')\n",
    "    # plot accuracy\n",
    "    plt.subplot(212)\n",
    "    plt.title('Classification Accuracy')\n",
    "    plt.plot(history.history['sparse_categorical_accuracy'], color='blue', label='train')\n",
    "    plt.plot(history.history['val_sparse_categorical_accuracy'], color='orange', label='test')\n",
    "    plt.show()\n",
    "    plt.close()"
   ]
  },
  {
   "cell_type": "code",
   "execution_count": 16,
   "metadata": {},
   "outputs": [
    {
     "data": {
      "image/png": "[encoded data removed]",
      "text/plain": [
       "<Figure size 432x288 with 2 Axes>"
      ]
     },
     "metadata": {
      "needs_background": "light"
     },
     "output_type": "display_data"
    }
   ],
   "source": [
    "summarize_diagnostics(history)"
   ]
  },
  {
   "cell_type": "code",
   "execution_count": 21,
   "metadata": {},
   "outputs": [
    {
     "name": "stdout",
     "output_type": "stream",
     "text": [
      "Epoch 1/30\n",
      "45/45 [==============================] - 26s 576ms/step - loss: 1.0388 - sparse_categorical_accuracy: 0.4782 - val_loss: 36.3161 - val_sparse_categorical_accuracy: 0.3972\n",
      "Epoch 2/30\n",
      "45/45 [==============================] - 26s 575ms/step - loss: 0.9934 - sparse_categorical_accuracy: 0.5227 - val_loss: 6.6183 - val_sparse_categorical_accuracy: 0.3968\n",
      "Epoch 3/30\n",
      "45/45 [==============================] - 26s 573ms/step - loss: 0.9746 - sparse_categorical_accuracy: 0.5380 - val_loss: 1.4584 - val_sparse_categorical_accuracy: 0.4179\n",
      "Epoch 4/30\n",
      "45/45 [==============================] - 26s 570ms/step - loss: 0.9482 - sparse_categorical_accuracy: 0.5531 - val_loss: 1.0227 - val_sparse_categorical_accuracy: 0.5155\n",
      "Epoch 5/30\n",
      "45/45 [==============================] - 26s 572ms/step - loss: 0.9241 - sparse_categorical_accuracy: 0.5709 - val_loss: 1.0925 - val_sparse_categorical_accuracy: 0.4032\n",
      "Epoch 6/30\n",
      "45/45 [==============================] - 26s 572ms/step - loss: 0.8975 - sparse_categorical_accuracy: 0.5853 - val_loss: 1.1159 - val_sparse_categorical_accuracy: 0.5516\n",
      "Epoch 7/30\n",
      "45/45 [==============================] - 26s 570ms/step - loss: 0.8673 - sparse_categorical_accuracy: 0.6066 - val_loss: 1.3095 - val_sparse_categorical_accuracy: 0.3968\n",
      "Epoch 8/30\n",
      "45/45 [==============================] - 26s 573ms/step - loss: 0.8287 - sparse_categorical_accuracy: 0.6285 - val_loss: 1.8273 - val_sparse_categorical_accuracy: 0.4095\n",
      "Epoch 9/30\n",
      "45/45 [==============================] - 26s 572ms/step - loss: 0.7818 - sparse_categorical_accuracy: 0.6553 - val_loss: 1.2854 - val_sparse_categorical_accuracy: 0.4163\n",
      "Epoch 10/30\n",
      "45/45 [==============================] - 26s 572ms/step - loss: 0.7241 - sparse_categorical_accuracy: 0.6900 - val_loss: 1.0474 - val_sparse_categorical_accuracy: 0.5087\n",
      "Epoch 11/30\n",
      "45/45 [==============================] - 26s 573ms/step - loss: 0.6659 - sparse_categorical_accuracy: 0.7181 - val_loss: 1.7792 - val_sparse_categorical_accuracy: 0.4734\n",
      "Epoch 12/30\n",
      "45/45 [==============================] - 26s 572ms/step - loss: 0.6018 - sparse_categorical_accuracy: 0.7480 - val_loss: 2.0101 - val_sparse_categorical_accuracy: 0.4798\n",
      "Epoch 13/30\n",
      "45/45 [==============================] - 26s 573ms/step - loss: 0.5252 - sparse_categorical_accuracy: 0.7854 - val_loss: 1.3364 - val_sparse_categorical_accuracy: 0.5381\n",
      "Epoch 14/30\n",
      "45/45 [==============================] - 26s 572ms/step - loss: 0.4486 - sparse_categorical_accuracy: 0.8195 - val_loss: 4.5733 - val_sparse_categorical_accuracy: 0.4381\n",
      "Epoch 15/30\n",
      "45/45 [==============================] - 26s 573ms/step - loss: 0.3895 - sparse_categorical_accuracy: 0.8434 - val_loss: 2.2199 - val_sparse_categorical_accuracy: 0.4615\n",
      "Epoch 16/30\n",
      "45/45 [==============================] - 26s 575ms/step - loss: 0.3264 - sparse_categorical_accuracy: 0.8720 - val_loss: 3.3224 - val_sparse_categorical_accuracy: 0.3702\n",
      "Epoch 17/30\n",
      "45/45 [==============================] - 26s 570ms/step - loss: 0.2728 - sparse_categorical_accuracy: 0.8973 - val_loss: 3.1899 - val_sparse_categorical_accuracy: 0.4409\n",
      "Epoch 18/30\n",
      "45/45 [==============================] - 26s 570ms/step - loss: 0.2428 - sparse_categorical_accuracy: 0.9082 - val_loss: 11.1611 - val_sparse_categorical_accuracy: 0.4060\n",
      "Epoch 19/30\n",
      "45/45 [==============================] - 26s 573ms/step - loss: 0.2063 - sparse_categorical_accuracy: 0.9227 - val_loss: 2.5936 - val_sparse_categorical_accuracy: 0.5091\n",
      "Epoch 20/30\n",
      "45/45 [==============================] - 26s 574ms/step - loss: 0.1714 - sparse_categorical_accuracy: 0.9357 - val_loss: 10.5221 - val_sparse_categorical_accuracy: 0.4071\n",
      "Epoch 21/30\n",
      "45/45 [==============================] - 26s 574ms/step - loss: 0.1582 - sparse_categorical_accuracy: 0.9412 - val_loss: 2.4949 - val_sparse_categorical_accuracy: 0.5147\n",
      "Epoch 22/30\n",
      "45/45 [==============================] - 26s 573ms/step - loss: 0.1654 - sparse_categorical_accuracy: 0.9389 - val_loss: 2.8794 - val_sparse_categorical_accuracy: 0.5385\n",
      "Epoch 23/30\n",
      "45/45 [==============================] - 26s 573ms/step - loss: 0.1379 - sparse_categorical_accuracy: 0.9502 - val_loss: 1.7964 - val_sparse_categorical_accuracy: 0.5460\n",
      "Epoch 24/30\n",
      "45/45 [==============================] - 26s 573ms/step - loss: 0.1172 - sparse_categorical_accuracy: 0.9562 - val_loss: 3.0060 - val_sparse_categorical_accuracy: 0.4810\n",
      "Epoch 25/30\n",
      "45/45 [==============================] - 26s 573ms/step - loss: 0.1110 - sparse_categorical_accuracy: 0.9586 - val_loss: 2.2171 - val_sparse_categorical_accuracy: 0.4472\n",
      "Epoch 26/30\n",
      "45/45 [==============================] - 26s 575ms/step - loss: 0.1152 - sparse_categorical_accuracy: 0.9549 - val_loss: 2.6592 - val_sparse_categorical_accuracy: 0.5448\n",
      "Epoch 27/30\n",
      "45/45 [==============================] - 26s 573ms/step - loss: 0.1088 - sparse_categorical_accuracy: 0.9595 - val_loss: 8.9970 - val_sparse_categorical_accuracy: 0.4119\n",
      "Epoch 28/30\n",
      "45/45 [==============================] - 26s 570ms/step - loss: 0.0985 - sparse_categorical_accuracy: 0.9612 - val_loss: 1.9416 - val_sparse_categorical_accuracy: 0.5179\n",
      "Epoch 29/30\n",
      "45/45 [==============================] - 26s 572ms/step - loss: 0.0852 - sparse_categorical_accuracy: 0.9662 - val_loss: 2.8672 - val_sparse_categorical_accuracy: 0.4706\n",
      "Epoch 30/30\n",
      "45/45 [==============================] - 26s 572ms/step - loss: 0.0922 - sparse_categorical_accuracy: 0.9636 - val_loss: 4.1308 - val_sparse_categorical_accuracy: 0.3151\n"
     ]
    }
   ],
   "source": [
    "history1 = model.fit_generator(\n",
    "    train_dg,\n",
    "    steps_per_epoch=len(train_dg),\n",
    "    validation_data=val_dg,\n",
    "    validation_steps=len(val_dg),\n",
    "    epochs=30,\n",
    "    shuffle=True\n",
    ")"
   ]
  },
  {
   "cell_type": "code",
   "execution_count": 25,
   "metadata": {},
   "outputs": [
    {
     "data": {
      "image/png": "[encoded data removed]",
      "text/plain": [
       "<Figure size 432x288 with 2 Axes>"
      ]
     },
     "metadata": {
      "needs_background": "light"
     },
     "output_type": "display_data"
    }
   ],
   "source": [
    "summarize_diagnostics(history1)"
   ]
  },
  {
   "cell_type": "code",
   "execution_count": 27,
   "metadata": {},
   "outputs": [
    {
     "data": {
      "image/png": "[encoded data removed]",
      "text/plain": [
       "<Figure size 432x288 with 2 Axes>"
      ]
     },
     "metadata": {
      "needs_background": "light"
     },
     "output_type": "display_data"
    }
   ],
   "source": [
    "summarize_diagnostics(history1)"
   ]
  },
  {
   "cell_type": "markdown",
   "metadata": {},
   "source": [
    "# analysis"
   ]
  },
  {
   "cell_type": "code",
   "execution_count": 29,
   "metadata": {},
   "outputs": [
    {
     "name": "stdout",
     "output_type": "stream",
     "text": [
      "Collecting sklearn\n",
      "  Downloading https://files.pythonhosted.org/packages/1e/7a/dbb3be0ce9bd5c8b7e3d87328e79063f8b263b2b1bfa4774cb1147bfcd3f/sklearn-0.0.tar.gz\n",
      "Collecting scikit-learn (from sklearn)\n",
      "\u001b[?25l  Downloading https://files.pythonhosted.org/packages/9f/c5/e5267eb84994e9a92a2c6a6ee768514f255d036f3c8378acfa694e9f2c99/scikit_learn-0.21.3-cp37-cp37m-manylinux1_x86_64.whl (6.7MB)\n",
      "\u001b[K     |████████████████████████████████| 6.7MB 4.4MB/s eta 0:00:01     |██████████████████▍             | 3.8MB 4.4MB/s eta 0:00:01\n",
      "\u001b[?25hRequirement already satisfied: scipy>=0.17.0 in /home/koosterb/miniconda3/lib/python3.7/site-packages (from scikit-learn->sklearn) (1.3.1)\n",
      "Requirement already satisfied: numpy>=1.11.0 in /home/koosterb/miniconda3/lib/python3.7/site-packages (from scikit-learn->sklearn) (1.17.0)\n",
      "Collecting joblib>=0.11 (from scikit-learn->sklearn)\n",
      "\u001b[?25l  Downloading https://files.pythonhosted.org/packages/cd/c1/50a758e8247561e58cb87305b1e90b171b8c767b15b12a1734001f41d356/joblib-0.13.2-py2.py3-none-any.whl (278kB)\n",
      "\u001b[K     |████████████████████████████████| 286kB 62.6MB/s eta 0:00:01\n",
      "\u001b[?25hBuilding wheels for collected packages: sklearn\n",
      "  Building wheel for sklearn (setup.py) ... \u001b[?25ldone\n",
      "\u001b[?25h  Stored in directory: /home/koosterb/.cache/pip/wheels/76/03/bb/589d421d27431bcd2c6da284d5f2286c8e3b2ea3cf1594c074\n",
      "Successfully built sklearn\n",
      "Installing collected packages: joblib, scikit-learn, sklearn\n",
      "Successfully installed joblib-0.13.2 scikit-learn-0.21.3 sklearn-0.0\n"
     ]
    }
   ],
   "source": [
    "!pip install sklearn"
   ]
  },
  {
   "cell_type": "code",
   "execution_count": 30,
   "metadata": {},
   "outputs": [],
   "source": [
    "import itertools\n",
    "from sklearn.metrics import confusion_matrix\n",
    "from sklearn.utils.multiclass import unique_labels\n",
    "import matplotlib.pyplot as plt\n",
    "\n",
    "%matplotlib notebook\n",
    "\n",
    "def plot_confusion_matrix(y_true, y_pred, classes,\n",
    "                          normalize=False,\n",
    "                          title=None,\n",
    "                          cmap=plt.cm.Blues):\n",
    "    if not title:\n",
    "        if normalize:\n",
    "            title = 'Normalized confusion matrix'\n",
    "        else:\n",
    "            title = 'Confusion matrix, without normalization'\n",
    "\n",
    "    # Compute confusion matrix\n",
    "    cm = confusion_matrix(y_true, y_pred)\n",
    "    # Only use the labels that appear in the data\n",
    "    classes = classes[unique_labels(y_true, y_pred)]\n",
    "    if normalize:\n",
    "        cm = cm.astype('float') / cm.sum(axis=1)[:, np.newaxis]\n",
    "        print(\"Normalized confusion matrix\")\n",
    "    else:\n",
    "        print('Confusion matrix, without normalization')\n",
    "\n",
    "    print(cm)\n",
    "    \n",
    "    fig, ax = plt.subplots()\n",
    "    im = ax.imshow(cm, interpolation='nearest', cmap=cmap)\n",
    "    ax.figure.colorbar(im, ax=ax)\n",
    "    # We want to show all ticks...\n",
    "    ax.set(xticks=np.arange(cm.shape[1]),\n",
    "           yticks=np.arange(cm.shape[0]),\n",
    "           # ... and label them with the respective list entries\n",
    "           xticklabels=classes, yticklabels=classes,\n",
    "           title=title,\n",
    "           ylabel='True label',\n",
    "           xlabel='Predicted label')\n",
    "\n",
    "    # Rotate the tick labels and set their alignment.\n",
    "    plt.setp(ax.get_xticklabels(), rotation=45, ha=\"right\",\n",
    "             rotation_mode=\"anchor\")\n",
    "\n",
    "    # Loop over data dimensions and create text annotations.\n",
    "    fmt = '.2f' if normalize else 'd'\n",
    "    thresh = cm.max() / 2.\n",
    "    for i in range(cm.shape[0]):\n",
    "        for j in range(cm.shape[1]):\n",
    "            ax.text(j, i, format(cm[i, j], fmt),\n",
    "                    ha=\"center\", va=\"center\",\n",
    "                    color=\"white\" if cm[i, j] > thresh else \"black\")\n",
    "    fig.tight_layout()\n",
    "    return ax"
   ]
  },
  {
   "cell_type": "code",
   "execution_count": 90,
   "metadata": {},
   "outputs": [],
   "source": [
    "def predict_on_df(model, dg, df):\n",
    "    #dg = image.ImageDataGenerator(df, batch_size=32, shuffle=False)\n",
    "    yhat = model.predict_generator(dg)\n",
    "    pred_index = yhat.argmax(axis=1)\n",
    "    pred_conf = yhat.max(axis=1)\n",
    "    df['pred_index'] = pred_index\n",
    "    df['pred_label'] = df.pred_index.apply(lambda x: list(dg.class_indices.keys())[x])\n",
    "    df['pred_conf'] = pred_conf\n",
    "    df['match'] = df['pred_index'] == df['label']\n",
    "    return df\n",
    "\n",
    "\n",
    "def display_top_losses(prediction_df, k: int = 10):\n",
    "    wrong_condition = ~prediction_df.match\n",
    "    wrong_df = prediction_df[wrong_condition]\n",
    "    return wrong_df.sort_values('pred_conf', ascending=False).iloc[0:k][['equation', 'pred_label', 'source', 'pred_index', 'label', 'pred_conf']]"
   ]
  },
  {
   "cell_type": "code",
   "execution_count": 91,
   "metadata": {},
   "outputs": [],
   "source": [
    "import pandas as pd\n",
    "\n",
    "output = pd.DataFrame()\n",
    "\n",
    "labels = np.empty(2520)\n",
    "index = 0\n",
    "for i in range(len(val_dg)):\n",
    "    vals = val_dg[i][1]\n",
    "    for val in vals:\n",
    "        labels[index] = val\n",
    "        index += 1\n",
    "        \n",
    "output['label'] = labels"
   ]
  },
  {
   "cell_type": "code",
   "execution_count": 92,
   "metadata": {},
   "outputs": [],
   "source": [
    "predictions = predict_on_df(model, val_dg, output)"
   ]
  },
  {
   "cell_type": "code",
   "execution_count": 95,
   "metadata": {},
   "outputs": [
    {
     "ename": "IndexError",
     "evalue": "arrays used as indices must be of integer (or boolean) type",
     "output_type": "error",
     "traceback": [
      "\u001b[0;31m---------------------------------------------------------------------------\u001b[0m",
      "\u001b[0;31mIndexError\u001b[0m                                Traceback (most recent call last)",
      "\u001b[0;32m<ipython-input-95-7b12f88730dc>\u001b[0m in \u001b[0;36m<module>\u001b[0;34m\u001b[0m\n\u001b[0;32m----> 1\u001b[0;31m \u001b[0mplot_confusion_matrix\u001b[0m\u001b[0;34m(\u001b[0m\u001b[0mpredictions\u001b[0m\u001b[0;34m.\u001b[0m\u001b[0mlabel\u001b[0m\u001b[0;34m,\u001b[0m \u001b[0mpredictions\u001b[0m\u001b[0;34m.\u001b[0m\u001b[0mpred_index\u001b[0m\u001b[0;34m,\u001b[0m \u001b[0mnp\u001b[0m\u001b[0;34m.\u001b[0m\u001b[0marray\u001b[0m\u001b[0;34m(\u001b[0m\u001b[0mlist\u001b[0m\u001b[0;34m(\u001b[0m\u001b[0mval_dg\u001b[0m\u001b[0;34m.\u001b[0m\u001b[0mclass_indices\u001b[0m\u001b[0;34m.\u001b[0m\u001b[0mkeys\u001b[0m\u001b[0;34m(\u001b[0m\u001b[0;34m)\u001b[0m\u001b[0;34m)\u001b[0m\u001b[0;34m)\u001b[0m\u001b[0;34m)\u001b[0m\u001b[0;34m\u001b[0m\u001b[0;34m\u001b[0m\u001b[0m\n\u001b[0m",
      "\u001b[0;32m<ipython-input-30-1c2d987190ef>\u001b[0m in \u001b[0;36mplot_confusion_matrix\u001b[0;34m(y_true, y_pred, classes, normalize, title, cmap)\u001b[0m\n\u001b[1;32m     19\u001b[0m     \u001b[0mcm\u001b[0m \u001b[0;34m=\u001b[0m \u001b[0mconfusion_matrix\u001b[0m\u001b[0;34m(\u001b[0m\u001b[0my_true\u001b[0m\u001b[0;34m,\u001b[0m \u001b[0my_pred\u001b[0m\u001b[0;34m)\u001b[0m\u001b[0;34m\u001b[0m\u001b[0;34m\u001b[0m\u001b[0m\n\u001b[1;32m     20\u001b[0m     \u001b[0;31m# Only use the labels that appear in the data\u001b[0m\u001b[0;34m\u001b[0m\u001b[0;34m\u001b[0m\u001b[0;34m\u001b[0m\u001b[0m\n\u001b[0;32m---> 21\u001b[0;31m     \u001b[0mclasses\u001b[0m \u001b[0;34m=\u001b[0m \u001b[0mclasses\u001b[0m\u001b[0;34m[\u001b[0m\u001b[0munique_labels\u001b[0m\u001b[0;34m(\u001b[0m\u001b[0my_true\u001b[0m\u001b[0;34m,\u001b[0m \u001b[0my_pred\u001b[0m\u001b[0;34m)\u001b[0m\u001b[0;34m]\u001b[0m\u001b[0;34m\u001b[0m\u001b[0;34m\u001b[0m\u001b[0m\n\u001b[0m\u001b[1;32m     22\u001b[0m     \u001b[0;32mif\u001b[0m \u001b[0mnormalize\u001b[0m\u001b[0;34m:\u001b[0m\u001b[0;34m\u001b[0m\u001b[0;34m\u001b[0m\u001b[0m\n\u001b[1;32m     23\u001b[0m         \u001b[0mcm\u001b[0m \u001b[0;34m=\u001b[0m \u001b[0mcm\u001b[0m\u001b[0;34m.\u001b[0m\u001b[0mastype\u001b[0m\u001b[0;34m(\u001b[0m\u001b[0;34m'float'\u001b[0m\u001b[0;34m)\u001b[0m \u001b[0;34m/\u001b[0m \u001b[0mcm\u001b[0m\u001b[0;34m.\u001b[0m\u001b[0msum\u001b[0m\u001b[0;34m(\u001b[0m\u001b[0maxis\u001b[0m\u001b[0;34m=\u001b[0m\u001b[0;36m1\u001b[0m\u001b[0;34m)\u001b[0m\u001b[0;34m[\u001b[0m\u001b[0;34m:\u001b[0m\u001b[0;34m,\u001b[0m \u001b[0mnp\u001b[0m\u001b[0;34m.\u001b[0m\u001b[0mnewaxis\u001b[0m\u001b[0;34m]\u001b[0m\u001b[0;34m\u001b[0m\u001b[0;34m\u001b[0m\u001b[0m\n",
      "\u001b[0;31mIndexError\u001b[0m: arrays used as indices must be of integer (or boolean) type"
     ]
    }
   ],
   "source": [
    "plot_confusion_matrix(predictions.label, predictions.pred_index, np.array(list(val_dg.class_indices.keys())))"
   ]
  },
  {
   "cell_type": "code",
   "execution_count": null,
   "metadata": {},
   "outputs": [],
   "source": []
  }
 ],
 "metadata": {
  "kernelspec": {
   "display_name": "Python 3",
   "language": "python",
   "name": "python3"
  },
  "language_info": {
   "codemirror_mode": {
    "name": "ipython",
    "version": 3
   },
   "file_extension": ".py",
   "mimetype": "text/x-python",
   "name": "python",
   "nbconvert_exporter": "python",
   "pygments_lexer": "ipython3",
   "version": "3.7.3"
  }
 },
 "nbformat": 4,
 "nbformat_minor": 2
}

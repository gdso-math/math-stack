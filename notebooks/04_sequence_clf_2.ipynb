{
 "cells": [
  {
   "cell_type": "code",
   "execution_count": 1,
   "metadata": {},
   "outputs": [],
   "source": [
    "import os\n",
    "from pathlib import Path\n",
    "import pandas as pd\n",
    "import numpy as np\n",
    "\n",
    "import tensorflow as tf\n",
    "import tensorflow.keras.layers as layers\n",
    "import tensorflow.keras.models as models\n",
    "import tensorflow.keras.preprocessing.sequence as sequence\n",
    "import tensorflow.keras.utils as utils\n",
    "\n",
    "import matplotlib.pyplot as plt\n",
    "%matplotlib notebook"
   ]
  },
  {
   "cell_type": "code",
   "execution_count": 2,
   "metadata": {},
   "outputs": [],
   "source": [
    "# on multi gpu machines, set which gpu to use\n",
    "os.environ['CUDA_VISIBLE_DEVICES'] = '1'"
   ]
  },
  {
   "cell_type": "code",
   "execution_count": 3,
   "metadata": {},
   "outputs": [
    {
     "name": "stdout",
     "output_type": "stream",
     "text": [
      "[name: \"/device:CPU:0\"\n",
      "device_type: \"CPU\"\n",
      "memory_limit: 268435456\n",
      "locality {\n",
      "}\n",
      "incarnation: 11885432755343171257\n",
      ", name: \"/device:XLA_CPU:0\"\n",
      "device_type: \"XLA_CPU\"\n",
      "memory_limit: 17179869184\n",
      "locality {\n",
      "}\n",
      "incarnation: 3088618521501846093\n",
      "physical_device_desc: \"device: XLA_CPU device\"\n",
      ", name: \"/device:GPU:0\"\n",
      "device_type: \"GPU\"\n",
      "memory_limit: 7511012148\n",
      "locality {\n",
      "  bus_id: 1\n",
      "  links {\n",
      "  }\n",
      "}\n",
      "incarnation: 16643529193648969892\n",
      "physical_device_desc: \"device: 0, name: Tesla M60, pci bus id: 0000:00:1e.0, compute capability: 5.2\"\n",
      ", name: \"/device:XLA_GPU:0\"\n",
      "device_type: \"XLA_GPU\"\n",
      "memory_limit: 17179869184\n",
      "locality {\n",
      "}\n",
      "incarnation: 2447566755729497782\n",
      "physical_device_desc: \"device: XLA_GPU device\"\n",
      "]\n"
     ]
    }
   ],
   "source": [
    "from tensorflow.python.client import device_lib\n",
    "print(device_lib.list_local_devices())"
   ]
  },
  {
   "cell_type": "code",
   "execution_count": 4,
   "metadata": {},
   "outputs": [],
   "source": [
    "def split_data(df, frac=0.1):\n",
    "    \"\"\"\n",
    "    Split the data by the post id.\n",
    "    Equations from the same post will be in the same set.\n",
    "    \"\"\"\n",
    "    split_by = df.post_id\n",
    "    post_ids = df.post_id.unique()\n",
    "    N = len(post_ids)\n",
    "    \n",
    "    test_posts = np.random.choice(post_ids, int(N * frac))\n",
    "    n_test = len(test_posts)\n",
    "    test_condition = df.post_id.isin(test_posts)\n",
    "    return df[~test_condition], df[test_condition]"
   ]
  },
  {
   "cell_type": "code",
   "execution_count": 5,
   "metadata": {},
   "outputs": [
    {
     "name": "stdout",
     "output_type": "stream",
     "text": [
      "Null Data:  2\n",
      "Training rows: 544609\n",
      "Val rows: 57678\n",
      "Test rows: 63491\n"
     ]
    }
   ],
   "source": [
    "np.random.seed(1)\n",
    "datapath = Path('../data/processed/equations.csv')\n",
    "df = pd.read_csv(datapath)\n",
    "print('Null Data: ', df.equation.isnull().sum())\n",
    "df.dropna(subset=['equation'], inplace=True)\n",
    "df = df.drop_duplicates(subset=['equation', 'source'])\n",
    "\n",
    "df = df[df['source'] != 'biology.stackexchange.com']\n",
    "\n",
    "train_df, test_df = split_data(df, 0.1)\n",
    "train_df, val_df = split_data(train_df, 0.1)\n",
    "\n",
    "print(f'Training rows: {train_df.shape[0]}')\n",
    "print(f'Val rows: {val_df.shape[0]}')\n",
    "print(f'Test rows: {test_df.shape[0]}')"
   ]
  },
  {
   "cell_type": "code",
   "execution_count": 6,
   "metadata": {},
   "outputs": [],
   "source": [
    "class Tokenizer:\n",
    "    \"\"\"Convert chars to ints\"\"\"\n",
    "    def __init__(self):\n",
    "        self.UNK = '<UNK>'  # Unknown\n",
    "        self.BOS = '<BOS>'  # Begin of string\n",
    "        self.EOS = '<EOS>'  # End of string\n",
    "        self.PAD = '<PAD>'  # Padding\n",
    "        self.char_to_idx = dict()\n",
    "        self.idx_to_char = dict()\n",
    "        self.vocab = []\n",
    "        \n",
    "        self.specials = [self.PAD, self.BOS, self.EOS, self.UNK]\n",
    "        for c in self.specials: self.add(c)\n",
    "        \n",
    "    \n",
    "    def __getitem__(self, c: str):\n",
    "        try:\n",
    "            return self.char_to_idx[c]\n",
    "        except KeyError:\n",
    "            return self.char_to_idx[self.UNK]\n",
    "    \n",
    "    def fit(self, sequences):\n",
    "        \"\"\"Create the vocab from a sequence of strings\"\"\"\n",
    "        chars = set.union(*map(set, sequences))\n",
    "        for char in chars: self.add(char)\n",
    "\n",
    "    def add(self, c: str):\n",
    "        \"\"\"Add the character if its not in the vocab, else do nothing\"\"\"\n",
    "        if self.char_to_idx.get(c) is None:\n",
    "            self.char_to_idx[c] = len(self.vocab)\n",
    "            self.idx_to_char[len(self.vocab)] = c\n",
    "            self.vocab.append(c)\n",
    "        return len(self.vocab)\n",
    "\n",
    "    \n",
    "def encode_sequence(seq, tokenizer):\n",
    "    return [tokenizer[tokenizer.BOS]] + [tokenizer[c] for c in seq] + [tokenizer[tokenizer.EOS]]"
   ]
  },
  {
   "cell_type": "code",
   "execution_count": 7,
   "metadata": {},
   "outputs": [
    {
     "name": "stderr",
     "output_type": "stream",
     "text": [
      "/home/mdogan/miniconda3/lib/python3.7/site-packages/ipykernel_launcher.py:7: SettingWithCopyWarning: \n",
      "A value is trying to be set on a copy of a slice from a DataFrame.\n",
      "Try using .loc[row_indexer,col_indexer] = value instead\n",
      "\n",
      "See the caveats in the documentation: http://pandas.pydata.org/pandas-docs/stable/user_guide/indexing.html#returning-a-view-versus-a-copy\n",
      "  import sys\n",
      "/home/mdogan/miniconda3/lib/python3.7/site-packages/ipykernel_launcher.py:11: SettingWithCopyWarning: \n",
      "A value is trying to be set on a copy of a slice from a DataFrame.\n",
      "Try using .loc[row_indexer,col_indexer] = value instead\n",
      "\n",
      "See the caveats in the documentation: http://pandas.pydata.org/pandas-docs/stable/user_guide/indexing.html#returning-a-view-versus-a-copy\n",
      "  # This is added back by InteractiveShellApp.init_path()\n",
      "/home/mdogan/miniconda3/lib/python3.7/site-packages/ipykernel_launcher.py:18: SettingWithCopyWarning: \n",
      "A value is trying to be set on a copy of a slice from a DataFrame.\n",
      "Try using .loc[row_indexer,col_indexer] = value instead\n",
      "\n",
      "See the caveats in the documentation: http://pandas.pydata.org/pandas-docs/stable/user_guide/indexing.html#returning-a-view-versus-a-copy\n"
     ]
    }
   ],
   "source": [
    "tokenizer = Tokenizer()\n",
    "tokenizer.fit(train_df.equation)\n",
    "\n",
    "# convert string to list of int\n",
    "train_df['seq'] = train_df.equation.apply(encode_sequence, args=(tokenizer,))\n",
    "val_df['seq'] = val_df.equation.apply(encode_sequence, args=(tokenizer,))\n",
    "test_df['seq'] = test_df.equation.apply(encode_sequence, args=(tokenizer,))\n",
    "\n",
    "train_df['length'] = train_df.seq.apply(len)\n",
    "val_df['length'] = val_df.seq.apply(len)\n",
    "test_df['length'] = test_df.seq.apply(len)\n",
    "\n",
    "labels = train_df.source.unique()\n",
    "label_map = {label: i for i, label in enumerate(labels)}\n",
    "\n",
    "train_df['label'] = train_df.source.map(label_map)\n",
    "val_df['label'] = val_df.source.map(label_map)\n",
    "test_df['label'] = test_df.source.map(label_map)\n"
   ]
  },
  {
   "cell_type": "code",
   "execution_count": 8,
   "metadata": {},
   "outputs": [
    {
     "data": {
      "text/plain": [
       "[1, 226, 127, 207, 52, 2]"
      ]
     },
     "execution_count": 8,
     "metadata": {},
     "output_type": "execute_result"
    }
   ],
   "source": [
    "encode_sequence('1234', tokenizer)"
   ]
  },
  {
   "cell_type": "code",
   "execution_count": 9,
   "metadata": {},
   "outputs": [
    {
     "data": {
      "text/plain": [
       "52"
      ]
     },
     "execution_count": 9,
     "metadata": {},
     "output_type": "execute_result"
    }
   ],
   "source": [
    "tokenizer['4']"
   ]
  },
  {
   "cell_type": "code",
   "execution_count": 10,
   "metadata": {},
   "outputs": [
    {
     "data": {
      "text/plain": [
       "{'physics.stackexchange.com': 0, 'chemistry.stackexchange.com': 1}"
      ]
     },
     "execution_count": 10,
     "metadata": {},
     "output_type": "execute_result"
    }
   ],
   "source": [
    "label_map"
   ]
  },
  {
   "cell_type": "code",
   "execution_count": 11,
   "metadata": {},
   "outputs": [
    {
     "data": {
      "text/html": [
       "<div>\n",
       "<style scoped>\n",
       "    .dataframe tbody tr th:only-of-type {\n",
       "        vertical-align: middle;\n",
       "    }\n",
       "\n",
       "    .dataframe tbody tr th {\n",
       "        vertical-align: top;\n",
       "    }\n",
       "\n",
       "    .dataframe thead th {\n",
       "        text-align: right;\n",
       "    }\n",
       "</style>\n",
       "<table border=\"1\" class=\"dataframe\">\n",
       "  <thead>\n",
       "    <tr style=\"text-align: right;\">\n",
       "      <th></th>\n",
       "      <th>equation</th>\n",
       "      <th>post_id</th>\n",
       "      <th>score</th>\n",
       "      <th>source</th>\n",
       "      <th>type</th>\n",
       "      <th>user_id</th>\n",
       "      <th>seq</th>\n",
       "      <th>length</th>\n",
       "      <th>label</th>\n",
       "    </tr>\n",
       "  </thead>\n",
       "  <tbody>\n",
       "    <tr>\n",
       "      <th>442464</th>\n",
       "      <td>\\langle i j k \\rangle</td>\n",
       "      <td>249737</td>\n",
       "      <td>2</td>\n",
       "      <td>physics.stackexchange.com</td>\n",
       "      <td>Posts</td>\n",
       "      <td>17364.0</td>\n",
       "      <td>[1, 352, 59, 192, 172, 4, 59, 170, 169, 53, 16...</td>\n",
       "      <td>23</td>\n",
       "      <td>0</td>\n",
       "    </tr>\n",
       "    <tr>\n",
       "      <th>922501</th>\n",
       "      <td>dN=4\\pi\\frac{L^3\\nu^2}{c^3}d\\nu</td>\n",
       "      <td>463621</td>\n",
       "      <td>1</td>\n",
       "      <td>physics.stackexchange.com</td>\n",
       "      <td>Posts</td>\n",
       "      <td>140323.0</td>\n",
       "      <td>[1, 285, 362, 346, 52, 352, 161, 53, 352, 277,...</td>\n",
       "      <td>33</td>\n",
       "      <td>0</td>\n",
       "    </tr>\n",
       "    <tr>\n",
       "      <th>228954</th>\n",
       "      <td>\\psi(x)~:=~e^{-\\frac{x^2}{2L^2}}, \\qquad L~&amp;gt...</td>\n",
       "      <td>143694</td>\n",
       "      <td>20</td>\n",
       "      <td>physics.stackexchange.com</td>\n",
       "      <td>Posts</td>\n",
       "      <td>2451.0</td>\n",
       "      <td>[1, 352, 161, 159, 53, 46, 347, 37, 119, 121, ...</td>\n",
       "      <td>59</td>\n",
       "      <td>0</td>\n",
       "    </tr>\n",
       "    <tr>\n",
       "      <th>327147</th>\n",
       "      <td>t\\mapsto q(-t)</td>\n",
       "      <td>192328</td>\n",
       "      <td>1</td>\n",
       "      <td>physics.stackexchange.com</td>\n",
       "      <td>Posts</td>\n",
       "      <td>2451.0</td>\n",
       "      <td>[1, 306, 352, 118, 192, 161, 159, 306, 61, 169...</td>\n",
       "      <td>16</td>\n",
       "      <td>0</td>\n",
       "    </tr>\n",
       "    <tr>\n",
       "      <th>433478</th>\n",
       "      <td>20 kg</td>\n",
       "      <td>245041</td>\n",
       "      <td>0</td>\n",
       "      <td>physics.stackexchange.com</td>\n",
       "      <td>Posts</td>\n",
       "      <td>112019.0</td>\n",
       "      <td>[1, 127, 248, 169, 304, 4, 2]</td>\n",
       "      <td>7</td>\n",
       "      <td>0</td>\n",
       "    </tr>\n",
       "    <tr>\n",
       "      <th>70587</th>\n",
       "      <td>V\\sim R^3</td>\n",
       "      <td>504137</td>\n",
       "      <td>0</td>\n",
       "      <td>physics.stackexchange.com</td>\n",
       "      <td>Comments</td>\n",
       "      <td>86132.0</td>\n",
       "      <td>[1, 219, 352, 159, 53, 118, 169, 334, 308, 207...</td>\n",
       "      <td>11</td>\n",
       "      <td>0</td>\n",
       "    </tr>\n",
       "    <tr>\n",
       "      <th>742969</th>\n",
       "      <td>v(t)=\\frac {m g}{k}[1-exp (-\\frac {k t}{m})]</td>\n",
       "      <td>384100</td>\n",
       "      <td>0</td>\n",
       "      <td>physics.stackexchange.com</td>\n",
       "      <td>Posts</td>\n",
       "      <td>129209.0</td>\n",
       "      <td>[1, 189, 46, 306, 37, 346, 352, 277, 351, 192,...</td>\n",
       "      <td>46</td>\n",
       "      <td>0</td>\n",
       "    </tr>\n",
       "    <tr>\n",
       "      <th>286010</th>\n",
       "      <td>\\mathbf{p} = \\dfrac{m\\mathbf{v}}{\\sqrt{1-\\dfra...</td>\n",
       "      <td>171107</td>\n",
       "      <td>2</td>\n",
       "      <td>physics.stackexchange.com</td>\n",
       "      <td>Posts</td>\n",
       "      <td>21146.0</td>\n",
       "      <td>[1, 352, 118, 192, 306, 187, 243, 277, 146, 16...</td>\n",
       "      <td>61</td>\n",
       "      <td>0</td>\n",
       "    </tr>\n",
       "    <tr>\n",
       "      <th>91687</th>\n",
       "      <td>\\gamma = \\dot{\\Gamma}</td>\n",
       "      <td>635154</td>\n",
       "      <td>0</td>\n",
       "      <td>physics.stackexchange.com</td>\n",
       "      <td>Comments</td>\n",
       "      <td>40895.0</td>\n",
       "      <td>[1, 352, 4, 192, 118, 118, 192, 169, 346, 169,...</td>\n",
       "      <td>23</td>\n",
       "      <td>0</td>\n",
       "    </tr>\n",
       "    <tr>\n",
       "      <th>974580</th>\n",
       "      <td>|c\\rangle  =|a\\rangle + |b\\rangle</td>\n",
       "      <td>44022</td>\n",
       "      <td>0</td>\n",
       "      <td>physics.stackexchange.com</td>\n",
       "      <td>Posts</td>\n",
       "      <td>15900.0</td>\n",
       "      <td>[1, 274, 55, 352, 351, 192, 172, 4, 59, 170, 1...</td>\n",
       "      <td>35</td>\n",
       "      <td>0</td>\n",
       "    </tr>\n",
       "  </tbody>\n",
       "</table>\n",
       "</div>"
      ],
      "text/plain": [
       "                                                 equation  post_id  score  \\\n",
       "442464                              \\langle i j k \\rangle   249737      2   \n",
       "922501                    dN=4\\pi\\frac{L^3\\nu^2}{c^3}d\\nu   463621      1   \n",
       "228954  \\psi(x)~:=~e^{-\\frac{x^2}{2L^2}}, \\qquad L~&gt...   143694     20   \n",
       "327147                                     t\\mapsto q(-t)   192328      1   \n",
       "433478                                              20 kg   245041      0   \n",
       "70587                                           V\\sim R^3   504137      0   \n",
       "742969       v(t)=\\frac {m g}{k}[1-exp (-\\frac {k t}{m})]   384100      0   \n",
       "286010  \\mathbf{p} = \\dfrac{m\\mathbf{v}}{\\sqrt{1-\\dfra...   171107      2   \n",
       "91687                               \\gamma = \\dot{\\Gamma}   635154      0   \n",
       "974580                  |c\\rangle  =|a\\rangle + |b\\rangle    44022      0   \n",
       "\n",
       "                           source      type   user_id  \\\n",
       "442464  physics.stackexchange.com     Posts   17364.0   \n",
       "922501  physics.stackexchange.com     Posts  140323.0   \n",
       "228954  physics.stackexchange.com     Posts    2451.0   \n",
       "327147  physics.stackexchange.com     Posts    2451.0   \n",
       "433478  physics.stackexchange.com     Posts  112019.0   \n",
       "70587   physics.stackexchange.com  Comments   86132.0   \n",
       "742969  physics.stackexchange.com     Posts  129209.0   \n",
       "286010  physics.stackexchange.com     Posts   21146.0   \n",
       "91687   physics.stackexchange.com  Comments   40895.0   \n",
       "974580  physics.stackexchange.com     Posts   15900.0   \n",
       "\n",
       "                                                      seq  length  label  \n",
       "442464  [1, 352, 59, 192, 172, 4, 59, 170, 169, 53, 16...      23      0  \n",
       "922501  [1, 285, 362, 346, 52, 352, 161, 53, 352, 277,...      33      0  \n",
       "228954  [1, 352, 161, 159, 53, 46, 347, 37, 119, 121, ...      59      0  \n",
       "327147  [1, 306, 352, 118, 192, 161, 159, 306, 61, 169...      16      0  \n",
       "433478                      [1, 127, 248, 169, 304, 4, 2]       7      0  \n",
       "70587   [1, 219, 352, 159, 53, 118, 169, 334, 308, 207...      11      0  \n",
       "742969  [1, 189, 46, 306, 37, 346, 352, 277, 351, 192,...      46      0  \n",
       "286010  [1, 352, 118, 192, 306, 187, 243, 277, 146, 16...      61      0  \n",
       "91687   [1, 352, 4, 192, 118, 118, 192, 169, 346, 169,...      23      0  \n",
       "974580  [1, 274, 55, 352, 351, 192, 172, 4, 59, 170, 1...      35      0  "
      ]
     },
     "execution_count": 11,
     "metadata": {},
     "output_type": "execute_result"
    }
   ],
   "source": [
    "train_df.sample(10)"
   ]
  },
  {
   "cell_type": "code",
   "execution_count": 12,
   "metadata": {},
   "outputs": [],
   "source": [
    "class DataGenerator(utils.Sequence):\n",
    "    def __init__(self, df, batch_size: int = 32, shuffle: bool = False, weight: bool = False):\n",
    "        self.df = df\n",
    "        self.batch_size = batch_size\n",
    "        self.shuffle = shuffle\n",
    "        self.weight = weight\n",
    "        self.class_weight =  self.compute_class_weight() if self.weight else np.ones((3,))\n",
    "        \n",
    "        if self.shuffle:\n",
    "            self.df = self.df.sample(frac=1)\n",
    "            \n",
    "\n",
    "    def get_data_at_index(self, batch_idx):\n",
    "        offset = self.batch_size * batch_idx\n",
    "        return self.df.iloc[offset: offset+self.batch_size]\n",
    "    \n",
    "    def __getitem__(self, batch_idx: int):\n",
    "        batch = self.get_data_at_index(batch_idx)\n",
    "        if self.shuffle:\n",
    "            batch = batch.sample(frac=1)\n",
    "\n",
    "        X = sequence.pad_sequences(\n",
    "            batch.seq,\n",
    "            maxlen=min( max(batch.length), 32),\n",
    "            truncating='post',\n",
    "        )\n",
    "        Y = batch.label.values\n",
    "        w = np.array([self.class_weight[label] for label in Y])\n",
    "        return X, Y, w\n",
    "    \n",
    "    def on_epoch_end(self):\n",
    "        if self.shuffle:\n",
    "            self.df = self.df.sample(frac=1)\n",
    "            \n",
    "    def __len__(self):\n",
    "        return int(np.ceil( self.df.shape[0] / self.batch_size ))\n",
    "    \n",
    "    def compute_class_weight(self):\n",
    "        n_classes = 3\n",
    "        n_samples = self.df.shape[0]\n",
    "        return n_samples / (n_classes * np.bincount(self.df.label.values))\n"
   ]
  },
  {
   "cell_type": "code",
   "execution_count": 13,
   "metadata": {},
   "outputs": [],
   "source": [
    "# ensure balanced classes\n",
    "# N_train = train_df.groupby('source').count().values.min()\n",
    "# N_val = val_df.groupby('source').count().values.min()\n",
    "\n",
    "# small_df = pd.concat([train_df[train_df.label==l].sample(N_train, replace=False) for l in range(3)])\n",
    "# small_val_df = pd.concat([val_df[val_df.label==l].sample(N_val, replace=False) for l in range(3)])\n",
    "\n",
    "batch_size = 1024\n",
    "train_dg = DataGenerator(train_df, batch_size=batch_size, shuffle=True, weight=True)\n",
    "val_dg = DataGenerator(val_df, batch_size=batch_size, shuffle=False, weight=False)\n"
   ]
  },
  {
   "cell_type": "code",
   "execution_count": 14,
   "metadata": {},
   "outputs": [],
   "source": [
    "class Mask(layers.Layer):\n",
    "    def call(self, inputs):\n",
    "        value = tf.cast(0, dtype=inputs.dtype)\n",
    "        is_zero = tf.equal(inputs, value)\n",
    "        return tf.cast(tf.logical_not(is_zero), tf.float32)\n",
    "\n",
    "        \n",
    "class ApplyMask(layers.Layer):\n",
    "    def call(self, inputs):\n",
    "        data, mask = inputs\n",
    "        mask = tf.expand_dims(mask, axis=-1)  # (N, T, 1)\n",
    "        return tf.multiply(data, mask)"
   ]
  },
  {
   "cell_type": "code",
   "execution_count": 15,
   "metadata": {},
   "outputs": [],
   "source": [
    "def clf_model(tokenizer):\n",
    "    \n",
    "    emb = 32\n",
    "    n_kernels = 128\n",
    "    kernel_width = 3\n",
    "    \n",
    "    # define layers\n",
    "    input = layers.Input(batch_shape=(None, None))  # (N, T)\n",
    "    embedding_layer = layers.Embedding(len(tokenizer.vocab), emb, mask_zero=False, name='embedding')  # (N, T, emb)\n",
    "    mask_layer = Mask(name='mask')  # (N, T)\n",
    "    conv_layer = layers.Conv1D(\n",
    "        n_kernels, kernel_width, \n",
    "        activation='tanh',\n",
    "        kernel_initializer='he_normal',\n",
    "        padding='same',\n",
    "        name='conv'\n",
    "    )  # (N, T, n_kernels), selects 3-grams\n",
    "    apply_mask_layer = ApplyMask(name='apply_mask')  # (N, T, n_kernels), zero the timesteps that were padding\n",
    "    rnn_layer = layers.LSTM(n_kernels, name='rnn') # (N, e)\n",
    "    softmax_layer = layers.Dense(3, activation='softmax', name='output')\n",
    "    \n",
    "    # call layers\n",
    "    embedding = embedding_layer(input)\n",
    "    mask = mask_layer(input)\n",
    "    conv = conv_layer(embedding)\n",
    "    conv = apply_mask_layer([conv, mask])\n",
    "    encoded = rnn_layer(conv)\n",
    "    output = softmax_layer(encoded)\n",
    "    model = models.Model(input, output)\n",
    "    return model\n",
    "    \n",
    "def compile_model(model):\n",
    "    model.compile(\n",
    "        loss='sparse_categorical_crossentropy',\n",
    "        optimizer='adam',\n",
    "        metrics=['sparse_categorical_accuracy']\n",
    "    )\n"
   ]
  },
  {
   "cell_type": "code",
   "execution_count": 16,
   "metadata": {},
   "outputs": [
    {
     "name": "stderr",
     "output_type": "stream",
     "text": [
      "WARNING: Logging before flag parsing goes to stderr.\n",
      "W0816 07:08:25.818192 140713318123264 deprecation.py:506] From /home/mdogan/miniconda3/lib/python3.7/site-packages/tensorflow/python/keras/initializers.py:119: calling RandomUniform.__init__ (from tensorflow.python.ops.init_ops) with dtype is deprecated and will be removed in a future version.\n",
      "Instructions for updating:\n",
      "Call initializer instance with the dtype argument instead of passing it to the constructor\n",
      "W0816 07:08:25.821011 140713318123264 deprecation.py:506] From /home/mdogan/miniconda3/lib/python3.7/site-packages/tensorflow/python/ops/init_ops.py:1251: calling VarianceScaling.__init__ (from tensorflow.python.ops.init_ops) with dtype is deprecated and will be removed in a future version.\n",
      "Instructions for updating:\n",
      "Call initializer instance with the dtype argument instead of passing it to the constructor\n"
     ]
    },
    {
     "name": "stdout",
     "output_type": "stream",
     "text": [
      "Model: \"model\"\n",
      "__________________________________________________________________________________________________\n",
      "Layer (type)                    Output Shape         Param #     Connected to                     \n",
      "==================================================================================================\n",
      "input_1 (InputLayer)            [(None, None)]       0                                            \n",
      "__________________________________________________________________________________________________\n",
      "embedding (Embedding)           (None, None, 32)     11968       input_1[0][0]                    \n",
      "__________________________________________________________________________________________________\n",
      "conv (Conv1D)                   (None, None, 128)    12416       embedding[0][0]                  \n",
      "__________________________________________________________________________________________________\n",
      "mask (Mask)                     (None, None)         0           input_1[0][0]                    \n",
      "__________________________________________________________________________________________________\n",
      "apply_mask (ApplyMask)          (None, None, 128)    0           conv[0][0]                       \n",
      "                                                                 mask[0][0]                       \n",
      "__________________________________________________________________________________________________\n",
      "rnn (LSTM)                      (None, 128)          131584      apply_mask[0][0]                 \n",
      "__________________________________________________________________________________________________\n",
      "output (Dense)                  (None, 3)            387         rnn[0][0]                        \n",
      "==================================================================================================\n",
      "Total params: 156,355\n",
      "Trainable params: 156,355\n",
      "Non-trainable params: 0\n",
      "__________________________________________________________________________________________________\n",
      "None\n"
     ]
    }
   ],
   "source": [
    "model = clf_model(tokenizer)  # initialize the weights\n",
    "compile_model(model)  # set the loss fn and optimizer\n",
    "print(model.summary())  # check the number of parameters\n"
   ]
  },
  {
   "cell_type": "code",
   "execution_count": 17,
   "metadata": {
    "scrolled": false
   },
   "outputs": [
    {
     "name": "stderr",
     "output_type": "stream",
     "text": [
      "W0816 07:08:30.490411 140713318123264 deprecation.py:323] From /home/mdogan/miniconda3/lib/python3.7/site-packages/tensorflow/python/ops/math_grad.py:1250: add_dispatch_support.<locals>.wrapper (from tensorflow.python.ops.array_ops) is deprecated and will be removed in a future version.\n",
      "Instructions for updating:\n",
      "Use tf.where in 2.0, which has the same broadcast rule as np.where\n"
     ]
    },
    {
     "name": "stdout",
     "output_type": "stream",
     "text": [
      "Epoch 1/32\n",
      "532/532 [==============================] - 31s 59ms/step - loss: 0.2961 - sparse_categorical_accuracy: 0.8333 - val_loss: 0.2960 - val_sparse_categorical_accuracy: 0.8971\n",
      "Epoch 2/32\n",
      "532/532 [==============================] - 28s 53ms/step - loss: 0.2544 - sparse_categorical_accuracy: 0.8624 - val_loss: 0.3326 - val_sparse_categorical_accuracy: 0.8702\n",
      "Epoch 3/32\n",
      "532/532 [==============================] - 28s 53ms/step - loss: 0.2416 - sparse_categorical_accuracy: 0.8698 - val_loss: 0.2869 - val_sparse_categorical_accuracy: 0.8999\n",
      "Epoch 4/32\n",
      "532/532 [==============================] - 28s 53ms/step - loss: 0.2322 - sparse_categorical_accuracy: 0.8750 - val_loss: 0.3100 - val_sparse_categorical_accuracy: 0.8744\n",
      "Epoch 5/32\n",
      "532/532 [==============================] - 28s 53ms/step - loss: 0.2247 - sparse_categorical_accuracy: 0.8772 - val_loss: 0.3033 - val_sparse_categorical_accuracy: 0.8757\n",
      "Epoch 6/32\n",
      "532/532 [==============================] - 28s 53ms/step - loss: 0.2170 - sparse_categorical_accuracy: 0.8808 - val_loss: 0.2885 - val_sparse_categorical_accuracy: 0.8863\n",
      "Epoch 7/32\n",
      "532/532 [==============================] - 28s 53ms/step - loss: 0.2097 - sparse_categorical_accuracy: 0.8836 - val_loss: 0.2659 - val_sparse_categorical_accuracy: 0.8947\n",
      "Epoch 8/32\n",
      "532/532 [==============================] - 28s 53ms/step - loss: 0.2029 - sparse_categorical_accuracy: 0.8864 - val_loss: 0.3451 - val_sparse_categorical_accuracy: 0.8496\n",
      "Epoch 9/32\n",
      "532/532 [==============================] - 28s 53ms/step - loss: 0.1963 - sparse_categorical_accuracy: 0.8878 - val_loss: 0.2726 - val_sparse_categorical_accuracy: 0.8885\n",
      "Epoch 10/32\n",
      "532/532 [==============================] - 28s 53ms/step - loss: 0.1890 - sparse_categorical_accuracy: 0.8908 - val_loss: 0.2841 - val_sparse_categorical_accuracy: 0.8827\n",
      "Epoch 11/32\n",
      "532/532 [==============================] - 28s 53ms/step - loss: 0.1828 - sparse_categorical_accuracy: 0.8926 - val_loss: 0.2906 - val_sparse_categorical_accuracy: 0.8739\n",
      "Epoch 12/32\n",
      "532/532 [==============================] - 28s 53ms/step - loss: 0.1759 - sparse_categorical_accuracy: 0.8951 - val_loss: 0.2545 - val_sparse_categorical_accuracy: 0.8939\n",
      "Epoch 13/32\n",
      "532/532 [==============================] - 28s 53ms/step - loss: 0.1684 - sparse_categorical_accuracy: 0.8976 - val_loss: 0.2604 - val_sparse_categorical_accuracy: 0.8894\n",
      "Epoch 14/32\n",
      "532/532 [==============================] - 28s 53ms/step - loss: 0.1615 - sparse_categorical_accuracy: 0.8997 - val_loss: 0.2566 - val_sparse_categorical_accuracy: 0.8896\n",
      "Epoch 15/32\n",
      "532/532 [==============================] - 28s 53ms/step - loss: 0.1550 - sparse_categorical_accuracy: 0.9026 - val_loss: 0.2722 - val_sparse_categorical_accuracy: 0.8810\n",
      "Epoch 16/32\n",
      "532/532 [==============================] - 28s 53ms/step - loss: 0.1487 - sparse_categorical_accuracy: 0.9048 - val_loss: 0.2728 - val_sparse_categorical_accuracy: 0.8814\n",
      "Epoch 17/32\n",
      "532/532 [==============================] - 28s 53ms/step - loss: 0.1423 - sparse_categorical_accuracy: 0.9071 - val_loss: 0.2437 - val_sparse_categorical_accuracy: 0.8992\n",
      "Epoch 18/32\n",
      "532/532 [==============================] - 28s 53ms/step - loss: 0.1364 - sparse_categorical_accuracy: 0.9097 - val_loss: 0.2589 - val_sparse_categorical_accuracy: 0.8930\n",
      "Epoch 19/32\n",
      "532/532 [==============================] - 28s 53ms/step - loss: 0.1304 - sparse_categorical_accuracy: 0.9123 - val_loss: 0.2641 - val_sparse_categorical_accuracy: 0.8894\n",
      "Epoch 20/32\n",
      "532/532 [==============================] - 28s 53ms/step - loss: 0.1253 - sparse_categorical_accuracy: 0.9146 - val_loss: 0.2764 - val_sparse_categorical_accuracy: 0.8838\n",
      "Epoch 21/32\n",
      "532/532 [==============================] - 28s 53ms/step - loss: 0.1203 - sparse_categorical_accuracy: 0.9173 - val_loss: 0.2597 - val_sparse_categorical_accuracy: 0.8939\n",
      "Epoch 22/32\n",
      "532/532 [==============================] - 28s 53ms/step - loss: 0.1152 - sparse_categorical_accuracy: 0.9203 - val_loss: 0.2783 - val_sparse_categorical_accuracy: 0.8854\n",
      "Epoch 23/32\n",
      "532/532 [==============================] - 28s 53ms/step - loss: 0.1108 - sparse_categorical_accuracy: 0.9221 - val_loss: 0.2721 - val_sparse_categorical_accuracy: 0.8923\n",
      "Epoch 24/32\n",
      "532/532 [==============================] - 28s 53ms/step - loss: 0.1067 - sparse_categorical_accuracy: 0.9247 - val_loss: 0.2861 - val_sparse_categorical_accuracy: 0.8860\n",
      "Epoch 25/32\n",
      "532/532 [==============================] - 28s 53ms/step - loss: 0.1032 - sparse_categorical_accuracy: 0.9267 - val_loss: 0.2746 - val_sparse_categorical_accuracy: 0.8941\n",
      "Epoch 26/32\n",
      "532/532 [==============================] - 28s 53ms/step - loss: 0.0999 - sparse_categorical_accuracy: 0.9286 - val_loss: 0.2849 - val_sparse_categorical_accuracy: 0.8921\n",
      "Epoch 27/32\n",
      "532/532 [==============================] - 28s 53ms/step - loss: 0.0963 - sparse_categorical_accuracy: 0.9308 - val_loss: 0.2710 - val_sparse_categorical_accuracy: 0.9042\n",
      "Epoch 28/32\n",
      "532/532 [==============================] - 28s 53ms/step - loss: 0.0928 - sparse_categorical_accuracy: 0.9333 - val_loss: 0.2960 - val_sparse_categorical_accuracy: 0.8898\n",
      "Epoch 29/32\n",
      "532/532 [==============================] - 28s 53ms/step - loss: 0.0905 - sparse_categorical_accuracy: 0.9348 - val_loss: 0.2938 - val_sparse_categorical_accuracy: 0.8957\n",
      "Epoch 30/32\n",
      "532/532 [==============================] - 28s 53ms/step - loss: 0.0888 - sparse_categorical_accuracy: 0.9360 - val_loss: 0.3183 - val_sparse_categorical_accuracy: 0.8852\n",
      "Epoch 31/32\n",
      "532/532 [==============================] - 28s 53ms/step - loss: 0.0853 - sparse_categorical_accuracy: 0.9384 - val_loss: 0.2962 - val_sparse_categorical_accuracy: 0.9035\n",
      "Epoch 32/32\n",
      "532/532 [==============================] - 28s 53ms/step - loss: 0.0826 - sparse_categorical_accuracy: 0.9403 - val_loss: 0.3164 - val_sparse_categorical_accuracy: 0.8982\n"
     ]
    }
   ],
   "source": [
    "history = model.fit_generator(\n",
    "    train_dg,\n",
    "    validation_data=val_dg,\n",
    "    epochs=32,\n",
    "    workers=3,\n",
    "    use_multiprocessing=True\n",
    ")"
   ]
  },
  {
   "cell_type": "code",
   "execution_count": 18,
   "metadata": {},
   "outputs": [
    {
     "data": {
      "image/png": "[encoded data removed]",
      "text/plain": [
       "<Figure size 432x288 with 1 Axes>"
      ]
     },
     "metadata": {
      "needs_background": "light"
     },
     "output_type": "display_data"
    }
   ],
   "source": [
    "%matplotlib inline\n",
    "\n",
    "plt.plot(history.history['loss'], label='training')\n",
    "plt.plot(history.history['val_loss'], label='validation')\n",
    "plt.legend()\n",
    "\n",
    "name = \"model2_epoch32_1\"\n",
    "plt.savefig('../result/loss/' + name + '.png', dpi=200)\n",
    "\n",
    "plt.show()"
   ]
  },
  {
   "cell_type": "markdown",
   "metadata": {},
   "source": [
    "# Evaluation"
   ]
  },
  {
   "cell_type": "markdown",
   "metadata": {
    "heading_collapsed": true
   },
   "source": [
    "## evaluation tools"
   ]
  },
  {
   "cell_type": "code",
   "execution_count": 19,
   "metadata": {
    "hidden": true
   },
   "outputs": [],
   "source": [
    "import itertools\n",
    "from sklearn.metrics import confusion_matrix\n",
    "from sklearn.utils.multiclass import unique_labels\n",
    "import matplotlib.pyplot as plt\n",
    "\n",
    "%matplotlib inline\n",
    "\n",
    "def plot_confusion_matrix(y_true, y_pred, classes, name,\n",
    "                          normalize=False,\n",
    "                          title=None,\n",
    "                          cmap=plt.cm.Blues):\n",
    "    if not title:\n",
    "        if normalize:\n",
    "            title = 'Normalized confusion matrix'\n",
    "        else:\n",
    "            title = 'Confusion matrix, without normalization'\n",
    "\n",
    "    # Compute confusion matrix\n",
    "    cm = confusion_matrix(y_true, y_pred)\n",
    "    # Only use the labels that appear in the data\n",
    "    classes = classes[unique_labels(y_true, y_pred)]\n",
    "    if normalize:\n",
    "        cm = cm.astype('float') / cm.sum(axis=1)[:, np.newaxis]\n",
    "        print(\"Normalized confusion matrix\")\n",
    "    else:\n",
    "        print('Confusion matrix, without normalization')\n",
    "\n",
    "    print(cm)\n",
    "\n",
    "    fig, ax = plt.subplots()\n",
    "    im = ax.imshow(cm, interpolation='nearest', cmap=cmap)\n",
    "    ax.figure.colorbar(im, ax=ax)\n",
    "    # We want to show all ticks...\n",
    "    ax.set(xticks=np.arange(cm.shape[1]),\n",
    "           yticks=np.arange(cm.shape[0]),\n",
    "           # ... and label them with the respective list entries\n",
    "           xticklabels=classes, yticklabels=classes,\n",
    "           title=title,\n",
    "           ylabel='True label',\n",
    "           xlabel='Predicted label')\n",
    "\n",
    "    # Rotate the tick labels and set their alignment.\n",
    "    plt.setp(ax.get_xticklabels(), rotation=45, ha=\"right\",\n",
    "             rotation_mode=\"anchor\")\n",
    "\n",
    "    # Loop over data dimensions and create text annotations.\n",
    "    fmt = '.2f' if normalize else 'd'\n",
    "    thresh = cm.max() / 2.\n",
    "    for i in range(cm.shape[0]):\n",
    "        for j in range(cm.shape[1]):\n",
    "            ax.text(j, i, format(cm[i, j], fmt),\n",
    "                    ha=\"center\", va=\"center\",\n",
    "                    color=\"white\" if cm[i, j] > thresh else \"black\")\n",
    "    fig.tight_layout()\n",
    "    \n",
    "    plt.savefig('../result/confusion_matrix/' + name + '.png', dpi=200)\n",
    "    return ax"
   ]
  },
  {
   "cell_type": "code",
   "execution_count": 20,
   "metadata": {
    "hidden": true
   },
   "outputs": [],
   "source": [
    "def predict_on_df(model, df):\n",
    "    dg = DataGenerator(df, batch_size=32, shuffle=False)\n",
    "    yhat = model.predict_generator(dg)\n",
    "    pred_index = yhat.argmax(axis=1)\n",
    "    pred_conf = yhat.max(axis=1)\n",
    "    df['pred_index'] = pred_index\n",
    "    df['pred_label'] = df.pred_index.apply(lambda x: list(label_map.keys())[x])\n",
    "    df['pred_conf'] = pred_conf\n",
    "    df['match'] = df['pred_index'] == df['label']\n",
    "    return df\n",
    "\n",
    "\n",
    "def display_top_losses(prediction_df, k: int = 10):\n",
    "    wrong_condition = ~prediction_df.match\n",
    "    wrong_df = prediction_df[wrong_condition]\n",
    "    return wrong_df.sort_values('pred_conf', ascending=False).iloc[0:k][['equation', 'pred_label', 'source', 'pred_index', 'label', 'pred_conf']]\n",
    "    \n",
    "def predict_from_str(equation, model, tokenizer):\n",
    "    X = np.array([encode_sequence(equation, tokenizer)])\n",
    "    yhat = model.predict(X)\n",
    "    pred_index = yhat.argmax()\n",
    "    label = [label for label, i in label_map.items() if i==pred_index][0]\n",
    "    return {\n",
    "        'yhat': yhat.tolist(),\n",
    "        'pred_index': pred_index,\n",
    "        'label': label\n",
    "           }"
   ]
  },
  {
   "cell_type": "markdown",
   "metadata": {},
   "source": [
    "## evaluate"
   ]
  },
  {
   "cell_type": "code",
   "execution_count": 21,
   "metadata": {},
   "outputs": [],
   "source": [
    "predictions = predict_on_df(model, val_df)\n"
   ]
  },
  {
   "cell_type": "code",
   "execution_count": 22,
   "metadata": {
    "scrolled": false
   },
   "outputs": [
    {
     "name": "stdout",
     "output_type": "stream",
     "text": [
      "Confusion matrix, without normalization\n",
      "[[45863  4390]\n",
      " [ 1479  5946]]\n"
     ]
    },
    {
     "data": {
      "text/plain": [
       "<matplotlib.axes._subplots.AxesSubplot at 0x7ff92c7d9f28>"
      ]
     },
     "execution_count": 22,
     "metadata": {},
     "output_type": "execute_result"
    },
    {
     "data": {
      "image/png": "[encoded data removed]",
      "text/plain": [
       "<Figure size 432x288 with 2 Axes>"
      ]
     },
     "metadata": {
      "needs_background": "light"
     },
     "output_type": "display_data"
    }
   ],
   "source": [
    "name = \"model2_epoch32_1\"\n",
    "plot_confusion_matrix(predictions.label, predictions.pred_index, np.array(list(label_map.keys())), name)\n"
   ]
  },
  {
   "cell_type": "code",
   "execution_count": 23,
   "metadata": {
    "scrolled": false
   },
   "outputs": [
    {
     "name": "stdout",
     "output_type": "stream",
     "text": [
      "Normalized confusion matrix\n",
      "[[0.91264203 0.08735797]\n",
      " [0.19919192 0.80080808]]\n"
     ]
    },
    {
     "data": {
      "text/plain": [
       "<matplotlib.axes._subplots.AxesSubplot at 0x7ff9704f3c88>"
      ]
     },
     "execution_count": 23,
     "metadata": {},
     "output_type": "execute_result"
    },
    {
     "data": {
      "image/png": "[encoded data removed]",
      "text/plain": [
       "<Figure size 432x288 with 2 Axes>"
      ]
     },
     "metadata": {
      "needs_background": "light"
     },
     "output_type": "display_data"
    }
   ],
   "source": [
    "name = \"model2_epoch32_2\"\n",
    "plot_confusion_matrix(predictions.label, predictions.pred_index, np.array(list(label_map.keys())), name, normalize=True)\n"
   ]
  },
  {
   "cell_type": "code",
   "execution_count": 24,
   "metadata": {},
   "outputs": [
    {
     "data": {
      "text/plain": [
       "{'yhat': [[0.8457439541816711, 0.1542559713125229, 2.6163977651094683e-08]],\n",
       " 'pred_index': 0,\n",
       " 'label': 'physics.stackexchange.com'}"
      ]
     },
     "execution_count": 24,
     "metadata": {},
     "output_type": "execute_result"
    }
   ],
   "source": [
    "predict_from_str('H\\PSI = E\\PSI', model, tokenizer)"
   ]
  },
  {
   "cell_type": "code",
   "execution_count": 25,
   "metadata": {},
   "outputs": [
    {
     "data": {
      "text/html": [
       "<div>\n",
       "<style scoped>\n",
       "    .dataframe tbody tr th:only-of-type {\n",
       "        vertical-align: middle;\n",
       "    }\n",
       "\n",
       "    .dataframe tbody tr th {\n",
       "        vertical-align: top;\n",
       "    }\n",
       "\n",
       "    .dataframe thead th {\n",
       "        text-align: right;\n",
       "    }\n",
       "</style>\n",
       "<table border=\"1\" class=\"dataframe\">\n",
       "  <thead>\n",
       "    <tr style=\"text-align: right;\">\n",
       "      <th></th>\n",
       "      <th>equation</th>\n",
       "      <th>pred_label</th>\n",
       "      <th>source</th>\n",
       "      <th>pred_index</th>\n",
       "      <th>label</th>\n",
       "      <th>pred_conf</th>\n",
       "    </tr>\n",
       "  </thead>\n",
       "  <tbody>\n",
       "    <tr>\n",
       "      <th>203750</th>\n",
       "      <td>\\nabla^2D\\left(x^4+y^4+z^4+cr^4\\right)=0</td>\n",
       "      <td>physics.stackexchange.com</td>\n",
       "      <td>chemistry.stackexchange.com</td>\n",
       "      <td>0</td>\n",
       "      <td>1</td>\n",
       "      <td>1.0</td>\n",
       "    </tr>\n",
       "    <tr>\n",
       "      <th>1222058</th>\n",
       "      <td>\\rho_{\\pi/2} \\circ r = 1</td>\n",
       "      <td>physics.stackexchange.com</td>\n",
       "      <td>chemistry.stackexchange.com</td>\n",
       "      <td>0</td>\n",
       "      <td>1</td>\n",
       "      <td>1.0</td>\n",
       "    </tr>\n",
       "    <tr>\n",
       "      <th>1261470</th>\n",
       "      <td>P_{recoil}=\\frac{E_\\gamma}{c},</td>\n",
       "      <td>physics.stackexchange.com</td>\n",
       "      <td>chemistry.stackexchange.com</td>\n",
       "      <td>0</td>\n",
       "      <td>1</td>\n",
       "      <td>1.0</td>\n",
       "    </tr>\n",
       "    <tr>\n",
       "      <th>1303549</th>\n",
       "      <td>(\\ca,\\cb) = (1,0)</td>\n",
       "      <td>physics.stackexchange.com</td>\n",
       "      <td>chemistry.stackexchange.com</td>\n",
       "      <td>0</td>\n",
       "      <td>1</td>\n",
       "      <td>1.0</td>\n",
       "    </tr>\n",
       "    <tr>\n",
       "      <th>1215388</th>\n",
       "      <td>v_z=\\sqrt{2gL}</td>\n",
       "      <td>physics.stackexchange.com</td>\n",
       "      <td>chemistry.stackexchange.com</td>\n",
       "      <td>0</td>\n",
       "      <td>1</td>\n",
       "      <td>1.0</td>\n",
       "    </tr>\n",
       "    <tr>\n",
       "      <th>1261460</th>\n",
       "      <td>P_\\gamma=P_{atom,f}-P_{atom,i}</td>\n",
       "      <td>physics.stackexchange.com</td>\n",
       "      <td>chemistry.stackexchange.com</td>\n",
       "      <td>0</td>\n",
       "      <td>1</td>\n",
       "      <td>1.0</td>\n",
       "    </tr>\n",
       "    <tr>\n",
       "      <th>1210439</th>\n",
       "      <td>P_\\alpha=P_\\beta=0</td>\n",
       "      <td>physics.stackexchange.com</td>\n",
       "      <td>chemistry.stackexchange.com</td>\n",
       "      <td>0</td>\n",
       "      <td>1</td>\n",
       "      <td>1.0</td>\n",
       "    </tr>\n",
       "    <tr>\n",
       "      <th>1303563</th>\n",
       "      <td>\\rho(t) = I_z \\cos(\\omega t) + I_x \\sin(\\omega t)</td>\n",
       "      <td>physics.stackexchange.com</td>\n",
       "      <td>chemistry.stackexchange.com</td>\n",
       "      <td>0</td>\n",
       "      <td>1</td>\n",
       "      <td>1.0</td>\n",
       "    </tr>\n",
       "    <tr>\n",
       "      <th>203816</th>\n",
       "      <td>\\begin{matrix}0 &amp; 1 &amp; 2 &amp; -2 &amp; result\\end{matrix}</td>\n",
       "      <td>physics.stackexchange.com</td>\n",
       "      <td>chemistry.stackexchange.com</td>\n",
       "      <td>0</td>\n",
       "      <td>1</td>\n",
       "      <td>1.0</td>\n",
       "    </tr>\n",
       "    <tr>\n",
       "      <th>1310490</th>\n",
       "      <td>\\max(M_L) = \\max(L) = +2 \\Rightarrow L = 0,1,2</td>\n",
       "      <td>physics.stackexchange.com</td>\n",
       "      <td>chemistry.stackexchange.com</td>\n",
       "      <td>0</td>\n",
       "      <td>1</td>\n",
       "      <td>1.0</td>\n",
       "    </tr>\n",
       "    <tr>\n",
       "      <th>1265455</th>\n",
       "      <td>\\Pi \\otimes \\Pi = \\Sigma^+ + [\\Sigma^-] + \\Delta</td>\n",
       "      <td>physics.stackexchange.com</td>\n",
       "      <td>chemistry.stackexchange.com</td>\n",
       "      <td>0</td>\n",
       "      <td>1</td>\n",
       "      <td>1.0</td>\n",
       "    </tr>\n",
       "    <tr>\n",
       "      <th>1210798</th>\n",
       "      <td>\\tag{1} m=\\frac{\\epsilon \\, Q}{L}</td>\n",
       "      <td>physics.stackexchange.com</td>\n",
       "      <td>chemistry.stackexchange.com</td>\n",
       "      <td>0</td>\n",
       "      <td>1</td>\n",
       "      <td>1.0</td>\n",
       "    </tr>\n",
       "    <tr>\n",
       "      <th>1210675</th>\n",
       "      <td>A^k \\rightarrow A^{k-1} + B</td>\n",
       "      <td>physics.stackexchange.com</td>\n",
       "      <td>chemistry.stackexchange.com</td>\n",
       "      <td>0</td>\n",
       "      <td>1</td>\n",
       "      <td>1.0</td>\n",
       "    </tr>\n",
       "    <tr>\n",
       "      <th>1319499</th>\n",
       "      <td>|q_{2\\to1}|=q_{1}=k_1\\frac{\\Delta{T_1}}{L}</td>\n",
       "      <td>physics.stackexchange.com</td>\n",
       "      <td>chemistry.stackexchange.com</td>\n",
       "      <td>0</td>\n",
       "      <td>1</td>\n",
       "      <td>1.0</td>\n",
       "    </tr>\n",
       "    <tr>\n",
       "      <th>1240806</th>\n",
       "      <td>\\epsilon_n=\\int\\phi^*_n~H~\\phi_ndx</td>\n",
       "      <td>physics.stackexchange.com</td>\n",
       "      <td>chemistry.stackexchange.com</td>\n",
       "      <td>0</td>\n",
       "      <td>1</td>\n",
       "      <td>1.0</td>\n",
       "    </tr>\n",
       "    <tr>\n",
       "      <th>1300453</th>\n",
       "      <td>W(\\mathbf{a^*})</td>\n",
       "      <td>physics.stackexchange.com</td>\n",
       "      <td>chemistry.stackexchange.com</td>\n",
       "      <td>0</td>\n",
       "      <td>1</td>\n",
       "      <td>1.0</td>\n",
       "    </tr>\n",
       "    <tr>\n",
       "      <th>1238121</th>\n",
       "      <td>b_k=\\frac{2}{L}\\int _0^Lf(x)\\cos (kx)dx</td>\n",
       "      <td>physics.stackexchange.com</td>\n",
       "      <td>chemistry.stackexchange.com</td>\n",
       "      <td>0</td>\n",
       "      <td>1</td>\n",
       "      <td>1.0</td>\n",
       "    </tr>\n",
       "    <tr>\n",
       "      <th>1277438</th>\n",
       "      <td>(\\hat A\\hat B)^\\dagger = \\hat B^\\dagger \\hat A...</td>\n",
       "      <td>physics.stackexchange.com</td>\n",
       "      <td>chemistry.stackexchange.com</td>\n",
       "      <td>0</td>\n",
       "      <td>1</td>\n",
       "      <td>1.0</td>\n",
       "    </tr>\n",
       "    <tr>\n",
       "      <th>1241545</th>\n",
       "      <td>\\int_{0.25L}^{0.75L}{\\psi(x) \\psi^{*}(x)\\,\\ma...</td>\n",
       "      <td>physics.stackexchange.com</td>\n",
       "      <td>chemistry.stackexchange.com</td>\n",
       "      <td>0</td>\n",
       "      <td>1</td>\n",
       "      <td>1.0</td>\n",
       "    </tr>\n",
       "    <tr>\n",
       "      <th>1264431</th>\n",
       "      <td>\\ F = q^2/d^2 - q^2/(d/2)^2 =  -3q^2/d^2</td>\n",
       "      <td>physics.stackexchange.com</td>\n",
       "      <td>chemistry.stackexchange.com</td>\n",
       "      <td>0</td>\n",
       "      <td>1</td>\n",
       "      <td>1.0</td>\n",
       "    </tr>\n",
       "  </tbody>\n",
       "</table>\n",
       "</div>"
      ],
      "text/plain": [
       "                                                  equation  \\\n",
       "203750            \\nabla^2D\\left(x^4+y^4+z^4+cr^4\\right)=0   \n",
       "1222058                           \\rho_{\\pi/2} \\circ r = 1   \n",
       "1261470                     P_{recoil}=\\frac{E_\\gamma}{c},   \n",
       "1303549                                  (\\ca,\\cb) = (1,0)   \n",
       "1215388                                     v_z=\\sqrt{2gL}   \n",
       "1261460                     P_\\gamma=P_{atom,f}-P_{atom,i}   \n",
       "1210439                                 P_\\alpha=P_\\beta=0   \n",
       "1303563  \\rho(t) = I_z \\cos(\\omega t) + I_x \\sin(\\omega t)   \n",
       "203816   \\begin{matrix}0 & 1 & 2 & -2 & result\\end{matrix}   \n",
       "1310490     \\max(M_L) = \\max(L) = +2 \\Rightarrow L = 0,1,2   \n",
       "1265455   \\Pi \\otimes \\Pi = \\Sigma^+ + [\\Sigma^-] + \\Delta   \n",
       "1210798                  \\tag{1} m=\\frac{\\epsilon \\, Q}{L}   \n",
       "1210675                        A^k \\rightarrow A^{k-1} + B   \n",
       "1319499         |q_{2\\to1}|=q_{1}=k_1\\frac{\\Delta{T_1}}{L}   \n",
       "1240806                 \\epsilon_n=\\int\\phi^*_n~H~\\phi_ndx   \n",
       "1300453                                    W(\\mathbf{a^*})   \n",
       "1238121            b_k=\\frac{2}{L}\\int _0^Lf(x)\\cos (kx)dx   \n",
       "1277438  (\\hat A\\hat B)^\\dagger = \\hat B^\\dagger \\hat A...   \n",
       "1241545   \\int_{0.25L}^{0.75L}{\\psi(x) \\psi^{*}(x)\\,\\ma...   \n",
       "1264431         \\ F = q^2/d^2 - q^2/(d/2)^2 =  -3q^2/d^2     \n",
       "\n",
       "                        pred_label                       source  pred_index  \\\n",
       "203750   physics.stackexchange.com  chemistry.stackexchange.com           0   \n",
       "1222058  physics.stackexchange.com  chemistry.stackexchange.com           0   \n",
       "1261470  physics.stackexchange.com  chemistry.stackexchange.com           0   \n",
       "1303549  physics.stackexchange.com  chemistry.stackexchange.com           0   \n",
       "1215388  physics.stackexchange.com  chemistry.stackexchange.com           0   \n",
       "1261460  physics.stackexchange.com  chemistry.stackexchange.com           0   \n",
       "1210439  physics.stackexchange.com  chemistry.stackexchange.com           0   \n",
       "1303563  physics.stackexchange.com  chemistry.stackexchange.com           0   \n",
       "203816   physics.stackexchange.com  chemistry.stackexchange.com           0   \n",
       "1310490  physics.stackexchange.com  chemistry.stackexchange.com           0   \n",
       "1265455  physics.stackexchange.com  chemistry.stackexchange.com           0   \n",
       "1210798  physics.stackexchange.com  chemistry.stackexchange.com           0   \n",
       "1210675  physics.stackexchange.com  chemistry.stackexchange.com           0   \n",
       "1319499  physics.stackexchange.com  chemistry.stackexchange.com           0   \n",
       "1240806  physics.stackexchange.com  chemistry.stackexchange.com           0   \n",
       "1300453  physics.stackexchange.com  chemistry.stackexchange.com           0   \n",
       "1238121  physics.stackexchange.com  chemistry.stackexchange.com           0   \n",
       "1277438  physics.stackexchange.com  chemistry.stackexchange.com           0   \n",
       "1241545  physics.stackexchange.com  chemistry.stackexchange.com           0   \n",
       "1264431  physics.stackexchange.com  chemistry.stackexchange.com           0   \n",
       "\n",
       "         label  pred_conf  \n",
       "203750       1        1.0  \n",
       "1222058      1        1.0  \n",
       "1261470      1        1.0  \n",
       "1303549      1        1.0  \n",
       "1215388      1        1.0  \n",
       "1261460      1        1.0  \n",
       "1210439      1        1.0  \n",
       "1303563      1        1.0  \n",
       "203816       1        1.0  \n",
       "1310490      1        1.0  \n",
       "1265455      1        1.0  \n",
       "1210798      1        1.0  \n",
       "1210675      1        1.0  \n",
       "1319499      1        1.0  \n",
       "1240806      1        1.0  \n",
       "1300453      1        1.0  \n",
       "1238121      1        1.0  \n",
       "1277438      1        1.0  \n",
       "1241545      1        1.0  \n",
       "1264431      1        1.0  "
      ]
     },
     "execution_count": 25,
     "metadata": {},
     "output_type": "execute_result"
    }
   ],
   "source": [
    "display_top_losses(predictions, 20)"
   ]
  },
  {
   "cell_type": "code",
   "execution_count": null,
   "metadata": {},
   "outputs": [],
   "source": []
  }
 ],
 "metadata": {
  "kernelspec": {
   "display_name": "Python 3",
   "language": "python",
   "name": "python3"
  },
  "language_info": {
   "codemirror_mode": {
    "name": "ipython",
    "version": 3
   },
   "file_extension": ".py",
   "mimetype": "text/x-python",
   "name": "python",
   "nbconvert_exporter": "python",
   "pygments_lexer": "ipython3",
   "version": "3.7.3"
  }
 },
 "nbformat": 4,
 "nbformat_minor": 2
}

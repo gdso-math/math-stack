{
 "cells": [
  {
   "cell_type": "code",
   "execution_count": 20,
   "metadata": {},
   "outputs": [],
   "source": [
    "import pandas as pd\n",
    "import time\n",
    "import os, requests\n",
    "from PIL import Image, ImageOps\n",
    "import numpy as np\n",
    "import matplotlib.pyplot as plt"
   ]
  },
  {
   "cell_type": "code",
   "execution_count": 40,
   "metadata": {},
   "outputs": [],
   "source": [
    "def formula_as_file( formula, file, negate=False ):\n",
    "    tfile = file\n",
    "    if negate:\n",
    "        tfile = 'tmp.png'\n",
    "    r = requests.get( 'http://latex.codecogs.com/png.latex?\\dpi{150} %s' % formula )\n",
    "    f = open( tfile, 'wb' )\n",
    "    f.write( r.content )\n",
    "    f.close()\n",
    "    if negate:\n",
    "        os.system( 'convert tmp.png -channel RGB -negate -colorspace rgb %s' %file )"
   ]
  },
  {
   "cell_type": "code",
   "execution_count": 41,
   "metadata": {},
   "outputs": [],
   "source": [
    "chem = pd.read_csv(\"../data/equation/chemistry_post_eq_filtered_id.csv\", lineterminator='\\n')\n",
    "physics = pd.read_csv(\"../data/equation/physics_post_eq_filtered_id.csv\", lineterminator='\\n')\n",
    "bio = pd.read_csv(\"../data/equation/biology_post_eq_filtered_id.csv\", lineterminator='\\n')"
   ]
  },
  {
   "cell_type": "code",
   "execution_count": 42,
   "metadata": {},
   "outputs": [],
   "source": [
    "bio = bio.loc[bio.Equation.apply(type) != float]\n",
    "chem = chem.loc[chem.Equation.apply(type) != float]\n",
    "physics = physics.loc[physics.Equation.apply(type) != float]"
   ]
  },
  {
   "cell_type": "code",
   "execution_count": 43,
   "metadata": {},
   "outputs": [],
   "source": [
    "bio = bio.loc[bio.Equation.apply(len) > 2]\n",
    "chem = chem.loc[chem.Equation.apply(len) > 2]\n",
    "physics = physics.loc[physics.Equation.apply(len) > 2]"
   ]
  },
  {
   "cell_type": "code",
   "execution_count": 44,
   "metadata": {},
   "outputs": [],
   "source": [
    "bio = bio[~bio.Equation.str.contains(\"ce{\")]\n",
    "chem = chem[~chem.Equation.str.contains(\"ce{\")]\n",
    "physics = physics[~physics.Equation.str.contains(\"ce{\")]"
   ]
  },
  {
   "cell_type": "code",
   "execution_count": 45,
   "metadata": {},
   "outputs": [
    {
     "name": "stdout",
     "output_type": "stream",
     "text": [
      "9001\n",
      "90860\n",
      "1064429\n"
     ]
    }
   ],
   "source": [
    "print(len(bio.index))\n",
    "print(len(chem.index))\n",
    "print(len(physics.index))"
   ]
  },
  {
   "cell_type": "code",
   "execution_count": 46,
   "metadata": {},
   "outputs": [],
   "source": [
    "bio_lst = []\n",
    "_ = bio.apply(lambda row: [bio_lst.append(str(row.name) + \"_\" + str(row[\"Label\"]) + \"_\" + str(row[\"Id\"]))], axis=1)\n",
    "bio[\"FileName\"] = bio_lst"
   ]
  },
  {
   "cell_type": "code",
   "execution_count": 56,
   "metadata": {},
   "outputs": [
    {
     "name": "stdout",
     "output_type": "stream",
     "text": [
      "1.957079776128133\n"
     ]
    }
   ],
   "source": [
    "start = time.time()\n",
    "count = 0\n",
    "for i, row in bio.iterrows():\n",
    "    if count == 1000:\n",
    "        break\n",
    "    if len(row.Equation) < 64:\n",
    "        filename = \"../data/test_images/\" + row.FileName + \".png\"\n",
    "        formula_as_file(row.Equation, filename)\n",
    "        count += 1\n",
    "end = time.time()\n",
    "print((end-start)/60.0)"
   ]
  },
  {
   "cell_type": "code",
   "execution_count": 54,
   "metadata": {},
   "outputs": [],
   "source": [
    "chem_lst = []\n",
    "_ = chem.apply(lambda row: [chem_lst.append(str(row.name) + \"_\" + str(row[\"Label\"]) + \"_\" + str(row[\"Id\"]))], axis=1)\n",
    "chem[\"FileName\"] = chem_lst"
   ]
  },
  {
   "cell_type": "code",
   "execution_count": 57,
   "metadata": {},
   "outputs": [
    {
     "name": "stdout",
     "output_type": "stream",
     "text": [
      "2.0579642097155255\n"
     ]
    }
   ],
   "source": [
    "start = time.time()\n",
    "count = 0\n",
    "for i, row in chem.iterrows():\n",
    "    if count == 1000:\n",
    "        break\n",
    "    if len(row.Equation) < 64:\n",
    "        filename = \"../data/test_images/\" + row.FileName + \".png\"\n",
    "        formula_as_file(row.Equation, filename)\n",
    "        count += 1\n",
    "end = time.time()\n",
    "print((end-start)/60.0)"
   ]
  },
  {
   "cell_type": "code",
   "execution_count": 58,
   "metadata": {},
   "outputs": [],
   "source": [
    "phys_lst = []\n",
    "_ = physics.apply(lambda row: [phys_lst.append(str(row.name) + \"_\" + str(row[\"Label\"]) + \"_\" + str(row[\"Id\"]))], axis=1)\n",
    "physics[\"FileName\"] = phys_lst\n"
   ]
  },
  {
   "cell_type": "code",
   "execution_count": 59,
   "metadata": {},
   "outputs": [
    {
     "name": "stdout",
     "output_type": "stream",
     "text": [
      "2.2439993818600974\n"
     ]
    }
   ],
   "source": [
    "start = time.time()\n",
    "count = 0\n",
    "for i, row in physics.iterrows():\n",
    "    if count == 1000:\n",
    "        break\n",
    "    if len(row.Equation) < 64:\n",
    "        filename = \"../data/test_images/\" + row.FileName + \".png\"\n",
    "        formula_as_file(row.Equation, filename)\n",
    "        count += 1\n",
    "end = time.time()\n",
    "print((end-start)/60.0)"
   ]
  },
  {
   "cell_type": "markdown",
   "metadata": {},
   "source": [
    "Time to get statistics!"
   ]
  },
  {
   "cell_type": "code",
   "execution_count": 84,
   "metadata": {},
   "outputs": [
    {
     "name": "stdout",
     "output_type": "stream",
     "text": [
      "1382_physics_1019.png\n",
      "592_biology_11143.png\n",
      "1264_biology_16025.png\n",
      "1035_biology_15372.png\n",
      "763_biology_13670.png\n",
      "1046_biology_15372.png\n",
      "1334_biology_16248.png\n",
      "562_biology_11008.png\n",
      "1164_chemistry_542.png\n",
      "1266_physics_930.png\n",
      "470_biology_10536.png\n",
      "469_biology_10536.png\n",
      "134_biology_5457.png\n",
      "1351_biology_16249.png\n",
      "1317_biology_16208.png\n",
      "1261_biology_16025.png\n",
      "945_biology_15030.png\n",
      "560_biology_11008.png\n",
      "390_biology_9556.png\n",
      "1333_biology_16248.png\n",
      "11_biology_1431.png\n",
      "1318_biology_16208.png\n",
      "1258_biology_16025.png\n",
      "1260_biology_16025.png\n",
      "1316_biology_16208.png\n",
      "967_biology_15065.png\n",
      "1262_biology_16025.png\n",
      "971_biology_15065.png\n",
      "135_biology_5457.png\n",
      "1594_chemistry_813.png\n",
      "554_biology_10969.png\n",
      "1166_chemistry_542.png\n",
      "513_biology_10580.png\n",
      "1350_biology_16249.png\n",
      "1129_chemistry_532.png\n",
      "167_physics_233.png\n",
      "771_biology_13681.png\n",
      "1319_biology_16208.png\n",
      "1256_biology_16025.png\n",
      "1049_biology_15372.png\n",
      "798_biology_14055.png\n",
      "561_biology_11008.png\n",
      "64_biology_5364.png\n",
      "1048_biology_15372.png\n"
     ]
    }
   ],
   "source": [
    "image_data = pd.DataFrame(columns=[\"width\", \"height\"])\n",
    "for file in os.listdir(\"../data/test_images\"):\n",
    "    if file.endswith(\".png\"):\n",
    "        img = \"../data/test_images/\" + file\n",
    "        im = Image.open(img)\n",
    "        size = list(im.size)\n",
    "        if size[0] > 400:\n",
    "            print(file)\n",
    "        insert = pd.DataFrame([[float(size[0])] + [float(size[1])]], columns=[\"width\", \"height\"])\n",
    "        image_data = image_data.append(insert, ignore_index=True)"
   ]
  },
  {
   "cell_type": "code",
   "execution_count": 61,
   "metadata": {},
   "outputs": [
    {
     "data": {
      "text/html": [
       "<div>\n",
       "<style scoped>\n",
       "    .dataframe tbody tr th:only-of-type {\n",
       "        vertical-align: middle;\n",
       "    }\n",
       "\n",
       "    .dataframe tbody tr th {\n",
       "        vertical-align: top;\n",
       "    }\n",
       "\n",
       "    .dataframe thead th {\n",
       "        text-align: right;\n",
       "    }\n",
       "</style>\n",
       "<table border=\"1\" class=\"dataframe\">\n",
       "  <thead>\n",
       "    <tr style=\"text-align: right;\">\n",
       "      <th></th>\n",
       "      <th>width</th>\n",
       "      <th>height</th>\n",
       "    </tr>\n",
       "  </thead>\n",
       "  <tbody>\n",
       "    <tr>\n",
       "      <th>count</th>\n",
       "      <td>3000.000000</td>\n",
       "      <td>3000.000000</td>\n",
       "    </tr>\n",
       "    <tr>\n",
       "      <th>mean</th>\n",
       "      <td>86.256000</td>\n",
       "      <td>25.039333</td>\n",
       "    </tr>\n",
       "    <tr>\n",
       "      <th>std</th>\n",
       "      <td>89.135086</td>\n",
       "      <td>11.384243</td>\n",
       "    </tr>\n",
       "    <tr>\n",
       "      <th>min</th>\n",
       "      <td>7.000000</td>\n",
       "      <td>8.000000</td>\n",
       "    </tr>\n",
       "    <tr>\n",
       "      <th>25%</th>\n",
       "      <td>26.000000</td>\n",
       "      <td>19.000000</td>\n",
       "    </tr>\n",
       "    <tr>\n",
       "      <th>50%</th>\n",
       "      <td>54.000000</td>\n",
       "      <td>23.000000</td>\n",
       "    </tr>\n",
       "    <tr>\n",
       "      <th>75%</th>\n",
       "      <td>115.000000</td>\n",
       "      <td>25.000000</td>\n",
       "    </tr>\n",
       "    <tr>\n",
       "      <th>max</th>\n",
       "      <td>699.000000</td>\n",
       "      <td>81.000000</td>\n",
       "    </tr>\n",
       "  </tbody>\n",
       "</table>\n",
       "</div>"
      ],
      "text/plain": [
       "             width       height\n",
       "count  3000.000000  3000.000000\n",
       "mean     86.256000    25.039333\n",
       "std      89.135086    11.384243\n",
       "min       7.000000     8.000000\n",
       "25%      26.000000    19.000000\n",
       "50%      54.000000    23.000000\n",
       "75%     115.000000    25.000000\n",
       "max     699.000000    81.000000"
      ]
     },
     "execution_count": 61,
     "metadata": {},
     "output_type": "execute_result"
    }
   ],
   "source": [
    "image_data.describe()"
   ]
  },
  {
   "cell_type": "markdown",
   "metadata": {},
   "source": [
    "We will now try cropping/padding to 128, 32"
   ]
  },
  {
   "cell_type": "code",
   "execution_count": 13,
   "metadata": {},
   "outputs": [
    {
     "data": {
      "text/plain": [
       "(54, 19)"
      ]
     },
     "execution_count": 13,
     "metadata": {},
     "output_type": "execute_result"
    }
   ],
   "source": [
    "small = Image.open(\"../data/test_images/0_chemistry_2.png\")\n",
    "small.size"
   ]
  },
  {
   "cell_type": "code",
   "execution_count": 33,
   "metadata": {},
   "outputs": [
    {
     "data": {
      "text/plain": [
       "(177, 59)"
      ]
     },
     "execution_count": 33,
     "metadata": {},
     "output_type": "execute_result"
    }
   ],
   "source": [
    "big = Image.open(\"../data/test_images/235_physics_314.png\")\n",
    "big.size"
   ]
  },
  {
   "cell_type": "code",
   "execution_count": 26,
   "metadata": {},
   "outputs": [],
   "source": [
    "delta_w = 128 - small.size[0]\n",
    "delta_h = 32 - small.size[1]\n",
    "padding = (delta_w//2, delta_h//2, delta_w-(delta_w//2), delta_h-(delta_h//2))\n",
    "new_small = ImageOps.expand(small, padding)"
   ]
  },
  {
   "cell_type": "code",
   "execution_count": 27,
   "metadata": {},
   "outputs": [
    {
     "data": {
      "text/plain": [
       "(128, 32)"
      ]
     },
     "execution_count": 27,
     "metadata": {},
     "output_type": "execute_result"
    }
   ],
   "source": [
    "new_small.size"
   ]
  },
  {
   "cell_type": "code",
   "execution_count": 30,
   "metadata": {},
   "outputs": [
    {
     "data": {
      "text/plain": [
       "<matplotlib.image.AxesImage at 0x7f01ad6221d0>"
      ]
     },
     "execution_count": 30,
     "metadata": {},
     "output_type": "execute_result"
    },
    {
     "data": {
      "image/png": "[encoded data removed]",
      "text/plain": [
       "<Figure size 432x288 with 1 Axes>"
      ]
     },
     "metadata": {
      "needs_background": "light"
     },
     "output_type": "display_data"
    }
   ],
   "source": [
    "plt.imshow(np.asarray(small))"
   ]
  },
  {
   "cell_type": "code",
   "execution_count": 31,
   "metadata": {},
   "outputs": [
    {
     "data": {
      "text/plain": [
       "<matplotlib.image.AxesImage at 0x7f01ad5f07f0>"
      ]
     },
     "execution_count": 31,
     "metadata": {},
     "output_type": "execute_result"
    },
    {
     "data": {
      "image/png": "[encoded data removed]",
      "text/plain": [
       "<Figure size 432x288 with 1 Axes>"
      ]
     },
     "metadata": {
      "needs_background": "light"
     },
     "output_type": "display_data"
    }
   ],
   "source": [
    "plt.imshow(np.asarray(new_small))"
   ]
  },
  {
   "cell_type": "code",
   "execution_count": 35,
   "metadata": {},
   "outputs": [],
   "source": [
    "#crop too-big image\n",
    "delta_w = 128 - big.size[0]\n",
    "delta_h = 32 - big.size[1]\n",
    "padding = (delta_w//2, delta_h//2, delta_w-(delta_w//2), delta_h-(delta_h//2))\n",
    "new_big = ImageOps.expand(big, padding)"
   ]
  },
  {
   "cell_type": "code",
   "execution_count": 72,
   "metadata": {},
   "outputs": [
    {
     "data": {
      "text/plain": [
       "(128, 32)"
      ]
     },
     "execution_count": 72,
     "metadata": {},
     "output_type": "execute_result"
    }
   ],
   "source": [
    "#resize width to 128, then crop\n",
    "new_size = tuple([128, big.size[1]])\n",
    "new_big1 = big.resize(new_size, Image.ANTIALIAS)\n",
    "\n",
    "delta_w = 0\n",
    "delta_h = 32 - new_big1.size[1]\n",
    "padding = (delta_w//2, delta_h//2, delta_w-(delta_w//2), delta_h-(delta_h//2))\n",
    "new_big1 = ImageOps.expand(new_big1, padding)\n",
    "new_big1.size\n"
   ]
  },
  {
   "cell_type": "code",
   "execution_count": 37,
   "metadata": {},
   "outputs": [
    {
     "data": {
      "text/plain": [
       "<matplotlib.image.AxesImage at 0x7f01ad5346a0>"
      ]
     },
     "execution_count": 37,
     "metadata": {},
     "output_type": "execute_result"
    },
    {
     "data": {
      "image/png": "[encoded data removed]",
      "text/plain": [
       "<Figure size 432x288 with 1 Axes>"
      ]
     },
     "metadata": {
      "needs_background": "light"
     },
     "output_type": "display_data"
    }
   ],
   "source": [
    "plt.imshow(np.asarray(big))"
   ]
  },
  {
   "cell_type": "code",
   "execution_count": 38,
   "metadata": {},
   "outputs": [
    {
     "data": {
      "text/plain": [
       "<matplotlib.image.AxesImage at 0x7f01ad48d7f0>"
      ]
     },
     "execution_count": 38,
     "metadata": {},
     "output_type": "execute_result"
    },
    {
     "data": {
      "image/png": "[encoded data removed]",
      "text/plain": [
       "<Figure size 432x288 with 1 Axes>"
      ]
     },
     "metadata": {
      "needs_background": "light"
     },
     "output_type": "display_data"
    }
   ],
   "source": [
    "plt.imshow(np.asarray(new_big))"
   ]
  },
  {
   "cell_type": "code",
   "execution_count": 73,
   "metadata": {},
   "outputs": [
    {
     "data": {
      "text/plain": [
       "<matplotlib.image.AxesImage at 0x7f01a60ec320>"
      ]
     },
     "execution_count": 73,
     "metadata": {},
     "output_type": "execute_result"
    },
    {
     "data": {
      "image/png": "[encoded data removed]",
      "text/plain": [
       "<Figure size 432x288 with 1 Axes>"
      ]
     },
     "metadata": {
      "needs_background": "light"
     },
     "output_type": "display_data"
    }
   ],
   "source": [
    "plt.imshow(np.asarray(new_big1))"
   ]
  },
  {
   "cell_type": "code",
   "execution_count": 86,
   "metadata": {},
   "outputs": [
    {
     "name": "stdout",
     "output_type": "stream",
     "text": [
      "(551, 28)\n"
     ]
    },
    {
     "data": {
      "text/plain": [
       "<matplotlib.image.AxesImage at 0x7f01ac742a20>"
      ]
     },
     "execution_count": 86,
     "metadata": {},
     "output_type": "execute_result"
    },
    {
     "data": {
      "image/png": "[encoded data removed]",
      "text/plain": [
       "<Figure size 432x288 with 1 Axes>"
      ]
     },
     "metadata": {
      "needs_background": "light"
     },
     "output_type": "display_data"
    }
   ],
   "source": [
    "#test = Image.open(\"../data/test_images/56_biology_3869.png\")\n",
    "test = Image.open(\"../data/test_images/1351_biology_16249.png\")\n",
    "print(test.size)\n",
    "plt.imshow(np.asarray(test))"
   ]
  },
  {
   "cell_type": "code",
   "execution_count": 87,
   "metadata": {},
   "outputs": [
    {
     "data": {
      "text/plain": [
       "<matplotlib.image.AxesImage at 0x7f01acac1240>"
      ]
     },
     "execution_count": 87,
     "metadata": {},
     "output_type": "execute_result"
    },
    {
     "data": {
      "image/png": "[encoded data removed]",
      "text/plain": [
       "<Figure size 432x288 with 1 Axes>"
      ]
     },
     "metadata": {
      "needs_background": "light"
     },
     "output_type": "display_data"
    }
   ],
   "source": [
    "#crop too-big image\n",
    "delta_w = 128 - test.size[0]\n",
    "delta_h = 32 - test.size[1]\n",
    "padding = (delta_w//2, delta_h//2, delta_w-(delta_w//2), delta_h-(delta_h//2))\n",
    "new_test = ImageOps.expand(test, padding)\n",
    "plt.imshow(np.asarray(new_test))"
   ]
  },
  {
   "cell_type": "code",
   "execution_count": 89,
   "metadata": {},
   "outputs": [
    {
     "data": {
      "text/plain": [
       "<matplotlib.image.AxesImage at 0x7f01ae06ee10>"
      ]
     },
     "execution_count": 89,
     "metadata": {},
     "output_type": "execute_result"
    },
    {
     "data": {
      "image/png": "[encoded data removed]",
      "text/plain": [
       "<Figure size 432x288 with 1 Axes>"
      ]
     },
     "metadata": {
      "needs_background": "light"
     },
     "output_type": "display_data"
    }
   ],
   "source": [
    "#resize width to 128, then crop\n",
    "new_size = tuple([128, test.size[1]])\n",
    "new_test1 = test.resize(new_size, Image.ANTIALIAS)\n",
    "delta_w = 0\n",
    "delta_h = 32 - new_test1.size[1]\n",
    "padding = (delta_w//2, delta_h//2, delta_w-(delta_w//2), delta_h-(delta_h//2))\n",
    "new_test1 = ImageOps.expand(new_test1, padding)\n",
    "plt.imshow(np.asarray(new_test1))"
   ]
  },
  {
   "cell_type": "code",
   "execution_count": null,
   "metadata": {},
   "outputs": [],
   "source": []
  }
 ],
 "metadata": {
  "kernelspec": {
   "display_name": "Python 3",
   "language": "python",
   "name": "python3"
  },
  "language_info": {
   "codemirror_mode": {
    "name": "ipython",
    "version": 3
   },
   "file_extension": ".py",
   "mimetype": "text/x-python",
   "name": "python",
   "nbconvert_exporter": "python",
   "pygments_lexer": "ipython3",
   "version": "3.7.3"
  }
 },
 "nbformat": 4,
 "nbformat_minor": 2
}

{
 "cells": [
  {
   "cell_type": "code",
   "execution_count": 23,
   "metadata": {},
   "outputs": [
    {
     "name": "stdout",
     "output_type": "stream",
     "text": [
      "\u001b[34m==>\u001b[0m \u001b[1mDownloading https://homebrew.bintray.com/bottles/p7zip-16.02_1.mojave.bottle\u001b[0m\n",
      "\u001b[34m==>\u001b[0m \u001b[1mDownloading from https://akamai.bintray.com/bb/bb715042a9067df735cd7d032a159\u001b[0m\n",
      "######################################################################## 100.0%\n",
      "\u001b[34m==>\u001b[0m \u001b[1mPouring p7zip-16.02_1.mojave.bottle.tar.gz\u001b[0m\n",
      "🍺  /usr/local/Cellar/p7zip/16.02_1: 103 files, 4.7MB\n",
      "\u001b[34m==>\u001b[0m \u001b[1m`brew cleanup` has not been run in 30 days, running now...\u001b[0m\n",
      "Removing: /Users/shuang/Library/Logs/Homebrew/gettext... (64B)\n",
      "Removing: /Users/shuang/Library/Logs/Homebrew/pcre2... (64B)\n",
      "Removing: /Users/shuang/Library/Logs/Homebrew/git... (64B)\n"
     ]
    }
   ],
   "source": [
    "! brew install p7zip"
   ]
  },
  {
   "cell_type": "code",
   "execution_count": 31,
   "metadata": {},
   "outputs": [],
   "source": [
    "from pathlib import Path\n",
    "import subprocess\n",
    "import os"
   ]
  },
  {
   "cell_type": "code",
   "execution_count": 25,
   "metadata": {},
   "outputs": [],
   "source": [
    "raw_datadir = Path('../data/raw/')"
   ]
  },
  {
   "cell_type": "code",
   "execution_count": 26,
   "metadata": {},
   "outputs": [
    {
     "name": "stdout",
     "output_type": "stream",
     "text": [
      "../data/raw/biology.stackexchange.com.7z\n"
     ]
    }
   ],
   "source": [
    "filepath = raw_datadir / 'biology.stackexchange.com.7z'\n",
    "print(filepath)"
   ]
  },
  {
   "cell_type": "code",
   "execution_count": 27,
   "metadata": {},
   "outputs": [],
   "source": [
    "def get_output_dirname(path):\n",
    "    filename = path.name\n",
    "    return path.with_suffix('')\n",
    "    \n",
    "def open_7z(path):\n",
    "    output_dirname = get_output_dirname(path)\n",
    "    output_dirname.mkdir(exist_ok=True, parents=True)\n",
    "    exe_str = f\"7za e {path} -o{output_dirname}\"\n",
    "    \n",
    "    print(f'Reading data from {path}')\n",
    "    print(f'Saving data to {output_dirname}')\n",
    "    print(\"Running:\", exe_str)\n",
    "    p = subprocess.call(exe_str, shell=True)\n",
    "    print(f'Done. {p}')\n",
    "    return "
   ]
  },
  {
   "cell_type": "code",
   "execution_count": 28,
   "metadata": {},
   "outputs": [
    {
     "name": "stdout",
     "output_type": "stream",
     "text": [
      "Reading data from ../data/raw/biology.stackexchange.com.7z\n",
      "Saving data to ../data/raw/biology.stackexchange.com\n",
      "Running: 7za e ../data/raw/biology.stackexchange.com.7z -o../data/raw/biology.stackexchange.com\n",
      "Done. 0\n"
     ]
    }
   ],
   "source": [
    "open_7z(filepath)"
   ]
  },
  {
   "cell_type": "code",
   "execution_count": 29,
   "metadata": {},
   "outputs": [
    {
     "name": "stdout",
     "output_type": "stream",
     "text": [
      "Badges.xml      PostHistory.xml Posts.xml       Users.xml\r\n",
      "Comments.xml    PostLinks.xml   Tags.xml        Votes.xml\r\n"
     ]
    }
   ],
   "source": [
    "!ls ../data/raw/biology.stackexchange.com"
   ]
  },
  {
   "cell_type": "code",
   "execution_count": 32,
   "metadata": {},
   "outputs": [
    {
     "name": "stdout",
     "output_type": "stream",
     "text": [
      "math.stackexchange.com.7z\n",
      "Reading data from ../data/raw/math.stackexchange.com.7z\n",
      "Saving data to ../data/raw/math.stackexchange.com\n",
      "Running: 7za e ../data/raw/math.stackexchange.com.7z -o../data/raw/math.stackexchange.com\n",
      "Done. 0\n",
      "chemistry.stackexchange.com.7z\n",
      "Reading data from ../data/raw/chemistry.stackexchange.com.7z\n",
      "Saving data to ../data/raw/chemistry.stackexchange.com\n",
      "Running: 7za e ../data/raw/chemistry.stackexchange.com.7z -o../data/raw/chemistry.stackexchange.com\n",
      "Done. 0\n",
      "physics.stackexchange.com.7z\n",
      "Reading data from ../data/raw/physics.stackexchange.com.7z\n",
      "Saving data to ../data/raw/physics.stackexchange.com\n",
      "Running: 7za e ../data/raw/physics.stackexchange.com.7z -o../data/raw/physics.stackexchange.com\n",
      "Done. 0\n",
      "biology.stackexchange.com.7z\n",
      "Reading data from ../data/raw/biology.stackexchange.com.7z\n",
      "Saving data to ../data/raw/biology.stackexchange.com\n",
      "Running: 7za e ../data/raw/biology.stackexchange.com.7z -o../data/raw/biology.stackexchange.com\n",
      "Done. 134\n"
     ]
    }
   ],
   "source": [
    "file_list = os.listdir(raw_datadir)\n",
    "for file_name in file_list:\n",
    "    if os.path.splitext(file_name)[1] == '.7z':\n",
    "        print (file_name)\n",
    "        path = raw_datadir / file_name\n",
    "        open_7z(path)\n"
   ]
  },
  {
   "cell_type": "code",
   "execution_count": 35,
   "metadata": {},
   "outputs": [],
   "source": [
    "import xml.etree.ElementTree as ET\n",
    "import pandas as pd\n",
    "\n",
    "def parse_xml_file(path):\n",
    "    \"\"\"Read the xml file from path and return a pandas dataframe with all the data.\"\"\"\n",
    "    root = ET.parse(path).getroot()\n",
    "    rows = root.findall('row')\n",
    "    return pd.DataFrame([dict(row.items()) for row in rows])"
   ]
  },
  {
   "cell_type": "code",
   "execution_count": 62,
   "metadata": {},
   "outputs": [],
   "source": [
    "def store_comments_csv(subject):\n",
    "    print('parsing xml file of ' + subject + ' comments')\n",
    "    subject_comment = parse_xml_file('../data/raw/'+ subject + '.stackexchange.com/Comments.xml')\n",
    "    print('storing csv file of ' + subject + ' comments')\n",
    "    subject_comment.to_csv(\"../data/csv/\" + subject + \"_comment.csv\", index = False)\n",
    "    return"
   ]
  },
  {
   "cell_type": "code",
   "execution_count": 67,
   "metadata": {},
   "outputs": [],
   "source": [
    "def store_posts_csv(subject):\n",
    "    print('parsing xml file of ' + subject + ' posts')\n",
    "    subject_post = parse_xml_file('../data/raw/'+ subject + '.stackexchange.com/Posts.xml')\n",
    "    print('storing csv file of ' + subject + ' posts')\n",
    "    subject_post.to_csv(\"../data/csv/\" + subject + \"_post.csv\", index = False)\n",
    "    return"
   ]
  },
  {
   "cell_type": "code",
   "execution_count": 64,
   "metadata": {},
   "outputs": [],
   "source": [
    "subject_list = ['math', 'physics', 'biology', 'chemistry']"
   ]
  },
  {
   "cell_type": "code",
   "execution_count": 68,
   "metadata": {},
   "outputs": [
    {
     "name": "stdout",
     "output_type": "stream",
     "text": [
      "parsing xml file of math comments\n",
      "storing csv file of math comments\n",
      "parsing xml file of math posts\n",
      "storing csv file of math posts\n",
      "parsing xml file of physics comments\n",
      "storing csv file of physics comments\n",
      "parsing xml file of physics posts\n",
      "storing csv file of physics posts\n",
      "parsing xml file of biology comments\n",
      "storing csv file of biology comments\n",
      "parsing xml file of biology posts\n",
      "storing csv file of biology posts\n",
      "parsing xml file of chemistry comments\n",
      "storing csv file of chemistry comments\n",
      "parsing xml file of chemistry posts\n",
      "storing csv file of chemistry posts\n"
     ]
    }
   ],
   "source": [
    "for subject in subject_list:\n",
    "    store_comments_csv(subject)\n",
    "    store_posts_csv(subject)"
   ]
  },
  {
   "cell_type": "code",
   "execution_count": null,
   "metadata": {},
   "outputs": [],
   "source": []
  }
 ],
 "metadata": {
  "kernelspec": {
   "display_name": "Python 3",
   "language": "python",
   "name": "python3"
  },
  "language_info": {
   "codemirror_mode": {
    "name": "ipython",
    "version": 3
   },
   "file_extension": ".py",
   "mimetype": "text/x-python",
   "name": "python",
   "nbconvert_exporter": "python",
   "pygments_lexer": "ipython3",
   "version": "3.7.2"
  }
 },
 "nbformat": 4,
 "nbformat_minor": 2
}

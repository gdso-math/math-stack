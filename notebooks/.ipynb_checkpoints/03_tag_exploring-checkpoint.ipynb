{
 "cells": [
  {
   "cell_type": "code",
   "execution_count": 1,
   "metadata": {},
   "outputs": [],
   "source": [
    "import pandas as pd\n",
    "import re"
   ]
  },
  {
   "cell_type": "code",
   "execution_count": 84,
   "metadata": {},
   "outputs": [],
   "source": [
    "math_post = pd.read_csv(\"../data/csv/math_post.csv\", lineterminator='\\n')\n",
    "chemistry_post = pd.read_csv(\"../data/csv/chemistry_post.csv\", lineterminator='\\n')\n",
    "physics_post = pd.read_csv(\"../data/csv/physics_post.csv\", lineterminator='\\n')\n",
    "biology_post = pd.read_csv(\"../data/csv/biology_post.csv\", lineterminator='\\n')"
   ]
  },
  {
   "cell_type": "code",
   "execution_count": 66,
   "metadata": {},
   "outputs": [],
   "source": [
    "#just something in case we want to make a list of all tags later\n",
    "def tag_regex(subject):\n",
    "    subj_dict = {}\n",
    "    pattern = re.compile(\".*?<(.+?)>\")\n",
    "    for text in subject[\"Tags\"]:\n",
    "        if not isinstance(text, float):\n",
    "            tags = re.findall(pattern, text)\n",
    "            for tag in tags:\n",
    "                    if tag not in subj_dict:\n",
    "                        subj_dict[tag] = 0\n",
    "    return list(subj_dict.keys())"
   ]
  },
  {
   "cell_type": "code",
   "execution_count": 67,
   "metadata": {},
   "outputs": [],
   "source": [
    "math_tag_list = tag_regex(math_post)"
   ]
  },
  {
   "cell_type": "code",
   "execution_count": 69,
   "metadata": {},
   "outputs": [
    {
     "data": {
      "text/plain": [
       "1785"
      ]
     },
     "execution_count": 69,
     "metadata": {},
     "output_type": "execute_result"
    }
   ],
   "source": [
    "len(math_tag_list)"
   ]
  },
  {
   "cell_type": "code",
   "execution_count": 72,
   "metadata": {},
   "outputs": [
    {
     "data": {
      "text/plain": [
       "Index(['AcceptedAnswerId', 'AnswerCount', 'Body', 'ClosedDate', 'CommentCount',\n",
       "       'CommunityOwnedDate', 'CreationDate', 'FavoriteCount', 'Id',\n",
       "       'LastActivityDate', 'LastEditDate', 'LastEditorDisplayName',\n",
       "       'LastEditorUserId', 'OwnerDisplayName', 'OwnerUserId', 'ParentId',\n",
       "       'PostTypeId', 'Score', 'Tags', 'Title', 'ViewCount'],\n",
       "      dtype='object')"
      ]
     },
     "execution_count": 72,
     "metadata": {},
     "output_type": "execute_result"
    }
   ],
   "source": [
    "math_post.columns"
   ]
  },
  {
   "cell_type": "code",
   "execution_count": 88,
   "metadata": {},
   "outputs": [],
   "source": [
    "subject_string = ['math','chemistry', 'physics', 'biology']\n",
    "post_df= [math_post, chemistry_post, physics_post, biology_post]"
   ]
  },
  {
   "cell_type": "code",
   "execution_count": 95,
   "metadata": {},
   "outputs": [
    {
     "name": "stdout",
     "output_type": "stream",
     "text": [
      "start processing posts for math\n",
      "start saving posts for math\n",
      "start processing posts for chemistry\n",
      "start saving posts for chemistry\n",
      "start processing posts for physics\n",
      "start saving posts for physics\n",
      "start processing posts for biology\n",
      "start saving posts for biology\n"
     ]
    }
   ],
   "source": [
    "#generate csv with post id and text\n",
    "for i in range(len(subject_string)):\n",
    "    print(\"start processing posts for \" + subject_string[i])\n",
    "    subject_post = post_df[i].copy()\n",
    "    subject_post.drop(columns=['AcceptedAnswerId', 'AnswerCount','ClosedDate', 'CommentCount',\n",
    "       'CommunityOwnedDate', 'CreationDate', 'FavoriteCount',\n",
    "       'LastActivityDate', 'LastEditDate', 'LastEditorDisplayName',\n",
    "       'LastEditorUserId', 'OwnerDisplayName', 'OwnerUserId', 'ParentId',\n",
    "       'PostTypeId', 'Score', 'Tags', 'Title', 'ViewCount'])\n",
    "    column_titles = [\"Id\", \"Body\"]\n",
    "    subject_post=subject_post.reindex(columns=column_titles)\n",
    "    \n",
    "    #subject_post['Label'] = subject_string[i]\n",
    "    \n",
    "    print(\"start saving posts for \" + subject_string[i])\n",
    "    subject_post.to_csv(\"../data/csv/\" + subject_string[i] + \"_post_index_body.csv\", index = False)"
   ]
  },
  {
   "cell_type": "code",
   "execution_count": 98,
   "metadata": {},
   "outputs": [
    {
     "name": "stdout",
     "output_type": "stream",
     "text": [
      "start processing posts for math\n",
      "start saving posts for math\n",
      "start processing posts for chemistry\n",
      "start saving posts for chemistry\n",
      "start processing posts for physics\n",
      "start saving posts for physics\n",
      "start processing posts for biology\n",
      "start saving posts for biology\n"
     ]
    }
   ],
   "source": [
    "#generate csv with post id and tags\n",
    "for i in range(len(subject_string)):\n",
    "    print(\"start processing posts for \" + subject_string[i])\n",
    "    subject_post = post_df[i].copy()\n",
    "    subject_post.drop(columns=['AcceptedAnswerId', 'AnswerCount', 'Body', 'ClosedDate', 'CommentCount',\n",
    "       'CommunityOwnedDate', 'CreationDate', 'FavoriteCount',\n",
    "       'LastActivityDate', 'LastEditDate', 'LastEditorDisplayName',\n",
    "       'LastEditorUserId', 'OwnerDisplayName', 'OwnerUserId', 'ParentId',\n",
    "       'PostTypeId', 'Score', 'Title', 'ViewCount'])\n",
    "    column_titles = [\"Id\", \"Tags\"]\n",
    "    subject_post=subject_post.reindex(columns=column_titles)\n",
    "    \n",
    "    #subject_post['Label'] = subject_string[i]\n",
    "    \n",
    "    print(\"start saving posts for \" + subject_string[i])\n",
    "    subject_post.to_csv(\"../data/csv/\" + subject_string[i] + \"_post_index_tags.csv\", index = False)"
   ]
  },
  {
   "cell_type": "code",
   "execution_count": 99,
   "metadata": {},
   "outputs": [],
   "source": [
    "test = pd.read_csv(\"../data/csv/biology_post_index_tags.csv\", lineterminator='\\n')"
   ]
  },
  {
   "cell_type": "code",
   "execution_count": 100,
   "metadata": {},
   "outputs": [
    {
     "data": {
      "text/html": [
       "<div>\n",
       "<style scoped>\n",
       "    .dataframe tbody tr th:only-of-type {\n",
       "        vertical-align: middle;\n",
       "    }\n",
       "\n",
       "    .dataframe tbody tr th {\n",
       "        vertical-align: top;\n",
       "    }\n",
       "\n",
       "    .dataframe thead th {\n",
       "        text-align: right;\n",
       "    }\n",
       "</style>\n",
       "<table border=\"1\" class=\"dataframe\">\n",
       "  <thead>\n",
       "    <tr style=\"text-align: right;\">\n",
       "      <th></th>\n",
       "      <th>Id</th>\n",
       "      <th>Tags</th>\n",
       "    </tr>\n",
       "  </thead>\n",
       "  <tbody>\n",
       "    <tr>\n",
       "      <th>0</th>\n",
       "      <td>1</td>\n",
       "      <td>&lt;ribosome&gt;&lt;binding-sites&gt;&lt;translation&gt;&lt;synthet...</td>\n",
       "    </tr>\n",
       "    <tr>\n",
       "      <th>1</th>\n",
       "      <td>2</td>\n",
       "      <td>&lt;rna&gt;&lt;biochemistry&gt;</td>\n",
       "    </tr>\n",
       "    <tr>\n",
       "      <th>2</th>\n",
       "      <td>3</td>\n",
       "      <td>&lt;immunology&gt;&lt;cell-biology&gt;&lt;hematology&gt;</td>\n",
       "    </tr>\n",
       "    <tr>\n",
       "      <th>3</th>\n",
       "      <td>4</td>\n",
       "      <td>&lt;cell-culture&gt;</td>\n",
       "    </tr>\n",
       "    <tr>\n",
       "      <th>4</th>\n",
       "      <td>5</td>\n",
       "      <td>&lt;splicing&gt;&lt;mrna&gt;&lt;spliceosome&gt;&lt;introns&gt;&lt;exons&gt;</td>\n",
       "    </tr>\n",
       "  </tbody>\n",
       "</table>\n",
       "</div>"
      ],
      "text/plain": [
       "   Id                                               Tags\n",
       "0   1  <ribosome><binding-sites><translation><synthet...\n",
       "1   2                                <rna><biochemistry>\n",
       "2   3             <immunology><cell-biology><hematology>\n",
       "3   4                                     <cell-culture>\n",
       "4   5      <splicing><mrna><spliceosome><introns><exons>"
      ]
     },
     "execution_count": 100,
     "metadata": {},
     "output_type": "execute_result"
    }
   ],
   "source": [
    "test.head()"
   ]
  },
  {
   "cell_type": "code",
   "execution_count": null,
   "metadata": {},
   "outputs": [],
   "source": []
  }
 ],
 "metadata": {
  "kernelspec": {
   "display_name": "Python 3",
   "language": "python",
   "name": "python3"
  },
  "language_info": {
   "codemirror_mode": {
    "name": "ipython",
    "version": 3
   },
   "file_extension": ".py",
   "mimetype": "text/x-python",
   "name": "python",
   "nbconvert_exporter": "python",
   "pygments_lexer": "ipython3",
   "version": "3.7.2"
  }
 },
 "nbformat": 4,
 "nbformat_minor": 2
}

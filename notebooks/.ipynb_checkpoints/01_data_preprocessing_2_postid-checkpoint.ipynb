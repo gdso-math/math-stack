{
 "cells": [
  {
   "cell_type": "code",
   "execution_count": 1,
   "metadata": {},
   "outputs": [],
   "source": [
    "import pandas as pd\n",
    "import re\n",
    "import time"
   ]
  },
  {
   "cell_type": "code",
   "execution_count": 2,
   "metadata": {
    "scrolled": true
   },
   "outputs": [
    {
     "name": "stderr",
     "output_type": "stream",
     "text": [
      "/usr/local/Cellar/ipython/7.6.1/libexec/lib/python3.7/site-packages/IPython/core/interactiveshell.py:3057: DtypeWarning: Columns (11) have mixed types. Specify dtype option on import or set low_memory=False.\n",
      "  interactivity=interactivity, compiler=compiler, result=result)\n"
     ]
    },
    {
     "name": "stdout",
     "output_type": "stream",
     "text": [
      "0.4775176207224528\n"
     ]
    }
   ],
   "source": [
    "start = time.time()\n",
    "math_post = pd.read_csv(\"../data/csv/math_post.csv\", lineterminator='\\n')\n",
    "chemistry_post = pd.read_csv(\"../data/csv/chemistry_post.csv\", lineterminator='\\n')\n",
    "physics_post = pd.read_csv(\"../data/csv/physics_post.csv\", lineterminator='\\n')\n",
    "biology_post = pd.read_csv(\"../data/csv/biology_post.csv\", lineterminator='\\n')\n",
    "end = time.time()\n",
    "print((end-start)/60.0)"
   ]
  },
  {
   "cell_type": "code",
   "execution_count": 3,
   "metadata": {},
   "outputs": [],
   "source": [
    "def regrex_processing_post(subject):\n",
    "    equation = []\n",
    "    pattern = re.compile('.*?\\$(.+?)\\$')\n",
    "    subject['Body'] = subject['Body'].astype(str)\n",
    "    for text in subject.Body:\n",
    "        try:\n",
    "            if \"$\" in text:\n",
    "                eq = re.findall(pattern, text)\n",
    "                for i in range(len(eq)):\n",
    "                    eq[i] = eq[i].replace(\"$\", \"\")\n",
    "                equation.append(eq)\n",
    "            else:\n",
    "                equation.append(None)\n",
    "        except:\n",
    "            print('An error occured with ' + text)\n",
    "    subject['Equation'] = equation\n",
    "    new_subject = subject[subject['Equation'].notnull()].reset_index(drop = True)\n",
    "    return new_subject"
   ]
  },
  {
   "cell_type": "code",
   "execution_count": 4,
   "metadata": {},
   "outputs": [
    {
     "name": "stdout",
     "output_type": "stream",
     "text": [
      "-12.835062249501545\n"
     ]
    }
   ],
   "source": [
    "start = time.time()\n",
    "math_post = regrex_processing_post(math_post)\n",
    "math_post['Label'] = 'math'\n",
    "end = time.time()\n",
    "print((start-end)/60.0)"
   ]
  },
  {
   "cell_type": "code",
   "execution_count": 5,
   "metadata": {},
   "outputs": [
    {
     "data": {
      "text/plain": [
       "RangeIndex(start=0, stop=2339630, step=1)"
      ]
     },
     "execution_count": 5,
     "metadata": {},
     "output_type": "execute_result"
    }
   ],
   "source": [
    "math_post.index"
   ]
  },
  {
   "cell_type": "code",
   "execution_count": 6,
   "metadata": {},
   "outputs": [
    {
     "data": {
      "text/plain": [
       "Index(['AcceptedAnswerId', 'AnswerCount', 'Body', 'ClosedDate', 'CommentCount',\n",
       "       'CommunityOwnedDate', 'CreationDate', 'FavoriteCount', 'Id',\n",
       "       'LastActivityDate', 'LastEditDate', 'LastEditorDisplayName',\n",
       "       'LastEditorUserId', 'OwnerDisplayName', 'OwnerUserId', 'ParentId',\n",
       "       'PostTypeId', 'Score', 'Tags', 'Title', 'ViewCount', 'Equation',\n",
       "       'Label'],\n",
       "      dtype='object')"
      ]
     },
     "execution_count": 6,
     "metadata": {},
     "output_type": "execute_result"
    }
   ],
   "source": [
    "math_post.columns"
   ]
  },
  {
   "cell_type": "code",
   "execution_count": 7,
   "metadata": {},
   "outputs": [
    {
     "name": "stdout",
     "output_type": "stream",
     "text": [
      "9.54380693435669\n"
     ]
    }
   ],
   "source": [
    "start = time.time()\n",
    "math_post_rows = []\n",
    "_ = math_post.apply(lambda row: [math_post_rows.append([eqn, row[\"Label\"], row[\"Id\"], row[\"Tags\"]]) for eqn in row.Equation], axis=1)\n",
    "end = time.time()\n",
    "print((end-start)/60.0)"
   ]
  },
  {
   "cell_type": "code",
   "execution_count": 8,
   "metadata": {},
   "outputs": [],
   "source": [
    "math_post_eqn_filtered = pd.DataFrame(math_post_rows, columns=[\"Equation\", \"Label\", \"Id\", \"Tags\"])"
   ]
  },
  {
   "cell_type": "code",
   "execution_count": 9,
   "metadata": {},
   "outputs": [
    {
     "data": {
      "text/plain": [
       "RangeIndex(start=0, stop=23301802, step=1)"
      ]
     },
     "execution_count": 9,
     "metadata": {},
     "output_type": "execute_result"
    }
   ],
   "source": [
    "math_post_eqn_filtered.index"
   ]
  },
  {
   "cell_type": "code",
   "execution_count": 10,
   "metadata": {},
   "outputs": [
    {
     "data": {
      "text/html": [
       "<div>\n",
       "<style scoped>\n",
       "    .dataframe tbody tr th:only-of-type {\n",
       "        vertical-align: middle;\n",
       "    }\n",
       "\n",
       "    .dataframe tbody tr th {\n",
       "        vertical-align: top;\n",
       "    }\n",
       "\n",
       "    .dataframe thead th {\n",
       "        text-align: right;\n",
       "    }\n",
       "</style>\n",
       "<table border=\"1\" class=\"dataframe\">\n",
       "  <thead>\n",
       "    <tr style=\"text-align: right;\">\n",
       "      <th></th>\n",
       "      <th>Equation</th>\n",
       "      <th>Label</th>\n",
       "      <th>Id</th>\n",
       "      <th>Tags</th>\n",
       "    </tr>\n",
       "  </thead>\n",
       "  <tbody>\n",
       "    <tr>\n",
       "      <th>0</th>\n",
       "      <td>\\sqrt{2}</td>\n",
       "      <td>math</td>\n",
       "      <td>5</td>\n",
       "      <td>&lt;elementary-number-theory&gt;&lt;proof-writing&gt;&lt;radi...</td>\n",
       "    </tr>\n",
       "    <tr>\n",
       "      <th>1</th>\n",
       "      <td>\\sqrt{2}</td>\n",
       "      <td>math</td>\n",
       "      <td>5</td>\n",
       "      <td>&lt;elementary-number-theory&gt;&lt;proof-writing&gt;&lt;radi...</td>\n",
       "    </tr>\n",
       "    <tr>\n",
       "      <th>2</th>\n",
       "      <td>\\sqrt{2}</td>\n",
       "      <td>math</td>\n",
       "      <td>7</td>\n",
       "      <td>NaN</td>\n",
       "    </tr>\n",
       "    <tr>\n",
       "      <th>3</th>\n",
       "      <td>p/q</td>\n",
       "      <td>math</td>\n",
       "      <td>7</td>\n",
       "      <td>NaN</td>\n",
       "    </tr>\n",
       "    <tr>\n",
       "      <th>4</th>\n",
       "      <td>2q^2 = p^2</td>\n",
       "      <td>math</td>\n",
       "      <td>7</td>\n",
       "      <td>NaN</td>\n",
       "    </tr>\n",
       "  </tbody>\n",
       "</table>\n",
       "</div>"
      ],
      "text/plain": [
       "     Equation Label  Id                                               Tags\n",
       "0    \\sqrt{2}  math   5  <elementary-number-theory><proof-writing><radi...\n",
       "1    \\sqrt{2}  math   5  <elementary-number-theory><proof-writing><radi...\n",
       "2    \\sqrt{2}  math   7                                                NaN\n",
       "3         p/q  math   7                                                NaN\n",
       "4  2q^2 = p^2  math   7                                                NaN"
      ]
     },
     "execution_count": 10,
     "metadata": {},
     "output_type": "execute_result"
    }
   ],
   "source": [
    "math_post_eqn_filtered.head()"
   ]
  },
  {
   "cell_type": "code",
   "execution_count": 11,
   "metadata": {},
   "outputs": [
    {
     "name": "stdout",
     "output_type": "stream",
     "text": [
      "1.2336413661638896\n"
     ]
    }
   ],
   "source": [
    "start = time.time()\n",
    "math_post_eqn_filtered.to_csv(\"../data/equation/math_post_eq_filtered_id.csv\", index=False)\n",
    "end = time.time()\n",
    "print((end-start)/60.0)"
   ]
  },
  {
   "cell_type": "code",
   "execution_count": 12,
   "metadata": {},
   "outputs": [],
   "source": [
    "subject_string = ['chemistry', 'physics', 'biology']\n",
    "post_df= [chemistry_post, physics_post, biology_post]"
   ]
  },
  {
   "cell_type": "code",
   "execution_count": 13,
   "metadata": {},
   "outputs": [
    {
     "name": "stdout",
     "output_type": "stream",
     "text": [
      "start processing posts for chemistry\n",
      "0.73670947154363\n",
      "start filtering posts for chemistry\n",
      "199528\n",
      "0.09057548443476358\n",
      "start saving posts for chemistry\n",
      "0.011127066612243653\n",
      "start processing posts for physics\n",
      "4.749001022179922\n",
      "start filtering posts for physics\n",
      "1347287\n",
      "0.6483712951342265\n",
      "start saving posts for physics\n",
      "0.07724279959996541\n",
      "start processing posts for biology\n",
      "0.12900857925415038\n",
      "start filtering posts for biology\n",
      "12571\n",
      "0.01147449811299642\n",
      "start saving posts for biology\n",
      "0.0006585160891215007\n"
     ]
    }
   ],
   "source": [
    "for i in range(len(subject_string)):\n",
    "    start = time.time()\n",
    "    print(\"start processing posts for \" + subject_string[i])\n",
    "    subject_post = regrex_processing_post(post_df[i])\n",
    "    end = time.time()\n",
    "    print((end-start)/60.0)\n",
    "    \n",
    "    subject_post['Label'] = subject_string[i]\n",
    "    \n",
    "    start = time.time()\n",
    "    print(\"start filtering posts for \" + subject_string[i])\n",
    "    post_rows = []\n",
    "    _ = subject_post.apply(lambda row: [post_rows.append([eqn, row[\"Label\"], row[\"Id\"], row[\"Tags\"]]) for eqn in row.Equation], axis=1)\n",
    "    subject_post_filtered = pd.DataFrame(post_rows, columns=[\"Equation\", \"Label\", \"Id\", \"Tags\"])\n",
    "    end = time.time()\n",
    "    print(len(subject_post_filtered.index))\n",
    "    print((end-start)/60.0)\n",
    "    \n",
    "    start = time.time()\n",
    "    print(\"start saving posts for \" + subject_string[i])\n",
    "    subject_post_filtered.to_csv(\"../data/equation/\" + subject_string[i] + \"_post_eq_filtered_id.csv\", index = False)\n",
    "    end = time.time()\n",
    "    print((end-start)/60.0)"
   ]
  },
  {
   "cell_type": "code",
   "execution_count": null,
   "metadata": {},
   "outputs": [],
   "source": []
  }
 ],
 "metadata": {
  "kernelspec": {
   "display_name": "Python 3",
   "language": "python",
   "name": "python3"
  },
  "language_info": {
   "codemirror_mode": {
    "name": "ipython",
    "version": 3
   },
   "file_extension": ".py",
   "mimetype": "text/x-python",
   "name": "python",
   "nbconvert_exporter": "python",
   "pygments_lexer": "ipython3",
   "version": "3.7.3"
  }
 },
 "nbformat": 4,
 "nbformat_minor": 2
}

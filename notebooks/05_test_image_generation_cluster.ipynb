{
 "cells": [
  {
   "cell_type": "code",
   "execution_count": 1,
   "metadata": {},
   "outputs": [],
   "source": [
    "#note: you will need to create two new folders in data: test_images and sized_images\n",
    "\n",
    "import pandas as pd\n",
    "import time\n",
    "import os, requests\n",
    "from PIL import Image, ImageOps\n",
    "import numpy as np\n",
    "import matplotlib.pyplot as plt\n",
    "from concurrent.futures import ThreadPoolExecutor"
   ]
  },
  {
   "cell_type": "code",
   "execution_count": 2,
   "metadata": {},
   "outputs": [],
   "source": [
    "#formula to turn the latex equations into png images\n",
    "def formula_as_file( formula, file, negate=False ):\n",
    "    tfile = file\n",
    "    if negate:\n",
    "        tfile = 'tmp.png'\n",
    "    r = requests.get( 'http://latex.codecogs.com/png.latex?\\dpi{150} %s' % formula )\n",
    "    f = open( tfile, 'wb' )\n",
    "    f.write( r.content )\n",
    "    f.close()\n",
    "    if negate:\n",
    "        os.system( 'convert tmp.png -channel RGB -negate -colorspace rgb %s' %file )"
   ]
  },
  {
   "cell_type": "code",
   "execution_count": 3,
   "metadata": {},
   "outputs": [],
   "source": [
    "#read in the csvs obtained from 03_tags_clustering\n",
    "chem = pd.read_csv(\"../data/equation/chemistry_post_eq_tag_id.csv\", lineterminator='\\n')\n",
    "physics = pd.read_csv(\"../data/equation/physics_post_eq_tag_id.csv\", lineterminator='\\n')\n",
    "bio = pd.read_csv(\"../data/equation/biology_post_eq_tag_id.csv\", lineterminator='\\n')"
   ]
  },
  {
   "cell_type": "code",
   "execution_count": 4,
   "metadata": {},
   "outputs": [
    {
     "name": "stdout",
     "output_type": "stream",
     "text": [
      "65085\n",
      "444180\n",
      "12571\n"
     ]
    }
   ],
   "source": [
    "print(chem.shape[0])\n",
    "print(physics.shape[0])\n",
    "print(bio.shape[0])"
   ]
  },
  {
   "cell_type": "code",
   "execution_count": 5,
   "metadata": {},
   "outputs": [],
   "source": [
    "#eliminate nan values\n",
    "chem.dropna(subset = ['Equation'], inplace = True)\n",
    "bio.dropna(subset = ['Equation'], inplace = True)\n",
    "physics.dropna(subset = ['Equation'], inplace = True)"
   ]
  },
  {
   "cell_type": "code",
   "execution_count": 6,
   "metadata": {},
   "outputs": [],
   "source": [
    "#eliminate equations 2 characters or less and eliminate 64 characters or more\n",
    "bio = bio[bio.apply(lambda row: len(row.Equation) > 2 and len(row.Equation) < 64, axis = 1)]\n",
    "chem = chem[chem.apply(lambda row: len(row.Equation) > 2 and len(row.Equation) < 64, axis = 1)]\n",
    "physics = physics[physics.apply(lambda row: len(row.Equation) > 2 and len(row.Equation) < 64, axis = 1)]"
   ]
  },
  {
   "cell_type": "code",
   "execution_count": 7,
   "metadata": {},
   "outputs": [
    {
     "data": {
      "text/html": [
       "<div>\n",
       "<style scoped>\n",
       "    .dataframe tbody tr th:only-of-type {\n",
       "        vertical-align: middle;\n",
       "    }\n",
       "\n",
       "    .dataframe tbody tr th {\n",
       "        vertical-align: top;\n",
       "    }\n",
       "\n",
       "    .dataframe thead th {\n",
       "        text-align: right;\n",
       "    }\n",
       "</style>\n",
       "<table border=\"1\" class=\"dataframe\">\n",
       "  <thead>\n",
       "    <tr style=\"text-align: right;\">\n",
       "      <th></th>\n",
       "      <th>Equation</th>\n",
       "      <th>Label</th>\n",
       "      <th>Cluster_label</th>\n",
       "      <th>Id</th>\n",
       "      <th>Tags</th>\n",
       "    </tr>\n",
       "  </thead>\n",
       "  <tbody>\n",
       "    <tr>\n",
       "      <th>0</th>\n",
       "      <td>\\mathrm{NaCl}</td>\n",
       "      <td>chemistry</td>\n",
       "      <td>chemistry-everything-else</td>\n",
       "      <td>2</td>\n",
       "      <td>&lt;ions&gt;&lt;crystal-structure&gt;&lt;ionic-compounds&gt;&lt;sol...</td>\n",
       "    </tr>\n",
       "    <tr>\n",
       "      <th>1</th>\n",
       "      <td>\\mathrm{Cl}</td>\n",
       "      <td>chemistry</td>\n",
       "      <td>chemistry-everything-else</td>\n",
       "      <td>2</td>\n",
       "      <td>&lt;ions&gt;&lt;crystal-structure&gt;&lt;ionic-compounds&gt;&lt;sol...</td>\n",
       "    </tr>\n",
       "    <tr>\n",
       "      <th>2</th>\n",
       "      <td>\\mathrm{Cl^-}</td>\n",
       "      <td>chemistry</td>\n",
       "      <td>chemistry-everything-else</td>\n",
       "      <td>2</td>\n",
       "      <td>&lt;ions&gt;&lt;crystal-structure&gt;&lt;ionic-compounds&gt;&lt;sol...</td>\n",
       "    </tr>\n",
       "    <tr>\n",
       "      <th>3</th>\n",
       "      <td>\\mathrm{Na}</td>\n",
       "      <td>chemistry</td>\n",
       "      <td>chemistry-everything-else</td>\n",
       "      <td>2</td>\n",
       "      <td>&lt;ions&gt;&lt;crystal-structure&gt;&lt;ionic-compounds&gt;&lt;sol...</td>\n",
       "    </tr>\n",
       "    <tr>\n",
       "      <th>4</th>\n",
       "      <td>\\mathrm{Na^+}</td>\n",
       "      <td>chemistry</td>\n",
       "      <td>chemistry-everything-else</td>\n",
       "      <td>2</td>\n",
       "      <td>&lt;ions&gt;&lt;crystal-structure&gt;&lt;ionic-compounds&gt;&lt;sol...</td>\n",
       "    </tr>\n",
       "  </tbody>\n",
       "</table>\n",
       "</div>"
      ],
      "text/plain": [
       "        Equation      Label              Cluster_label  Id  \\\n",
       "0  \\mathrm{NaCl}  chemistry  chemistry-everything-else   2   \n",
       "1    \\mathrm{Cl}  chemistry  chemistry-everything-else   2   \n",
       "2  \\mathrm{Cl^-}  chemistry  chemistry-everything-else   2   \n",
       "3    \\mathrm{Na}  chemistry  chemistry-everything-else   2   \n",
       "4  \\mathrm{Na^+}  chemistry  chemistry-everything-else   2   \n",
       "\n",
       "                                                Tags  \n",
       "0  <ions><crystal-structure><ionic-compounds><sol...  \n",
       "1  <ions><crystal-structure><ionic-compounds><sol...  \n",
       "2  <ions><crystal-structure><ionic-compounds><sol...  \n",
       "3  <ions><crystal-structure><ionic-compounds><sol...  \n",
       "4  <ions><crystal-structure><ionic-compounds><sol...  "
      ]
     },
     "execution_count": 7,
     "metadata": {},
     "output_type": "execute_result"
    }
   ],
   "source": [
    "chem.head()"
   ]
  },
  {
   "cell_type": "code",
   "execution_count": 10,
   "metadata": {},
   "outputs": [],
   "source": [
    "bio.drop_duplicates(['Equation', 'Label', 'Cluster_label'], inplace = True)\n",
    "chem.drop_duplicates(['Equation', 'Label', 'Cluster_label'], inplace = True)\n",
    "physics.drop_duplicates(['Equation', 'Label', 'Cluster_label'], inplace = True)"
   ]
  },
  {
   "cell_type": "code",
   "execution_count": 11,
   "metadata": {},
   "outputs": [],
   "source": [
    "#eliminate all \\ce formatted chemical equations\n",
    "bio = bio[~bio.Equation.str.contains(\"ce{\")]\n",
    "chem = chem[~chem.Equation.str.contains(\"ce{\")]\n",
    "physics = physics[~physics.Equation.str.contains(\"ce{\")]"
   ]
  },
  {
   "cell_type": "code",
   "execution_count": 15,
   "metadata": {},
   "outputs": [],
   "source": [
    "bio.reset_index(drop = True, inplace = True)\n",
    "chem.reset_index(drop = True, inplace = True)\n",
    "physics.reset_index(drop = True, inplace = True)"
   ]
  },
  {
   "cell_type": "code",
   "execution_count": 12,
   "metadata": {},
   "outputs": [
    {
     "name": "stdout",
     "output_type": "stream",
     "text": [
      "5219\n",
      "18116\n",
      "200396\n"
     ]
    }
   ],
   "source": [
    "print(len(bio.index))\n",
    "print(len(chem.index))\n",
    "print(len(physics.index))"
   ]
  },
  {
   "cell_type": "markdown",
   "metadata": {},
   "source": [
    "# chemistry"
   ]
  },
  {
   "cell_type": "code",
   "execution_count": 16,
   "metadata": {},
   "outputs": [
    {
     "name": "stderr",
     "output_type": "stream",
     "text": [
      "/Users/shuang/anaconda3/lib/python3.7/site-packages/ipykernel_launcher.py:4: SettingWithCopyWarning: \n",
      "A value is trying to be set on a copy of a slice from a DataFrame.\n",
      "Try using .loc[row_indexer,col_indexer] = value instead\n",
      "\n",
      "See the caveats in the documentation: http://pandas.pydata.org/pandas-docs/stable/indexing.html#indexing-view-versus-copy\n",
      "  after removing the cwd from sys.path.\n"
     ]
    }
   ],
   "source": [
    "#generate chem filenames\n",
    "chem_lst = []\n",
    "_ = chem.apply(lambda row: [chem_lst.append(str(row.name) + \"_\" + str(row[\"Label\"]) + \"_\" + str(row[\"Id\"]))], axis=1)\n",
    "chem[\"FileName\"] = chem_lst"
   ]
  },
  {
   "cell_type": "code",
   "execution_count": null,
   "metadata": {},
   "outputs": [],
   "source": []
  },
  {
   "cell_type": "code",
   "execution_count": null,
   "metadata": {},
   "outputs": [],
   "source": [
    "#save chem equation images\n",
    "start = time.time()\n",
    "for i, row in chem.iterrows():\n",
    "    filename = \"../data/test_images/\" + row.FileName + \".png\"\n",
    "    formula_as_file(row.Equation, filename)\n",
    "end = time.time()\n",
    "print((end-start)/60.0)"
   ]
  },
  {
   "cell_type": "markdown",
   "metadata": {},
   "source": [
    "# biology"
   ]
  },
  {
   "cell_type": "code",
   "execution_count": 44,
   "metadata": {},
   "outputs": [],
   "source": [
    "#generate bio filenames\n",
    "bio_lst = []\n",
    "_ = bio.apply(lambda row: [bio_lst.append(str(row.name) + \"_\" + str(row[\"Label\"]) + \"_\" + str(row[\"Id\"]))], axis=1)\n",
    "bio[\"FileName\"] = bio_lst"
   ]
  },
  {
   "cell_type": "code",
   "execution_count": 45,
   "metadata": {},
   "outputs": [
    {
     "data": {
      "text/html": [
       "<div>\n",
       "<style scoped>\n",
       "    .dataframe tbody tr th:only-of-type {\n",
       "        vertical-align: middle;\n",
       "    }\n",
       "\n",
       "    .dataframe tbody tr th {\n",
       "        vertical-align: top;\n",
       "    }\n",
       "\n",
       "    .dataframe thead th {\n",
       "        text-align: right;\n",
       "    }\n",
       "</style>\n",
       "<table border=\"1\" class=\"dataframe\">\n",
       "  <thead>\n",
       "    <tr style=\"text-align: right;\">\n",
       "      <th></th>\n",
       "      <th>Equation</th>\n",
       "      <th>Label</th>\n",
       "      <th>Cluster_label</th>\n",
       "      <th>Id</th>\n",
       "      <th>Tags</th>\n",
       "      <th>FileName</th>\n",
       "    </tr>\n",
       "  </thead>\n",
       "  <tbody>\n",
       "    <tr>\n",
       "      <th>0</th>\n",
       "      <td>v = 6d</td>\n",
       "      <td>biology</td>\n",
       "      <td>biology</td>\n",
       "      <td>424</td>\n",
       "      <td>&lt;human-biology&gt;&lt;neuroscience&gt;</td>\n",
       "      <td>0_biology_424</td>\n",
       "    </tr>\n",
       "    <tr>\n",
       "      <th>1</th>\n",
       "      <td>v = \\sqrt{\\frac{i_\\text{Na max}}{r_i c_m^2 V_\\...</td>\n",
       "      <td>biology</td>\n",
       "      <td>biology</td>\n",
       "      <td>424</td>\n",
       "      <td>&lt;human-biology&gt;&lt;neuroscience&gt;</td>\n",
       "      <td>1_biology_424</td>\n",
       "    </tr>\n",
       "    <tr>\n",
       "      <th>2</th>\n",
       "      <td>V_d=k\\frac{\\large a.([C_2]-[C_1])}{\\large l}</td>\n",
       "      <td>biology</td>\n",
       "      <td>biology</td>\n",
       "      <td>1000</td>\n",
       "      <td>NaN</td>\n",
       "      <td>2_biology_1000</td>\n",
       "    </tr>\n",
       "    <tr>\n",
       "      <th>3</th>\n",
       "      <td>counts, mids=h</td>\n",
       "      <td>biology</td>\n",
       "      <td>biology</td>\n",
       "      <td>1207</td>\n",
       "      <td>NaN</td>\n",
       "      <td>3_biology_1207</td>\n",
       "    </tr>\n",
       "    <tr>\n",
       "      <th>4</th>\n",
       "      <td>even &amp;lt;- (df</td>\n",
       "      <td>biology</td>\n",
       "      <td>biology</td>\n",
       "      <td>1207</td>\n",
       "      <td>NaN</td>\n",
       "      <td>4_biology_1207</td>\n",
       "    </tr>\n",
       "  </tbody>\n",
       "</table>\n",
       "</div>"
      ],
      "text/plain": [
       "                                            Equation    Label Cluster_label  \\\n",
       "0                                             v = 6d  biology       biology   \n",
       "1  v = \\sqrt{\\frac{i_\\text{Na max}}{r_i c_m^2 V_\\...  biology       biology   \n",
       "2       V_d=k\\frac{\\large a.([C_2]-[C_1])}{\\large l}  biology       biology   \n",
       "3                                     counts, mids=h  biology       biology   \n",
       "4                                     even &lt;- (df  biology       biology   \n",
       "\n",
       "     Id                           Tags        FileName  \n",
       "0   424  <human-biology><neuroscience>   0_biology_424  \n",
       "1   424  <human-biology><neuroscience>   1_biology_424  \n",
       "2  1000                            NaN  2_biology_1000  \n",
       "3  1207                            NaN  3_biology_1207  \n",
       "4  1207                            NaN  4_biology_1207  "
      ]
     },
     "execution_count": 45,
     "metadata": {},
     "output_type": "execute_result"
    }
   ],
   "source": [
    "bio.head()"
   ]
  },
  {
   "cell_type": "code",
   "execution_count": 46,
   "metadata": {},
   "outputs": [
    {
     "name": "stdout",
     "output_type": "stream",
     "text": [
      "10.473268934090932\n"
     ]
    }
   ],
   "source": [
    "#save bio equation images\n",
    "start = time.time()\n",
    "for i, row in bio.iterrows():\n",
    "    filename = \"../data/test_images/\" + row.FileName + \".png\"\n",
    "    formula_as_file(row.Equation, filename)\n",
    "end = time.time()\n",
    "print((end-start)/60.0)"
   ]
  },
  {
   "cell_type": "markdown",
   "metadata": {},
   "source": [
    "# physics"
   ]
  },
  {
   "cell_type": "code",
   "execution_count": null,
   "metadata": {},
   "outputs": [],
   "source": [
    "#generate physics filenames\n",
    "phys_lst = []\n",
    "_ = physics.apply(lambda row: [phys_lst.append(str(row.name) + \"_\" + str(row[\"Label\"]) + \"_\" + str(row[\"Id\"]))], axis=1)\n",
    "physics[\"FileName\"] = phys_lst\n"
   ]
  },
  {
   "cell_type": "code",
   "execution_count": null,
   "metadata": {},
   "outputs": [],
   "source": [
    "# physics_idx = np.random.choice(physics.shape[0], 4600, replace = False)"
   ]
  },
  {
   "cell_type": "code",
   "execution_count": null,
   "metadata": {},
   "outputs": [],
   "source": [
    "#save 4600 physics equation images\n",
    "start = time.time()\n",
    "for i, row in physics.iterrows():\n",
    "    filename = \"../data/test_images/\" + physics.iloc[i].FileName + \".png\"\n",
    "    formula_as_file(physics.iloc[i].Equation, filename)\n",
    "end = time.time()\n",
    "print((end-start)/60.0)"
   ]
  },
  {
   "cell_type": "code",
   "execution_count": null,
   "metadata": {},
   "outputs": [],
   "source": [
    "physics.iloc[190727].FileName"
   ]
  },
  {
   "cell_type": "code",
   "execution_count": null,
   "metadata": {},
   "outputs": [],
   "source": [
    "physics.iloc[190727].Equation"
   ]
  },
  {
   "cell_type": "code",
   "execution_count": null,
   "metadata": {},
   "outputs": [],
   "source": [
    "filename = \"../data/test_images/\" + physics.iloc[190727].FileName + \".png\"\n",
    "formula = physics.iloc[190727].Equation\n",
    "formula_as_file(formula, filename)"
   ]
  },
  {
   "cell_type": "code",
   "execution_count": null,
   "metadata": {},
   "outputs": [],
   "source": [
    "filename"
   ]
  },
  {
   "cell_type": "code",
   "execution_count": null,
   "metadata": {},
   "outputs": [],
   "source": [
    "img = Image.open(filename)\n",
    "plt.imshow(np.asarray(img))"
   ]
  },
  {
   "cell_type": "markdown",
   "metadata": {},
   "source": [
    "Time to get statistics!"
   ]
  },
  {
   "cell_type": "code",
   "execution_count": null,
   "metadata": {},
   "outputs": [],
   "source": [
    "#read image width/height into a dataframe\n",
    "image_data = pd.DataFrame(columns=[\"width\", \"height\"])\n",
    "for file in os.listdir(\"../data/test_images\"):\n",
    "    if file.endswith(\".png\"):\n",
    "        img = \"../data/test_images/\" + file\n",
    "        im = Image.open(img)\n",
    "        size = list(im.size)\n",
    "        insert = pd.DataFrame([[float(size[0])] + [float(size[1])]], columns=[\"width\", \"height\"])\n",
    "        image_data = image_data.append(insert, ignore_index=True)"
   ]
  },
  {
   "cell_type": "code",
   "execution_count": null,
   "metadata": {},
   "outputs": [],
   "source": [
    "image_data.describe()"
   ]
  },
  {
   "cell_type": "markdown",
   "metadata": {},
   "source": [
    "Below are several test images with different cropping methods to get (128, 32) images"
   ]
  },
  {
   "cell_type": "code",
   "execution_count": 28,
   "metadata": {},
   "outputs": [
    {
     "data": {
      "text/plain": [
       "(32, 22)"
      ]
     },
     "execution_count": 28,
     "metadata": {},
     "output_type": "execute_result"
    }
   ],
   "source": [
    "small = Image.open(\"../data/test_images/12_chemistry_27.png\")\n",
    "small.size"
   ]
  },
  {
   "cell_type": "code",
   "execution_count": 34,
   "metadata": {},
   "outputs": [
    {
     "data": {
      "text/plain": [
       "<matplotlib.image.AxesImage at 0x1237d30f0>"
      ]
     },
     "execution_count": 34,
     "metadata": {},
     "output_type": "execute_result"
    },
    {
     "data": {
      "image/png": "[encoded data removed]",
      "text/plain": [
       "<Figure size 432x288 with 1 Axes>"
      ]
     },
     "metadata": {
      "needs_background": "light"
     },
     "output_type": "display_data"
    }
   ],
   "source": [
    "plt.imshow(np.asarray(small))"
   ]
  },
  {
   "cell_type": "code",
   "execution_count": 33,
   "metadata": {},
   "outputs": [
    {
     "data": {
      "text/plain": [
       "(234, 23)"
      ]
     },
     "execution_count": 33,
     "metadata": {},
     "output_type": "execute_result"
    }
   ],
   "source": [
    "big = Image.open(\"../data/test_images/5_chemistry_4.png\")\n",
    "big.size"
   ]
  },
  {
   "cell_type": "code",
   "execution_count": 35,
   "metadata": {},
   "outputs": [
    {
     "data": {
      "text/plain": [
       "<matplotlib.image.AxesImage at 0x1237ac438>"
      ]
     },
     "execution_count": 35,
     "metadata": {},
     "output_type": "execute_result"
    },
    {
     "data": {
      "image/png": "[encoded data removed]",
      "text/plain": [
       "<Figure size 432x288 with 1 Axes>"
      ]
     },
     "metadata": {
      "needs_background": "light"
     },
     "output_type": "display_data"
    }
   ],
   "source": [
    "plt.imshow(np.asarray(big))"
   ]
  },
  {
   "cell_type": "code",
   "execution_count": 53,
   "metadata": {},
   "outputs": [],
   "source": [
    "#this image is smaller than (128, 32).  We expand it.\n",
    "delta_w = 128 - small.size[0]\n",
    "delta_h = 32 - small.size[1]\n",
    "padding = (delta_w//2, delta_h//2, delta_w-(delta_w//2), delta_h-(delta_h//2))\n",
    "new_small = ImageOps.expand(small, padding)"
   ]
  },
  {
   "cell_type": "code",
   "execution_count": 54,
   "metadata": {},
   "outputs": [
    {
     "data": {
      "text/plain": [
       "(128, 32)"
      ]
     },
     "execution_count": 54,
     "metadata": {},
     "output_type": "execute_result"
    }
   ],
   "source": [
    "new_small.size"
   ]
  },
  {
   "cell_type": "code",
   "execution_count": 55,
   "metadata": {},
   "outputs": [
    {
     "data": {
      "text/plain": [
       "<matplotlib.image.AxesImage at 0x121f13278>"
      ]
     },
     "execution_count": 55,
     "metadata": {},
     "output_type": "execute_result"
    },
    {
     "data": {
      "image/png": "[encoded data removed]",
      "text/plain": [
       "<Figure size 432x288 with 1 Axes>"
      ]
     },
     "metadata": {
      "needs_background": "light"
     },
     "output_type": "display_data"
    }
   ],
   "source": [
    "plt.imshow(np.asarray(small))"
   ]
  },
  {
   "cell_type": "code",
   "execution_count": 56,
   "metadata": {},
   "outputs": [
    {
     "data": {
      "text/plain": [
       "<matplotlib.image.AxesImage at 0x123ce45f8>"
      ]
     },
     "execution_count": 56,
     "metadata": {},
     "output_type": "execute_result"
    },
    {
     "data": {
      "image/png": "[encoded data removed]",
      "text/plain": [
       "<Figure size 432x288 with 1 Axes>"
      ]
     },
     "metadata": {
      "needs_background": "light"
     },
     "output_type": "display_data"
    }
   ],
   "source": [
    "plt.imshow(np.asarray(new_small))"
   ]
  },
  {
   "cell_type": "code",
   "execution_count": 57,
   "metadata": {},
   "outputs": [],
   "source": [
    "#This image is too big. We crop too-big image as-is\n",
    "delta_w = 128 - big.size[0]\n",
    "delta_h = 32 - big.size[1]\n",
    "padding = (delta_w//2, delta_h//2, delta_w-(delta_w//2), delta_h-(delta_h//2))\n",
    "new_big = ImageOps.expand(big, padding)"
   ]
  },
  {
   "cell_type": "code",
   "execution_count": null,
   "metadata": {},
   "outputs": [],
   "source": [
    "#Alternate method: resize width to 128, then crop\n",
    "new_size = tuple([128, big.size[1]])\n",
    "new_big1 = big.resize(new_size, Image.ANTIALIAS)\n",
    "\n",
    "delta_w = 0\n",
    "delta_h = 32 - new_big1.size[1]\n",
    "padding = (delta_w//2, delta_h//2, delta_w-(delta_w//2), delta_h-(delta_h//2))\n",
    "new_big1 = ImageOps.expand(new_big1, padding)\n",
    "new_big1.size\n"
   ]
  },
  {
   "cell_type": "code",
   "execution_count": null,
   "metadata": {},
   "outputs": [],
   "source": [
    "plt.imshow(np.asarray(big))"
   ]
  },
  {
   "cell_type": "code",
   "execution_count": null,
   "metadata": {},
   "outputs": [],
   "source": [
    "plt.imshow(np.asarray(new_big))"
   ]
  },
  {
   "cell_type": "code",
   "execution_count": null,
   "metadata": {},
   "outputs": [],
   "source": [
    "plt.imshow(np.asarray(new_big1))"
   ]
  },
  {
   "cell_type": "code",
   "execution_count": null,
   "metadata": {},
   "outputs": [],
   "source": [
    "#Here's a place to experiment with different image files\n",
    "\n",
    "#test = Image.open(\"../data/test_images/56_biology_3869.png\")\n",
    "test = Image.open(\"../data/test_images/1351_biology_16249.png\")\n",
    "print(test.size)\n",
    "plt.imshow(np.asarray(test))"
   ]
  },
  {
   "cell_type": "code",
   "execution_count": null,
   "metadata": {},
   "outputs": [],
   "source": [
    "#crop too-big image\n",
    "delta_w = 128 - test.size[0]\n",
    "delta_h = 32 - test.size[1]\n",
    "padding = (delta_w//2, delta_h//2, delta_w-(delta_w//2), delta_h-(delta_h//2))\n",
    "new_test = ImageOps.expand(test, padding)\n",
    "plt.imshow(np.asarray(new_test))"
   ]
  },
  {
   "cell_type": "code",
   "execution_count": 36,
   "metadata": {},
   "outputs": [],
   "source": [
    "test = big"
   ]
  },
  {
   "cell_type": "code",
   "execution_count": 47,
   "metadata": {},
   "outputs": [],
   "source": [
    "#resize width to 128, then crop\n",
    "new_size = tuple([128, test.size[1]])\n",
    "new_img = test.resize(new_size, Image.LANCZOS)\n",
    "delta_w = 0\n",
    "delta_h = 64 - new_img.size[1]\n",
    "padding = (delta_w//2, delta_h//2, delta_w-(delta_w//2), delta_h-(delta_h//2))\n",
    "new_img = ImageOps.expand(new_img, padding)"
   ]
  },
  {
   "cell_type": "code",
   "execution_count": 48,
   "metadata": {},
   "outputs": [
    {
     "data": {
      "text/plain": [
       "<matplotlib.image.AxesImage at 0x1270f6be0>"
      ]
     },
     "execution_count": 48,
     "metadata": {},
     "output_type": "execute_result"
    },
    {
     "data": {
      "image/png": "[encoded data removed]",
      "text/plain": [
       "<Figure size 432x288 with 1 Axes>"
      ]
     },
     "metadata": {
      "needs_background": "light"
     },
     "output_type": "display_data"
    }
   ],
   "source": [
    "plt.imshow(np.asarray(new_img))"
   ]
  },
  {
   "cell_type": "code",
   "execution_count": 43,
   "metadata": {},
   "outputs": [
    {
     "data": {
      "text/plain": [
       "<matplotlib.image.AxesImage at 0x123ad4c18>"
      ]
     },
     "execution_count": 43,
     "metadata": {},
     "output_type": "execute_result"
    },
    {
     "data": {
      "image/png": "[encoded data removed]",
      "text/plain": [
       "<Figure size 432x288 with 1 Axes>"
      ]
     },
     "metadata": {
      "needs_background": "light"
     },
     "output_type": "display_data"
    }
   ],
   "source": [
    "#resize width to 128, then crop\n",
    "new_size = tuple([128, test.size[1]])\n",
    "new_img = test.resize(new_size, Image.LANCZOS)\n",
    "delta_w = 0\n",
    "delta_h = 32 - new_img.size[1]\n",
    "padding = (delta_w//2, delta_h//2, delta_w-(delta_w//2), delta_h-(delta_h//2))\n",
    "new_img = ImageOps.expand(new_img, padding)\n",
    "plt.imshow(np.asarray(new_img))"
   ]
  },
  {
   "cell_type": "markdown",
   "metadata": {},
   "source": [
    "let's actually do the resizing"
   ]
  },
  {
   "cell_type": "code",
   "execution_count": null,
   "metadata": {},
   "outputs": [],
   "source": [
    "#resize and save all images in parallel\n",
    "def img_resize(file):\n",
    "    if file.endswith(\".png\"):\n",
    "        filename = \"../data/test_images/\" + file\n",
    "        img = Image.open(filename)\n",
    "        new_size = tuple([128, img.size[1]])\n",
    "        new_img = test.resize(new_size, Image.ANTIALIAS)\n",
    "        delta_w = 0\n",
    "        delta_h = 32 - new_img.size[1]\n",
    "        padding = (delta_w//2, delta_h//2, delta_w-(delta_w//2), delta_h-(delta_h//2))\n",
    "        new_img = ImageOps.expand(new_img, padding)\n",
    "        if new_img.size != (128, 32):\n",
    "            print(\"NOOOOOOO\")\n",
    "            return\n",
    "        destination = \"../data/sized_images/\" + file\n",
    "        new_img.save(destination)"
   ]
  },
  {
   "cell_type": "code",
   "execution_count": null,
   "metadata": {},
   "outputs": [],
   "source": [
    "start = time.time()\n",
    "with ThreadPoolExecutor(max_workers=8) as executor:\n",
    "    [executor.submit(img_resize, file) for file in os.listdir(\"../data/test_images\")]\n",
    "end = time.time()\n",
    "print((end-start)/60.0)"
   ]
  },
  {
   "cell_type": "code",
   "execution_count": null,
   "metadata": {},
   "outputs": [],
   "source": []
  }
 ],
 "metadata": {
  "kernelspec": {
   "display_name": "Python 3",
   "language": "python",
   "name": "python3"
  },
  "language_info": {
   "codemirror_mode": {
    "name": "ipython",
    "version": 3
   },
   "file_extension": ".py",
   "mimetype": "text/x-python",
   "name": "python",
   "nbconvert_exporter": "python",
   "pygments_lexer": "ipython3",
   "version": "3.7.2"
  }
 },
 "nbformat": 4,
 "nbformat_minor": 2
}

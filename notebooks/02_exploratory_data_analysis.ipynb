{
 "cells": [
  {
   "cell_type": "markdown",
   "metadata": {},
   "source": [
    "# want to get some insights of the equation and try to extract some features to build our classification model"
   ]
  },
  {
   "cell_type": "code",
   "execution_count": 1,
   "metadata": {},
   "outputs": [],
   "source": [
    "import pandas as pd\n",
    "import re"
   ]
  },
  {
   "cell_type": "code",
   "execution_count": 2,
   "metadata": {},
   "outputs": [],
   "source": [
    "# math_comment = pd.read_csv(\"../data/equation/math_comment_eq_filtered.csv\", lineterminator='\\n')\n",
    "chemistry_comment = pd.read_csv(\"../data/equation/chemistry_comment_eq_filtered.csv\", lineterminator='\\n')\n",
    "physics_comment = pd.read_csv(\"../data/equation/physics_comment_eq_filtered.csv\", lineterminator='\\n')\n",
    "biology_comment = pd.read_csv(\"../data/equation/biology_comment_eq_filtered.csv\", lineterminator='\\n')"
   ]
  },
  {
   "cell_type": "code",
   "execution_count": 3,
   "metadata": {},
   "outputs": [
    {
     "data": {
      "text/html": [
       "<div>\n",
       "<style scoped>\n",
       "    .dataframe tbody tr th:only-of-type {\n",
       "        vertical-align: middle;\n",
       "    }\n",
       "\n",
       "    .dataframe tbody tr th {\n",
       "        vertical-align: top;\n",
       "    }\n",
       "\n",
       "    .dataframe thead th {\n",
       "        text-align: right;\n",
       "    }\n",
       "</style>\n",
       "<table border=\"1\" class=\"dataframe\">\n",
       "  <thead>\n",
       "    <tr style=\"text-align: right;\">\n",
       "      <th></th>\n",
       "      <th>Equation</th>\n",
       "      <th>Label</th>\n",
       "      <th>Body</th>\n",
       "    </tr>\n",
       "  </thead>\n",
       "  <tbody>\n",
       "    <tr>\n",
       "      <th>0</th>\n",
       "      <td>d</td>\n",
       "      <td>chemistry</td>\n",
       "      <td>Just as a side note, there can also be more co...</td>\n",
       "    </tr>\n",
       "    <tr>\n",
       "      <th>1</th>\n",
       "      <td>f</td>\n",
       "      <td>chemistry</td>\n",
       "      <td>Just as a side note, there can also be more co...</td>\n",
       "    </tr>\n",
       "    <tr>\n",
       "      <th>2</th>\n",
       "      <td>G</td>\n",
       "      <td>chemistry</td>\n",
       "      <td>But that's the point. $G$ is not zero by the f...</td>\n",
       "    </tr>\n",
       "    <tr>\n",
       "      <th>3</th>\n",
       "      <td>\\Delta G</td>\n",
       "      <td>chemistry</td>\n",
       "      <td>But that's the point. $G$ is not zero by the f...</td>\n",
       "    </tr>\n",
       "    <tr>\n",
       "      <th>4</th>\n",
       "      <td>G</td>\n",
       "      <td>chemistry</td>\n",
       "      <td>Just because $G$ is at its minimum does not ma...</td>\n",
       "    </tr>\n",
       "  </tbody>\n",
       "</table>\n",
       "</div>"
      ],
      "text/plain": [
       "   Equation      Label                                               Body\n",
       "0         d  chemistry  Just as a side note, there can also be more co...\n",
       "1         f  chemistry  Just as a side note, there can also be more co...\n",
       "2         G  chemistry  But that's the point. $G$ is not zero by the f...\n",
       "3  \\Delta G  chemistry  But that's the point. $G$ is not zero by the f...\n",
       "4         G  chemistry  Just because $G$ is at its minimum does not ma..."
      ]
     },
     "execution_count": 3,
     "metadata": {},
     "output_type": "execute_result"
    }
   ],
   "source": [
    "chemistry_comment.head()"
   ]
  },
  {
   "cell_type": "code",
   "execution_count": 4,
   "metadata": {},
   "outputs": [],
   "source": [
    "all_comment = pd.concat([chemistry_comment, physics_comment, biology_comment])"
   ]
  },
  {
   "cell_type": "code",
   "execution_count": 33,
   "metadata": {},
   "outputs": [
    {
     "data": {
      "text/plain": [
       "124783"
      ]
     },
     "execution_count": 33,
     "metadata": {},
     "output_type": "execute_result"
    }
   ],
   "source": [
    "len(pd.unique(all_comment['Equation']))"
   ]
  },
  {
   "cell_type": "code",
   "execution_count": 5,
   "metadata": {},
   "outputs": [
    {
     "data": {
      "text/html": [
       "<div>\n",
       "<style scoped>\n",
       "    .dataframe tbody tr th:only-of-type {\n",
       "        vertical-align: middle;\n",
       "    }\n",
       "\n",
       "    .dataframe tbody tr th {\n",
       "        vertical-align: top;\n",
       "    }\n",
       "\n",
       "    .dataframe thead th {\n",
       "        text-align: right;\n",
       "    }\n",
       "</style>\n",
       "<table border=\"1\" class=\"dataframe\">\n",
       "  <thead>\n",
       "    <tr style=\"text-align: right;\">\n",
       "      <th></th>\n",
       "      <th>Equation</th>\n",
       "      <th>Label</th>\n",
       "      <th>Body</th>\n",
       "    </tr>\n",
       "  </thead>\n",
       "  <tbody>\n",
       "    <tr>\n",
       "      <th>0</th>\n",
       "      <td>d</td>\n",
       "      <td>chemistry</td>\n",
       "      <td>Just as a side note, there can also be more co...</td>\n",
       "    </tr>\n",
       "    <tr>\n",
       "      <th>1</th>\n",
       "      <td>f</td>\n",
       "      <td>chemistry</td>\n",
       "      <td>Just as a side note, there can also be more co...</td>\n",
       "    </tr>\n",
       "    <tr>\n",
       "      <th>2</th>\n",
       "      <td>G</td>\n",
       "      <td>chemistry</td>\n",
       "      <td>But that's the point. $G$ is not zero by the f...</td>\n",
       "    </tr>\n",
       "    <tr>\n",
       "      <th>3</th>\n",
       "      <td>\\Delta G</td>\n",
       "      <td>chemistry</td>\n",
       "      <td>But that's the point. $G$ is not zero by the f...</td>\n",
       "    </tr>\n",
       "    <tr>\n",
       "      <th>4</th>\n",
       "      <td>G</td>\n",
       "      <td>chemistry</td>\n",
       "      <td>Just because $G$ is at its minimum does not ma...</td>\n",
       "    </tr>\n",
       "  </tbody>\n",
       "</table>\n",
       "</div>"
      ],
      "text/plain": [
       "   Equation      Label                                               Body\n",
       "0         d  chemistry  Just as a side note, there can also be more co...\n",
       "1         f  chemistry  Just as a side note, there can also be more co...\n",
       "2         G  chemistry  But that's the point. $G$ is not zero by the f...\n",
       "3  \\Delta G  chemistry  But that's the point. $G$ is not zero by the f...\n",
       "4         G  chemistry  Just because $G$ is at its minimum does not ma..."
      ]
     },
     "execution_count": 5,
     "metadata": {},
     "output_type": "execute_result"
    }
   ],
   "source": [
    "all_comment.head()"
   ]
  },
  {
   "cell_type": "code",
   "execution_count": 14,
   "metadata": {},
   "outputs": [],
   "source": [
    "def calculate_number(subject):\n",
    "    pattern_digit = re.compile('([0-9])')\n",
    "    digit = []\n",
    "    pattern_letter = re.compile('([a-zA-Z])')\n",
    "    letter = []\n",
    "    pattern_other = re.compile('([^a-zA-Z0-9])')\n",
    "    other = []\n",
    "    subject['Equation'] = subject['Equation'].astype(str)\n",
    "    for eq in subject.Equation:\n",
    "        digit_len = len(re.findall(pattern_digit, eq))\n",
    "        digit.append(digit_len)\n",
    "        letter_len = len(re.findall(pattern_letter, eq))\n",
    "        letter.append(letter_len)\n",
    "        other_len = len(re.findall(pattern_other, eq))\n",
    "        other.append(other_len)\n",
    "    print(\"adding the new column for digits\")    \n",
    "    subject['Digit_num'] = digit\n",
    "    print(\"adding the new column for letters\")  \n",
    "    subject['Letter_num'] = letter\n",
    "    print(\"adding the new column for others\")  \n",
    "    subject['Other_num'] = other\n",
    "    return subject"
   ]
  },
  {
   "cell_type": "code",
   "execution_count": 15,
   "metadata": {},
   "outputs": [
    {
     "name": "stdout",
     "output_type": "stream",
     "text": [
      "adding the new column for digits\n",
      "adding the new column for letters\n",
      "adding the new column for others\n"
     ]
    }
   ],
   "source": [
    "new_comment = calculate_number(all_comment)"
   ]
  },
  {
   "cell_type": "code",
   "execution_count": 16,
   "metadata": {},
   "outputs": [
    {
     "data": {
      "text/html": [
       "<div>\n",
       "<style scoped>\n",
       "    .dataframe tbody tr th:only-of-type {\n",
       "        vertical-align: middle;\n",
       "    }\n",
       "\n",
       "    .dataframe tbody tr th {\n",
       "        vertical-align: top;\n",
       "    }\n",
       "\n",
       "    .dataframe thead th {\n",
       "        text-align: right;\n",
       "    }\n",
       "</style>\n",
       "<table border=\"1\" class=\"dataframe\">\n",
       "  <thead>\n",
       "    <tr style=\"text-align: right;\">\n",
       "      <th></th>\n",
       "      <th>Equation</th>\n",
       "      <th>Label</th>\n",
       "      <th>Body</th>\n",
       "      <th>Digit_num</th>\n",
       "      <th>Letter_num</th>\n",
       "      <th>Other_num</th>\n",
       "    </tr>\n",
       "  </thead>\n",
       "  <tbody>\n",
       "    <tr>\n",
       "      <th>0</th>\n",
       "      <td>d</td>\n",
       "      <td>chemistry</td>\n",
       "      <td>Just as a side note, there can also be more co...</td>\n",
       "      <td>0</td>\n",
       "      <td>1</td>\n",
       "      <td>0</td>\n",
       "    </tr>\n",
       "    <tr>\n",
       "      <th>1</th>\n",
       "      <td>f</td>\n",
       "      <td>chemistry</td>\n",
       "      <td>Just as a side note, there can also be more co...</td>\n",
       "      <td>0</td>\n",
       "      <td>1</td>\n",
       "      <td>0</td>\n",
       "    </tr>\n",
       "    <tr>\n",
       "      <th>2</th>\n",
       "      <td>G</td>\n",
       "      <td>chemistry</td>\n",
       "      <td>But that's the point. $G$ is not zero by the f...</td>\n",
       "      <td>0</td>\n",
       "      <td>1</td>\n",
       "      <td>0</td>\n",
       "    </tr>\n",
       "    <tr>\n",
       "      <th>3</th>\n",
       "      <td>\\Delta G</td>\n",
       "      <td>chemistry</td>\n",
       "      <td>But that's the point. $G$ is not zero by the f...</td>\n",
       "      <td>0</td>\n",
       "      <td>6</td>\n",
       "      <td>2</td>\n",
       "    </tr>\n",
       "    <tr>\n",
       "      <th>4</th>\n",
       "      <td>G</td>\n",
       "      <td>chemistry</td>\n",
       "      <td>Just because $G$ is at its minimum does not ma...</td>\n",
       "      <td>0</td>\n",
       "      <td>1</td>\n",
       "      <td>0</td>\n",
       "    </tr>\n",
       "  </tbody>\n",
       "</table>\n",
       "</div>"
      ],
      "text/plain": [
       "   Equation      Label                                               Body  \\\n",
       "0         d  chemistry  Just as a side note, there can also be more co...   \n",
       "1         f  chemistry  Just as a side note, there can also be more co...   \n",
       "2         G  chemistry  But that's the point. $G$ is not zero by the f...   \n",
       "3  \\Delta G  chemistry  But that's the point. $G$ is not zero by the f...   \n",
       "4         G  chemistry  Just because $G$ is at its minimum does not ma...   \n",
       "\n",
       "   Digit_num  Letter_num  Other_num  \n",
       "0          0           1          0  \n",
       "1          0           1          0  \n",
       "2          0           1          0  \n",
       "3          0           6          2  \n",
       "4          0           1          0  "
      ]
     },
     "execution_count": 16,
     "metadata": {},
     "output_type": "execute_result"
    }
   ],
   "source": [
    "new_comment.head()"
   ]
  },
  {
   "cell_type": "code",
   "execution_count": 20,
   "metadata": {},
   "outputs": [
    {
     "data": {
      "text/plain": [
       "'C(+)-C(R_1,R_2,R_3)'"
      ]
     },
     "execution_count": 20,
     "metadata": {},
     "output_type": "execute_result"
    }
   ],
   "source": [
    "example = new_comment.iloc[6].Equation\n"
   ]
  },
  {
   "cell_type": "markdown",
   "metadata": {},
   "source": [
    "# it seems the equation doesn't have a certain pattern on the digit number, letter number. "
   ]
  },
  {
   "cell_type": "code",
   "execution_count": 17,
   "metadata": {},
   "outputs": [
    {
     "data": {
      "text/html": [
       "<div>\n",
       "<style scoped>\n",
       "    .dataframe tbody tr th:only-of-type {\n",
       "        vertical-align: middle;\n",
       "    }\n",
       "\n",
       "    .dataframe tbody tr th {\n",
       "        vertical-align: top;\n",
       "    }\n",
       "\n",
       "    .dataframe thead th {\n",
       "        text-align: right;\n",
       "    }\n",
       "</style>\n",
       "<table border=\"1\" class=\"dataframe\">\n",
       "  <thead>\n",
       "    <tr style=\"text-align: right;\">\n",
       "      <th></th>\n",
       "      <th>Label</th>\n",
       "      <th>Digit_num</th>\n",
       "      <th>Letter_num</th>\n",
       "      <th>Other_num</th>\n",
       "    </tr>\n",
       "  </thead>\n",
       "  <tbody>\n",
       "    <tr>\n",
       "      <th>0</th>\n",
       "      <td>biology</td>\n",
       "      <td>0.944970</td>\n",
       "      <td>4.877042</td>\n",
       "      <td>4.048151</td>\n",
       "    </tr>\n",
       "    <tr>\n",
       "      <th>1</th>\n",
       "      <td>chemistry</td>\n",
       "      <td>1.119159</td>\n",
       "      <td>6.061516</td>\n",
       "      <td>5.044636</td>\n",
       "    </tr>\n",
       "    <tr>\n",
       "      <th>2</th>\n",
       "      <td>physics</td>\n",
       "      <td>0.723177</td>\n",
       "      <td>7.543673</td>\n",
       "      <td>5.334561</td>\n",
       "    </tr>\n",
       "  </tbody>\n",
       "</table>\n",
       "</div>"
      ],
      "text/plain": [
       "       Label  Digit_num  Letter_num  Other_num\n",
       "0    biology   0.944970    4.877042   4.048151\n",
       "1  chemistry   1.119159    6.061516   5.044636\n",
       "2    physics   0.723177    7.543673   5.334561"
      ]
     },
     "execution_count": 17,
     "metadata": {},
     "output_type": "execute_result"
    }
   ],
   "source": [
    "new_comment.groupby(['Label'])['Digit_num', 'Letter_num', 'Other_num'].mean().reset_index()"
   ]
  },
  {
   "cell_type": "code",
   "execution_count": 18,
   "metadata": {},
   "outputs": [
    {
     "data": {
      "text/html": [
       "<div>\n",
       "<style scoped>\n",
       "    .dataframe tbody tr th:only-of-type {\n",
       "        vertical-align: middle;\n",
       "    }\n",
       "\n",
       "    .dataframe tbody tr th {\n",
       "        vertical-align: top;\n",
       "    }\n",
       "\n",
       "    .dataframe thead th {\n",
       "        text-align: right;\n",
       "    }\n",
       "</style>\n",
       "<table border=\"1\" class=\"dataframe\">\n",
       "  <thead>\n",
       "    <tr style=\"text-align: right;\">\n",
       "      <th></th>\n",
       "      <th>Digit_num</th>\n",
       "      <th>Letter_num</th>\n",
       "      <th>Other_num</th>\n",
       "    </tr>\n",
       "  </thead>\n",
       "  <tbody>\n",
       "    <tr>\n",
       "      <th>count</th>\n",
       "      <td>273637.000000</td>\n",
       "      <td>273637.000000</td>\n",
       "      <td>273637.000000</td>\n",
       "    </tr>\n",
       "    <tr>\n",
       "      <th>mean</th>\n",
       "      <td>0.757383</td>\n",
       "      <td>7.407836</td>\n",
       "      <td>5.304739</td>\n",
       "    </tr>\n",
       "    <tr>\n",
       "      <th>std</th>\n",
       "      <td>1.607542</td>\n",
       "      <td>12.012862</td>\n",
       "      <td>8.917795</td>\n",
       "    </tr>\n",
       "    <tr>\n",
       "      <th>min</th>\n",
       "      <td>0.000000</td>\n",
       "      <td>0.000000</td>\n",
       "      <td>0.000000</td>\n",
       "    </tr>\n",
       "    <tr>\n",
       "      <th>25%</th>\n",
       "      <td>0.000000</td>\n",
       "      <td>1.000000</td>\n",
       "      <td>1.000000</td>\n",
       "    </tr>\n",
       "    <tr>\n",
       "      <th>50%</th>\n",
       "      <td>0.000000</td>\n",
       "      <td>4.000000</td>\n",
       "      <td>3.000000</td>\n",
       "    </tr>\n",
       "    <tr>\n",
       "      <th>75%</th>\n",
       "      <td>1.000000</td>\n",
       "      <td>8.000000</td>\n",
       "      <td>6.000000</td>\n",
       "    </tr>\n",
       "    <tr>\n",
       "      <th>max</th>\n",
       "      <td>90.000000</td>\n",
       "      <td>353.000000</td>\n",
       "      <td>282.000000</td>\n",
       "    </tr>\n",
       "  </tbody>\n",
       "</table>\n",
       "</div>"
      ],
      "text/plain": [
       "           Digit_num     Letter_num      Other_num\n",
       "count  273637.000000  273637.000000  273637.000000\n",
       "mean        0.757383       7.407836       5.304739\n",
       "std         1.607542      12.012862       8.917795\n",
       "min         0.000000       0.000000       0.000000\n",
       "25%         0.000000       1.000000       1.000000\n",
       "50%         0.000000       4.000000       3.000000\n",
       "75%         1.000000       8.000000       6.000000\n",
       "max        90.000000     353.000000     282.000000"
      ]
     },
     "execution_count": 18,
     "metadata": {},
     "output_type": "execute_result"
    }
   ],
   "source": [
    "new_comment.describe()"
   ]
  },
  {
   "cell_type": "code",
   "execution_count": null,
   "metadata": {},
   "outputs": [],
   "source": []
  }
 ],
 "metadata": {
  "kernelspec": {
   "display_name": "Python 3",
   "language": "python",
   "name": "python3"
  },
  "language_info": {
   "codemirror_mode": {
    "name": "ipython",
    "version": 3
   },
   "file_extension": ".py",
   "mimetype": "text/x-python",
   "name": "python",
   "nbconvert_exporter": "python",
   "pygments_lexer": "ipython3",
   "version": "3.7.2"
  }
 },
 "nbformat": 4,
 "nbformat_minor": 2
}

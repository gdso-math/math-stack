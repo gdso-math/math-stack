{
 "cells": [
  {
   "cell_type": "code",
   "execution_count": 69,
   "metadata": {},
   "outputs": [],
   "source": [
    "import os\n",
    "import pandas as pd\n",
    "import numpy as np\n",
    "from shutil import copyfile\n",
    "import time\n",
    "\n",
    "directory = \"../data/sized_images/\""
   ]
  },
  {
   "cell_type": "code",
   "execution_count": 34,
   "metadata": {},
   "outputs": [],
   "source": [
    "#split up the images by postid (90% for training, 10% for validation)\n",
    "#filename: index_label_postid.png\n",
    "ids = []\n",
    "files = []\n",
    "for file in os.listdir(\"../data/sized_images\"):\n",
    "    files.append(file)\n",
    "    file = file.replace(\".png\", \"\")\n",
    "    file = file.split(\"_\")\n",
    "    ids.append(file[2])\n",
    "posts = pd.DataFrame(list(zip(files, ids)), columns=[\"Files\", \"Ids\"])"
   ]
  },
  {
   "cell_type": "code",
   "execution_count": 36,
   "metadata": {},
   "outputs": [],
   "source": [
    "def split_data(df, frac=0.1):\n",
    "    post_ids = df.Ids.unique()\n",
    "    N = len(post_ids)\n",
    "    \n",
    "    test_posts = np.random.choice(post_ids, int(N * frac))\n",
    "    n_test = len(test_posts)\n",
    "    test_condition = df.Ids.isin(test_posts)\n",
    "    return df[~test_condition], df[test_condition]"
   ]
  },
  {
   "cell_type": "code",
   "execution_count": 44,
   "metadata": {},
   "outputs": [
    {
     "name": "stdout",
     "output_type": "stream",
     "text": [
      "Training rows: 2398\n",
      "Val rows: 319\n",
      "Test rows: 283\n"
     ]
    }
   ],
   "source": [
    "#do the actual splitting and sorting - only do this once!\n",
    "np.random.seed(1)\n",
    "train_df, test_df = split_data(posts, 0.1)\n",
    "train_df, val_df = split_data(train_df, 0.1)\n",
    "\n",
    "print(f'Training rows: {train_df.shape[0]}')\n",
    "print(f'Val rows: {val_df.shape[0]}')\n",
    "print(f'Test rows: {test_df.shape[0]}')"
   ]
  },
  {
   "cell_type": "code",
   "execution_count": 54,
   "metadata": {},
   "outputs": [],
   "source": [
    "start = \"../data/sized_images/\"\n",
    "dest = \"../data/CV/\"\n",
    "def sort(df, directory):\n",
    "    for file in df.Files:\n",
    "        init = start + file\n",
    "        end = dest + directory + \"/\"\n",
    "        if \"biology\" in file:\n",
    "            end += \"bio/\" + file\n",
    "            copyfile(init, end)\n",
    "        if \"chemistry\" in file:\n",
    "            end += \"chem/\" + file\n",
    "            copyfile(init, end)\n",
    "        if \"physics\" in file:\n",
    "            end += \"physics/\" + file\n",
    "            copyfile(init, end)"
   ]
  },
  {
   "cell_type": "code",
   "execution_count": 55,
   "metadata": {},
   "outputs": [],
   "source": [
    "sort(train_df, \"train\")\n",
    "sort(test_df, \"test\")\n",
    "sort(val_df, \"valid\")"
   ]
  },
  {
   "cell_type": "code",
   "execution_count": 56,
   "metadata": {},
   "outputs": [
    {
     "name": "stderr",
     "output_type": "stream",
     "text": [
      "Using TensorFlow backend.\n"
     ]
    }
   ],
   "source": [
    "#preprocessing time\n",
    "from numpy import asarray\n",
    "from numpy import save\n",
    "from keras.preprocessing.image import load_img\n",
    "from keras.preprocessing.image import img_to_array"
   ]
  },
  {
   "cell_type": "code",
   "execution_count": 58,
   "metadata": {},
   "outputs": [
    {
     "name": "stdout",
     "output_type": "stream",
     "text": [
      "(2398, 128, 32, 3) (2398,)\n"
     ]
    }
   ],
   "source": [
    "# define location of dataset\n",
    "folder = '../data/CV/train/'\n",
    "photos, labels = list(), list()\n",
    "dirs = [\"chem/\", \"physics/\", \"bio/\"]\n",
    "# enumerate files in the directory\n",
    "for sub in dirs:\n",
    "    subdir = folder + sub\n",
    "    for file in os.listdir(subdir):\n",
    "        #determine class: 0=bio, 1=physics, 2=chem\n",
    "        output = 0.0\n",
    "        if \"physics\" in file:\n",
    "            output = 1.0\n",
    "        if \"chemistry\" in file:\n",
    "            output = 2.0\n",
    "        #load image\n",
    "        photo = load_img(subdir + file, target_size=(128, 32))\n",
    "        # convert to numpy array\n",
    "        photo = img_to_array(photo)\n",
    "        # store\n",
    "        photos.append(photo)\n",
    "        labels.append(output)\n",
    "# convert to numpy arrays\n",
    "photos = asarray(photos)\n",
    "labels = asarray(labels)\n",
    "print(photos.shape, labels.shape)\n",
    "# save the reshaped photos\n",
    "save('eqns_photos.npy', photos)\n",
    "save('eqns_labels.npy', labels)"
   ]
  },
  {
   "cell_type": "markdown",
   "metadata": {},
   "source": [
    "time 2 learn - baseline cnn model"
   ]
  },
  {
   "cell_type": "code",
   "execution_count": 61,
   "metadata": {},
   "outputs": [],
   "source": [
    "import sys\n",
    "from matplotlib import pyplot\n",
    "from keras.utils import to_categorical\n",
    "from keras.models import Sequential\n",
    "from keras.layers import Conv2D\n",
    "from keras.layers import MaxPooling2D\n",
    "from keras.layers import Dense\n",
    "from keras.layers import Flatten\n",
    "from keras.optimizers import SGD\n",
    "from keras.optimizers import RMSprop\n",
    "from keras.preprocessing.image import ImageDataGenerator"
   ]
  },
  {
   "cell_type": "code",
   "execution_count": 144,
   "metadata": {},
   "outputs": [],
   "source": [
    "# define cnn model\n",
    "def define_model():\n",
    "    model = Sequential()\n",
    "    model.add(Conv2D(32, (3, 3), activation='relu', kernel_initializer='he_uniform', padding='same', input_shape=(128, 32, 3)))\n",
    "    model.add(MaxPooling2D((2, 2)))\n",
    "    model.add(Flatten())\n",
    "    model.add(Dense(128, activation='relu', kernel_initializer='he_uniform'))\n",
    "    model.add(Dense(3, activation='softmax'))\n",
    "    # compile model\n",
    "    #opt = SGD(lr=0.001, momentum=0.9)\n",
    "    opt = \"adam\"\n",
    "    model.compile(optimizer=opt, loss='sparse_categorical_crossentropy', metrics=['accuracy'])\n",
    "    return model"
   ]
  },
  {
   "cell_type": "code",
   "execution_count": 171,
   "metadata": {},
   "outputs": [],
   "source": [
    "# plot diagnostic learning curves\n",
    "def summarize_diagnostics(history):\n",
    "    # plot loss\n",
    "    pyplot.subplot(211)\n",
    "    pyplot.title('Cross Entropy Loss')\n",
    "    pyplot.plot(history.history['loss'], color='blue', label='train')\n",
    "    pyplot.plot(history.history['val_loss'], color='orange', label='test')\n",
    "    # plot accuracy\n",
    "    pyplot.subplot(212)\n",
    "    pyplot.title('Classification Accuracy')\n",
    "    #pyplot.plot(history.history['acc'], color='blue', label='train')\n",
    "    pyplot.plot(history.history['sparse_categorical_accuracy'], color='blue', label='train')\n",
    "    pyplot.plot(history.history['val_acc'], color='orange', label='test')\n",
    "    # save plot to file\n",
    "    filename = sys.argv[0].split('/')[-1]\n",
    "    pyplot.savefig(filename + '_plot.png')\n",
    "    pyplot.show()\n",
    "    pyplot.close()"
   ]
  },
  {
   "cell_type": "code",
   "execution_count": 150,
   "metadata": {},
   "outputs": [],
   "source": [
    "# run the test harness for evaluating a model\n",
    "def run_test_harness():\n",
    "    # define model\n",
    "    model = define_model()\n",
    "    # create data generator\n",
    "    datagen = ImageDataGenerator(rescale=1.0/255.0)\n",
    "    # prepare iterators\n",
    "    train_it = datagen.flow_from_directory('../data/CV/train/',\n",
    "        class_mode='sparse', batch_size=20, target_size=(128, 32))\n",
    "    test_it = datagen.flow_from_directory('../data/CV/test/',\n",
    "        class_mode='sparse', batch_size=20, target_size=(128, 32))\n",
    "    # fit model\n",
    "    history = model.fit_generator(train_it, steps_per_epoch=len(train_it),\n",
    "        validation_data=test_it, validation_steps=len(test_it), epochs=20, verbose=0)\n",
    "    # evaluate model\n",
    "    _, acc = model.evaluate_generator(train_it, steps=len(train_it), verbose=0)\n",
    "    print('> %.3f' % (acc * 100.0))\n",
    "    # learning curves\n",
    "    summarize_diagnostics(history)"
   ]
  },
  {
   "cell_type": "code",
   "execution_count": 151,
   "metadata": {},
   "outputs": [
    {
     "name": "stdout",
     "output_type": "stream",
     "text": [
      "Found 2398 images belonging to 3 classes.\n",
      "Found 283 images belonging to 3 classes.\n",
      "> 46.539\n"
     ]
    },
    {
     "data": {
      "image/png": "[encoded data removed]",
      "text/plain": [
       "<Figure size 432x288 with 2 Axes>"
      ]
     },
     "metadata": {
      "needs_background": "light"
     },
     "output_type": "display_data"
    },
    {
     "name": "stdout",
     "output_type": "stream",
     "text": [
      "3.9720573981602985\n"
     ]
    }
   ],
   "source": [
    "start = time.time()\n",
    "run_test_harness()\n",
    "end = time.time()\n",
    "print((end-start)/60.0)"
   ]
  },
  {
   "cell_type": "code",
   "execution_count": 191,
   "metadata": {},
   "outputs": [],
   "source": [
    "#try a pre-compiled model (VGG16)\n",
    "from keras.applications.vgg16 import VGG16\n",
    "from keras.models import Sequential\n",
    "from keras.models import Model\n",
    "from keras.layers import Flatten, Dense"
   ]
  },
  {
   "cell_type": "code",
   "execution_count": 161,
   "metadata": {},
   "outputs": [],
   "source": [
    "def compile_model(model):\n",
    "    model.compile(\n",
    "        loss='sparse_categorical_crossentropy',\n",
    "        optimizer='adam',\n",
    "        metrics=['sparse_categorical_accuracy']\n",
    "    )"
   ]
  },
  {
   "cell_type": "code",
   "execution_count": 194,
   "metadata": {},
   "outputs": [
    {
     "name": "stdout",
     "output_type": "stream",
     "text": [
      "_________________________________________________________________\n",
      "Layer (type)                 Output Shape              Param #   \n",
      "=================================================================\n",
      "input_21 (InputLayer)        (None, 128, 32, 3)        0         \n",
      "_________________________________________________________________\n",
      "block1_conv1 (Conv2D)        (None, 128, 32, 64)       1792      \n",
      "_________________________________________________________________\n",
      "block1_conv2 (Conv2D)        (None, 128, 32, 64)       36928     \n",
      "_________________________________________________________________\n",
      "block1_pool (MaxPooling2D)   (None, 64, 16, 64)        0         \n",
      "_________________________________________________________________\n",
      "block2_conv1 (Conv2D)        (None, 64, 16, 128)       73856     \n",
      "_________________________________________________________________\n",
      "block2_conv2 (Conv2D)        (None, 64, 16, 128)       147584    \n",
      "_________________________________________________________________\n",
      "block2_pool (MaxPooling2D)   (None, 32, 8, 128)        0         \n",
      "_________________________________________________________________\n",
      "block3_conv1 (Conv2D)        (None, 32, 8, 256)        295168    \n",
      "_________________________________________________________________\n",
      "block3_conv2 (Conv2D)        (None, 32, 8, 256)        590080    \n",
      "_________________________________________________________________\n",
      "block3_conv3 (Conv2D)        (None, 32, 8, 256)        590080    \n",
      "_________________________________________________________________\n",
      "block3_pool (MaxPooling2D)   (None, 16, 4, 256)        0         \n",
      "_________________________________________________________________\n",
      "block4_conv1 (Conv2D)        (None, 16, 4, 512)        1180160   \n",
      "_________________________________________________________________\n",
      "block4_conv2 (Conv2D)        (None, 16, 4, 512)        2359808   \n",
      "_________________________________________________________________\n",
      "block4_conv3 (Conv2D)        (None, 16, 4, 512)        2359808   \n",
      "_________________________________________________________________\n",
      "block4_pool (MaxPooling2D)   (None, 8, 2, 512)         0         \n",
      "_________________________________________________________________\n",
      "block5_conv1 (Conv2D)        (None, 8, 2, 512)         2359808   \n",
      "_________________________________________________________________\n",
      "block5_conv2 (Conv2D)        (None, 8, 2, 512)         2359808   \n",
      "_________________________________________________________________\n",
      "block5_conv3 (Conv2D)        (None, 8, 2, 512)         2359808   \n",
      "_________________________________________________________________\n",
      "block5_pool (MaxPooling2D)   (None, 4, 1, 512)         0         \n",
      "_________________________________________________________________\n",
      "flatten_39 (Flatten)         (None, 2048)              0         \n",
      "_________________________________________________________________\n",
      "dense_74 (Dense)             (None, 3)                 6147      \n",
      "=================================================================\n",
      "Total params: 14,720,835\n",
      "Trainable params: 6,147\n",
      "Non-trainable params: 14,714,688\n",
      "_________________________________________________________________\n",
      "None\n"
     ]
    }
   ],
   "source": [
    "vgg = VGG16(weights='imagenet', include_top=False, input_shape=(128, 32, 3)) #pooling?\n",
    "num_classes = 3\n",
    "\n",
    "# Freeze the layers \n",
    "for layer in vgg.layers:\n",
    "    layer.trainable = False\n",
    "    \n",
    "x = Flatten()(vgg.output)\n",
    "x = Dense(num_classes, activation = 'softmax')(x)\n",
    "vgg_model = Model(inputs = vgg.input, outputs = x)\n",
    "    \n",
    "compile_model(vgg_model)\n",
    "print(vgg_model.summary())"
   ]
  },
  {
   "cell_type": "code",
   "execution_count": 195,
   "metadata": {},
   "outputs": [
    {
     "name": "stdout",
     "output_type": "stream",
     "text": [
      "Found 2398 images belonging to 3 classes.\n",
      "Found 283 images belonging to 3 classes.\n",
      "Epoch 1/20\n",
      "120/120 [==============================] - 65s 540ms/step - loss: 1.1062 - sparse_categorical_accuracy: 0.3502 - val_loss: 1.0914 - val_sparse_categorical_accuracy: 0.3357\n",
      "Epoch 2/20\n",
      "120/120 [==============================] - 63s 521ms/step - loss: 1.0925 - sparse_categorical_accuracy: 0.3744 - val_loss: 1.1555 - val_sparse_categorical_accuracy: 0.2650\n",
      "Epoch 3/20\n",
      "120/120 [==============================] - 62s 513ms/step - loss: 1.1009 - sparse_categorical_accuracy: 0.3572 - val_loss: 1.1063 - val_sparse_categorical_accuracy: 0.3428\n",
      "Epoch 4/20\n",
      "120/120 [==============================] - 62s 513ms/step - loss: 1.0883 - sparse_categorical_accuracy: 0.3837 - val_loss: 1.0945 - val_sparse_categorical_accuracy: 0.3392\n",
      "Epoch 5/20\n",
      "120/120 [==============================] - 62s 514ms/step - loss: 1.1028 - sparse_categorical_accuracy: 0.3720 - val_loss: 1.0710 - val_sparse_categorical_accuracy: 0.4134\n",
      "Epoch 6/20\n",
      "120/120 [==============================] - 61s 512ms/step - loss: 1.0908 - sparse_categorical_accuracy: 0.3806 - val_loss: 1.0903 - val_sparse_categorical_accuracy: 0.3640\n",
      "Epoch 7/20\n",
      "120/120 [==============================] - 62s 514ms/step - loss: 1.0890 - sparse_categorical_accuracy: 0.3902 - val_loss: 1.2619 - val_sparse_categorical_accuracy: 0.3039\n",
      "Epoch 8/20\n",
      "120/120 [==============================] - 61s 511ms/step - loss: 1.0944 - sparse_categorical_accuracy: 0.3812 - val_loss: 1.0588 - val_sparse_categorical_accuracy: 0.4700\n",
      "Epoch 9/20\n",
      "120/120 [==============================] - 62s 513ms/step - loss: 1.0865 - sparse_categorical_accuracy: 0.3869 - val_loss: 1.0802 - val_sparse_categorical_accuracy: 0.4134\n",
      "Epoch 10/20\n",
      "120/120 [==============================] - 61s 512ms/step - loss: 1.0865 - sparse_categorical_accuracy: 0.3853 - val_loss: 1.1502 - val_sparse_categorical_accuracy: 0.3110\n",
      "Epoch 11/20\n",
      "120/120 [==============================] - 61s 512ms/step - loss: 1.0959 - sparse_categorical_accuracy: 0.3891 - val_loss: 1.0534 - val_sparse_categorical_accuracy: 0.4488\n",
      "Epoch 12/20\n",
      "120/120 [==============================] - 62s 515ms/step - loss: 1.0913 - sparse_categorical_accuracy: 0.3934 - val_loss: 1.0974 - val_sparse_categorical_accuracy: 0.3357\n",
      "Epoch 13/20\n",
      "120/120 [==============================] - 61s 512ms/step - loss: 1.0923 - sparse_categorical_accuracy: 0.3778 - val_loss: 1.0515 - val_sparse_categorical_accuracy: 0.4488\n",
      "Epoch 14/20\n",
      "120/120 [==============================] - 62s 513ms/step - loss: 1.0873 - sparse_categorical_accuracy: 0.3766 - val_loss: 1.0614 - val_sparse_categorical_accuracy: 0.4346\n",
      "Epoch 15/20\n",
      "120/120 [==============================] - 61s 512ms/step - loss: 1.0874 - sparse_categorical_accuracy: 0.4011 - val_loss: 1.0933 - val_sparse_categorical_accuracy: 0.3322\n",
      "Epoch 16/20\n",
      "120/120 [==============================] - 62s 513ms/step - loss: 1.0890 - sparse_categorical_accuracy: 0.3861 - val_loss: 1.1371 - val_sparse_categorical_accuracy: 0.3251\n",
      "Epoch 17/20\n",
      "120/120 [==============================] - 62s 513ms/step - loss: 1.0898 - sparse_categorical_accuracy: 0.3967 - val_loss: 1.0605 - val_sparse_categorical_accuracy: 0.4664\n",
      "Epoch 18/20\n",
      "120/120 [==============================] - 62s 513ms/step - loss: 1.0811 - sparse_categorical_accuracy: 0.3923 - val_loss: 1.0872 - val_sparse_categorical_accuracy: 0.3852\n",
      "Epoch 19/20\n",
      "120/120 [==============================] - 61s 512ms/step - loss: 1.0865 - sparse_categorical_accuracy: 0.3852 - val_loss: 1.1451 - val_sparse_categorical_accuracy: 0.3110\n",
      "Epoch 20/20\n",
      "120/120 [==============================] - 62s 513ms/step - loss: 1.0904 - sparse_categorical_accuracy: 0.3874 - val_loss: 1.0856 - val_sparse_categorical_accuracy: 0.4311\n",
      "> 41.076\n"
     ]
    },
    {
     "ename": "KeyError",
     "evalue": "'val_acc'",
     "output_type": "error",
     "traceback": [
      "\u001b[0;31m---------------------------------------------------------------------------\u001b[0m",
      "\u001b[0;31mKeyError\u001b[0m                                  Traceback (most recent call last)",
      "\u001b[0;32m<ipython-input-195-7e356130e450>\u001b[0m in \u001b[0;36m<module>\u001b[0;34m\u001b[0m\n\u001b[1;32m     15\u001b[0m \u001b[0mprint\u001b[0m\u001b[0;34m(\u001b[0m\u001b[0;34m'> %.3f'\u001b[0m \u001b[0;34m%\u001b[0m \u001b[0;34m(\u001b[0m\u001b[0macc\u001b[0m \u001b[0;34m*\u001b[0m \u001b[0;36m100.0\u001b[0m\u001b[0;34m)\u001b[0m\u001b[0;34m)\u001b[0m\u001b[0;34m\u001b[0m\u001b[0;34m\u001b[0m\u001b[0m\n\u001b[1;32m     16\u001b[0m \u001b[0;31m# learning curves\u001b[0m\u001b[0;34m\u001b[0m\u001b[0;34m\u001b[0m\u001b[0;34m\u001b[0m\u001b[0m\n\u001b[0;32m---> 17\u001b[0;31m \u001b[0msummarize_diagnostics\u001b[0m\u001b[0;34m(\u001b[0m\u001b[0mhistory\u001b[0m\u001b[0;34m)\u001b[0m\u001b[0;34m\u001b[0m\u001b[0;34m\u001b[0m\u001b[0m\n\u001b[0m\u001b[1;32m     18\u001b[0m \u001b[0;34m\u001b[0m\u001b[0m\n\u001b[1;32m     19\u001b[0m \u001b[0mend\u001b[0m \u001b[0;34m=\u001b[0m \u001b[0mtime\u001b[0m\u001b[0;34m.\u001b[0m\u001b[0mtime\u001b[0m\u001b[0;34m(\u001b[0m\u001b[0;34m)\u001b[0m\u001b[0;34m\u001b[0m\u001b[0;34m\u001b[0m\u001b[0m\n",
      "\u001b[0;32m<ipython-input-171-cc6d63bd0d24>\u001b[0m in \u001b[0;36msummarize_diagnostics\u001b[0;34m(history)\u001b[0m\n\u001b[1;32m     11\u001b[0m     \u001b[0;31m#pyplot.plot(history.history['acc'], color='blue', label='train')\u001b[0m\u001b[0;34m\u001b[0m\u001b[0;34m\u001b[0m\u001b[0;34m\u001b[0m\u001b[0m\n\u001b[1;32m     12\u001b[0m     \u001b[0mpyplot\u001b[0m\u001b[0;34m.\u001b[0m\u001b[0mplot\u001b[0m\u001b[0;34m(\u001b[0m\u001b[0mhistory\u001b[0m\u001b[0;34m.\u001b[0m\u001b[0mhistory\u001b[0m\u001b[0;34m[\u001b[0m\u001b[0;34m'sparse_categorical_accuracy'\u001b[0m\u001b[0;34m]\u001b[0m\u001b[0;34m,\u001b[0m \u001b[0mcolor\u001b[0m\u001b[0;34m=\u001b[0m\u001b[0;34m'blue'\u001b[0m\u001b[0;34m,\u001b[0m \u001b[0mlabel\u001b[0m\u001b[0;34m=\u001b[0m\u001b[0;34m'train'\u001b[0m\u001b[0;34m)\u001b[0m\u001b[0;34m\u001b[0m\u001b[0;34m\u001b[0m\u001b[0m\n\u001b[0;32m---> 13\u001b[0;31m     \u001b[0mpyplot\u001b[0m\u001b[0;34m.\u001b[0m\u001b[0mplot\u001b[0m\u001b[0;34m(\u001b[0m\u001b[0mhistory\u001b[0m\u001b[0;34m.\u001b[0m\u001b[0mhistory\u001b[0m\u001b[0;34m[\u001b[0m\u001b[0;34m'val_acc'\u001b[0m\u001b[0;34m]\u001b[0m\u001b[0;34m,\u001b[0m \u001b[0mcolor\u001b[0m\u001b[0;34m=\u001b[0m\u001b[0;34m'orange'\u001b[0m\u001b[0;34m,\u001b[0m \u001b[0mlabel\u001b[0m\u001b[0;34m=\u001b[0m\u001b[0;34m'test'\u001b[0m\u001b[0;34m)\u001b[0m\u001b[0;34m\u001b[0m\u001b[0;34m\u001b[0m\u001b[0m\n\u001b[0m\u001b[1;32m     14\u001b[0m     \u001b[0;31m# save plot to file\u001b[0m\u001b[0;34m\u001b[0m\u001b[0;34m\u001b[0m\u001b[0;34m\u001b[0m\u001b[0m\n\u001b[1;32m     15\u001b[0m     \u001b[0mfilename\u001b[0m \u001b[0;34m=\u001b[0m \u001b[0msys\u001b[0m\u001b[0;34m.\u001b[0m\u001b[0margv\u001b[0m\u001b[0;34m[\u001b[0m\u001b[0;36m0\u001b[0m\u001b[0;34m]\u001b[0m\u001b[0;34m.\u001b[0m\u001b[0msplit\u001b[0m\u001b[0;34m(\u001b[0m\u001b[0;34m'/'\u001b[0m\u001b[0;34m)\u001b[0m\u001b[0;34m[\u001b[0m\u001b[0;34m-\u001b[0m\u001b[0;36m1\u001b[0m\u001b[0;34m]\u001b[0m\u001b[0;34m\u001b[0m\u001b[0;34m\u001b[0m\u001b[0m\n",
      "\u001b[0;31mKeyError\u001b[0m: 'val_acc'"
     ]
    },
    {
     "data": {
      "image/png": "[encoded data removed]",
      "text/plain": [
       "<Figure size 432x288 with 2 Axes>"
      ]
     },
     "metadata": {
      "needs_background": "light"
     },
     "output_type": "display_data"
    }
   ],
   "source": [
    "start = time.time()\n",
    "\n",
    "# create data generator\n",
    "datagen = ImageDataGenerator(rescale=1.0/255.0)\n",
    "# prepare iterators\n",
    "train_it = datagen.flow_from_directory('../data/CV/train/',\n",
    "    class_mode='sparse', batch_size=20, target_size=(128, 32))\n",
    "test_it = datagen.flow_from_directory('../data/CV/test/',\n",
    "    class_mode='sparse', batch_size=20, target_size=(128, 32))\n",
    "# fit model\n",
    "history = vgg_model.fit_generator(train_it, steps_per_epoch=len(train_it),\n",
    "    validation_data=test_it, validation_steps=len(test_it), epochs=20)\n",
    "# evaluate model\n",
    "_, acc = vgg_model.evaluate_generator(train_it, steps=len(train_it))\n",
    "print('> %.3f' % (acc * 100.0))\n",
    "# learning curves\n",
    "summarize_diagnostics(history)\n",
    "\n",
    "end = time.time()\n",
    "print((end-start)/60.0)"
   ]
  },
  {
   "cell_type": "code",
   "execution_count": null,
   "metadata": {},
   "outputs": [],
   "source": []
  }
 ],
 "metadata": {
  "kernelspec": {
   "display_name": "Python 3",
   "language": "python",
   "name": "python3"
  },
  "language_info": {
   "codemirror_mode": {
    "name": "ipython",
    "version": 3
   },
   "file_extension": ".py",
   "mimetype": "text/x-python",
   "name": "python",
   "nbconvert_exporter": "python",
   "pygments_lexer": "ipython3",
   "version": "3.7.3"
  }
 },
 "nbformat": 4,
 "nbformat_minor": 2
}

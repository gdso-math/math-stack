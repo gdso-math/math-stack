{
 "cells": [
  {
   "cell_type": "code",
   "execution_count": 69,
   "metadata": {},
   "outputs": [],
   "source": [
    "import os\n",
    "import pandas as pd\n",
    "import numpy as np\n",
    "from shutil import copyfile\n",
    "import time\n",
    "\n",
    "directory = \"../data/sized_images/\""
   ]
  },
  {
   "cell_type": "code",
   "execution_count": 34,
   "metadata": {},
   "outputs": [],
   "source": [
    "#split up the images by postid (90% for training, 10% for validation)\n",
    "#filename: index_label_postid.png\n",
    "ids = []\n",
    "files = []\n",
    "for file in os.listdir(\"../data/sized_images\"):\n",
    "    files.append(file)\n",
    "    file = file.replace(\".png\", \"\")\n",
    "    file = file.split(\"_\")\n",
    "    ids.append(file[2])\n",
    "posts = pd.DataFrame(list(zip(files, ids)), columns=[\"Files\", \"Ids\"])"
   ]
  },
  {
   "cell_type": "code",
   "execution_count": 36,
   "metadata": {},
   "outputs": [],
   "source": [
    "def split_data(df, frac=0.1):\n",
    "    post_ids = df.Ids.unique()\n",
    "    N = len(post_ids)\n",
    "    \n",
    "    test_posts = np.random.choice(post_ids, int(N * frac))\n",
    "    n_test = len(test_posts)\n",
    "    test_condition = df.Ids.isin(test_posts)\n",
    "    return df[~test_condition], df[test_condition]"
   ]
  },
  {
   "cell_type": "code",
   "execution_count": 44,
   "metadata": {},
   "outputs": [
    {
     "name": "stdout",
     "output_type": "stream",
     "text": [
      "Training rows: 2398\n",
      "Val rows: 319\n",
      "Test rows: 283\n"
     ]
    }
   ],
   "source": [
    "np.random.seed(1)\n",
    "train_df, test_df = split_data(posts, 0.1)\n",
    "train_df, val_df = split_data(train_df, 0.1)\n",
    "\n",
    "print(f'Training rows: {train_df.shape[0]}')\n",
    "print(f'Val rows: {val_df.shape[0]}')\n",
    "print(f'Test rows: {test_df.shape[0]}')"
   ]
  },
  {
   "cell_type": "code",
   "execution_count": 54,
   "metadata": {},
   "outputs": [],
   "source": [
    "#do the actual splitting and sorting - only do this once!\n",
    "start = \"../data/sized_images/\"\n",
    "dest = \"../data/CV/\"\n",
    "def sort(df, directory):\n",
    "    for file in df.Files:\n",
    "        init = start + file\n",
    "        end = dest + directory + \"/\"\n",
    "        if \"biology\" in file:\n",
    "            end += \"bio/\" + file\n",
    "            copyfile(init, end)\n",
    "        if \"chemistry\" in file:\n",
    "            end += \"chem/\" + file\n",
    "            copyfile(init, end)\n",
    "        if \"physics\" in file:\n",
    "            end += \"physics/\" + file\n",
    "            copyfile(init, end)"
   ]
  },
  {
   "cell_type": "code",
   "execution_count": 55,
   "metadata": {},
   "outputs": [],
   "source": [
    "sort(train_df, \"train\")\n",
    "sort(test_df, \"test\")\n",
    "sort(val_df, \"valid\")"
   ]
  },
  {
   "cell_type": "code",
   "execution_count": 56,
   "metadata": {},
   "outputs": [
    {
     "name": "stderr",
     "output_type": "stream",
     "text": [
      "Using TensorFlow backend.\n"
     ]
    }
   ],
   "source": [
    "#preprocessing time\n",
    "from numpy import asarray\n",
    "from numpy import save\n",
    "from keras.preprocessing.image import load_img\n",
    "from keras.preprocessing.image import img_to_array"
   ]
  },
  {
   "cell_type": "code",
   "execution_count": 58,
   "metadata": {},
   "outputs": [
    {
     "name": "stdout",
     "output_type": "stream",
     "text": [
      "(2398, 128, 32, 3) (2398,)\n"
     ]
    }
   ],
   "source": [
    "# define location of dataset\n",
    "folder = '../data/CV/train/'\n",
    "photos, labels = list(), list()\n",
    "dirs = [\"chem/\", \"physics/\", \"bio/\"]\n",
    "# enumerate files in the directory\n",
    "for sub in dirs:\n",
    "    subdir = folder + sub\n",
    "    for file in os.listdir(subdir):\n",
    "        #determine class: 0=bio, 1=physics, 2=chem\n",
    "        output = 0.0\n",
    "        if \"physics\" in file:\n",
    "            output = 1.0\n",
    "        if \"chemistry\" in file:\n",
    "            output = 2.0\n",
    "        #load image\n",
    "        photo = load_img(subdir + file, target_size=(128, 32))\n",
    "        # convert to numpy array\n",
    "        photo = img_to_array(photo)\n",
    "        # store\n",
    "        photos.append(photo)\n",
    "        labels.append(output)\n",
    "# convert to numpy arrays\n",
    "photos = asarray(photos)\n",
    "labels = asarray(labels)\n",
    "print(photos.shape, labels.shape)\n",
    "# save the reshaped photos\n",
    "save('eqns_photos.npy', photos)\n",
    "save('eqns_labels.npy', labels)"
   ]
  },
  {
   "cell_type": "markdown",
   "metadata": {},
   "source": [
    "time 2 learn - baseline cnn model"
   ]
  },
  {
   "cell_type": "code",
   "execution_count": 61,
   "metadata": {},
   "outputs": [],
   "source": [
    "import sys\n",
    "from matplotlib import pyplot\n",
    "from keras.utils import to_categorical\n",
    "from keras.models import Sequential\n",
    "from keras.layers import Conv2D\n",
    "from keras.layers import MaxPooling2D\n",
    "from keras.layers import Dense\n",
    "from keras.layers import Flatten\n",
    "from keras.optimizers import SGD\n",
    "from keras.preprocessing.image import ImageDataGenerator"
   ]
  },
  {
   "cell_type": "code",
   "execution_count": 91,
   "metadata": {},
   "outputs": [],
   "source": [
    "# define cnn model\n",
    "def define_model():\n",
    "    model = Sequential()\n",
    "    model.add(Conv2D(32, (3, 3), activation='relu', kernel_initializer='he_uniform', padding='same', input_shape=(128, 32, 3)))\n",
    "    model.add(MaxPooling2D((2, 2)))\n",
    "    model.add(Flatten())\n",
    "    model.add(Dense(128, activation='relu', kernel_initializer='he_uniform'))\n",
    "    model.add(Dense(3, activation='softmax'))\n",
    "    # compile model\n",
    "    opt = SGD(lr=0.001, momentum=0.9)\n",
    "    model.compile(optimizer=opt, loss='sparse_categorical_crossentropy', metrics=['accuracy'])\n",
    "    return model"
   ]
  },
  {
   "cell_type": "code",
   "execution_count": 82,
   "metadata": {},
   "outputs": [],
   "source": [
    "# plot diagnostic learning curves\n",
    "def summarize_diagnostics(history):\n",
    "    # plot loss\n",
    "    pyplot.subplot(211)\n",
    "    pyplot.title('Cross Entropy Loss')\n",
    "    pyplot.plot(history.history['loss'], color='blue', label='train')\n",
    "    pyplot.plot(history.history['val_loss'], color='orange', label='test')\n",
    "    # plot accuracy\n",
    "    pyplot.subplot(212)\n",
    "    pyplot.title('Classification Accuracy')\n",
    "    pyplot.plot(history.history['acc'], color='blue', label='train')\n",
    "    pyplot.plot(history.history['val_acc'], color='orange', label='test')\n",
    "    # save plot to file\n",
    "    filename = sys.argv[0].split('/')[-1]\n",
    "    pyplot.savefig(filename + '_plot.png')\n",
    "    pyplot.close()"
   ]
  },
  {
   "cell_type": "code",
   "execution_count": 92,
   "metadata": {},
   "outputs": [],
   "source": [
    "# run the test harness for evaluating a model\n",
    "def run_test_harness():\n",
    "    # define model\n",
    "    model = define_model()\n",
    "    # create data generator\n",
    "    datagen = ImageDataGenerator(rescale=1.0/255.0)\n",
    "    # prepare iterators\n",
    "    train_it = datagen.flow_from_directory('../data/CV/train/',\n",
    "        class_mode='binary', batch_size=20, target_size=(128, 32))\n",
    "    test_it = datagen.flow_from_directory('../data/CV/test/',\n",
    "        class_mode='binary', batch_size=20, target_size=(128, 32))\n",
    "    # fit model\n",
    "    history = model.fit_generator(train_it, steps_per_epoch=len(train_it),\n",
    "        validation_data=test_it, validation_steps=len(test_it), epochs=40, verbose=0)\n",
    "    # evaluate model\n",
    "    _, acc = model.evaluate_generator(test_it, steps=len(test_it), verbose=0)\n",
    "    print('> %.3f' % (acc * 100.0))\n",
    "    # learning curves\n",
    "    summarize_diagnostics(history)"
   ]
  },
  {
   "cell_type": "code",
   "execution_count": null,
   "metadata": {},
   "outputs": [
    {
     "name": "stdout",
     "output_type": "stream",
     "text": [
      "Found 2398 images belonging to 3 classes.\n",
      "Found 283 images belonging to 3 classes.\n"
     ]
    }
   ],
   "source": [
    "start = time.time()\n",
    "run_test_harness()\n",
    "end = time.time()\n",
    "print((end-start)/60.0)"
   ]
  },
  {
   "cell_type": "code",
   "execution_count": null,
   "metadata": {},
   "outputs": [],
   "source": []
  }
 ],
 "metadata": {
  "kernelspec": {
   "display_name": "Python 3",
   "language": "python",
   "name": "python3"
  },
  "language_info": {
   "codemirror_mode": {
    "name": "ipython",
    "version": 3
   },
   "file_extension": ".py",
   "mimetype": "text/x-python",
   "name": "python",
   "nbconvert_exporter": "python",
   "pygments_lexer": "ipython3",
   "version": "3.7.3"
  }
 },
 "nbformat": 4,
 "nbformat_minor": 2
}

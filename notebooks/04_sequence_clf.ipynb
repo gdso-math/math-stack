{
 "cells": [
  {
   "cell_type": "code",
   "execution_count": 1,
   "metadata": {},
   "outputs": [],
   "source": [
    "import os\n",
    "from pathlib import Path\n",
    "import pandas as pd\n",
    "import numpy as np\n",
    "\n",
    "import tensorflow as tf\n",
    "import tensorflow.keras.layers as layers\n",
    "import tensorflow.keras.models as models\n",
    "import tensorflow.keras.preprocessing.sequence as sequence\n",
    "import tensorflow.keras.utils as utils\n",
    "\n",
    "import matplotlib.pyplot as plt\n",
    "%matplotlib notebook"
   ]
  },
  {
   "cell_type": "code",
   "execution_count": 2,
   "metadata": {},
   "outputs": [],
   "source": [
    "# on multi gpu machines, set which gpu to use\n",
    "os.environ['CUDA_VISIBLE_DEVICES'] = '1'"
   ]
  },
  {
   "cell_type": "code",
   "execution_count": 3,
   "metadata": {},
   "outputs": [
    {
     "name": "stdout",
     "output_type": "stream",
     "text": [
      "[name: \"/device:CPU:0\"\n",
      "device_type: \"CPU\"\n",
      "memory_limit: 268435456\n",
      "locality {\n",
      "}\n",
      "incarnation: 11642545555268247844\n",
      ", name: \"/device:XLA_CPU:0\"\n",
      "device_type: \"XLA_CPU\"\n",
      "memory_limit: 17179869184\n",
      "locality {\n",
      "}\n",
      "incarnation: 11834482151341279276\n",
      "physical_device_desc: \"device: XLA_CPU device\"\n",
      ", name: \"/device:GPU:0\"\n",
      "device_type: \"GPU\"\n",
      "memory_limit: 7511012148\n",
      "locality {\n",
      "  bus_id: 1\n",
      "  links {\n",
      "  }\n",
      "}\n",
      "incarnation: 4544358404227182921\n",
      "physical_device_desc: \"device: 0, name: Tesla M60, pci bus id: 0000:00:1e.0, compute capability: 5.2\"\n",
      ", name: \"/device:XLA_GPU:0\"\n",
      "device_type: \"XLA_GPU\"\n",
      "memory_limit: 17179869184\n",
      "locality {\n",
      "}\n",
      "incarnation: 3493248099162031395\n",
      "physical_device_desc: \"device: XLA_GPU device\"\n",
      "]\n"
     ]
    }
   ],
   "source": [
    "from tensorflow.python.client import device_lib\n",
    "print(device_lib.list_local_devices())"
   ]
  },
  {
   "cell_type": "code",
   "execution_count": 4,
   "metadata": {},
   "outputs": [],
   "source": [
    "def split_data(df, frac=0.1):\n",
    "    \"\"\"\n",
    "    Split the data by the post id.\n",
    "    Equations from the same post will be in the same set.\n",
    "    \"\"\"\n",
    "    split_by = df.post_id\n",
    "    post_ids = df.post_id.unique()\n",
    "    N = len(post_ids)\n",
    "    \n",
    "    test_posts = np.random.choice(post_ids, int(N * frac))\n",
    "    n_test = len(test_posts)\n",
    "    test_condition = df.post_id.isin(test_posts)\n",
    "    return df[~test_condition], df[test_condition]"
   ]
  },
  {
   "cell_type": "code",
   "execution_count": 5,
   "metadata": {},
   "outputs": [
    {
     "name": "stdout",
     "output_type": "stream",
     "text": [
      "Null Data:  2\n",
      "Training rows: 549398\n",
      "Val rows: 58281\n",
      "Test rows: 63982\n"
     ]
    }
   ],
   "source": [
    "np.random.seed(1)\n",
    "datapath = Path('../data/processed/equations.csv')\n",
    "df = pd.read_csv(datapath)\n",
    "print('Null Data: ', df.equation.isnull().sum())\n",
    "df.dropna(subset=['equation'], inplace=True)\n",
    "df = df.drop_duplicates(subset=['equation', 'source'])\n",
    "train_df, test_df = split_data(df, 0.1)\n",
    "train_df, val_df = split_data(train_df, 0.1)\n",
    "\n",
    "print(f'Training rows: {train_df.shape[0]}')\n",
    "print(f'Val rows: {val_df.shape[0]}')\n",
    "print(f'Test rows: {test_df.shape[0]}')"
   ]
  },
  {
   "cell_type": "code",
   "execution_count": 6,
   "metadata": {},
   "outputs": [],
   "source": [
    "class Tokenizer:\n",
    "    \"\"\"Convert chars to ints\"\"\"\n",
    "    def __init__(self):\n",
    "        self.UNK = '<UNK>'  # Unknown\n",
    "        self.BOS = '<BOS>'  # Begin of string\n",
    "        self.EOS = '<EOS>'  # End of string\n",
    "        self.PAD = '<PAD>'  # Padding\n",
    "        self.char_to_idx = dict()\n",
    "        self.idx_to_char = dict()\n",
    "        self.vocab = []\n",
    "        \n",
    "        self.specials = [self.PAD, self.BOS, self.EOS, self.UNK]\n",
    "        for c in self.specials: self.add(c)\n",
    "        \n",
    "    \n",
    "    def __getitem__(self, c: str):\n",
    "        try:\n",
    "            return self.char_to_idx[c]\n",
    "        except KeyError:\n",
    "            return self.char_to_idx[self.UNK]\n",
    "    \n",
    "    def fit(self, sequences):\n",
    "        \"\"\"Create the vocab from a sequence of strings\"\"\"\n",
    "        chars = set.union(*map(set, sequences))\n",
    "        for char in chars: self.add(char)\n",
    "\n",
    "    def add(self, c: str):\n",
    "        \"\"\"Add the character if its not in the vocab, else do nothing\"\"\"\n",
    "        if self.char_to_idx.get(c) is None:\n",
    "            self.char_to_idx[c] = len(self.vocab)\n",
    "            self.idx_to_char[len(self.vocab)] = c\n",
    "            self.vocab.append(c)\n",
    "        return len(self.vocab)\n",
    "\n",
    "    \n",
    "def encode_sequence(seq, tokenizer):\n",
    "    return [tokenizer[tokenizer.BOS]] + [tokenizer[c] for c in seq] + [tokenizer[tokenizer.EOS]]"
   ]
  },
  {
   "cell_type": "code",
   "execution_count": 8,
   "metadata": {},
   "outputs": [
    {
     "name": "stderr",
     "output_type": "stream",
     "text": [
      "/home/mdogan/miniconda3/lib/python3.7/site-packages/ipykernel_launcher.py:7: SettingWithCopyWarning: \n",
      "A value is trying to be set on a copy of a slice from a DataFrame.\n",
      "Try using .loc[row_indexer,col_indexer] = value instead\n",
      "\n",
      "See the caveats in the documentation: http://pandas.pydata.org/pandas-docs/stable/user_guide/indexing.html#returning-a-view-versus-a-copy\n",
      "  import sys\n",
      "/home/mdogan/miniconda3/lib/python3.7/site-packages/ipykernel_launcher.py:11: SettingWithCopyWarning: \n",
      "A value is trying to be set on a copy of a slice from a DataFrame.\n",
      "Try using .loc[row_indexer,col_indexer] = value instead\n",
      "\n",
      "See the caveats in the documentation: http://pandas.pydata.org/pandas-docs/stable/user_guide/indexing.html#returning-a-view-versus-a-copy\n",
      "  # This is added back by InteractiveShellApp.init_path()\n",
      "/home/mdogan/miniconda3/lib/python3.7/site-packages/ipykernel_launcher.py:18: SettingWithCopyWarning: \n",
      "A value is trying to be set on a copy of a slice from a DataFrame.\n",
      "Try using .loc[row_indexer,col_indexer] = value instead\n",
      "\n",
      "See the caveats in the documentation: http://pandas.pydata.org/pandas-docs/stable/user_guide/indexing.html#returning-a-view-versus-a-copy\n"
     ]
    }
   ],
   "source": [
    "tokenizer = Tokenizer()\n",
    "tokenizer.fit(train_df.equation)\n",
    "\n",
    "# convert string to list of int\n",
    "train_df['seq'] = train_df.equation.apply(encode_sequence, args=(tokenizer,))\n",
    "val_df['seq'] = val_df.equation.apply(encode_sequence, args=(tokenizer,))\n",
    "test_df['seq'] = test_df.equation.apply(encode_sequence, args=(tokenizer,))\n",
    "\n",
    "train_df['length'] = train_df.seq.apply(len)\n",
    "val_df['length'] = val_df.seq.apply(len)\n",
    "test_df['length'] = test_df.seq.apply(len)\n",
    "\n",
    "labels = train_df.source.unique()\n",
    "label_map = {label: i for i, label in enumerate(labels)}\n",
    "\n",
    "train_df['label'] = train_df.source.map(label_map)\n",
    "val_df['label'] = val_df.source.map(label_map)\n",
    "test_df['label'] = test_df.source.map(label_map)\n"
   ]
  },
  {
   "cell_type": "code",
   "execution_count": 9,
   "metadata": {},
   "outputs": [
    {
     "data": {
      "text/plain": [
       "[1, 180, 258, 68, 186, 2]"
      ]
     },
     "execution_count": 9,
     "metadata": {},
     "output_type": "execute_result"
    }
   ],
   "source": [
    "encode_sequence('1234', tokenizer)"
   ]
  },
  {
   "cell_type": "code",
   "execution_count": 10,
   "metadata": {},
   "outputs": [
    {
     "data": {
      "text/plain": [
       "186"
      ]
     },
     "execution_count": 10,
     "metadata": {},
     "output_type": "execute_result"
    }
   ],
   "source": [
    "tokenizer['4']"
   ]
  },
  {
   "cell_type": "code",
   "execution_count": 11,
   "metadata": {},
   "outputs": [
    {
     "data": {
      "text/plain": [
       "{'physics.stackexchange.com': 0,\n",
       " 'chemistry.stackexchange.com': 1,\n",
       " 'biology.stackexchange.com': 2}"
      ]
     },
     "execution_count": 11,
     "metadata": {},
     "output_type": "execute_result"
    }
   ],
   "source": [
    "label_map"
   ]
  },
  {
   "cell_type": "code",
   "execution_count": 12,
   "metadata": {},
   "outputs": [
    {
     "data": {
      "text/html": [
       "<div>\n",
       "<style scoped>\n",
       "    .dataframe tbody tr th:only-of-type {\n",
       "        vertical-align: middle;\n",
       "    }\n",
       "\n",
       "    .dataframe tbody tr th {\n",
       "        vertical-align: top;\n",
       "    }\n",
       "\n",
       "    .dataframe thead th {\n",
       "        text-align: right;\n",
       "    }\n",
       "</style>\n",
       "<table border=\"1\" class=\"dataframe\">\n",
       "  <thead>\n",
       "    <tr style=\"text-align: right;\">\n",
       "      <th></th>\n",
       "      <th>equation</th>\n",
       "      <th>post_id</th>\n",
       "      <th>score</th>\n",
       "      <th>source</th>\n",
       "      <th>type</th>\n",
       "      <th>user_id</th>\n",
       "      <th>seq</th>\n",
       "      <th>length</th>\n",
       "      <th>label</th>\n",
       "    </tr>\n",
       "  </thead>\n",
       "  <tbody>\n",
       "    <tr>\n",
       "      <th>156004</th>\n",
       "      <td>R\\dot\\theta = a\\dot\\phi</td>\n",
       "      <td>980524</td>\n",
       "      <td>0</td>\n",
       "      <td>physics.stackexchange.com</td>\n",
       "      <td>Comments</td>\n",
       "      <td>186982.0</td>\n",
       "      <td>[1, 162, 208, 274, 79, 296, 208, 296, 326, 141...</td>\n",
       "      <td>25</td>\n",
       "      <td>0</td>\n",
       "    </tr>\n",
       "    <tr>\n",
       "      <th>767047</th>\n",
       "      <td>V=\\frac{\\sigma}{2\\epsilon_{0}}z</td>\n",
       "      <td>396067</td>\n",
       "      <td>0</td>\n",
       "      <td>physics.stackexchange.com</td>\n",
       "      <td>Posts</td>\n",
       "      <td>181235.0</td>\n",
       "      <td>[1, 26, 270, 208, 199, 281, 80, 241, 341, 208,...</td>\n",
       "      <td>33</td>\n",
       "      <td>0</td>\n",
       "    </tr>\n",
       "    <tr>\n",
       "      <th>815658</th>\n",
       "      <td>[A,BC]_{SC}~=~[A,B]_{SC}C+ (-1)^{|A||B|}B[A,C]...</td>\n",
       "      <td>418920</td>\n",
       "      <td>0</td>\n",
       "      <td>physics.stackexchange.com</td>\n",
       "      <td>Posts</td>\n",
       "      <td>2451.0</td>\n",
       "      <td>[1, 59, 174, 345, 235, 250, 231, 76, 341, 88, ...</td>\n",
       "      <td>55</td>\n",
       "      <td>0</td>\n",
       "    </tr>\n",
       "    <tr>\n",
       "      <th>796828</th>\n",
       "      <td>=\\int \\sigma_{kl} \\, \\partial_l \\, \\delta u_k ...</td>\n",
       "      <td>409987</td>\n",
       "      <td>2</td>\n",
       "      <td>physics.stackexchange.com</td>\n",
       "      <td>Posts</td>\n",
       "      <td>102825.0</td>\n",
       "      <td>[1, 270, 208, 75, 37, 296, 124, 208, 153, 75, ...</td>\n",
       "      <td>59</td>\n",
       "      <td>0</td>\n",
       "    </tr>\n",
       "    <tr>\n",
       "      <th>1188965</th>\n",
       "      <td>\\vec{a}=\\frac{q}{m}(\\vec{v}\\times\\vec{B})</td>\n",
       "      <td>4161</td>\n",
       "      <td>8</td>\n",
       "      <td>chemistry.stackexchange.com</td>\n",
       "      <td>Posts</td>\n",
       "      <td>275.0</td>\n",
       "      <td>[1, 208, 359, 141, 241, 341, 80, 253, 270, 208...</td>\n",
       "      <td>43</td>\n",
       "      <td>1</td>\n",
       "    </tr>\n",
       "    <tr>\n",
       "      <th>1200402</th>\n",
       "      <td>\\ce{C80}</td>\n",
       "      <td>37643</td>\n",
       "      <td>15</td>\n",
       "      <td>chemistry.stackexchange.com</td>\n",
       "      <td>Posts</td>\n",
       "      <td>19383.0</td>\n",
       "      <td>[1, 208, 241, 141, 341, 250, 190, 275, 253, 2]</td>\n",
       "      <td>10</td>\n",
       "      <td>1</td>\n",
       "    </tr>\n",
       "    <tr>\n",
       "      <th>403058</th>\n",
       "      <td>\\epsilon(\\sigma)</td>\n",
       "      <td>229014</td>\n",
       "      <td>0</td>\n",
       "      <td>physics.stackexchange.com</td>\n",
       "      <td>Posts</td>\n",
       "      <td>45253.0</td>\n",
       "      <td>[1, 208, 141, 62, 153, 75, 336, 79, 37, 332, 2...</td>\n",
       "      <td>18</td>\n",
       "      <td>0</td>\n",
       "    </tr>\n",
       "    <tr>\n",
       "      <th>240370</th>\n",
       "      <td>g^u</td>\n",
       "      <td>148830</td>\n",
       "      <td>2</td>\n",
       "      <td>physics.stackexchange.com</td>\n",
       "      <td>Posts</td>\n",
       "      <td>65304.0</td>\n",
       "      <td>[1, 184, 249, 132, 2]</td>\n",
       "      <td>5</td>\n",
       "      <td>0</td>\n",
       "    </tr>\n",
       "    <tr>\n",
       "      <th>192614</th>\n",
       "      <td>P_c=1673\\mathrm{\\ bar}</td>\n",
       "      <td>52523</td>\n",
       "      <td>0</td>\n",
       "      <td>chemistry.stackexchange.com</td>\n",
       "      <td>Comments</td>\n",
       "      <td>11367.0</td>\n",
       "      <td>[1, 320, 76, 241, 270, 180, 96, 106, 68, 208, ...</td>\n",
       "      <td>24</td>\n",
       "      <td>1</td>\n",
       "    </tr>\n",
       "    <tr>\n",
       "      <th>247801</th>\n",
       "      <td>n_i\\in\\{0,\\,1,\\,2,\\,\\ldots\\}</td>\n",
       "      <td>153293</td>\n",
       "      <td>5</td>\n",
       "      <td>physics.stackexchange.com</td>\n",
       "      <td>Posts</td>\n",
       "      <td>25301.0</td>\n",
       "      <td>[1, 37, 76, 75, 208, 75, 37, 208, 341, 275, 34...</td>\n",
       "      <td>30</td>\n",
       "      <td>0</td>\n",
       "    </tr>\n",
       "  </tbody>\n",
       "</table>\n",
       "</div>"
      ],
      "text/plain": [
       "                                                  equation  post_id  score  \\\n",
       "156004                             R\\dot\\theta = a\\dot\\phi   980524      0   \n",
       "767047                     V=\\frac{\\sigma}{2\\epsilon_{0}}z   396067      0   \n",
       "815658   [A,BC]_{SC}~=~[A,B]_{SC}C+ (-1)^{|A||B|}B[A,C]...   418920      0   \n",
       "796828   =\\int \\sigma_{kl} \\, \\partial_l \\, \\delta u_k ...   409987      2   \n",
       "1188965          \\vec{a}=\\frac{q}{m}(\\vec{v}\\times\\vec{B})     4161      8   \n",
       "1200402                                           \\ce{C80}    37643     15   \n",
       "403058                                    \\epsilon(\\sigma)   229014      0   \n",
       "240370                                                 g^u   148830      2   \n",
       "192614                              P_c=1673\\mathrm{\\ bar}    52523      0   \n",
       "247801                        n_i\\in\\{0,\\,1,\\,2,\\,\\ldots\\}   153293      5   \n",
       "\n",
       "                              source      type   user_id  \\\n",
       "156004     physics.stackexchange.com  Comments  186982.0   \n",
       "767047     physics.stackexchange.com     Posts  181235.0   \n",
       "815658     physics.stackexchange.com     Posts    2451.0   \n",
       "796828     physics.stackexchange.com     Posts  102825.0   \n",
       "1188965  chemistry.stackexchange.com     Posts     275.0   \n",
       "1200402  chemistry.stackexchange.com     Posts   19383.0   \n",
       "403058     physics.stackexchange.com     Posts   45253.0   \n",
       "240370     physics.stackexchange.com     Posts   65304.0   \n",
       "192614   chemistry.stackexchange.com  Comments   11367.0   \n",
       "247801     physics.stackexchange.com     Posts   25301.0   \n",
       "\n",
       "                                                       seq  length  label  \n",
       "156004   [1, 162, 208, 274, 79, 296, 208, 296, 326, 141...      25      0  \n",
       "767047   [1, 26, 270, 208, 199, 281, 80, 241, 341, 208,...      33      0  \n",
       "815658   [1, 59, 174, 345, 235, 250, 231, 76, 341, 88, ...      55      0  \n",
       "796828   [1, 270, 208, 75, 37, 296, 124, 208, 153, 75, ...      59      0  \n",
       "1188965  [1, 208, 359, 141, 241, 341, 80, 253, 270, 208...      43      1  \n",
       "1200402     [1, 208, 241, 141, 341, 250, 190, 275, 253, 2]      10      1  \n",
       "403058   [1, 208, 141, 62, 153, 75, 336, 79, 37, 332, 2...      18      0  \n",
       "240370                               [1, 184, 249, 132, 2]       5      0  \n",
       "192614   [1, 320, 76, 241, 270, 180, 96, 106, 68, 208, ...      24      1  \n",
       "247801   [1, 37, 76, 75, 208, 75, 37, 208, 341, 275, 34...      30      0  "
      ]
     },
     "execution_count": 12,
     "metadata": {},
     "output_type": "execute_result"
    }
   ],
   "source": [
    "train_df.sample(10)"
   ]
  },
  {
   "cell_type": "code",
   "execution_count": 13,
   "metadata": {},
   "outputs": [],
   "source": [
    "class DataGenerator(utils.Sequence):\n",
    "    def __init__(self, df, batch_size: int = 32, shuffle: bool = False, weight: bool = False):\n",
    "        self.df = df\n",
    "        self.batch_size = batch_size\n",
    "        self.shuffle = shuffle\n",
    "        self.weight = weight\n",
    "        self.class_weight =  self.compute_class_weight() if self.weight else np.ones((3,))\n",
    "        \n",
    "        if self.shuffle:\n",
    "            self.df = self.df.sample(frac=1)\n",
    "            \n",
    "\n",
    "    def get_data_at_index(self, batch_idx):\n",
    "        offset = self.batch_size * batch_idx\n",
    "        return self.df.iloc[offset: offset+self.batch_size]\n",
    "    \n",
    "    def __getitem__(self, batch_idx: int):\n",
    "        batch = self.get_data_at_index(batch_idx)\n",
    "        if self.shuffle:\n",
    "            batch = batch.sample(frac=1)\n",
    "\n",
    "        X = sequence.pad_sequences(\n",
    "            batch.seq,\n",
    "            maxlen=min( max(batch.length), 32),\n",
    "            truncating='post',\n",
    "        )\n",
    "        Y = batch.label.values\n",
    "        w = np.array([self.class_weight[label] for label in Y])\n",
    "        return X, Y, w\n",
    "    \n",
    "    def on_epoch_end(self):\n",
    "        if self.shuffle:\n",
    "            self.df = self.df.sample(frac=1)\n",
    "            \n",
    "    def __len__(self):\n",
    "        return int(np.ceil( self.df.shape[0] / self.batch_size ))\n",
    "    \n",
    "    def compute_class_weight(self):\n",
    "        n_classes = 3\n",
    "        n_samples = self.df.shape[0]\n",
    "        return n_samples / (n_classes * np.bincount(self.df.label.values))\n"
   ]
  },
  {
   "cell_type": "code",
   "execution_count": 14,
   "metadata": {},
   "outputs": [],
   "source": [
    "# ensure balanced classes\n",
    "# N_train = train_df.groupby('source').count().values.min()\n",
    "# N_val = val_df.groupby('source').count().values.min()\n",
    "\n",
    "# small_df = pd.concat([train_df[train_df.label==l].sample(N_train, replace=False) for l in range(3)])\n",
    "# small_val_df = pd.concat([val_df[val_df.label==l].sample(N_val, replace=False) for l in range(3)])\n",
    "\n",
    "batch_size = 1024\n",
    "train_dg = DataGenerator(train_df, batch_size=batch_size, shuffle=True, weight=True)\n",
    "val_dg = DataGenerator(val_df, batch_size=batch_size, shuffle=False, weight=False)\n"
   ]
  },
  {
   "cell_type": "code",
   "execution_count": 15,
   "metadata": {},
   "outputs": [],
   "source": [
    "class Mask(layers.Layer):\n",
    "    def call(self, inputs):\n",
    "        value = tf.cast(0, dtype=inputs.dtype)\n",
    "        is_zero = tf.equal(inputs, value)\n",
    "        return tf.cast(tf.logical_not(is_zero), tf.float32)\n",
    "\n",
    "        \n",
    "class ApplyMask(layers.Layer):\n",
    "    def call(self, inputs):\n",
    "        data, mask = inputs\n",
    "        mask = tf.expand_dims(mask, axis=-1)  # (N, T, 1)\n",
    "        return tf.multiply(data, mask)"
   ]
  },
  {
   "cell_type": "code",
   "execution_count": 16,
   "metadata": {},
   "outputs": [],
   "source": [
    "def clf_model(tokenizer):\n",
    "    \n",
    "    emb = 32\n",
    "    n_kernels = 128\n",
    "    kernel_width = 3\n",
    "    \n",
    "    # define layers\n",
    "    input = layers.Input(batch_shape=(None, None))  # (N, T)\n",
    "    embedding_layer = layers.Embedding(len(tokenizer.vocab), emb, mask_zero=False, name='embedding')  # (N, T, emb)\n",
    "    mask_layer = Mask(name='mask')  # (N, T)\n",
    "    conv_layer = layers.Conv1D(\n",
    "        n_kernels, kernel_width, \n",
    "        activation='tanh',\n",
    "        kernel_initializer='he_normal',\n",
    "        padding='same',\n",
    "        name='conv'\n",
    "    )  # (N, T, n_kernels), selects 3-grams\n",
    "    apply_mask_layer = ApplyMask(name='apply_mask')  # (N, T, n_kernels), zero the timesteps that were padding\n",
    "    rnn_layer = layers.LSTM(n_kernels, name='rnn') # (N, e)\n",
    "    softmax_layer = layers.Dense(3, activation='softmax', name='output')\n",
    "    \n",
    "    # call layers\n",
    "    embedding = embedding_layer(input)\n",
    "    mask = mask_layer(input)\n",
    "    conv = conv_layer(embedding)\n",
    "    conv = apply_mask_layer([conv, mask])\n",
    "    encoded = rnn_layer(conv)\n",
    "    output = softmax_layer(encoded)\n",
    "    model = models.Model(input, output)\n",
    "    return model\n",
    "    \n",
    "def compile_model(model):\n",
    "    model.compile(\n",
    "        loss='sparse_categorical_crossentropy',\n",
    "        optimizer='adam',\n",
    "        metrics=['sparse_categorical_accuracy']\n",
    "    )\n"
   ]
  },
  {
   "cell_type": "code",
   "execution_count": 17,
   "metadata": {},
   "outputs": [
    {
     "name": "stderr",
     "output_type": "stream",
     "text": [
      "WARNING: Logging before flag parsing goes to stderr.\n",
      "W0816 06:18:16.326930 140109885019904 deprecation.py:506] From /home/mdogan/miniconda3/lib/python3.7/site-packages/tensorflow/python/keras/initializers.py:119: calling RandomUniform.__init__ (from tensorflow.python.ops.init_ops) with dtype is deprecated and will be removed in a future version.\n",
      "Instructions for updating:\n",
      "Call initializer instance with the dtype argument instead of passing it to the constructor\n",
      "W0816 06:18:16.331070 140109885019904 deprecation.py:506] From /home/mdogan/miniconda3/lib/python3.7/site-packages/tensorflow/python/ops/init_ops.py:1251: calling VarianceScaling.__init__ (from tensorflow.python.ops.init_ops) with dtype is deprecated and will be removed in a future version.\n",
      "Instructions for updating:\n",
      "Call initializer instance with the dtype argument instead of passing it to the constructor\n"
     ]
    },
    {
     "name": "stdout",
     "output_type": "stream",
     "text": [
      "Model: \"model\"\n",
      "__________________________________________________________________________________________________\n",
      "Layer (type)                    Output Shape         Param #     Connected to                     \n",
      "==================================================================================================\n",
      "input_1 (InputLayer)            [(None, None)]       0                                            \n",
      "__________________________________________________________________________________________________\n",
      "embedding (Embedding)           (None, None, 32)     11712       input_1[0][0]                    \n",
      "__________________________________________________________________________________________________\n",
      "conv (Conv1D)                   (None, None, 128)    12416       embedding[0][0]                  \n",
      "__________________________________________________________________________________________________\n",
      "mask (Mask)                     (None, None)         0           input_1[0][0]                    \n",
      "__________________________________________________________________________________________________\n",
      "apply_mask (ApplyMask)          (None, None, 128)    0           conv[0][0]                       \n",
      "                                                                 mask[0][0]                       \n",
      "__________________________________________________________________________________________________\n",
      "rnn (LSTM)                      (None, 128)          131584      apply_mask[0][0]                 \n",
      "__________________________________________________________________________________________________\n",
      "output (Dense)                  (None, 3)            387         rnn[0][0]                        \n",
      "==================================================================================================\n",
      "Total params: 156,099\n",
      "Trainable params: 156,099\n",
      "Non-trainable params: 0\n",
      "__________________________________________________________________________________________________\n",
      "None\n"
     ]
    }
   ],
   "source": [
    "model = clf_model(tokenizer)  # initialize the weights\n",
    "compile_model(model)  # set the loss fn and optimizer\n",
    "print(model.summary())  # check the number of parameters\n"
   ]
  },
  {
   "cell_type": "code",
   "execution_count": 18,
   "metadata": {
    "scrolled": false
   },
   "outputs": [
    {
     "name": "stderr",
     "output_type": "stream",
     "text": [
      "W0816 06:19:01.640425 140109885019904 deprecation.py:323] From /home/mdogan/miniconda3/lib/python3.7/site-packages/tensorflow/python/ops/math_grad.py:1250: add_dispatch_support.<locals>.wrapper (from tensorflow.python.ops.array_ops) is deprecated and will be removed in a future version.\n",
      "Instructions for updating:\n",
      "Use tf.where in 2.0, which has the same broadcast rule as np.where\n"
     ]
    },
    {
     "name": "stdout",
     "output_type": "stream",
     "text": [
      "Epoch 1/32\n",
      "537/537 [==============================] - 31s 58ms/step - loss: 0.8337 - sparse_categorical_accuracy: 0.6688 - val_loss: 0.7862 - val_sparse_categorical_accuracy: 0.6355\n",
      "Epoch 2/32\n",
      "537/537 [==============================] - 28s 52ms/step - loss: 0.7632 - sparse_categorical_accuracy: 0.6948 - val_loss: 0.6836 - val_sparse_categorical_accuracy: 0.7151\n",
      "Epoch 3/32\n",
      "537/537 [==============================] - 28s 52ms/step - loss: 0.7299 - sparse_categorical_accuracy: 0.7100 - val_loss: 0.6085 - val_sparse_categorical_accuracy: 0.7570\n",
      "Epoch 4/32\n",
      "537/537 [==============================] - 28s 52ms/step - loss: 0.7023 - sparse_categorical_accuracy: 0.7222 - val_loss: 0.6978 - val_sparse_categorical_accuracy: 0.7054\n",
      "Epoch 5/32\n",
      "537/537 [==============================] - 28s 52ms/step - loss: 0.6749 - sparse_categorical_accuracy: 0.7341 - val_loss: 0.5656 - val_sparse_categorical_accuracy: 0.7696\n",
      "Epoch 6/32\n",
      "537/537 [==============================] - 28s 52ms/step - loss: 0.6522 - sparse_categorical_accuracy: 0.7400 - val_loss: 0.7303 - val_sparse_categorical_accuracy: 0.6849\n",
      "Epoch 7/32\n",
      "537/537 [==============================] - 28s 52ms/step - loss: 0.6264 - sparse_categorical_accuracy: 0.7493 - val_loss: 0.5935 - val_sparse_categorical_accuracy: 0.7612\n",
      "Epoch 8/32\n",
      "537/537 [==============================] - 28s 52ms/step - loss: 0.5995 - sparse_categorical_accuracy: 0.7595 - val_loss: 0.5911 - val_sparse_categorical_accuracy: 0.7564\n",
      "Epoch 9/32\n",
      "537/537 [==============================] - 28s 52ms/step - loss: 0.5724 - sparse_categorical_accuracy: 0.7675 - val_loss: 0.5861 - val_sparse_categorical_accuracy: 0.7622\n",
      "Epoch 10/32\n",
      "537/537 [==============================] - 28s 52ms/step - loss: 0.5444 - sparse_categorical_accuracy: 0.7749 - val_loss: 0.5675 - val_sparse_categorical_accuracy: 0.7648\n",
      "Epoch 11/32\n",
      "537/537 [==============================] - 28s 52ms/step - loss: 0.5149 - sparse_categorical_accuracy: 0.7851 - val_loss: 0.5957 - val_sparse_categorical_accuracy: 0.7518\n",
      "Epoch 12/32\n",
      "537/537 [==============================] - 28s 52ms/step - loss: 0.4904 - sparse_categorical_accuracy: 0.7934 - val_loss: 0.5489 - val_sparse_categorical_accuracy: 0.7781\n",
      "Epoch 13/32\n",
      "537/537 [==============================] - 28s 52ms/step - loss: 0.4650 - sparse_categorical_accuracy: 0.8014 - val_loss: 0.5425 - val_sparse_categorical_accuracy: 0.7802\n",
      "Epoch 14/32\n",
      "537/537 [==============================] - 28s 52ms/step - loss: 0.4393 - sparse_categorical_accuracy: 0.8099 - val_loss: 0.4840 - val_sparse_categorical_accuracy: 0.8096\n",
      "Epoch 15/32\n",
      "537/537 [==============================] - 28s 52ms/step - loss: 0.4153 - sparse_categorical_accuracy: 0.8193 - val_loss: 0.5001 - val_sparse_categorical_accuracy: 0.8031\n",
      "Epoch 16/32\n",
      "537/537 [==============================] - 28s 52ms/step - loss: 0.3965 - sparse_categorical_accuracy: 0.8265 - val_loss: 0.4684 - val_sparse_categorical_accuracy: 0.8173\n",
      "Epoch 17/32\n",
      "537/537 [==============================] - 28s 52ms/step - loss: 0.3738 - sparse_categorical_accuracy: 0.8320 - val_loss: 0.4403 - val_sparse_categorical_accuracy: 0.8319\n",
      "Epoch 18/32\n",
      "537/537 [==============================] - 28s 52ms/step - loss: 0.3646 - sparse_categorical_accuracy: 0.8350 - val_loss: 0.4771 - val_sparse_categorical_accuracy: 0.8184\n",
      "Epoch 19/32\n",
      "537/537 [==============================] - 28s 52ms/step - loss: 0.3466 - sparse_categorical_accuracy: 0.8417 - val_loss: 0.4439 - val_sparse_categorical_accuracy: 0.8327\n",
      "Epoch 20/32\n",
      "537/537 [==============================] - 28s 52ms/step - loss: 0.3326 - sparse_categorical_accuracy: 0.8473 - val_loss: 0.4523 - val_sparse_categorical_accuracy: 0.8303\n",
      "Epoch 21/32\n",
      "537/537 [==============================] - 28s 52ms/step - loss: 0.3253 - sparse_categorical_accuracy: 0.8512 - val_loss: 0.4878 - val_sparse_categorical_accuracy: 0.8137\n",
      "Epoch 22/32\n",
      "537/537 [==============================] - 28s 52ms/step - loss: 0.3167 - sparse_categorical_accuracy: 0.8525 - val_loss: 0.4562 - val_sparse_categorical_accuracy: 0.8282\n",
      "Epoch 23/32\n",
      "537/537 [==============================] - 28s 52ms/step - loss: 0.3076 - sparse_categorical_accuracy: 0.8558 - val_loss: 0.4364 - val_sparse_categorical_accuracy: 0.8371\n",
      "Epoch 24/32\n",
      "537/537 [==============================] - 28s 52ms/step - loss: 0.3006 - sparse_categorical_accuracy: 0.8589 - val_loss: 0.4904 - val_sparse_categorical_accuracy: 0.8153\n",
      "Epoch 25/32\n",
      "537/537 [==============================] - 28s 52ms/step - loss: 0.2891 - sparse_categorical_accuracy: 0.8604 - val_loss: 0.4264 - val_sparse_categorical_accuracy: 0.8475\n",
      "Epoch 26/32\n",
      "537/537 [==============================] - 28s 52ms/step - loss: 0.2848 - sparse_categorical_accuracy: 0.8629 - val_loss: 0.4133 - val_sparse_categorical_accuracy: 0.8516\n",
      "Epoch 27/32\n",
      "537/537 [==============================] - 28s 52ms/step - loss: 0.2902 - sparse_categorical_accuracy: 0.8604 - val_loss: 0.4438 - val_sparse_categorical_accuracy: 0.8361\n",
      "Epoch 28/32\n",
      "537/537 [==============================] - 28s 52ms/step - loss: 0.2799 - sparse_categorical_accuracy: 0.8641 - val_loss: 0.4320 - val_sparse_categorical_accuracy: 0.8449\n",
      "Epoch 29/32\n",
      "537/537 [==============================] - 28s 52ms/step - loss: 0.2634 - sparse_categorical_accuracy: 0.8703 - val_loss: 0.4518 - val_sparse_categorical_accuracy: 0.8373\n",
      "Epoch 30/32\n",
      "537/537 [==============================] - 28s 52ms/step - loss: 0.2619 - sparse_categorical_accuracy: 0.8717 - val_loss: 0.4505 - val_sparse_categorical_accuracy: 0.8380\n",
      "Epoch 31/32\n",
      "537/537 [==============================] - 28s 52ms/step - loss: 0.2610 - sparse_categorical_accuracy: 0.8712 - val_loss: 0.4605 - val_sparse_categorical_accuracy: 0.8341\n",
      "Epoch 32/32\n",
      "537/537 [==============================] - 28s 52ms/step - loss: 0.2638 - sparse_categorical_accuracy: 0.8699 - val_loss: 0.4047 - val_sparse_categorical_accuracy: 0.8594\n"
     ]
    }
   ],
   "source": [
    "history = model.fit_generator(\n",
    "    train_dg,\n",
    "    validation_data=val_dg,\n",
    "    epochs=32,\n",
    "    workers=3,\n",
    "    use_multiprocessing=True\n",
    ")"
   ]
  },
  {
   "cell_type": "code",
   "execution_count": 43,
   "metadata": {},
   "outputs": [
    {
     "data": {
      "image/png": "[encoded data removed]",
      "text/plain": [
       "<Figure size 432x288 with 1 Axes>"
      ]
     },
     "metadata": {
      "needs_background": "light"
     },
     "output_type": "display_data"
    }
   ],
   "source": [
    "%matplotlib inline\n",
    "\n",
    "plt.plot(history.history['loss'], label='training')\n",
    "plt.plot(history.history['val_loss'], label='validation')\n",
    "plt.legend()\n",
    "\n",
    "name = \"model1_epoch32_1\"\n",
    "plt.savefig('../result/loss/' + name + '.png', dpi=200)\n",
    "\n",
    "plt.show()"
   ]
  },
  {
   "cell_type": "markdown",
   "metadata": {},
   "source": [
    "# Evaluation"
   ]
  },
  {
   "cell_type": "markdown",
   "metadata": {
    "heading_collapsed": true
   },
   "source": [
    "## evaluation tools"
   ]
  },
  {
   "cell_type": "code",
   "execution_count": 56,
   "metadata": {
    "hidden": true
   },
   "outputs": [],
   "source": [
    "import itertools\n",
    "from sklearn.metrics import confusion_matrix\n",
    "from sklearn.utils.multiclass import unique_labels\n",
    "import matplotlib.pyplot as plt\n",
    "\n",
    "%matplotlib inline\n",
    "\n",
    "def plot_confusion_matrix(y_true, y_pred, classes, name,\n",
    "                          normalize=False,\n",
    "                          title=None,\n",
    "                          cmap=plt.cm.Blues):\n",
    "    if not title:\n",
    "        if normalize:\n",
    "            title = 'Normalized confusion matrix'\n",
    "        else:\n",
    "            title = 'Confusion matrix, without normalization'\n",
    "\n",
    "    # Compute confusion matrix\n",
    "    cm = confusion_matrix(y_true, y_pred)\n",
    "    # Only use the labels that appear in the data\n",
    "    classes = classes[unique_labels(y_true, y_pred)]\n",
    "    if normalize:\n",
    "        cm = cm.astype('float') / cm.sum(axis=1)[:, np.newaxis]\n",
    "        print(\"Normalized confusion matrix\")\n",
    "    else:\n",
    "        print('Confusion matrix, without normalization')\n",
    "\n",
    "    print(cm)\n",
    "\n",
    "    fig, ax = plt.subplots()\n",
    "    im = ax.imshow(cm, interpolation='nearest', cmap=cmap)\n",
    "    ax.figure.colorbar(im, ax=ax)\n",
    "    # We want to show all ticks...\n",
    "    ax.set(xticks=np.arange(cm.shape[1]),\n",
    "           yticks=np.arange(cm.shape[0]),\n",
    "           # ... and label them with the respective list entries\n",
    "           xticklabels=classes, yticklabels=classes,\n",
    "           title=title,\n",
    "           ylabel='True label',\n",
    "           xlabel='Predicted label')\n",
    "\n",
    "    # Rotate the tick labels and set their alignment.\n",
    "    plt.setp(ax.get_xticklabels(), rotation=45, ha=\"right\",\n",
    "             rotation_mode=\"anchor\")\n",
    "\n",
    "    # Loop over data dimensions and create text annotations.\n",
    "    fmt = '.2f' if normalize else 'd'\n",
    "    thresh = cm.max() / 2.\n",
    "    for i in range(cm.shape[0]):\n",
    "        for j in range(cm.shape[1]):\n",
    "            ax.text(j, i, format(cm[i, j], fmt),\n",
    "                    ha=\"center\", va=\"center\",\n",
    "                    color=\"white\" if cm[i, j] > thresh else \"black\")\n",
    "    fig.tight_layout()\n",
    "    \n",
    "    plt.savefig('../result/confusion_matrix/' + name + '.png', dpi=200)\n",
    "    return ax"
   ]
  },
  {
   "cell_type": "code",
   "execution_count": 21,
   "metadata": {
    "hidden": true
   },
   "outputs": [],
   "source": [
    "def predict_on_df(model, df):\n",
    "    dg = DataGenerator(df, batch_size=32, shuffle=False)\n",
    "    yhat = model.predict_generator(dg)\n",
    "    pred_index = yhat.argmax(axis=1)\n",
    "    pred_conf = yhat.max(axis=1)\n",
    "    df['pred_index'] = pred_index\n",
    "    df['pred_label'] = df.pred_index.apply(lambda x: list(label_map.keys())[x])\n",
    "    df['pred_conf'] = pred_conf\n",
    "    df['match'] = df['pred_index'] == df['label']\n",
    "    return df\n",
    "\n",
    "\n",
    "def display_top_losses(prediction_df, k: int = 10):\n",
    "    wrong_condition = ~prediction_df.match\n",
    "    wrong_df = prediction_df[wrong_condition]\n",
    "    return wrong_df.sort_values('pred_conf', ascending=False).iloc[0:k][['equation', 'pred_label', 'source', 'pred_index', 'label', 'pred_conf']]\n",
    "    \n",
    "def predict_from_str(equation, model, tokenizer):\n",
    "    X = np.array([encode_sequence(equation, tokenizer)])\n",
    "    yhat = model.predict(X)\n",
    "    pred_index = yhat.argmax()\n",
    "    label = [label for label, i in label_map.items() if i==pred_index][0]\n",
    "    return {\n",
    "        'yhat': yhat.tolist(),\n",
    "        'pred_index': pred_index,\n",
    "        'label': label\n",
    "           }"
   ]
  },
  {
   "cell_type": "markdown",
   "metadata": {},
   "source": [
    "## evaluate"
   ]
  },
  {
   "cell_type": "code",
   "execution_count": 22,
   "metadata": {},
   "outputs": [],
   "source": [
    "predictions = predict_on_df(model, val_df)\n"
   ]
  },
  {
   "cell_type": "code",
   "execution_count": 57,
   "metadata": {
    "scrolled": false
   },
   "outputs": [
    {
     "name": "stdout",
     "output_type": "stream",
     "text": [
      "Confusion matrix, without normalization\n",
      "[[44341  4509  1577]\n",
      " [ 1366  5536   311]\n",
      " [  260   169   212]]\n"
     ]
    },
    {
     "data": {
      "text/plain": [
       "<matplotlib.axes._subplots.AxesSubplot at 0x7f6b9afbeb70>"
      ]
     },
     "execution_count": 57,
     "metadata": {},
     "output_type": "execute_result"
    },
    {
     "data": {
      "image/png": "[encoded data removed]",
      "text/plain": [
       "<Figure size 432x288 with 2 Axes>"
      ]
     },
     "metadata": {
      "needs_background": "light"
     },
     "output_type": "display_data"
    }
   ],
   "source": [
    "name = \"model1_epoch32_1\"\n",
    "plot_confusion_matrix(predictions.label, predictions.pred_index, np.array(list(label_map.keys())), name)\n"
   ]
  },
  {
   "cell_type": "code",
   "execution_count": 58,
   "metadata": {
    "scrolled": false
   },
   "outputs": [
    {
     "name": "stdout",
     "output_type": "stream",
     "text": [
      "Normalized confusion matrix\n",
      "[[0.87931069 0.08941638 0.03127293]\n",
      " [0.18938029 0.76750312 0.0431166 ]\n",
      " [0.40561622 0.26365055 0.33073323]]\n"
     ]
    },
    {
     "data": {
      "text/plain": [
       "<matplotlib.axes._subplots.AxesSubplot at 0x7f6b9aefacc0>"
      ]
     },
     "execution_count": 58,
     "metadata": {},
     "output_type": "execute_result"
    },
    {
     "data": {
      "image/png": "[encoded data removed]",
      "text/plain": [
       "<Figure size 432x288 with 2 Axes>"
      ]
     },
     "metadata": {
      "needs_background": "light"
     },
     "output_type": "display_data"
    }
   ],
   "source": [
    "name = \"model1_epoch32_2\"\n",
    "plot_confusion_matrix(predictions.label, predictions.pred_index, np.array(list(label_map.keys())), name, normalize=True)\n"
   ]
  },
  {
   "cell_type": "code",
   "execution_count": 30,
   "metadata": {},
   "outputs": [
    {
     "data": {
      "text/plain": [
       "{'yhat': [[0.8189523220062256, 0.18104767799377441, 3.1142073364520684e-09]],\n",
       " 'pred_index': 0,\n",
       " 'label': 'physics.stackexchange.com'}"
      ]
     },
     "execution_count": 30,
     "metadata": {},
     "output_type": "execute_result"
    }
   ],
   "source": [
    "predict_from_str('H\\PSI = E\\PSI', model, tokenizer)"
   ]
  },
  {
   "cell_type": "code",
   "execution_count": 59,
   "metadata": {},
   "outputs": [
    {
     "data": {
      "text/html": [
       "<div>\n",
       "<style scoped>\n",
       "    .dataframe tbody tr th:only-of-type {\n",
       "        vertical-align: middle;\n",
       "    }\n",
       "\n",
       "    .dataframe tbody tr th {\n",
       "        vertical-align: top;\n",
       "    }\n",
       "\n",
       "    .dataframe thead th {\n",
       "        text-align: right;\n",
       "    }\n",
       "</style>\n",
       "<table border=\"1\" class=\"dataframe\">\n",
       "  <thead>\n",
       "    <tr style=\"text-align: right;\">\n",
       "      <th></th>\n",
       "      <th>equation</th>\n",
       "      <th>pred_label</th>\n",
       "      <th>source</th>\n",
       "      <th>pred_index</th>\n",
       "      <th>label</th>\n",
       "      <th>pred_conf</th>\n",
       "    </tr>\n",
       "  </thead>\n",
       "  <tbody>\n",
       "    <tr>\n",
       "      <th>1189809</th>\n",
       "      <td>\\ce{C_\\alpha}</td>\n",
       "      <td>biology.stackexchange.com</td>\n",
       "      <td>chemistry.stackexchange.com</td>\n",
       "      <td>2</td>\n",
       "      <td>1</td>\n",
       "      <td>0.999996</td>\n",
       "    </tr>\n",
       "    <tr>\n",
       "      <th>1244828</th>\n",
       "      <td>S_{\\text{target}}=2^{(1-0.5\\log C)}.</td>\n",
       "      <td>biology.stackexchange.com</td>\n",
       "      <td>chemistry.stackexchange.com</td>\n",
       "      <td>2</td>\n",
       "      <td>1</td>\n",
       "      <td>0.999994</td>\n",
       "    </tr>\n",
       "    <tr>\n",
       "      <th>575749</th>\n",
       "      <td>5 \\hspace{.5mm} \\theta/11</td>\n",
       "      <td>biology.stackexchange.com</td>\n",
       "      <td>physics.stackexchange.com</td>\n",
       "      <td>2</td>\n",
       "      <td>0</td>\n",
       "      <td>0.999971</td>\n",
       "    </tr>\n",
       "    <tr>\n",
       "      <th>648462</th>\n",
       "      <td>\\ce{^0_{-1}\\beta}</td>\n",
       "      <td>chemistry.stackexchange.com</td>\n",
       "      <td>physics.stackexchange.com</td>\n",
       "      <td>1</td>\n",
       "      <td>0</td>\n",
       "      <td>0.999963</td>\n",
       "    </tr>\n",
       "    <tr>\n",
       "      <th>1345831</th>\n",
       "      <td>\\ce{^12C}</td>\n",
       "      <td>chemistry.stackexchange.com</td>\n",
       "      <td>biology.stackexchange.com</td>\n",
       "      <td>1</td>\n",
       "      <td>2</td>\n",
       "      <td>0.999958</td>\n",
       "    </tr>\n",
       "    <tr>\n",
       "      <th>1144132</th>\n",
       "      <td>\\alpha \\in ( 0.1, 1, 3, 10, 100 )</td>\n",
       "      <td>biology.stackexchange.com</td>\n",
       "      <td>physics.stackexchange.com</td>\n",
       "      <td>2</td>\n",
       "      <td>0</td>\n",
       "      <td>0.999940</td>\n",
       "    </tr>\n",
       "    <tr>\n",
       "      <th>1345832</th>\n",
       "      <td>\\ce{^13C}</td>\n",
       "      <td>chemistry.stackexchange.com</td>\n",
       "      <td>biology.stackexchange.com</td>\n",
       "      <td>1</td>\n",
       "      <td>2</td>\n",
       "      <td>0.999938</td>\n",
       "    </tr>\n",
       "    <tr>\n",
       "      <th>339689</th>\n",
       "      <td>m_c ≈ 1.5</td>\n",
       "      <td>biology.stackexchange.com</td>\n",
       "      <td>physics.stackexchange.com</td>\n",
       "      <td>2</td>\n",
       "      <td>0</td>\n",
       "      <td>0.999921</td>\n",
       "    </tr>\n",
       "    <tr>\n",
       "      <th>1338914</th>\n",
       "      <td>\\ce {K+_{out}}=5 \\text{mmoll}^{-1}</td>\n",
       "      <td>chemistry.stackexchange.com</td>\n",
       "      <td>biology.stackexchange.com</td>\n",
       "      <td>1</td>\n",
       "      <td>2</td>\n",
       "      <td>0.999902</td>\n",
       "    </tr>\n",
       "    <tr>\n",
       "      <th>133007</th>\n",
       "      <td>\\text{(homogenous and isotropic)} \\iff \\nabla_...</td>\n",
       "      <td>biology.stackexchange.com</td>\n",
       "      <td>physics.stackexchange.com</td>\n",
       "      <td>2</td>\n",
       "      <td>0</td>\n",
       "      <td>0.999892</td>\n",
       "    </tr>\n",
       "    <tr>\n",
       "      <th>1338911</th>\n",
       "      <td>\\ce {Na+_{in}}=10 \\text{mmoll}^{-1}</td>\n",
       "      <td>chemistry.stackexchange.com</td>\n",
       "      <td>biology.stackexchange.com</td>\n",
       "      <td>1</td>\n",
       "      <td>2</td>\n",
       "      <td>0.999886</td>\n",
       "    </tr>\n",
       "    <tr>\n",
       "      <th>1344238</th>\n",
       "      <td>\\ce{K_{eq}}</td>\n",
       "      <td>chemistry.stackexchange.com</td>\n",
       "      <td>biology.stackexchange.com</td>\n",
       "      <td>1</td>\n",
       "      <td>2</td>\n",
       "      <td>0.999881</td>\n",
       "    </tr>\n",
       "    <tr>\n",
       "      <th>1338912</th>\n",
       "      <td>\\ce {K+_{in}}=105 \\text{mmoll}^{-1}</td>\n",
       "      <td>chemistry.stackexchange.com</td>\n",
       "      <td>biology.stackexchange.com</td>\n",
       "      <td>1</td>\n",
       "      <td>2</td>\n",
       "      <td>0.999878</td>\n",
       "    </tr>\n",
       "    <tr>\n",
       "      <th>232189</th>\n",
       "      <td>{1,...,n}</td>\n",
       "      <td>biology.stackexchange.com</td>\n",
       "      <td>physics.stackexchange.com</td>\n",
       "      <td>2</td>\n",
       "      <td>0</td>\n",
       "      <td>0.999873</td>\n",
       "    </tr>\n",
       "    <tr>\n",
       "      <th>955996</th>\n",
       "      <td>p_0 = p_{atm} = 101325</td>\n",
       "      <td>biology.stackexchange.com</td>\n",
       "      <td>physics.stackexchange.com</td>\n",
       "      <td>2</td>\n",
       "      <td>0</td>\n",
       "      <td>0.999855</td>\n",
       "    </tr>\n",
       "    <tr>\n",
       "      <th>975432</th>\n",
       "      <td>2^{(100-50)/10} = 32</td>\n",
       "      <td>biology.stackexchange.com</td>\n",
       "      <td>physics.stackexchange.com</td>\n",
       "      <td>2</td>\n",
       "      <td>0</td>\n",
       "      <td>0.999842</td>\n",
       "    </tr>\n",
       "    <tr>\n",
       "      <th>1340912</th>\n",
       "      <td>\\ce{dNTP + dNMP_{n} -&amp;gt; dNMP_{n +1} + PPi}</td>\n",
       "      <td>chemistry.stackexchange.com</td>\n",
       "      <td>biology.stackexchange.com</td>\n",
       "      <td>1</td>\n",
       "      <td>2</td>\n",
       "      <td>0.999834</td>\n",
       "    </tr>\n",
       "    <tr>\n",
       "      <th>981064</th>\n",
       "      <td>EOT_{NAIVE}</td>\n",
       "      <td>biology.stackexchange.com</td>\n",
       "      <td>physics.stackexchange.com</td>\n",
       "      <td>2</td>\n",
       "      <td>0</td>\n",
       "      <td>0.999822</td>\n",
       "    </tr>\n",
       "    <tr>\n",
       "      <th>1340717</th>\n",
       "      <td>\\cdot{O_2^-}</td>\n",
       "      <td>chemistry.stackexchange.com</td>\n",
       "      <td>biology.stackexchange.com</td>\n",
       "      <td>1</td>\n",
       "      <td>2</td>\n",
       "      <td>0.999817</td>\n",
       "    </tr>\n",
       "    <tr>\n",
       "      <th>1199650</th>\n",
       "      <td>1 + a \\cdot (-0.20) = 0</td>\n",
       "      <td>biology.stackexchange.com</td>\n",
       "      <td>chemistry.stackexchange.com</td>\n",
       "      <td>2</td>\n",
       "      <td>1</td>\n",
       "      <td>0.999787</td>\n",
       "    </tr>\n",
       "  </tbody>\n",
       "</table>\n",
       "</div>"
      ],
      "text/plain": [
       "                                                  equation  \\\n",
       "1189809                                      \\ce{C_\\alpha}   \n",
       "1244828               S_{\\text{target}}=2^{(1-0.5\\log C)}.   \n",
       "575749                           5 \\hspace{.5mm} \\theta/11   \n",
       "648462                                   \\ce{^0_{-1}\\beta}   \n",
       "1345831                                          \\ce{^12C}   \n",
       "1144132                 \\alpha \\in ( 0.1, 1, 3, 10, 100 )    \n",
       "1345832                                          \\ce{^13C}   \n",
       "339689                                           m_c ≈ 1.5   \n",
       "1338914                 \\ce {K+_{out}}=5 \\text{mmoll}^{-1}   \n",
       "133007   \\text{(homogenous and isotropic)} \\iff \\nabla_...   \n",
       "1338911                \\ce {Na+_{in}}=10 \\text{mmoll}^{-1}   \n",
       "1344238                                        \\ce{K_{eq}}   \n",
       "1338912                \\ce {K+_{in}}=105 \\text{mmoll}^{-1}   \n",
       "232189                                           {1,...,n}   \n",
       "955996                              p_0 = p_{atm} = 101325   \n",
       "975432                                2^{(100-50)/10} = 32   \n",
       "1340912       \\ce{dNTP + dNMP_{n} -&gt; dNMP_{n +1} + PPi}   \n",
       "981064                                         EOT_{NAIVE}   \n",
       "1340717                                       \\cdot{O_2^-}   \n",
       "1199650                            1 + a \\cdot (-0.20) = 0   \n",
       "\n",
       "                          pred_label                       source  pred_index  \\\n",
       "1189809    biology.stackexchange.com  chemistry.stackexchange.com           2   \n",
       "1244828    biology.stackexchange.com  chemistry.stackexchange.com           2   \n",
       "575749     biology.stackexchange.com    physics.stackexchange.com           2   \n",
       "648462   chemistry.stackexchange.com    physics.stackexchange.com           1   \n",
       "1345831  chemistry.stackexchange.com    biology.stackexchange.com           1   \n",
       "1144132    biology.stackexchange.com    physics.stackexchange.com           2   \n",
       "1345832  chemistry.stackexchange.com    biology.stackexchange.com           1   \n",
       "339689     biology.stackexchange.com    physics.stackexchange.com           2   \n",
       "1338914  chemistry.stackexchange.com    biology.stackexchange.com           1   \n",
       "133007     biology.stackexchange.com    physics.stackexchange.com           2   \n",
       "1338911  chemistry.stackexchange.com    biology.stackexchange.com           1   \n",
       "1344238  chemistry.stackexchange.com    biology.stackexchange.com           1   \n",
       "1338912  chemistry.stackexchange.com    biology.stackexchange.com           1   \n",
       "232189     biology.stackexchange.com    physics.stackexchange.com           2   \n",
       "955996     biology.stackexchange.com    physics.stackexchange.com           2   \n",
       "975432     biology.stackexchange.com    physics.stackexchange.com           2   \n",
       "1340912  chemistry.stackexchange.com    biology.stackexchange.com           1   \n",
       "981064     biology.stackexchange.com    physics.stackexchange.com           2   \n",
       "1340717  chemistry.stackexchange.com    biology.stackexchange.com           1   \n",
       "1199650    biology.stackexchange.com  chemistry.stackexchange.com           2   \n",
       "\n",
       "         label  pred_conf  \n",
       "1189809      1   0.999996  \n",
       "1244828      1   0.999994  \n",
       "575749       0   0.999971  \n",
       "648462       0   0.999963  \n",
       "1345831      2   0.999958  \n",
       "1144132      0   0.999940  \n",
       "1345832      2   0.999938  \n",
       "339689       0   0.999921  \n",
       "1338914      2   0.999902  \n",
       "133007       0   0.999892  \n",
       "1338911      2   0.999886  \n",
       "1344238      2   0.999881  \n",
       "1338912      2   0.999878  \n",
       "232189       0   0.999873  \n",
       "955996       0   0.999855  \n",
       "975432       0   0.999842  \n",
       "1340912      2   0.999834  \n",
       "981064       0   0.999822  \n",
       "1340717      2   0.999817  \n",
       "1199650      1   0.999787  "
      ]
     },
     "execution_count": 59,
     "metadata": {},
     "output_type": "execute_result"
    }
   ],
   "source": [
    "display_top_losses(predictions, 20)"
   ]
  },
  {
   "cell_type": "code",
   "execution_count": null,
   "metadata": {},
   "outputs": [],
   "source": []
  }
 ],
 "metadata": {
  "kernelspec": {
   "display_name": "Python 3",
   "language": "python",
   "name": "python3"
  },
  "language_info": {
   "codemirror_mode": {
    "name": "ipython",
    "version": 3
   },
   "file_extension": ".py",
   "mimetype": "text/x-python",
   "name": "python",
   "nbconvert_exporter": "python",
   "pygments_lexer": "ipython3",
   "version": "3.7.3"
  }
 },
 "nbformat": 4,
 "nbformat_minor": 2
}

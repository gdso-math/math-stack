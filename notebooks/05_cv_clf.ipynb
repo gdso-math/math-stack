{
 "cells": [
  {
   "cell_type": "code",
   "execution_count": 7,
   "metadata": {},
   "outputs": [],
   "source": [
    "from pathlib import Path\n",
    "\n",
    "import numpy as np\n",
    "import pandas as pd\n",
    "import PIL\n",
    "\n",
    "import tensorflow as tf\n",
    "import tensorflow.keras.preprocessing.image as image\n",
    "import tensorflow.keras.models as models\n",
    "import tensorflow.keras.layers as layers\n",
    "import tensorflow.keras.optimizers as optimizers\n",
    "\n",
    "import matplotlib.pyplot as plt\n",
    "%matplotlib inline"
   ]
  },
  {
   "cell_type": "code",
   "execution_count": 8,
   "metadata": {},
   "outputs": [
    {
     "data": {
      "text/plain": [
       "<matplotlib.image.AxesImage at 0x7f7c25d9a4e0>"
      ]
     },
     "execution_count": 8,
     "metadata": {},
     "output_type": "execute_result"
    },
    {
     "data": {
      "image/png": "[encoded data removed]",
      "text/plain": [
       "<Figure size 432x288 with 1 Axes>"
      ]
     },
     "metadata": {
      "needs_background": "light"
     },
     "output_type": "display_data"
    }
   ],
   "source": [
    "image_path = list(Path('/data/images/').rglob('*.png'))[100]\n",
    "img = PIL.Image.open(image_path)\n",
    "data = np.asarray(img)\n",
    "plt.imshow(data, cmap='Greys')"
   ]
  },
  {
   "cell_type": "code",
   "execution_count": 9,
   "metadata": {},
   "outputs": [],
   "source": [
    "image_dirname = Path('/data/images/')\n",
    "data_generator = image.ImageDataGenerator(\n",
    "    featurewise_center=True,\n",
    "    featurewise_std_normalization=True,\n",
    "    horizontal_flip=False,\n",
    "    vertical_flip=False,\n",
    "    validation_split=0.1,\n",
    ")"
   ]
  },
  {
   "cell_type": "code",
   "execution_count": 16,
   "metadata": {},
   "outputs": [
    {
     "name": "stdout",
     "output_type": "stream",
     "text": [
      "Found 506829 images belonging to 3 classes.\n",
      "Found 56313 images belonging to 3 classes.\n",
      "Found 506829 images belonging to 3 classes.\n",
      "Found 56313 images belonging to 3 classes.\n"
     ]
    }
   ],
   "source": [
    "dgen_args = {\n",
    "    'directory': image_dirname,\n",
    "    'target_size': (64, 128),\n",
    "    'class_mode': 'sparse',\n",
    "    'batch_size': 64,\n",
    "    'shuffle': True,\n",
    "    'color_mode': 'grayscale'\n",
    "}\n",
    "\n",
    "train_dg = data_generator.flow_from_directory(subset='training', **dgen_args)\n",
    "val_dg = data_generator.flow_from_directory(subset='validation', **dgen_args)\n",
    "\n",
    "n_batches = len(train_dg)\n",
    "trainX = []\n",
    "for i in range(100):\n",
    "    batch = train_dg.next()\n",
    "    trainX.append(batch[0])\n",
    "trainX = np.concatenate(trainX, axis=0)\n",
    "data_generator.fit(trainX)\n",
    "\n",
    "train_dg = data_generator.flow_from_directory(subset='training', **dgen_args)\n",
    "val_dg = data_generator.flow_from_directory(subset='validation', **dgen_args)"
   ]
  },
  {
   "cell_type": "code",
   "execution_count": 17,
   "metadata": {},
   "outputs": [
    {
     "name": "stdout",
     "output_type": "stream",
     "text": [
      "batch mean: 214.0136\n",
      "batch std: 93.5488\n",
      "batch shape: (64, 64, 128, 1)\n",
      "Standard Normal: False\n"
     ]
    },
    {
     "data": {
      "image/png": "[encoded data removed]",
      "text/plain": [
       "<Figure size 432x288 with 1 Axes>"
      ]
     },
     "metadata": {
      "needs_background": "light"
     },
     "output_type": "display_data"
    }
   ],
   "source": [
    "batch = train_dg.next()\n",
    "X = batch[0]\n",
    "print(f'batch mean: {X.mean():0.4f}')\n",
    "print(f'batch std: {X.std():0.4f}')\n",
    "print(f'batch shape: {X.shape}')\n",
    "m, s = X.mean(), X.std()\n",
    "print(f'Standard Normal: {(np.isclose(m,0, atol=0.1)) and (np.isclose(s, 1, atol=0.1))}')\n",
    "plt.imshow(X[0, ..., 0], cmap='Greys')\n",
    "plt.show()"
   ]
  },
  {
   "cell_type": "code",
   "execution_count": 18,
   "metadata": {},
   "outputs": [],
   "source": [
    "def cv_model():\n",
    "    input_shape = (64, 128, 1)\n",
    "    input = layers.Input(shape=input_shape)\n",
    "    tmp = input\n",
    "    for i in range(5):\n",
    "        conv = layers.Conv2D(64*(2**i), 3, activation='relu', kernel_initializer='he_uniform', padding='same')(tmp)\n",
    "        pool = layers.MaxPooling2D(3, padding='same')(conv)\n",
    "        tmp = pool\n",
    "    flat = layers.Flatten()(tmp)\n",
    "    for i in range(3):\n",
    "        flat = layers.Dense(256//(2**i), activation='relu', kernel_initializer='he_uniform')(flat)\n",
    "    output = layers.Dense(3, activation='softmax')(flat)\n",
    "    model = models.Model(input, output)\n",
    "    return model\n",
    "\n",
    "def compile_model(model):\n",
    "    opt = optimizers.Adam(0.001)\n",
    "    model.compile(\n",
    "        loss='sparse_categorical_crossentropy',\n",
    "        optimizer=opt,\n",
    "        metrics=['sparse_categorical_accuracy']\n",
    "    )\n",
    "    return model"
   ]
  },
  {
   "cell_type": "code",
   "execution_count": 19,
   "metadata": {},
   "outputs": [
    {
     "name": "stdout",
     "output_type": "stream",
     "text": [
      "Model: \"model_1\"\n",
      "_________________________________________________________________\n",
      "Layer (type)                 Output Shape              Param #   \n",
      "=================================================================\n",
      "input_2 (InputLayer)         [(None, 64, 128, 1)]      0         \n",
      "_________________________________________________________________\n",
      "conv2d_5 (Conv2D)            (None, 64, 128, 64)       640       \n",
      "_________________________________________________________________\n",
      "max_pooling2d_5 (MaxPooling2 (None, 22, 43, 64)        0         \n",
      "_________________________________________________________________\n",
      "conv2d_6 (Conv2D)            (None, 22, 43, 128)       73856     \n",
      "_________________________________________________________________\n",
      "max_pooling2d_6 (MaxPooling2 (None, 8, 15, 128)        0         \n",
      "_________________________________________________________________\n",
      "conv2d_7 (Conv2D)            (None, 8, 15, 256)        295168    \n",
      "_________________________________________________________________\n",
      "max_pooling2d_7 (MaxPooling2 (None, 3, 5, 256)         0         \n",
      "_________________________________________________________________\n",
      "conv2d_8 (Conv2D)            (None, 3, 5, 512)         1180160   \n",
      "_________________________________________________________________\n",
      "max_pooling2d_8 (MaxPooling2 (None, 1, 2, 512)         0         \n",
      "_________________________________________________________________\n",
      "conv2d_9 (Conv2D)            (None, 1, 2, 1024)        4719616   \n",
      "_________________________________________________________________\n",
      "max_pooling2d_9 (MaxPooling2 (None, 1, 1, 1024)        0         \n",
      "_________________________________________________________________\n",
      "flatten_1 (Flatten)          (None, 1024)              0         \n",
      "_________________________________________________________________\n",
      "dense_4 (Dense)              (None, 256)               262400    \n",
      "_________________________________________________________________\n",
      "dense_5 (Dense)              (None, 128)               32896     \n",
      "_________________________________________________________________\n",
      "dense_6 (Dense)              (None, 64)                8256      \n",
      "_________________________________________________________________\n",
      "dense_7 (Dense)              (None, 3)                 195       \n",
      "=================================================================\n",
      "Total params: 6,573,187\n",
      "Trainable params: 6,573,187\n",
      "Non-trainable params: 0\n",
      "_________________________________________________________________\n"
     ]
    }
   ],
   "source": [
    "model = cv_model()\n",
    "model = compile_model(model)\n",
    "model.summary()"
   ]
  },
  {
   "cell_type": "code",
   "execution_count": null,
   "metadata": {},
   "outputs": [
    {
     "name": "stdout",
     "output_type": "stream",
     "text": [
      "Epoch 1/24\n"
     ]
    },
    {
     "name": "stderr",
     "output_type": "stream",
     "text": [
      "/home/myen/miniconda3/lib/python3.7/site-packages/PIL/Image.py:993: UserWarning: Palette images with Transparency expressed in bytes should be converted to RGBA images\n",
      "  \"Palette images with Transparency expressed in bytes should be \"\n",
      "/home/myen/miniconda3/lib/python3.7/site-packages/PIL/Image.py:993: UserWarning: Palette images with Transparency expressed in bytes should be converted to RGBA images\n",
      "  \"Palette images with Transparency expressed in bytes should be \"\n",
      "/home/myen/miniconda3/lib/python3.7/site-packages/PIL/Image.py:993: UserWarning: Palette images with Transparency expressed in bytes should be converted to RGBA images\n",
      "  \"Palette images with Transparency expressed in bytes should be \"\n",
      "/home/myen/miniconda3/lib/python3.7/site-packages/PIL/Image.py:993: UserWarning: Palette images with Transparency expressed in bytes should be converted to RGBA images\n",
      "  \"Palette images with Transparency expressed in bytes should be \"\n"
     ]
    },
    {
     "name": "stdout",
     "output_type": "stream",
     "text": [
      " 735/7920 [=>............................] - ETA: 7:35 - loss: 8.6965 - sparse_categorical_accuracy: 0.8963"
     ]
    }
   ],
   "source": [
    "model.fit_generator(\n",
    "    train_dg,\n",
    "    steps_per_epoch=len(train_dg),\n",
    "    validation_data=val_dg,\n",
    "    validation_steps=len(val_dg),\n",
    "    epochs=24,\n",
    "    shuffle=True\n",
    ")"
   ]
  },
  {
   "cell_type": "code",
   "execution_count": null,
   "metadata": {},
   "outputs": [],
   "source": []
  }
 ],
 "metadata": {
  "kernelspec": {
   "display_name": "Python 3",
   "language": "python",
   "name": "python3"
  },
  "language_info": {
   "codemirror_mode": {
    "name": "ipython",
    "version": 3
   },
   "file_extension": ".py",
   "mimetype": "text/x-python",
   "name": "python",
   "nbconvert_exporter": "python",
   "pygments_lexer": "ipython3",
   "version": "3.7.2"
  }
 },
 "nbformat": 4,
 "nbformat_minor": 2
}

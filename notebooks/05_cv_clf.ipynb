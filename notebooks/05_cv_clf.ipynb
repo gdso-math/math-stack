{
 "cells": [
  {
   "cell_type": "code",
   "execution_count": 1,
   "metadata": {},
   "outputs": [
    {
     "name": "stdout",
     "output_type": "stream",
     "text": [
      "/home/koosterb/miniconda3/bin/jupyter\n",
      "/home/koosterb/miniconda3/bin/pip\n"
     ]
    }
   ],
   "source": [
    "!which jupyter\n",
    "!which pip"
   ]
  },
  {
   "cell_type": "code",
   "execution_count": 7,
   "metadata": {},
   "outputs": [],
   "source": [
    "from pathlib import Path\n",
    "\n",
    "import numpy as np\n",
    "import pandas as pd\n",
    "import PIL\n",
    "\n",
    "import tensorflow as tf\n",
    "import tensorflow.keras.preprocessing.image as image\n",
    "import tensorflow.keras.models as models\n",
    "import tensorflow.keras.layers as layers\n",
    "import tensorflow.keras.optimizers as optimizers\n",
    "\n",
    "import matplotlib.pyplot as plt\n",
    "%matplotlib inline"
   ]
  },
  {
   "cell_type": "code",
   "execution_count": 8,
   "metadata": {},
   "outputs": [
    {
     "data": {
      "text/plain": [
       "<matplotlib.image.AxesImage at 0x7f5143026a58>"
      ]
     },
     "execution_count": 8,
     "metadata": {},
     "output_type": "execute_result"
    },
    {
     "data": {
      "image/png": "[encoded data removed]",
      "text/plain": [
       "<Figure size 432x288 with 1 Axes>"
      ]
     },
     "metadata": {
      "needs_background": "light"
     },
     "output_type": "display_data"
    }
   ],
   "source": [
    "image_path = list(Path('/data/images/').rglob('*.png'))[100]\n",
    "img = PIL.Image.open(image_path)\n",
    "data = np.asarray(img)\n",
    "plt.imshow(data, cmap='Greys')"
   ]
  },
  {
   "cell_type": "code",
   "execution_count": 29,
   "metadata": {},
   "outputs": [],
   "source": [
    "image_dirname = Path('/data/images/')\n",
    "data_generator = image.ImageDataGenerator(\n",
    "    featurewise_center=True,\n",
    "    featurewise_std_normalization=True,\n",
    "    horizontal_flip=False,\n",
    "    vertical_flip=False,\n",
    "    validation_split=0.1,\n",
    ")"
   ]
  },
  {
   "cell_type": "code",
   "execution_count": 30,
   "metadata": {},
   "outputs": [
    {
     "name": "stdout",
     "output_type": "stream",
     "text": [
      "Found 506829 images belonging to 3 classes.\n",
      "Found 56313 images belonging to 3 classes.\n",
      "Found 506829 images belonging to 3 classes.\n",
      "Found 56313 images belonging to 3 classes.\n"
     ]
    }
   ],
   "source": [
    "dgen_args = {\n",
    "    'directory': image_dirname,\n",
    "    'target_size': (64, 128),\n",
    "    'class_mode': 'sparse',\n",
    "    'batch_size': 512,\n",
    "    'shuffle': True,\n",
    "    'color_mode': 'grayscale'\n",
    "}\n",
    "\n",
    "train_dg = data_generator.flow_from_directory(subset='training', **dgen_args)\n",
    "val_dg = data_generator.flow_from_directory(subset='validation', **dgen_args)\n",
    "\n",
    "n_batches = len(train_dg)\n",
    "trainX = []\n",
    "for i in range(500):\n",
    "    batch = train_dg.next()\n",
    "    trainX.append(batch[0])\n",
    "trainX = np.concatenate(trainX, axis=0)\n",
    "data_generator.fit(trainX)\n",
    "\n",
    "train_dg = data_generator.flow_from_directory(subset='training', **dgen_args)\n",
    "val_dg = data_generator.flow_from_directory(subset='validation', **dgen_args)"
   ]
  },
  {
   "cell_type": "code",
   "execution_count": 31,
   "metadata": {},
   "outputs": [
    {
     "name": "stdout",
     "output_type": "stream",
     "text": [
      "batch mean: 0.0023\n",
      "batch std: 0.9980\n",
      "batch shape: (512, 64, 128, 1)\n",
      "Standard Normal: True\n"
     ]
    },
    {
     "data": {
      "image/png": "[encoded data removed]",
      "text/plain": [
       "<Figure size 432x288 with 1 Axes>"
      ]
     },
     "metadata": {
      "needs_background": "light"
     },
     "output_type": "display_data"
    }
   ],
   "source": [
    "batch = train_dg.next()\n",
    "X = batch[0]\n",
    "print(f'batch mean: {X.mean():0.4f}')\n",
    "print(f'batch std: {X.std():0.4f}')\n",
    "print(f'batch shape: {X.shape}')\n",
    "m, s = X.mean(), X.std()\n",
    "print(f'Standard Normal: {(np.isclose(m,0, atol=0.1)) and (np.isclose(s, 1, atol=0.1))}')\n",
    "plt.imshow(X[0, ..., 0], cmap='Greys')\n",
    "plt.show()"
   ]
  },
  {
   "cell_type": "code",
   "execution_count": 43,
   "metadata": {},
   "outputs": [],
   "source": [
    "def cv_model():\n",
    "    input_shape = (64, 128, 1)\n",
    "    input = layers.Input(shape=input_shape)\n",
    "    tmp = input\n",
    "    for i in range(5):\n",
    "        #conv = layers.Conv2D(64*(2**i), 3, activation='relu', kernel_initializer='he_uniform', padding='same')(tmp)\n",
    "        conv = layers.Conv2D(64*(2**i), 3, padding='same')(tmp)\n",
    "        norm = layers.BatchNormalization()(conv)\n",
    "        activ = layers.Activation('relu')(norm)\n",
    "        pool = layers.MaxPooling2D(3, padding='same')(activ)\n",
    "        tmp = pool\n",
    "    flat = layers.Flatten()(tmp)\n",
    "    for i in range(3):\n",
    "        #flat = layers.Dense(256//(2**i), activation='relu', kernel_initializer='he_uniform')(flat)\n",
    "        flat = layers.Dense(256//(2**i))(flat)\n",
    "        norm = layers.BatchNormalization()(flat)\n",
    "        activ = layers.Activation('relu')(norm)\n",
    "        flat = activ\n",
    "    output = layers.Dense(3, activation='softmax')(flat)\n",
    "    model = models.Model(input, output)\n",
    "    return model\n",
    "\n",
    "def compile_model(model):\n",
    "    opt = optimizers.Adam(0.01)\n",
    "    model.compile(\n",
    "        loss='sparse_categorical_crossentropy',\n",
    "        optimizer=opt,\n",
    "        metrics=['sparse_categorical_accuracy']\n",
    "    )\n",
    "    return model"
   ]
  },
  {
   "cell_type": "code",
   "execution_count": 44,
   "metadata": {},
   "outputs": [
    {
     "name": "stdout",
     "output_type": "stream",
     "text": [
      "Model: \"model_6\"\n",
      "_________________________________________________________________\n",
      "Layer (type)                 Output Shape              Param #   \n",
      "=================================================================\n",
      "input_8 (InputLayer)         [(None, 64, 128, 1)]      0         \n",
      "_________________________________________________________________\n",
      "conv2d_34 (Conv2D)           (None, 64, 128, 64)       640       \n",
      "_________________________________________________________________\n",
      "batch_normalization_3 (Batch (None, 64, 128, 64)       256       \n",
      "_________________________________________________________________\n",
      "activation_3 (Activation)    (None, 64, 128, 64)       0         \n",
      "_________________________________________________________________\n",
      "max_pooling2d_33 (MaxPooling (None, 22, 43, 64)        0         \n",
      "_________________________________________________________________\n",
      "conv2d_35 (Conv2D)           (None, 22, 43, 128)       73856     \n",
      "_________________________________________________________________\n",
      "batch_normalization_4 (Batch (None, 22, 43, 128)       512       \n",
      "_________________________________________________________________\n",
      "activation_4 (Activation)    (None, 22, 43, 128)       0         \n",
      "_________________________________________________________________\n",
      "max_pooling2d_34 (MaxPooling (None, 8, 15, 128)        0         \n",
      "_________________________________________________________________\n",
      "conv2d_36 (Conv2D)           (None, 8, 15, 256)        295168    \n",
      "_________________________________________________________________\n",
      "batch_normalization_5 (Batch (None, 8, 15, 256)        1024      \n",
      "_________________________________________________________________\n",
      "activation_5 (Activation)    (None, 8, 15, 256)        0         \n",
      "_________________________________________________________________\n",
      "max_pooling2d_35 (MaxPooling (None, 3, 5, 256)         0         \n",
      "_________________________________________________________________\n",
      "conv2d_37 (Conv2D)           (None, 3, 5, 512)         1180160   \n",
      "_________________________________________________________________\n",
      "batch_normalization_6 (Batch (None, 3, 5, 512)         2048      \n",
      "_________________________________________________________________\n",
      "activation_6 (Activation)    (None, 3, 5, 512)         0         \n",
      "_________________________________________________________________\n",
      "max_pooling2d_36 (MaxPooling (None, 1, 2, 512)         0         \n",
      "_________________________________________________________________\n",
      "conv2d_38 (Conv2D)           (None, 1, 2, 1024)        4719616   \n",
      "_________________________________________________________________\n",
      "batch_normalization_7 (Batch (None, 1, 2, 1024)        4096      \n",
      "_________________________________________________________________\n",
      "activation_7 (Activation)    (None, 1, 2, 1024)        0         \n",
      "_________________________________________________________________\n",
      "max_pooling2d_37 (MaxPooling (None, 1, 1, 1024)        0         \n",
      "_________________________________________________________________\n",
      "flatten_6 (Flatten)          (None, 1024)              0         \n",
      "_________________________________________________________________\n",
      "dense_24 (Dense)             (None, 256)               262400    \n",
      "_________________________________________________________________\n",
      "batch_normalization_8 (Batch (None, 256)               1024      \n",
      "_________________________________________________________________\n",
      "activation_8 (Activation)    (None, 256)               0         \n",
      "_________________________________________________________________\n",
      "dense_25 (Dense)             (None, 128)               32896     \n",
      "_________________________________________________________________\n",
      "batch_normalization_9 (Batch (None, 128)               512       \n",
      "_________________________________________________________________\n",
      "activation_9 (Activation)    (None, 128)               0         \n",
      "_________________________________________________________________\n",
      "dense_26 (Dense)             (None, 64)                8256      \n",
      "_________________________________________________________________\n",
      "batch_normalization_10 (Batc (None, 64)                256       \n",
      "_________________________________________________________________\n",
      "activation_10 (Activation)   (None, 64)                0         \n",
      "_________________________________________________________________\n",
      "dense_27 (Dense)             (None, 3)                 195       \n",
      "=================================================================\n",
      "Total params: 6,582,915\n",
      "Trainable params: 6,578,051\n",
      "Non-trainable params: 4,864\n",
      "_________________________________________________________________\n"
     ]
    }
   ],
   "source": [
    "model = cv_model()\n",
    "model = compile_model(model)\n",
    "model.summary()"
   ]
  },
  {
   "cell_type": "code",
   "execution_count": 45,
   "metadata": {},
   "outputs": [
    {
     "name": "stdout",
     "output_type": "stream",
     "text": [
      "Epoch 1/24\n"
     ]
    },
    {
     "name": "stderr",
     "output_type": "stream",
     "text": [
      "/home/koosterb/miniconda3/lib/python3.7/site-packages/PIL/Image.py:993: UserWarning: Palette images with Transparency expressed in bytes should be converted to RGBA images\n",
      "  \"Palette images with Transparency expressed in bytes should be \"\n",
      "/home/koosterb/miniconda3/lib/python3.7/site-packages/PIL/Image.py:993: UserWarning: Palette images with Transparency expressed in bytes should be converted to RGBA images\n",
      "  \"Palette images with Transparency expressed in bytes should be \"\n",
      "/home/koosterb/miniconda3/lib/python3.7/site-packages/PIL/Image.py:993: UserWarning: Palette images with Transparency expressed in bytes should be converted to RGBA images\n",
      "  \"Palette images with Transparency expressed in bytes should be \"\n",
      "/home/koosterb/miniconda3/lib/python3.7/site-packages/PIL/Image.py:993: UserWarning: Palette images with Transparency expressed in bytes should be converted to RGBA images\n",
      "  \"Palette images with Transparency expressed in bytes should be \"\n",
      "/home/koosterb/miniconda3/lib/python3.7/site-packages/PIL/Image.py:993: UserWarning: Palette images with Transparency expressed in bytes should be converted to RGBA images\n",
      "  \"Palette images with Transparency expressed in bytes should be \"\n",
      "/home/koosterb/miniconda3/lib/python3.7/site-packages/PIL/Image.py:993: UserWarning: Palette images with Transparency expressed in bytes should be converted to RGBA images\n",
      "  \"Palette images with Transparency expressed in bytes should be \"\n",
      "/home/koosterb/miniconda3/lib/python3.7/site-packages/PIL/Image.py:993: UserWarning: Palette images with Transparency expressed in bytes should be converted to RGBA images\n",
      "  \"Palette images with Transparency expressed in bytes should be \"\n",
      "/home/koosterb/miniconda3/lib/python3.7/site-packages/PIL/Image.py:993: UserWarning: Palette images with Transparency expressed in bytes should be converted to RGBA images\n",
      "  \"Palette images with Transparency expressed in bytes should be \"\n",
      "/home/koosterb/miniconda3/lib/python3.7/site-packages/PIL/Image.py:993: UserWarning: Palette images with Transparency expressed in bytes should be converted to RGBA images\n",
      "  \"Palette images with Transparency expressed in bytes should be \"\n",
      "/home/koosterb/miniconda3/lib/python3.7/site-packages/PIL/Image.py:993: UserWarning: Palette images with Transparency expressed in bytes should be converted to RGBA images\n",
      "  \"Palette images with Transparency expressed in bytes should be \"\n",
      "/home/koosterb/miniconda3/lib/python3.7/site-packages/PIL/Image.py:993: UserWarning: Palette images with Transparency expressed in bytes should be converted to RGBA images\n",
      "  \"Palette images with Transparency expressed in bytes should be \"\n",
      "/home/koosterb/miniconda3/lib/python3.7/site-packages/PIL/Image.py:993: UserWarning: Palette images with Transparency expressed in bytes should be converted to RGBA images\n",
      "  \"Palette images with Transparency expressed in bytes should be \"\n",
      "/home/koosterb/miniconda3/lib/python3.7/site-packages/PIL/Image.py:993: UserWarning: Palette images with Transparency expressed in bytes should be converted to RGBA images\n",
      "  \"Palette images with Transparency expressed in bytes should be \"\n",
      "/home/koosterb/miniconda3/lib/python3.7/site-packages/PIL/Image.py:993: UserWarning: Palette images with Transparency expressed in bytes should be converted to RGBA images\n",
      "  \"Palette images with Transparency expressed in bytes should be \"\n",
      "/home/koosterb/miniconda3/lib/python3.7/site-packages/PIL/Image.py:993: UserWarning: Palette images with Transparency expressed in bytes should be converted to RGBA images\n",
      "  \"Palette images with Transparency expressed in bytes should be \"\n"
     ]
    },
    {
     "name": "stdout",
     "output_type": "stream",
     "text": [
      "990/990 [==============================] - 559s 565ms/step - loss: 0.3023 - sparse_categorical_accuracy: 0.9085 - val_loss: 0.3278 - val_sparse_categorical_accuracy: 0.9059\n",
      "Epoch 2/24\n",
      "990/990 [==============================] - 556s 562ms/step - loss: 0.2746 - sparse_categorical_accuracy: 0.9154 - val_loss: 0.2973 - val_sparse_categorical_accuracy: 0.9136\n",
      "Epoch 3/24\n",
      "990/990 [==============================] - 559s 565ms/step - loss: 0.2605 - sparse_categorical_accuracy: 0.9191 - val_loss: 0.2868 - val_sparse_categorical_accuracy: 0.9088\n",
      "Epoch 4/24\n",
      "990/990 [==============================] - 557s 562ms/step - loss: 0.2480 - sparse_categorical_accuracy: 0.9226 - val_loss: 0.2693 - val_sparse_categorical_accuracy: 0.9175\n",
      "Epoch 5/24\n",
      "990/990 [==============================] - 557s 562ms/step - loss: 0.2363 - sparse_categorical_accuracy: 0.9248 - val_loss: 0.2877 - val_sparse_categorical_accuracy: 0.9183\n",
      "Epoch 6/24\n",
      "990/990 [==============================] - 555s 560ms/step - loss: 0.2231 - sparse_categorical_accuracy: 0.9281 - val_loss: 0.3224 - val_sparse_categorical_accuracy: 0.9169\n",
      "Epoch 7/24\n",
      "990/990 [==============================] - 555s 560ms/step - loss: 0.2081 - sparse_categorical_accuracy: 0.9319 - val_loss: 0.2791 - val_sparse_categorical_accuracy: 0.9144\n",
      "Epoch 8/24\n",
      "990/990 [==============================] - 557s 562ms/step - loss: 0.1920 - sparse_categorical_accuracy: 0.9363 - val_loss: 0.2893 - val_sparse_categorical_accuracy: 0.9167\n",
      "Epoch 9/24\n",
      "990/990 [==============================] - 546s 552ms/step - loss: 0.1753 - sparse_categorical_accuracy: 0.9407 - val_loss: 0.3532 - val_sparse_categorical_accuracy: 0.9172\n",
      "Epoch 10/24\n",
      "990/990 [==============================] - 545s 550ms/step - loss: 0.1586 - sparse_categorical_accuracy: 0.9453 - val_loss: 0.3418 - val_sparse_categorical_accuracy: 0.9141\n",
      "Epoch 11/24\n",
      "990/990 [==============================] - 546s 551ms/step - loss: 0.1424 - sparse_categorical_accuracy: 0.9493 - val_loss: 0.3727 - val_sparse_categorical_accuracy: 0.9166\n",
      "Epoch 12/24\n",
      "990/990 [==============================] - 546s 551ms/step - loss: 0.1289 - sparse_categorical_accuracy: 0.9530 - val_loss: 0.4094 - val_sparse_categorical_accuracy: 0.8748\n",
      "Epoch 13/24\n",
      "990/990 [==============================] - 546s 551ms/step - loss: 0.1167 - sparse_categorical_accuracy: 0.9564 - val_loss: 0.4280 - val_sparse_categorical_accuracy: 0.9069\n",
      "Epoch 14/24\n",
      "990/990 [==============================] - 546s 552ms/step - loss: 0.1078 - sparse_categorical_accuracy: 0.9589 - val_loss: 0.4092 - val_sparse_categorical_accuracy: 0.8919\n",
      "Epoch 15/24\n",
      "990/990 [==============================] - 545s 551ms/step - loss: 0.1003 - sparse_categorical_accuracy: 0.9611 - val_loss: 0.4061 - val_sparse_categorical_accuracy: 0.9011\n",
      "Epoch 16/24\n",
      "990/990 [==============================] - 545s 551ms/step - loss: 0.0928 - sparse_categorical_accuracy: 0.9635 - val_loss: 0.4862 - val_sparse_categorical_accuracy: 0.8759\n",
      "Epoch 17/24\n",
      "990/990 [==============================] - 548s 554ms/step - loss: 0.0883 - sparse_categorical_accuracy: 0.9649 - val_loss: 0.4263 - val_sparse_categorical_accuracy: 0.9132\n",
      "Epoch 18/24\n",
      "990/990 [==============================] - 549s 554ms/step - loss: 0.0844 - sparse_categorical_accuracy: 0.9659 - val_loss: 0.4787 - val_sparse_categorical_accuracy: 0.9092\n",
      "Epoch 19/24\n",
      "990/990 [==============================] - 548s 553ms/step - loss: 0.0797 - sparse_categorical_accuracy: 0.9674 - val_loss: 0.4890 - val_sparse_categorical_accuracy: 0.9067\n",
      "Epoch 20/24\n",
      "990/990 [==============================] - 550s 556ms/step - loss: 0.0766 - sparse_categorical_accuracy: 0.9686 - val_loss: 0.5181 - val_sparse_categorical_accuracy: 0.8943\n",
      "Epoch 21/24\n",
      "990/990 [==============================] - 552s 557ms/step - loss: 0.0735 - sparse_categorical_accuracy: 0.9695 - val_loss: 0.5222 - val_sparse_categorical_accuracy: 0.9123\n",
      "Epoch 22/24\n",
      "990/990 [==============================] - 547s 552ms/step - loss: 0.0711 - sparse_categorical_accuracy: 0.9702 - val_loss: 0.5971 - val_sparse_categorical_accuracy: 0.9157\n",
      "Epoch 23/24\n",
      "990/990 [==============================] - 552s 557ms/step - loss: 0.0694 - sparse_categorical_accuracy: 0.9709 - val_loss: 0.5849 - val_sparse_categorical_accuracy: 0.9127\n",
      "Epoch 24/24\n",
      "990/990 [==============================] - 550s 555ms/step - loss: 0.0668 - sparse_categorical_accuracy: 0.9716 - val_loss: 0.6091 - val_sparse_categorical_accuracy: 0.9099\n"
     ]
    }
   ],
   "source": [
    "history = model.fit_generator(\n",
    "    train_dg,\n",
    "    steps_per_epoch=len(train_dg),\n",
    "    validation_data=val_dg,\n",
    "    validation_steps=len(val_dg),\n",
    "    epochs=24,\n",
    "    shuffle=True\n",
    ")"
   ]
  },
  {
   "cell_type": "code",
   "execution_count": 50,
   "metadata": {},
   "outputs": [],
   "source": [
    "def summarize_diagnostics(history):\n",
    "    # plot loss\n",
    "    plt.subplot(211)\n",
    "    plt.title('Cross Entropy Loss')\n",
    "    plt.plot(history.history['loss'], color='blue', label='train')\n",
    "    plt.plot(history.history['val_loss'], color='orange', label='test')\n",
    "    # plot accuracy\n",
    "    plt.subplot(212)\n",
    "    plt.title('Classification Accuracy')\n",
    "    plt.plot(history.history['sparse_categorical_accuracy'], color='blue', label='train')\n",
    "    plt.plot(history.history['val_sparse_categorical_accuracy'], color='orange', label='test')\n",
    "    # save plot to file\n",
    "    filename = \"cv_first_try\"\n",
    "    plt.savefig(filename + '_plot.png')\n",
    "    plt.show()\n",
    "    plt.close()"
   ]
  },
  {
   "cell_type": "code",
   "execution_count": 51,
   "metadata": {},
   "outputs": [
    {
     "data": {
      "image/png": "[encoded data removed]",
      "text/plain": [
       "<Figure size 432x288 with 2 Axes>"
      ]
     },
     "metadata": {
      "needs_background": "light"
     },
     "output_type": "display_data"
    }
   ],
   "source": [
    "summarize_diagnostics(history)"
   ]
  },
  {
   "cell_type": "code",
   "execution_count": null,
   "metadata": {},
   "outputs": [],
   "source": []
  }
 ],
 "metadata": {
  "kernelspec": {
   "display_name": "Python 3",
   "language": "python",
   "name": "python3"
  },
  "language_info": {
   "codemirror_mode": {
    "name": "ipython",
    "version": 3
   },
   "file_extension": ".py",
   "mimetype": "text/x-python",
   "name": "python",
   "nbconvert_exporter": "python",
   "pygments_lexer": "ipython3",
   "version": "3.7.3"
  }
 },
 "nbformat": 4,
 "nbformat_minor": 2
}

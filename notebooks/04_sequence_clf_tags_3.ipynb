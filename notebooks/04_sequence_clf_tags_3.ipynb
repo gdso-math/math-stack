{
 "cells": [
  {
   "cell_type": "code",
   "execution_count": 1,
   "metadata": {},
   "outputs": [],
   "source": [
    "import os\n",
    "os.environ['CUDA_VISIBLE_DEVICES'] = '1'"
   ]
  },
  {
   "cell_type": "code",
   "execution_count": 2,
   "metadata": {},
   "outputs": [],
   "source": [
    "from pathlib import Path\n",
    "import pandas as pd\n",
    "import numpy as np\n",
    "\n",
    "import tensorflow as tf\n",
    "import tensorflow.keras.layers as layers\n",
    "import tensorflow.keras.models as models\n",
    "import tensorflow.keras.preprocessing.sequence as sequence\n",
    "import tensorflow.keras.utils as utils\n",
    "\n",
    "import matplotlib.pyplot as plt\n",
    "%matplotlib inline"
   ]
  },
  {
   "cell_type": "code",
   "execution_count": 3,
   "metadata": {},
   "outputs": [
    {
     "name": "stdout",
     "output_type": "stream",
     "text": [
      "[name: \"/device:CPU:0\"\n",
      "device_type: \"CPU\"\n",
      "memory_limit: 268435456\n",
      "locality {\n",
      "}\n",
      "incarnation: 13920691353295127216\n",
      ", name: \"/device:XLA_CPU:0\"\n",
      "device_type: \"XLA_CPU\"\n",
      "memory_limit: 17179869184\n",
      "locality {\n",
      "}\n",
      "incarnation: 14319988630446084737\n",
      "physical_device_desc: \"device: XLA_CPU device\"\n",
      ", name: \"/device:GPU:0\"\n",
      "device_type: \"GPU\"\n",
      "memory_limit: 7441530880\n",
      "locality {\n",
      "  bus_id: 1\n",
      "  links {\n",
      "  }\n",
      "}\n",
      "incarnation: 14960164321369080558\n",
      "physical_device_desc: \"device: 0, name: Tesla M60, pci bus id: 0000:00:1e.0, compute capability: 5.2\"\n",
      ", name: \"/device:XLA_GPU:0\"\n",
      "device_type: \"XLA_GPU\"\n",
      "memory_limit: 17179869184\n",
      "locality {\n",
      "}\n",
      "incarnation: 1835148086764494031\n",
      "physical_device_desc: \"device: XLA_GPU device\"\n",
      "]\n"
     ]
    }
   ],
   "source": [
    "from tensorflow.python.client import device_lib\n",
    "print(device_lib.list_local_devices())"
   ]
  },
  {
   "cell_type": "code",
   "execution_count": 4,
   "metadata": {},
   "outputs": [
    {
     "name": "stderr",
     "output_type": "stream",
     "text": [
      "Using TensorFlow backend.\n",
      "WARNING: Logging before flag parsing goes to stderr.\n",
      "W0817 06:37:58.441687 140261535074048 deprecation_wrapper.py:119] From /home/mdogan/miniconda3/lib/python3.7/site-packages/keras/backend/tensorflow_backend.py:174: The name tf.get_default_session is deprecated. Please use tf.compat.v1.get_default_session instead.\n",
      "\n",
      "W0817 06:37:58.442496 140261535074048 deprecation_wrapper.py:119] From /home/mdogan/miniconda3/lib/python3.7/site-packages/keras/backend/tensorflow_backend.py:181: The name tf.ConfigProto is deprecated. Please use tf.compat.v1.ConfigProto instead.\n",
      "\n",
      "W0817 06:37:58.443126 140261535074048 deprecation_wrapper.py:119] From /home/mdogan/miniconda3/lib/python3.7/site-packages/keras/backend/tensorflow_backend.py:186: The name tf.Session is deprecated. Please use tf.compat.v1.Session instead.\n",
      "\n",
      "W0817 06:37:58.450799 140261535074048 deprecation_wrapper.py:119] From /home/mdogan/miniconda3/lib/python3.7/site-packages/keras/backend/tensorflow_backend.py:190: The name tf.global_variables is deprecated. Please use tf.compat.v1.global_variables instead.\n",
      "\n"
     ]
    },
    {
     "data": {
      "text/plain": [
       "['/job:localhost/replica:0/task:0/device:GPU:0']"
      ]
     },
     "execution_count": 4,
     "metadata": {},
     "output_type": "execute_result"
    }
   ],
   "source": [
    "from keras import backend\n",
    "backend.tensorflow_backend._get_available_gpus()"
   ]
  },
  {
   "cell_type": "code",
   "execution_count": 5,
   "metadata": {},
   "outputs": [],
   "source": [
    "#read in the csvs obtained from 03_tags_clustering\n",
    "# chem = pd.read_csv(\"../data/equation/chemistry_post_eq_tag_id.csv\", lineterminator='\\n')\n",
    "chem = pd.read_csv(\"../data/equation/chemistry_post_eq_tag_id_3.csv\", lineterminator='\\n')\n",
    "# physics = pd.read_csv(\"../data/equation/physics_post_eq_tag_id.csv\", lineterminator='\\n')\n",
    "physics = pd.read_csv(\"../data/equation/physics_post_eq_tag_id_3.csv\", lineterminator='\\n')\n",
    "# bio = pd.read_csv(\"../data/equation/biology_post_eq_tag_id.csv\", lineterminator='\\n')"
   ]
  },
  {
   "cell_type": "code",
   "execution_count": 6,
   "metadata": {},
   "outputs": [
    {
     "data": {
      "text/html": [
       "<div>\n",
       "<style scoped>\n",
       "    .dataframe tbody tr th:only-of-type {\n",
       "        vertical-align: middle;\n",
       "    }\n",
       "\n",
       "    .dataframe tbody tr th {\n",
       "        vertical-align: top;\n",
       "    }\n",
       "\n",
       "    .dataframe thead th {\n",
       "        text-align: right;\n",
       "    }\n",
       "</style>\n",
       "<table border=\"1\" class=\"dataframe\">\n",
       "  <thead>\n",
       "    <tr style=\"text-align: right;\">\n",
       "      <th></th>\n",
       "      <th>Equation</th>\n",
       "      <th>Label</th>\n",
       "      <th>Cluster_label</th>\n",
       "      <th>Id</th>\n",
       "      <th>Tags</th>\n",
       "    </tr>\n",
       "  </thead>\n",
       "  <tbody>\n",
       "    <tr>\n",
       "      <th>0</th>\n",
       "      <td>\\mathrm{NaCl}</td>\n",
       "      <td>chemistry</td>\n",
       "      <td>chemistry</td>\n",
       "      <td>2</td>\n",
       "      <td>&lt;ions&gt;&lt;crystal-structure&gt;&lt;ionic-compounds&gt;&lt;sol...</td>\n",
       "    </tr>\n",
       "    <tr>\n",
       "      <th>1</th>\n",
       "      <td>\\mathrm{Cl}</td>\n",
       "      <td>chemistry</td>\n",
       "      <td>chemistry</td>\n",
       "      <td>2</td>\n",
       "      <td>&lt;ions&gt;&lt;crystal-structure&gt;&lt;ionic-compounds&gt;&lt;sol...</td>\n",
       "    </tr>\n",
       "    <tr>\n",
       "      <th>2</th>\n",
       "      <td>\\mathrm{Cl^-}</td>\n",
       "      <td>chemistry</td>\n",
       "      <td>chemistry</td>\n",
       "      <td>2</td>\n",
       "      <td>&lt;ions&gt;&lt;crystal-structure&gt;&lt;ionic-compounds&gt;&lt;sol...</td>\n",
       "    </tr>\n",
       "    <tr>\n",
       "      <th>3</th>\n",
       "      <td>\\mathrm{Na}</td>\n",
       "      <td>chemistry</td>\n",
       "      <td>chemistry</td>\n",
       "      <td>2</td>\n",
       "      <td>&lt;ions&gt;&lt;crystal-structure&gt;&lt;ionic-compounds&gt;&lt;sol...</td>\n",
       "    </tr>\n",
       "    <tr>\n",
       "      <th>4</th>\n",
       "      <td>\\mathrm{Na^+}</td>\n",
       "      <td>chemistry</td>\n",
       "      <td>chemistry</td>\n",
       "      <td>2</td>\n",
       "      <td>&lt;ions&gt;&lt;crystal-structure&gt;&lt;ionic-compounds&gt;&lt;sol...</td>\n",
       "    </tr>\n",
       "  </tbody>\n",
       "</table>\n",
       "</div>"
      ],
      "text/plain": [
       "        Equation      Label Cluster_label  Id  \\\n",
       "0  \\mathrm{NaCl}  chemistry     chemistry   2   \n",
       "1    \\mathrm{Cl}  chemistry     chemistry   2   \n",
       "2  \\mathrm{Cl^-}  chemistry     chemistry   2   \n",
       "3    \\mathrm{Na}  chemistry     chemistry   2   \n",
       "4  \\mathrm{Na^+}  chemistry     chemistry   2   \n",
       "\n",
       "                                                Tags  \n",
       "0  <ions><crystal-structure><ionic-compounds><sol...  \n",
       "1  <ions><crystal-structure><ionic-compounds><sol...  \n",
       "2  <ions><crystal-structure><ionic-compounds><sol...  \n",
       "3  <ions><crystal-structure><ionic-compounds><sol...  \n",
       "4  <ions><crystal-structure><ionic-compounds><sol...  "
      ]
     },
     "execution_count": 6,
     "metadata": {},
     "output_type": "execute_result"
    }
   ],
   "source": [
    "# df = pd.concat([chem, physics, bio], ignore_index=True)\n",
    "df = pd.concat([chem, physics], ignore_index=True)\n",
    "df.head()"
   ]
  },
  {
   "cell_type": "code",
   "execution_count": 7,
   "metadata": {},
   "outputs": [],
   "source": [
    "df = df[df['Cluster_label'] != 'physics-everything-else']"
   ]
  },
  {
   "cell_type": "code",
   "execution_count": 8,
   "metadata": {},
   "outputs": [],
   "source": [
    "# df = df[df.apply(lambda row: len(row.Equation) > 3, axis = 1)]"
   ]
  },
  {
   "cell_type": "code",
   "execution_count": 9,
   "metadata": {},
   "outputs": [
    {
     "data": {
      "text/plain": [
       "397812"
      ]
     },
     "execution_count": 9,
     "metadata": {},
     "output_type": "execute_result"
    }
   ],
   "source": [
    "df.shape[0]"
   ]
  },
  {
   "cell_type": "code",
   "execution_count": 10,
   "metadata": {},
   "outputs": [
    {
     "data": {
      "text/plain": [
       "107"
      ]
     },
     "execution_count": 10,
     "metadata": {},
     "output_type": "execute_result"
    }
   ],
   "source": [
    "len(df[df['Equation'].isnull()])"
   ]
  },
  {
   "cell_type": "code",
   "execution_count": 11,
   "metadata": {},
   "outputs": [],
   "source": [
    "df.dropna(subset = ['Equation'], inplace = True)"
   ]
  },
  {
   "cell_type": "code",
   "execution_count": 12,
   "metadata": {},
   "outputs": [
    {
     "data": {
      "text/plain": [
       "397705"
      ]
     },
     "execution_count": 12,
     "metadata": {},
     "output_type": "execute_result"
    }
   ],
   "source": [
    "df.shape[0]"
   ]
  },
  {
   "cell_type": "code",
   "execution_count": 13,
   "metadata": {},
   "outputs": [],
   "source": [
    "df.rename(columns={\"Label\": \"Source\"}, inplace = True)"
   ]
  },
  {
   "cell_type": "code",
   "execution_count": 14,
   "metadata": {},
   "outputs": [],
   "source": [
    "def split_data(df, frac=0.1):\n",
    "    \"\"\"\n",
    "    Split the data by the post id.\n",
    "    Equations from the same post will be in the same set.\n",
    "    \"\"\"\n",
    "    split_by = df.Id\n",
    "    post_ids = df.Id.unique()\n",
    "    N = len(post_ids)\n",
    "    \n",
    "    test_posts = np.random.choice(post_ids, int(N * frac))\n",
    "    n_test = len(test_posts)\n",
    "    test_condition = df.Id.isin(test_posts)\n",
    "    return df[~test_condition], df[test_condition]"
   ]
  },
  {
   "cell_type": "code",
   "execution_count": 15,
   "metadata": {},
   "outputs": [
    {
     "name": "stdout",
     "output_type": "stream",
     "text": [
      "Null Data:  0\n",
      "Training rows: 165482\n",
      "Val rows: 17313\n",
      "Test rows: 19321\n"
     ]
    }
   ],
   "source": [
    "np.random.seed(1)\n",
    "print('Null Data: ', df.Equation.isnull().sum())\n",
    "df.dropna(subset=['Equation'], inplace=True)\n",
    "df = df.drop_duplicates(subset=['Equation', 'Source', 'Cluster_label'])\n",
    "train_df, test_df = split_data(df, 0.1)\n",
    "train_df, val_df = split_data(train_df, 0.1)\n",
    "\n",
    "print(f'Training rows: {train_df.shape[0]}')\n",
    "print(f'Val rows: {val_df.shape[0]}')\n",
    "print(f'Test rows: {test_df.shape[0]}')"
   ]
  },
  {
   "cell_type": "code",
   "execution_count": 16,
   "metadata": {},
   "outputs": [
    {
     "data": {
      "text/html": [
       "<div>\n",
       "<style scoped>\n",
       "    .dataframe tbody tr th:only-of-type {\n",
       "        vertical-align: middle;\n",
       "    }\n",
       "\n",
       "    .dataframe tbody tr th {\n",
       "        vertical-align: top;\n",
       "    }\n",
       "\n",
       "    .dataframe thead th {\n",
       "        text-align: right;\n",
       "    }\n",
       "</style>\n",
       "<table border=\"1\" class=\"dataframe\">\n",
       "  <thead>\n",
       "    <tr style=\"text-align: right;\">\n",
       "      <th></th>\n",
       "      <th>Equation</th>\n",
       "      <th>Source</th>\n",
       "      <th>Cluster_label</th>\n",
       "      <th>Id</th>\n",
       "      <th>Tags</th>\n",
       "    </tr>\n",
       "  </thead>\n",
       "  <tbody>\n",
       "    <tr>\n",
       "      <th>0</th>\n",
       "      <td>\\mathrm{NaCl}</td>\n",
       "      <td>chemistry</td>\n",
       "      <td>chemistry</td>\n",
       "      <td>2</td>\n",
       "      <td>&lt;ions&gt;&lt;crystal-structure&gt;&lt;ionic-compounds&gt;&lt;sol...</td>\n",
       "    </tr>\n",
       "    <tr>\n",
       "      <th>1</th>\n",
       "      <td>\\mathrm{Cl}</td>\n",
       "      <td>chemistry</td>\n",
       "      <td>chemistry</td>\n",
       "      <td>2</td>\n",
       "      <td>&lt;ions&gt;&lt;crystal-structure&gt;&lt;ionic-compounds&gt;&lt;sol...</td>\n",
       "    </tr>\n",
       "    <tr>\n",
       "      <th>2</th>\n",
       "      <td>\\mathrm{Cl^-}</td>\n",
       "      <td>chemistry</td>\n",
       "      <td>chemistry</td>\n",
       "      <td>2</td>\n",
       "      <td>&lt;ions&gt;&lt;crystal-structure&gt;&lt;ionic-compounds&gt;&lt;sol...</td>\n",
       "    </tr>\n",
       "    <tr>\n",
       "      <th>3</th>\n",
       "      <td>\\mathrm{Na}</td>\n",
       "      <td>chemistry</td>\n",
       "      <td>chemistry</td>\n",
       "      <td>2</td>\n",
       "      <td>&lt;ions&gt;&lt;crystal-structure&gt;&lt;ionic-compounds&gt;&lt;sol...</td>\n",
       "    </tr>\n",
       "    <tr>\n",
       "      <th>4</th>\n",
       "      <td>\\mathrm{Na^+}</td>\n",
       "      <td>chemistry</td>\n",
       "      <td>chemistry</td>\n",
       "      <td>2</td>\n",
       "      <td>&lt;ions&gt;&lt;crystal-structure&gt;&lt;ionic-compounds&gt;&lt;sol...</td>\n",
       "    </tr>\n",
       "  </tbody>\n",
       "</table>\n",
       "</div>"
      ],
      "text/plain": [
       "        Equation     Source Cluster_label  Id  \\\n",
       "0  \\mathrm{NaCl}  chemistry     chemistry   2   \n",
       "1    \\mathrm{Cl}  chemistry     chemistry   2   \n",
       "2  \\mathrm{Cl^-}  chemistry     chemistry   2   \n",
       "3    \\mathrm{Na}  chemistry     chemistry   2   \n",
       "4  \\mathrm{Na^+}  chemistry     chemistry   2   \n",
       "\n",
       "                                                Tags  \n",
       "0  <ions><crystal-structure><ionic-compounds><sol...  \n",
       "1  <ions><crystal-structure><ionic-compounds><sol...  \n",
       "2  <ions><crystal-structure><ionic-compounds><sol...  \n",
       "3  <ions><crystal-structure><ionic-compounds><sol...  \n",
       "4  <ions><crystal-structure><ionic-compounds><sol...  "
      ]
     },
     "execution_count": 16,
     "metadata": {},
     "output_type": "execute_result"
    }
   ],
   "source": [
    "train_df.head()"
   ]
  },
  {
   "cell_type": "code",
   "execution_count": 17,
   "metadata": {},
   "outputs": [],
   "source": [
    "class Tokenizer:\n",
    "    \"\"\"Convert chars to ints\"\"\"\n",
    "    def __init__(self):\n",
    "        self.UNK = '<UNK>'  # Unknown\n",
    "        self.BOS = '<BOS>'  # Begin of string\n",
    "        self.EOS = '<EOS>'  # End of string\n",
    "        self.PAD = '<PAD>'  # Padding\n",
    "        self.char_to_idx = dict()\n",
    "        self.idx_to_char = dict()\n",
    "        self.vocab = []\n",
    "        \n",
    "        self.specials = [self.PAD, self.BOS, self.EOS, self.UNK]\n",
    "        for c in self.specials: self.add(c)\n",
    "        \n",
    "    \n",
    "    def __getitem__(self, c: str):\n",
    "        try:\n",
    "            return self.char_to_idx[c]\n",
    "        except KeyError:\n",
    "            return self.char_to_idx[self.UNK]\n",
    "    \n",
    "    def fit(self, sequences):\n",
    "        \"\"\"Create the vocab from a sequence of strings\"\"\"\n",
    "        chars = set.union(*map(set, sequences))\n",
    "        for char in chars: self.add(char)\n",
    "\n",
    "    def add(self, c: str):\n",
    "        \"\"\"Add the character if its not in the vocab, else do nothing\"\"\"\n",
    "        if self.char_to_idx.get(c) is None:\n",
    "            self.char_to_idx[c] = len(self.vocab)\n",
    "            self.idx_to_char[len(self.vocab)] = c\n",
    "            self.vocab.append(c)\n",
    "        return len(self.vocab)\n",
    "\n",
    "    \n",
    "def encode_sequence(seq, tokenizer):\n",
    "    return [tokenizer[tokenizer.BOS]] + [tokenizer[c] for c in seq] + [tokenizer[tokenizer.EOS]]"
   ]
  },
  {
   "cell_type": "code",
   "execution_count": 18,
   "metadata": {},
   "outputs": [
    {
     "name": "stderr",
     "output_type": "stream",
     "text": [
      "/home/mdogan/miniconda3/lib/python3.7/site-packages/ipykernel_launcher.py:7: SettingWithCopyWarning: \n",
      "A value is trying to be set on a copy of a slice from a DataFrame.\n",
      "Try using .loc[row_indexer,col_indexer] = value instead\n",
      "\n",
      "See the caveats in the documentation: http://pandas.pydata.org/pandas-docs/stable/user_guide/indexing.html#returning-a-view-versus-a-copy\n",
      "  import sys\n",
      "/home/mdogan/miniconda3/lib/python3.7/site-packages/ipykernel_launcher.py:11: SettingWithCopyWarning: \n",
      "A value is trying to be set on a copy of a slice from a DataFrame.\n",
      "Try using .loc[row_indexer,col_indexer] = value instead\n",
      "\n",
      "See the caveats in the documentation: http://pandas.pydata.org/pandas-docs/stable/user_guide/indexing.html#returning-a-view-versus-a-copy\n",
      "  # This is added back by InteractiveShellApp.init_path()\n",
      "/home/mdogan/miniconda3/lib/python3.7/site-packages/ipykernel_launcher.py:18: SettingWithCopyWarning: \n",
      "A value is trying to be set on a copy of a slice from a DataFrame.\n",
      "Try using .loc[row_indexer,col_indexer] = value instead\n",
      "\n",
      "See the caveats in the documentation: http://pandas.pydata.org/pandas-docs/stable/user_guide/indexing.html#returning-a-view-versus-a-copy\n"
     ]
    }
   ],
   "source": [
    "tokenizer = Tokenizer()\n",
    "tokenizer.fit(train_df.Equation)\n",
    "\n",
    "# convert string to list of int\n",
    "train_df['seq'] = train_df.Equation.apply(encode_sequence, args=(tokenizer,))\n",
    "val_df['seq'] = val_df.Equation.apply(encode_sequence, args=(tokenizer,))\n",
    "test_df['seq'] = test_df.Equation.apply(encode_sequence, args=(tokenizer,))\n",
    "\n",
    "train_df['length'] = train_df.seq.apply(len)\n",
    "val_df['length'] = val_df.seq.apply(len)\n",
    "test_df['length'] = test_df.seq.apply(len)\n",
    "\n",
    "labels = train_df.Cluster_label.unique()\n",
    "label_map = {label: i for i, label in enumerate(labels)}\n",
    "\n",
    "train_df['Label'] = train_df.Cluster_label.map(label_map)\n",
    "val_df['Label'] = val_df.Cluster_label.map(label_map)\n",
    "test_df['Label'] = test_df.Cluster_label.map(label_map)\n"
   ]
  },
  {
   "cell_type": "code",
   "execution_count": 19,
   "metadata": {},
   "outputs": [
    {
     "data": {
      "text/plain": [
       "[1, 18, 62, 132, 180, 2]"
      ]
     },
     "execution_count": 19,
     "metadata": {},
     "output_type": "execute_result"
    }
   ],
   "source": [
    "encode_sequence('1234', tokenizer)"
   ]
  },
  {
   "cell_type": "code",
   "execution_count": 20,
   "metadata": {},
   "outputs": [
    {
     "data": {
      "text/plain": [
       "180"
      ]
     },
     "execution_count": 20,
     "metadata": {},
     "output_type": "execute_result"
    }
   ],
   "source": [
    "tokenizer['4']"
   ]
  },
  {
   "cell_type": "code",
   "execution_count": 21,
   "metadata": {},
   "outputs": [
    {
     "data": {
      "text/plain": [
       "292"
      ]
     },
     "execution_count": 21,
     "metadata": {},
     "output_type": "execute_result"
    }
   ],
   "source": [
    "len(tokenizer.vocab)"
   ]
  },
  {
   "cell_type": "code",
   "execution_count": 22,
   "metadata": {},
   "outputs": [
    {
     "data": {
      "text/plain": [
       "{'chemistry': 0,\n",
       " 'physics-homework-exercises': 1,\n",
       " 'physics-quantum-mechanics': 2,\n",
       " 'physics-field-theory': 3}"
      ]
     },
     "execution_count": 22,
     "metadata": {},
     "output_type": "execute_result"
    }
   ],
   "source": [
    "label_map"
   ]
  },
  {
   "cell_type": "code",
   "execution_count": 23,
   "metadata": {},
   "outputs": [
    {
     "data": {
      "text/html": [
       "<div>\n",
       "<style scoped>\n",
       "    .dataframe tbody tr th:only-of-type {\n",
       "        vertical-align: middle;\n",
       "    }\n",
       "\n",
       "    .dataframe tbody tr th {\n",
       "        vertical-align: top;\n",
       "    }\n",
       "\n",
       "    .dataframe thead th {\n",
       "        text-align: right;\n",
       "    }\n",
       "</style>\n",
       "<table border=\"1\" class=\"dataframe\">\n",
       "  <thead>\n",
       "    <tr style=\"text-align: right;\">\n",
       "      <th></th>\n",
       "      <th>Equation</th>\n",
       "      <th>Source</th>\n",
       "      <th>Cluster_label</th>\n",
       "      <th>Id</th>\n",
       "      <th>Tags</th>\n",
       "      <th>seq</th>\n",
       "      <th>length</th>\n",
       "      <th>Label</th>\n",
       "    </tr>\n",
       "  </thead>\n",
       "  <tbody>\n",
       "    <tr>\n",
       "      <th>6695</th>\n",
       "      <td>i = 2</td>\n",
       "      <td>chemistry</td>\n",
       "      <td>chemistry</td>\n",
       "      <td>5065</td>\n",
       "      <td>NaN</td>\n",
       "      <td>[1, 57, 84, 202, 84, 62, 2]</td>\n",
       "      <td>7</td>\n",
       "      <td>0</td>\n",
       "    </tr>\n",
       "    <tr>\n",
       "      <th>225979</th>\n",
       "      <td>t = -2 \\int^{x}_{x_0} \\frac{dx}{ln|x|}</td>\n",
       "      <td>physics</td>\n",
       "      <td>physics-homework-exercises</td>\n",
       "      <td>45715</td>\n",
       "      <td>&lt;homework-and-exercises&gt;&lt;newtonian-mechanics&gt;&lt;...</td>\n",
       "      <td>[1, 31, 84, 202, 84, 15, 62, 84, 46, 57, 4, 31...</td>\n",
       "      <td>40</td>\n",
       "      <td>1</td>\n",
       "    </tr>\n",
       "    <tr>\n",
       "      <th>296783</th>\n",
       "      <td>imply</td>\n",
       "      <td>physics</td>\n",
       "      <td>physics-quantum-mechanics</td>\n",
       "      <td>129037</td>\n",
       "      <td>&lt;quantum-mechanics&gt;&lt;operators&gt;&lt;momentum&gt;&lt;hilbe...</td>\n",
       "      <td>[1, 84, 57, 108, 204, 139, 167, 84, 2]</td>\n",
       "      <td>9</td>\n",
       "      <td>2</td>\n",
       "    </tr>\n",
       "    <tr>\n",
       "      <th>611846</th>\n",
       "      <td>k=\\frac {\\sqrt {2mE}}{\\hbar}</td>\n",
       "      <td>physics</td>\n",
       "      <td>physics-quantum-mechanics</td>\n",
       "      <td>458203</td>\n",
       "      <td>&lt;quantum-mechanics&gt;&lt;potential&gt;&lt;schroedinger-eq...</td>\n",
       "      <td>[1, 194, 202, 46, 157, 181, 61, 195, 84, 170, ...</td>\n",
       "      <td>30</td>\n",
       "      <td>2</td>\n",
       "    </tr>\n",
       "    <tr>\n",
       "      <th>48013</th>\n",
       "      <td>\\ce{2H2O_{(aq)} -&amp;gt;2H2_{(g)} +O2_{(g)}}~~~~\\...</td>\n",
       "      <td>chemistry</td>\n",
       "      <td>chemistry</td>\n",
       "      <td>29475</td>\n",
       "      <td>NaN</td>\n",
       "      <td>[1, 46, 195, 155, 170, 62, 55, 62, 107, 102, 1...</td>\n",
       "      <td>77</td>\n",
       "      <td>0</td>\n",
       "    </tr>\n",
       "    <tr>\n",
       "      <th>364448</th>\n",
       "      <td>for a general</td>\n",
       "      <td>physics</td>\n",
       "      <td>physics-homework-exercises</td>\n",
       "      <td>209545</td>\n",
       "      <td>&lt;homework-and-exercises&gt;&lt;special-relativity&gt;&lt;t...</td>\n",
       "      <td>[1, 84, 157, 162, 181, 84, 61, 84, 258, 155, 4...</td>\n",
       "      <td>17</td>\n",
       "      <td>1</td>\n",
       "    </tr>\n",
       "    <tr>\n",
       "      <th>31498</th>\n",
       "      <td>d\\rho</td>\n",
       "      <td>chemistry</td>\n",
       "      <td>chemistry</td>\n",
       "      <td>18418</td>\n",
       "      <td>NaN</td>\n",
       "      <td>[1, 161, 46, 181, 227, 162, 2]</td>\n",
       "      <td>7</td>\n",
       "      <td>0</td>\n",
       "    </tr>\n",
       "    <tr>\n",
       "      <th>66211</th>\n",
       "      <td>AM^.</td>\n",
       "      <td>chemistry</td>\n",
       "      <td>chemistry</td>\n",
       "      <td>38936</td>\n",
       "      <td>NaN</td>\n",
       "      <td>[1, 274, 7, 11, 97, 2]</td>\n",
       "      <td>6</td>\n",
       "      <td>0</td>\n",
       "    </tr>\n",
       "    <tr>\n",
       "      <th>485324</th>\n",
       "      <td>\\phi =0</td>\n",
       "      <td>physics</td>\n",
       "      <td>physics-quantum-mechanics</td>\n",
       "      <td>334041</td>\n",
       "      <td>&lt;quantum-mechanics&gt;&lt;electromagnetism&gt;&lt;gauge-in...</td>\n",
       "      <td>[1, 84, 46, 204, 227, 57, 84, 202, 148, 2]</td>\n",
       "      <td>10</td>\n",
       "      <td>2</td>\n",
       "    </tr>\n",
       "    <tr>\n",
       "      <th>159993</th>\n",
       "      <td>\\ce{N2(g) + 3H2 (g) -&amp;gt; 2NH3(g)}</td>\n",
       "      <td>chemistry</td>\n",
       "      <td>chemistry</td>\n",
       "      <td>91607</td>\n",
       "      <td>&lt;equilibrium&gt;&lt;units&gt;</td>\n",
       "      <td>[1, 46, 195, 155, 170, 53, 62, 219, 258, 66, 8...</td>\n",
       "      <td>36</td>\n",
       "      <td>0</td>\n",
       "    </tr>\n",
       "  </tbody>\n",
       "</table>\n",
       "</div>"
      ],
      "text/plain": [
       "                                                 Equation     Source  \\\n",
       "6695                                                i = 2  chemistry   \n",
       "225979             t = -2 \\int^{x}_{x_0} \\frac{dx}{ln|x|}    physics   \n",
       "296783                                             imply     physics   \n",
       "611846                       k=\\frac {\\sqrt {2mE}}{\\hbar}    physics   \n",
       "48013   \\ce{2H2O_{(aq)} -&gt;2H2_{(g)} +O2_{(g)}}~~~~\\...  chemistry   \n",
       "364448                                     for a general     physics   \n",
       "31498                                               d\\rho  chemistry   \n",
       "66211                                                AM^.  chemistry   \n",
       "485324                                            \\phi =0    physics   \n",
       "159993                 \\ce{N2(g) + 3H2 (g) -&gt; 2NH3(g)}  chemistry   \n",
       "\n",
       "                     Cluster_label      Id  \\\n",
       "6695                     chemistry    5065   \n",
       "225979  physics-homework-exercises   45715   \n",
       "296783   physics-quantum-mechanics  129037   \n",
       "611846   physics-quantum-mechanics  458203   \n",
       "48013                    chemistry   29475   \n",
       "364448  physics-homework-exercises  209545   \n",
       "31498                    chemistry   18418   \n",
       "66211                    chemistry   38936   \n",
       "485324   physics-quantum-mechanics  334041   \n",
       "159993                   chemistry   91607   \n",
       "\n",
       "                                                     Tags  \\\n",
       "6695                                                  NaN   \n",
       "225979  <homework-and-exercises><newtonian-mechanics><...   \n",
       "296783  <quantum-mechanics><operators><momentum><hilbe...   \n",
       "611846  <quantum-mechanics><potential><schroedinger-eq...   \n",
       "48013                                                 NaN   \n",
       "364448  <homework-and-exercises><special-relativity><t...   \n",
       "31498                                                 NaN   \n",
       "66211                                                 NaN   \n",
       "485324  <quantum-mechanics><electromagnetism><gauge-in...   \n",
       "159993                               <equilibrium><units>   \n",
       "\n",
       "                                                      seq  length  Label  \n",
       "6695                          [1, 57, 84, 202, 84, 62, 2]       7      0  \n",
       "225979  [1, 31, 84, 202, 84, 15, 62, 84, 46, 57, 4, 31...      40      1  \n",
       "296783             [1, 84, 57, 108, 204, 139, 167, 84, 2]       9      2  \n",
       "611846  [1, 194, 202, 46, 157, 181, 61, 195, 84, 170, ...      30      2  \n",
       "48013   [1, 46, 195, 155, 170, 62, 55, 62, 107, 102, 1...      77      0  \n",
       "364448  [1, 84, 157, 162, 181, 84, 61, 84, 258, 155, 4...      17      1  \n",
       "31498                      [1, 161, 46, 181, 227, 162, 2]       7      0  \n",
       "66211                              [1, 274, 7, 11, 97, 2]       6      0  \n",
       "485324         [1, 84, 46, 204, 227, 57, 84, 202, 148, 2]      10      2  \n",
       "159993  [1, 46, 195, 155, 170, 53, 62, 219, 258, 66, 8...      36      0  "
      ]
     },
     "execution_count": 23,
     "metadata": {},
     "output_type": "execute_result"
    }
   ],
   "source": [
    "train_df.sample(10)"
   ]
  },
  {
   "cell_type": "code",
   "execution_count": 24,
   "metadata": {},
   "outputs": [],
   "source": [
    "class DataGenerator(utils.Sequence):\n",
    "    def __init__(self, df, batch_size: int = 32, shuffle: bool = False, weight: bool = False, n_class: int = 3):\n",
    "        self.df = df\n",
    "        self.batch_size = batch_size\n",
    "        self.shuffle = shuffle\n",
    "        self.weight = weight\n",
    "        self.n_class = n_class\n",
    "        self.class_weight =  self.compute_class_weight(self.n_class) if self.weight else np.ones((self.n_class,))\n",
    "        \n",
    "        if self.shuffle:\n",
    "            self.df = self.df.sample(frac=1)\n",
    "            \n",
    "\n",
    "    def get_data_at_index(self, batch_idx):\n",
    "        offset = self.batch_size * batch_idx\n",
    "        return self.df.iloc[offset: offset+self.batch_size]\n",
    "    \n",
    "    def __getitem__(self, batch_idx: int):\n",
    "        batch = self.get_data_at_index(batch_idx)\n",
    "        if self.shuffle:\n",
    "            batch = batch.sample(frac=1)\n",
    "\n",
    "        X = sequence.pad_sequences(\n",
    "            batch.seq,\n",
    "            maxlen=min( max(batch.length), 32),\n",
    "            truncating='post',\n",
    "        )\n",
    "        Y = batch.Label.values\n",
    "        w = np.array([self.class_weight[label] for label in Y])\n",
    "        return X, Y, w\n",
    "    \n",
    "    def on_epoch_end(self):\n",
    "        if self.shuffle:\n",
    "            self.df = self.df.sample(frac=1)\n",
    "            \n",
    "    def __len__(self):\n",
    "        return int(np.ceil( self.df.shape[0] / self.batch_size ))\n",
    "    \n",
    "    def compute_class_weight(self, n_classes):\n",
    "        n_samples = self.df.shape[0]\n",
    "        return n_samples / (n_classes * np.bincount(self.df.Label.values))\n"
   ]
  },
  {
   "cell_type": "code",
   "execution_count": 25,
   "metadata": {},
   "outputs": [],
   "source": [
    "class Mask(layers.Layer):\n",
    "    def call(self, inputs):\n",
    "        value = tf.cast(0, dtype=inputs.dtype)\n",
    "        is_zero = tf.equal(inputs, value)\n",
    "        return tf.cast(tf.logical_not(is_zero), tf.float32)\n",
    "\n",
    "        \n",
    "class ApplyMask(layers.Layer):\n",
    "    def call(self, inputs):\n",
    "        data, mask = inputs\n",
    "        mask = tf.expand_dims(mask, axis=-1)  # (N, T, 1)\n",
    "        return tf.multiply(data, mask)"
   ]
  },
  {
   "cell_type": "code",
   "execution_count": 26,
   "metadata": {},
   "outputs": [],
   "source": [
    "def clf_model(tokenizer, emb, n_kernels, kernel_width, n_class):\n",
    "    \n",
    "    # define layers\n",
    "    input = layers.Input(batch_shape=(None, None))  # (N, T)\n",
    "    embedding_layer = layers.Embedding(len(tokenizer.vocab), emb, mask_zero=False, name='embedding')  # (N, T, emb)\n",
    "    mask_layer = Mask(name='mask')  # (N, T)\n",
    "    conv_layer = layers.Conv1D(\n",
    "        n_kernels, kernel_width, \n",
    "        activation='tanh',\n",
    "        kernel_initializer='he_normal',\n",
    "        padding='same',\n",
    "        name='conv'\n",
    "    )  # (N, T, n_kernels), selects 3-grams\n",
    "    apply_mask_layer = ApplyMask(name='apply_mask')  # (N, T, n_kernels), zero the timesteps that were padding\n",
    "    rnn_layer = layers.LSTM(n_kernels, name='rnn') # (N, e)\n",
    "    softmax_layer = layers.Dense(n_class, activation='softmax', name='output')\n",
    "    \n",
    "    # call layers\n",
    "    embedding = embedding_layer(input)\n",
    "    mask = mask_layer(input)\n",
    "    conv = conv_layer(embedding)\n",
    "    conv = apply_mask_layer([conv, mask])\n",
    "    encoded = rnn_layer(conv)\n",
    "    output = softmax_layer(encoded)\n",
    "    model = models.Model(input, output)\n",
    "    return model\n",
    "    \n",
    "def compile_model(model):\n",
    "    model.compile(\n",
    "        loss='sparse_categorical_crossentropy',\n",
    "        optimizer='adam',\n",
    "        metrics=['sparse_categorical_accuracy']\n",
    "    )\n"
   ]
  },
  {
   "cell_type": "code",
   "execution_count": 21,
   "metadata": {},
   "outputs": [],
   "source": [
    "# ensure balanced classes\n",
    "# N_train = train_df.groupby('source').count().values.min()\n",
    "# N_val = val_df.groupby('source').count().values.min()\n",
    "\n",
    "# small_df = pd.concat([train_df[train_df.label==l].sample(N_train, replace=False) for l in range(3)])\n",
    "# small_val_df = pd.concat([val_df[val_df.label==l].sample(N_val, replace=False) for l in range(3)])\n"
   ]
  },
  {
   "cell_type": "markdown",
   "metadata": {},
   "source": [
    "# model3 (only equations with an equal sign): clustersize = 4, batch_size = 1024, emb = 32, n_kernels = 128, kernel_width = 3, epochs = 16"
   ]
  },
  {
   "cell_type": "code",
   "execution_count": 27,
   "metadata": {},
   "outputs": [],
   "source": [
    "batch_size = 1024\n",
    "n_class = 4\n",
    "train_dg = DataGenerator(train_df, batch_size=batch_size, shuffle=True, weight=True, n_class = n_class)\n",
    "val_dg = DataGenerator(val_df, batch_size=batch_size, shuffle=False, weight=False, n_class = n_class)"
   ]
  },
  {
   "cell_type": "code",
   "execution_count": 28,
   "metadata": {},
   "outputs": [],
   "source": [
    "emb = 32\n",
    "n_kernels = 128\n",
    "kernel_width = 3"
   ]
  },
  {
   "cell_type": "code",
   "execution_count": 29,
   "metadata": {},
   "outputs": [
    {
     "name": "stderr",
     "output_type": "stream",
     "text": [
      "W0817 06:40:33.939080 140261535074048 deprecation.py:506] From /home/mdogan/miniconda3/lib/python3.7/site-packages/tensorflow/python/keras/initializers.py:119: calling RandomUniform.__init__ (from tensorflow.python.ops.init_ops) with dtype is deprecated and will be removed in a future version.\n",
      "Instructions for updating:\n",
      "Call initializer instance with the dtype argument instead of passing it to the constructor\n",
      "W0817 06:40:33.941843 140261535074048 deprecation.py:506] From /home/mdogan/miniconda3/lib/python3.7/site-packages/tensorflow/python/ops/init_ops.py:1251: calling VarianceScaling.__init__ (from tensorflow.python.ops.init_ops) with dtype is deprecated and will be removed in a future version.\n",
      "Instructions for updating:\n",
      "Call initializer instance with the dtype argument instead of passing it to the constructor\n"
     ]
    },
    {
     "name": "stdout",
     "output_type": "stream",
     "text": [
      "Model: \"model\"\n",
      "__________________________________________________________________________________________________\n",
      "Layer (type)                    Output Shape         Param #     Connected to                     \n",
      "==================================================================================================\n",
      "input_1 (InputLayer)            [(None, None)]       0                                            \n",
      "__________________________________________________________________________________________________\n",
      "embedding (Embedding)           (None, None, 32)     9344        input_1[0][0]                    \n",
      "__________________________________________________________________________________________________\n",
      "conv (Conv1D)                   (None, None, 128)    12416       embedding[0][0]                  \n",
      "__________________________________________________________________________________________________\n",
      "mask (Mask)                     (None, None)         0           input_1[0][0]                    \n",
      "__________________________________________________________________________________________________\n",
      "apply_mask (ApplyMask)          (None, None, 128)    0           conv[0][0]                       \n",
      "                                                                 mask[0][0]                       \n",
      "__________________________________________________________________________________________________\n",
      "rnn (LSTM)                      (None, 128)          131584      apply_mask[0][0]                 \n",
      "__________________________________________________________________________________________________\n",
      "output (Dense)                  (None, 4)            516         rnn[0][0]                        \n",
      "==================================================================================================\n",
      "Total params: 153,860\n",
      "Trainable params: 153,860\n",
      "Non-trainable params: 0\n",
      "__________________________________________________________________________________________________\n",
      "None\n"
     ]
    }
   ],
   "source": [
    "model = clf_model(tokenizer, emb, n_kernels, kernel_width, n_class)  # initialize the weights\n",
    "compile_model(model)  # set the loss fn and optimizer\n",
    "print(model.summary())  # check the number of parameters\n"
   ]
  },
  {
   "cell_type": "code",
   "execution_count": 30,
   "metadata": {},
   "outputs": [],
   "source": [
    "model.save('../result/model/model4_cluster4_epoch32.h5')"
   ]
  },
  {
   "cell_type": "code",
   "execution_count": 31,
   "metadata": {},
   "outputs": [
    {
     "name": "stdout",
     "output_type": "stream",
     "text": [
      "Epoch 1/32\n"
     ]
    },
    {
     "name": "stderr",
     "output_type": "stream",
     "text": [
      "W0817 06:40:58.477077 140261535074048 deprecation.py:323] From /home/mdogan/miniconda3/lib/python3.7/site-packages/tensorflow/python/ops/math_grad.py:1250: add_dispatch_support.<locals>.wrapper (from tensorflow.python.ops.array_ops) is deprecated and will be removed in a future version.\n",
      "Instructions for updating:\n",
      "Use tf.where in 2.0, which has the same broadcast rule as np.where\n"
     ]
    },
    {
     "name": "stdout",
     "output_type": "stream",
     "text": [
      "162/162 [==============================] - 12s 75ms/step - loss: 1.1157 - sparse_categorical_accuracy: 0.5215 - val_loss: 0.9896 - val_sparse_categorical_accuracy: 0.5699\n",
      "Epoch 2/32\n",
      "162/162 [==============================] - 9s 53ms/step - loss: 1.0044 - sparse_categorical_accuracy: 0.5858 - val_loss: 0.9400 - val_sparse_categorical_accuracy: 0.5916\n",
      "Epoch 3/32\n",
      "162/162 [==============================] - 9s 53ms/step - loss: 0.9636 - sparse_categorical_accuracy: 0.6060 - val_loss: 0.9268 - val_sparse_categorical_accuracy: 0.5952\n",
      "Epoch 4/32\n",
      "162/162 [==============================] - 9s 53ms/step - loss: 0.9297 - sparse_categorical_accuracy: 0.6227 - val_loss: 0.8780 - val_sparse_categorical_accuracy: 0.6188\n",
      "Epoch 5/32\n",
      "162/162 [==============================] - 9s 53ms/step - loss: 0.9063 - sparse_categorical_accuracy: 0.6349 - val_loss: 0.8720 - val_sparse_categorical_accuracy: 0.6228\n",
      "Epoch 6/32\n",
      "162/162 [==============================] - 9s 53ms/step - loss: 0.8876 - sparse_categorical_accuracy: 0.6442 - val_loss: 0.8737 - val_sparse_categorical_accuracy: 0.6313\n",
      "Epoch 7/32\n",
      "162/162 [==============================] - 9s 53ms/step - loss: 0.8711 - sparse_categorical_accuracy: 0.6526 - val_loss: 0.8582 - val_sparse_categorical_accuracy: 0.6335\n",
      "Epoch 8/32\n",
      "162/162 [==============================] - 9s 53ms/step - loss: 0.8532 - sparse_categorical_accuracy: 0.6604 - val_loss: 0.8423 - val_sparse_categorical_accuracy: 0.6484\n",
      "Epoch 9/32\n",
      "162/162 [==============================] - 9s 54ms/step - loss: 0.8384 - sparse_categorical_accuracy: 0.6663 - val_loss: 0.8203 - val_sparse_categorical_accuracy: 0.6579\n",
      "Epoch 10/32\n",
      "162/162 [==============================] - 9s 53ms/step - loss: 0.8237 - sparse_categorical_accuracy: 0.6728 - val_loss: 0.8151 - val_sparse_categorical_accuracy: 0.6617\n",
      "Epoch 11/32\n",
      "162/162 [==============================] - 9s 53ms/step - loss: 0.8081 - sparse_categorical_accuracy: 0.6807 - val_loss: 0.8130 - val_sparse_categorical_accuracy: 0.6612\n",
      "Epoch 12/32\n",
      "162/162 [==============================] - 9s 53ms/step - loss: 0.7950 - sparse_categorical_accuracy: 0.6863 - val_loss: 0.8150 - val_sparse_categorical_accuracy: 0.6621\n",
      "Epoch 13/32\n",
      "162/162 [==============================] - 9s 53ms/step - loss: 0.7818 - sparse_categorical_accuracy: 0.6918 - val_loss: 0.8122 - val_sparse_categorical_accuracy: 0.6598\n",
      "Epoch 14/32\n",
      "162/162 [==============================] - 9s 54ms/step - loss: 0.7670 - sparse_categorical_accuracy: 0.6979 - val_loss: 0.8119 - val_sparse_categorical_accuracy: 0.6646\n",
      "Epoch 15/32\n",
      "162/162 [==============================] - 9s 54ms/step - loss: 0.7535 - sparse_categorical_accuracy: 0.7044 - val_loss: 0.8035 - val_sparse_categorical_accuracy: 0.6662\n",
      "Epoch 16/32\n",
      "162/162 [==============================] - 9s 53ms/step - loss: 0.7401 - sparse_categorical_accuracy: 0.7089 - val_loss: 0.7900 - val_sparse_categorical_accuracy: 0.6717\n",
      "Epoch 17/32\n",
      "162/162 [==============================] - 9s 54ms/step - loss: 0.7251 - sparse_categorical_accuracy: 0.7158 - val_loss: 0.8016 - val_sparse_categorical_accuracy: 0.6647\n",
      "Epoch 18/32\n",
      "162/162 [==============================] - 9s 54ms/step - loss: 0.7123 - sparse_categorical_accuracy: 0.7203 - val_loss: 0.7980 - val_sparse_categorical_accuracy: 0.6707\n",
      "Epoch 19/32\n",
      "162/162 [==============================] - 9s 53ms/step - loss: 0.6995 - sparse_categorical_accuracy: 0.7260 - val_loss: 0.8054 - val_sparse_categorical_accuracy: 0.6719\n",
      "Epoch 20/32\n",
      "162/162 [==============================] - 9s 53ms/step - loss: 0.6839 - sparse_categorical_accuracy: 0.7327 - val_loss: 0.8141 - val_sparse_categorical_accuracy: 0.6742\n",
      "Epoch 21/32\n",
      "162/162 [==============================] - 9s 54ms/step - loss: 0.6714 - sparse_categorical_accuracy: 0.7372 - val_loss: 0.8237 - val_sparse_categorical_accuracy: 0.6660\n",
      "Epoch 22/32\n",
      "162/162 [==============================] - 9s 53ms/step - loss: 0.6577 - sparse_categorical_accuracy: 0.7422 - val_loss: 0.8096 - val_sparse_categorical_accuracy: 0.6733\n",
      "Epoch 23/32\n",
      "162/162 [==============================] - 9s 53ms/step - loss: 0.6445 - sparse_categorical_accuracy: 0.7470 - val_loss: 0.8233 - val_sparse_categorical_accuracy: 0.6737\n",
      "Epoch 24/32\n",
      "162/162 [==============================] - 9s 53ms/step - loss: 0.6318 - sparse_categorical_accuracy: 0.7523 - val_loss: 0.8209 - val_sparse_categorical_accuracy: 0.6753\n",
      "Epoch 25/32\n",
      "162/162 [==============================] - 9s 53ms/step - loss: 0.6190 - sparse_categorical_accuracy: 0.7566 - val_loss: 0.8346 - val_sparse_categorical_accuracy: 0.6720\n",
      "Epoch 26/32\n",
      "162/162 [==============================] - 9s 54ms/step - loss: 0.6079 - sparse_categorical_accuracy: 0.7612 - val_loss: 0.8477 - val_sparse_categorical_accuracy: 0.6683\n",
      "Epoch 27/32\n",
      "162/162 [==============================] - 9s 54ms/step - loss: 0.5945 - sparse_categorical_accuracy: 0.7664 - val_loss: 0.8673 - val_sparse_categorical_accuracy: 0.6648\n",
      "Epoch 28/32\n",
      "162/162 [==============================] - 9s 53ms/step - loss: 0.5829 - sparse_categorical_accuracy: 0.7703 - val_loss: 0.8638 - val_sparse_categorical_accuracy: 0.6745\n",
      "Epoch 29/32\n",
      "162/162 [==============================] - 9s 53ms/step - loss: 0.5697 - sparse_categorical_accuracy: 0.7750 - val_loss: 0.8930 - val_sparse_categorical_accuracy: 0.6681\n",
      "Epoch 30/32\n",
      "162/162 [==============================] - 9s 53ms/step - loss: 0.5616 - sparse_categorical_accuracy: 0.7776 - val_loss: 0.8871 - val_sparse_categorical_accuracy: 0.6656\n",
      "Epoch 31/32\n",
      "162/162 [==============================] - 9s 53ms/step - loss: 0.5508 - sparse_categorical_accuracy: 0.7811 - val_loss: 0.8901 - val_sparse_categorical_accuracy: 0.6713\n",
      "Epoch 32/32\n",
      "162/162 [==============================] - 9s 53ms/step - loss: 0.5411 - sparse_categorical_accuracy: 0.7850 - val_loss: 0.8937 - val_sparse_categorical_accuracy: 0.6700\n"
     ]
    }
   ],
   "source": [
    "history = model.fit_generator(\n",
    "    train_dg,\n",
    "    validation_data=val_dg,\n",
    "    epochs=32,\n",
    "    workers=4,\n",
    "    use_multiprocessing=True\n",
    ")"
   ]
  },
  {
   "cell_type": "code",
   "execution_count": 32,
   "metadata": {},
   "outputs": [
    {
     "data": {
      "image/png": "[encoded data removed]",
      "text/plain": [
       "<Figure size 432x288 with 1 Axes>"
      ]
     },
     "metadata": {
      "needs_background": "light"
     },
     "output_type": "display_data"
    }
   ],
   "source": [
    "%matplotlib inline\n",
    "\n",
    "plt.plot(history.history['loss'], label='training')\n",
    "plt.plot(history.history['val_loss'], label='validation')\n",
    "plt.legend()\n",
    "\n",
    "name = \"model4_cluster4_epoch32_1\"\n",
    "plt.savefig('../result/loss/' + name + '.png', dpi=200)\n",
    "\n",
    "plt.show()"
   ]
  },
  {
   "cell_type": "markdown",
   "metadata": {},
   "source": [
    "# Evaluation"
   ]
  },
  {
   "cell_type": "markdown",
   "metadata": {
    "heading_collapsed": true
   },
   "source": [
    "## evaluation tools"
   ]
  },
  {
   "cell_type": "code",
   "execution_count": 33,
   "metadata": {
    "hidden": true
   },
   "outputs": [],
   "source": [
    "import itertools\n",
    "from sklearn.metrics import confusion_matrix\n",
    "from sklearn.utils.multiclass import unique_labels\n",
    "import matplotlib.pyplot as plt\n",
    "\n",
    "%matplotlib notebook\n",
    "\n",
    "def plot_confusion_matrix(y_true, y_pred, classes, name,\n",
    "                          normalize=False,\n",
    "                          title=None,\n",
    "                          cmap=plt.cm.Blues):\n",
    "    if not title:\n",
    "        if normalize:\n",
    "            title = 'Normalized confusion matrix'\n",
    "        else:\n",
    "            title = 'Confusion matrix, without normalization'\n",
    "\n",
    "    # Compute confusion matrix\n",
    "    cm = confusion_matrix(y_true, y_pred)\n",
    "    # Only use the labels that appear in the data\n",
    "    classes = classes[unique_labels(y_true, y_pred)]\n",
    "    if normalize:\n",
    "        cm = cm.astype('float') / cm.sum(axis=1)[:, np.newaxis]\n",
    "        print(\"Normalized confusion matrix\")\n",
    "    else:\n",
    "        print('Confusion matrix, without normalization')\n",
    "\n",
    "    print(cm)\n",
    "\n",
    "    fig, ax = plt.subplots(figsize=(8, 8))\n",
    "    im = ax.imshow(cm, interpolation='nearest', cmap=cmap)\n",
    "    ax.figure.colorbar(im, ax=ax)\n",
    "    # We want to show all ticks...\n",
    "    ax.set(xticks=np.arange(cm.shape[1]),\n",
    "           yticks=np.arange(cm.shape[0]),\n",
    "           # ... and label them with the respective list entries\n",
    "           xticklabels=classes, yticklabels=classes,\n",
    "           title=title,\n",
    "           ylabel='True label',\n",
    "           xlabel='Predicted label')\n",
    "\n",
    "    # Rotate the tick labels and set their alignment.\n",
    "    plt.setp(ax.get_xticklabels(), rotation=45, ha=\"right\",\n",
    "             rotation_mode=\"anchor\")\n",
    "\n",
    "    # Loop over data dimensions and create text annotations.\n",
    "    fmt = '.2f' if normalize else 'd'\n",
    "    thresh = cm.max() / 2.\n",
    "    for i in range(cm.shape[0]):\n",
    "        for j in range(cm.shape[1]):\n",
    "            ax.text(j, i, format(cm[i, j], fmt),\n",
    "                    ha=\"center\", va=\"center\",\n",
    "                    color=\"white\" if cm[i, j] > thresh else \"black\")\n",
    "    fig.tight_layout()\n",
    "    \n",
    "    plt.savefig('../result/confusion_matrix/' + name + '.png')\n",
    "    return ax"
   ]
  },
  {
   "cell_type": "code",
   "execution_count": 34,
   "metadata": {
    "hidden": true
   },
   "outputs": [],
   "source": [
    "def predict_on_df(model, df, batch_size, n_class):\n",
    "    dg = DataGenerator(df, batch_size=batch_size, shuffle=False, weight = False, n_class = n_class)\n",
    "    yhat = model.predict_generator(dg)\n",
    "    pred_index = yhat.argmax(axis=1)\n",
    "    pred_conf = yhat.max(axis=1)\n",
    "    df['pred_index'] = pred_index\n",
    "    df['pred_label'] = df.pred_index.apply(lambda x: list(label_map.keys())[x])\n",
    "    df['pred_conf'] = pred_conf\n",
    "    df['match'] = df['pred_index'] == df['Label']\n",
    "    return df\n",
    "\n",
    "\n",
    "def display_top_losses(prediction_df, k: int = 10):\n",
    "    wrong_condition = ~prediction_df.match\n",
    "    wrong_df = prediction_df[wrong_condition]\n",
    "    return wrong_df.sort_values('pred_conf', ascending=False).iloc[0:k][['Equation', 'pred_label', 'Cluster_label', 'pred_index', 'Label', 'pred_conf']]\n",
    "    \n",
    "def predict_from_str(equation, model, tokenizer):\n",
    "    X = np.array([encode_sequence(equation, tokenizer)])\n",
    "    yhat = model.predict(X)\n",
    "    pred_index = yhat.argmax()\n",
    "    label = [label for label, i in label_map.items() if i==pred_index][0]\n",
    "    return {\n",
    "        'yhat': yhat.tolist(),\n",
    "        'pred_index': pred_index,\n",
    "        'label': label\n",
    "           }"
   ]
  },
  {
   "cell_type": "markdown",
   "metadata": {},
   "source": [
    "## evaluate"
   ]
  },
  {
   "cell_type": "code",
   "execution_count": 35,
   "metadata": {},
   "outputs": [
    {
     "name": "stderr",
     "output_type": "stream",
     "text": [
      "/home/mdogan/miniconda3/lib/python3.7/site-packages/ipykernel_launcher.py:6: SettingWithCopyWarning: \n",
      "A value is trying to be set on a copy of a slice from a DataFrame.\n",
      "Try using .loc[row_indexer,col_indexer] = value instead\n",
      "\n",
      "See the caveats in the documentation: http://pandas.pydata.org/pandas-docs/stable/user_guide/indexing.html#returning-a-view-versus-a-copy\n",
      "  \n",
      "/home/mdogan/miniconda3/lib/python3.7/site-packages/ipykernel_launcher.py:7: SettingWithCopyWarning: \n",
      "A value is trying to be set on a copy of a slice from a DataFrame.\n",
      "Try using .loc[row_indexer,col_indexer] = value instead\n",
      "\n",
      "See the caveats in the documentation: http://pandas.pydata.org/pandas-docs/stable/user_guide/indexing.html#returning-a-view-versus-a-copy\n",
      "  import sys\n",
      "/home/mdogan/miniconda3/lib/python3.7/site-packages/ipykernel_launcher.py:8: SettingWithCopyWarning: \n",
      "A value is trying to be set on a copy of a slice from a DataFrame.\n",
      "Try using .loc[row_indexer,col_indexer] = value instead\n",
      "\n",
      "See the caveats in the documentation: http://pandas.pydata.org/pandas-docs/stable/user_guide/indexing.html#returning-a-view-versus-a-copy\n",
      "  \n",
      "/home/mdogan/miniconda3/lib/python3.7/site-packages/ipykernel_launcher.py:9: SettingWithCopyWarning: \n",
      "A value is trying to be set on a copy of a slice from a DataFrame.\n",
      "Try using .loc[row_indexer,col_indexer] = value instead\n",
      "\n",
      "See the caveats in the documentation: http://pandas.pydata.org/pandas-docs/stable/user_guide/indexing.html#returning-a-view-versus-a-copy\n",
      "  if __name__ == '__main__':\n"
     ]
    }
   ],
   "source": [
    "batch_size = 1024\n",
    "n_class = 4\n",
    "predictions = predict_on_df(model, test_df, batch_size, n_class)"
   ]
  },
  {
   "cell_type": "code",
   "execution_count": 36,
   "metadata": {},
   "outputs": [],
   "source": [
    "%matplotlib inline"
   ]
  },
  {
   "cell_type": "code",
   "execution_count": 37,
   "metadata": {},
   "outputs": [
    {
     "data": {
      "text/plain": [
       "0.6728430205475907"
      ]
     },
     "execution_count": 37,
     "metadata": {},
     "output_type": "execute_result"
    }
   ],
   "source": [
    "predictions[predictions.apply(lambda row: row.Label == row.pred_index, axis = 1)].shape[0]/(predictions.shape[0])"
   ]
  },
  {
   "cell_type": "code",
   "execution_count": 38,
   "metadata": {},
   "outputs": [
    {
     "data": {
      "text/html": [
       "<div>\n",
       "<style scoped>\n",
       "    .dataframe tbody tr th:only-of-type {\n",
       "        vertical-align: middle;\n",
       "    }\n",
       "\n",
       "    .dataframe tbody tr th {\n",
       "        vertical-align: top;\n",
       "    }\n",
       "\n",
       "    .dataframe thead th {\n",
       "        text-align: right;\n",
       "    }\n",
       "</style>\n",
       "<table border=\"1\" class=\"dataframe\">\n",
       "  <thead>\n",
       "    <tr style=\"text-align: right;\">\n",
       "      <th></th>\n",
       "      <th>Equation</th>\n",
       "      <th>Source</th>\n",
       "      <th>Cluster_label</th>\n",
       "      <th>Id</th>\n",
       "      <th>Tags</th>\n",
       "      <th>seq</th>\n",
       "      <th>length</th>\n",
       "      <th>Label</th>\n",
       "      <th>pred_index</th>\n",
       "      <th>pred_label</th>\n",
       "      <th>pred_conf</th>\n",
       "      <th>match</th>\n",
       "    </tr>\n",
       "  </thead>\n",
       "  <tbody>\n",
       "    <tr>\n",
       "      <th>90</th>\n",
       "      <td>G_\\text{liquid} - G_\\text{crystal} = H_\\text{...</td>\n",
       "      <td>chemistry</td>\n",
       "      <td>chemistry</td>\n",
       "      <td>56</td>\n",
       "      <td>NaN</td>\n",
       "      <td>[1, 84, 126, 102, 46, 31, 155, 214, 31, 170, 1...</td>\n",
       "      <td>118</td>\n",
       "      <td>0</td>\n",
       "      <td>0</td>\n",
       "      <td>chemistry</td>\n",
       "      <td>0.999687</td>\n",
       "      <td>True</td>\n",
       "    </tr>\n",
       "    <tr>\n",
       "      <th>91</th>\n",
       "      <td>\\Delta G = \\Delta H - T \\Delta S</td>\n",
       "      <td>chemistry</td>\n",
       "      <td>chemistry</td>\n",
       "      <td>56</td>\n",
       "      <td>NaN</td>\n",
       "      <td>[1, 84, 46, 127, 155, 139, 31, 61, 84, 126, 84...</td>\n",
       "      <td>36</td>\n",
       "      <td>0</td>\n",
       "      <td>0</td>\n",
       "      <td>chemistry</td>\n",
       "      <td>0.996406</td>\n",
       "      <td>True</td>\n",
       "    </tr>\n",
       "    <tr>\n",
       "      <th>93</th>\n",
       "      <td>\\Delta H &amp;lt; T \\Delta S</td>\n",
       "      <td>chemistry</td>\n",
       "      <td>chemistry</td>\n",
       "      <td>56</td>\n",
       "      <td>NaN</td>\n",
       "      <td>[1, 46, 127, 155, 139, 31, 61, 84, 55, 84, 191...</td>\n",
       "      <td>26</td>\n",
       "      <td>0</td>\n",
       "      <td>0</td>\n",
       "      <td>chemistry</td>\n",
       "      <td>0.990958</td>\n",
       "      <td>True</td>\n",
       "    </tr>\n",
       "    <tr>\n",
       "      <th>94</th>\n",
       "      <td>q_+</td>\n",
       "      <td>chemistry</td>\n",
       "      <td>chemistry</td>\n",
       "      <td>56</td>\n",
       "      <td>NaN</td>\n",
       "      <td>[1, 249, 102, 17, 2]</td>\n",
       "      <td>5</td>\n",
       "      <td>0</td>\n",
       "      <td>3</td>\n",
       "      <td>physics-field-theory</td>\n",
       "      <td>0.650287</td>\n",
       "      <td>False</td>\n",
       "    </tr>\n",
       "    <tr>\n",
       "      <th>95</th>\n",
       "      <td>q_-</td>\n",
       "      <td>chemistry</td>\n",
       "      <td>chemistry</td>\n",
       "      <td>56</td>\n",
       "      <td>NaN</td>\n",
       "      <td>[1, 249, 102, 15, 2]</td>\n",
       "      <td>5</td>\n",
       "      <td>0</td>\n",
       "      <td>3</td>\n",
       "      <td>physics-field-theory</td>\n",
       "      <td>0.469763</td>\n",
       "      <td>False</td>\n",
       "    </tr>\n",
       "  </tbody>\n",
       "</table>\n",
       "</div>"
      ],
      "text/plain": [
       "                                             Equation     Source  \\\n",
       "90   G_\\text{liquid} - G_\\text{crystal} = H_\\text{...  chemistry   \n",
       "91                  \\Delta G = \\Delta H - T \\Delta S   chemistry   \n",
       "93                           \\Delta H &lt; T \\Delta S  chemistry   \n",
       "94                                                q_+  chemistry   \n",
       "95                                                q_-  chemistry   \n",
       "\n",
       "   Cluster_label  Id Tags                                                seq  \\\n",
       "90     chemistry  56  NaN  [1, 84, 126, 102, 46, 31, 155, 214, 31, 170, 1...   \n",
       "91     chemistry  56  NaN  [1, 84, 46, 127, 155, 139, 31, 61, 84, 126, 84...   \n",
       "93     chemistry  56  NaN  [1, 46, 127, 155, 139, 31, 61, 84, 55, 84, 191...   \n",
       "94     chemistry  56  NaN                               [1, 249, 102, 17, 2]   \n",
       "95     chemistry  56  NaN                               [1, 249, 102, 15, 2]   \n",
       "\n",
       "    length  Label  pred_index            pred_label  pred_conf  match  \n",
       "90     118      0           0             chemistry   0.999687   True  \n",
       "91      36      0           0             chemistry   0.996406   True  \n",
       "93      26      0           0             chemistry   0.990958   True  \n",
       "94       5      0           3  physics-field-theory   0.650287  False  \n",
       "95       5      0           3  physics-field-theory   0.469763  False  "
      ]
     },
     "execution_count": 38,
     "metadata": {},
     "output_type": "execute_result"
    }
   ],
   "source": [
    "predictions.head()"
   ]
  },
  {
   "cell_type": "code",
   "execution_count": 39,
   "metadata": {},
   "outputs": [
    {
     "data": {
      "text/plain": [
       "Label\n",
       "0    7997\n",
       "1    4825\n",
       "2    4085\n",
       "3    2414\n",
       "Name: Label, dtype: int64"
      ]
     },
     "execution_count": 39,
     "metadata": {},
     "output_type": "execute_result"
    }
   ],
   "source": [
    "predictions.groupby(['Label'])['Label'].count()"
   ]
  },
  {
   "cell_type": "code",
   "execution_count": 40,
   "metadata": {
    "scrolled": true
   },
   "outputs": [
    {
     "name": "stdout",
     "output_type": "stream",
     "text": [
      "Confusion matrix, without normalization\n",
      "[[6026  897  628  446]\n",
      " [ 352 3106  771  596]\n",
      " [ 179  620 2588  698]\n",
      " [  82  433  619 1280]]\n"
     ]
    },
    {
     "data": {
      "text/plain": [
       "<matplotlib.axes._subplots.AxesSubplot at 0x7f8ee05c1c18>"
      ]
     },
     "execution_count": 40,
     "metadata": {},
     "output_type": "execute_result"
    },
    {
     "data": {
      "image/png": "[encoded data removed]",
      "text/plain": [
       "<Figure size 576x576 with 2 Axes>"
      ]
     },
     "metadata": {
      "needs_background": "light"
     },
     "output_type": "display_data"
    }
   ],
   "source": [
    "name = \"model4_cluster4_epoch32_1\"\n",
    "plot_confusion_matrix(predictions.Label, predictions.pred_index, np.array(list(label_map.keys())), name)\n"
   ]
  },
  {
   "cell_type": "code",
   "execution_count": 41,
   "metadata": {
    "scrolled": true
   },
   "outputs": [
    {
     "name": "stdout",
     "output_type": "stream",
     "text": [
      "Normalized confusion matrix\n",
      "[[0.75353257 0.11216706 0.07852945 0.05577091]\n",
      " [0.07295337 0.64373057 0.15979275 0.12352332]\n",
      " [0.04381885 0.15177479 0.63353733 0.17086903]\n",
      " [0.03396852 0.17937034 0.25642088 0.53024027]]\n"
     ]
    },
    {
     "data": {
      "text/plain": [
       "<matplotlib.axes._subplots.AxesSubplot at 0x7f8e9b5eaf60>"
      ]
     },
     "execution_count": 41,
     "metadata": {},
     "output_type": "execute_result"
    },
    {
     "data": {
      "image/png": "[encoded data removed]",
      "text/plain": [
       "<Figure size 576x576 with 2 Axes>"
      ]
     },
     "metadata": {
      "needs_background": "light"
     },
     "output_type": "display_data"
    }
   ],
   "source": [
    "name = \"model4_cluster4_epoch32_2\"\n",
    "plot_confusion_matrix(predictions.Label, predictions.pred_index, np.array(list(label_map.keys())), name, normalize=True)\n"
   ]
  },
  {
   "cell_type": "code",
   "execution_count": 42,
   "metadata": {},
   "outputs": [
    {
     "data": {
      "text/plain": [
       "{'yhat': [[0.9698496460914612,\n",
       "   0.00042502552969381213,\n",
       "   0.02669234573841095,\n",
       "   0.003032986307516694]],\n",
       " 'pred_index': 0,\n",
       " 'label': 'chemistry'}"
      ]
     },
     "execution_count": 42,
     "metadata": {},
     "output_type": "execute_result"
    }
   ],
   "source": [
    "predict_from_str('H\\PSI = E\\PSI', model, tokenizer)"
   ]
  },
  {
   "cell_type": "code",
   "execution_count": 43,
   "metadata": {},
   "outputs": [
    {
     "data": {
      "text/html": [
       "<div>\n",
       "<style scoped>\n",
       "    .dataframe tbody tr th:only-of-type {\n",
       "        vertical-align: middle;\n",
       "    }\n",
       "\n",
       "    .dataframe tbody tr th {\n",
       "        vertical-align: top;\n",
       "    }\n",
       "\n",
       "    .dataframe thead th {\n",
       "        text-align: right;\n",
       "    }\n",
       "</style>\n",
       "<table border=\"1\" class=\"dataframe\">\n",
       "  <thead>\n",
       "    <tr style=\"text-align: right;\">\n",
       "      <th></th>\n",
       "      <th>Equation</th>\n",
       "      <th>pred_label</th>\n",
       "      <th>Cluster_label</th>\n",
       "      <th>pred_index</th>\n",
       "      <th>Label</th>\n",
       "      <th>pred_conf</th>\n",
       "    </tr>\n",
       "  </thead>\n",
       "  <tbody>\n",
       "    <tr>\n",
       "      <th>236720</th>\n",
       "      <td>1\\text{p}_{\\frac{3}{2}}</td>\n",
       "      <td>chemistry</td>\n",
       "      <td>physics-homework-exercises</td>\n",
       "      <td>0</td>\n",
       "      <td>1</td>\n",
       "      <td>0.999769</td>\n",
       "    </tr>\n",
       "    <tr>\n",
       "      <th>532377</th>\n",
       "      <td>\\sum_{\\mathrm{all~forces}}W = \\Delta K</td>\n",
       "      <td>chemistry</td>\n",
       "      <td>physics-homework-exercises</td>\n",
       "      <td>0</td>\n",
       "      <td>1</td>\n",
       "      <td>0.999608</td>\n",
       "    </tr>\n",
       "    <tr>\n",
       "      <th>453880</th>\n",
       "      <td>\\mathbb{1}_{3 \\times 3} - \\begin{pmatrix} 0 \\...</td>\n",
       "      <td>physics-field-theory</td>\n",
       "      <td>physics-homework-exercises</td>\n",
       "      <td>3</td>\n",
       "      <td>1</td>\n",
       "      <td>0.999598</td>\n",
       "    </tr>\n",
       "    <tr>\n",
       "      <th>384649</th>\n",
       "      <td>M^2 = \\underline{k} + m^2</td>\n",
       "      <td>physics-field-theory</td>\n",
       "      <td>physics-homework-exercises</td>\n",
       "      <td>3</td>\n",
       "      <td>1</td>\n",
       "      <td>0.999577</td>\n",
       "    </tr>\n",
       "    <tr>\n",
       "      <th>408992</th>\n",
       "      <td>a_{Rk}^\\dagger=a_{k_F+k}^\\dagger</td>\n",
       "      <td>physics-field-theory</td>\n",
       "      <td>physics-quantum-mechanics</td>\n",
       "      <td>3</td>\n",
       "      <td>2</td>\n",
       "      <td>0.999327</td>\n",
       "    </tr>\n",
       "    <tr>\n",
       "      <th>453761</th>\n",
       "      <td>\\mathcal{H}_{\\text{Fermion}}</td>\n",
       "      <td>physics-field-theory</td>\n",
       "      <td>physics-quantum-mechanics</td>\n",
       "      <td>3</td>\n",
       "      <td>2</td>\n",
       "      <td>0.999041</td>\n",
       "    </tr>\n",
       "    <tr>\n",
       "      <th>546398</th>\n",
       "      <td>\\psi(x,t) = f(kx-\\omega t)</td>\n",
       "      <td>physics-quantum-mechanics</td>\n",
       "      <td>physics-homework-exercises</td>\n",
       "      <td>2</td>\n",
       "      <td>1</td>\n",
       "      <td>0.999024</td>\n",
       "    </tr>\n",
       "    <tr>\n",
       "      <th>325245</th>\n",
       "      <td>[J_a,O^s_{\\ell}] = O^s_m~[J_a^s]_{m\\ell}, \\tag...</td>\n",
       "      <td>physics-field-theory</td>\n",
       "      <td>physics-quantum-mechanics</td>\n",
       "      <td>3</td>\n",
       "      <td>2</td>\n",
       "      <td>0.998957</td>\n",
       "    </tr>\n",
       "    <tr>\n",
       "      <th>402954</th>\n",
       "      <td>100\\,\\rm m/s</td>\n",
       "      <td>physics-homework-exercises</td>\n",
       "      <td>physics-quantum-mechanics</td>\n",
       "      <td>1</td>\n",
       "      <td>2</td>\n",
       "      <td>0.998910</td>\n",
       "    </tr>\n",
       "    <tr>\n",
       "      <th>195589</th>\n",
       "      <td>rate=k[A]..... (13.2)</td>\n",
       "      <td>physics-field-theory</td>\n",
       "      <td>chemistry</td>\n",
       "      <td>3</td>\n",
       "      <td>0</td>\n",
       "      <td>0.998832</td>\n",
       "    </tr>\n",
       "    <tr>\n",
       "      <th>526673</th>\n",
       "      <td>E[r^k]=\\frac{\\int_0^\\infty r^{2(l+1)+k}\\exp\\le...</td>\n",
       "      <td>chemistry</td>\n",
       "      <td>physics-quantum-mechanics</td>\n",
       "      <td>0</td>\n",
       "      <td>2</td>\n",
       "      <td>0.998794</td>\n",
       "    </tr>\n",
       "    <tr>\n",
       "      <th>127361</th>\n",
       "      <td>U(b)-U(a)=\\ddot {}</td>\n",
       "      <td>physics-field-theory</td>\n",
       "      <td>chemistry</td>\n",
       "      <td>3</td>\n",
       "      <td>0</td>\n",
       "      <td>0.998793</td>\n",
       "    </tr>\n",
       "    <tr>\n",
       "      <th>238104</th>\n",
       "      <td>p^\\mu_{\\text{q1}}=\\xi_1 p_1^\\mu</td>\n",
       "      <td>physics-field-theory</td>\n",
       "      <td>physics-homework-exercises</td>\n",
       "      <td>3</td>\n",
       "      <td>1</td>\n",
       "      <td>0.998648</td>\n",
       "    </tr>\n",
       "    <tr>\n",
       "      <th>563800</th>\n",
       "      <td>\\left[ A \\begin{pmatrix} 1 \\\\ 0 \\end{pmatrix} ...</td>\n",
       "      <td>physics-field-theory</td>\n",
       "      <td>physics-quantum-mechanics</td>\n",
       "      <td>3</td>\n",
       "      <td>2</td>\n",
       "      <td>0.998593</td>\n",
       "    </tr>\n",
       "    <tr>\n",
       "      <th>345840</th>\n",
       "      <td>\\left|0\\right\\rangle _{12}\\left|0\\right\\rangle...</td>\n",
       "      <td>physics-quantum-mechanics</td>\n",
       "      <td>physics-field-theory</td>\n",
       "      <td>2</td>\n",
       "      <td>3</td>\n",
       "      <td>0.998577</td>\n",
       "    </tr>\n",
       "    <tr>\n",
       "      <th>172685</th>\n",
       "      <td>45\\ \\mathrm{cm/s}</td>\n",
       "      <td>physics-homework-exercises</td>\n",
       "      <td>chemistry</td>\n",
       "      <td>1</td>\n",
       "      <td>0</td>\n",
       "      <td>0.998513</td>\n",
       "    </tr>\n",
       "    <tr>\n",
       "      <th>368460</th>\n",
       "      <td>(\\Box+m^2)A_{\\mu}=0</td>\n",
       "      <td>physics-field-theory</td>\n",
       "      <td>physics-homework-exercises</td>\n",
       "      <td>3</td>\n",
       "      <td>1</td>\n",
       "      <td>0.998476</td>\n",
       "    </tr>\n",
       "    <tr>\n",
       "      <th>267604</th>\n",
       "      <td>p_{\\text{river}}=p_{\\text{atmosphere}}+\\rho g ...</td>\n",
       "      <td>chemistry</td>\n",
       "      <td>physics-homework-exercises</td>\n",
       "      <td>0</td>\n",
       "      <td>1</td>\n",
       "      <td>0.998434</td>\n",
       "    </tr>\n",
       "    <tr>\n",
       "      <th>412807</th>\n",
       "      <td>a_{\\mathrm{2~kg}}&amp;gt;a_{\\mathrm{4~kg}}</td>\n",
       "      <td>chemistry</td>\n",
       "      <td>physics-homework-exercises</td>\n",
       "      <td>0</td>\n",
       "      <td>1</td>\n",
       "      <td>0.998310</td>\n",
       "    </tr>\n",
       "    <tr>\n",
       "      <th>233766</th>\n",
       "      <td>\\left( g^{\\mu \\nu}g_{\\mu \\nu}  - g_{\\mu \\nu}\\f...</td>\n",
       "      <td>physics-field-theory</td>\n",
       "      <td>physics-homework-exercises</td>\n",
       "      <td>3</td>\n",
       "      <td>1</td>\n",
       "      <td>0.998224</td>\n",
       "    </tr>\n",
       "  </tbody>\n",
       "</table>\n",
       "</div>"
      ],
      "text/plain": [
       "                                                 Equation  \\\n",
       "236720                            1\\text{p}_{\\frac{3}{2}}   \n",
       "532377             \\sum_{\\mathrm{all~forces}}W = \\Delta K   \n",
       "453880   \\mathbb{1}_{3 \\times 3} - \\begin{pmatrix} 0 \\...   \n",
       "384649                          M^2 = \\underline{k} + m^2   \n",
       "408992                   a_{Rk}^\\dagger=a_{k_F+k}^\\dagger   \n",
       "453761                       \\mathcal{H}_{\\text{Fermion}}   \n",
       "546398                         \\psi(x,t) = f(kx-\\omega t)   \n",
       "325245  [J_a,O^s_{\\ell}] = O^s_m~[J_a^s]_{m\\ell}, \\tag...   \n",
       "402954                                       100\\,\\rm m/s   \n",
       "195589                              rate=k[A]..... (13.2)   \n",
       "526673  E[r^k]=\\frac{\\int_0^\\infty r^{2(l+1)+k}\\exp\\le...   \n",
       "127361                                 U(b)-U(a)=\\ddot {}   \n",
       "238104                    p^\\mu_{\\text{q1}}=\\xi_1 p_1^\\mu   \n",
       "563800  \\left[ A \\begin{pmatrix} 1 \\\\ 0 \\end{pmatrix} ...   \n",
       "345840  \\left|0\\right\\rangle _{12}\\left|0\\right\\rangle...   \n",
       "172685                                  45\\ \\mathrm{cm/s}   \n",
       "368460                                (\\Box+m^2)A_{\\mu}=0   \n",
       "267604  p_{\\text{river}}=p_{\\text{atmosphere}}+\\rho g ...   \n",
       "412807             a_{\\mathrm{2~kg}}&gt;a_{\\mathrm{4~kg}}   \n",
       "233766  \\left( g^{\\mu \\nu}g_{\\mu \\nu}  - g_{\\mu \\nu}\\f...   \n",
       "\n",
       "                        pred_label               Cluster_label  pred_index  \\\n",
       "236720                   chemistry  physics-homework-exercises           0   \n",
       "532377                   chemistry  physics-homework-exercises           0   \n",
       "453880        physics-field-theory  physics-homework-exercises           3   \n",
       "384649        physics-field-theory  physics-homework-exercises           3   \n",
       "408992        physics-field-theory   physics-quantum-mechanics           3   \n",
       "453761        physics-field-theory   physics-quantum-mechanics           3   \n",
       "546398   physics-quantum-mechanics  physics-homework-exercises           2   \n",
       "325245        physics-field-theory   physics-quantum-mechanics           3   \n",
       "402954  physics-homework-exercises   physics-quantum-mechanics           1   \n",
       "195589        physics-field-theory                   chemistry           3   \n",
       "526673                   chemistry   physics-quantum-mechanics           0   \n",
       "127361        physics-field-theory                   chemistry           3   \n",
       "238104        physics-field-theory  physics-homework-exercises           3   \n",
       "563800        physics-field-theory   physics-quantum-mechanics           3   \n",
       "345840   physics-quantum-mechanics        physics-field-theory           2   \n",
       "172685  physics-homework-exercises                   chemistry           1   \n",
       "368460        physics-field-theory  physics-homework-exercises           3   \n",
       "267604                   chemistry  physics-homework-exercises           0   \n",
       "412807                   chemistry  physics-homework-exercises           0   \n",
       "233766        physics-field-theory  physics-homework-exercises           3   \n",
       "\n",
       "        Label  pred_conf  \n",
       "236720      1   0.999769  \n",
       "532377      1   0.999608  \n",
       "453880      1   0.999598  \n",
       "384649      1   0.999577  \n",
       "408992      2   0.999327  \n",
       "453761      2   0.999041  \n",
       "546398      1   0.999024  \n",
       "325245      2   0.998957  \n",
       "402954      2   0.998910  \n",
       "195589      0   0.998832  \n",
       "526673      2   0.998794  \n",
       "127361      0   0.998793  \n",
       "238104      1   0.998648  \n",
       "563800      2   0.998593  \n",
       "345840      3   0.998577  \n",
       "172685      0   0.998513  \n",
       "368460      1   0.998476  \n",
       "267604      1   0.998434  \n",
       "412807      1   0.998310  \n",
       "233766      1   0.998224  "
      ]
     },
     "execution_count": 43,
     "metadata": {},
     "output_type": "execute_result"
    }
   ],
   "source": [
    "display_top_losses(predictions, 20)"
   ]
  },
  {
   "cell_type": "code",
   "execution_count": null,
   "metadata": {},
   "outputs": [],
   "source": []
  }
 ],
 "metadata": {
  "kernelspec": {
   "display_name": "Python 3",
   "language": "python",
   "name": "python3"
  },
  "language_info": {
   "codemirror_mode": {
    "name": "ipython",
    "version": 3
   },
   "file_extension": ".py",
   "mimetype": "text/x-python",
   "name": "python",
   "nbconvert_exporter": "python",
   "pygments_lexer": "ipython3",
   "version": "3.7.3"
  }
 },
 "nbformat": 4,
 "nbformat_minor": 2
}

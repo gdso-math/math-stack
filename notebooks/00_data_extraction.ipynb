{
 "cells": [
  {
   "cell_type": "markdown",
   "metadata": {},
   "source": [
    "## Build each data processing piece"
   ]
  },
  {
   "cell_type": "code",
   "execution_count": 1,
   "metadata": {},
   "outputs": [],
   "source": [
    "from pathlib import Path\n",
    "import subprocess\n",
    "\n",
    "Path.ls = lambda x: [o for o in x.iterdir()]"
   ]
  },
  {
   "cell_type": "code",
   "execution_count": 2,
   "metadata": {},
   "outputs": [],
   "source": [
    "raw_datadir = Path('../data/raw/')"
   ]
  },
  {
   "cell_type": "code",
   "execution_count": 4,
   "metadata": {},
   "outputs": [],
   "source": [
    "def get_output_dirname(path):\n",
    "    filename = path.name\n",
    "    return path.with_suffix('')\n",
    "    \n",
    "def open_7z(path):\n",
    "    output_dirname = get_output_dirname(path)\n",
    "    output_dirname.mkdir(exist_ok=True, parents=True)\n",
    "    exe_str = f\"7za e {path} -o{output_dirname}\"\n",
    "    \n",
    "    print(f'Reading data from {path}')\n",
    "    print(f'Saving data to {output_dirname}')\n",
    "    print(\"Running:\", exe_str)\n",
    "    p = subprocess.call(exe_str, shell=True)\n",
    "    print(f'Done. {p}')\n",
    "    return output_dirname"
   ]
  },
  {
   "cell_type": "code",
   "execution_count": 5,
   "metadata": {},
   "outputs": [],
   "source": [
    "import xml.etree.ElementTree as ET\n",
    "import pandas as pd\n",
    "\n",
    "def parse_xml_file(path):\n",
    "    \"\"\"Read the xml file from path and return a pandas dataframe with all the data.\"\"\"\n",
    "    root = ET.parse(path).getroot()\n",
    "    rows = root.findall('row')\n",
    "    return pd.DataFrame([dict(row.items()) for row in rows])"
   ]
  },
  {
   "cell_type": "code",
   "execution_count": 6,
   "metadata": {},
   "outputs": [
    {
     "data": {
      "text/plain": [
       "['', '', '\\\\frac{1}{b}']"
      ]
     },
     "execution_count": 6,
     "metadata": {},
     "output_type": "execute_result"
    }
   ],
   "source": [
    "import re\n",
    "double_dollar = re.compile(r'\\$\\$(.*?)\\$\\$')\n",
    "single_dollar = re.compile(r'\\$(.*?)\\$')\n",
    "\n",
    "def search_for_latex(text):\n",
    "    singles = re.findall(single_dollar, text)\n",
    "    doubles = re.findall(double_dollar, text)\n",
    "    return [m for m in singles+doubles if m != '']\n",
    "    \n",
    "math = \"abc $$123$$ 456$\\\\frac{1}{b}$\"\n",
    "re.findall(single_dollar, math)"
   ]
  },
  {
   "cell_type": "markdown",
   "metadata": {},
   "source": [
    "## Put it all together"
   ]
  },
  {
   "cell_type": "code",
   "execution_count": 7,
   "metadata": {},
   "outputs": [],
   "source": [
    "data_dirname = Path('../data/raw/')"
   ]
  },
  {
   "cell_type": "code",
   "execution_count": 8,
   "metadata": {},
   "outputs": [
    {
     "name": "stdout",
     "output_type": "stream",
     "text": [
      "Reading data from ../data/raw/chemistry.stackexchange.com.7z\n",
      "Saving data to ../data/raw/chemistry.stackexchange.com\n",
      "Running: 7za e ../data/raw/chemistry.stackexchange.com.7z -o../data/raw/chemistry.stackexchange.com\n",
      "Done. 134\n",
      "../data/raw/chemistry.stackexchange.com/Comments.xml\n",
      "Wrote to ../data/raw/chemistry.stackexchange.com/Comments.json\n",
      "../data/raw/chemistry.stackexchange.com/Posts.xml\n",
      "Wrote to ../data/raw/chemistry.stackexchange.com/Posts.json\n",
      "Reading data from ../data/raw/physics.stackexchange.com.7z\n",
      "Saving data to ../data/raw/physics.stackexchange.com\n",
      "Running: 7za e ../data/raw/physics.stackexchange.com.7z -o../data/raw/physics.stackexchange.com\n",
      "Done. 134\n",
      "../data/raw/physics.stackexchange.com/Comments.xml\n",
      "Wrote to ../data/raw/physics.stackexchange.com/Comments.json\n",
      "../data/raw/physics.stackexchange.com/Posts.xml\n",
      "Wrote to ../data/raw/physics.stackexchange.com/Posts.json\n",
      "Reading data from ../data/raw/biology.stackexchange.com.7z\n",
      "Saving data to ../data/raw/biology.stackexchange.com\n",
      "Running: 7za e ../data/raw/biology.stackexchange.com.7z -o../data/raw/biology.stackexchange.com\n",
      "Done. 134\n",
      "../data/raw/biology.stackexchange.com/Comments.xml\n",
      "Wrote to ../data/raw/biology.stackexchange.com/Comments.json\n",
      "../data/raw/biology.stackexchange.com/Posts.xml\n",
      "Wrote to ../data/raw/biology.stackexchange.com/Posts.json\n"
     ]
    }
   ],
   "source": [
    "columns = {\n",
    "        'Posts.xml': 'Body',\n",
    "        'Comments.xml': 'Text'\n",
    "          }\n",
    "for raw_datafile in data_dirname.rglob('*.7z'):  # open each .7z file\n",
    "    output_dirname = open_7z(raw_datafile)\n",
    "    for xml_file in output_dirname.rglob('*.xml'):  # find all .xml files\n",
    "        if xml_file.name in ('Posts.xml', 'Comments.xml'):  # Probably only want the Posts/Comments\n",
    "            print(xml_file)\n",
    "            df = parse_xml_file(xml_file)\n",
    "            text_column = columns[xml_file.name]\n",
    "            df['latex'] = df[text_column].apply(search_for_latex)\n",
    "            json_filename = xml_file.with_suffix('.json')\n",
    "            df.to_json(json_filename)\n",
    "            print(f'Wrote to {json_filename}')"
   ]
  },
  {
   "cell_type": "code",
   "execution_count": null,
   "metadata": {},
   "outputs": [],
   "source": []
  }
 ],
 "metadata": {
  "kernelspec": {
   "display_name": "Python 3",
   "language": "python",
   "name": "python3"
  },
  "language_info": {
   "codemirror_mode": {
    "name": "ipython",
    "version": 3
   },
   "file_extension": ".py",
   "mimetype": "text/x-python",
   "name": "python",
   "nbconvert_exporter": "python",
   "pygments_lexer": "ipython3",
   "version": "3.6.8"
  }
 },
 "nbformat": 4,
 "nbformat_minor": 2
}

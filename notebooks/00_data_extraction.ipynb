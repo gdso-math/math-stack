{
 "cells": [
  {
   "cell_type": "markdown",
   "metadata": {},
   "source": [
    "## Build each data processing piece"
   ]
  },
  {
   "cell_type": "code",
   "execution_count": 2,
   "metadata": {},
   "outputs": [],
   "source": [
    "from pathlib import Path\n",
    "import subprocess"
   ]
  },
  {
   "cell_type": "code",
   "execution_count": 3,
   "metadata": {},
   "outputs": [],
   "source": [
    "raw_datadir = Path('../data/raw/')"
   ]
  },
  {
   "cell_type": "code",
   "execution_count": 4,
   "metadata": {},
   "outputs": [
    {
     "name": "stdout",
     "output_type": "stream",
     "text": [
      "../data/raw/math.stackexchange.com.7z\n"
     ]
    }
   ],
   "source": [
    "filepath = raw_datadir / 'math.stackexchange.com.7z'\n",
    "print(filepath)"
   ]
  },
  {
   "cell_type": "code",
   "execution_count": 5,
   "metadata": {},
   "outputs": [],
   "source": [
    "def get_output_dirname(path):\n",
    "    filename = path.name\n",
    "    return path.with_suffix('')\n",
    "    \n",
    "def open_7z(path):\n",
    "    output_dirname = get_output_dirname(path)\n",
    "    output_dirname.mkdir(exist_ok=True, parents=True)\n",
    "    exe_str = f\"7za e {path} -o{output_dirname}\"\n",
    "    \n",
    "    print(f'Reading data from {path}')\n",
    "    print(f'Saving data to {output_dirname}')\n",
    "    print(\"Running:\", exe_str)\n",
    "    p = subprocess.call(exe_str, shell=True)\n",
    "    print(f'Done. {p}')\n",
    "    return output_dirname"
   ]
  },
  {
   "cell_type": "code",
   "execution_count": 88,
   "metadata": {},
   "outputs": [
    {
     "name": "stdout",
     "output_type": "stream",
     "text": [
      "Reading data from ../data/raw/math.stackexchange.com.7z\n",
      "Saving data to ../data/raw/math.stackexchange.com\n",
      "Running: 7za e ../data/raw/math.stackexchange.com.7z -o../data/raw/math.stackexchange.com\n",
      "Done. 0\n"
     ]
    }
   ],
   "source": [
    "open_7z(filepath)"
   ]
  },
  {
   "cell_type": "code",
   "execution_count": 89,
   "metadata": {},
   "outputs": [
    {
     "name": "stdout",
     "output_type": "stream",
     "text": [
      "Badges.xml      PostHistory.xml Posts.xml       Users.xml\r\n",
      "Comments.xml    PostLinks.xml   Tags.xml        Votes.xml\r\n"
     ]
    }
   ],
   "source": [
    "!ls ../data/raw/math.stackexchange.com"
   ]
  },
  {
   "cell_type": "code",
   "execution_count": 6,
   "metadata": {},
   "outputs": [],
   "source": [
    "import xml.etree.ElementTree as ET\n",
    "import pandas as pd\n",
    "\n",
    "def parse_xml_file(path):\n",
    "    \"\"\"Read the xml file from path and return a pandas dataframe with all the data.\"\"\"\n",
    "    root = ET.parse(path).getroot()\n",
    "    rows = root.findall('row')\n",
    "    return pd.DataFrame([dict(row.items()) for row in rows])"
   ]
  },
  {
   "cell_type": "code",
   "execution_count": 25,
   "metadata": {},
   "outputs": [],
   "source": [
    "df = parse_xml_file('../data/raw/math.stackexchange.com/Comments.xml')"
   ]
  },
  {
   "cell_type": "code",
   "execution_count": 27,
   "metadata": {},
   "outputs": [
    {
     "data": {
      "text/html": [
       "<div>\n",
       "<style scoped>\n",
       "    .dataframe tbody tr th:only-of-type {\n",
       "        vertical-align: middle;\n",
       "    }\n",
       "\n",
       "    .dataframe tbody tr th {\n",
       "        vertical-align: top;\n",
       "    }\n",
       "\n",
       "    .dataframe thead th {\n",
       "        text-align: right;\n",
       "    }\n",
       "</style>\n",
       "<table border=\"1\" class=\"dataframe\">\n",
       "  <thead>\n",
       "    <tr style=\"text-align: right;\">\n",
       "      <th></th>\n",
       "      <th>CreationDate</th>\n",
       "      <th>Id</th>\n",
       "      <th>PostId</th>\n",
       "      <th>Score</th>\n",
       "      <th>Text</th>\n",
       "      <th>UserDisplayName</th>\n",
       "      <th>UserId</th>\n",
       "    </tr>\n",
       "  </thead>\n",
       "  <tbody>\n",
       "    <tr>\n",
       "      <th>0</th>\n",
       "      <td>2010-07-20T19:24:44.963</td>\n",
       "      <td>2</td>\n",
       "      <td>9</td>\n",
       "      <td>6</td>\n",
       "      <td>Fantastic answer!</td>\n",
       "      <td>NaN</td>\n",
       "      <td>10</td>\n",
       "    </tr>\n",
       "    <tr>\n",
       "      <th>1</th>\n",
       "      <td>2010-07-20T19:26:09.357</td>\n",
       "      <td>3</td>\n",
       "      <td>9</td>\n",
       "      <td>6</td>\n",
       "      <td>I like this so far, but maybe add a bit on unc...</td>\n",
       "      <td>NaN</td>\n",
       "      <td>16</td>\n",
       "    </tr>\n",
       "    <tr>\n",
       "      <th>2</th>\n",
       "      <td>2010-07-20T19:27:07.983</td>\n",
       "      <td>5</td>\n",
       "      <td>17</td>\n",
       "      <td>1</td>\n",
       "      <td>Oh, I figured as so. I remember learning about...</td>\n",
       "      <td>NaN</td>\n",
       "      <td>40</td>\n",
       "    </tr>\n",
       "    <tr>\n",
       "      <th>3</th>\n",
       "      <td>2010-07-20T19:28:16.077</td>\n",
       "      <td>8</td>\n",
       "      <td>17</td>\n",
       "      <td>1</td>\n",
       "      <td>It is much better than an approximation: it gi...</td>\n",
       "      <td>NaN</td>\n",
       "      <td>55</td>\n",
       "    </tr>\n",
       "    <tr>\n",
       "      <th>4</th>\n",
       "      <td>2010-07-20T19:29:17.900</td>\n",
       "      <td>10</td>\n",
       "      <td>20</td>\n",
       "      <td>3</td>\n",
       "      <td>You've missed out many types of number: comple...</td>\n",
       "      <td>NaN</td>\n",
       "      <td>35</td>\n",
       "    </tr>\n",
       "  </tbody>\n",
       "</table>\n",
       "</div>"
      ],
      "text/plain": [
       "              CreationDate  Id PostId Score  \\\n",
       "0  2010-07-20T19:24:44.963   2      9     6   \n",
       "1  2010-07-20T19:26:09.357   3      9     6   \n",
       "2  2010-07-20T19:27:07.983   5     17     1   \n",
       "3  2010-07-20T19:28:16.077   8     17     1   \n",
       "4  2010-07-20T19:29:17.900  10     20     3   \n",
       "\n",
       "                                                Text UserDisplayName UserId  \n",
       "0                                  Fantastic answer!             NaN     10  \n",
       "1  I like this so far, but maybe add a bit on unc...             NaN     16  \n",
       "2  Oh, I figured as so. I remember learning about...             NaN     40  \n",
       "3  It is much better than an approximation: it gi...             NaN     55  \n",
       "4  You've missed out many types of number: comple...             NaN     35  "
      ]
     },
     "execution_count": 27,
     "metadata": {},
     "output_type": "execute_result"
    }
   ],
   "source": [
    "df.head()"
   ]
  },
  {
   "cell_type": "code",
   "execution_count": 7,
   "metadata": {},
   "outputs": [
    {
     "data": {
      "text/plain": [
       "['', '', '\\\\frac{1}{b}']"
      ]
     },
     "execution_count": 7,
     "metadata": {},
     "output_type": "execute_result"
    }
   ],
   "source": [
    "import re\n",
    "double_dollar = re.compile(r'\\$\\$(.*?)\\$\\$')\n",
    "single_dollar = re.compile(r'\\$(.*?)\\$')\n",
    "\n",
    "def search_for_latex(text):\n",
    "    singles = re.findall(single_dollar, text)\n",
    "    doubles = re.findall(double_dollar, text)\n",
    "    return [m for m in singles+doubles if m != '']\n",
    "    \n",
    "math = \"abc $$123$$ 456$\\\\frac{1}{b}$\"\n",
    "re.findall(single_dollar, math)"
   ]
  },
  {
   "cell_type": "code",
   "execution_count": 61,
   "metadata": {},
   "outputs": [],
   "source": [
    "df['latex'] = df.Text.apply(search_for_latex)\n",
    "df['has_latex'] = df.latex.apply(len)!=0"
   ]
  },
  {
   "cell_type": "code",
   "execution_count": 62,
   "metadata": {},
   "outputs": [
    {
     "data": {
      "text/html": [
       "<div>\n",
       "<style scoped>\n",
       "    .dataframe tbody tr th:only-of-type {\n",
       "        vertical-align: middle;\n",
       "    }\n",
       "\n",
       "    .dataframe tbody tr th {\n",
       "        vertical-align: top;\n",
       "    }\n",
       "\n",
       "    .dataframe thead th {\n",
       "        text-align: right;\n",
       "    }\n",
       "</style>\n",
       "<table border=\"1\" class=\"dataframe\">\n",
       "  <thead>\n",
       "    <tr style=\"text-align: right;\">\n",
       "      <th></th>\n",
       "      <th>CreationDate</th>\n",
       "      <th>Id</th>\n",
       "      <th>PostId</th>\n",
       "      <th>Score</th>\n",
       "      <th>Text</th>\n",
       "      <th>UserDisplayName</th>\n",
       "      <th>UserId</th>\n",
       "      <th>latex</th>\n",
       "      <th>has_latex</th>\n",
       "    </tr>\n",
       "  </thead>\n",
       "  <tbody>\n",
       "    <tr>\n",
       "      <th>3</th>\n",
       "      <td>2010-07-20T19:28:16.077</td>\n",
       "      <td>8</td>\n",
       "      <td>17</td>\n",
       "      <td>1</td>\n",
       "      <td>It is much better than an approximation: it gi...</td>\n",
       "      <td>NaN</td>\n",
       "      <td>55</td>\n",
       "      <td>[n]</td>\n",
       "      <td>True</td>\n",
       "    </tr>\n",
       "    <tr>\n",
       "      <th>12</th>\n",
       "      <td>2010-07-20T19:41:44.767</td>\n",
       "      <td>20</td>\n",
       "      <td>17</td>\n",
       "      <td>6</td>\n",
       "      <td>By the way, if you want an approximation, you ...</td>\n",
       "      <td>NaN</td>\n",
       "      <td>55</td>\n",
       "      <td>[|1-\\varphi|&lt;1, F(n)={\\varphi^n \\over {\\sqrt 5}}]</td>\n",
       "      <td>True</td>\n",
       "    </tr>\n",
       "    <tr>\n",
       "      <th>137</th>\n",
       "      <td>2010-07-21T00:23:24.567</td>\n",
       "      <td>201</td>\n",
       "      <td>194</td>\n",
       "      <td>3</td>\n",
       "      <td>Yes (as has been answered): the heuristic reas...</td>\n",
       "      <td>NaN</td>\n",
       "      <td>536</td>\n",
       "      <td>[p_1, p_2, \\dots, p_n, (1-1/p_n), \\prod ( 1 - ...</td>\n",
       "      <td>True</td>\n",
       "    </tr>\n",
       "    <tr>\n",
       "      <th>272</th>\n",
       "      <td>2010-07-21T13:11:06.600</td>\n",
       "      <td>439</td>\n",
       "      <td>310</td>\n",
       "      <td>0</td>\n",
       "      <td>What do you mean by $T \\subset Z_{10}$? In fac...</td>\n",
       "      <td>NaN</td>\n",
       "      <td>123</td>\n",
       "      <td>[T \\subset Z_{10}, T]</td>\n",
       "      <td>True</td>\n",
       "    </tr>\n",
       "    <tr>\n",
       "      <th>276</th>\n",
       "      <td>2010-07-21T13:30:00.707</td>\n",
       "      <td>445</td>\n",
       "      <td>310</td>\n",
       "      <td>0</td>\n",
       "      <td>Ack, I meant $Z_{15}$. $T$ is the subring of $...</td>\n",
       "      <td>NaN</td>\n",
       "      <td>536</td>\n",
       "      <td>[Z_{15}, T, Z_{15}]</td>\n",
       "      <td>True</td>\n",
       "    </tr>\n",
       "    <tr>\n",
       "      <th>283</th>\n",
       "      <td>2010-07-21T13:54:43.813</td>\n",
       "      <td>455</td>\n",
       "      <td>310</td>\n",
       "      <td>0</td>\n",
       "      <td>Precisely (to give a homomorphism from $Z_n$ t...</td>\n",
       "      <td>NaN</td>\n",
       "      <td>536</td>\n",
       "      <td>[Z_n, n]</td>\n",
       "      <td>True</td>\n",
       "    </tr>\n",
       "    <tr>\n",
       "      <th>292</th>\n",
       "      <td>2010-07-21T14:40:10.350</td>\n",
       "      <td>469</td>\n",
       "      <td>135</td>\n",
       "      <td>2</td>\n",
       "      <td>I find the following pair of wolfram alpha plo...</td>\n",
       "      <td>NaN</td>\n",
       "      <td>167</td>\n",
       "      <td>[x^y]</td>\n",
       "      <td>True</td>\n",
       "    </tr>\n",
       "    <tr>\n",
       "      <th>332</th>\n",
       "      <td>2010-07-21T19:22:58.920</td>\n",
       "      <td>525</td>\n",
       "      <td>368</td>\n",
       "      <td>7</td>\n",
       "      <td>$\\Gamma(n+1)$... does it count? :p</td>\n",
       "      <td>NaN</td>\n",
       "      <td>171</td>\n",
       "      <td>[\\Gamma(n+1)]</td>\n",
       "      <td>True</td>\n",
       "    </tr>\n",
       "    <tr>\n",
       "      <th>334</th>\n",
       "      <td>2010-07-21T19:38:24.607</td>\n",
       "      <td>530</td>\n",
       "      <td>374</td>\n",
       "      <td>0</td>\n",
       "      <td>Really, I'm looking for something whose comple...</td>\n",
       "      <td>NaN</td>\n",
       "      <td>38</td>\n",
       "      <td>[O\\left( n\\right)]</td>\n",
       "      <td>True</td>\n",
       "    </tr>\n",
       "    <tr>\n",
       "      <th>352</th>\n",
       "      <td>2010-07-21T21:11:11.357</td>\n",
       "      <td>559</td>\n",
       "      <td>363</td>\n",
       "      <td>0</td>\n",
       "      <td>How come you can write $x^p + y^p$ as $\\prod (...</td>\n",
       "      <td>NaN</td>\n",
       "      <td>123</td>\n",
       "      <td>[x^p + y^p, \\prod (x+\\zeta_p^i)]</td>\n",
       "      <td>True</td>\n",
       "    </tr>\n",
       "  </tbody>\n",
       "</table>\n",
       "</div>"
      ],
      "text/plain": [
       "                CreationDate   Id PostId Score  \\\n",
       "3    2010-07-20T19:28:16.077    8     17     1   \n",
       "12   2010-07-20T19:41:44.767   20     17     6   \n",
       "137  2010-07-21T00:23:24.567  201    194     3   \n",
       "272  2010-07-21T13:11:06.600  439    310     0   \n",
       "276  2010-07-21T13:30:00.707  445    310     0   \n",
       "283  2010-07-21T13:54:43.813  455    310     0   \n",
       "292  2010-07-21T14:40:10.350  469    135     2   \n",
       "332  2010-07-21T19:22:58.920  525    368     7   \n",
       "334  2010-07-21T19:38:24.607  530    374     0   \n",
       "352  2010-07-21T21:11:11.357  559    363     0   \n",
       "\n",
       "                                                  Text UserDisplayName UserId  \\\n",
       "3    It is much better than an approximation: it gi...             NaN     55   \n",
       "12   By the way, if you want an approximation, you ...             NaN     55   \n",
       "137  Yes (as has been answered): the heuristic reas...             NaN    536   \n",
       "272  What do you mean by $T \\subset Z_{10}$? In fac...             NaN    123   \n",
       "276  Ack, I meant $Z_{15}$. $T$ is the subring of $...             NaN    536   \n",
       "283  Precisely (to give a homomorphism from $Z_n$ t...             NaN    536   \n",
       "292  I find the following pair of wolfram alpha plo...             NaN    167   \n",
       "332                 $\\Gamma(n+1)$... does it count? :p             NaN    171   \n",
       "334  Really, I'm looking for something whose comple...             NaN     38   \n",
       "352  How come you can write $x^p + y^p$ as $\\prod (...             NaN    123   \n",
       "\n",
       "                                                 latex  has_latex  \n",
       "3                                                  [n]       True  \n",
       "12   [|1-\\varphi|<1, F(n)={\\varphi^n \\over {\\sqrt 5}}]       True  \n",
       "137  [p_1, p_2, \\dots, p_n, (1-1/p_n), \\prod ( 1 - ...       True  \n",
       "272                              [T \\subset Z_{10}, T]       True  \n",
       "276                                [Z_{15}, T, Z_{15}]       True  \n",
       "283                                           [Z_n, n]       True  \n",
       "292                                              [x^y]       True  \n",
       "332                                      [\\Gamma(n+1)]       True  \n",
       "334                                 [O\\left( n\\right)]       True  \n",
       "352                   [x^p + y^p, \\prod (x+\\zeta_p^i)]       True  "
      ]
     },
     "execution_count": 62,
     "metadata": {},
     "output_type": "execute_result"
    }
   ],
   "source": [
    "df[has_latex].head(10)"
   ]
  },
  {
   "cell_type": "markdown",
   "metadata": {},
   "source": [
    "## Put it all together"
   ]
  },
  {
   "cell_type": "code",
   "execution_count": 8,
   "metadata": {},
   "outputs": [],
   "source": [
    "data_dirname = Path('../data/raw/')"
   ]
  },
  {
   "cell_type": "code",
   "execution_count": 16,
   "metadata": {},
   "outputs": [
    {
     "name": "stdout",
     "output_type": "stream",
     "text": [
      "Reading data from ../data/raw/math.stackexchange.com.7z\n",
      "Saving data to ../data/raw/math.stackexchange.com\n",
      "Running: 7za e ../data/raw/math.stackexchange.com.7z -o../data/raw/math.stackexchange.com\n",
      "Done. 134\n",
      "../data/raw/math.stackexchange.com/Comments.xml\n",
      "Wrote to ../data/raw/math.stackexchange.com/Comments.json\n",
      "../data/raw/math.stackexchange.com/Posts.xml\n"
     ]
    },
    {
     "ename": "OSError",
     "evalue": "[Errno 22] Invalid argument",
     "output_type": "error",
     "traceback": [
      "\u001b[0;31m---------------------------------------------------------------------------\u001b[0m",
      "\u001b[0;31mOSError\u001b[0m                                   Traceback (most recent call last)",
      "\u001b[0;32m<ipython-input-16-d6aac5bda058>\u001b[0m in \u001b[0;36m<module>\u001b[0;34m\u001b[0m\n\u001b[1;32m     12\u001b[0m             \u001b[0mdf\u001b[0m\u001b[0;34m[\u001b[0m\u001b[0;34m'latex'\u001b[0m\u001b[0;34m]\u001b[0m \u001b[0;34m=\u001b[0m \u001b[0mdf\u001b[0m\u001b[0;34m[\u001b[0m\u001b[0mtext_column\u001b[0m\u001b[0;34m]\u001b[0m\u001b[0;34m.\u001b[0m\u001b[0mapply\u001b[0m\u001b[0;34m(\u001b[0m\u001b[0msearch_for_latex\u001b[0m\u001b[0;34m)\u001b[0m\u001b[0;34m\u001b[0m\u001b[0;34m\u001b[0m\u001b[0m\n\u001b[1;32m     13\u001b[0m             \u001b[0mjson_filename\u001b[0m \u001b[0;34m=\u001b[0m \u001b[0mxml_file\u001b[0m\u001b[0;34m.\u001b[0m\u001b[0mwith_suffix\u001b[0m\u001b[0;34m(\u001b[0m\u001b[0;34m'.json'\u001b[0m\u001b[0;34m)\u001b[0m\u001b[0;34m\u001b[0m\u001b[0;34m\u001b[0m\u001b[0m\n\u001b[0;32m---> 14\u001b[0;31m             \u001b[0mdf\u001b[0m\u001b[0;34m.\u001b[0m\u001b[0mto_json\u001b[0m\u001b[0;34m(\u001b[0m\u001b[0mjson_filename\u001b[0m\u001b[0;34m)\u001b[0m\u001b[0;34m\u001b[0m\u001b[0;34m\u001b[0m\u001b[0m\n\u001b[0m\u001b[1;32m     15\u001b[0m             \u001b[0mprint\u001b[0m\u001b[0;34m(\u001b[0m\u001b[0;34mf'Wrote to {json_filename}'\u001b[0m\u001b[0;34m)\u001b[0m\u001b[0;34m\u001b[0m\u001b[0;34m\u001b[0m\u001b[0m\n",
      "\u001b[0;32m~/miniconda3/lib/python3.7/site-packages/pandas-0.24.2-py3.7-macosx-10.7-x86_64.egg/pandas/core/generic.py\u001b[0m in \u001b[0;36mto_json\u001b[0;34m(self, path_or_buf, orient, date_format, double_precision, force_ascii, date_unit, default_handler, lines, compression, index)\u001b[0m\n\u001b[1;32m   2271\u001b[0m                             \u001b[0mdefault_handler\u001b[0m\u001b[0;34m=\u001b[0m\u001b[0mdefault_handler\u001b[0m\u001b[0;34m,\u001b[0m\u001b[0;34m\u001b[0m\u001b[0;34m\u001b[0m\u001b[0m\n\u001b[1;32m   2272\u001b[0m                             \u001b[0mlines\u001b[0m\u001b[0;34m=\u001b[0m\u001b[0mlines\u001b[0m\u001b[0;34m,\u001b[0m \u001b[0mcompression\u001b[0m\u001b[0;34m=\u001b[0m\u001b[0mcompression\u001b[0m\u001b[0;34m,\u001b[0m\u001b[0;34m\u001b[0m\u001b[0;34m\u001b[0m\u001b[0m\n\u001b[0;32m-> 2273\u001b[0;31m                             index=index)\n\u001b[0m\u001b[1;32m   2274\u001b[0m \u001b[0;34m\u001b[0m\u001b[0m\n\u001b[1;32m   2275\u001b[0m     \u001b[0;32mdef\u001b[0m \u001b[0mto_hdf\u001b[0m\u001b[0;34m(\u001b[0m\u001b[0mself\u001b[0m\u001b[0;34m,\u001b[0m \u001b[0mpath_or_buf\u001b[0m\u001b[0;34m,\u001b[0m \u001b[0mkey\u001b[0m\u001b[0;34m,\u001b[0m \u001b[0;34m**\u001b[0m\u001b[0mkwargs\u001b[0m\u001b[0;34m)\u001b[0m\u001b[0;34m:\u001b[0m\u001b[0;34m\u001b[0m\u001b[0;34m\u001b[0m\u001b[0m\n",
      "\u001b[0;32m~/miniconda3/lib/python3.7/site-packages/pandas-0.24.2-py3.7-macosx-10.7-x86_64.egg/pandas/io/json/json.py\u001b[0m in \u001b[0;36mto_json\u001b[0;34m(path_or_buf, obj, orient, date_format, double_precision, force_ascii, date_unit, default_handler, lines, compression, index)\u001b[0m\n\u001b[1;32m     68\u001b[0m         \u001b[0mfh\u001b[0m\u001b[0;34m,\u001b[0m \u001b[0mhandles\u001b[0m \u001b[0;34m=\u001b[0m \u001b[0m_get_handle\u001b[0m\u001b[0;34m(\u001b[0m\u001b[0mpath_or_buf\u001b[0m\u001b[0;34m,\u001b[0m \u001b[0;34m'w'\u001b[0m\u001b[0;34m,\u001b[0m \u001b[0mcompression\u001b[0m\u001b[0;34m=\u001b[0m\u001b[0mcompression\u001b[0m\u001b[0;34m)\u001b[0m\u001b[0;34m\u001b[0m\u001b[0;34m\u001b[0m\u001b[0m\n\u001b[1;32m     69\u001b[0m         \u001b[0;32mtry\u001b[0m\u001b[0;34m:\u001b[0m\u001b[0;34m\u001b[0m\u001b[0;34m\u001b[0m\u001b[0m\n\u001b[0;32m---> 70\u001b[0;31m             \u001b[0mfh\u001b[0m\u001b[0;34m.\u001b[0m\u001b[0mwrite\u001b[0m\u001b[0;34m(\u001b[0m\u001b[0ms\u001b[0m\u001b[0;34m)\u001b[0m\u001b[0;34m\u001b[0m\u001b[0;34m\u001b[0m\u001b[0m\n\u001b[0m\u001b[1;32m     71\u001b[0m         \u001b[0;32mfinally\u001b[0m\u001b[0;34m:\u001b[0m\u001b[0;34m\u001b[0m\u001b[0;34m\u001b[0m\u001b[0m\n\u001b[1;32m     72\u001b[0m             \u001b[0mfh\u001b[0m\u001b[0;34m.\u001b[0m\u001b[0mclose\u001b[0m\u001b[0;34m(\u001b[0m\u001b[0;34m)\u001b[0m\u001b[0;34m\u001b[0m\u001b[0;34m\u001b[0m\u001b[0m\n",
      "\u001b[0;31mOSError\u001b[0m: [Errno 22] Invalid argument"
     ]
    }
   ],
   "source": [
    "columns = {\n",
    "        'Posts.xml': 'Body',\n",
    "        'Comments.xml': 'Text'\n",
    "          }\n",
    "for raw_datafile in data_dirname.rglob('*.7z'):  # open each .7z file\n",
    "    output_dirname = open_7z(raw_datafile)\n",
    "    for xml_file in output_dirname.rglob('*.xml'):  # find all .xml files\n",
    "        if xml_file.name in ('Posts.xml', 'Comments.xml'):  # Probably only want the Posts/Comments\n",
    "            print(xml_file)\n",
    "            df = parse_xml_file(xml_file)\n",
    "            text_column = columns[xml_file.name]\n",
    "            df['latex'] = df[text_column].apply(search_for_latex)\n",
    "            json_filename = xml_file.with_suffix('.json')\n",
    "            df.to_json(json_filename)\n",
    "            print(f'Wrote to {json_filename}')"
   ]
  },
  {
   "cell_type": "code",
   "execution_count": 21,
   "metadata": {},
   "outputs": [
    {
     "ename": "OSError",
     "evalue": "[Errno 22] Invalid argument",
     "output_type": "error",
     "traceback": [
      "\u001b[0;31m---------------------------------------------------------------------------\u001b[0m",
      "\u001b[0;31mOSError\u001b[0m                                   Traceback (most recent call last)",
      "\u001b[0;32m<ipython-input-21-60352b097e93>\u001b[0m in \u001b[0;36m<module>\u001b[0;34m\u001b[0m\n\u001b[0;32m----> 1\u001b[0;31m \u001b[0mdf\u001b[0m\u001b[0;34m.\u001b[0m\u001b[0mto_json\u001b[0m\u001b[0;34m(\u001b[0m\u001b[0mjson_filename\u001b[0m\u001b[0;34m)\u001b[0m\u001b[0;34m\u001b[0m\u001b[0;34m\u001b[0m\u001b[0m\n\u001b[0m",
      "\u001b[0;32m~/miniconda3/lib/python3.7/site-packages/pandas-0.24.2-py3.7-macosx-10.7-x86_64.egg/pandas/core/generic.py\u001b[0m in \u001b[0;36mto_json\u001b[0;34m(self, path_or_buf, orient, date_format, double_precision, force_ascii, date_unit, default_handler, lines, compression, index)\u001b[0m\n\u001b[1;32m   2271\u001b[0m                             \u001b[0mdefault_handler\u001b[0m\u001b[0;34m=\u001b[0m\u001b[0mdefault_handler\u001b[0m\u001b[0;34m,\u001b[0m\u001b[0;34m\u001b[0m\u001b[0;34m\u001b[0m\u001b[0m\n\u001b[1;32m   2272\u001b[0m                             \u001b[0mlines\u001b[0m\u001b[0;34m=\u001b[0m\u001b[0mlines\u001b[0m\u001b[0;34m,\u001b[0m \u001b[0mcompression\u001b[0m\u001b[0;34m=\u001b[0m\u001b[0mcompression\u001b[0m\u001b[0;34m,\u001b[0m\u001b[0;34m\u001b[0m\u001b[0;34m\u001b[0m\u001b[0m\n\u001b[0;32m-> 2273\u001b[0;31m                             index=index)\n\u001b[0m\u001b[1;32m   2274\u001b[0m \u001b[0;34m\u001b[0m\u001b[0m\n\u001b[1;32m   2275\u001b[0m     \u001b[0;32mdef\u001b[0m \u001b[0mto_hdf\u001b[0m\u001b[0;34m(\u001b[0m\u001b[0mself\u001b[0m\u001b[0;34m,\u001b[0m \u001b[0mpath_or_buf\u001b[0m\u001b[0;34m,\u001b[0m \u001b[0mkey\u001b[0m\u001b[0;34m,\u001b[0m \u001b[0;34m**\u001b[0m\u001b[0mkwargs\u001b[0m\u001b[0;34m)\u001b[0m\u001b[0;34m:\u001b[0m\u001b[0;34m\u001b[0m\u001b[0;34m\u001b[0m\u001b[0m\n",
      "\u001b[0;32m~/miniconda3/lib/python3.7/site-packages/pandas-0.24.2-py3.7-macosx-10.7-x86_64.egg/pandas/io/json/json.py\u001b[0m in \u001b[0;36mto_json\u001b[0;34m(path_or_buf, obj, orient, date_format, double_precision, force_ascii, date_unit, default_handler, lines, compression, index)\u001b[0m\n\u001b[1;32m     68\u001b[0m         \u001b[0mfh\u001b[0m\u001b[0;34m,\u001b[0m \u001b[0mhandles\u001b[0m \u001b[0;34m=\u001b[0m \u001b[0m_get_handle\u001b[0m\u001b[0;34m(\u001b[0m\u001b[0mpath_or_buf\u001b[0m\u001b[0;34m,\u001b[0m \u001b[0;34m'w'\u001b[0m\u001b[0;34m,\u001b[0m \u001b[0mcompression\u001b[0m\u001b[0;34m=\u001b[0m\u001b[0mcompression\u001b[0m\u001b[0;34m)\u001b[0m\u001b[0;34m\u001b[0m\u001b[0;34m\u001b[0m\u001b[0m\n\u001b[1;32m     69\u001b[0m         \u001b[0;32mtry\u001b[0m\u001b[0;34m:\u001b[0m\u001b[0;34m\u001b[0m\u001b[0;34m\u001b[0m\u001b[0m\n\u001b[0;32m---> 70\u001b[0;31m             \u001b[0mfh\u001b[0m\u001b[0;34m.\u001b[0m\u001b[0mwrite\u001b[0m\u001b[0;34m(\u001b[0m\u001b[0ms\u001b[0m\u001b[0;34m)\u001b[0m\u001b[0;34m\u001b[0m\u001b[0;34m\u001b[0m\u001b[0m\n\u001b[0m\u001b[1;32m     71\u001b[0m         \u001b[0;32mfinally\u001b[0m\u001b[0;34m:\u001b[0m\u001b[0;34m\u001b[0m\u001b[0;34m\u001b[0m\u001b[0m\n\u001b[1;32m     72\u001b[0m             \u001b[0mfh\u001b[0m\u001b[0;34m.\u001b[0m\u001b[0mclose\u001b[0m\u001b[0;34m(\u001b[0m\u001b[0;34m)\u001b[0m\u001b[0;34m\u001b[0m\u001b[0;34m\u001b[0m\u001b[0m\n",
      "\u001b[0;31mOSError\u001b[0m: [Errno 22] Invalid argument"
     ]
    }
   ],
   "source": [
    "df.to_json(json_filename)"
   ]
  },
  {
   "cell_type": "code",
   "execution_count": null,
   "metadata": {},
   "outputs": [],
   "source": []
  }
 ],
 "metadata": {
  "kernelspec": {
   "display_name": "Python 3",
   "language": "python",
   "name": "python3"
  },
  "language_info": {
   "codemirror_mode": {
    "name": "ipython",
    "version": 3
   },
   "file_extension": ".py",
   "mimetype": "text/x-python",
   "name": "python",
   "nbconvert_exporter": "python",
   "pygments_lexer": "ipython3",
   "version": "3.7.1"
  }
 },
 "nbformat": 4,
 "nbformat_minor": 2
}

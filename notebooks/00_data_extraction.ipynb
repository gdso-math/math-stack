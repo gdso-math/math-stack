{
 "cells": [
  {
   "cell_type": "code",
   "execution_count": 1,
   "metadata": {},
   "outputs": [],
   "source": [
    "from pathlib import Path\n",
    "import subprocess"
   ]
  },
  {
   "cell_type": "code",
   "execution_count": 2,
   "metadata": {},
   "outputs": [],
   "source": [
    "raw_datadir = Path('../data/raw/')"
   ]
  },
  {
   "cell_type": "code",
   "execution_count": 3,
   "metadata": {},
   "outputs": [
    {
     "name": "stdout",
     "output_type": "stream",
     "text": [
      "../data/raw/math.stackexchange.com.7z\n"
     ]
    }
   ],
   "source": [
    "filepath = raw_datadir / 'math.stackexchange.com.7z'\n",
    "print(filepath)"
   ]
  },
  {
   "cell_type": "code",
   "execution_count": 85,
   "metadata": {},
   "outputs": [],
   "source": [
    "def get_output_dirname(path):\n",
    "    filename = path.name\n",
    "    return path.with_suffix('')\n",
    "    \n",
    "def open_7z(path):\n",
    "    output_dirname = get_output_dirname(path)\n",
    "    output_dirname.mkdir(exist_ok=True, parents=True)\n",
    "    exe_str = f\"7za e {path} -o{output_dirname}\"\n",
    "    \n",
    "    print(f'Reading data from {path}')\n",
    "    print(f'Saving data to {output_dirname}')\n",
    "    print(\"Running:\", exe_str)\n",
    "    p = subprocess.call(exe_str, shell=True)\n",
    "    print(f'Done. {p}')\n",
    "    return"
   ]
  },
  {
   "cell_type": "code",
   "execution_count": 88,
   "metadata": {},
   "outputs": [
    {
     "name": "stdout",
     "output_type": "stream",
     "text": [
      "Reading data from ../data/raw/math.stackexchange.com.7z\n",
      "Saving data to ../data/raw/math.stackexchange.com\n",
      "Running: 7za e ../data/raw/math.stackexchange.com.7z -o../data/raw/math.stackexchange.com\n",
      "Done. 0\n"
     ]
    }
   ],
   "source": [
    "open_7z(filepath)"
   ]
  },
  {
   "cell_type": "code",
   "execution_count": 89,
   "metadata": {},
   "outputs": [
    {
     "name": "stdout",
     "output_type": "stream",
     "text": [
      "Badges.xml      PostHistory.xml Posts.xml       Users.xml\r\n",
      "Comments.xml    PostLinks.xml   Tags.xml        Votes.xml\r\n"
     ]
    }
   ],
   "source": [
    "!ls ../data/raw/math.stackexchange.com"
   ]
  },
  {
   "cell_type": "code",
   "execution_count": 22,
   "metadata": {},
   "outputs": [],
   "source": [
    "import xml.etree.ElementTree as ET\n",
    "import pandas as pd\n",
    "\n",
    "def parse_xml_file(path):\n",
    "    \"\"\"Read the xml file from path and return a pandas dataframe with all the data.\"\"\"\n",
    "    root = ET.parse(path).getroot()\n",
    "    rows = root.findall('row')\n",
    "    return pd.DataFrame([dict(row.items()) for row in rows])"
   ]
  },
  {
   "cell_type": "code",
   "execution_count": null,
   "metadata": {},
   "outputs": [],
   "source": [
    "df = parse_xml_file('../data/raw/math.stackexchange.com/Comments.xml')"
   ]
  },
  {
   "cell_type": "code",
   "execution_count": null,
   "metadata": {},
   "outputs": [],
   "source": [
    "df.head()"
   ]
  },
  {
   "cell_type": "code",
   "execution_count": null,
   "metadata": {},
   "outputs": [],
   "source": []
  }
 ],
 "metadata": {
  "kernelspec": {
   "display_name": "Python 3",
   "language": "python",
   "name": "python3"
  },
  "language_info": {
   "codemirror_mode": {
    "name": "ipython",
    "version": 3
   },
   "file_extension": ".py",
   "mimetype": "text/x-python",
   "name": "python",
   "nbconvert_exporter": "python",
   "pygments_lexer": "ipython3",
   "version": "3.7.1"
  }
 },
 "nbformat": 4,
 "nbformat_minor": 2
}

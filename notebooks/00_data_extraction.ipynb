{
 "cells": [
  {
   "cell_type": "code",
   "execution_count": 45,
   "metadata": {},
   "outputs": [],
   "source": [
    "from pathlib import Path\n",
    "import subprocess"
   ]
  },
  {
   "cell_type": "code",
   "execution_count": 3,
   "metadata": {},
   "outputs": [],
   "source": [
    "raw_datadir = Path('../data/raw/')"
   ]
  },
  {
   "cell_type": "code",
   "execution_count": 12,
   "metadata": {},
   "outputs": [
    {
     "data": {
      "text/plain": [
       "'math.stackexchange'"
      ]
     },
     "execution_count": 12,
     "metadata": {},
     "output_type": "execute_result"
    }
   ],
   "source": [
    "filepath = raw_datadir / 'math.stackexchange.com.7z'\n",
    "filepath.name.rstrip('.com.7z')"
   ]
  },
  {
   "cell_type": "code",
   "execution_count": 23,
   "metadata": {},
   "outputs": [
    {
     "name": "stdout",
     "output_type": "stream",
     "text": [
      "Looking in indexes: https://pypi.getlightbox.com/codeship/release\n",
      "Collecting pylzma\n",
      "\u001b[?25l  Downloading https://pypi.getlightbox.com/root/pypi/+f/b87/4172afbf37770/pylzma-0.5.0.tar.gz (4.2MB)\n",
      "\u001b[K    100% |████████████████████████████████| 4.2MB 4.1MB/s eta 0:00:01\n",
      "\u001b[?25hBuilding wheels for collected packages: pylzma\n",
      "  Running setup.py bdist_wheel for pylzma ... \u001b[?25ldone\n",
      "\u001b[?25h  Stored in directory: /tmp/pip/wheels/03/13/05/e42e7acd3466d4d05b17ebd232cc47257e52188bf915036163\n",
      "Successfully built pylzma\n",
      "Installing collected packages: pylzma\n",
      "Successfully installed pylzma-0.5.0\n"
     ]
    }
   ],
   "source": [
    "!pip install pylzma"
   ]
  },
  {
   "cell_type": "code",
   "execution_count": 31,
   "metadata": {},
   "outputs": [
    {
     "name": "stdout",
     "output_type": "stream",
     "text": [
      "Badges.xml\n",
      "Comments.xml\n",
      "PostHistory.xml\n",
      "PostLinks.xml\n",
      "Posts.xml\n",
      "Tags.xml\n",
      "Users.xml\n",
      "Votes.xml\n"
     ]
    }
   ],
   "source": [
    "import py7zlib\n",
    "\n",
    "with open(filepath, 'rb') as fo:\n",
    "    archive = py7zlib.Archive7z(fo)\n",
    "    for name in archive.filenames:\n",
    "        print(name)"
   ]
  },
  {
   "cell_type": "code",
   "execution_count": 36,
   "metadata": {},
   "outputs": [
    {
     "data": {
      "text/plain": [
       "PosixPath('../data/raw/math.stackexchange.com')"
      ]
     },
     "execution_count": 36,
     "metadata": {},
     "output_type": "execute_result"
    }
   ],
   "source": [
    "filepath.with_suffix('')"
   ]
  },
  {
   "cell_type": "code",
   "execution_count": 85,
   "metadata": {},
   "outputs": [],
   "source": [
    "def get_output_dirname(path):\n",
    "    filename = path.name\n",
    "    return path.with_suffix('')\n",
    "    \n",
    "def open_7z(path):\n",
    "    output_dirname = get_output_dirname(path)\n",
    "    output_dirname.mkdir(exist_ok=True, parents=True)\n",
    "    exe_str = f\"7za e {path} -o{output_dirname}\"\n",
    "    \n",
    "    print(f'Reading data from {path}')\n",
    "    print(f'Saving data to {output_dirname}')\n",
    "    print(\"Running:\", exe_str)\n",
    "    p = subprocess.call(exe_str, shell=True)\n",
    "    print(f'Done. {p}')\n",
    "    return"
   ]
  },
  {
   "cell_type": "code",
   "execution_count": 88,
   "metadata": {},
   "outputs": [
    {
     "name": "stdout",
     "output_type": "stream",
     "text": [
      "Reading data from ../data/raw/math.stackexchange.com.7z\n",
      "Saving data to ../data/raw/math.stackexchange.com\n",
      "Running: 7za e ../data/raw/math.stackexchange.com.7z -o../data/raw/math.stackexchange.com\n",
      "Done. 0\n"
     ]
    }
   ],
   "source": [
    "open_7z(filepath)"
   ]
  },
  {
   "cell_type": "code",
   "execution_count": 87,
   "metadata": {},
   "outputs": [
    {
     "name": "stdout",
     "output_type": "stream",
     "text": [
      "ls: ../data/raw/math.stackexchange.com: No such file or directory\r\n"
     ]
    }
   ],
   "source": [
    "!ls ../data/raw/math.stackexchange.com"
   ]
  },
  {
   "cell_type": "code",
   "execution_count": null,
   "metadata": {},
   "outputs": [],
   "source": []
  }
 ],
 "metadata": {
  "kernelspec": {
   "display_name": "Python 3",
   "language": "python",
   "name": "python3"
  },
  "language_info": {
   "codemirror_mode": {
    "name": "ipython",
    "version": 3
   },
   "file_extension": ".py",
   "mimetype": "text/x-python",
   "name": "python",
   "nbconvert_exporter": "python",
   "pygments_lexer": "ipython3",
   "version": "3.7.1"
  }
 },
 "nbformat": 4,
 "nbformat_minor": 2
}

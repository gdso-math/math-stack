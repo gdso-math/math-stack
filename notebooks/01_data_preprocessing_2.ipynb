{
 "cells": [
  {
   "cell_type": "code",
   "execution_count": 1,
   "metadata": {},
   "outputs": [],
   "source": [
    "import pandas as pd\n",
    "import re\n",
    "import time"
   ]
  },
  {
   "cell_type": "code",
   "execution_count": 2,
   "metadata": {},
   "outputs": [
    {
     "name": "stderr",
     "output_type": "stream",
     "text": [
      "/usr/local/Cellar/ipython/7.6.1/libexec/lib/python3.7/site-packages/IPython/core/interactiveshell.py:3057: DtypeWarning: Columns (11) have mixed types. Specify dtype option on import or set low_memory=False.\n",
      "  interactivity=interactivity, compiler=compiler, result=result)\n"
     ]
    }
   ],
   "source": [
    "math_comment = pd.read_csv(\"../data/csv/math_comment.csv\", lineterminator='\\n')\n",
    "chemistry_comment = pd.read_csv(\"../data/csv/chemistry_comment.csv\", lineterminator='\\n')\n",
    "physics_comment = pd.read_csv(\"../data/csv/physics_comment.csv\", lineterminator='\\n')\n",
    "biology_comment = pd.read_csv(\"../data/csv/biology_comment.csv\", lineterminator='\\n')\n",
    "\n",
    "math_post = pd.read_csv(\"../data/csv/math_post.csv\", lineterminator='\\n')\n",
    "chemistry_post = pd.read_csv(\"../data/csv/chemistry_post.csv\", lineterminator='\\n')\n",
    "physics_post = pd.read_csv(\"../data/csv/physics_post.csv\", lineterminator='\\n')\n",
    "biology_post = pd.read_csv(\"../data/csv/biology_post.csv\", lineterminator='\\n')"
   ]
  },
  {
   "cell_type": "code",
   "execution_count": 3,
   "metadata": {},
   "outputs": [],
   "source": [
    "def regrex_processing_comment(subject):\n",
    "    equation = []\n",
    "    pattern = re.compile('.*?\\$(.+?)\\$')\n",
    "    subject['Text'] = subject['Text'].astype(str)\n",
    "    for text in subject.Text:\n",
    "        try:\n",
    "            if \"$\" in text:\n",
    "                eq = re.findall(pattern, text)\n",
    "                for i in range(len(eq)):\n",
    "                    eq[i] = eq[i].replace(\"$\", \"\")\n",
    "                equation.append(eq)\n",
    "            else:\n",
    "                equation.append(None)\n",
    "        except:\n",
    "            print('An error occured with ' + text)\n",
    "    subject['Equation'] = equation\n",
    "    new_subject = subject[subject['Equation'].notnull()].reset_index(drop = True)\n",
    "    return new_subject"
   ]
  },
  {
   "cell_type": "code",
   "execution_count": 4,
   "metadata": {},
   "outputs": [],
   "source": [
    "def regrex_processing_post(subject):\n",
    "    equation = []\n",
    "    pattern = re.compile('.*?\\$(.+?)\\$')\n",
    "    subject['Body'] = subject['Body'].astype(str)\n",
    "    for text in subject.Body:\n",
    "        try:\n",
    "            if \"$\" in text:\n",
    "                eq = re.findall(pattern, text)\n",
    "                for i in range(len(eq)):\n",
    "                    eq[i] = eq[i].replace(\"$\", \"\")\n",
    "                equation.append(eq)\n",
    "            else:\n",
    "                equation.append(None)\n",
    "        except:\n",
    "            print('An error occured with ' + text)\n",
    "    subject['Equation'] = equation\n",
    "    new_subject = subject[subject['Equation'].notnull()].reset_index(drop = True)\n",
    "    return new_subject"
   ]
  },
  {
   "cell_type": "code",
   "execution_count": 5,
   "metadata": {},
   "outputs": [],
   "source": [
    "math_comment = regrex_processing_comment(math_comment)\n",
    "math_comment['Label'] = 'math' "
   ]
  },
  {
   "cell_type": "code",
   "execution_count": 6,
   "metadata": {},
   "outputs": [
    {
     "data": {
      "text/html": [
       "<div>\n",
       "<style scoped>\n",
       "    .dataframe tbody tr th:only-of-type {\n",
       "        vertical-align: middle;\n",
       "    }\n",
       "\n",
       "    .dataframe tbody tr th {\n",
       "        vertical-align: top;\n",
       "    }\n",
       "\n",
       "    .dataframe thead th {\n",
       "        text-align: right;\n",
       "    }\n",
       "</style>\n",
       "<table border=\"1\" class=\"dataframe\">\n",
       "  <thead>\n",
       "    <tr style=\"text-align: right;\">\n",
       "      <th></th>\n",
       "      <th>CreationDate</th>\n",
       "      <th>Id</th>\n",
       "      <th>PostId</th>\n",
       "      <th>Score</th>\n",
       "      <th>Text</th>\n",
       "      <th>UserDisplayName</th>\n",
       "      <th>UserId</th>\n",
       "      <th>Equation</th>\n",
       "      <th>Label</th>\n",
       "    </tr>\n",
       "  </thead>\n",
       "  <tbody>\n",
       "    <tr>\n",
       "      <th>0</th>\n",
       "      <td>2010-07-20T19:28:16.077</td>\n",
       "      <td>8</td>\n",
       "      <td>17</td>\n",
       "      <td>1</td>\n",
       "      <td>It is much better than an approximation: it gi...</td>\n",
       "      <td>NaN</td>\n",
       "      <td>55.0</td>\n",
       "      <td>[n]</td>\n",
       "      <td>math</td>\n",
       "    </tr>\n",
       "    <tr>\n",
       "      <th>1</th>\n",
       "      <td>2010-07-20T19:41:44.767</td>\n",
       "      <td>20</td>\n",
       "      <td>17</td>\n",
       "      <td>6</td>\n",
       "      <td>By the way, if you want an approximation, you ...</td>\n",
       "      <td>NaN</td>\n",
       "      <td>55.0</td>\n",
       "      <td>[|1-\\varphi|&lt;1, F(n)={\\varphi^n \\over {\\sqrt 5}}]</td>\n",
       "      <td>math</td>\n",
       "    </tr>\n",
       "    <tr>\n",
       "      <th>2</th>\n",
       "      <td>2010-07-21T00:23:24.567</td>\n",
       "      <td>201</td>\n",
       "      <td>194</td>\n",
       "      <td>3</td>\n",
       "      <td>Yes (as has been answered): the heuristic reas...</td>\n",
       "      <td>NaN</td>\n",
       "      <td>536.0</td>\n",
       "      <td>[p_1, p_2, \\dots, p_n, (1-1/p_n), \\prod ( 1 - ...</td>\n",
       "      <td>math</td>\n",
       "    </tr>\n",
       "    <tr>\n",
       "      <th>3</th>\n",
       "      <td>2010-07-21T13:11:06.600</td>\n",
       "      <td>439</td>\n",
       "      <td>310</td>\n",
       "      <td>0</td>\n",
       "      <td>What do you mean by $T \\subset Z_{10}$? In fac...</td>\n",
       "      <td>NaN</td>\n",
       "      <td>123.0</td>\n",
       "      <td>[T \\subset Z_{10}, T]</td>\n",
       "      <td>math</td>\n",
       "    </tr>\n",
       "    <tr>\n",
       "      <th>4</th>\n",
       "      <td>2010-07-21T13:30:00.707</td>\n",
       "      <td>445</td>\n",
       "      <td>310</td>\n",
       "      <td>0</td>\n",
       "      <td>Ack, I meant $Z_{15}$. $T$ is the subring of $...</td>\n",
       "      <td>NaN</td>\n",
       "      <td>536.0</td>\n",
       "      <td>[Z_{15}, T, Z_{15}]</td>\n",
       "      <td>math</td>\n",
       "    </tr>\n",
       "  </tbody>\n",
       "</table>\n",
       "</div>"
      ],
      "text/plain": [
       "              CreationDate   Id  PostId  Score  \\\n",
       "0  2010-07-20T19:28:16.077    8      17      1   \n",
       "1  2010-07-20T19:41:44.767   20      17      6   \n",
       "2  2010-07-21T00:23:24.567  201     194      3   \n",
       "3  2010-07-21T13:11:06.600  439     310      0   \n",
       "4  2010-07-21T13:30:00.707  445     310      0   \n",
       "\n",
       "                                                Text UserDisplayName  UserId  \\\n",
       "0  It is much better than an approximation: it gi...             NaN    55.0   \n",
       "1  By the way, if you want an approximation, you ...             NaN    55.0   \n",
       "2  Yes (as has been answered): the heuristic reas...             NaN   536.0   \n",
       "3  What do you mean by $T \\subset Z_{10}$? In fac...             NaN   123.0   \n",
       "4  Ack, I meant $Z_{15}$. $T$ is the subring of $...             NaN   536.0   \n",
       "\n",
       "                                            Equation Label  \n",
       "0                                                [n]  math  \n",
       "1  [|1-\\varphi|<1, F(n)={\\varphi^n \\over {\\sqrt 5}}]  math  \n",
       "2  [p_1, p_2, \\dots, p_n, (1-1/p_n), \\prod ( 1 - ...  math  \n",
       "3                              [T \\subset Z_{10}, T]  math  \n",
       "4                                [Z_{15}, T, Z_{15}]  math  "
      ]
     },
     "execution_count": 6,
     "metadata": {},
     "output_type": "execute_result"
    }
   ],
   "source": [
    "math_comment.head()"
   ]
  },
  {
   "cell_type": "code",
   "execution_count": 7,
   "metadata": {},
   "outputs": [],
   "source": [
    "math_comment_rows = []"
   ]
  },
  {
   "cell_type": "code",
   "execution_count": 8,
   "metadata": {},
   "outputs": [],
   "source": [
    "_ = math_comment.apply(lambda row: [math_comment_rows.append([eqn, row[\"Label\"], row[\"Text\"]]) for eqn in row.Equation], axis=1)"
   ]
  },
  {
   "cell_type": "code",
   "execution_count": 9,
   "metadata": {},
   "outputs": [],
   "source": [
    "math_comment_eqn_filtered = pd.DataFrame(math_comment_rows, columns=[\"Equation\", \"Label\", \"Body\"])"
   ]
  },
  {
   "cell_type": "code",
   "execution_count": 10,
   "metadata": {},
   "outputs": [
    {
     "data": {
      "text/html": [
       "<div>\n",
       "<style scoped>\n",
       "    .dataframe tbody tr th:only-of-type {\n",
       "        vertical-align: middle;\n",
       "    }\n",
       "\n",
       "    .dataframe tbody tr th {\n",
       "        vertical-align: top;\n",
       "    }\n",
       "\n",
       "    .dataframe thead th {\n",
       "        text-align: right;\n",
       "    }\n",
       "</style>\n",
       "<table border=\"1\" class=\"dataframe\">\n",
       "  <thead>\n",
       "    <tr style=\"text-align: right;\">\n",
       "      <th></th>\n",
       "      <th>Equation</th>\n",
       "      <th>Label</th>\n",
       "      <th>Body</th>\n",
       "    </tr>\n",
       "  </thead>\n",
       "  <tbody>\n",
       "    <tr>\n",
       "      <th>0</th>\n",
       "      <td>n</td>\n",
       "      <td>math</td>\n",
       "      <td>It is much better than an approximation: it gi...</td>\n",
       "    </tr>\n",
       "    <tr>\n",
       "      <th>1</th>\n",
       "      <td>|1-\\varphi|&lt;1</td>\n",
       "      <td>math</td>\n",
       "      <td>By the way, if you want an approximation, you ...</td>\n",
       "    </tr>\n",
       "    <tr>\n",
       "      <th>2</th>\n",
       "      <td>F(n)={\\varphi^n \\over {\\sqrt 5}}</td>\n",
       "      <td>math</td>\n",
       "      <td>By the way, if you want an approximation, you ...</td>\n",
       "    </tr>\n",
       "    <tr>\n",
       "      <th>3</th>\n",
       "      <td>p_1, p_2, \\dots</td>\n",
       "      <td>math</td>\n",
       "      <td>Yes (as has been answered): the heuristic reas...</td>\n",
       "    </tr>\n",
       "    <tr>\n",
       "      <th>4</th>\n",
       "      <td>p_n</td>\n",
       "      <td>math</td>\n",
       "      <td>Yes (as has been answered): the heuristic reas...</td>\n",
       "    </tr>\n",
       "  </tbody>\n",
       "</table>\n",
       "</div>"
      ],
      "text/plain": [
       "                           Equation Label  \\\n",
       "0                                 n  math   \n",
       "1                     |1-\\varphi|<1  math   \n",
       "2  F(n)={\\varphi^n \\over {\\sqrt 5}}  math   \n",
       "3                   p_1, p_2, \\dots  math   \n",
       "4                               p_n  math   \n",
       "\n",
       "                                                Body  \n",
       "0  It is much better than an approximation: it gi...  \n",
       "1  By the way, if you want an approximation, you ...  \n",
       "2  By the way, if you want an approximation, you ...  \n",
       "3  Yes (as has been answered): the heuristic reas...  \n",
       "4  Yes (as has been answered): the heuristic reas...  "
      ]
     },
     "execution_count": 10,
     "metadata": {},
     "output_type": "execute_result"
    }
   ],
   "source": [
    "math_comment_eqn_filtered.head()"
   ]
  },
  {
   "cell_type": "code",
   "execution_count": 11,
   "metadata": {},
   "outputs": [
    {
     "data": {
      "text/plain": [
       "RangeIndex(start=0, stop=5694836, step=1)"
      ]
     },
     "execution_count": 11,
     "metadata": {},
     "output_type": "execute_result"
    }
   ],
   "source": [
    "math_comment_eqn_filtered.index"
   ]
  },
  {
   "cell_type": "code",
   "execution_count": 12,
   "metadata": {},
   "outputs": [],
   "source": [
    "math_comment_eqn_filtered.to_csv(\"../data/equation/math_comment_eq_filtered.csv\", index=False)"
   ]
  },
  {
   "cell_type": "code",
   "execution_count": 13,
   "metadata": {},
   "outputs": [],
   "source": [
    "math_post = regrex_processing_post(math_post)\n",
    "math_post['Label'] = 'math'"
   ]
  },
  {
   "cell_type": "code",
   "execution_count": 14,
   "metadata": {},
   "outputs": [
    {
     "data": {
      "text/plain": [
       "RangeIndex(start=0, stop=2339630, step=1)"
      ]
     },
     "execution_count": 14,
     "metadata": {},
     "output_type": "execute_result"
    }
   ],
   "source": [
    "math_post.index"
   ]
  },
  {
   "cell_type": "code",
   "execution_count": 15,
   "metadata": {},
   "outputs": [],
   "source": [
    "math_post_rows = []\n",
    "_ = math_post.apply(lambda row: [math_post_rows.append([eqn, row[\"Label\"], row[\"Body\"], row[\"Tags\"]]) for eqn in row.Equation], axis=1)"
   ]
  },
  {
   "cell_type": "code",
   "execution_count": 18,
   "metadata": {},
   "outputs": [],
   "source": [
    "math_post_eqn_filtered = pd.DataFrame(math_post_rows, columns=[\"Equation\", \"Label\", \"Body\", \"Tags\"])"
   ]
  },
  {
   "cell_type": "code",
   "execution_count": 19,
   "metadata": {},
   "outputs": [
    {
     "data": {
      "text/plain": [
       "RangeIndex(start=0, stop=23301802, step=1)"
      ]
     },
     "execution_count": 19,
     "metadata": {},
     "output_type": "execute_result"
    }
   ],
   "source": [
    "math_post_eqn_filtered.index"
   ]
  },
  {
   "cell_type": "code",
   "execution_count": 20,
   "metadata": {},
   "outputs": [
    {
     "data": {
      "text/html": [
       "<div>\n",
       "<style scoped>\n",
       "    .dataframe tbody tr th:only-of-type {\n",
       "        vertical-align: middle;\n",
       "    }\n",
       "\n",
       "    .dataframe tbody tr th {\n",
       "        vertical-align: top;\n",
       "    }\n",
       "\n",
       "    .dataframe thead th {\n",
       "        text-align: right;\n",
       "    }\n",
       "</style>\n",
       "<table border=\"1\" class=\"dataframe\">\n",
       "  <thead>\n",
       "    <tr style=\"text-align: right;\">\n",
       "      <th></th>\n",
       "      <th>Equation</th>\n",
       "      <th>Label</th>\n",
       "      <th>Body</th>\n",
       "      <th>Tags</th>\n",
       "    </tr>\n",
       "  </thead>\n",
       "  <tbody>\n",
       "    <tr>\n",
       "      <th>0</th>\n",
       "      <td>\\sqrt{2}</td>\n",
       "      <td>math</td>\n",
       "      <td>&lt;p&gt;I have read a few proofs that $\\sqrt{2}$ is...</td>\n",
       "      <td>&lt;elementary-number-theory&gt;&lt;proof-writing&gt;&lt;radi...</td>\n",
       "    </tr>\n",
       "    <tr>\n",
       "      <th>1</th>\n",
       "      <td>\\sqrt{2}</td>\n",
       "      <td>math</td>\n",
       "      <td>&lt;p&gt;I have read a few proofs that $\\sqrt{2}$ is...</td>\n",
       "      <td>&lt;elementary-number-theory&gt;&lt;proof-writing&gt;&lt;radi...</td>\n",
       "    </tr>\n",
       "    <tr>\n",
       "      <th>2</th>\n",
       "      <td>\\sqrt{2}</td>\n",
       "      <td>math</td>\n",
       "      <td>&lt;p&gt;You use a proof by contradiction. Basically...</td>\n",
       "      <td>NaN</td>\n",
       "    </tr>\n",
       "    <tr>\n",
       "      <th>3</th>\n",
       "      <td>p/q</td>\n",
       "      <td>math</td>\n",
       "      <td>&lt;p&gt;You use a proof by contradiction. Basically...</td>\n",
       "      <td>NaN</td>\n",
       "    </tr>\n",
       "    <tr>\n",
       "      <th>4</th>\n",
       "      <td>2q^2 = p^2</td>\n",
       "      <td>math</td>\n",
       "      <td>&lt;p&gt;You use a proof by contradiction. Basically...</td>\n",
       "      <td>NaN</td>\n",
       "    </tr>\n",
       "  </tbody>\n",
       "</table>\n",
       "</div>"
      ],
      "text/plain": [
       "     Equation Label                                               Body  \\\n",
       "0    \\sqrt{2}  math  <p>I have read a few proofs that $\\sqrt{2}$ is...   \n",
       "1    \\sqrt{2}  math  <p>I have read a few proofs that $\\sqrt{2}$ is...   \n",
       "2    \\sqrt{2}  math  <p>You use a proof by contradiction. Basically...   \n",
       "3         p/q  math  <p>You use a proof by contradiction. Basically...   \n",
       "4  2q^2 = p^2  math  <p>You use a proof by contradiction. Basically...   \n",
       "\n",
       "                                                Tags  \n",
       "0  <elementary-number-theory><proof-writing><radi...  \n",
       "1  <elementary-number-theory><proof-writing><radi...  \n",
       "2                                                NaN  \n",
       "3                                                NaN  \n",
       "4                                                NaN  "
      ]
     },
     "execution_count": 20,
     "metadata": {},
     "output_type": "execute_result"
    }
   ],
   "source": [
    "math_post_eqn_filtered.head()"
   ]
  },
  {
   "cell_type": "code",
   "execution_count": null,
   "metadata": {},
   "outputs": [],
   "source": [
    "math_post_eqn_filtered.to_csv(\"../data/equation/math_post_eq_filtered.csv\", index=False)"
   ]
  },
  {
   "cell_type": "code",
   "execution_count": null,
   "metadata": {},
   "outputs": [],
   "source": [
    "subject_string = ['chemistry', 'physics', 'biology']\n",
    "comment_df = [chemistry_comment, physics_comment, biology_comment]\n",
    "post_df= [chemistry_post, physics_post, biology_post]"
   ]
  },
  {
   "cell_type": "code",
   "execution_count": null,
   "metadata": {},
   "outputs": [],
   "source": [
    "for i in range(len(subject_string)):\n",
    "    print(\"start processing comments for \" + subject_string[i])\n",
    "    subject_comment = regrex_processing_comment(comment_df[i])\n",
    "    print(\"start processing posts for \" + subject_string[i])\n",
    "    subject_post = regrex_processing_post(post_df[i])\n",
    "    \n",
    "    subject_comment['Label'] = subject_string[i]\n",
    "    subject_post['Label'] = subject_string[i]\n",
    "    \n",
    "    print(\"start filtering comments for \" + subject_string[i])\n",
    "    comment_rows = []\n",
    "    _ = subject_comment.apply(lambda row: [comment_rows.append([eqn, row[\"Label\"], row[\"Text\"]]) for eqn in row.Equation], axis=1)\n",
    "    subject_comment_filtered = pd.DataFrame(comment_rows, columns=[\"Equation\", \"Label\", \"Body\"])\n",
    "    print(\"start filtering posts for \" + subject_string[i])\n",
    "    post_rows = []\n",
    "    _ = subject_post.apply(lambda row: [post_rows.append([eqn, row[\"Label\"], row[\"Body\"], row[\"Tags\"]]) for eqn in row.Equation], axis=1)\n",
    "    subject_post_filtered = pd.DataFrame(math_post_rows, columns=[\"Equation\", \"Label\", \"Body\", \"Tags\"])\n",
    "    \n",
    "    print(\"start saving comments for \" + subject_string[i])\n",
    "    subject_comment_filtered.to_csv(\"../data/equation/\" + subject_string[i] + \"_comment_eq_filtered.csv\", index = False)\n",
    "    print(\"start saving posts for \" + subject_string[i])\n",
    "    subject_post_filtered.to_csv(\"../data/equation/\" + subject_string[i] + \"_post_eq_filtered.csv\", index = False)"
   ]
  }
 ],
 "metadata": {
  "kernelspec": {
   "display_name": "Python 3",
   "language": "python",
   "name": "python3"
  },
  "language_info": {
   "codemirror_mode": {
    "name": "ipython",
    "version": 3
   },
   "file_extension": ".py",
   "mimetype": "text/x-python",
   "name": "python",
   "nbconvert_exporter": "python",
   "pygments_lexer": "ipython3",
   "version": "3.7.4"
  }
 },
 "nbformat": 4,
 "nbformat_minor": 2
}

{
 "cells": [
  {
   "cell_type": "code",
   "execution_count": 42,
   "metadata": {},
   "outputs": [],
   "source": [
    "from pathlib import Path\n",
    "import numpy as np\n",
    "import pandas as pd\n",
    "import subprocess"
   ]
  },
  {
   "cell_type": "code",
   "execution_count": 52,
   "metadata": {},
   "outputs": [],
   "source": [
    "data_dirname = Path('../data/processed/')\n",
    "img_dirname = data_dirname / 'imgs/'\n",
    "tex_dirname = data_dirname / 'tex/'\n",
    "img_dirname.mkdir(exist_ok=True, parents=True)\n",
    "tex_dirname.mkdir(exist_ok=True, parents=True)\n",
    "\n",
    "datapath = data_dirname / 'equations.csv'\n"
   ]
  },
  {
   "cell_type": "code",
   "execution_count": 33,
   "metadata": {},
   "outputs": [],
   "source": [
    "template_doc = \"\"\"\n",
    "\\\\documentclass[12pt]{{article}}\n",
    "\\\\pagestyle{{empty}}\n",
    "\\\\begin{{document}}\n",
    "\n",
    "\\\\begin{{displaymath}}\n",
    "{}\n",
    "\\\\end{{displaymath}}\n",
    "\n",
    "\\\\end{{document}}\n",
    "\"\"\"\n"
   ]
  },
  {
   "cell_type": "code",
   "execution_count": 53,
   "metadata": {},
   "outputs": [],
   "source": [
    "def make_image(row: pd.Series):\n",
    "    source = row['source']\n",
    "    type = row['type']\n",
    "    equation = row['equation']\n",
    "    doc = template_doc.format(equation)\n",
    "    name = f'{row[\"post_id\"]}_{row.name}'\n",
    "    tex_path = tex_dirname / f'{name}.tex'\n",
    "    img_path = img_dirname / f'{name}/png'\n",
    "    row['tex_path'] = tex_path\n",
    "    row['img_path'] = img_path\n",
    "    with open(tex_path, 'w') as fo:\n",
    "        fo.write(doc)\n",
    "    subprocess.call(f'textogif -png {tex_path}', shell=True)\n"
   ]
  },
  {
   "cell_type": "code",
   "execution_count": 44,
   "metadata": {},
   "outputs": [],
   "source": [
    "df = pd.read_csv(datapath)\n"
   ]
  },
  {
   "cell_type": "code",
   "execution_count": 54,
   "metadata": {},
   "outputs": [
    {
     "name": "stderr",
     "output_type": "stream",
     "text": [
      "/Users/myen/miniconda3/lib/python3.7/site-packages/ipykernel_launcher.py:9: SettingWithCopyWarning: \n",
      "A value is trying to be set on a copy of a slice from a DataFrame\n",
      "\n",
      "See the caveats in the documentation: http://pandas.pydata.org/pandas-docs/stable/indexing.html#indexing-view-versus-copy\n",
      "  if __name__ == '__main__':\n",
      "/Users/myen/miniconda3/lib/python3.7/site-packages/ipykernel_launcher.py:10: SettingWithCopyWarning: \n",
      "A value is trying to be set on a copy of a slice from a DataFrame\n",
      "\n",
      "See the caveats in the documentation: http://pandas.pydata.org/pandas-docs/stable/indexing.html#indexing-view-versus-copy\n",
      "  # Remove the CWD from sys.path while we load stuff.\n"
     ]
    }
   ],
   "source": [
    "make_image(df.iloc[0])\n"
   ]
  },
  {
   "cell_type": "code",
   "execution_count": null,
   "metadata": {},
   "outputs": [],
   "source": []
  }
 ],
 "metadata": {
  "kernelspec": {
   "display_name": "Python 3",
   "language": "python",
   "name": "python3"
  },
  "language_info": {
   "codemirror_mode": {
    "name": "ipython",
    "version": 3
   },
   "file_extension": ".py",
   "mimetype": "text/x-python",
   "name": "python",
   "nbconvert_exporter": "python",
   "pygments_lexer": "ipython3",
   "version": "3.7.1"
  }
 },
 "nbformat": 4,
 "nbformat_minor": 2
}

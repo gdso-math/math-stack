{
 "cells": [
  {
   "cell_type": "code",
   "execution_count": 78,
   "metadata": {},
   "outputs": [],
   "source": [
    "import pandas as pd\n",
    "import re"
   ]
  },
  {
   "cell_type": "code",
   "execution_count": 8,
   "metadata": {},
   "outputs": [],
   "source": [
    "math = pd.read_csv(\"../data/csv/math.csv\", lineterminator='\\n')\n",
    "chemistry = pd.read_csv(\"../data/csv/chemistry.csv\", lineterminator='\\n')\n",
    "physics = pd.read_csv(\"../data/csv/physics.csv\", lineterminator='\\n')\n",
    "biology = pd.read_csv(\"../data/csv/biology.csv\", lineterminator='\\n')"
   ]
  },
  {
   "cell_type": "code",
   "execution_count": 9,
   "metadata": {},
   "outputs": [
    {
     "data": {
      "text/html": [
       "<div>\n",
       "<style scoped>\n",
       "    .dataframe tbody tr th:only-of-type {\n",
       "        vertical-align: middle;\n",
       "    }\n",
       "\n",
       "    .dataframe tbody tr th {\n",
       "        vertical-align: top;\n",
       "    }\n",
       "\n",
       "    .dataframe thead th {\n",
       "        text-align: right;\n",
       "    }\n",
       "</style>\n",
       "<table border=\"1\" class=\"dataframe\">\n",
       "  <thead>\n",
       "    <tr style=\"text-align: right;\">\n",
       "      <th></th>\n",
       "      <th>CreationDate</th>\n",
       "      <th>Id</th>\n",
       "      <th>PostId</th>\n",
       "      <th>Score</th>\n",
       "      <th>Text</th>\n",
       "      <th>UserDisplayName</th>\n",
       "      <th>UserId</th>\n",
       "    </tr>\n",
       "  </thead>\n",
       "  <tbody>\n",
       "    <tr>\n",
       "      <th>0</th>\n",
       "      <td>2010-07-20T19:24:44.963</td>\n",
       "      <td>2</td>\n",
       "      <td>9</td>\n",
       "      <td>6</td>\n",
       "      <td>Fantastic answer!</td>\n",
       "      <td>NaN</td>\n",
       "      <td>10.0</td>\n",
       "    </tr>\n",
       "    <tr>\n",
       "      <th>1</th>\n",
       "      <td>2010-07-20T19:26:09.357</td>\n",
       "      <td>3</td>\n",
       "      <td>9</td>\n",
       "      <td>6</td>\n",
       "      <td>I like this so far, but maybe add a bit on unc...</td>\n",
       "      <td>NaN</td>\n",
       "      <td>16.0</td>\n",
       "    </tr>\n",
       "    <tr>\n",
       "      <th>2</th>\n",
       "      <td>2010-07-20T19:27:07.983</td>\n",
       "      <td>5</td>\n",
       "      <td>17</td>\n",
       "      <td>1</td>\n",
       "      <td>Oh, I figured as so. I remember learning about...</td>\n",
       "      <td>NaN</td>\n",
       "      <td>40.0</td>\n",
       "    </tr>\n",
       "    <tr>\n",
       "      <th>3</th>\n",
       "      <td>2010-07-20T19:28:16.077</td>\n",
       "      <td>8</td>\n",
       "      <td>17</td>\n",
       "      <td>1</td>\n",
       "      <td>It is much better than an approximation: it gi...</td>\n",
       "      <td>NaN</td>\n",
       "      <td>55.0</td>\n",
       "    </tr>\n",
       "    <tr>\n",
       "      <th>4</th>\n",
       "      <td>2010-07-20T19:29:17.900</td>\n",
       "      <td>10</td>\n",
       "      <td>20</td>\n",
       "      <td>3</td>\n",
       "      <td>You've missed out many types of number: comple...</td>\n",
       "      <td>NaN</td>\n",
       "      <td>35.0</td>\n",
       "    </tr>\n",
       "  </tbody>\n",
       "</table>\n",
       "</div>"
      ],
      "text/plain": [
       "              CreationDate  Id  PostId  Score  \\\n",
       "0  2010-07-20T19:24:44.963   2       9      6   \n",
       "1  2010-07-20T19:26:09.357   3       9      6   \n",
       "2  2010-07-20T19:27:07.983   5      17      1   \n",
       "3  2010-07-20T19:28:16.077   8      17      1   \n",
       "4  2010-07-20T19:29:17.900  10      20      3   \n",
       "\n",
       "                                                Text UserDisplayName  UserId  \n",
       "0                                  Fantastic answer!             NaN    10.0  \n",
       "1  I like this so far, but maybe add a bit on unc...             NaN    16.0  \n",
       "2  Oh, I figured as so. I remember learning about...             NaN    40.0  \n",
       "3  It is much better than an approximation: it gi...             NaN    55.0  \n",
       "4  You've missed out many types of number: comple...             NaN    35.0  "
      ]
     },
     "execution_count": 9,
     "metadata": {},
     "output_type": "execute_result"
    }
   ],
   "source": [
    "math.head()"
   ]
  },
  {
   "cell_type": "code",
   "execution_count": 66,
   "metadata": {},
   "outputs": [],
   "source": [
    "math = math[math['Equation'].notnull()]"
   ]
  },
  {
   "cell_type": "code",
   "execution_count": 69,
   "metadata": {},
   "outputs": [],
   "source": [
    "math.reset_index(inplace = True, drop = True)"
   ]
  },
  {
   "cell_type": "code",
   "execution_count": 70,
   "metadata": {},
   "outputs": [
    {
     "name": "stderr",
     "output_type": "stream",
     "text": [
      "/Users/shuang/anaconda3/lib/python3.7/site-packages/ipykernel_launcher.py:1: SettingWithCopyWarning: \n",
      "A value is trying to be set on a copy of a slice from a DataFrame.\n",
      "Try using .loc[row_indexer,col_indexer] = value instead\n",
      "\n",
      "See the caveats in the documentation: http://pandas.pydata.org/pandas-docs/stable/indexing.html#indexing-view-versus-copy\n",
      "  \"\"\"Entry point for launching an IPython kernel.\n"
     ]
    }
   ],
   "source": [
    "math['Label'] = \"math\""
   ]
  },
  {
   "cell_type": "code",
   "execution_count": 74,
   "metadata": {},
   "outputs": [
    {
     "data": {
      "text/html": [
       "<div>\n",
       "<style scoped>\n",
       "    .dataframe tbody tr th:only-of-type {\n",
       "        vertical-align: middle;\n",
       "    }\n",
       "\n",
       "    .dataframe tbody tr th {\n",
       "        vertical-align: top;\n",
       "    }\n",
       "\n",
       "    .dataframe thead th {\n",
       "        text-align: right;\n",
       "    }\n",
       "</style>\n",
       "<table border=\"1\" class=\"dataframe\">\n",
       "  <thead>\n",
       "    <tr style=\"text-align: right;\">\n",
       "      <th></th>\n",
       "      <th>CreationDate</th>\n",
       "      <th>Id</th>\n",
       "      <th>PostId</th>\n",
       "      <th>Score</th>\n",
       "      <th>Text</th>\n",
       "      <th>UserDisplayName</th>\n",
       "      <th>UserId</th>\n",
       "      <th>Equation</th>\n",
       "      <th>Label</th>\n",
       "    </tr>\n",
       "  </thead>\n",
       "  <tbody>\n",
       "    <tr>\n",
       "      <th>0</th>\n",
       "      <td>2010-07-20T19:28:16.077</td>\n",
       "      <td>8</td>\n",
       "      <td>17</td>\n",
       "      <td>1</td>\n",
       "      <td>It is much better than an approximation: it gi...</td>\n",
       "      <td>NaN</td>\n",
       "      <td>55.0</td>\n",
       "      <td>[n]</td>\n",
       "      <td>math</td>\n",
       "    </tr>\n",
       "    <tr>\n",
       "      <th>1</th>\n",
       "      <td>2010-07-20T19:41:44.767</td>\n",
       "      <td>20</td>\n",
       "      <td>17</td>\n",
       "      <td>6</td>\n",
       "      <td>By the way, if you want an approximation, you ...</td>\n",
       "      <td>NaN</td>\n",
       "      <td>55.0</td>\n",
       "      <td>[|1-\\varphi|&lt;1, F(n)={\\varphi^n \\over {\\sqrt 5}}]</td>\n",
       "      <td>math</td>\n",
       "    </tr>\n",
       "    <tr>\n",
       "      <th>2</th>\n",
       "      <td>2010-07-21T00:23:24.567</td>\n",
       "      <td>201</td>\n",
       "      <td>194</td>\n",
       "      <td>3</td>\n",
       "      <td>Yes (as has been answered): the heuristic reas...</td>\n",
       "      <td>NaN</td>\n",
       "      <td>536.0</td>\n",
       "      <td>[p_1, p_2, \\dots, p_n, (1-1/p_n), \\prod ( 1 - ...</td>\n",
       "      <td>math</td>\n",
       "    </tr>\n",
       "    <tr>\n",
       "      <th>3</th>\n",
       "      <td>2010-07-21T13:11:06.600</td>\n",
       "      <td>439</td>\n",
       "      <td>310</td>\n",
       "      <td>0</td>\n",
       "      <td>What do you mean by $T \\subset Z_{10}$? In fac...</td>\n",
       "      <td>NaN</td>\n",
       "      <td>123.0</td>\n",
       "      <td>[T \\subset Z_{10}, T]</td>\n",
       "      <td>math</td>\n",
       "    </tr>\n",
       "    <tr>\n",
       "      <th>4</th>\n",
       "      <td>2010-07-21T13:30:00.707</td>\n",
       "      <td>445</td>\n",
       "      <td>310</td>\n",
       "      <td>0</td>\n",
       "      <td>Ack, I meant $Z_{15}$. $T$ is the subring of $...</td>\n",
       "      <td>NaN</td>\n",
       "      <td>536.0</td>\n",
       "      <td>[Z_{15}, T, Z_{15}]</td>\n",
       "      <td>math</td>\n",
       "    </tr>\n",
       "  </tbody>\n",
       "</table>\n",
       "</div>"
      ],
      "text/plain": [
       "              CreationDate   Id  PostId  Score  \\\n",
       "0  2010-07-20T19:28:16.077    8      17      1   \n",
       "1  2010-07-20T19:41:44.767   20      17      6   \n",
       "2  2010-07-21T00:23:24.567  201     194      3   \n",
       "3  2010-07-21T13:11:06.600  439     310      0   \n",
       "4  2010-07-21T13:30:00.707  445     310      0   \n",
       "\n",
       "                                                Text UserDisplayName  UserId  \\\n",
       "0  It is much better than an approximation: it gi...             NaN    55.0   \n",
       "1  By the way, if you want an approximation, you ...             NaN    55.0   \n",
       "2  Yes (as has been answered): the heuristic reas...             NaN   536.0   \n",
       "3  What do you mean by $T \\subset Z_{10}$? In fac...             NaN   123.0   \n",
       "4  Ack, I meant $Z_{15}$. $T$ is the subring of $...             NaN   536.0   \n",
       "\n",
       "                                            Equation Label  \n",
       "0                                                [n]  math  \n",
       "1  [|1-\\varphi|<1, F(n)={\\varphi^n \\over {\\sqrt 5}}]  math  \n",
       "2  [p_1, p_2, \\dots, p_n, (1-1/p_n), \\prod ( 1 - ...  math  \n",
       "3                              [T \\subset Z_{10}, T]  math  \n",
       "4                                [Z_{15}, T, Z_{15}]  math  "
      ]
     },
     "execution_count": 74,
     "metadata": {},
     "output_type": "execute_result"
    }
   ],
   "source": [
    "math.head()"
   ]
  },
  {
   "cell_type": "code",
   "execution_count": 61,
   "metadata": {},
   "outputs": [],
   "source": [
    "def regrex_processing(subject):\n",
    "    equation = []\n",
    "    pattern = re.compile('.*?\\$(.*?)\\$')\n",
    "    subject['Text'] = subject['Text'].astype(str)\n",
    "    for text in subject.Text:\n",
    "        try:\n",
    "            if \"$\" in text:\n",
    "                eq = re.findall(pattern, text)\n",
    "                equation.append(eq)\n",
    "            else:\n",
    "                equation.append(None)\n",
    "        except:\n",
    "            print('An error occured with ' + text)\n",
    "    subject['Equation'] = equation\n",
    "    new_subject = subject[subject['Equation'].notnull()].reset_index(drop = True)\n",
    "    return new_subject"
   ]
  },
  {
   "cell_type": "code",
   "execution_count": 71,
   "metadata": {},
   "outputs": [],
   "source": [
    "chemistry = regrex_processing(chemistry)\n",
    "chemistry['Label'] = \"chemistry\""
   ]
  },
  {
   "cell_type": "code",
   "execution_count": 72,
   "metadata": {},
   "outputs": [],
   "source": [
    "physics = regrex_processing(physics)\n",
    "physics['Label'] = \"physics\""
   ]
  },
  {
   "cell_type": "code",
   "execution_count": 73,
   "metadata": {},
   "outputs": [],
   "source": [
    "biology = regrex_processing(biology)\n",
    "biology['Label'] = 'biology'"
   ]
  },
  {
   "cell_type": "code",
   "execution_count": null,
   "metadata": {},
   "outputs": [
    {
     "name": "stderr",
     "output_type": "stream",
     "text": [
      "/Users/shuang/anaconda3/lib/python3.7/site-packages/ipykernel_launcher.py:1: FutureWarning: Sorting because non-concatenation axis is not aligned. A future version\n",
      "of pandas will change to not sort by default.\n",
      "\n",
      "To accept the future behavior, pass 'sort=False'.\n",
      "\n",
      "To retain the current behavior and silence the warning, pass 'sort=True'.\n",
      "\n",
      "  \"\"\"Entry point for launching an IPython kernel.\n"
     ]
    }
   ],
   "source": [
    "data = pd.concat([math, chemistry, physics, biology])\n",
    "data.to_csv(\"../data/csv/all.csv\", index = False)"
   ]
  },
  {
   "cell_type": "code",
   "execution_count": null,
   "metadata": {},
   "outputs": [],
   "source": []
  }
 ],
 "metadata": {
  "kernelspec": {
   "display_name": "Python 3",
   "language": "python",
   "name": "python3"
  },
  "language_info": {
   "codemirror_mode": {
    "name": "ipython",
    "version": 3
   },
   "file_extension": ".py",
   "mimetype": "text/x-python",
   "name": "python",
   "nbconvert_exporter": "python",
   "pygments_lexer": "ipython3",
   "version": "3.7.2"
  }
 },
 "nbformat": 4,
 "nbformat_minor": 2
}

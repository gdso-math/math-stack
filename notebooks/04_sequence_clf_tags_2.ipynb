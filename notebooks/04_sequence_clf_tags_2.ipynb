{
 "cells": [
  {
   "cell_type": "code",
   "execution_count": 1,
   "metadata": {},
   "outputs": [],
   "source": [
    "import os\n",
    "os.environ['CUDA_VISIBLE_DEVICES'] = '1'"
   ]
  },
  {
   "cell_type": "code",
   "execution_count": 2,
   "metadata": {},
   "outputs": [],
   "source": [
    "from pathlib import Path\n",
    "import pandas as pd\n",
    "import numpy as np\n",
    "\n",
    "import tensorflow as tf\n",
    "import tensorflow.keras.layers as layers\n",
    "import tensorflow.keras.models as models\n",
    "import tensorflow.keras.preprocessing.sequence as sequence\n",
    "import tensorflow.keras.utils as utils\n",
    "\n",
    "import matplotlib.pyplot as plt\n",
    "%matplotlib inline"
   ]
  },
  {
   "cell_type": "code",
   "execution_count": 3,
   "metadata": {},
   "outputs": [
    {
     "name": "stdout",
     "output_type": "stream",
     "text": [
      "[name: \"/device:CPU:0\"\n",
      "device_type: \"CPU\"\n",
      "memory_limit: 268435456\n",
      "locality {\n",
      "}\n",
      "incarnation: 16052618198303747308\n",
      ", name: \"/device:XLA_CPU:0\"\n",
      "device_type: \"XLA_CPU\"\n",
      "memory_limit: 17179869184\n",
      "locality {\n",
      "}\n",
      "incarnation: 7391222063567404728\n",
      "physical_device_desc: \"device: XLA_CPU device\"\n",
      ", name: \"/device:GPU:0\"\n",
      "device_type: \"GPU\"\n",
      "memory_limit: 7511012148\n",
      "locality {\n",
      "  bus_id: 1\n",
      "  links {\n",
      "  }\n",
      "}\n",
      "incarnation: 1860601580348409303\n",
      "physical_device_desc: \"device: 0, name: Tesla M60, pci bus id: 0000:00:1e.0, compute capability: 5.2\"\n",
      ", name: \"/device:XLA_GPU:0\"\n",
      "device_type: \"XLA_GPU\"\n",
      "memory_limit: 17179869184\n",
      "locality {\n",
      "}\n",
      "incarnation: 6568189262845579997\n",
      "physical_device_desc: \"device: XLA_GPU device\"\n",
      "]\n"
     ]
    }
   ],
   "source": [
    "from tensorflow.python.client import device_lib\n",
    "print(device_lib.list_local_devices())"
   ]
  },
  {
   "cell_type": "code",
   "execution_count": 4,
   "metadata": {},
   "outputs": [
    {
     "name": "stderr",
     "output_type": "stream",
     "text": [
      "Using TensorFlow backend.\n",
      "WARNING: Logging before flag parsing goes to stderr.\n",
      "W0815 20:31:13.116192 139944151082752 deprecation_wrapper.py:119] From /home/mdogan/miniconda3/lib/python3.7/site-packages/keras/backend/tensorflow_backend.py:174: The name tf.get_default_session is deprecated. Please use tf.compat.v1.get_default_session instead.\n",
      "\n",
      "W0815 20:31:13.116928 139944151082752 deprecation_wrapper.py:119] From /home/mdogan/miniconda3/lib/python3.7/site-packages/keras/backend/tensorflow_backend.py:181: The name tf.ConfigProto is deprecated. Please use tf.compat.v1.ConfigProto instead.\n",
      "\n",
      "W0815 20:31:13.117800 139944151082752 deprecation_wrapper.py:119] From /home/mdogan/miniconda3/lib/python3.7/site-packages/keras/backend/tensorflow_backend.py:186: The name tf.Session is deprecated. Please use tf.compat.v1.Session instead.\n",
      "\n",
      "W0815 20:31:13.124577 139944151082752 deprecation_wrapper.py:119] From /home/mdogan/miniconda3/lib/python3.7/site-packages/keras/backend/tensorflow_backend.py:190: The name tf.global_variables is deprecated. Please use tf.compat.v1.global_variables instead.\n",
      "\n"
     ]
    },
    {
     "data": {
      "text/plain": [
       "['/job:localhost/replica:0/task:0/device:GPU:0']"
      ]
     },
     "execution_count": 4,
     "metadata": {},
     "output_type": "execute_result"
    }
   ],
   "source": [
    "from keras import backend\n",
    "backend.tensorflow_backend._get_available_gpus()"
   ]
  },
  {
   "cell_type": "code",
   "execution_count": 5,
   "metadata": {},
   "outputs": [],
   "source": [
    "#read in the csvs obtained from 03_tags_clustering\n",
    "# chem = pd.read_csv(\"../data/equation/chemistry_post_eq_tag_id.csv\", lineterminator='\\n')\n",
    "# physics = pd.read_csv(\"../data/equation/physics_post_eq_tag_id.csv\", lineterminator='\\n')\n",
    "physics = pd.read_csv(\"../data/equation/physics_post_eq_tag_id_2.csv\", lineterminator='\\n')\n",
    "# bio = pd.read_csv(\"../data/equation/biology_post_eq_tag_id.csv\", lineterminator='\\n')"
   ]
  },
  {
   "cell_type": "code",
   "execution_count": 118,
   "metadata": {},
   "outputs": [
    {
     "data": {
      "text/html": [
       "<div>\n",
       "<style scoped>\n",
       "    .dataframe tbody tr th:only-of-type {\n",
       "        vertical-align: middle;\n",
       "    }\n",
       "\n",
       "    .dataframe tbody tr th {\n",
       "        vertical-align: top;\n",
       "    }\n",
       "\n",
       "    .dataframe thead th {\n",
       "        text-align: right;\n",
       "    }\n",
       "</style>\n",
       "<table border=\"1\" class=\"dataframe\">\n",
       "  <thead>\n",
       "    <tr style=\"text-align: right;\">\n",
       "      <th></th>\n",
       "      <th>Equation</th>\n",
       "      <th>Label</th>\n",
       "      <th>Cluster_label</th>\n",
       "      <th>Id</th>\n",
       "      <th>Tags</th>\n",
       "    </tr>\n",
       "  </thead>\n",
       "  <tbody>\n",
       "    <tr>\n",
       "      <th>0</th>\n",
       "      <td>\\frac{40\\ \\text{mph} +60\\ \\text{mph}}{2} = 50\\...</td>\n",
       "      <td>physics</td>\n",
       "      <td>physics-everything-else</td>\n",
       "      <td>29</td>\n",
       "      <td>&lt;homework-and-exercises&gt;&lt;kinematics&gt;&lt;speed&gt;</td>\n",
       "    </tr>\n",
       "    <tr>\n",
       "      <th>1</th>\n",
       "      <td>\\frac{240\\ \\text{mi}}{50\\ \\text{mph}} = 4.8 \\ ...</td>\n",
       "      <td>physics</td>\n",
       "      <td>physics-everything-else</td>\n",
       "      <td>29</td>\n",
       "      <td>&lt;homework-and-exercises&gt;&lt;kinematics&gt;&lt;speed&gt;</td>\n",
       "    </tr>\n",
       "    <tr>\n",
       "      <th>2</th>\n",
       "      <td>3 + 2 = 5</td>\n",
       "      <td>physics</td>\n",
       "      <td>physics-everything-else</td>\n",
       "      <td>29</td>\n",
       "      <td>&lt;homework-and-exercises&gt;&lt;kinematics&gt;&lt;speed&gt;</td>\n",
       "    </tr>\n",
       "    <tr>\n",
       "      <th>3</th>\n",
       "      <td>\\frac{1}{r^2}</td>\n",
       "      <td>physics</td>\n",
       "      <td>physics-everything-else</td>\n",
       "      <td>93</td>\n",
       "      <td>&lt;electrostatics&gt;&lt;spacetime&gt;&lt;spacetime-dimensio...</td>\n",
       "    </tr>\n",
       "    <tr>\n",
       "      <th>4</th>\n",
       "      <td>\\frac{1}{r^2}</td>\n",
       "      <td>physics</td>\n",
       "      <td>physics-everything-else</td>\n",
       "      <td>93</td>\n",
       "      <td>&lt;electrostatics&gt;&lt;spacetime&gt;&lt;spacetime-dimensio...</td>\n",
       "    </tr>\n",
       "  </tbody>\n",
       "</table>\n",
       "</div>"
      ],
      "text/plain": [
       "                                            Equation    Label  \\\n",
       "0  \\frac{40\\ \\text{mph} +60\\ \\text{mph}}{2} = 50\\...  physics   \n",
       "1  \\frac{240\\ \\text{mi}}{50\\ \\text{mph}} = 4.8 \\ ...  physics   \n",
       "2                                          3 + 2 = 5  physics   \n",
       "3                                      \\frac{1}{r^2}  physics   \n",
       "4                                      \\frac{1}{r^2}  physics   \n",
       "\n",
       "             Cluster_label  Id  \\\n",
       "0  physics-everything-else  29   \n",
       "1  physics-everything-else  29   \n",
       "2  physics-everything-else  29   \n",
       "3  physics-everything-else  93   \n",
       "4  physics-everything-else  93   \n",
       "\n",
       "                                                Tags  \n",
       "0        <homework-and-exercises><kinematics><speed>  \n",
       "1        <homework-and-exercises><kinematics><speed>  \n",
       "2        <homework-and-exercises><kinematics><speed>  \n",
       "3  <electrostatics><spacetime><spacetime-dimensio...  \n",
       "4  <electrostatics><spacetime><spacetime-dimensio...  "
      ]
     },
     "execution_count": 118,
     "metadata": {},
     "output_type": "execute_result"
    }
   ],
   "source": [
    "# df = pd.concat([chem, physics, bio], ignore_index=True)\n",
    "df = pd.concat([physics], ignore_index=True)\n",
    "df.head()"
   ]
  },
  {
   "cell_type": "code",
   "execution_count": 119,
   "metadata": {},
   "outputs": [],
   "source": [
    "df = df[df['Cluster_label'] != 'physics-everything-else']"
   ]
  },
  {
   "cell_type": "code",
   "execution_count": 74,
   "metadata": {},
   "outputs": [],
   "source": [
    "# df = df[df.apply(lambda row: len(row.Equation) > 3, axis = 1)]"
   ]
  },
  {
   "cell_type": "code",
   "execution_count": 124,
   "metadata": {},
   "outputs": [
    {
     "data": {
      "text/plain": [
       "177986"
      ]
     },
     "execution_count": 124,
     "metadata": {},
     "output_type": "execute_result"
    }
   ],
   "source": [
    "df.shape[0]"
   ]
  },
  {
   "cell_type": "code",
   "execution_count": 125,
   "metadata": {},
   "outputs": [
    {
     "data": {
      "text/plain": [
       "56"
      ]
     },
     "execution_count": 125,
     "metadata": {},
     "output_type": "execute_result"
    }
   ],
   "source": [
    "len(df[df['Equation'].isnull()])"
   ]
  },
  {
   "cell_type": "code",
   "execution_count": 126,
   "metadata": {},
   "outputs": [],
   "source": [
    "df.dropna(subset = ['Equation'], inplace = True)"
   ]
  },
  {
   "cell_type": "code",
   "execution_count": 127,
   "metadata": {},
   "outputs": [
    {
     "data": {
      "text/plain": [
       "177930"
      ]
     },
     "execution_count": 127,
     "metadata": {},
     "output_type": "execute_result"
    }
   ],
   "source": [
    "df.shape[0]"
   ]
  },
  {
   "cell_type": "code",
   "execution_count": 128,
   "metadata": {},
   "outputs": [],
   "source": [
    "df = df[df.apply(lambda row: \"=\" in row.Equation, axis = 1)]"
   ]
  },
  {
   "cell_type": "code",
   "execution_count": 129,
   "metadata": {},
   "outputs": [
    {
     "data": {
      "text/plain": [
       "56269"
      ]
     },
     "execution_count": 129,
     "metadata": {},
     "output_type": "execute_result"
    }
   ],
   "source": [
    "df.shape[0]"
   ]
  },
  {
   "cell_type": "code",
   "execution_count": 130,
   "metadata": {},
   "outputs": [
    {
     "name": "stderr",
     "output_type": "stream",
     "text": [
      "/home/mdogan/miniconda3/lib/python3.7/site-packages/pandas/core/frame.py:4218: SettingWithCopyWarning: \n",
      "A value is trying to be set on a copy of a slice from a DataFrame\n",
      "\n",
      "See the caveats in the documentation: http://pandas.pydata.org/pandas-docs/stable/user_guide/indexing.html#returning-a-view-versus-a-copy\n",
      "  return super().rename(**kwargs)\n"
     ]
    }
   ],
   "source": [
    "df.rename(columns={\"Label\": \"Source\"}, inplace = True)"
   ]
  },
  {
   "cell_type": "code",
   "execution_count": 131,
   "metadata": {},
   "outputs": [],
   "source": [
    "def split_data(df, frac=0.1):\n",
    "    \"\"\"\n",
    "    Split the data by the post id.\n",
    "    Equations from the same post will be in the same set.\n",
    "    \"\"\"\n",
    "    split_by = df.Id\n",
    "    post_ids = df.Id.unique()\n",
    "    N = len(post_ids)\n",
    "    \n",
    "    test_posts = np.random.choice(post_ids, int(N * frac))\n",
    "    n_test = len(test_posts)\n",
    "    test_condition = df.Id.isin(test_posts)\n",
    "    return df[~test_condition], df[test_condition]"
   ]
  },
  {
   "cell_type": "code",
   "execution_count": 132,
   "metadata": {},
   "outputs": [
    {
     "name": "stdout",
     "output_type": "stream",
     "text": [
      "Null Data:  0\n",
      "Training rows: 41998\n",
      "Val rows: 4402\n",
      "Test rows: 4717\n"
     ]
    },
    {
     "name": "stderr",
     "output_type": "stream",
     "text": [
      "/home/mdogan/miniconda3/lib/python3.7/site-packages/ipykernel_launcher.py:3: SettingWithCopyWarning: \n",
      "A value is trying to be set on a copy of a slice from a DataFrame\n",
      "\n",
      "See the caveats in the documentation: http://pandas.pydata.org/pandas-docs/stable/user_guide/indexing.html#returning-a-view-versus-a-copy\n",
      "  This is separate from the ipykernel package so we can avoid doing imports until\n"
     ]
    }
   ],
   "source": [
    "np.random.seed(1)\n",
    "print('Null Data: ', df.Equation.isnull().sum())\n",
    "df.dropna(subset=['Equation'], inplace=True)\n",
    "df = df.drop_duplicates(subset=['Equation', 'Source', 'Cluster_label'])\n",
    "train_df, test_df = split_data(df, 0.1)\n",
    "train_df, val_df = split_data(train_df, 0.1)\n",
    "\n",
    "print(f'Training rows: {train_df.shape[0]}')\n",
    "print(f'Val rows: {val_df.shape[0]}')\n",
    "print(f'Test rows: {test_df.shape[0]}')"
   ]
  },
  {
   "cell_type": "code",
   "execution_count": 133,
   "metadata": {},
   "outputs": [
    {
     "data": {
      "text/html": [
       "<div>\n",
       "<style scoped>\n",
       "    .dataframe tbody tr th:only-of-type {\n",
       "        vertical-align: middle;\n",
       "    }\n",
       "\n",
       "    .dataframe tbody tr th {\n",
       "        vertical-align: top;\n",
       "    }\n",
       "\n",
       "    .dataframe thead th {\n",
       "        text-align: right;\n",
       "    }\n",
       "</style>\n",
       "<table border=\"1\" class=\"dataframe\">\n",
       "  <thead>\n",
       "    <tr style=\"text-align: right;\">\n",
       "      <th></th>\n",
       "      <th>Equation</th>\n",
       "      <th>Source</th>\n",
       "      <th>Cluster_label</th>\n",
       "      <th>Id</th>\n",
       "      <th>Tags</th>\n",
       "    </tr>\n",
       "  </thead>\n",
       "  <tbody>\n",
       "    <tr>\n",
       "      <th>98</th>\n",
       "      <td>F &gt; f_s = \\mu_s F_N</td>\n",
       "      <td>physics</td>\n",
       "      <td>physics-newtonian-mechanics</td>\n",
       "      <td>541</td>\n",
       "      <td>&lt;forces&gt;&lt;newtonian-mechanics&gt;&lt;friction&gt;</td>\n",
       "    </tr>\n",
       "    <tr>\n",
       "      <th>154</th>\n",
       "      <td>\\frac{(-i\\hbar\\nabla)^2}{2m} \\psi = i\\hbar\\pa...</td>\n",
       "      <td>physics</td>\n",
       "      <td>physics-quantum-mechanics</td>\n",
       "      <td>741</td>\n",
       "      <td>&lt;quantum-mechanics&gt;&lt;electromagnetism&gt;&lt;differen...</td>\n",
       "    </tr>\n",
       "    <tr>\n",
       "      <th>155</th>\n",
       "      <td>A=(c\\phi,\\mathbf{A})</td>\n",
       "      <td>physics</td>\n",
       "      <td>physics-quantum-mechanics</td>\n",
       "      <td>741</td>\n",
       "      <td>&lt;quantum-mechanics&gt;&lt;electromagnetism&gt;&lt;differen...</td>\n",
       "    </tr>\n",
       "    <tr>\n",
       "      <th>166</th>\n",
       "      <td>M=\\mathbb{R}^3\\times\\mathbb{R}</td>\n",
       "      <td>physics</td>\n",
       "      <td>physics-field-theory</td>\n",
       "      <td>768</td>\n",
       "      <td>&lt;quantum-mechanics&gt;&lt;electromagnetism&gt;&lt;quantum-...</td>\n",
       "    </tr>\n",
       "    <tr>\n",
       "      <th>174</th>\n",
       "      <td>\\vec v = v^\\mu \\frac{\\partial}{\\partial x^\\mu}</td>\n",
       "      <td>physics</td>\n",
       "      <td>physics-field-theory</td>\n",
       "      <td>768</td>\n",
       "      <td>&lt;quantum-mechanics&gt;&lt;electromagnetism&gt;&lt;quantum-...</td>\n",
       "    </tr>\n",
       "  </tbody>\n",
       "</table>\n",
       "</div>"
      ],
      "text/plain": [
       "                                              Equation   Source  \\\n",
       "98                                 F > f_s = \\mu_s F_N  physics   \n",
       "154   \\frac{(-i\\hbar\\nabla)^2}{2m} \\psi = i\\hbar\\pa...  physics   \n",
       "155                               A=(c\\phi,\\mathbf{A})  physics   \n",
       "166                     M=\\mathbb{R}^3\\times\\mathbb{R}  physics   \n",
       "174     \\vec v = v^\\mu \\frac{\\partial}{\\partial x^\\mu}  physics   \n",
       "\n",
       "                   Cluster_label   Id  \\\n",
       "98   physics-newtonian-mechanics  541   \n",
       "154    physics-quantum-mechanics  741   \n",
       "155    physics-quantum-mechanics  741   \n",
       "166         physics-field-theory  768   \n",
       "174         physics-field-theory  768   \n",
       "\n",
       "                                                  Tags  \n",
       "98             <forces><newtonian-mechanics><friction>  \n",
       "154  <quantum-mechanics><electromagnetism><differen...  \n",
       "155  <quantum-mechanics><electromagnetism><differen...  \n",
       "166  <quantum-mechanics><electromagnetism><quantum-...  \n",
       "174  <quantum-mechanics><electromagnetism><quantum-...  "
      ]
     },
     "execution_count": 133,
     "metadata": {},
     "output_type": "execute_result"
    }
   ],
   "source": [
    "train_df.head()"
   ]
  },
  {
   "cell_type": "code",
   "execution_count": 134,
   "metadata": {},
   "outputs": [],
   "source": [
    "class Tokenizer:\n",
    "    \"\"\"Convert chars to ints\"\"\"\n",
    "    def __init__(self):\n",
    "        self.UNK = '<UNK>'  # Unknown\n",
    "        self.BOS = '<BOS>'  # Begin of string\n",
    "        self.EOS = '<EOS>'  # End of string\n",
    "        self.PAD = '<PAD>'  # Padding\n",
    "        self.char_to_idx = dict()\n",
    "        self.idx_to_char = dict()\n",
    "        self.vocab = []\n",
    "        \n",
    "        self.specials = [self.PAD, self.BOS, self.EOS, self.UNK]\n",
    "        for c in self.specials: self.add(c)\n",
    "        \n",
    "    \n",
    "    def __getitem__(self, c: str):\n",
    "        try:\n",
    "            return self.char_to_idx[c]\n",
    "        except KeyError:\n",
    "            return self.char_to_idx[self.UNK]\n",
    "    \n",
    "    def fit(self, sequences):\n",
    "        \"\"\"Create the vocab from a sequence of strings\"\"\"\n",
    "        chars = set.union(*map(set, sequences))\n",
    "        for char in chars: self.add(char)\n",
    "\n",
    "    def add(self, c: str):\n",
    "        \"\"\"Add the character if its not in the vocab, else do nothing\"\"\"\n",
    "        if self.char_to_idx.get(c) is None:\n",
    "            self.char_to_idx[c] = len(self.vocab)\n",
    "            self.idx_to_char[len(self.vocab)] = c\n",
    "            self.vocab.append(c)\n",
    "        return len(self.vocab)\n",
    "\n",
    "    \n",
    "def encode_sequence(seq, tokenizer):\n",
    "    return [tokenizer[tokenizer.BOS]] + [tokenizer[c] for c in seq] + [tokenizer[tokenizer.EOS]]"
   ]
  },
  {
   "cell_type": "code",
   "execution_count": 135,
   "metadata": {},
   "outputs": [
    {
     "name": "stderr",
     "output_type": "stream",
     "text": [
      "/home/mdogan/miniconda3/lib/python3.7/site-packages/ipykernel_launcher.py:7: SettingWithCopyWarning: \n",
      "A value is trying to be set on a copy of a slice from a DataFrame.\n",
      "Try using .loc[row_indexer,col_indexer] = value instead\n",
      "\n",
      "See the caveats in the documentation: http://pandas.pydata.org/pandas-docs/stable/user_guide/indexing.html#returning-a-view-versus-a-copy\n",
      "  import sys\n",
      "/home/mdogan/miniconda3/lib/python3.7/site-packages/ipykernel_launcher.py:11: SettingWithCopyWarning: \n",
      "A value is trying to be set on a copy of a slice from a DataFrame.\n",
      "Try using .loc[row_indexer,col_indexer] = value instead\n",
      "\n",
      "See the caveats in the documentation: http://pandas.pydata.org/pandas-docs/stable/user_guide/indexing.html#returning-a-view-versus-a-copy\n",
      "  # This is added back by InteractiveShellApp.init_path()\n",
      "/home/mdogan/miniconda3/lib/python3.7/site-packages/ipykernel_launcher.py:18: SettingWithCopyWarning: \n",
      "A value is trying to be set on a copy of a slice from a DataFrame.\n",
      "Try using .loc[row_indexer,col_indexer] = value instead\n",
      "\n",
      "See the caveats in the documentation: http://pandas.pydata.org/pandas-docs/stable/user_guide/indexing.html#returning-a-view-versus-a-copy\n"
     ]
    }
   ],
   "source": [
    "tokenizer = Tokenizer()\n",
    "tokenizer.fit(train_df.Equation)\n",
    "\n",
    "# convert string to list of int\n",
    "train_df['seq'] = train_df.Equation.apply(encode_sequence, args=(tokenizer,))\n",
    "val_df['seq'] = val_df.Equation.apply(encode_sequence, args=(tokenizer,))\n",
    "test_df['seq'] = test_df.Equation.apply(encode_sequence, args=(tokenizer,))\n",
    "\n",
    "train_df['length'] = train_df.seq.apply(len)\n",
    "val_df['length'] = val_df.seq.apply(len)\n",
    "test_df['length'] = test_df.seq.apply(len)\n",
    "\n",
    "labels = train_df.Cluster_label.unique()\n",
    "label_map = {label: i for i, label in enumerate(labels)}\n",
    "\n",
    "train_df['Label'] = train_df.Cluster_label.map(label_map)\n",
    "val_df['Label'] = val_df.Cluster_label.map(label_map)\n",
    "test_df['Label'] = test_df.Cluster_label.map(label_map)\n"
   ]
  },
  {
   "cell_type": "code",
   "execution_count": 136,
   "metadata": {},
   "outputs": [
    {
     "data": {
      "text/plain": [
       "[1, 32, 64, 117, 190, 2]"
      ]
     },
     "execution_count": 136,
     "metadata": {},
     "output_type": "execute_result"
    }
   ],
   "source": [
    "encode_sequence('1234', tokenizer)"
   ]
  },
  {
   "cell_type": "code",
   "execution_count": 137,
   "metadata": {},
   "outputs": [
    {
     "data": {
      "text/plain": [
       "190"
      ]
     },
     "execution_count": 137,
     "metadata": {},
     "output_type": "execute_result"
    }
   ],
   "source": [
    "tokenizer['4']"
   ]
  },
  {
   "cell_type": "code",
   "execution_count": 138,
   "metadata": {},
   "outputs": [
    {
     "data": {
      "text/plain": [
       "210"
      ]
     },
     "execution_count": 138,
     "metadata": {},
     "output_type": "execute_result"
    }
   ],
   "source": [
    "len(tokenizer.vocab)"
   ]
  },
  {
   "cell_type": "code",
   "execution_count": 139,
   "metadata": {},
   "outputs": [
    {
     "data": {
      "text/plain": [
       "{'physics-newtonian-mechanics': 0,\n",
       " 'physics-quantum-mechanics': 1,\n",
       " 'physics-field-theory': 2,\n",
       " 'physics-general-relativity': 3}"
      ]
     },
     "execution_count": 139,
     "metadata": {},
     "output_type": "execute_result"
    }
   ],
   "source": [
    "label_map"
   ]
  },
  {
   "cell_type": "code",
   "execution_count": 140,
   "metadata": {},
   "outputs": [
    {
     "data": {
      "text/html": [
       "<div>\n",
       "<style scoped>\n",
       "    .dataframe tbody tr th:only-of-type {\n",
       "        vertical-align: middle;\n",
       "    }\n",
       "\n",
       "    .dataframe tbody tr th {\n",
       "        vertical-align: top;\n",
       "    }\n",
       "\n",
       "    .dataframe thead th {\n",
       "        text-align: right;\n",
       "    }\n",
       "</style>\n",
       "<table border=\"1\" class=\"dataframe\">\n",
       "  <thead>\n",
       "    <tr style=\"text-align: right;\">\n",
       "      <th></th>\n",
       "      <th>Equation</th>\n",
       "      <th>Source</th>\n",
       "      <th>Cluster_label</th>\n",
       "      <th>Id</th>\n",
       "      <th>Tags</th>\n",
       "      <th>seq</th>\n",
       "      <th>length</th>\n",
       "      <th>Label</th>\n",
       "    </tr>\n",
       "  </thead>\n",
       "  <tbody>\n",
       "    <tr>\n",
       "      <th>382392</th>\n",
       "      <td>p_\\|\\cdot x_\\|=E_pt-p_2x_2-p_3x_3</td>\n",
       "      <td>physics</td>\n",
       "      <td>physics-field-theory</td>\n",
       "      <td>430147</td>\n",
       "      <td>&lt;homework-and-exercises&gt;&lt;quantum-field-theory&gt;...</td>\n",
       "      <td>[1, 46, 55, 34, 138, 34, 14, 124, 6, 166, 76, ...</td>\n",
       "      <td>35</td>\n",
       "      <td>2</td>\n",
       "    </tr>\n",
       "    <tr>\n",
       "      <th>419814</th>\n",
       "      <td>\\mathcal{N}\\left(\\lambda\\right)=\\sum_{n=1}^{M}...</td>\n",
       "      <td>physics</td>\n",
       "      <td>physics-quantum-mechanics</td>\n",
       "      <td>463822</td>\n",
       "      <td>&lt;quantum-mechanics&gt;&lt;condensed-matter&gt;&lt;solid-st...</td>\n",
       "      <td>[1, 34, 41, 98, 166, 93, 14, 98, 73, 123, 151,...</td>\n",
       "      <td>93</td>\n",
       "      <td>1</td>\n",
       "    </tr>\n",
       "    <tr>\n",
       "      <th>195228</th>\n",
       "      <td>A(\\vec{a},\\lambda)=\\pm 1</td>\n",
       "      <td>physics</td>\n",
       "      <td>physics-quantum-mechanics</td>\n",
       "      <td>243477</td>\n",
       "      <td>&lt;quantum-mechanics&gt;&lt;homework-and-exercises&gt;&lt;qu...</td>\n",
       "      <td>[1, 194, 89, 34, 191, 165, 14, 123, 98, 51, 35...</td>\n",
       "      <td>26</td>\n",
       "      <td>1</td>\n",
       "    </tr>\n",
       "    <tr>\n",
       "      <th>210931</th>\n",
       "      <td>\\langle \\lambda |L|\\lambda \\rangle = \\lambda \\...</td>\n",
       "      <td>physics</td>\n",
       "      <td>physics-quantum-mechanics</td>\n",
       "      <td>260863</td>\n",
       "      <td>&lt;quantum-mechanics&gt;&lt;operators&gt;&lt;hilbert-space&gt;&lt;...</td>\n",
       "      <td>[1, 34, 73, 98, 143, 147, 73, 165, 76, 34, 73,...</td>\n",
       "      <td>79</td>\n",
       "      <td>1</td>\n",
       "    </tr>\n",
       "    <tr>\n",
       "      <th>373404</th>\n",
       "      <td>|e\\rangle_H = |e(t)\\rangle_H</td>\n",
       "      <td>physics</td>\n",
       "      <td>physics-quantum-mechanics</td>\n",
       "      <td>421572</td>\n",
       "      <td>&lt;quantum-mechanics&gt;&lt;homework-and-exercises&gt;&lt;op...</td>\n",
       "      <td>[1, 138, 165, 34, 85, 98, 143, 147, 73, 165, 5...</td>\n",
       "      <td>30</td>\n",
       "      <td>1</td>\n",
       "    </tr>\n",
       "    <tr>\n",
       "      <th>159278</th>\n",
       "      <td>n^\\mu A_\\mu = 0</td>\n",
       "      <td>physics</td>\n",
       "      <td>physics-field-theory</td>\n",
       "      <td>202819</td>\n",
       "      <td>&lt;quantum-field-theory&gt;&lt;gauge-theory&gt;&lt;field-the...</td>\n",
       "      <td>[1, 143, 140, 34, 41, 204, 76, 194, 55, 34, 41...</td>\n",
       "      <td>17</td>\n",
       "      <td>2</td>\n",
       "    </tr>\n",
       "    <tr>\n",
       "      <th>9908</th>\n",
       "      <td>\\psi(\\tau=0,x,z)\\psi_0(x,z)</td>\n",
       "      <td>physics</td>\n",
       "      <td>physics-field-theory</td>\n",
       "      <td>19968</td>\n",
       "      <td>&lt;quantum-field-theory&gt;&lt;path-integral&gt;</td>\n",
       "      <td>[1, 34, 46, 87, 69, 89, 34, 166, 98, 204, 97, ...</td>\n",
       "      <td>29</td>\n",
       "      <td>2</td>\n",
       "    </tr>\n",
       "    <tr>\n",
       "      <th>21069</th>\n",
       "      <td>(\\mathcal{J}_k)^0_0 = (\\mathcal{J}_k)^0_i = (\\...</td>\n",
       "      <td>physics</td>\n",
       "      <td>physics-field-theory</td>\n",
       "      <td>35510</td>\n",
       "      <td>&lt;quantum-field-theory&gt;&lt;special-relativity&gt;&lt;ang...</td>\n",
       "      <td>[1, 89, 34, 41, 98, 166, 93, 14, 98, 73, 123, ...</td>\n",
       "      <td>69</td>\n",
       "      <td>2</td>\n",
       "    </tr>\n",
       "    <tr>\n",
       "      <th>66344</th>\n",
       "      <td>T_k(x,t)=C(k)\\cdot \\sin{kx} \\cdot e^{-k^2\\alph...</td>\n",
       "      <td>physics</td>\n",
       "      <td>physics-quantum-mechanics</td>\n",
       "      <td>90779</td>\n",
       "      <td>&lt;quantum-mechanics&gt;&lt;thermodynamics&gt;&lt;mathematic...</td>\n",
       "      <td>[1, 33, 55, 19, 89, 121, 35, 166, 49, 97, 104,...</td>\n",
       "      <td>52</td>\n",
       "      <td>1</td>\n",
       "    </tr>\n",
       "    <tr>\n",
       "      <th>155346</th>\n",
       "      <td>W_\\text{int} +p_1 ^2/2M+V_1=W_\\text{int}+p_2 ^...</td>\n",
       "      <td>physics</td>\n",
       "      <td>physics-quantum-mechanics</td>\n",
       "      <td>196827</td>\n",
       "      <td>&lt;quantum-mechanics&gt;&lt;wavefunction&gt;</td>\n",
       "      <td>[1, 164, 55, 34, 166, 165, 121, 166, 123, 69, ...</td>\n",
       "      <td>57</td>\n",
       "      <td>1</td>\n",
       "    </tr>\n",
       "  </tbody>\n",
       "</table>\n",
       "</div>"
      ],
      "text/plain": [
       "                                                 Equation   Source  \\\n",
       "382392                  p_\\|\\cdot x_\\|=E_pt-p_2x_2-p_3x_3  physics   \n",
       "419814  \\mathcal{N}\\left(\\lambda\\right)=\\sum_{n=1}^{M}...  physics   \n",
       "195228                           A(\\vec{a},\\lambda)=\\pm 1  physics   \n",
       "210931  \\langle \\lambda |L|\\lambda \\rangle = \\lambda \\...  physics   \n",
       "373404                       |e\\rangle_H = |e(t)\\rangle_H  physics   \n",
       "159278                                    n^\\mu A_\\mu = 0  physics   \n",
       "9908                          \\psi(\\tau=0,x,z)\\psi_0(x,z)  physics   \n",
       "21069   (\\mathcal{J}_k)^0_0 = (\\mathcal{J}_k)^0_i = (\\...  physics   \n",
       "66344   T_k(x,t)=C(k)\\cdot \\sin{kx} \\cdot e^{-k^2\\alph...  physics   \n",
       "155346  W_\\text{int} +p_1 ^2/2M+V_1=W_\\text{int}+p_2 ^...  physics   \n",
       "\n",
       "                    Cluster_label      Id  \\\n",
       "382392       physics-field-theory  430147   \n",
       "419814  physics-quantum-mechanics  463822   \n",
       "195228  physics-quantum-mechanics  243477   \n",
       "210931  physics-quantum-mechanics  260863   \n",
       "373404  physics-quantum-mechanics  421572   \n",
       "159278       physics-field-theory  202819   \n",
       "9908         physics-field-theory   19968   \n",
       "21069        physics-field-theory   35510   \n",
       "66344   physics-quantum-mechanics   90779   \n",
       "155346  physics-quantum-mechanics  196827   \n",
       "\n",
       "                                                     Tags  \\\n",
       "382392  <homework-and-exercises><quantum-field-theory>...   \n",
       "419814  <quantum-mechanics><condensed-matter><solid-st...   \n",
       "195228  <quantum-mechanics><homework-and-exercises><qu...   \n",
       "210931  <quantum-mechanics><operators><hilbert-space><...   \n",
       "373404  <quantum-mechanics><homework-and-exercises><op...   \n",
       "159278  <quantum-field-theory><gauge-theory><field-the...   \n",
       "9908                <quantum-field-theory><path-integral>   \n",
       "21069   <quantum-field-theory><special-relativity><ang...   \n",
       "66344   <quantum-mechanics><thermodynamics><mathematic...   \n",
       "155346                  <quantum-mechanics><wavefunction>   \n",
       "\n",
       "                                                      seq  length  Label  \n",
       "382392  [1, 46, 55, 34, 138, 34, 14, 124, 6, 166, 76, ...      35      2  \n",
       "419814  [1, 34, 41, 98, 166, 93, 14, 98, 73, 123, 151,...      93      1  \n",
       "195228  [1, 194, 89, 34, 191, 165, 14, 123, 98, 51, 35...      26      1  \n",
       "210931  [1, 34, 73, 98, 143, 147, 73, 165, 76, 34, 73,...      79      1  \n",
       "373404  [1, 138, 165, 34, 85, 98, 143, 147, 73, 165, 5...      30      1  \n",
       "159278  [1, 143, 140, 34, 41, 204, 76, 194, 55, 34, 41...      17      2  \n",
       "9908    [1, 34, 46, 87, 69, 89, 34, 166, 98, 204, 97, ...      29      2  \n",
       "21069   [1, 89, 34, 41, 98, 166, 93, 14, 98, 73, 123, ...      69      2  \n",
       "66344   [1, 33, 55, 19, 89, 121, 35, 166, 49, 97, 104,...      52      1  \n",
       "155346  [1, 164, 55, 34, 166, 165, 121, 166, 123, 69, ...      57      1  "
      ]
     },
     "execution_count": 140,
     "metadata": {},
     "output_type": "execute_result"
    }
   ],
   "source": [
    "train_df.sample(10)"
   ]
  },
  {
   "cell_type": "code",
   "execution_count": 141,
   "metadata": {},
   "outputs": [],
   "source": [
    "class DataGenerator(utils.Sequence):\n",
    "    def __init__(self, df, batch_size: int = 32, shuffle: bool = False, weight: bool = False, n_class: int = 3):\n",
    "        self.df = df\n",
    "        self.batch_size = batch_size\n",
    "        self.shuffle = shuffle\n",
    "        self.weight = weight\n",
    "        self.n_class = n_class\n",
    "        self.class_weight =  self.compute_class_weight(self.n_class) if self.weight else np.ones((self.n_class,))\n",
    "        \n",
    "        if self.shuffle:\n",
    "            self.df = self.df.sample(frac=1)\n",
    "            \n",
    "\n",
    "    def get_data_at_index(self, batch_idx):\n",
    "        offset = self.batch_size * batch_idx\n",
    "        return self.df.iloc[offset: offset+self.batch_size]\n",
    "    \n",
    "    def __getitem__(self, batch_idx: int):\n",
    "        batch = self.get_data_at_index(batch_idx)\n",
    "        if self.shuffle:\n",
    "            batch = batch.sample(frac=1)\n",
    "\n",
    "        X = sequence.pad_sequences(\n",
    "            batch.seq,\n",
    "            maxlen=min( max(batch.length), 32),\n",
    "            truncating='post',\n",
    "        )\n",
    "        Y = batch.Label.values\n",
    "        w = np.array([self.class_weight[label] for label in Y])\n",
    "        return X, Y, w\n",
    "    \n",
    "    def on_epoch_end(self):\n",
    "        if self.shuffle:\n",
    "            self.df = self.df.sample(frac=1)\n",
    "            \n",
    "    def __len__(self):\n",
    "        return int(np.ceil( self.df.shape[0] / self.batch_size ))\n",
    "    \n",
    "    def compute_class_weight(self, n_classes):\n",
    "        n_samples = self.df.shape[0]\n",
    "        return n_samples / (n_classes * np.bincount(self.df.Label.values))\n"
   ]
  },
  {
   "cell_type": "code",
   "execution_count": 142,
   "metadata": {},
   "outputs": [],
   "source": [
    "class Mask(layers.Layer):\n",
    "    def call(self, inputs):\n",
    "        value = tf.cast(0, dtype=inputs.dtype)\n",
    "        is_zero = tf.equal(inputs, value)\n",
    "        return tf.cast(tf.logical_not(is_zero), tf.float32)\n",
    "\n",
    "        \n",
    "class ApplyMask(layers.Layer):\n",
    "    def call(self, inputs):\n",
    "        data, mask = inputs\n",
    "        mask = tf.expand_dims(mask, axis=-1)  # (N, T, 1)\n",
    "        return tf.multiply(data, mask)"
   ]
  },
  {
   "cell_type": "code",
   "execution_count": 143,
   "metadata": {},
   "outputs": [],
   "source": [
    "def clf_model(tokenizer, emb, n_kernels, kernel_width, n_class):\n",
    "    \n",
    "    # define layers\n",
    "    input = layers.Input(batch_shape=(None, None))  # (N, T)\n",
    "    embedding_layer = layers.Embedding(len(tokenizer.vocab), emb, mask_zero=False, name='embedding')  # (N, T, emb)\n",
    "    mask_layer = Mask(name='mask')  # (N, T)\n",
    "    conv_layer = layers.Conv1D(\n",
    "        n_kernels, kernel_width, \n",
    "        activation='tanh',\n",
    "        kernel_initializer='he_normal',\n",
    "        padding='same',\n",
    "        name='conv'\n",
    "    )  # (N, T, n_kernels), selects 3-grams\n",
    "    apply_mask_layer = ApplyMask(name='apply_mask')  # (N, T, n_kernels), zero the timesteps that were padding\n",
    "    rnn_layer = layers.LSTM(n_kernels, name='rnn') # (N, e)\n",
    "    softmax_layer = layers.Dense(n_class, activation='softmax', name='output')\n",
    "    \n",
    "    # call layers\n",
    "    embedding = embedding_layer(input)\n",
    "    mask = mask_layer(input)\n",
    "    conv = conv_layer(embedding)\n",
    "    conv = apply_mask_layer([conv, mask])\n",
    "    encoded = rnn_layer(conv)\n",
    "    output = softmax_layer(encoded)\n",
    "    model = models.Model(input, output)\n",
    "    return model\n",
    "    \n",
    "def compile_model(model):\n",
    "    model.compile(\n",
    "        loss='sparse_categorical_crossentropy',\n",
    "        optimizer='adam',\n",
    "        metrics=['sparse_categorical_accuracy']\n",
    "    )\n"
   ]
  },
  {
   "cell_type": "code",
   "execution_count": 21,
   "metadata": {},
   "outputs": [],
   "source": [
    "# ensure balanced classes\n",
    "# N_train = train_df.groupby('source').count().values.min()\n",
    "# N_val = val_df.groupby('source').count().values.min()\n",
    "\n",
    "# small_df = pd.concat([train_df[train_df.label==l].sample(N_train, replace=False) for l in range(3)])\n",
    "# small_val_df = pd.concat([val_df[val_df.label==l].sample(N_val, replace=False) for l in range(3)])\n"
   ]
  },
  {
   "cell_type": "markdown",
   "metadata": {},
   "source": [
    "# model3 (only equations with an equal sign): clustersize = 4, batch_size = 1024, emb = 32, n_kernels = 128, kernel_width = 3, epochs = 16"
   ]
  },
  {
   "cell_type": "code",
   "execution_count": 144,
   "metadata": {},
   "outputs": [],
   "source": [
    "batch_size = 1024\n",
    "n_class = 4\n",
    "train_dg = DataGenerator(train_df, batch_size=batch_size, shuffle=True, weight=True, n_class = n_class)\n",
    "val_dg = DataGenerator(val_df, batch_size=batch_size, shuffle=False, weight=False, n_class = n_class)"
   ]
  },
  {
   "cell_type": "code",
   "execution_count": 145,
   "metadata": {},
   "outputs": [],
   "source": [
    "emb = 32\n",
    "n_kernels = 128\n",
    "kernel_width = 3"
   ]
  },
  {
   "cell_type": "code",
   "execution_count": 146,
   "metadata": {},
   "outputs": [
    {
     "name": "stdout",
     "output_type": "stream",
     "text": [
      "Model: \"model_3\"\n",
      "__________________________________________________________________________________________________\n",
      "Layer (type)                    Output Shape         Param #     Connected to                     \n",
      "==================================================================================================\n",
      "input_4 (InputLayer)            [(None, None)]       0                                            \n",
      "__________________________________________________________________________________________________\n",
      "embedding (Embedding)           (None, None, 32)     6720        input_4[0][0]                    \n",
      "__________________________________________________________________________________________________\n",
      "conv (Conv1D)                   (None, None, 128)    12416       embedding[0][0]                  \n",
      "__________________________________________________________________________________________________\n",
      "mask (Mask)                     (None, None)         0           input_4[0][0]                    \n",
      "__________________________________________________________________________________________________\n",
      "apply_mask (ApplyMask)          (None, None, 128)    0           conv[0][0]                       \n",
      "                                                                 mask[0][0]                       \n",
      "__________________________________________________________________________________________________\n",
      "rnn (LSTM)                      (None, 128)          131584      apply_mask[0][0]                 \n",
      "__________________________________________________________________________________________________\n",
      "output (Dense)                  (None, 4)            516         rnn[0][0]                        \n",
      "==================================================================================================\n",
      "Total params: 151,236\n",
      "Trainable params: 151,236\n",
      "Non-trainable params: 0\n",
      "__________________________________________________________________________________________________\n",
      "None\n"
     ]
    }
   ],
   "source": [
    "model = clf_model(tokenizer, emb, n_kernels, kernel_width, n_class)  # initialize the weights\n",
    "compile_model(model)  # set the loss fn and optimizer\n",
    "print(model.summary())  # check the number of parameters\n"
   ]
  },
  {
   "cell_type": "code",
   "execution_count": 147,
   "metadata": {},
   "outputs": [],
   "source": [
    "model.save('../result/model/model3_cluster4_epoch16.h5')"
   ]
  },
  {
   "cell_type": "code",
   "execution_count": 148,
   "metadata": {},
   "outputs": [
    {
     "name": "stdout",
     "output_type": "stream",
     "text": [
      "Epoch 1/16\n",
      "42/42 [==============================] - 5s 123ms/step - loss: 1.1979 - sparse_categorical_accuracy: 0.4495 - val_loss: 1.1576 - val_sparse_categorical_accuracy: 0.4995\n",
      "Epoch 2/16\n",
      "42/42 [==============================] - 3s 60ms/step - loss: 1.0599 - sparse_categorical_accuracy: 0.5452 - val_loss: 1.0483 - val_sparse_categorical_accuracy: 0.5307\n",
      "Epoch 3/16\n",
      "42/42 [==============================] - 3s 61ms/step - loss: 1.0415 - sparse_categorical_accuracy: 0.5526 - val_loss: 1.0731 - val_sparse_categorical_accuracy: 0.5177\n",
      "Epoch 4/16\n",
      "42/42 [==============================] - 3s 61ms/step - loss: 1.0026 - sparse_categorical_accuracy: 0.5719 - val_loss: 0.9734 - val_sparse_categorical_accuracy: 0.6043\n",
      "Epoch 5/16\n",
      "42/42 [==============================] - 3s 64ms/step - loss: 0.9903 - sparse_categorical_accuracy: 0.5842 - val_loss: 0.9782 - val_sparse_categorical_accuracy: 0.6050\n",
      "Epoch 6/16\n",
      "42/42 [==============================] - 3s 61ms/step - loss: 0.9978 - sparse_categorical_accuracy: 0.5839 - val_loss: 0.9738 - val_sparse_categorical_accuracy: 0.6111\n",
      "Epoch 7/16\n",
      "42/42 [==============================] - 3s 61ms/step - loss: 0.9704 - sparse_categorical_accuracy: 0.5961 - val_loss: 0.9889 - val_sparse_categorical_accuracy: 0.5929\n",
      "Epoch 8/16\n",
      "42/42 [==============================] - 3s 64ms/step - loss: 0.9497 - sparse_categorical_accuracy: 0.5994 - val_loss: 0.9910 - val_sparse_categorical_accuracy: 0.5925\n",
      "Epoch 9/16\n",
      "42/42 [==============================] - 3s 66ms/step - loss: 0.9562 - sparse_categorical_accuracy: 0.6029 - val_loss: 1.1302 - val_sparse_categorical_accuracy: 0.5225\n",
      "Epoch 10/16\n",
      "42/42 [==============================] - 3s 61ms/step - loss: 0.9523 - sparse_categorical_accuracy: 0.5962 - val_loss: 0.9278 - val_sparse_categorical_accuracy: 0.6270\n",
      "Epoch 11/16\n",
      "42/42 [==============================] - 3s 64ms/step - loss: 0.9372 - sparse_categorical_accuracy: 0.6116 - val_loss: 0.9565 - val_sparse_categorical_accuracy: 0.6111\n",
      "Epoch 12/16\n",
      "42/42 [==============================] - 3s 64ms/step - loss: 0.9303 - sparse_categorical_accuracy: 0.6216 - val_loss: 0.9222 - val_sparse_categorical_accuracy: 0.6265\n",
      "Epoch 13/16\n",
      "42/42 [==============================] - 3s 60ms/step - loss: 0.9195 - sparse_categorical_accuracy: 0.6144 - val_loss: 0.9383 - val_sparse_categorical_accuracy: 0.6093\n",
      "Epoch 14/16\n",
      "42/42 [==============================] - 3s 60ms/step - loss: 0.9017 - sparse_categorical_accuracy: 0.6183 - val_loss: 0.9055 - val_sparse_categorical_accuracy: 0.6393\n",
      "Epoch 15/16\n",
      "42/42 [==============================] - 3s 65ms/step - loss: 0.8960 - sparse_categorical_accuracy: 0.6354 - val_loss: 0.8960 - val_sparse_categorical_accuracy: 0.6449\n",
      "Epoch 16/16\n",
      "42/42 [==============================] - 3s 63ms/step - loss: 0.8719 - sparse_categorical_accuracy: 0.6336 - val_loss: 0.9036 - val_sparse_categorical_accuracy: 0.6347\n"
     ]
    }
   ],
   "source": [
    "history = model.fit_generator(\n",
    "    train_dg,\n",
    "    validation_data=val_dg,\n",
    "    epochs=16,\n",
    "    workers=4,\n",
    "    use_multiprocessing=True\n",
    ")"
   ]
  },
  {
   "cell_type": "code",
   "execution_count": 149,
   "metadata": {},
   "outputs": [
    {
     "data": {
      "image/png": "[encoded data removed]",
      "text/plain": [
       "<Figure size 432x288 with 1 Axes>"
      ]
     },
     "metadata": {
      "needs_background": "light"
     },
     "output_type": "display_data"
    }
   ],
   "source": [
    "%matplotlib inline\n",
    "plt.plot(history.history['loss'], label='training')\n",
    "plt.plot(history.history['val_loss'], label='validation')\n",
    "plt.legend()\n",
    "plt.show()\n"
   ]
  },
  {
   "cell_type": "markdown",
   "metadata": {},
   "source": [
    "# save loss data"
   ]
  },
  {
   "cell_type": "code",
   "execution_count": 150,
   "metadata": {},
   "outputs": [],
   "source": [
    "import pickle"
   ]
  },
  {
   "cell_type": "code",
   "execution_count": 151,
   "metadata": {},
   "outputs": [],
   "source": [
    "with open('../result/loss/model3_cluster4_epoch16', 'wb') as file_pi:\n",
    "        pickle.dump(history.history, file_pi)"
   ]
  },
  {
   "cell_type": "code",
   "execution_count": 152,
   "metadata": {},
   "outputs": [],
   "source": [
    "file = open('../result/loss/model3_cluster4_epoch16', 'rb')\n",
    "data = pickle.load(file)"
   ]
  },
  {
   "cell_type": "markdown",
   "metadata": {},
   "source": [
    "# Evaluation"
   ]
  },
  {
   "cell_type": "markdown",
   "metadata": {
    "heading_collapsed": true
   },
   "source": [
    "## evaluation tools"
   ]
  },
  {
   "cell_type": "code",
   "execution_count": 153,
   "metadata": {
    "hidden": true
   },
   "outputs": [],
   "source": [
    "import itertools\n",
    "from sklearn.metrics import confusion_matrix\n",
    "from sklearn.utils.multiclass import unique_labels\n",
    "import matplotlib.pyplot as plt\n",
    "\n",
    "%matplotlib notebook\n",
    "\n",
    "def plot_confusion_matrix(y_true, y_pred, classes, name,\n",
    "                          normalize=False,\n",
    "                          title=None,\n",
    "                          cmap=plt.cm.Blues):\n",
    "    if not title:\n",
    "        if normalize:\n",
    "            title = 'Normalized confusion matrix'\n",
    "        else:\n",
    "            title = 'Confusion matrix, without normalization'\n",
    "\n",
    "    # Compute confusion matrix\n",
    "    cm = confusion_matrix(y_true, y_pred)\n",
    "    # Only use the labels that appear in the data\n",
    "    classes = classes[unique_labels(y_true, y_pred)]\n",
    "    if normalize:\n",
    "        cm = cm.astype('float') / cm.sum(axis=1)[:, np.newaxis]\n",
    "        print(\"Normalized confusion matrix\")\n",
    "    else:\n",
    "        print('Confusion matrix, without normalization')\n",
    "\n",
    "    print(cm)\n",
    "\n",
    "    fig, ax = plt.subplots(figsize=(8, 8))\n",
    "    im = ax.imshow(cm, interpolation='nearest', cmap=cmap)\n",
    "    ax.figure.colorbar(im, ax=ax)\n",
    "    # We want to show all ticks...\n",
    "    ax.set(xticks=np.arange(cm.shape[1]),\n",
    "           yticks=np.arange(cm.shape[0]),\n",
    "           # ... and label them with the respective list entries\n",
    "           xticklabels=classes, yticklabels=classes,\n",
    "           title=title,\n",
    "           ylabel='True label',\n",
    "           xlabel='Predicted label')\n",
    "\n",
    "    # Rotate the tick labels and set their alignment.\n",
    "    plt.setp(ax.get_xticklabels(), rotation=45, ha=\"right\",\n",
    "             rotation_mode=\"anchor\")\n",
    "\n",
    "    # Loop over data dimensions and create text annotations.\n",
    "    fmt = '.2f' if normalize else 'd'\n",
    "    thresh = cm.max() / 2.\n",
    "    for i in range(cm.shape[0]):\n",
    "        for j in range(cm.shape[1]):\n",
    "            ax.text(j, i, format(cm[i, j], fmt),\n",
    "                    ha=\"center\", va=\"center\",\n",
    "                    color=\"white\" if cm[i, j] > thresh else \"black\")\n",
    "    fig.tight_layout()\n",
    "    \n",
    "    plt.savefig('../result/confusion_matrix/' + name + '.png')\n",
    "    return ax"
   ]
  },
  {
   "cell_type": "code",
   "execution_count": 154,
   "metadata": {
    "hidden": true
   },
   "outputs": [],
   "source": [
    "def predict_on_df(model, df, batch_size, n_class):\n",
    "    dg = DataGenerator(df, batch_size=batch_size, shuffle=False, weight = False, n_class = n_class)\n",
    "    yhat = model.predict_generator(dg)\n",
    "    pred_index = yhat.argmax(axis=1)\n",
    "    pred_conf = yhat.max(axis=1)\n",
    "    df['pred_index'] = pred_index\n",
    "    df['pred_label'] = df.pred_index.apply(lambda x: list(label_map.keys())[x])\n",
    "    df['pred_conf'] = pred_conf\n",
    "    df['match'] = df['pred_index'] == df['Label']\n",
    "    return df\n",
    "\n",
    "\n",
    "def display_top_losses(prediction_df, k: int = 10):\n",
    "    wrong_condition = ~prediction_df.match\n",
    "    wrong_df = prediction_df[wrong_condition]\n",
    "    return wrong_df.sort_values('pred_conf', ascending=False).iloc[0:k][['Equation', 'pred_label', 'Cluster_label', 'pred_index', 'Label', 'pred_conf']]\n",
    "    \n",
    "def predict_from_str(equation, model, tokenizer):\n",
    "    X = np.array([encode_sequence(equation, tokenizer)])\n",
    "    yhat = model.predict(X)\n",
    "    pred_index = yhat.argmax()\n",
    "    label = [label for label, i in label_map.items() if i==pred_index][0]\n",
    "    return {\n",
    "        'yhat': yhat.tolist(),\n",
    "        'pred_index': pred_index,\n",
    "        'label': label\n",
    "           }"
   ]
  },
  {
   "cell_type": "markdown",
   "metadata": {},
   "source": [
    "## evaluate"
   ]
  },
  {
   "cell_type": "code",
   "execution_count": 155,
   "metadata": {},
   "outputs": [
    {
     "name": "stderr",
     "output_type": "stream",
     "text": [
      "/home/mdogan/miniconda3/lib/python3.7/site-packages/ipykernel_launcher.py:6: SettingWithCopyWarning: \n",
      "A value is trying to be set on a copy of a slice from a DataFrame.\n",
      "Try using .loc[row_indexer,col_indexer] = value instead\n",
      "\n",
      "See the caveats in the documentation: http://pandas.pydata.org/pandas-docs/stable/user_guide/indexing.html#returning-a-view-versus-a-copy\n",
      "  \n",
      "/home/mdogan/miniconda3/lib/python3.7/site-packages/ipykernel_launcher.py:7: SettingWithCopyWarning: \n",
      "A value is trying to be set on a copy of a slice from a DataFrame.\n",
      "Try using .loc[row_indexer,col_indexer] = value instead\n",
      "\n",
      "See the caveats in the documentation: http://pandas.pydata.org/pandas-docs/stable/user_guide/indexing.html#returning-a-view-versus-a-copy\n",
      "  import sys\n",
      "/home/mdogan/miniconda3/lib/python3.7/site-packages/ipykernel_launcher.py:8: SettingWithCopyWarning: \n",
      "A value is trying to be set on a copy of a slice from a DataFrame.\n",
      "Try using .loc[row_indexer,col_indexer] = value instead\n",
      "\n",
      "See the caveats in the documentation: http://pandas.pydata.org/pandas-docs/stable/user_guide/indexing.html#returning-a-view-versus-a-copy\n",
      "  \n",
      "/home/mdogan/miniconda3/lib/python3.7/site-packages/ipykernel_launcher.py:9: SettingWithCopyWarning: \n",
      "A value is trying to be set on a copy of a slice from a DataFrame.\n",
      "Try using .loc[row_indexer,col_indexer] = value instead\n",
      "\n",
      "See the caveats in the documentation: http://pandas.pydata.org/pandas-docs/stable/user_guide/indexing.html#returning-a-view-versus-a-copy\n",
      "  if __name__ == '__main__':\n"
     ]
    }
   ],
   "source": [
    "batch_size = 1024\n",
    "n_class = 4\n",
    "predictions = predict_on_df(model, test_df, batch_size, n_class)"
   ]
  },
  {
   "cell_type": "code",
   "execution_count": 156,
   "metadata": {},
   "outputs": [],
   "source": [
    "%matplotlib inline"
   ]
  },
  {
   "cell_type": "code",
   "execution_count": 157,
   "metadata": {},
   "outputs": [
    {
     "data": {
      "text/plain": [
       "0.5995336018655926"
      ]
     },
     "execution_count": 157,
     "metadata": {},
     "output_type": "execute_result"
    }
   ],
   "source": [
    "predictions[predictions.apply(lambda row: row.Label == row.pred_index, axis = 1)].shape[0]/(predictions.shape[0])"
   ]
  },
  {
   "cell_type": "code",
   "execution_count": 162,
   "metadata": {},
   "outputs": [
    {
     "data": {
      "text/html": [
       "<div>\n",
       "<style scoped>\n",
       "    .dataframe tbody tr th:only-of-type {\n",
       "        vertical-align: middle;\n",
       "    }\n",
       "\n",
       "    .dataframe tbody tr th {\n",
       "        vertical-align: top;\n",
       "    }\n",
       "\n",
       "    .dataframe thead th {\n",
       "        text-align: right;\n",
       "    }\n",
       "</style>\n",
       "<table border=\"1\" class=\"dataframe\">\n",
       "  <thead>\n",
       "    <tr style=\"text-align: right;\">\n",
       "      <th></th>\n",
       "      <th>Equation</th>\n",
       "      <th>Source</th>\n",
       "      <th>Cluster_label</th>\n",
       "      <th>Id</th>\n",
       "      <th>Tags</th>\n",
       "      <th>seq</th>\n",
       "      <th>length</th>\n",
       "      <th>Label</th>\n",
       "      <th>pred_index</th>\n",
       "      <th>pred_label</th>\n",
       "      <th>pred_conf</th>\n",
       "      <th>match</th>\n",
       "    </tr>\n",
       "  </thead>\n",
       "  <tbody>\n",
       "    <tr>\n",
       "      <th>125</th>\n",
       "      <td>F=m a</td>\n",
       "      <td>physics</td>\n",
       "      <td>physics-newtonian-mechanics</td>\n",
       "      <td>629</td>\n",
       "      <td>&lt;newtonian-mechanics&gt;&lt;jerk&gt;</td>\n",
       "      <td>[1, 58, 97, 41, 76, 98, 2]</td>\n",
       "      <td>7</td>\n",
       "      <td>0</td>\n",
       "      <td>0</td>\n",
       "      <td>physics-newtonian-mechanics</td>\n",
       "      <td>0.889306</td>\n",
       "      <td>True</td>\n",
       "    </tr>\n",
       "    <tr>\n",
       "      <th>577</th>\n",
       "      <td>\\langle \\sigma_l^z \\sigma_{l+R}^z \\rangle = \\l...</td>\n",
       "      <td>physics</td>\n",
       "      <td>physics-quantum-mechanics</td>\n",
       "      <td>2014</td>\n",
       "      <td>&lt;quantum-mechanics&gt;&lt;statistical-mechanics&gt;&lt;spi...</td>\n",
       "      <td>[1, 34, 73, 98, 143, 147, 73, 165, 76, 34, 87,...</td>\n",
       "      <td>82</td>\n",
       "      <td>1</td>\n",
       "      <td>1</td>\n",
       "      <td>physics-quantum-mechanics</td>\n",
       "      <td>0.516460</td>\n",
       "      <td>True</td>\n",
       "    </tr>\n",
       "    <tr>\n",
       "      <th>578</th>\n",
       "      <td>R=1</td>\n",
       "      <td>physics</td>\n",
       "      <td>physics-quantum-mechanics</td>\n",
       "      <td>2014</td>\n",
       "      <td>&lt;quantum-mechanics&gt;&lt;statistical-mechanics&gt;&lt;spi...</td>\n",
       "      <td>[1, 112, 97, 32, 2]</td>\n",
       "      <td>5</td>\n",
       "      <td>1</td>\n",
       "      <td>3</td>\n",
       "      <td>physics-general-relativity</td>\n",
       "      <td>0.478055</td>\n",
       "      <td>False</td>\n",
       "    </tr>\n",
       "    <tr>\n",
       "      <th>579</th>\n",
       "      <td>G_1 = -\\langle \\sigma_l^x \\sigma_{l+1}^x+ \\sig...</td>\n",
       "      <td>physics</td>\n",
       "      <td>physics-quantum-mechanics</td>\n",
       "      <td>2014</td>\n",
       "      <td>&lt;quantum-mechanics&gt;&lt;statistical-mechanics&gt;&lt;spi...</td>\n",
       "      <td>[1, 108, 55, 32, 76, 97, 76, 134, 34, 73, 98, ...</td>\n",
       "      <td>79</td>\n",
       "      <td>1</td>\n",
       "      <td>2</td>\n",
       "      <td>physics-field-theory</td>\n",
       "      <td>0.539495</td>\n",
       "      <td>False</td>\n",
       "    </tr>\n",
       "    <tr>\n",
       "      <th>581</th>\n",
       "      <td>\\langle \\sigma^z_l \\rangle=tr(\\rho \\sigma^z_l )</td>\n",
       "      <td>physics</td>\n",
       "      <td>physics-quantum-mechanics</td>\n",
       "      <td>2014</td>\n",
       "      <td>&lt;quantum-mechanics&gt;&lt;statistical-mechanics&gt;&lt;spi...</td>\n",
       "      <td>[1, 34, 73, 98, 143, 147, 73, 165, 76, 34, 87,...</td>\n",
       "      <td>49</td>\n",
       "      <td>1</td>\n",
       "      <td>1</td>\n",
       "      <td>physics-quantum-mechanics</td>\n",
       "      <td>0.607787</td>\n",
       "      <td>True</td>\n",
       "    </tr>\n",
       "  </tbody>\n",
       "</table>\n",
       "</div>"
      ],
      "text/plain": [
       "                                              Equation   Source  \\\n",
       "125                                              F=m a  physics   \n",
       "577  \\langle \\sigma_l^z \\sigma_{l+R}^z \\rangle = \\l...  physics   \n",
       "578                                                R=1  physics   \n",
       "579  G_1 = -\\langle \\sigma_l^x \\sigma_{l+1}^x+ \\sig...  physics   \n",
       "581    \\langle \\sigma^z_l \\rangle=tr(\\rho \\sigma^z_l )  physics   \n",
       "\n",
       "                   Cluster_label    Id  \\\n",
       "125  physics-newtonian-mechanics   629   \n",
       "577    physics-quantum-mechanics  2014   \n",
       "578    physics-quantum-mechanics  2014   \n",
       "579    physics-quantum-mechanics  2014   \n",
       "581    physics-quantum-mechanics  2014   \n",
       "\n",
       "                                                  Tags  \\\n",
       "125                        <newtonian-mechanics><jerk>   \n",
       "577  <quantum-mechanics><statistical-mechanics><spi...   \n",
       "578  <quantum-mechanics><statistical-mechanics><spi...   \n",
       "579  <quantum-mechanics><statistical-mechanics><spi...   \n",
       "581  <quantum-mechanics><statistical-mechanics><spi...   \n",
       "\n",
       "                                                   seq  length  Label  \\\n",
       "125                         [1, 58, 97, 41, 76, 98, 2]       7      0   \n",
       "577  [1, 34, 73, 98, 143, 147, 73, 165, 76, 34, 87,...      82      1   \n",
       "578                                [1, 112, 97, 32, 2]       5      1   \n",
       "579  [1, 108, 55, 32, 76, 97, 76, 134, 34, 73, 98, ...      79      1   \n",
       "581  [1, 34, 73, 98, 143, 147, 73, 165, 76, 34, 87,...      49      1   \n",
       "\n",
       "     pred_index                   pred_label  pred_conf  match  \n",
       "125           0  physics-newtonian-mechanics   0.889306   True  \n",
       "577           1    physics-quantum-mechanics   0.516460   True  \n",
       "578           3   physics-general-relativity   0.478055  False  \n",
       "579           2         physics-field-theory   0.539495  False  \n",
       "581           1    physics-quantum-mechanics   0.607787   True  "
      ]
     },
     "execution_count": 162,
     "metadata": {},
     "output_type": "execute_result"
    }
   ],
   "source": [
    "predictions.head()"
   ]
  },
  {
   "cell_type": "code",
   "execution_count": 163,
   "metadata": {},
   "outputs": [
    {
     "data": {
      "text/plain": [
       "Label\n",
       "0    1029\n",
       "1    2020\n",
       "2     965\n",
       "3     703\n",
       "Name: Label, dtype: int64"
      ]
     },
     "execution_count": 163,
     "metadata": {},
     "output_type": "execute_result"
    }
   ],
   "source": [
    "predictions.groupby(['Label'])['Label'].count()"
   ]
  },
  {
   "cell_type": "code",
   "execution_count": 158,
   "metadata": {
    "scrolled": true
   },
   "outputs": [
    {
     "name": "stdout",
     "output_type": "stream",
     "text": [
      "Confusion matrix, without normalization\n",
      "[[ 830   61   58   80]\n",
      " [ 289 1068  487  176]\n",
      " [ 133  185  526  121]\n",
      " [ 109   59  131  404]]\n"
     ]
    },
    {
     "data": {
      "text/plain": [
       "<matplotlib.axes._subplots.AxesSubplot at 0x7f44f44b1470>"
      ]
     },
     "execution_count": 158,
     "metadata": {},
     "output_type": "execute_result"
    },
    {
     "data": {
      "image/png": "[encoded data removed]",
      "text/plain": [
       "<Figure size 576x576 with 2 Axes>"
      ]
     },
     "metadata": {
      "needs_background": "light"
     },
     "output_type": "display_data"
    }
   ],
   "source": [
    "name = \"model3_cluster4_epoch16_1\"\n",
    "plot_confusion_matrix(predictions.Label, predictions.pred_index, np.array(list(label_map.keys())), name)\n"
   ]
  },
  {
   "cell_type": "code",
   "execution_count": 159,
   "metadata": {
    "scrolled": true
   },
   "outputs": [
    {
     "name": "stdout",
     "output_type": "stream",
     "text": [
      "Normalized confusion matrix\n",
      "[[0.80660836 0.05928086 0.0563654  0.07774538]\n",
      " [0.14306931 0.52871287 0.24108911 0.08712871]\n",
      " [0.13782383 0.19170984 0.54507772 0.1253886 ]\n",
      " [0.15504979 0.08392603 0.18634424 0.57467994]]\n"
     ]
    },
    {
     "data": {
      "text/plain": [
       "<matplotlib.axes._subplots.AxesSubplot at 0x7f44f4326da0>"
      ]
     },
     "execution_count": 159,
     "metadata": {},
     "output_type": "execute_result"
    },
    {
     "data": {
      "image/png": "[encoded data removed]",
      "text/plain": [
       "<Figure size 576x576 with 2 Axes>"
      ]
     },
     "metadata": {
      "needs_background": "light"
     },
     "output_type": "display_data"
    }
   ],
   "source": [
    "name = \"model3_cluster4_epoch16_2\"\n",
    "plot_confusion_matrix(predictions.Label, predictions.pred_index, np.array(list(label_map.keys())), name, normalize=True)\n"
   ]
  },
  {
   "cell_type": "code",
   "execution_count": 160,
   "metadata": {},
   "outputs": [
    {
     "data": {
      "text/plain": [
       "{'yhat': [[0.0404881127178669,\n",
       "   0.5921602845191956,\n",
       "   0.323565810918808,\n",
       "   0.043785836547613144]],\n",
       " 'pred_index': 1,\n",
       " 'label': 'physics-quantum-mechanics'}"
      ]
     },
     "execution_count": 160,
     "metadata": {},
     "output_type": "execute_result"
    }
   ],
   "source": [
    "predict_from_str('H\\PSI = E\\PSI', model, tokenizer)"
   ]
  },
  {
   "cell_type": "code",
   "execution_count": 161,
   "metadata": {},
   "outputs": [
    {
     "data": {
      "text/html": [
       "<div>\n",
       "<style scoped>\n",
       "    .dataframe tbody tr th:only-of-type {\n",
       "        vertical-align: middle;\n",
       "    }\n",
       "\n",
       "    .dataframe tbody tr th {\n",
       "        vertical-align: top;\n",
       "    }\n",
       "\n",
       "    .dataframe thead th {\n",
       "        text-align: right;\n",
       "    }\n",
       "</style>\n",
       "<table border=\"1\" class=\"dataframe\">\n",
       "  <thead>\n",
       "    <tr style=\"text-align: right;\">\n",
       "      <th></th>\n",
       "      <th>Equation</th>\n",
       "      <th>pred_label</th>\n",
       "      <th>Cluster_label</th>\n",
       "      <th>pred_index</th>\n",
       "      <th>Label</th>\n",
       "      <th>pred_conf</th>\n",
       "    </tr>\n",
       "  </thead>\n",
       "  <tbody>\n",
       "    <tr>\n",
       "      <th>2410</th>\n",
       "      <td>m=1.67*10^{-27}kg</td>\n",
       "      <td>physics-newtonian-mechanics</td>\n",
       "      <td>physics-quantum-mechanics</td>\n",
       "      <td>0</td>\n",
       "      <td>1</td>\n",
       "      <td>0.982252</td>\n",
       "    </tr>\n",
       "    <tr>\n",
       "      <th>387614</th>\n",
       "      <td>M(v)=M_0\\theta(v-v_0)</td>\n",
       "      <td>physics-newtonian-mechanics</td>\n",
       "      <td>physics-field-theory</td>\n",
       "      <td>0</td>\n",
       "      <td>2</td>\n",
       "      <td>0.962653</td>\n",
       "    </tr>\n",
       "    <tr>\n",
       "      <th>26191</th>\n",
       "      <td>F_{12}=-F_{21}</td>\n",
       "      <td>physics-newtonian-mechanics</td>\n",
       "      <td>physics-general-relativity</td>\n",
       "      <td>0</td>\n",
       "      <td>3</td>\n",
       "      <td>0.954975</td>\n",
       "    </tr>\n",
       "    <tr>\n",
       "      <th>244111</th>\n",
       "      <td>F = m \\ddot x</td>\n",
       "      <td>physics-newtonian-mechanics</td>\n",
       "      <td>physics-quantum-mechanics</td>\n",
       "      <td>0</td>\n",
       "      <td>1</td>\n",
       "      <td>0.953732</td>\n",
       "    </tr>\n",
       "    <tr>\n",
       "      <th>40282</th>\n",
       "      <td>\\mathbb{Z}^{*}=\\mathbb{N}\\cup\\{0\\}</td>\n",
       "      <td>physics-field-theory</td>\n",
       "      <td>physics-newtonian-mechanics</td>\n",
       "      <td>2</td>\n",
       "      <td>0</td>\n",
       "      <td>0.949309</td>\n",
       "    </tr>\n",
       "    <tr>\n",
       "      <th>97706</th>\n",
       "      <td>(P(u,u)=(P(d,d))=(\\cfrac\\phi\\pi)</td>\n",
       "      <td>physics-field-theory</td>\n",
       "      <td>physics-quantum-mechanics</td>\n",
       "      <td>2</td>\n",
       "      <td>1</td>\n",
       "      <td>0.932463</td>\n",
       "    </tr>\n",
       "    <tr>\n",
       "      <th>253593</th>\n",
       "      <td>F = m a</td>\n",
       "      <td>physics-newtonian-mechanics</td>\n",
       "      <td>physics-quantum-mechanics</td>\n",
       "      <td>0</td>\n",
       "      <td>1</td>\n",
       "      <td>0.931991</td>\n",
       "    </tr>\n",
       "    <tr>\n",
       "      <th>153458</th>\n",
       "      <td>g_{\\mu\\nu} = e^{2\\phi}\\delta_{\\mu\\nu}, \\qquad ...</td>\n",
       "      <td>physics-general-relativity</td>\n",
       "      <td>physics-field-theory</td>\n",
       "      <td>3</td>\n",
       "      <td>2</td>\n",
       "      <td>0.929032</td>\n",
       "    </tr>\n",
       "    <tr>\n",
       "      <th>107129</th>\n",
       "      <td>f(t,x,y)=F(t)+g(x)+h(y)</td>\n",
       "      <td>physics-newtonian-mechanics</td>\n",
       "      <td>physics-general-relativity</td>\n",
       "      <td>0</td>\n",
       "      <td>3</td>\n",
       "      <td>0.926652</td>\n",
       "    </tr>\n",
       "    <tr>\n",
       "      <th>427046</th>\n",
       "      <td>\\phi_1(x) = (\\frac{4}{\\pi})^{\\frac{1}{4}}\\: x ...</td>\n",
       "      <td>physics-field-theory</td>\n",
       "      <td>physics-quantum-mechanics</td>\n",
       "      <td>2</td>\n",
       "      <td>1</td>\n",
       "      <td>0.926401</td>\n",
       "    </tr>\n",
       "    <tr>\n",
       "      <th>231148</th>\n",
       "      <td>y_{t}={m_{t}}/{v}</td>\n",
       "      <td>physics-newtonian-mechanics</td>\n",
       "      <td>physics-field-theory</td>\n",
       "      <td>0</td>\n",
       "      <td>2</td>\n",
       "      <td>0.923437</td>\n",
       "    </tr>\n",
       "    <tr>\n",
       "      <th>158822</th>\n",
       "      <td>u\\cdot v = 0</td>\n",
       "      <td>physics-newtonian-mechanics</td>\n",
       "      <td>physics-quantum-mechanics</td>\n",
       "      <td>0</td>\n",
       "      <td>1</td>\n",
       "      <td>0.920623</td>\n",
       "    </tr>\n",
       "    <tr>\n",
       "      <th>239587</th>\n",
       "      <td>J_3 e^{i\\pi J_2} =J_3 \\: (1+i\\pi J_2-\\pi^2J_2^...</td>\n",
       "      <td>physics-field-theory</td>\n",
       "      <td>physics-quantum-mechanics</td>\n",
       "      <td>2</td>\n",
       "      <td>1</td>\n",
       "      <td>0.919975</td>\n",
       "    </tr>\n",
       "    <tr>\n",
       "      <th>66296</th>\n",
       "      <td>2{\\rm Im}T=T^\\dagger T</td>\n",
       "      <td>physics-newtonian-mechanics</td>\n",
       "      <td>physics-field-theory</td>\n",
       "      <td>0</td>\n",
       "      <td>2</td>\n",
       "      <td>0.915493</td>\n",
       "    </tr>\n",
       "    <tr>\n",
       "      <th>292918</th>\n",
       "      <td>F_{\\mu \\nu} = F</td>\n",
       "      <td>physics-newtonian-mechanics</td>\n",
       "      <td>physics-general-relativity</td>\n",
       "      <td>0</td>\n",
       "      <td>3</td>\n",
       "      <td>0.914435</td>\n",
       "    </tr>\n",
       "    <tr>\n",
       "      <th>374533</th>\n",
       "      <td>\\frac{5.275\\times 10^{-25}}{2}=2.6375\\mathrm{\\...</td>\n",
       "      <td>physics-newtonian-mechanics</td>\n",
       "      <td>physics-quantum-mechanics</td>\n",
       "      <td>0</td>\n",
       "      <td>1</td>\n",
       "      <td>0.914153</td>\n",
       "    </tr>\n",
       "    <tr>\n",
       "      <th>138403</th>\n",
       "      <td>g^{\\mu\\nu}(x)=\\eta^{ab}e^\\mu_a(x)e^\\nu_b(x)</td>\n",
       "      <td>physics-general-relativity</td>\n",
       "      <td>physics-field-theory</td>\n",
       "      <td>3</td>\n",
       "      <td>2</td>\n",
       "      <td>0.912223</td>\n",
       "    </tr>\n",
       "    <tr>\n",
       "      <th>427045</th>\n",
       "      <td>\\phi_0(x) = (\\frac{1}{\\pi})^{\\frac{1}{4}}\\: e^...</td>\n",
       "      <td>physics-field-theory</td>\n",
       "      <td>physics-quantum-mechanics</td>\n",
       "      <td>2</td>\n",
       "      <td>1</td>\n",
       "      <td>0.911255</td>\n",
       "    </tr>\n",
       "    <tr>\n",
       "      <th>43036</th>\n",
       "      <td>W_0 = \\tfrac{1}{2}\\hbar \\omega</td>\n",
       "      <td>physics-newtonian-mechanics</td>\n",
       "      <td>physics-quantum-mechanics</td>\n",
       "      <td>0</td>\n",
       "      <td>1</td>\n",
       "      <td>0.908238</td>\n",
       "    </tr>\n",
       "    <tr>\n",
       "      <th>372150</th>\n",
       "      <td>\\int f(\\xi)\\delta(a-\\xi)d\\xi=f'(a)</td>\n",
       "      <td>physics-field-theory</td>\n",
       "      <td>physics-quantum-mechanics</td>\n",
       "      <td>2</td>\n",
       "      <td>1</td>\n",
       "      <td>0.908138</td>\n",
       "    </tr>\n",
       "  </tbody>\n",
       "</table>\n",
       "</div>"
      ],
      "text/plain": [
       "                                                 Equation  \\\n",
       "2410                                    m=1.67*10^{-27}kg   \n",
       "387614                              M(v)=M_0\\theta(v-v_0)   \n",
       "26191                                      F_{12}=-F_{21}   \n",
       "244111                                      F = m \\ddot x   \n",
       "40282                  \\mathbb{Z}^{*}=\\mathbb{N}\\cup\\{0\\}   \n",
       "97706                    (P(u,u)=(P(d,d))=(\\cfrac\\phi\\pi)   \n",
       "253593                                           F = m a    \n",
       "153458  g_{\\mu\\nu} = e^{2\\phi}\\delta_{\\mu\\nu}, \\qquad ...   \n",
       "107129                            f(t,x,y)=F(t)+g(x)+h(y)   \n",
       "427046  \\phi_1(x) = (\\frac{4}{\\pi})^{\\frac{1}{4}}\\: x ...   \n",
       "231148                                  y_{t}={m_{t}}/{v}   \n",
       "158822                                       u\\cdot v = 0   \n",
       "239587  J_3 e^{i\\pi J_2} =J_3 \\: (1+i\\pi J_2-\\pi^2J_2^...   \n",
       "66296                              2{\\rm Im}T=T^\\dagger T   \n",
       "292918                                    F_{\\mu \\nu} = F   \n",
       "374533  \\frac{5.275\\times 10^{-25}}{2}=2.6375\\mathrm{\\...   \n",
       "138403        g^{\\mu\\nu}(x)=\\eta^{ab}e^\\mu_a(x)e^\\nu_b(x)   \n",
       "427045  \\phi_0(x) = (\\frac{1}{\\pi})^{\\frac{1}{4}}\\: e^...   \n",
       "43036                      W_0 = \\tfrac{1}{2}\\hbar \\omega   \n",
       "372150                 \\int f(\\xi)\\delta(a-\\xi)d\\xi=f'(a)   \n",
       "\n",
       "                         pred_label                Cluster_label  pred_index  \\\n",
       "2410    physics-newtonian-mechanics    physics-quantum-mechanics           0   \n",
       "387614  physics-newtonian-mechanics         physics-field-theory           0   \n",
       "26191   physics-newtonian-mechanics   physics-general-relativity           0   \n",
       "244111  physics-newtonian-mechanics    physics-quantum-mechanics           0   \n",
       "40282          physics-field-theory  physics-newtonian-mechanics           2   \n",
       "97706          physics-field-theory    physics-quantum-mechanics           2   \n",
       "253593  physics-newtonian-mechanics    physics-quantum-mechanics           0   \n",
       "153458   physics-general-relativity         physics-field-theory           3   \n",
       "107129  physics-newtonian-mechanics   physics-general-relativity           0   \n",
       "427046         physics-field-theory    physics-quantum-mechanics           2   \n",
       "231148  physics-newtonian-mechanics         physics-field-theory           0   \n",
       "158822  physics-newtonian-mechanics    physics-quantum-mechanics           0   \n",
       "239587         physics-field-theory    physics-quantum-mechanics           2   \n",
       "66296   physics-newtonian-mechanics         physics-field-theory           0   \n",
       "292918  physics-newtonian-mechanics   physics-general-relativity           0   \n",
       "374533  physics-newtonian-mechanics    physics-quantum-mechanics           0   \n",
       "138403   physics-general-relativity         physics-field-theory           3   \n",
       "427045         physics-field-theory    physics-quantum-mechanics           2   \n",
       "43036   physics-newtonian-mechanics    physics-quantum-mechanics           0   \n",
       "372150         physics-field-theory    physics-quantum-mechanics           2   \n",
       "\n",
       "        Label  pred_conf  \n",
       "2410        1   0.982252  \n",
       "387614      2   0.962653  \n",
       "26191       3   0.954975  \n",
       "244111      1   0.953732  \n",
       "40282       0   0.949309  \n",
       "97706       1   0.932463  \n",
       "253593      1   0.931991  \n",
       "153458      2   0.929032  \n",
       "107129      3   0.926652  \n",
       "427046      1   0.926401  \n",
       "231148      2   0.923437  \n",
       "158822      1   0.920623  \n",
       "239587      1   0.919975  \n",
       "66296       2   0.915493  \n",
       "292918      3   0.914435  \n",
       "374533      1   0.914153  \n",
       "138403      2   0.912223  \n",
       "427045      1   0.911255  \n",
       "43036       1   0.908238  \n",
       "372150      1   0.908138  "
      ]
     },
     "execution_count": 161,
     "metadata": {},
     "output_type": "execute_result"
    }
   ],
   "source": [
    "display_top_losses(predictions, 20)"
   ]
  },
  {
   "cell_type": "code",
   "execution_count": null,
   "metadata": {},
   "outputs": [],
   "source": []
  }
 ],
 "metadata": {
  "kernelspec": {
   "display_name": "Python 3",
   "language": "python",
   "name": "python3"
  },
  "language_info": {
   "codemirror_mode": {
    "name": "ipython",
    "version": 3
   },
   "file_extension": ".py",
   "mimetype": "text/x-python",
   "name": "python",
   "nbconvert_exporter": "python",
   "pygments_lexer": "ipython3",
   "version": "3.7.3"
  }
 },
 "nbformat": 4,
 "nbformat_minor": 2
}

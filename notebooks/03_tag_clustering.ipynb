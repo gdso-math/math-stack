{
 "cells": [
  {
   "cell_type": "code",
   "execution_count": 2,
   "metadata": {},
   "outputs": [],
   "source": [
    "import pandas as pd"
   ]
  },
  {
   "cell_type": "markdown",
   "metadata": {},
   "source": [
    "# take chemistry as an example"
   ]
  },
  {
   "cell_type": "code",
   "execution_count": 139,
   "metadata": {},
   "outputs": [
    {
     "name": "stdout",
     "output_type": "stream",
     "text": [
      "<class 'pandas.core.frame.DataFrame'>\n",
      "RangeIndex: 66387 entries, 0 to 66386\n",
      "Data columns (total 21 columns):\n",
      "AcceptedAnswerId         12440 non-null float64\n",
      "AnswerCount              29617 non-null float64\n",
      "Body                     66206 non-null object\n",
      "ClosedDate               3827 non-null object\n",
      "CommentCount             66387 non-null int64\n",
      "CommunityOwnedDate       91 non-null object\n",
      "CreationDate             66387 non-null object\n",
      "FavoriteCount            9349 non-null float64\n",
      "Id                       66387 non-null int64\n",
      "LastActivityDate         66387 non-null object\n",
      "LastEditDate             38015 non-null object\n",
      "LastEditorDisplayName    833 non-null object\n",
      "LastEditorUserId         37395 non-null float64\n",
      "OwnerDisplayName         1184 non-null object\n",
      "OwnerUserId              65379 non-null float64\n",
      "ParentId                 36013 non-null float64\n",
      "PostTypeId               66387 non-null int64\n",
      "Score                    66387 non-null int64\n",
      "Tags                     29617 non-null object\n",
      "Title                    29617 non-null object\n",
      "ViewCount                29617 non-null float64\n",
      "dtypes: float64(7), int64(4), object(10)\n",
      "memory usage: 10.6+ MB\n"
     ]
    },
    {
     "name": "stderr",
     "output_type": "stream",
     "text": [
      "/Users/shuang/anaconda3/lib/python3.7/site-packages/IPython/core/interactiveshell.py:2785: DtypeWarning: Columns (11) have mixed types. Specify dtype option on import or set low_memory=False.\n",
      "  interactivity=interactivity, compiler=compiler, result=result)\n"
     ]
    }
   ],
   "source": [
    "chemistry = pd.read_csv(\"../data/csv/chemistry_post.csv\", lineterminator='\\n')\n",
    "chemistry.info()"
   ]
  },
  {
   "cell_type": "code",
   "execution_count": 21,
   "metadata": {},
   "outputs": [
    {
     "data": {
      "text/html": [
       "<div>\n",
       "<style scoped>\n",
       "    .dataframe tbody tr th:only-of-type {\n",
       "        vertical-align: middle;\n",
       "    }\n",
       "\n",
       "    .dataframe tbody tr th {\n",
       "        vertical-align: top;\n",
       "    }\n",
       "\n",
       "    .dataframe thead th {\n",
       "        text-align: right;\n",
       "    }\n",
       "</style>\n",
       "<table border=\"1\" class=\"dataframe\">\n",
       "  <thead>\n",
       "    <tr style=\"text-align: right;\">\n",
       "      <th></th>\n",
       "      <th>AcceptedAnswerId</th>\n",
       "      <th>AnswerCount</th>\n",
       "      <th>Body</th>\n",
       "      <th>ClosedDate</th>\n",
       "      <th>CommentCount</th>\n",
       "      <th>CommunityOwnedDate</th>\n",
       "      <th>CreationDate</th>\n",
       "      <th>FavoriteCount</th>\n",
       "      <th>Id</th>\n",
       "      <th>LastActivityDate</th>\n",
       "      <th>...</th>\n",
       "      <th>LastEditorDisplayName</th>\n",
       "      <th>LastEditorUserId</th>\n",
       "      <th>OwnerDisplayName</th>\n",
       "      <th>OwnerUserId</th>\n",
       "      <th>ParentId</th>\n",
       "      <th>PostTypeId</th>\n",
       "      <th>Score</th>\n",
       "      <th>Tags</th>\n",
       "      <th>Title</th>\n",
       "      <th>ViewCount</th>\n",
       "    </tr>\n",
       "  </thead>\n",
       "  <tbody>\n",
       "    <tr>\n",
       "      <th>0</th>\n",
       "      <td>3.0</td>\n",
       "      <td>4.0</td>\n",
       "      <td>&lt;p&gt;It seems to me that the addition of electro...</td>\n",
       "      <td>NaN</td>\n",
       "      <td>6</td>\n",
       "      <td>NaN</td>\n",
       "      <td>2012-04-25T18:24:34.340</td>\n",
       "      <td>3.0</td>\n",
       "      <td>1</td>\n",
       "      <td>2017-07-16T07:06:26.797</td>\n",
       "      <td>...</td>\n",
       "      <td>NaN</td>\n",
       "      <td>NaN</td>\n",
       "      <td>NaN</td>\n",
       "      <td>16.0</td>\n",
       "      <td>NaN</td>\n",
       "      <td>1</td>\n",
       "      <td>35</td>\n",
       "      <td>&lt;electrons&gt;&lt;atoms&gt;&lt;periodic-trends&gt;</td>\n",
       "      <td>Why do atoms generally become smaller as one m...</td>\n",
       "      <td>23372.0</td>\n",
       "    </tr>\n",
       "    <tr>\n",
       "      <th>1</th>\n",
       "      <td>56.0</td>\n",
       "      <td>4.0</td>\n",
       "      <td>&lt;p&gt;My understanding is that $\\mathrm{NaCl}$ is...</td>\n",
       "      <td>NaN</td>\n",
       "      <td>1</td>\n",
       "      <td>NaN</td>\n",
       "      <td>2012-04-25T18:25:27.290</td>\n",
       "      <td>3.0</td>\n",
       "      <td>2</td>\n",
       "      <td>2018-08-23T13:43:44.867</td>\n",
       "      <td>...</td>\n",
       "      <td>NaN</td>\n",
       "      <td>66065.0</td>\n",
       "      <td>NaN</td>\n",
       "      <td>10.0</td>\n",
       "      <td>NaN</td>\n",
       "      <td>1</td>\n",
       "      <td>21</td>\n",
       "      <td>&lt;ions&gt;&lt;crystal-structure&gt;&lt;ionic-compounds&gt;&lt;sol...</td>\n",
       "      <td>How does NaCl maintain its crystalline structure?</td>\n",
       "      <td>3318.0</td>\n",
       "    </tr>\n",
       "    <tr>\n",
       "      <th>2</th>\n",
       "      <td>NaN</td>\n",
       "      <td>NaN</td>\n",
       "      <td>&lt;p&gt;As you move from left to right across a per...</td>\n",
       "      <td>NaN</td>\n",
       "      <td>3</td>\n",
       "      <td>NaN</td>\n",
       "      <td>2012-04-25T18:27:18.427</td>\n",
       "      <td>NaN</td>\n",
       "      <td>3</td>\n",
       "      <td>2012-04-25T18:27:18.427</td>\n",
       "      <td>...</td>\n",
       "      <td>NaN</td>\n",
       "      <td>NaN</td>\n",
       "      <td>NaN</td>\n",
       "      <td>21.0</td>\n",
       "      <td>1.0</td>\n",
       "      <td>2</td>\n",
       "      <td>30</td>\n",
       "      <td>NaN</td>\n",
       "      <td>NaN</td>\n",
       "      <td>NaN</td>\n",
       "    </tr>\n",
       "    <tr>\n",
       "      <th>3</th>\n",
       "      <td>13.0</td>\n",
       "      <td>4.0</td>\n",
       "      <td>&lt;p&gt;A reaction proceeds towards the direction o...</td>\n",
       "      <td>NaN</td>\n",
       "      <td>0</td>\n",
       "      <td>NaN</td>\n",
       "      <td>2012-04-25T18:33:07.480</td>\n",
       "      <td>8.0</td>\n",
       "      <td>4</td>\n",
       "      <td>2019-04-06T05:02:28.063</td>\n",
       "      <td>...</td>\n",
       "      <td>NaN</td>\n",
       "      <td>194.0</td>\n",
       "      <td>NaN</td>\n",
       "      <td>22.0</td>\n",
       "      <td>NaN</td>\n",
       "      <td>1</td>\n",
       "      <td>31</td>\n",
       "      <td>&lt;equilibrium&gt;&lt;free-energy&gt;</td>\n",
       "      <td>Gibbs free energy-minimum or zero?</td>\n",
       "      <td>15422.0</td>\n",
       "    </tr>\n",
       "    <tr>\n",
       "      <th>4</th>\n",
       "      <td>NaN</td>\n",
       "      <td>NaN</td>\n",
       "      <td>&lt;p&gt;A crystal forms to balance the forces of re...</td>\n",
       "      <td>NaN</td>\n",
       "      <td>2</td>\n",
       "      <td>NaN</td>\n",
       "      <td>2012-04-25T18:37:11.060</td>\n",
       "      <td>NaN</td>\n",
       "      <td>5</td>\n",
       "      <td>2012-06-05T07:27:40.817</td>\n",
       "      <td>...</td>\n",
       "      <td>NaN</td>\n",
       "      <td>123.0</td>\n",
       "      <td>NaN</td>\n",
       "      <td>18.0</td>\n",
       "      <td>2.0</td>\n",
       "      <td>2</td>\n",
       "      <td>5</td>\n",
       "      <td>NaN</td>\n",
       "      <td>NaN</td>\n",
       "      <td>NaN</td>\n",
       "    </tr>\n",
       "  </tbody>\n",
       "</table>\n",
       "<p>5 rows × 21 columns</p>\n",
       "</div>"
      ],
      "text/plain": [
       "   AcceptedAnswerId  AnswerCount  \\\n",
       "0               3.0          4.0   \n",
       "1              56.0          4.0   \n",
       "2               NaN          NaN   \n",
       "3              13.0          4.0   \n",
       "4               NaN          NaN   \n",
       "\n",
       "                                                Body ClosedDate  CommentCount  \\\n",
       "0  <p>It seems to me that the addition of electro...        NaN             6   \n",
       "1  <p>My understanding is that $\\mathrm{NaCl}$ is...        NaN             1   \n",
       "2  <p>As you move from left to right across a per...        NaN             3   \n",
       "3  <p>A reaction proceeds towards the direction o...        NaN             0   \n",
       "4  <p>A crystal forms to balance the forces of re...        NaN             2   \n",
       "\n",
       "  CommunityOwnedDate             CreationDate  FavoriteCount  Id  \\\n",
       "0                NaN  2012-04-25T18:24:34.340            3.0   1   \n",
       "1                NaN  2012-04-25T18:25:27.290            3.0   2   \n",
       "2                NaN  2012-04-25T18:27:18.427            NaN   3   \n",
       "3                NaN  2012-04-25T18:33:07.480            8.0   4   \n",
       "4                NaN  2012-04-25T18:37:11.060            NaN   5   \n",
       "\n",
       "          LastActivityDate    ...    LastEditorDisplayName LastEditorUserId  \\\n",
       "0  2017-07-16T07:06:26.797    ...                      NaN              NaN   \n",
       "1  2018-08-23T13:43:44.867    ...                      NaN          66065.0   \n",
       "2  2012-04-25T18:27:18.427    ...                      NaN              NaN   \n",
       "3  2019-04-06T05:02:28.063    ...                      NaN            194.0   \n",
       "4  2012-06-05T07:27:40.817    ...                      NaN            123.0   \n",
       "\n",
       "   OwnerDisplayName OwnerUserId  ParentId  PostTypeId  Score  \\\n",
       "0               NaN        16.0       NaN           1     35   \n",
       "1               NaN        10.0       NaN           1     21   \n",
       "2               NaN        21.0       1.0           2     30   \n",
       "3               NaN        22.0       NaN           1     31   \n",
       "4               NaN        18.0       2.0           2      5   \n",
       "\n",
       "                                                Tags  \\\n",
       "0                <electrons><atoms><periodic-trends>   \n",
       "1  <ions><crystal-structure><ionic-compounds><sol...   \n",
       "2                                                NaN   \n",
       "3                         <equilibrium><free-energy>   \n",
       "4                                                NaN   \n",
       "\n",
       "                                               Title ViewCount  \n",
       "0  Why do atoms generally become smaller as one m...   23372.0  \n",
       "1  How does NaCl maintain its crystalline structure?    3318.0  \n",
       "2                                                NaN       NaN  \n",
       "3                 Gibbs free energy-minimum or zero?   15422.0  \n",
       "4                                                NaN       NaN  \n",
       "\n",
       "[5 rows x 21 columns]"
      ]
     },
     "execution_count": 21,
     "metadata": {},
     "output_type": "execute_result"
    }
   ],
   "source": [
    "chemistry.head()"
   ]
  },
  {
   "cell_type": "code",
   "execution_count": 140,
   "metadata": {},
   "outputs": [
    {
     "data": {
      "text/html": [
       "<div>\n",
       "<style scoped>\n",
       "    .dataframe tbody tr th:only-of-type {\n",
       "        vertical-align: middle;\n",
       "    }\n",
       "\n",
       "    .dataframe tbody tr th {\n",
       "        vertical-align: top;\n",
       "    }\n",
       "\n",
       "    .dataframe thead th {\n",
       "        text-align: right;\n",
       "    }\n",
       "</style>\n",
       "<table border=\"1\" class=\"dataframe\">\n",
       "  <thead>\n",
       "    <tr style=\"text-align: right;\">\n",
       "      <th></th>\n",
       "      <th>Id</th>\n",
       "      <th>Tags</th>\n",
       "    </tr>\n",
       "  </thead>\n",
       "  <tbody>\n",
       "    <tr>\n",
       "      <th>0</th>\n",
       "      <td>1</td>\n",
       "      <td>&lt;electrons&gt;&lt;atoms&gt;&lt;periodic-trends&gt;</td>\n",
       "    </tr>\n",
       "    <tr>\n",
       "      <th>1</th>\n",
       "      <td>2</td>\n",
       "      <td>&lt;ions&gt;&lt;crystal-structure&gt;&lt;ionic-compounds&gt;&lt;sol...</td>\n",
       "    </tr>\n",
       "    <tr>\n",
       "      <th>2</th>\n",
       "      <td>3</td>\n",
       "      <td>NaN</td>\n",
       "    </tr>\n",
       "    <tr>\n",
       "      <th>3</th>\n",
       "      <td>4</td>\n",
       "      <td>&lt;equilibrium&gt;&lt;free-energy&gt;</td>\n",
       "    </tr>\n",
       "    <tr>\n",
       "      <th>4</th>\n",
       "      <td>5</td>\n",
       "      <td>NaN</td>\n",
       "    </tr>\n",
       "  </tbody>\n",
       "</table>\n",
       "</div>"
      ],
      "text/plain": [
       "   Id                                               Tags\n",
       "0   1                <electrons><atoms><periodic-trends>\n",
       "1   2  <ions><crystal-structure><ionic-compounds><sol...\n",
       "2   3                                                NaN\n",
       "3   4                         <equilibrium><free-energy>\n",
       "4   5                                                NaN"
      ]
     },
     "execution_count": 140,
     "metadata": {},
     "output_type": "execute_result"
    }
   ],
   "source": [
    "chemistry = chemistry[['Id', 'Tags']]\n",
    "chemistry.head()"
   ]
  },
  {
   "cell_type": "markdown",
   "metadata": {},
   "source": [
    "# drop nan values"
   ]
  },
  {
   "cell_type": "code",
   "execution_count": 141,
   "metadata": {},
   "outputs": [],
   "source": [
    "chemistry.dropna(inplace = True)"
   ]
  },
  {
   "cell_type": "code",
   "execution_count": 142,
   "metadata": {},
   "outputs": [
    {
     "data": {
      "text/html": [
       "<div>\n",
       "<style scoped>\n",
       "    .dataframe tbody tr th:only-of-type {\n",
       "        vertical-align: middle;\n",
       "    }\n",
       "\n",
       "    .dataframe tbody tr th {\n",
       "        vertical-align: top;\n",
       "    }\n",
       "\n",
       "    .dataframe thead th {\n",
       "        text-align: right;\n",
       "    }\n",
       "</style>\n",
       "<table border=\"1\" class=\"dataframe\">\n",
       "  <thead>\n",
       "    <tr style=\"text-align: right;\">\n",
       "      <th></th>\n",
       "      <th>Id</th>\n",
       "      <th>Tags</th>\n",
       "    </tr>\n",
       "  </thead>\n",
       "  <tbody>\n",
       "    <tr>\n",
       "      <th>0</th>\n",
       "      <td>1</td>\n",
       "      <td>&lt;electrons&gt;&lt;atoms&gt;&lt;periodic-trends&gt;</td>\n",
       "    </tr>\n",
       "    <tr>\n",
       "      <th>1</th>\n",
       "      <td>2</td>\n",
       "      <td>&lt;ions&gt;&lt;crystal-structure&gt;&lt;ionic-compounds&gt;&lt;sol...</td>\n",
       "    </tr>\n",
       "    <tr>\n",
       "      <th>2</th>\n",
       "      <td>4</td>\n",
       "      <td>&lt;equilibrium&gt;&lt;free-energy&gt;</td>\n",
       "    </tr>\n",
       "    <tr>\n",
       "      <th>3</th>\n",
       "      <td>7</td>\n",
       "      <td>&lt;organic-chemistry&gt;&lt;aromatic-compounds&gt;&lt;nitro-...</td>\n",
       "    </tr>\n",
       "    <tr>\n",
       "      <th>4</th>\n",
       "      <td>11</td>\n",
       "      <td>&lt;purification&gt;&lt;solvents&gt;&lt;recrystallization&gt;</td>\n",
       "    </tr>\n",
       "  </tbody>\n",
       "</table>\n",
       "</div>"
      ],
      "text/plain": [
       "   Id                                               Tags\n",
       "0   1                <electrons><atoms><periodic-trends>\n",
       "1   2  <ions><crystal-structure><ionic-compounds><sol...\n",
       "2   4                         <equilibrium><free-energy>\n",
       "3   7  <organic-chemistry><aromatic-compounds><nitro-...\n",
       "4  11        <purification><solvents><recrystallization>"
      ]
     },
     "execution_count": 142,
     "metadata": {},
     "output_type": "execute_result"
    }
   ],
   "source": [
    "chemistry.reset_index(drop = True, inplace = True)\n",
    "chemistry.head()"
   ]
  },
  {
   "cell_type": "code",
   "execution_count": 6,
   "metadata": {},
   "outputs": [],
   "source": [
    "import re"
   ]
  },
  {
   "cell_type": "markdown",
   "metadata": {},
   "source": [
    "# extract tags from string"
   ]
  },
  {
   "cell_type": "code",
   "execution_count": 143,
   "metadata": {},
   "outputs": [
    {
     "data": {
      "text/html": [
       "<div>\n",
       "<style scoped>\n",
       "    .dataframe tbody tr th:only-of-type {\n",
       "        vertical-align: middle;\n",
       "    }\n",
       "\n",
       "    .dataframe tbody tr th {\n",
       "        vertical-align: top;\n",
       "    }\n",
       "\n",
       "    .dataframe thead th {\n",
       "        text-align: right;\n",
       "    }\n",
       "</style>\n",
       "<table border=\"1\" class=\"dataframe\">\n",
       "  <thead>\n",
       "    <tr style=\"text-align: right;\">\n",
       "      <th></th>\n",
       "      <th>Id</th>\n",
       "      <th>Tags</th>\n",
       "      <th>Tag_list</th>\n",
       "    </tr>\n",
       "  </thead>\n",
       "  <tbody>\n",
       "    <tr>\n",
       "      <th>0</th>\n",
       "      <td>1</td>\n",
       "      <td>&lt;electrons&gt;&lt;atoms&gt;&lt;periodic-trends&gt;</td>\n",
       "      <td>[electrons, atoms, periodic-trends]</td>\n",
       "    </tr>\n",
       "    <tr>\n",
       "      <th>1</th>\n",
       "      <td>2</td>\n",
       "      <td>&lt;ions&gt;&lt;crystal-structure&gt;&lt;ionic-compounds&gt;&lt;sol...</td>\n",
       "      <td>[ions, crystal-structure, ionic-compounds, sol...</td>\n",
       "    </tr>\n",
       "    <tr>\n",
       "      <th>2</th>\n",
       "      <td>4</td>\n",
       "      <td>&lt;equilibrium&gt;&lt;free-energy&gt;</td>\n",
       "      <td>[equilibrium, free-energy]</td>\n",
       "    </tr>\n",
       "    <tr>\n",
       "      <th>3</th>\n",
       "      <td>7</td>\n",
       "      <td>&lt;organic-chemistry&gt;&lt;aromatic-compounds&gt;&lt;nitro-...</td>\n",
       "      <td>[organic-chemistry, aromatic-compounds, nitro-...</td>\n",
       "    </tr>\n",
       "    <tr>\n",
       "      <th>4</th>\n",
       "      <td>11</td>\n",
       "      <td>&lt;purification&gt;&lt;solvents&gt;&lt;recrystallization&gt;</td>\n",
       "      <td>[purification, solvents, recrystallization]</td>\n",
       "    </tr>\n",
       "  </tbody>\n",
       "</table>\n",
       "</div>"
      ],
      "text/plain": [
       "   Id                                               Tags  \\\n",
       "0   1                <electrons><atoms><periodic-trends>   \n",
       "1   2  <ions><crystal-structure><ionic-compounds><sol...   \n",
       "2   4                         <equilibrium><free-energy>   \n",
       "3   7  <organic-chemistry><aromatic-compounds><nitro-...   \n",
       "4  11        <purification><solvents><recrystallization>   \n",
       "\n",
       "                                            Tag_list  \n",
       "0                [electrons, atoms, periodic-trends]  \n",
       "1  [ions, crystal-structure, ionic-compounds, sol...  \n",
       "2                         [equilibrium, free-energy]  \n",
       "3  [organic-chemistry, aromatic-compounds, nitro-...  \n",
       "4        [purification, solvents, recrystallization]  "
      ]
     },
     "execution_count": 143,
     "metadata": {},
     "output_type": "execute_result"
    }
   ],
   "source": [
    "chemistry['Tags'] = chemistry['Tags'].astype(str)\n",
    "pattern = re.compile(\"<(.+?)>\")\n",
    "chemistry['Tag_list'] = chemistry.apply(lambda row: re.findall(pattern, row.Tags), axis=1)\n",
    "chemistry.head()"
   ]
  },
  {
   "cell_type": "code",
   "execution_count": 144,
   "metadata": {},
   "outputs": [
    {
     "data": {
      "text/html": [
       "<div>\n",
       "<style scoped>\n",
       "    .dataframe tbody tr th:only-of-type {\n",
       "        vertical-align: middle;\n",
       "    }\n",
       "\n",
       "    .dataframe tbody tr th {\n",
       "        vertical-align: top;\n",
       "    }\n",
       "\n",
       "    .dataframe thead th {\n",
       "        text-align: right;\n",
       "    }\n",
       "</style>\n",
       "<table border=\"1\" class=\"dataframe\">\n",
       "  <thead>\n",
       "    <tr style=\"text-align: right;\">\n",
       "      <th></th>\n",
       "      <th>Id</th>\n",
       "      <th>Tags</th>\n",
       "      <th>Tag_list</th>\n",
       "      <th>Tag_str</th>\n",
       "    </tr>\n",
       "  </thead>\n",
       "  <tbody>\n",
       "    <tr>\n",
       "      <th>0</th>\n",
       "      <td>1</td>\n",
       "      <td>&lt;electrons&gt;&lt;atoms&gt;&lt;periodic-trends&gt;</td>\n",
       "      <td>[electrons, atoms, periodic-trends]</td>\n",
       "      <td>electrons,atoms,periodic-trends</td>\n",
       "    </tr>\n",
       "    <tr>\n",
       "      <th>1</th>\n",
       "      <td>2</td>\n",
       "      <td>&lt;ions&gt;&lt;crystal-structure&gt;&lt;ionic-compounds&gt;&lt;sol...</td>\n",
       "      <td>[ions, crystal-structure, ionic-compounds, sol...</td>\n",
       "      <td>ions,crystal-structure,ionic-compounds,solid-s...</td>\n",
       "    </tr>\n",
       "    <tr>\n",
       "      <th>2</th>\n",
       "      <td>4</td>\n",
       "      <td>&lt;equilibrium&gt;&lt;free-energy&gt;</td>\n",
       "      <td>[equilibrium, free-energy]</td>\n",
       "      <td>equilibrium,free-energy</td>\n",
       "    </tr>\n",
       "    <tr>\n",
       "      <th>3</th>\n",
       "      <td>7</td>\n",
       "      <td>&lt;organic-chemistry&gt;&lt;aromatic-compounds&gt;&lt;nitro-...</td>\n",
       "      <td>[organic-chemistry, aromatic-compounds, nitro-...</td>\n",
       "      <td>organic-chemistry,aromatic-compounds,nitro-com...</td>\n",
       "    </tr>\n",
       "    <tr>\n",
       "      <th>4</th>\n",
       "      <td>11</td>\n",
       "      <td>&lt;purification&gt;&lt;solvents&gt;&lt;recrystallization&gt;</td>\n",
       "      <td>[purification, solvents, recrystallization]</td>\n",
       "      <td>purification,solvents,recrystallization</td>\n",
       "    </tr>\n",
       "  </tbody>\n",
       "</table>\n",
       "</div>"
      ],
      "text/plain": [
       "   Id                                               Tags  \\\n",
       "0   1                <electrons><atoms><periodic-trends>   \n",
       "1   2  <ions><crystal-structure><ionic-compounds><sol...   \n",
       "2   4                         <equilibrium><free-energy>   \n",
       "3   7  <organic-chemistry><aromatic-compounds><nitro-...   \n",
       "4  11        <purification><solvents><recrystallization>   \n",
       "\n",
       "                                            Tag_list  \\\n",
       "0                [electrons, atoms, periodic-trends]   \n",
       "1  [ions, crystal-structure, ionic-compounds, sol...   \n",
       "2                         [equilibrium, free-energy]   \n",
       "3  [organic-chemistry, aromatic-compounds, nitro-...   \n",
       "4        [purification, solvents, recrystallization]   \n",
       "\n",
       "                                             Tag_str  \n",
       "0                    electrons,atoms,periodic-trends  \n",
       "1  ions,crystal-structure,ionic-compounds,solid-s...  \n",
       "2                            equilibrium,free-energy  \n",
       "3  organic-chemistry,aromatic-compounds,nitro-com...  \n",
       "4            purification,solvents,recrystallization  "
      ]
     },
     "execution_count": 144,
     "metadata": {},
     "output_type": "execute_result"
    }
   ],
   "source": [
    "chemistry['Tag_str'] = chemistry.apply(lambda row: ','.join(row.Tag_list), axis = 1)\n",
    "chemistry.head()"
   ]
  },
  {
   "cell_type": "code",
   "execution_count": 18,
   "metadata": {},
   "outputs": [
    {
     "data": {
      "text/plain": [
       "29617"
      ]
     },
     "execution_count": 18,
     "metadata": {},
     "output_type": "execute_result"
    }
   ],
   "source": [
    "chemistry.shape[0]"
   ]
  },
  {
   "cell_type": "markdown",
   "metadata": {},
   "source": [
    "# before we do clustering, do we need to drop duplicates?"
   ]
  },
  {
   "cell_type": "code",
   "execution_count": 19,
   "metadata": {},
   "outputs": [
    {
     "data": {
      "text/plain": [
       "12283"
      ]
     },
     "execution_count": 19,
     "metadata": {},
     "output_type": "execute_result"
    }
   ],
   "source": [
    "# chemistry.drop_duplicates('Tag_str', keep = 'first', inplace = True) \n",
    "# chemistry.shape[0]"
   ]
  },
  {
   "cell_type": "code",
   "execution_count": 145,
   "metadata": {},
   "outputs": [],
   "source": [
    "from sklearn.feature_extraction.text import TfidfVectorizer\n",
    "from sklearn.cluster import KMeans\n"
   ]
  },
  {
   "cell_type": "markdown",
   "metadata": {},
   "source": [
    "# vectorize the string"
   ]
  },
  {
   "cell_type": "code",
   "execution_count": 146,
   "metadata": {},
   "outputs": [],
   "source": [
    "tag = chemistry['Tag_str']\n",
    "vectorizer = TfidfVectorizer()\n",
    "X = vectorizer.fit_transform(tag)"
   ]
  },
  {
   "cell_type": "markdown",
   "metadata": {},
   "source": [
    "# use kmeans to cluster tags into 4 clusters"
   ]
  },
  {
   "cell_type": "code",
   "execution_count": 183,
   "metadata": {},
   "outputs": [],
   "source": [
    "kmeans = KMeans(n_clusters=4, random_state=0).fit(X)"
   ]
  },
  {
   "cell_type": "code",
   "execution_count": 184,
   "metadata": {},
   "outputs": [],
   "source": [
    "chemistry['Cluster_label'] = kmeans.labels_"
   ]
  },
  {
   "cell_type": "markdown",
   "metadata": {},
   "source": [
    "# cluster result"
   ]
  },
  {
   "cell_type": "code",
   "execution_count": 185,
   "metadata": {},
   "outputs": [
    {
     "name": "stderr",
     "output_type": "stream",
     "text": [
      "/Users/shuang/anaconda3/lib/python3.7/site-packages/ipykernel_launcher.py:4: SettingWithCopyWarning: \n",
      "A value is trying to be set on a copy of a slice from a DataFrame.\n",
      "Try using .loc[row_indexer,col_indexer] = value instead\n",
      "\n",
      "See the caveats in the documentation: http://pandas.pydata.org/pandas-docs/stable/indexing.html#indexing-view-versus-copy\n",
      "  after removing the cwd from sys.path.\n"
     ]
    },
    {
     "name": "stdout",
     "output_type": "stream",
     "text": [
      "                                       Tag_tuple  count\n",
      "1533                   (electrochemistry, redox)     67\n",
      "6022                  (thermodynamics, enthalpy)     55\n",
      "1419            (electrochemistry, electrolysis)     55\n",
      "6038                   (thermodynamics, entropy)     41\n",
      "6044               (thermodynamics, equilibrium)     34\n",
      "6115                      (thermodynamics, heat)     31\n",
      "5099                    (redox, oxidation-state)     27\n",
      "230               (aqueous-solution, solubility)     22\n",
      "5646                (stereochemistry, chirality)     21\n",
      "1339  (crystal-structure, solid-state-chemistry)     21\n",
      "\n",
      "\n",
      "                                              Tag_tuple  count\n",
      "1076            (organic-chemistry, reaction-mechanism)    421\n",
      "890                   (organic-chemistry, nomenclature)    304\n",
      "1634                     (organic-chemistry, synthesis)    110\n",
      "86              (organic-chemistry, aromatic-compounds)     95\n",
      "1570               (organic-chemistry, stereochemistry)     92\n",
      "1149  (organic-chemistry, reaction-mechanism, carbon...     49\n",
      "311             (organic-chemistry, carbonyl-compounds)     47\n",
      "876               (organic-chemistry, nmr-spectroscopy)     45\n",
      "188                   (organic-chemistry, biochemistry)     43\n",
      "1468                     (organic-chemistry, resonance)     41\n",
      "\n",
      "\n",
      "                                          Tag_tuple  count\n",
      "2533           (physical-chemistry, thermodynamics)    135\n",
      "1280                   (inorganic-chemistry, redox)     80\n",
      "2212                 (physical-chemistry, kinetics)     79\n",
      "1980              (physical-chemistry, equilibrium)     76\n",
      "2106                 (physical-chemistry, gas-laws)     60\n",
      "693   (inorganic-chemistry, coordination-compounds)     52\n",
      "2327        (physical-chemistry, quantum-chemistry)     50\n",
      "41              (computational-chemistry, software)     48\n",
      "2704   (quantum-chemistry, computational-chemistry)     47\n",
      "1881         (physical-chemistry, electrochemistry)     37\n",
      "\n",
      "\n",
      "                                             Tag_tuple  count\n",
      "588                     (organic-chemistry, acid-base)    117\n",
      "291                                    (acid-base, ph)    102\n",
      "485                   (inorganic-chemistry, acid-base)     85\n",
      "121                           (acid-base, equilibrium)     70\n",
      "413                             (acid-base, titration)     42\n",
      "142                       (acid-base, equilibrium, ph)     27\n",
      "315                         (acid-base, ph, titration)     24\n",
      "740                    (physical-chemistry, acid-base)     20\n",
      "692  (organic-chemistry, acid-base, reaction-mechan...     16\n",
      "592             (organic-chemistry, acid-base, amines)     16\n",
      "\n",
      "\n"
     ]
    }
   ],
   "source": [
    "df_list = []\n",
    "for i in range(4):\n",
    "    cluster = chemistry[chemistry.apply(lambda row: row.Cluster_label == i and len(row.Tag_list) > 1, axis = 1)]\n",
    "    cluster['Tag_tuple'] = cluster.apply(lambda row: tuple(row.Tag_list), axis = 1)\n",
    "    df = cluster.groupby(['Tag_tuple'])['Tag_tuple'].count().rename('count').reset_index().sort_values('count', ascending=False)\n",
    "    print(df.head(10))\n",
    "    print(\"\\n\")\n",
    "    df_list.append(df)"
   ]
  },
  {
   "cell_type": "code",
   "execution_count": 166,
   "metadata": {},
   "outputs": [],
   "source": [
    "from sklearn.metrics import pairwise_distances_argmin_min"
   ]
  },
  {
   "cell_type": "code",
   "execution_count": 187,
   "metadata": {},
   "outputs": [
    {
     "name": "stdout",
     "output_type": "stream",
     "text": [
      "thermodynamics,electrochemistry,equilibrium\n",
      "organic-chemistry\n",
      "physical-chemistry,inorganic-chemistry,everyday-chemistry\n",
      "acid-base\n"
     ]
    }
   ],
   "source": [
    "closest, _ = pairwise_distances_argmin_min(kmeans.cluster_centers_, X)\n",
    "for i in closest:\n",
    "    print(chemistry.iloc[i].Tag_str)"
   ]
  },
  {
   "cell_type": "markdown",
   "metadata": {},
   "source": [
    "# below is the generalized code for each subject"
   ]
  },
  {
   "cell_type": "code",
   "execution_count": 198,
   "metadata": {},
   "outputs": [],
   "source": [
    "def vectorize(sub_string):\n",
    "     # read data\n",
    "    subject = pd.read_csv(\"../data/csv/\" + sub_string + \"_post.csv\", lineterminator='\\n')\n",
    "    subject = subject[['Id', 'Tags']]\n",
    "    # drop nan values\n",
    "    subject.dropna(inplace = True)\n",
    "    subject.reset_index(drop = True, inplace = True)\n",
    "    subject['Tags'] = subject['Tags'].astype(str)\n",
    "    # extract tags from \"<>\"\n",
    "    subject['Tag_list'] = subject.apply(lambda row: re.findall(pattern, row.Tags), axis=1)\n",
    "    # join tags with \",\"\n",
    "    subject['Tag_str'] = subject.apply(lambda row: ','.join(row.Tag_list), axis = 1)\n",
    "    tag = subject['Tag_str']\n",
    "    # convert tag string to vectors\n",
    "    vectorizer = TfidfVectorizer()\n",
    "    X = vectorizer.fit_transform(tag)\n",
    "    return X,  subject"
   ]
  },
  {
   "cell_type": "code",
   "execution_count": 199,
   "metadata": {},
   "outputs": [],
   "source": [
    "X, subject = vectorize(\"physics\")"
   ]
  },
  {
   "cell_type": "code",
   "execution_count": 200,
   "metadata": {},
   "outputs": [],
   "source": [
    "def k_means(X, subject, n):        \n",
    "    # kmeans clustering\n",
    "    kmeans = KMeans(n_clusters= n, random_state=0).fit(X)\n",
    "    subject['Cluster_label'] = kmeans.labels_\n",
    "    \n",
    "    # get the centroid\n",
    "    closest, _ = pairwise_distances_argmin_min(kmeans.cluster_centers_, X)\n",
    "    for i in closest:\n",
    "        print(subject.iloc[i].Tag_str)\n",
    "        print(\"\\n\")\n",
    "    # get the most freq tag pairs\n",
    "    df_list = []\n",
    "    for i in range(n):\n",
    "        cluster = subject[subject.apply(lambda row: row.Cluster_label == i and len(row.Tag_list) > 1, axis = 1)]\n",
    "        cluster['Tag_tuple'] = cluster.apply(lambda row: tuple(row.Tag_list), axis = 1)\n",
    "        df = cluster.groupby(['Tag_tuple'])['Tag_tuple'].count().rename('count').reset_index().sort_values('count', ascending=False)\n",
    "        df_list.append(df)\n",
    "    return df_list"
   ]
  },
  {
   "cell_type": "code",
   "execution_count": 202,
   "metadata": {},
   "outputs": [
    {
     "name": "stdout",
     "output_type": "stream",
     "text": [
      "newtonian-mechanics,electromagnetism,thermodynamics,fluid-dynamics,plasma-physics\n",
      "\n",
      "\n",
      "homework-and-exercises\n",
      "\n",
      "\n",
      "general-relativity,special-relativity\n",
      "\n",
      "\n",
      "quantum-mechanics,quantum-field-theory\n",
      "\n",
      "\n"
     ]
    },
    {
     "name": "stderr",
     "output_type": "stream",
     "text": [
      "/Users/shuang/anaconda3/lib/python3.7/site-packages/ipykernel_launcher.py:15: SettingWithCopyWarning: \n",
      "A value is trying to be set on a copy of a slice from a DataFrame.\n",
      "Try using .loc[row_indexer,col_indexer] = value instead\n",
      "\n",
      "See the caveats in the documentation: http://pandas.pydata.org/pandas-docs/stable/indexing.html#indexing-view-versus-copy\n",
      "  from ipykernel import kernelapp as app\n"
     ]
    }
   ],
   "source": [
    "df_list = k_means(X, subject, 4)"
   ]
  },
  {
   "cell_type": "code",
   "execution_count": 204,
   "metadata": {},
   "outputs": [
    {
     "name": "stdout",
     "output_type": "stream",
     "text": [
      "                                           Tag_tuple  count\n",
      "12743            (electromagnetism, magnetic-fields)    338\n",
      "43501                      (thermodynamics, entropy)    177\n",
      "27637                  (newtonian-mechanics, forces)    166\n",
      "44682        (thermodynamics, statistical-mechanics)    166\n",
      "45084                  (thermodynamics, temperature)    127\n",
      "11834             (electromagnetism, electrostatics)    118\n",
      "47679                             (waves, acoustics)    116\n",
      "11503  (electromagnetism, electromagnetic-radiation)    102\n",
      "31574                     (optics, geometric-optics)    101\n",
      "26641     (newtonian-mechanics, classical-mechanics)     92\n",
      "\n",
      "\n",
      "                                              Tag_tuple  count\n",
      "3692      (homework-and-exercises, newtonian-mechanics)    280\n",
      "6379           (homework-and-exercises, thermodynamics)    175\n",
      "3014               (homework-and-exercises, kinematics)    154\n",
      "1176         (homework-and-exercises, electromagnetism)    153\n",
      "6998        (quantum-mechanics, homework-and-exercises)    139\n",
      "1665           (homework-and-exercises, electrostatics)    118\n",
      "4079  (homework-and-exercises, newtonian-mechanics, ...     96\n",
      "5887       (homework-and-exercises, special-relativity)     94\n",
      "972   (homework-and-exercises, electric-circuits, el...     90\n",
      "3106   (homework-and-exercises, kinematics, projectile)     77\n",
      "\n",
      "\n",
      "                                             Tag_tuple  count\n",
      "7185               (special-relativity, time-dilation)     93\n",
      "241             (electromagnetism, special-relativity)     92\n",
      "567                  (general-relativity, black-holes)     92\n",
      "6833              (special-relativity, speed-of-light)     81\n",
      "1623       (general-relativity, differential-geometry)     79\n",
      "2256                     (general-relativity, gravity)     75\n",
      "3838          (general-relativity, special-relativity)     58\n",
      "1232                   (general-relativity, cosmology)     46\n",
      "6583                  (special-relativity, relativity)     36\n",
      "5919  (special-relativity, inertial-frames, observers)     35\n",
      "\n",
      "\n",
      "                                               Tag_tuple  count\n",
      "11235           (quantum-mechanics, quantum-information)    164\n",
      "10395          (quantum-mechanics, quantum-entanglement)    121\n",
      "8043   (quantum-mechanics, heisenberg-uncertainty-pri...    115\n",
      "4115             (quantum-field-theory, renormalization)    103\n",
      "10514          (quantum-mechanics, quantum-field-theory)     92\n",
      "12100         (quantum-mechanics, schroedinger-equation)     89\n",
      "9228                      (quantum-mechanics, operators)     84\n",
      "6875         (quantum-mechanics, double-slit-experiment)     79\n",
      "11425  (quantum-mechanics, quantum-information, quant...     78\n",
      "11766                  (quantum-mechanics, quantum-spin)     77\n",
      "\n",
      "\n"
     ]
    }
   ],
   "source": [
    "for i in range(4):\n",
    "    print(df_list[i].head(10))\n",
    "    print(\"\\n\")"
   ]
  },
  {
   "cell_type": "code",
   "execution_count": null,
   "metadata": {},
   "outputs": [],
   "source": []
  }
 ],
 "metadata": {
  "kernelspec": {
   "display_name": "Python 3",
   "language": "python",
   "name": "python3"
  },
  "language_info": {
   "codemirror_mode": {
    "name": "ipython",
    "version": 3
   },
   "file_extension": ".py",
   "mimetype": "text/x-python",
   "name": "python",
   "nbconvert_exporter": "python",
   "pygments_lexer": "ipython3",
   "version": "3.7.2"
  }
 },
 "nbformat": 4,
 "nbformat_minor": 2
}

{
 "cells": [
  {
   "cell_type": "code",
   "execution_count": 1,
   "metadata": {},
   "outputs": [],
   "source": [
    "import os\n",
    "os.environ['CUDA_VISIBLE_DEVICES'] = '1'"
   ]
  },
  {
   "cell_type": "code",
   "execution_count": 2,
   "metadata": {},
   "outputs": [],
   "source": [
    "import pandas as pd"
   ]
  },
  {
   "cell_type": "code",
   "execution_count": 3,
   "metadata": {},
   "outputs": [
    {
     "name": "stdout",
     "output_type": "stream",
     "text": [
      "equations.csv  \u001b[0m\u001b[01;34mimages\u001b[0m/  \u001b[01;34mimages-small\u001b[0m/  \u001b[01;31mimages-small.zip\u001b[0m  \u001b[01;31mimages.zip\u001b[0m\r\n"
     ]
    }
   ],
   "source": [
    "ls /data/"
   ]
  },
  {
   "cell_type": "markdown",
   "metadata": {},
   "source": [
    "# take chemistry as an example"
   ]
  },
  {
   "cell_type": "code",
   "execution_count": 4,
   "metadata": {},
   "outputs": [
    {
     "name": "stdout",
     "output_type": "stream",
     "text": [
      "<class 'pandas.core.frame.DataFrame'>\n",
      "RangeIndex: 66387 entries, 0 to 66386\n",
      "Data columns (total 21 columns):\n",
      "AcceptedAnswerId         12440 non-null float64\n",
      "AnswerCount              29617 non-null float64\n",
      "Body                     66206 non-null object\n",
      "ClosedDate               3827 non-null object\n",
      "CommentCount             66387 non-null int64\n",
      "CommunityOwnedDate       91 non-null object\n",
      "CreationDate             66387 non-null object\n",
      "FavoriteCount            9349 non-null float64\n",
      "Id                       66387 non-null int64\n",
      "LastActivityDate         66387 non-null object\n",
      "LastEditDate             38015 non-null object\n",
      "LastEditorDisplayName    833 non-null object\n",
      "LastEditorUserId         37395 non-null float64\n",
      "OwnerDisplayName         1184 non-null object\n",
      "OwnerUserId              65379 non-null float64\n",
      "ParentId                 36013 non-null float64\n",
      "PostTypeId               66387 non-null int64\n",
      "Score                    66387 non-null int64\n",
      "Tags                     29617 non-null object\n",
      "Title                    29617 non-null object\n",
      "ViewCount                29617 non-null float64\n",
      "dtypes: float64(7), int64(4), object(10)\n",
      "memory usage: 10.6+ MB\n"
     ]
    },
    {
     "name": "stderr",
     "output_type": "stream",
     "text": [
      "/home/mdogan/miniconda3/lib/python3.7/site-packages/IPython/core/interactiveshell.py:3058: DtypeWarning: Columns (11) have mixed types. Specify dtype option on import or set low_memory=False.\n",
      "  interactivity=interactivity, compiler=compiler, result=result)\n"
     ]
    }
   ],
   "source": [
    "chemistry = pd.read_csv(\"../data/csv/chemistry_post.csv\", lineterminator='\\n')\n",
    "chemistry.info()"
   ]
  },
  {
   "cell_type": "code",
   "execution_count": 5,
   "metadata": {},
   "outputs": [
    {
     "data": {
      "text/html": [
       "<div>\n",
       "<style scoped>\n",
       "    .dataframe tbody tr th:only-of-type {\n",
       "        vertical-align: middle;\n",
       "    }\n",
       "\n",
       "    .dataframe tbody tr th {\n",
       "        vertical-align: top;\n",
       "    }\n",
       "\n",
       "    .dataframe thead th {\n",
       "        text-align: right;\n",
       "    }\n",
       "</style>\n",
       "<table border=\"1\" class=\"dataframe\">\n",
       "  <thead>\n",
       "    <tr style=\"text-align: right;\">\n",
       "      <th></th>\n",
       "      <th>AcceptedAnswerId</th>\n",
       "      <th>AnswerCount</th>\n",
       "      <th>Body</th>\n",
       "      <th>ClosedDate</th>\n",
       "      <th>CommentCount</th>\n",
       "      <th>CommunityOwnedDate</th>\n",
       "      <th>CreationDate</th>\n",
       "      <th>FavoriteCount</th>\n",
       "      <th>Id</th>\n",
       "      <th>LastActivityDate</th>\n",
       "      <th>...</th>\n",
       "      <th>LastEditorDisplayName</th>\n",
       "      <th>LastEditorUserId</th>\n",
       "      <th>OwnerDisplayName</th>\n",
       "      <th>OwnerUserId</th>\n",
       "      <th>ParentId</th>\n",
       "      <th>PostTypeId</th>\n",
       "      <th>Score</th>\n",
       "      <th>Tags</th>\n",
       "      <th>Title</th>\n",
       "      <th>ViewCount</th>\n",
       "    </tr>\n",
       "  </thead>\n",
       "  <tbody>\n",
       "    <tr>\n",
       "      <th>0</th>\n",
       "      <td>3.0</td>\n",
       "      <td>4.0</td>\n",
       "      <td>&lt;p&gt;It seems to me that the addition of electro...</td>\n",
       "      <td>NaN</td>\n",
       "      <td>6</td>\n",
       "      <td>NaN</td>\n",
       "      <td>2012-04-25T18:24:34.340</td>\n",
       "      <td>3.0</td>\n",
       "      <td>1</td>\n",
       "      <td>2017-07-16T07:06:26.797</td>\n",
       "      <td>...</td>\n",
       "      <td>NaN</td>\n",
       "      <td>NaN</td>\n",
       "      <td>NaN</td>\n",
       "      <td>16.0</td>\n",
       "      <td>NaN</td>\n",
       "      <td>1</td>\n",
       "      <td>35</td>\n",
       "      <td>&lt;electrons&gt;&lt;atoms&gt;&lt;periodic-trends&gt;</td>\n",
       "      <td>Why do atoms generally become smaller as one m...</td>\n",
       "      <td>23372.0</td>\n",
       "    </tr>\n",
       "    <tr>\n",
       "      <th>1</th>\n",
       "      <td>56.0</td>\n",
       "      <td>4.0</td>\n",
       "      <td>&lt;p&gt;My understanding is that $\\mathrm{NaCl}$ is...</td>\n",
       "      <td>NaN</td>\n",
       "      <td>1</td>\n",
       "      <td>NaN</td>\n",
       "      <td>2012-04-25T18:25:27.290</td>\n",
       "      <td>3.0</td>\n",
       "      <td>2</td>\n",
       "      <td>2018-08-23T13:43:44.867</td>\n",
       "      <td>...</td>\n",
       "      <td>NaN</td>\n",
       "      <td>66065.0</td>\n",
       "      <td>NaN</td>\n",
       "      <td>10.0</td>\n",
       "      <td>NaN</td>\n",
       "      <td>1</td>\n",
       "      <td>21</td>\n",
       "      <td>&lt;ions&gt;&lt;crystal-structure&gt;&lt;ionic-compounds&gt;&lt;sol...</td>\n",
       "      <td>How does NaCl maintain its crystalline structure?</td>\n",
       "      <td>3318.0</td>\n",
       "    </tr>\n",
       "    <tr>\n",
       "      <th>2</th>\n",
       "      <td>NaN</td>\n",
       "      <td>NaN</td>\n",
       "      <td>&lt;p&gt;As you move from left to right across a per...</td>\n",
       "      <td>NaN</td>\n",
       "      <td>3</td>\n",
       "      <td>NaN</td>\n",
       "      <td>2012-04-25T18:27:18.427</td>\n",
       "      <td>NaN</td>\n",
       "      <td>3</td>\n",
       "      <td>2012-04-25T18:27:18.427</td>\n",
       "      <td>...</td>\n",
       "      <td>NaN</td>\n",
       "      <td>NaN</td>\n",
       "      <td>NaN</td>\n",
       "      <td>21.0</td>\n",
       "      <td>1.0</td>\n",
       "      <td>2</td>\n",
       "      <td>30</td>\n",
       "      <td>NaN</td>\n",
       "      <td>NaN</td>\n",
       "      <td>NaN</td>\n",
       "    </tr>\n",
       "    <tr>\n",
       "      <th>3</th>\n",
       "      <td>13.0</td>\n",
       "      <td>4.0</td>\n",
       "      <td>&lt;p&gt;A reaction proceeds towards the direction o...</td>\n",
       "      <td>NaN</td>\n",
       "      <td>0</td>\n",
       "      <td>NaN</td>\n",
       "      <td>2012-04-25T18:33:07.480</td>\n",
       "      <td>8.0</td>\n",
       "      <td>4</td>\n",
       "      <td>2019-04-06T05:02:28.063</td>\n",
       "      <td>...</td>\n",
       "      <td>NaN</td>\n",
       "      <td>194.0</td>\n",
       "      <td>NaN</td>\n",
       "      <td>22.0</td>\n",
       "      <td>NaN</td>\n",
       "      <td>1</td>\n",
       "      <td>31</td>\n",
       "      <td>&lt;equilibrium&gt;&lt;free-energy&gt;</td>\n",
       "      <td>Gibbs free energy-minimum or zero?</td>\n",
       "      <td>15422.0</td>\n",
       "    </tr>\n",
       "    <tr>\n",
       "      <th>4</th>\n",
       "      <td>NaN</td>\n",
       "      <td>NaN</td>\n",
       "      <td>&lt;p&gt;A crystal forms to balance the forces of re...</td>\n",
       "      <td>NaN</td>\n",
       "      <td>2</td>\n",
       "      <td>NaN</td>\n",
       "      <td>2012-04-25T18:37:11.060</td>\n",
       "      <td>NaN</td>\n",
       "      <td>5</td>\n",
       "      <td>2012-06-05T07:27:40.817</td>\n",
       "      <td>...</td>\n",
       "      <td>NaN</td>\n",
       "      <td>123.0</td>\n",
       "      <td>NaN</td>\n",
       "      <td>18.0</td>\n",
       "      <td>2.0</td>\n",
       "      <td>2</td>\n",
       "      <td>5</td>\n",
       "      <td>NaN</td>\n",
       "      <td>NaN</td>\n",
       "      <td>NaN</td>\n",
       "    </tr>\n",
       "  </tbody>\n",
       "</table>\n",
       "<p>5 rows × 21 columns</p>\n",
       "</div>"
      ],
      "text/plain": [
       "   AcceptedAnswerId  AnswerCount  \\\n",
       "0               3.0          4.0   \n",
       "1              56.0          4.0   \n",
       "2               NaN          NaN   \n",
       "3              13.0          4.0   \n",
       "4               NaN          NaN   \n",
       "\n",
       "                                                Body ClosedDate  CommentCount  \\\n",
       "0  <p>It seems to me that the addition of electro...        NaN             6   \n",
       "1  <p>My understanding is that $\\mathrm{NaCl}$ is...        NaN             1   \n",
       "2  <p>As you move from left to right across a per...        NaN             3   \n",
       "3  <p>A reaction proceeds towards the direction o...        NaN             0   \n",
       "4  <p>A crystal forms to balance the forces of re...        NaN             2   \n",
       "\n",
       "  CommunityOwnedDate             CreationDate  FavoriteCount  Id  \\\n",
       "0                NaN  2012-04-25T18:24:34.340            3.0   1   \n",
       "1                NaN  2012-04-25T18:25:27.290            3.0   2   \n",
       "2                NaN  2012-04-25T18:27:18.427            NaN   3   \n",
       "3                NaN  2012-04-25T18:33:07.480            8.0   4   \n",
       "4                NaN  2012-04-25T18:37:11.060            NaN   5   \n",
       "\n",
       "          LastActivityDate  ... LastEditorDisplayName LastEditorUserId  \\\n",
       "0  2017-07-16T07:06:26.797  ...                   NaN              NaN   \n",
       "1  2018-08-23T13:43:44.867  ...                   NaN          66065.0   \n",
       "2  2012-04-25T18:27:18.427  ...                   NaN              NaN   \n",
       "3  2019-04-06T05:02:28.063  ...                   NaN            194.0   \n",
       "4  2012-06-05T07:27:40.817  ...                   NaN            123.0   \n",
       "\n",
       "   OwnerDisplayName OwnerUserId  ParentId  PostTypeId  Score  \\\n",
       "0               NaN        16.0       NaN           1     35   \n",
       "1               NaN        10.0       NaN           1     21   \n",
       "2               NaN        21.0       1.0           2     30   \n",
       "3               NaN        22.0       NaN           1     31   \n",
       "4               NaN        18.0       2.0           2      5   \n",
       "\n",
       "                                                Tags  \\\n",
       "0                <electrons><atoms><periodic-trends>   \n",
       "1  <ions><crystal-structure><ionic-compounds><sol...   \n",
       "2                                                NaN   \n",
       "3                         <equilibrium><free-energy>   \n",
       "4                                                NaN   \n",
       "\n",
       "                                               Title ViewCount  \n",
       "0  Why do atoms generally become smaller as one m...   23372.0  \n",
       "1  How does NaCl maintain its crystalline structure?    3318.0  \n",
       "2                                                NaN       NaN  \n",
       "3                 Gibbs free energy-minimum or zero?   15422.0  \n",
       "4                                                NaN       NaN  \n",
       "\n",
       "[5 rows x 21 columns]"
      ]
     },
     "execution_count": 5,
     "metadata": {},
     "output_type": "execute_result"
    }
   ],
   "source": [
    "chemistry.head()"
   ]
  },
  {
   "cell_type": "code",
   "execution_count": 6,
   "metadata": {},
   "outputs": [
    {
     "data": {
      "text/html": [
       "<div>\n",
       "<style scoped>\n",
       "    .dataframe tbody tr th:only-of-type {\n",
       "        vertical-align: middle;\n",
       "    }\n",
       "\n",
       "    .dataframe tbody tr th {\n",
       "        vertical-align: top;\n",
       "    }\n",
       "\n",
       "    .dataframe thead th {\n",
       "        text-align: right;\n",
       "    }\n",
       "</style>\n",
       "<table border=\"1\" class=\"dataframe\">\n",
       "  <thead>\n",
       "    <tr style=\"text-align: right;\">\n",
       "      <th></th>\n",
       "      <th>Id</th>\n",
       "      <th>Tags</th>\n",
       "    </tr>\n",
       "  </thead>\n",
       "  <tbody>\n",
       "    <tr>\n",
       "      <th>0</th>\n",
       "      <td>1</td>\n",
       "      <td>&lt;electrons&gt;&lt;atoms&gt;&lt;periodic-trends&gt;</td>\n",
       "    </tr>\n",
       "    <tr>\n",
       "      <th>1</th>\n",
       "      <td>2</td>\n",
       "      <td>&lt;ions&gt;&lt;crystal-structure&gt;&lt;ionic-compounds&gt;&lt;sol...</td>\n",
       "    </tr>\n",
       "    <tr>\n",
       "      <th>2</th>\n",
       "      <td>3</td>\n",
       "      <td>NaN</td>\n",
       "    </tr>\n",
       "    <tr>\n",
       "      <th>3</th>\n",
       "      <td>4</td>\n",
       "      <td>&lt;equilibrium&gt;&lt;free-energy&gt;</td>\n",
       "    </tr>\n",
       "    <tr>\n",
       "      <th>4</th>\n",
       "      <td>5</td>\n",
       "      <td>NaN</td>\n",
       "    </tr>\n",
       "  </tbody>\n",
       "</table>\n",
       "</div>"
      ],
      "text/plain": [
       "   Id                                               Tags\n",
       "0   1                <electrons><atoms><periodic-trends>\n",
       "1   2  <ions><crystal-structure><ionic-compounds><sol...\n",
       "2   3                                                NaN\n",
       "3   4                         <equilibrium><free-energy>\n",
       "4   5                                                NaN"
      ]
     },
     "execution_count": 6,
     "metadata": {},
     "output_type": "execute_result"
    }
   ],
   "source": [
    "chemistry = chemistry[['Id', 'Tags']]\n",
    "chemistry.head()"
   ]
  },
  {
   "cell_type": "markdown",
   "metadata": {},
   "source": [
    "# drop nan values"
   ]
  },
  {
   "cell_type": "code",
   "execution_count": 7,
   "metadata": {},
   "outputs": [],
   "source": [
    "chemistry.dropna(inplace = True)"
   ]
  },
  {
   "cell_type": "code",
   "execution_count": 8,
   "metadata": {},
   "outputs": [
    {
     "data": {
      "text/html": [
       "<div>\n",
       "<style scoped>\n",
       "    .dataframe tbody tr th:only-of-type {\n",
       "        vertical-align: middle;\n",
       "    }\n",
       "\n",
       "    .dataframe tbody tr th {\n",
       "        vertical-align: top;\n",
       "    }\n",
       "\n",
       "    .dataframe thead th {\n",
       "        text-align: right;\n",
       "    }\n",
       "</style>\n",
       "<table border=\"1\" class=\"dataframe\">\n",
       "  <thead>\n",
       "    <tr style=\"text-align: right;\">\n",
       "      <th></th>\n",
       "      <th>Id</th>\n",
       "      <th>Tags</th>\n",
       "    </tr>\n",
       "  </thead>\n",
       "  <tbody>\n",
       "    <tr>\n",
       "      <th>0</th>\n",
       "      <td>1</td>\n",
       "      <td>&lt;electrons&gt;&lt;atoms&gt;&lt;periodic-trends&gt;</td>\n",
       "    </tr>\n",
       "    <tr>\n",
       "      <th>1</th>\n",
       "      <td>2</td>\n",
       "      <td>&lt;ions&gt;&lt;crystal-structure&gt;&lt;ionic-compounds&gt;&lt;sol...</td>\n",
       "    </tr>\n",
       "    <tr>\n",
       "      <th>2</th>\n",
       "      <td>4</td>\n",
       "      <td>&lt;equilibrium&gt;&lt;free-energy&gt;</td>\n",
       "    </tr>\n",
       "    <tr>\n",
       "      <th>3</th>\n",
       "      <td>7</td>\n",
       "      <td>&lt;organic-chemistry&gt;&lt;aromatic-compounds&gt;&lt;nitro-...</td>\n",
       "    </tr>\n",
       "    <tr>\n",
       "      <th>4</th>\n",
       "      <td>11</td>\n",
       "      <td>&lt;purification&gt;&lt;solvents&gt;&lt;recrystallization&gt;</td>\n",
       "    </tr>\n",
       "  </tbody>\n",
       "</table>\n",
       "</div>"
      ],
      "text/plain": [
       "   Id                                               Tags\n",
       "0   1                <electrons><atoms><periodic-trends>\n",
       "1   2  <ions><crystal-structure><ionic-compounds><sol...\n",
       "2   4                         <equilibrium><free-energy>\n",
       "3   7  <organic-chemistry><aromatic-compounds><nitro-...\n",
       "4  11        <purification><solvents><recrystallization>"
      ]
     },
     "execution_count": 8,
     "metadata": {},
     "output_type": "execute_result"
    }
   ],
   "source": [
    "chemistry.reset_index(drop = True, inplace = True)\n",
    "chemistry.head()"
   ]
  },
  {
   "cell_type": "markdown",
   "metadata": {},
   "source": [
    "# extract tags from string"
   ]
  },
  {
   "cell_type": "code",
   "execution_count": 9,
   "metadata": {},
   "outputs": [],
   "source": [
    "import re"
   ]
  },
  {
   "cell_type": "code",
   "execution_count": 10,
   "metadata": {},
   "outputs": [
    {
     "data": {
      "text/html": [
       "<div>\n",
       "<style scoped>\n",
       "    .dataframe tbody tr th:only-of-type {\n",
       "        vertical-align: middle;\n",
       "    }\n",
       "\n",
       "    .dataframe tbody tr th {\n",
       "        vertical-align: top;\n",
       "    }\n",
       "\n",
       "    .dataframe thead th {\n",
       "        text-align: right;\n",
       "    }\n",
       "</style>\n",
       "<table border=\"1\" class=\"dataframe\">\n",
       "  <thead>\n",
       "    <tr style=\"text-align: right;\">\n",
       "      <th></th>\n",
       "      <th>Id</th>\n",
       "      <th>Tags</th>\n",
       "      <th>Tag_list</th>\n",
       "    </tr>\n",
       "  </thead>\n",
       "  <tbody>\n",
       "    <tr>\n",
       "      <th>0</th>\n",
       "      <td>1</td>\n",
       "      <td>&lt;electrons&gt;&lt;atoms&gt;&lt;periodic-trends&gt;</td>\n",
       "      <td>[electrons, atoms, periodic-trends]</td>\n",
       "    </tr>\n",
       "    <tr>\n",
       "      <th>1</th>\n",
       "      <td>2</td>\n",
       "      <td>&lt;ions&gt;&lt;crystal-structure&gt;&lt;ionic-compounds&gt;&lt;sol...</td>\n",
       "      <td>[ions, crystal-structure, ionic-compounds, sol...</td>\n",
       "    </tr>\n",
       "    <tr>\n",
       "      <th>2</th>\n",
       "      <td>4</td>\n",
       "      <td>&lt;equilibrium&gt;&lt;free-energy&gt;</td>\n",
       "      <td>[equilibrium, free-energy]</td>\n",
       "    </tr>\n",
       "    <tr>\n",
       "      <th>3</th>\n",
       "      <td>7</td>\n",
       "      <td>&lt;organic-chemistry&gt;&lt;aromatic-compounds&gt;&lt;nitro-...</td>\n",
       "      <td>[organic-chemistry, aromatic-compounds, nitro-...</td>\n",
       "    </tr>\n",
       "    <tr>\n",
       "      <th>4</th>\n",
       "      <td>11</td>\n",
       "      <td>&lt;purification&gt;&lt;solvents&gt;&lt;recrystallization&gt;</td>\n",
       "      <td>[purification, solvents, recrystallization]</td>\n",
       "    </tr>\n",
       "  </tbody>\n",
       "</table>\n",
       "</div>"
      ],
      "text/plain": [
       "   Id                                               Tags  \\\n",
       "0   1                <electrons><atoms><periodic-trends>   \n",
       "1   2  <ions><crystal-structure><ionic-compounds><sol...   \n",
       "2   4                         <equilibrium><free-energy>   \n",
       "3   7  <organic-chemistry><aromatic-compounds><nitro-...   \n",
       "4  11        <purification><solvents><recrystallization>   \n",
       "\n",
       "                                            Tag_list  \n",
       "0                [electrons, atoms, periodic-trends]  \n",
       "1  [ions, crystal-structure, ionic-compounds, sol...  \n",
       "2                         [equilibrium, free-energy]  \n",
       "3  [organic-chemistry, aromatic-compounds, nitro-...  \n",
       "4        [purification, solvents, recrystallization]  "
      ]
     },
     "execution_count": 10,
     "metadata": {},
     "output_type": "execute_result"
    }
   ],
   "source": [
    "chemistry['Tags'] = chemistry['Tags'].astype(str)\n",
    "pattern = re.compile(\"<(.+?)>\")\n",
    "chemistry['Tag_list'] = chemistry.apply(lambda row: re.findall(pattern, row.Tags), axis=1)\n",
    "chemistry.head()"
   ]
  },
  {
   "cell_type": "code",
   "execution_count": 11,
   "metadata": {},
   "outputs": [
    {
     "data": {
      "text/html": [
       "<div>\n",
       "<style scoped>\n",
       "    .dataframe tbody tr th:only-of-type {\n",
       "        vertical-align: middle;\n",
       "    }\n",
       "\n",
       "    .dataframe tbody tr th {\n",
       "        vertical-align: top;\n",
       "    }\n",
       "\n",
       "    .dataframe thead th {\n",
       "        text-align: right;\n",
       "    }\n",
       "</style>\n",
       "<table border=\"1\" class=\"dataframe\">\n",
       "  <thead>\n",
       "    <tr style=\"text-align: right;\">\n",
       "      <th></th>\n",
       "      <th>Id</th>\n",
       "      <th>Tags</th>\n",
       "      <th>Tag_list</th>\n",
       "      <th>Tag_str</th>\n",
       "    </tr>\n",
       "  </thead>\n",
       "  <tbody>\n",
       "    <tr>\n",
       "      <th>0</th>\n",
       "      <td>1</td>\n",
       "      <td>&lt;electrons&gt;&lt;atoms&gt;&lt;periodic-trends&gt;</td>\n",
       "      <td>[electrons, atoms, periodic-trends]</td>\n",
       "      <td>electrons,atoms,periodic-trends</td>\n",
       "    </tr>\n",
       "    <tr>\n",
       "      <th>1</th>\n",
       "      <td>2</td>\n",
       "      <td>&lt;ions&gt;&lt;crystal-structure&gt;&lt;ionic-compounds&gt;&lt;sol...</td>\n",
       "      <td>[ions, crystal-structure, ionic-compounds, sol...</td>\n",
       "      <td>ions,crystal-structure,ionic-compounds,solid-s...</td>\n",
       "    </tr>\n",
       "    <tr>\n",
       "      <th>2</th>\n",
       "      <td>4</td>\n",
       "      <td>&lt;equilibrium&gt;&lt;free-energy&gt;</td>\n",
       "      <td>[equilibrium, free-energy]</td>\n",
       "      <td>equilibrium,free-energy</td>\n",
       "    </tr>\n",
       "    <tr>\n",
       "      <th>3</th>\n",
       "      <td>7</td>\n",
       "      <td>&lt;organic-chemistry&gt;&lt;aromatic-compounds&gt;&lt;nitro-...</td>\n",
       "      <td>[organic-chemistry, aromatic-compounds, nitro-...</td>\n",
       "      <td>organic-chemistry,aromatic-compounds,nitro-com...</td>\n",
       "    </tr>\n",
       "    <tr>\n",
       "      <th>4</th>\n",
       "      <td>11</td>\n",
       "      <td>&lt;purification&gt;&lt;solvents&gt;&lt;recrystallization&gt;</td>\n",
       "      <td>[purification, solvents, recrystallization]</td>\n",
       "      <td>purification,solvents,recrystallization</td>\n",
       "    </tr>\n",
       "  </tbody>\n",
       "</table>\n",
       "</div>"
      ],
      "text/plain": [
       "   Id                                               Tags  \\\n",
       "0   1                <electrons><atoms><periodic-trends>   \n",
       "1   2  <ions><crystal-structure><ionic-compounds><sol...   \n",
       "2   4                         <equilibrium><free-energy>   \n",
       "3   7  <organic-chemistry><aromatic-compounds><nitro-...   \n",
       "4  11        <purification><solvents><recrystallization>   \n",
       "\n",
       "                                            Tag_list  \\\n",
       "0                [electrons, atoms, periodic-trends]   \n",
       "1  [ions, crystal-structure, ionic-compounds, sol...   \n",
       "2                         [equilibrium, free-energy]   \n",
       "3  [organic-chemistry, aromatic-compounds, nitro-...   \n",
       "4        [purification, solvents, recrystallization]   \n",
       "\n",
       "                                             Tag_str  \n",
       "0                    electrons,atoms,periodic-trends  \n",
       "1  ions,crystal-structure,ionic-compounds,solid-s...  \n",
       "2                            equilibrium,free-energy  \n",
       "3  organic-chemistry,aromatic-compounds,nitro-com...  \n",
       "4            purification,solvents,recrystallization  "
      ]
     },
     "execution_count": 11,
     "metadata": {},
     "output_type": "execute_result"
    }
   ],
   "source": [
    "chemistry['Tag_str'] = chemistry.apply(lambda row: ','.join(row.Tag_list), axis = 1)\n",
    "chemistry.head()"
   ]
  },
  {
   "cell_type": "markdown",
   "metadata": {},
   "source": [
    "# vectorize the string"
   ]
  },
  {
   "cell_type": "code",
   "execution_count": 12,
   "metadata": {},
   "outputs": [],
   "source": [
    "import scipy\n",
    "import sklearn"
   ]
  },
  {
   "cell_type": "code",
   "execution_count": 13,
   "metadata": {
    "scrolled": true
   },
   "outputs": [],
   "source": [
    "from sklearn.feature_extraction.text import TfidfVectorizer\n",
    "from sklearn.feature_extraction.text import CountVectorizer\n",
    "from sklearn.cluster import KMeans\n"
   ]
  },
  {
   "cell_type": "code",
   "execution_count": 14,
   "metadata": {},
   "outputs": [
    {
     "data": {
      "text/plain": [
       "['ab-initio',\n",
       " 'absorption',\n",
       " 'acid-base',\n",
       " 'adhesion',\n",
       " 'adsorption',\n",
       " 'alcohols',\n",
       " 'aldol-reaction',\n",
       " 'alkali-metals',\n",
       " 'alkaline-earth-metals',\n",
       " 'alkaloids',\n",
       " 'allotropes',\n",
       " 'alloy',\n",
       " 'amides',\n",
       " 'amines',\n",
       " 'amino-acids',\n",
       " 'analytical-chemistry',\n",
       " 'applied-chemistry',\n",
       " 'aqueous-solution',\n",
       " 'aromatic-compounds',\n",
       " 'aromaticity',\n",
       " 'astrochemistry',\n",
       " 'atmospheric-chemistry',\n",
       " 'atomic-radius',\n",
       " 'atomic-structure',\n",
       " 'atoms',\n",
       " 'basis-set',\n",
       " 'bent-bond',\n",
       " 'biochemistry',\n",
       " 'boiling-point',\n",
       " 'bond',\n",
       " 'books',\n",
       " 'boron-family',\n",
       " 'bravais-lattices',\n",
       " 'c-c-addition',\n",
       " 'c-x-addition',\n",
       " 'calorimetry',\n",
       " 'capillary-forces',\n",
       " 'carbene',\n",
       " 'carbocation',\n",
       " 'carbohydrates',\n",
       " 'carbon-allotropes',\n",
       " 'carbon-dioxide',\n",
       " 'carbon-family',\n",
       " 'carbonyl-complexes',\n",
       " 'carbonyl-compounds',\n",
       " 'catalysis',\n",
       " 'ceramics',\n",
       " 'chemical-biology',\n",
       " 'chemical-engineering',\n",
       " 'chemical-weapons',\n",
       " 'cheminformatics',\n",
       " 'chemistry-in-fiction',\n",
       " 'chemoselectivity',\n",
       " 'chirality',\n",
       " 'chromatography',\n",
       " 'cleaning',\n",
       " 'colligative-properties',\n",
       " 'colloids',\n",
       " 'color',\n",
       " 'combustion',\n",
       " 'computational-chemistry',\n",
       " 'concentration',\n",
       " 'conductivity',\n",
       " 'conformers',\n",
       " 'containers',\n",
       " 'coordination-compounds',\n",
       " 'corrosion',\n",
       " 'covalent-compounds',\n",
       " 'crystal-field-theory',\n",
       " 'crystal-structure',\n",
       " 'crystallography',\n",
       " 'cyclic-voltammetry',\n",
       " 'cyclohexane',\n",
       " 'databases',\n",
       " 'decomposition',\n",
       " 'deliquescence',\n",
       " 'density',\n",
       " 'density-functional-theory',\n",
       " 'desiccation',\n",
       " 'differential-scanning-calorimetry',\n",
       " 'diffusion',\n",
       " 'dipole',\n",
       " 'dispersion-correction',\n",
       " 'distillation',\n",
       " 'dna-rna',\n",
       " 'drugs',\n",
       " 'dye',\n",
       " 'electricity',\n",
       " 'electrochemistry',\n",
       " 'electrolysis',\n",
       " 'electromagnetic-radiation',\n",
       " 'electron-affinity',\n",
       " 'electronegativity',\n",
       " 'electronic-configuration',\n",
       " 'electrons',\n",
       " 'electrophilic-substitution',\n",
       " 'electroplating',\n",
       " 'electrostatic-energy',\n",
       " 'elemental-analysis',\n",
       " 'elements',\n",
       " 'elimination',\n",
       " 'energy',\n",
       " 'enolate-chemistry',\n",
       " 'enthalpy',\n",
       " 'entropy',\n",
       " 'environmental-chemistry',\n",
       " 'enzyme-kinetics',\n",
       " 'enzymes',\n",
       " 'epr-spectroscopy',\n",
       " 'equation-of-state',\n",
       " 'equilibrium',\n",
       " 'equipment',\n",
       " 'erratum',\n",
       " 'esters',\n",
       " 'ethanol',\n",
       " 'ethers',\n",
       " 'eutectic',\n",
       " 'everyday-chemistry',\n",
       " 'experimental-chemistry',\n",
       " 'explosives',\n",
       " 'extraction',\n",
       " 'fats',\n",
       " 'filtering',\n",
       " 'fluorescence',\n",
       " 'food-chemistry',\n",
       " 'formal-charge',\n",
       " 'free-energy',\n",
       " 'fuel',\n",
       " 'gas-laws',\n",
       " 'gas-phase-chemistry',\n",
       " 'geochemistry',\n",
       " 'geometrical-isomerism',\n",
       " 'glass',\n",
       " 'gloves',\n",
       " 'green-chemistry',\n",
       " 'grignard-reagent',\n",
       " 'group-theory',\n",
       " 'halides',\n",
       " 'halogenation',\n",
       " 'heat',\n",
       " 'heterocyclic-compounds',\n",
       " 'history-of-chemistry',\n",
       " 'home-experiment',\n",
       " 'homework',\n",
       " 'hsab',\n",
       " 'hybridization',\n",
       " 'hydrocarbons',\n",
       " 'hydrogen',\n",
       " 'hydrogen-bond',\n",
       " 'hydrolysis',\n",
       " 'hyperconjugation',\n",
       " 'identification',\n",
       " 'immiscibility',\n",
       " 'inductive-effect',\n",
       " 'inorganic-chemistry',\n",
       " 'intermolecular-forces',\n",
       " 'ionic-compounds',\n",
       " 'ionization-energy',\n",
       " 'ions',\n",
       " 'ir-spectroscopy',\n",
       " 'isomers',\n",
       " 'isotope',\n",
       " 'isotopologues',\n",
       " 'kinetic-theory-of-gases',\n",
       " 'kinetics',\n",
       " 'lattices',\n",
       " 'lewis-structure',\n",
       " 'ligand-field-theory',\n",
       " 'light',\n",
       " 'lipids',\n",
       " 'liquid-crystals',\n",
       " 'liquids',\n",
       " 'magnetism',\n",
       " 'mass-spectrometry',\n",
       " 'materials',\n",
       " 'mechanochemistry',\n",
       " 'medicinal-chemistry',\n",
       " 'melting-point',\n",
       " 'mercury',\n",
       " 'metal',\n",
       " 'metallurgy',\n",
       " 'miller-indices',\n",
       " 'minerals',\n",
       " 'mixtures',\n",
       " 'mole',\n",
       " 'molecular-design',\n",
       " 'molecular-dynamics',\n",
       " 'molecular-mechanics',\n",
       " 'molecular-orbital-theory',\n",
       " 'molecular-structure',\n",
       " 'molecules',\n",
       " 'multi-reference',\n",
       " 'nanotechnology',\n",
       " 'nernst-equation',\n",
       " 'neutrons',\n",
       " 'nitriles',\n",
       " 'nitro-compounds',\n",
       " 'nmr-spectroscopy',\n",
       " 'noble-gases',\n",
       " 'noble-metals',\n",
       " 'nomenclature',\n",
       " 'notation',\n",
       " 'nuclear',\n",
       " 'nuclear-chemistry',\n",
       " 'nucleophilic-substitution',\n",
       " 'nucleophilicity',\n",
       " 'numerical-analysis',\n",
       " 'optical-properties',\n",
       " 'orbitals',\n",
       " 'organic',\n",
       " 'organic-chemistry',\n",
       " 'organic-oxidation',\n",
       " 'organic-reduction',\n",
       " 'organoboron-compounds',\n",
       " 'organocatalysis',\n",
       " 'organometallic-compounds',\n",
       " 'organophosphorus-compounds',\n",
       " 'organosilicon-compounds',\n",
       " 'organosulfur-compounds',\n",
       " 'organotransition-metal-chemistry',\n",
       " 'osmosis',\n",
       " 'oxidation-state',\n",
       " 'ozone',\n",
       " 'pericyclic',\n",
       " 'periodic-table',\n",
       " 'periodic-trends',\n",
       " 'petrochemistry',\n",
       " 'ph',\n",
       " 'pharmacology',\n",
       " 'phase',\n",
       " 'phenols',\n",
       " 'phosphorescence',\n",
       " 'photochemistry',\n",
       " 'physical-chemistry',\n",
       " 'physical-organic-chemistry',\n",
       " 'plastics',\n",
       " 'pnictogen',\n",
       " 'polarimetry',\n",
       " 'polarity',\n",
       " 'polymers',\n",
       " 'precipitation',\n",
       " 'pressure',\n",
       " 'process-chemistry',\n",
       " 'protecting-groups',\n",
       " 'proteins',\n",
       " 'protons',\n",
       " 'purification',\n",
       " 'pyrolysis',\n",
       " 'pyrotechnics',\n",
       " 'qtaim',\n",
       " 'quantum-chemistry',\n",
       " 'radicals',\n",
       " 'radioactivity',\n",
       " 'raman',\n",
       " 'rare-earth-elements',\n",
       " 'reaction-control',\n",
       " 'reaction-coordinate',\n",
       " 'reaction-mechanism',\n",
       " 'reactivity',\n",
       " 'reagents',\n",
       " 'rearrangements',\n",
       " 'recrystallization',\n",
       " 'redox',\n",
       " 'reduction-potential',\n",
       " 'reference-request',\n",
       " 'regioselectivity',\n",
       " 'relativistic',\n",
       " 'resonance',\n",
       " 'rheology',\n",
       " 'rocks',\n",
       " 'rubber',\n",
       " 'safety',\n",
       " 'semiconductors',\n",
       " 'separation-techniques',\n",
       " 'significant-figures',\n",
       " 'silver',\n",
       " 'smell',\n",
       " 'software',\n",
       " 'solid-state-chemistry',\n",
       " 'solubility',\n",
       " 'solutions',\n",
       " 'solvated-electrons',\n",
       " 'solvents',\n",
       " 'spectrophotometry',\n",
       " 'spectroscopy',\n",
       " 'spin',\n",
       " 'stability',\n",
       " 'statistical-mechanics',\n",
       " 'stereochemistry',\n",
       " 'stereoelectronics',\n",
       " 'stereoselectivity',\n",
       " 'steroids',\n",
       " 'stoichiometry',\n",
       " 'structural-biology',\n",
       " 'structural-formula',\n",
       " 'sublimation',\n",
       " 'supramolecular-chemistry',\n",
       " 'surface-chemistry',\n",
       " 'surfactants',\n",
       " 'symmetry',\n",
       " 'synthesis',\n",
       " 'synthesis-golf',\n",
       " 'taste',\n",
       " 'tautomer',\n",
       " 'td-dft',\n",
       " 'teaching-lab',\n",
       " 'temperature',\n",
       " 'terminology',\n",
       " 'theoretical-chemistry',\n",
       " 'thermal-conductivity',\n",
       " 'thermodynamics',\n",
       " 'thin-films',\n",
       " 'titration',\n",
       " 'toxicity',\n",
       " 'transition-metals',\n",
       " 'transition-state-theory',\n",
       " 'transuranic-elements',\n",
       " 'units',\n",
       " 'uv-vis-spectroscopy',\n",
       " 'vacuum',\n",
       " 'valence-bond-theory',\n",
       " 'vapor-pressure',\n",
       " 'viscosity',\n",
       " 'vsepr-theory',\n",
       " 'water',\n",
       " 'water-treatment',\n",
       " 'wax',\n",
       " 'wittig-reactions',\n",
       " 'x-ray-diffraction']"
      ]
     },
     "execution_count": 14,
     "metadata": {},
     "output_type": "execute_result"
    }
   ],
   "source": [
    "tag = chemistry['Tag_str']\n",
    "vectorizer = CountVectorizer(tokenizer=lambda x: x.split(','))\n",
    "X = vectorizer.fit_transform(tag)\n",
    "vectorizer.get_feature_names()"
   ]
  },
  {
   "cell_type": "code",
   "execution_count": 15,
   "metadata": {},
   "outputs": [
    {
     "data": {
      "text/plain": [
       "329"
      ]
     },
     "execution_count": 15,
     "metadata": {},
     "output_type": "execute_result"
    }
   ],
   "source": [
    "len(vectorizer.get_feature_names())"
   ]
  },
  {
   "cell_type": "code",
   "execution_count": 16,
   "metadata": {},
   "outputs": [
    {
     "data": {
      "text/plain": [
       "(29617, 329)"
      ]
     },
     "execution_count": 16,
     "metadata": {},
     "output_type": "execute_result"
    }
   ],
   "source": [
    "X.shape"
   ]
  },
  {
   "cell_type": "code",
   "execution_count": 17,
   "metadata": {},
   "outputs": [
    {
     "data": {
      "text/plain": [
       "29617"
      ]
     },
     "execution_count": 17,
     "metadata": {},
     "output_type": "execute_result"
    }
   ],
   "source": [
    "chemistry.shape[0]"
   ]
  },
  {
   "cell_type": "markdown",
   "metadata": {},
   "source": [
    "# use kmeans to cluster tags into 5 clusters"
   ]
  },
  {
   "cell_type": "code",
   "execution_count": 18,
   "metadata": {},
   "outputs": [],
   "source": [
    "kmeans = KMeans(n_clusters=5, random_state=0).fit(X)"
   ]
  },
  {
   "cell_type": "code",
   "execution_count": 19,
   "metadata": {},
   "outputs": [
    {
     "data": {
      "text/html": [
       "<div>\n",
       "<style scoped>\n",
       "    .dataframe tbody tr th:only-of-type {\n",
       "        vertical-align: middle;\n",
       "    }\n",
       "\n",
       "    .dataframe tbody tr th {\n",
       "        vertical-align: top;\n",
       "    }\n",
       "\n",
       "    .dataframe thead th {\n",
       "        text-align: right;\n",
       "    }\n",
       "</style>\n",
       "<table border=\"1\" class=\"dataframe\">\n",
       "  <thead>\n",
       "    <tr style=\"text-align: right;\">\n",
       "      <th></th>\n",
       "      <th>Id</th>\n",
       "      <th>Tags</th>\n",
       "      <th>Tag_list</th>\n",
       "      <th>Tag_str</th>\n",
       "      <th>Cluster_label</th>\n",
       "    </tr>\n",
       "  </thead>\n",
       "  <tbody>\n",
       "    <tr>\n",
       "      <th>0</th>\n",
       "      <td>1</td>\n",
       "      <td>&lt;electrons&gt;&lt;atoms&gt;&lt;periodic-trends&gt;</td>\n",
       "      <td>[electrons, atoms, periodic-trends]</td>\n",
       "      <td>electrons,atoms,periodic-trends</td>\n",
       "      <td>2</td>\n",
       "    </tr>\n",
       "    <tr>\n",
       "      <th>1</th>\n",
       "      <td>2</td>\n",
       "      <td>&lt;ions&gt;&lt;crystal-structure&gt;&lt;ionic-compounds&gt;&lt;sol...</td>\n",
       "      <td>[ions, crystal-structure, ionic-compounds, sol...</td>\n",
       "      <td>ions,crystal-structure,ionic-compounds,solid-s...</td>\n",
       "      <td>2</td>\n",
       "    </tr>\n",
       "    <tr>\n",
       "      <th>2</th>\n",
       "      <td>4</td>\n",
       "      <td>&lt;equilibrium&gt;&lt;free-energy&gt;</td>\n",
       "      <td>[equilibrium, free-energy]</td>\n",
       "      <td>equilibrium,free-energy</td>\n",
       "      <td>2</td>\n",
       "    </tr>\n",
       "    <tr>\n",
       "      <th>3</th>\n",
       "      <td>7</td>\n",
       "      <td>&lt;organic-chemistry&gt;&lt;aromatic-compounds&gt;&lt;nitro-...</td>\n",
       "      <td>[organic-chemistry, aromatic-compounds, nitro-...</td>\n",
       "      <td>organic-chemistry,aromatic-compounds,nitro-com...</td>\n",
       "      <td>4</td>\n",
       "    </tr>\n",
       "    <tr>\n",
       "      <th>4</th>\n",
       "      <td>11</td>\n",
       "      <td>&lt;purification&gt;&lt;solvents&gt;&lt;recrystallization&gt;</td>\n",
       "      <td>[purification, solvents, recrystallization]</td>\n",
       "      <td>purification,solvents,recrystallization</td>\n",
       "      <td>2</td>\n",
       "    </tr>\n",
       "  </tbody>\n",
       "</table>\n",
       "</div>"
      ],
      "text/plain": [
       "   Id                                               Tags  \\\n",
       "0   1                <electrons><atoms><periodic-trends>   \n",
       "1   2  <ions><crystal-structure><ionic-compounds><sol...   \n",
       "2   4                         <equilibrium><free-energy>   \n",
       "3   7  <organic-chemistry><aromatic-compounds><nitro-...   \n",
       "4  11        <purification><solvents><recrystallization>   \n",
       "\n",
       "                                            Tag_list  \\\n",
       "0                [electrons, atoms, periodic-trends]   \n",
       "1  [ions, crystal-structure, ionic-compounds, sol...   \n",
       "2                         [equilibrium, free-energy]   \n",
       "3  [organic-chemistry, aromatic-compounds, nitro-...   \n",
       "4        [purification, solvents, recrystallization]   \n",
       "\n",
       "                                             Tag_str  Cluster_label  \n",
       "0                    electrons,atoms,periodic-trends              2  \n",
       "1  ions,crystal-structure,ionic-compounds,solid-s...              2  \n",
       "2                            equilibrium,free-energy              2  \n",
       "3  organic-chemistry,aromatic-compounds,nitro-com...              4  \n",
       "4            purification,solvents,recrystallization              2  "
      ]
     },
     "execution_count": 19,
     "metadata": {},
     "output_type": "execute_result"
    }
   ],
   "source": [
    "chemistry['Cluster_label'] = kmeans.labels_\n",
    "chemistry.head()"
   ]
  },
  {
   "cell_type": "markdown",
   "metadata": {},
   "source": [
    "# cluster result"
   ]
  },
  {
   "cell_type": "code",
   "execution_count": 20,
   "metadata": {},
   "outputs": [
    {
     "name": "stdout",
     "output_type": "stream",
     "text": [
      "                                            Tag_str  count\n",
      "1011              physical-chemistry,thermodynamics    135\n",
      "653                     physical-chemistry,kinetics     79\n",
      "432                  physical-chemistry,equilibrium     76\n",
      "560                     physical-chemistry,gas-laws     60\n",
      "785            physical-chemistry,quantum-chemistry     50\n",
      "311             physical-chemistry,electrochemistry     37\n",
      "973                physical-chemistry,stoichiometry     34\n",
      "1063  physical-chemistry,thermodynamics,equilibrium     25\n",
      "759                        physical-chemistry,phase     23\n",
      "920                    physical-chemistry,solutions     21\n",
      "\n",
      "\n",
      "                                         Tag_str  count\n",
      "47                 inorganic-chemistry,acid-base     85\n",
      "997                    inorganic-chemistry,redox     80\n",
      "320   inorganic-chemistry,coordination-compounds     52\n",
      "225                     inorganic-chemistry,bond     33\n",
      "1270       organic-chemistry,inorganic-chemistry     31\n",
      "791             inorganic-chemistry,nomenclature     28\n",
      "828          inorganic-chemistry,oxidation-state     28\n",
      "555   inorganic-chemistry,experimental-chemistry     28\n",
      "498       inorganic-chemistry,everyday-chemistry     26\n",
      "379        inorganic-chemistry,crystal-structure     19\n",
      "\n",
      "\n",
      "                                        Tag_str  count\n",
      "1591                     electrochemistry,redox     67\n",
      "1474              electrochemistry,electrolysis     55\n",
      "5976                    thermodynamics,enthalpy     55\n",
      "1124           computational-chemistry,software     48\n",
      "4491  quantum-chemistry,computational-chemistry     47\n",
      "5992                     thermodynamics,entropy     41\n",
      "5998                 thermodynamics,equilibrium     34\n",
      "4854                reaction-mechanism,kinetics     31\n",
      "2300          everyday-chemistry,food-chemistry     31\n",
      "6077                        thermodynamics,heat     31\n",
      "\n",
      "\n",
      "                              Tag_str  count\n",
      "296                      acid-base,ph    102\n",
      "124             acid-base,equilibrium     70\n",
      "420               acid-base,titration     42\n",
      "145          acid-base,equilibrium,ph     27\n",
      "320            acid-base,ph,titration     24\n",
      "530      physical-chemistry,acid-base     20\n",
      "198  acid-base,experimental-chemistry     16\n",
      "9          acid-base,aqueous-solution     15\n",
      "449                homework,acid-base     15\n",
      "175      acid-base,everyday-chemistry     14\n",
      "\n",
      "\n",
      "                                                Tag_str  count\n",
      "1535               organic-chemistry,reaction-mechanism    421\n",
      "1296                     organic-chemistry,nomenclature    304\n",
      "1                           organic-chemistry,acid-base    117\n",
      "2175                        organic-chemistry,synthesis    110\n",
      "207                organic-chemistry,aromatic-compounds     95\n",
      "2093                  organic-chemistry,stereochemistry     92\n",
      "1608  organic-chemistry,reaction-mechanism,carbonyl-...     49\n",
      "507                organic-chemistry,carbonyl-compounds     47\n",
      "1274                 organic-chemistry,nmr-spectroscopy     45\n",
      "319                      organic-chemistry,biochemistry     43\n",
      "\n",
      "\n"
     ]
    }
   ],
   "source": [
    "df_list = []\n",
    "for i in range(5):\n",
    "    cluster = chemistry[chemistry.apply(lambda row: row.Cluster_label == i and len(row.Tag_list) > 1, axis = 1)]\n",
    "    df = cluster.groupby(['Tag_str'])['Tag_str'].count().rename('count').reset_index().sort_values('count', ascending=False)\n",
    "    print(df.head(10))\n",
    "    print(\"\\n\")\n",
    "    df_list.append(df)\n",
    "    "
   ]
  },
  {
   "cell_type": "markdown",
   "metadata": {},
   "source": [
    "# get the centroid"
   ]
  },
  {
   "cell_type": "code",
   "execution_count": 21,
   "metadata": {},
   "outputs": [],
   "source": [
    "from sklearn.metrics import pairwise_distances_argmin_min"
   ]
  },
  {
   "cell_type": "code",
   "execution_count": 22,
   "metadata": {},
   "outputs": [
    {
     "data": {
      "text/plain": [
       "array([[0.00000000e+00, 1.87336081e-03, 1.12401649e-03, ...,\n",
       "        0.00000000e+00, 0.00000000e+00, 7.49344324e-04],\n",
       "       [0.00000000e+00, 6.75447484e-04, 7.26106045e-02, ...,\n",
       "        0.00000000e+00, 0.00000000e+00, 1.01317123e-03],\n",
       "       [1.76789999e-03, 2.02045713e-03, 0.00000000e+00, ...,\n",
       "        1.89417856e-04, 6.31392853e-05, 1.57848213e-03],\n",
       "       [0.00000000e+00, 0.00000000e+00, 1.00000000e+00, ...,\n",
       "        0.00000000e+00, 0.00000000e+00, 0.00000000e+00],\n",
       "       [0.00000000e+00, 3.04506699e-04, 5.72472594e-02, ...,\n",
       "        0.00000000e+00, 1.06577345e-03, 0.00000000e+00]])"
      ]
     },
     "execution_count": 22,
     "metadata": {},
     "output_type": "execute_result"
    }
   ],
   "source": [
    "kmeans.cluster_centers_"
   ]
  },
  {
   "cell_type": "code",
   "execution_count": 23,
   "metadata": {},
   "outputs": [
    {
     "name": "stdout",
     "output_type": "stream",
     "text": [
      "physical-chemistry\n",
      "inorganic-chemistry\n",
      "thermodynamics\n",
      "acid-base\n",
      "organic-chemistry\n"
     ]
    }
   ],
   "source": [
    "closest, _ = pairwise_distances_argmin_min(kmeans.cluster_centers_, X)\n",
    "for i in closest:\n",
    "    print(chemistry.iloc[i].Tag_str)"
   ]
  },
  {
   "cell_type": "markdown",
   "metadata": {},
   "source": [
    "# evaluate the result"
   ]
  },
  {
   "cell_type": "code",
   "execution_count": 24,
   "metadata": {},
   "outputs": [
    {
     "data": {
      "text/plain": [
       "(29617, 5)"
      ]
     },
     "execution_count": 24,
     "metadata": {},
     "output_type": "execute_result"
    }
   ],
   "source": [
    "chemistry.shape"
   ]
  },
  {
   "cell_type": "code",
   "execution_count": 25,
   "metadata": {},
   "outputs": [
    {
     "name": "stdout",
     "output_type": "stream",
     "text": [
      "Silhouette Coefficient: 0.116\n"
     ]
    }
   ],
   "source": [
    "from sklearn import metrics\n",
    "print(\"Silhouette Coefficient: %0.3f\"\n",
    "      % metrics.silhouette_score(X, kmeans.labels_, sample_size=chemistry.shape[0]))"
   ]
  },
  {
   "cell_type": "markdown",
   "metadata": {},
   "source": [
    "# below is the generalized code for each subject"
   ]
  },
  {
   "cell_type": "code",
   "execution_count": 4,
   "metadata": {},
   "outputs": [],
   "source": [
    "import pandas as pd\n",
    "from sklearn.feature_extraction.text import TfidfVectorizer\n",
    "from sklearn.feature_extraction.text import CountVectorizer\n",
    "from sklearn.cluster import KMeans\n",
    "from sklearn.metrics import pairwise_distances_argmin_min\n",
    "from sklearn import metrics\n",
    "import re"
   ]
  },
  {
   "cell_type": "code",
   "execution_count": 5,
   "metadata": {},
   "outputs": [],
   "source": [
    "from ast import literal_eval"
   ]
  },
  {
   "cell_type": "code",
   "execution_count": 6,
   "metadata": {},
   "outputs": [],
   "source": [
    "pattern = re.compile(\"<(.+?)>\")"
   ]
  },
  {
   "cell_type": "code",
   "execution_count": 7,
   "metadata": {},
   "outputs": [],
   "source": [
    "def get_data(sub_string):\n",
    "     # read data\n",
    "    subject = pd.read_csv(\"../data/equation/\" + sub_string + \"_post_eq.csv\", lineterminator='\\n')\n",
    "    subject.Equation = subject.Equation.apply(lambda x: literal_eval(x))\n",
    "    subject = subject[['Id', 'Tags', 'Equation', 'Label']]\n",
    "    # drop nan values\n",
    "    subject.dropna(inplace = True)\n",
    "    subject.reset_index(drop = True, inplace = True)\n",
    "    subject['Tags'] = subject['Tags'].astype(str)\n",
    "    # extract tags from \"<>\"\n",
    "    subject['Tag_list'] = subject.apply(lambda row: re.findall(pattern, row.Tags), axis=1)\n",
    "    # join tags with \",\"\n",
    "    subject['Tag_str'] = subject.apply(lambda row: ','.join(row.Tag_list), axis = 1)\n",
    "    \n",
    "    return subject"
   ]
  },
  {
   "cell_type": "code",
   "execution_count": 8,
   "metadata": {},
   "outputs": [],
   "source": [
    "def tf_idf_vectorizer(subject):\n",
    "    tag = subject['Tag_str']\n",
    "    # convert tag string to vectors\n",
    "    vectorizer = TfidfVectorizer(tokenizer=lambda x: x.split(','))\n",
    "    X = vectorizer.fit_transform(tag)\n",
    "    return X"
   ]
  },
  {
   "cell_type": "code",
   "execution_count": 9,
   "metadata": {},
   "outputs": [],
   "source": [
    "def count_vectorizer(subject):\n",
    "    tag = subject['Tag_str']\n",
    "    # convert tag string to vectors\n",
    "    vectorizer = CountVectorizer(tokenizer=lambda x: x.split(','))\n",
    "    X = vectorizer.fit_transform(tag)\n",
    "    return X"
   ]
  },
  {
   "cell_type": "code",
   "execution_count": 10,
   "metadata": {},
   "outputs": [],
   "source": [
    "def k_means(X, subject, n):        \n",
    "    # kmeans clustering\n",
    "    kmeans = KMeans(n_clusters= n, random_state=0).fit(X)\n",
    "    subject['Cluster_label'] = kmeans.labels_\n",
    "    \n",
    "    # get the centroid\n",
    "    closest, _ = pairwise_distances_argmin_min(kmeans.cluster_centers_, X)\n",
    "    for i in closest:\n",
    "        print(subject.iloc[i].Tag_str)\n",
    "        print(\"\\n\")\n",
    "    return subject\n",
    "    # print(\"Silhouette Coefficient: %0.3f\" % metrics.silhouette_score(X, kmeans.labels_, sample_size=subject.shape[0]))\n",
    "    "
   ]
  },
  {
   "cell_type": "code",
   "execution_count": 11,
   "metadata": {},
   "outputs": [],
   "source": [
    "def k_means_res(subject, n):    \n",
    "    # get the most freq tag pairs\n",
    "    df_list = []\n",
    "    for i in range(n):\n",
    "        cluster = subject[subject.apply(lambda row: row.Cluster_label == i, axis = 1)]\n",
    "        df = cluster.groupby(['Tag_str'])['Tag_str'].count().rename('count').reset_index().sort_values('count', ascending=False)\n",
    "        df_list.append(df)\n",
    "    return df_list"
   ]
  },
  {
   "cell_type": "code",
   "execution_count": 12,
   "metadata": {},
   "outputs": [],
   "source": [
    "def cluster(subject_string, number):\n",
    "    subject = get_data(subject_string)\n",
    "    X = count_vectorizer(subject)\n",
    "    subject = k_means(X, subject, number)\n",
    "    return subject"
   ]
  },
  {
   "cell_type": "code",
   "execution_count": 13,
   "metadata": {},
   "outputs": [],
   "source": [
    "def save_result(subject, subject_string):\n",
    "    subject_new = subject[['Id', 'Tags', 'Equation', 'Label', 'Cluster_label']]\n",
    "    start = time.time()\n",
    "    post_rows = []\n",
    "    _ = subject_new.apply(lambda row: [post_rows.append([eqn, row[\"Label\"], row['Cluster_label'], row[\"Id\"], row[\"Tags\"]]) for eqn in row.Equation], axis=1)\n",
    "    subject_relabel = pd.DataFrame(post_rows, columns=[\"Equation\", \"Label\", \"Cluster_label\", \"Id\", \"Tags\"])\n",
    "    end = time.time()\n",
    "    print(len(subject_relabel.index))\n",
    "    print((end-start)/60.0)\n",
    "\n",
    "    start = time.time()\n",
    "    subject_relabel.to_csv(\"../data/equation/\" + subject_string + \"_post_eq_tag_id.csv\", index = False)\n",
    "    end = time.time()\n",
    "    print((end-start)/60.0)"
   ]
  },
  {
   "cell_type": "code",
   "execution_count": 14,
   "metadata": {},
   "outputs": [],
   "source": [
    "# chemistry with count vectorizer and cluster in 4 groups"
   ]
  },
  {
   "cell_type": "code",
   "execution_count": 15,
   "metadata": {},
   "outputs": [],
   "source": [
    "# subject = pd.read_csv(\"../data/equation/chemistry_post_eq.csv\", lineterminator='\\n')\n",
    "# #subject.Equation = subject.Equation.apply(lambda x: literal_eval(x))\n",
    "# subject = subject[['Id', 'Tags', 'Equation', 'Label']]\n",
    "# # drop nan values\n",
    "# subject.dropna(inplace = True)\n",
    "# subject.reset_index(drop = True, inplace = True)\n",
    "# subject['Tags'] = subject['Tags'].astype(str)\n",
    "# subject['Tag_list'] = subject.apply(lambda row: re.findall(pattern, row.Tags), axis=1)"
   ]
  },
  {
   "cell_type": "code",
   "execution_count": 16,
   "metadata": {},
   "outputs": [],
   "source": [
    "# chemistry = cluster(\"chemistry\", 4)"
   ]
  },
  {
   "cell_type": "code",
   "execution_count": 17,
   "metadata": {},
   "outputs": [],
   "source": [
    "# chemistry['Cluster_label'] = chemistry.Cluster_label.map({0:\"chemistry-everything-else\", 1:\"inorganic-chemistry\", \n",
    "#                            2: \"chemistry-acid-base\", 3:\"organic-chemistry\"})"
   ]
  },
  {
   "cell_type": "code",
   "execution_count": 18,
   "metadata": {},
   "outputs": [],
   "source": [
    "# chemistry.groupby(['Cluster_label'])['Cluster_label'].count()"
   ]
  },
  {
   "cell_type": "code",
   "execution_count": 19,
   "metadata": {},
   "outputs": [],
   "source": [
    "# df_list = k_means_res(chemistry, 4)\n",
    "# for i in range(4):\n",
    "#     print(df_list[i].head(10))\n",
    "#     print(\"\\n\")"
   ]
  },
  {
   "cell_type": "code",
   "execution_count": 20,
   "metadata": {},
   "outputs": [],
   "source": [
    "# save_result(chemistry, \"chemistry\")"
   ]
  },
  {
   "cell_type": "markdown",
   "metadata": {},
   "source": [
    "# Now generate the data with the cluster label"
   ]
  },
  {
   "cell_type": "markdown",
   "metadata": {},
   "source": [
    "## physics with count vectorizer and cluster in 4 groups"
   ]
  },
  {
   "cell_type": "code",
   "execution_count": 39,
   "metadata": {},
   "outputs": [
    {
     "name": "stdout",
     "output_type": "stream",
     "text": [
      "electromagnetism\n",
      "\n",
      "\n",
      "homework-and-exercises\n",
      "\n",
      "\n",
      "quantum-mechanics\n",
      "\n",
      "\n",
      "quantum-field-theory\n",
      "\n",
      "\n"
     ]
    }
   ],
   "source": [
    "physics = cluster(\"physics\", 4)"
   ]
  },
  {
   "cell_type": "code",
   "execution_count": 40,
   "metadata": {},
   "outputs": [
    {
     "name": "stdout",
     "output_type": "stream",
     "text": [
      "                                Tag_str  count\n",
      "21736                    thermodynamics    426\n",
      "4335                   electromagnetism    326\n",
      "18703                special-relativity    218\n",
      "20182             statistical-mechanics    166\n",
      "9089                 general-relativity    140\n",
      "7884                     fluid-dynamics    137\n",
      "13500               newtonian-mechanics    129\n",
      "5411   electromagnetism,magnetic-fields    115\n",
      "6389                     electrostatics    108\n",
      "883                 classical-mechanics    107\n",
      "\n",
      "\n",
      "                                                Tag_str  count\n",
      "2956         homework-and-exercises,newtonian-mechanics    182\n",
      "4884              homework-and-exercises,thermodynamics    126\n",
      "894             homework-and-exercises,electromagnetism    101\n",
      "2428                  homework-and-exercises,kinematics    101\n",
      "1299              homework-and-exercises,electrostatics     78\n",
      "4418          homework-and-exercises,special-relativity     76\n",
      "3246  homework-and-exercises,newtonian-mechanics,forces     56\n",
      "2497       homework-and-exercises,kinematics,projectile     55\n",
      "231          homework-and-exercises,classical-mechanics     45\n",
      "3596  homework-and-exercises,newtonian-mechanics,mom...     40\n",
      "\n",
      "\n",
      "                                                Tag_str  count\n",
      "4                                     quantum-mechanics    402\n",
      "1805           quantum-mechanics,homework-and-exercises    122\n",
      "3897              quantum-mechanics,quantum-information    104\n",
      "3073                        quantum-mechanics,operators     71\n",
      "4396            quantum-mechanics,schroedinger-equation     65\n",
      "1512  quantum-mechanics,heisenberg-uncertainty-princ...     64\n",
      "3645              quantum-mechanics,perturbation-theory     57\n",
      "4187                     quantum-mechanics,quantum-spin     57\n",
      "4032  quantum-mechanics,quantum-information,quantum-...     48\n",
      "3162          quantum-mechanics,operators,hilbert-space     46\n",
      "\n",
      "\n",
      "                                           Tag_str  count\n",
      "286                           quantum-field-theory    179\n",
      "2440          quantum-field-theory,renormalization     72\n",
      "3415        quantum-mechanics,quantum-field-theory     45\n",
      "794          quantum-field-theory,feynman-diagrams     41\n",
      "40     homework-and-exercises,quantum-field-theory     28\n",
      "500    quantum-field-theory,conformal-field-theory     25\n",
      "3106            quantum-field-theory,supersymmetry     25\n",
      "2299  quantum-field-theory,quantum-electrodynamics     20\n",
      "1361    quantum-field-theory,klein-gordon-equation     19\n",
      "1863         quantum-field-theory,particle-physics     18\n",
      "\n",
      "\n"
     ]
    }
   ],
   "source": [
    "df_list = k_means_res(physics, 4)\n",
    "for i in range(4):\n",
    "    print(df_list[i].head(10))\n",
    "    print(\"\\n\")"
   ]
  },
  {
   "cell_type": "code",
   "execution_count": 41,
   "metadata": {},
   "outputs": [
    {
     "data": {
      "text/plain": [
       "Cluster_label\n",
       "0    35868\n",
       "1     9371\n",
       "2     9433\n",
       "3     5212\n",
       "Name: Cluster_label, dtype: int64"
      ]
     },
     "execution_count": 41,
     "metadata": {},
     "output_type": "execute_result"
    }
   ],
   "source": [
    "physics.groupby(['Cluster_label'])['Cluster_label'].count()"
   ]
  },
  {
   "cell_type": "markdown",
   "metadata": {},
   "source": [
    "## since homework and exercise is also everything else, so both 0 and 1 are mapping to everything else"
   ]
  },
  {
   "cell_type": "code",
   "execution_count": 46,
   "metadata": {},
   "outputs": [],
   "source": [
    "physics['Cluster_label'] = physics.Cluster_label.map({0:\"physics-everything-else\", 1:\"physics-everything-else\", \n",
    "                           2: \"physics-quantum-mechanics\", 3:\"quantum-field-theory\"})"
   ]
  },
  {
   "cell_type": "code",
   "execution_count": 47,
   "metadata": {},
   "outputs": [
    {
     "data": {
      "text/html": [
       "<div>\n",
       "<style scoped>\n",
       "    .dataframe tbody tr th:only-of-type {\n",
       "        vertical-align: middle;\n",
       "    }\n",
       "\n",
       "    .dataframe tbody tr th {\n",
       "        vertical-align: top;\n",
       "    }\n",
       "\n",
       "    .dataframe thead th {\n",
       "        text-align: right;\n",
       "    }\n",
       "</style>\n",
       "<table border=\"1\" class=\"dataframe\">\n",
       "  <thead>\n",
       "    <tr style=\"text-align: right;\">\n",
       "      <th></th>\n",
       "      <th>Id</th>\n",
       "      <th>Tags</th>\n",
       "      <th>Equation</th>\n",
       "      <th>Label</th>\n",
       "      <th>Tag_list</th>\n",
       "      <th>Tag_str</th>\n",
       "      <th>Cluster_label</th>\n",
       "    </tr>\n",
       "  </thead>\n",
       "  <tbody>\n",
       "    <tr>\n",
       "      <th>0</th>\n",
       "      <td>29</td>\n",
       "      <td>&lt;homework-and-exercises&gt;&lt;kinematics&gt;&lt;speed&gt;</td>\n",
       "      <td>[\\frac{40\\ \\text{mph} +60\\ \\text{mph}}{2} = 50...</td>\n",
       "      <td>physics</td>\n",
       "      <td>[homework-and-exercises, kinematics, speed]</td>\n",
       "      <td>homework-and-exercises,kinematics,speed</td>\n",
       "      <td>physics-everything-else</td>\n",
       "    </tr>\n",
       "    <tr>\n",
       "      <th>1</th>\n",
       "      <td>93</td>\n",
       "      <td>&lt;electrostatics&gt;&lt;spacetime&gt;&lt;spacetime-dimensio...</td>\n",
       "      <td>[\\frac{1}{r^2}, \\frac{1}{r^2}]</td>\n",
       "      <td>physics</td>\n",
       "      <td>[electrostatics, spacetime, spacetime-dimensio...</td>\n",
       "      <td>electrostatics,spacetime,spacetime-dimensions,...</td>\n",
       "      <td>physics-everything-else</td>\n",
       "    </tr>\n",
       "    <tr>\n",
       "      <th>2</th>\n",
       "      <td>100</td>\n",
       "      <td>&lt;nuclear-physics&gt;&lt;nuclear-engineering&gt;</td>\n",
       "      <td>[^{235}]</td>\n",
       "      <td>physics</td>\n",
       "      <td>[nuclear-physics, nuclear-engineering]</td>\n",
       "      <td>nuclear-physics,nuclear-engineering</td>\n",
       "      <td>physics-everything-else</td>\n",
       "    </tr>\n",
       "    <tr>\n",
       "      <th>3</th>\n",
       "      <td>122</td>\n",
       "      <td>&lt;quantum-mechanics&gt;&lt;particle-physics&gt;&lt;mass&gt;&lt;di...</td>\n",
       "      <td>[x, y, z]</td>\n",
       "      <td>physics</td>\n",
       "      <td>[quantum-mechanics, particle-physics, mass, di...</td>\n",
       "      <td>quantum-mechanics,particle-physics,mass,discre...</td>\n",
       "      <td>physics-quantum-mechanics</td>\n",
       "    </tr>\n",
       "    <tr>\n",
       "      <th>4</th>\n",
       "      <td>139</td>\n",
       "      <td>&lt;particle-physics&gt;&lt;experimental-physics&gt;&lt;mass&gt;...</td>\n",
       "      <td>[c]</td>\n",
       "      <td>physics</td>\n",
       "      <td>[particle-physics, experimental-physics, mass,...</td>\n",
       "      <td>particle-physics,experimental-physics,mass,neu...</td>\n",
       "      <td>physics-everything-else</td>\n",
       "    </tr>\n",
       "  </tbody>\n",
       "</table>\n",
       "</div>"
      ],
      "text/plain": [
       "    Id                                               Tags  \\\n",
       "0   29        <homework-and-exercises><kinematics><speed>   \n",
       "1   93  <electrostatics><spacetime><spacetime-dimensio...   \n",
       "2  100             <nuclear-physics><nuclear-engineering>   \n",
       "3  122  <quantum-mechanics><particle-physics><mass><di...   \n",
       "4  139  <particle-physics><experimental-physics><mass>...   \n",
       "\n",
       "                                            Equation    Label  \\\n",
       "0  [\\frac{40\\ \\text{mph} +60\\ \\text{mph}}{2} = 50...  physics   \n",
       "1                     [\\frac{1}{r^2}, \\frac{1}{r^2}]  physics   \n",
       "2                                           [^{235}]  physics   \n",
       "3                                          [x, y, z]  physics   \n",
       "4                                                [c]  physics   \n",
       "\n",
       "                                            Tag_list  \\\n",
       "0        [homework-and-exercises, kinematics, speed]   \n",
       "1  [electrostatics, spacetime, spacetime-dimensio...   \n",
       "2             [nuclear-physics, nuclear-engineering]   \n",
       "3  [quantum-mechanics, particle-physics, mass, di...   \n",
       "4  [particle-physics, experimental-physics, mass,...   \n",
       "\n",
       "                                             Tag_str  \\\n",
       "0            homework-and-exercises,kinematics,speed   \n",
       "1  electrostatics,spacetime,spacetime-dimensions,...   \n",
       "2                nuclear-physics,nuclear-engineering   \n",
       "3  quantum-mechanics,particle-physics,mass,discre...   \n",
       "4  particle-physics,experimental-physics,mass,neu...   \n",
       "\n",
       "               Cluster_label  \n",
       "0    physics-everything-else  \n",
       "1    physics-everything-else  \n",
       "2    physics-everything-else  \n",
       "3  physics-quantum-mechanics  \n",
       "4    physics-everything-else  "
      ]
     },
     "execution_count": 47,
     "metadata": {},
     "output_type": "execute_result"
    }
   ],
   "source": [
    "physics.head()"
   ]
  },
  {
   "cell_type": "code",
   "execution_count": 48,
   "metadata": {},
   "outputs": [],
   "source": [
    "import time"
   ]
  },
  {
   "cell_type": "code",
   "execution_count": 49,
   "metadata": {},
   "outputs": [
    {
     "name": "stdout",
     "output_type": "stream",
     "text": [
      "444180\n",
      "0.2762046456336975\n",
      "0.032297158241271974\n"
     ]
    }
   ],
   "source": [
    "save_result(physics, \"physics\")"
   ]
  },
  {
   "cell_type": "markdown",
   "metadata": {},
   "source": [
    "# since biology dataset is small, we don't do the clustering, just keep the cluster label as \"biology\""
   ]
  },
  {
   "cell_type": "code",
   "execution_count": 50,
   "metadata": {},
   "outputs": [],
   "source": [
    "biology = pd.read_csv(\"../data/equation/biology_post_eq.csv\", lineterminator='\\n')\n",
    "biology.Equation = biology.Equation.apply(lambda x: literal_eval(x))\n",
    "biology['Cluster_label'] = 'biology'"
   ]
  },
  {
   "cell_type": "code",
   "execution_count": 51,
   "metadata": {},
   "outputs": [
    {
     "data": {
      "text/html": [
       "<div>\n",
       "<style scoped>\n",
       "    .dataframe tbody tr th:only-of-type {\n",
       "        vertical-align: middle;\n",
       "    }\n",
       "\n",
       "    .dataframe tbody tr th {\n",
       "        vertical-align: top;\n",
       "    }\n",
       "\n",
       "    .dataframe thead th {\n",
       "        text-align: right;\n",
       "    }\n",
       "</style>\n",
       "<table border=\"1\" class=\"dataframe\">\n",
       "  <thead>\n",
       "    <tr style=\"text-align: right;\">\n",
       "      <th></th>\n",
       "      <th>AcceptedAnswerId</th>\n",
       "      <th>AnswerCount</th>\n",
       "      <th>Body</th>\n",
       "      <th>ClosedDate</th>\n",
       "      <th>CommentCount</th>\n",
       "      <th>CommunityOwnedDate</th>\n",
       "      <th>CreationDate</th>\n",
       "      <th>FavoriteCount</th>\n",
       "      <th>Id</th>\n",
       "      <th>LastActivityDate</th>\n",
       "      <th>...</th>\n",
       "      <th>OwnerUserId</th>\n",
       "      <th>ParentId</th>\n",
       "      <th>PostTypeId</th>\n",
       "      <th>Score</th>\n",
       "      <th>Tags</th>\n",
       "      <th>Title</th>\n",
       "      <th>ViewCount</th>\n",
       "      <th>Equation</th>\n",
       "      <th>Label</th>\n",
       "      <th>Cluster_label</th>\n",
       "    </tr>\n",
       "  </thead>\n",
       "  <tbody>\n",
       "    <tr>\n",
       "      <th>0</th>\n",
       "      <td>NaN</td>\n",
       "      <td>NaN</td>\n",
       "      <td>&lt;p&gt;The protocol I used in my genetics lab cour...</td>\n",
       "      <td>NaN</td>\n",
       "      <td>3</td>\n",
       "      <td>NaN</td>\n",
       "      <td>2011-12-14T23:09:01.833</td>\n",
       "      <td>NaN</td>\n",
       "      <td>47</td>\n",
       "      <td>2011-12-14T23:09:01.833</td>\n",
       "      <td>...</td>\n",
       "      <td>25.0</td>\n",
       "      <td>38.0</td>\n",
       "      <td>2</td>\n",
       "      <td>7</td>\n",
       "      <td>NaN</td>\n",
       "      <td>NaN</td>\n",
       "      <td>NaN</td>\n",
       "      <td>[]</td>\n",
       "      <td>biology</td>\n",
       "      <td>biology</td>\n",
       "    </tr>\n",
       "    <tr>\n",
       "      <th>1</th>\n",
       "      <td>NaN</td>\n",
       "      <td>NaN</td>\n",
       "      <td>&lt;p&gt;How well is gene A annotated? Do you have t...</td>\n",
       "      <td>NaN</td>\n",
       "      <td>1</td>\n",
       "      <td>NaN</td>\n",
       "      <td>2011-12-16T18:58:10.430</td>\n",
       "      <td>NaN</td>\n",
       "      <td>164</td>\n",
       "      <td>2011-12-16T18:58:10.430</td>\n",
       "      <td>...</td>\n",
       "      <td>28.0</td>\n",
       "      <td>58.0</td>\n",
       "      <td>2</td>\n",
       "      <td>3</td>\n",
       "      <td>NaN</td>\n",
       "      <td>NaN</td>\n",
       "      <td>NaN</td>\n",
       "      <td>[]</td>\n",
       "      <td>biology</td>\n",
       "      <td>biology</td>\n",
       "    </tr>\n",
       "    <tr>\n",
       "      <th>2</th>\n",
       "      <td>NaN</td>\n",
       "      <td>2.0</td>\n",
       "      <td>&lt;p&gt;I have to isolate a large plasmid from yeas...</td>\n",
       "      <td>NaN</td>\n",
       "      <td>0</td>\n",
       "      <td>NaN</td>\n",
       "      <td>2011-12-16T20:14:50.447</td>\n",
       "      <td>NaN</td>\n",
       "      <td>169</td>\n",
       "      <td>2012-02-21T18:35:23.723</td>\n",
       "      <td>...</td>\n",
       "      <td>28.0</td>\n",
       "      <td>NaN</td>\n",
       "      <td>1</td>\n",
       "      <td>8</td>\n",
       "      <td>&lt;molecular-biology&gt;&lt;yeast&gt;&lt;dna-isolation&gt;</td>\n",
       "      <td>What is causing my problem with very low yield...</td>\n",
       "      <td>1975.0</td>\n",
       "      <td>[]</td>\n",
       "      <td>biology</td>\n",
       "      <td>biology</td>\n",
       "    </tr>\n",
       "    <tr>\n",
       "      <th>3</th>\n",
       "      <td>NaN</td>\n",
       "      <td>1.0</td>\n",
       "      <td>&lt;p&gt;It's known (&lt;a href=\"http://ad-teaching.inf...</td>\n",
       "      <td>NaN</td>\n",
       "      <td>0</td>\n",
       "      <td>NaN</td>\n",
       "      <td>2012-01-02T23:50:18.883</td>\n",
       "      <td>NaN</td>\n",
       "      <td>424</td>\n",
       "      <td>2014-05-29T22:55:39.853</td>\n",
       "      <td>...</td>\n",
       "      <td>194.0</td>\n",
       "      <td>NaN</td>\n",
       "      <td>1</td>\n",
       "      <td>11</td>\n",
       "      <td>&lt;human-biology&gt;&lt;neuroscience&gt;</td>\n",
       "      <td>What would be the conduction speed of A-alpha ...</td>\n",
       "      <td>265.0</td>\n",
       "      <td>[v = 6d, v, d, v = \\sqrt{\\frac{i_\\text{Na max}...</td>\n",
       "      <td>biology</td>\n",
       "      <td>biology</td>\n",
       "    </tr>\n",
       "    <tr>\n",
       "      <th>4</th>\n",
       "      <td>NaN</td>\n",
       "      <td>NaN</td>\n",
       "      <td>&lt;p&gt;Oxygen is actually highly toxic to cells an...</td>\n",
       "      <td>NaN</td>\n",
       "      <td>1</td>\n",
       "      <td>NaN</td>\n",
       "      <td>2012-01-03T22:32:43.140</td>\n",
       "      <td>NaN</td>\n",
       "      <td>456</td>\n",
       "      <td>2015-06-12T13:38:57.583</td>\n",
       "      <td>...</td>\n",
       "      <td>166.0</td>\n",
       "      <td>452.0</td>\n",
       "      <td>2</td>\n",
       "      <td>27</td>\n",
       "      <td>NaN</td>\n",
       "      <td>NaN</td>\n",
       "      <td>NaN</td>\n",
       "      <td>[\\ce{O2}, \\ce{C_6H12O6 + 6 O2 -&amp;gt; 6 CO2 + 6 ...</td>\n",
       "      <td>biology</td>\n",
       "      <td>biology</td>\n",
       "    </tr>\n",
       "  </tbody>\n",
       "</table>\n",
       "<p>5 rows × 24 columns</p>\n",
       "</div>"
      ],
      "text/plain": [
       "   AcceptedAnswerId  AnswerCount  \\\n",
       "0               NaN          NaN   \n",
       "1               NaN          NaN   \n",
       "2               NaN          2.0   \n",
       "3               NaN          1.0   \n",
       "4               NaN          NaN   \n",
       "\n",
       "                                                Body ClosedDate  CommentCount  \\\n",
       "0  <p>The protocol I used in my genetics lab cour...        NaN             3   \n",
       "1  <p>How well is gene A annotated? Do you have t...        NaN             1   \n",
       "2  <p>I have to isolate a large plasmid from yeas...        NaN             0   \n",
       "3  <p>It's known (<a href=\"http://ad-teaching.inf...        NaN             0   \n",
       "4  <p>Oxygen is actually highly toxic to cells an...        NaN             1   \n",
       "\n",
       "  CommunityOwnedDate             CreationDate  FavoriteCount   Id  \\\n",
       "0                NaN  2011-12-14T23:09:01.833            NaN   47   \n",
       "1                NaN  2011-12-16T18:58:10.430            NaN  164   \n",
       "2                NaN  2011-12-16T20:14:50.447            NaN  169   \n",
       "3                NaN  2012-01-02T23:50:18.883            NaN  424   \n",
       "4                NaN  2012-01-03T22:32:43.140            NaN  456   \n",
       "\n",
       "          LastActivityDate  ... OwnerUserId ParentId  PostTypeId Score  \\\n",
       "0  2011-12-14T23:09:01.833  ...        25.0     38.0           2     7   \n",
       "1  2011-12-16T18:58:10.430  ...        28.0     58.0           2     3   \n",
       "2  2012-02-21T18:35:23.723  ...        28.0      NaN           1     8   \n",
       "3  2014-05-29T22:55:39.853  ...       194.0      NaN           1    11   \n",
       "4  2015-06-12T13:38:57.583  ...       166.0    452.0           2    27   \n",
       "\n",
       "                                        Tags  \\\n",
       "0                                        NaN   \n",
       "1                                        NaN   \n",
       "2  <molecular-biology><yeast><dna-isolation>   \n",
       "3              <human-biology><neuroscience>   \n",
       "4                                        NaN   \n",
       "\n",
       "                                               Title  ViewCount  \\\n",
       "0                                                NaN        NaN   \n",
       "1                                                NaN        NaN   \n",
       "2  What is causing my problem with very low yield...     1975.0   \n",
       "3  What would be the conduction speed of A-alpha ...      265.0   \n",
       "4                                                NaN        NaN   \n",
       "\n",
       "                                            Equation    Label Cluster_label  \n",
       "0                                                 []  biology       biology  \n",
       "1                                                 []  biology       biology  \n",
       "2                                                 []  biology       biology  \n",
       "3  [v = 6d, v, d, v = \\sqrt{\\frac{i_\\text{Na max}...  biology       biology  \n",
       "4  [\\ce{O2}, \\ce{C_6H12O6 + 6 O2 -&gt; 6 CO2 + 6 ...  biology       biology  \n",
       "\n",
       "[5 rows x 24 columns]"
      ]
     },
     "execution_count": 51,
     "metadata": {},
     "output_type": "execute_result"
    }
   ],
   "source": [
    "biology.head()"
   ]
  },
  {
   "cell_type": "code",
   "execution_count": 52,
   "metadata": {},
   "outputs": [],
   "source": [
    "biology = biology[biology.apply(lambda row: len(row.Equation) > 0, axis = 1)]"
   ]
  },
  {
   "cell_type": "code",
   "execution_count": 53,
   "metadata": {},
   "outputs": [
    {
     "name": "stdout",
     "output_type": "stream",
     "text": [
      "12571\n",
      "0.007651404539744059\n",
      "0.0006442824999491374\n"
     ]
    }
   ],
   "source": [
    "save_result(biology, \"biology\")"
   ]
  },
  {
   "cell_type": "markdown",
   "metadata": {},
   "source": [
    "## for chemistry since data is not so many, we don't do clustering too. "
   ]
  },
  {
   "cell_type": "code",
   "execution_count": 54,
   "metadata": {},
   "outputs": [],
   "source": [
    "chemistry = pd.read_csv(\"../data/equation/chemistry_post_eq.csv\", lineterminator='\\n')\n",
    "chemistry.Equation = chemistry.Equation.apply(lambda x: literal_eval(x))\n",
    "chemistry['Cluster_label'] = 'chemistry'"
   ]
  },
  {
   "cell_type": "code",
   "execution_count": 55,
   "metadata": {},
   "outputs": [],
   "source": [
    "chemistry = chemistry[chemistry.apply(lambda row: len(row.Equation) > 0, axis = 1)]"
   ]
  },
  {
   "cell_type": "code",
   "execution_count": 56,
   "metadata": {},
   "outputs": [
    {
     "name": "stdout",
     "output_type": "stream",
     "text": [
      "199533\n",
      "0.1768013596534729\n",
      "0.010753365357716878\n"
     ]
    }
   ],
   "source": [
    "save_result(chemistry, \"chemistry\")"
   ]
  },
  {
   "cell_type": "code",
   "execution_count": null,
   "metadata": {},
   "outputs": [],
   "source": []
  }
 ],
 "metadata": {
  "kernelspec": {
   "display_name": "Python 3",
   "language": "python",
   "name": "python3"
  },
  "language_info": {
   "codemirror_mode": {
    "name": "ipython",
    "version": 3
   },
   "file_extension": ".py",
   "mimetype": "text/x-python",
   "name": "python",
   "nbconvert_exporter": "python",
   "pygments_lexer": "ipython3",
   "version": "3.7.3"
  }
 },
 "nbformat": 4,
 "nbformat_minor": 2
}

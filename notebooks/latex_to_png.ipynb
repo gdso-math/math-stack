{
 "cells": [
  {
   "cell_type": "code",
   "execution_count": 1,
   "metadata": {},
   "outputs": [],
   "source": [
    "import pandas as pd\n",
    "import time\n",
    "from concurrent.futures import ThreadPoolExecutor\n",
    "import os, requests"
   ]
  },
  {
   "cell_type": "code",
   "execution_count": 2,
   "metadata": {},
   "outputs": [],
   "source": [
    "def formula_as_file( formula, file, negate=False ):\n",
    "    tfile = file\n",
    "    if negate:\n",
    "        tfile = 'tmp.png'\n",
    "    r = requests.get( 'http://latex.codecogs.com/png.latex?\\dpi{300} \\huge %s' % formula )\n",
    "    f = open( tfile, 'wb' )\n",
    "    f.write( r.content )\n",
    "    f.close()\n",
    "    if negate:\n",
    "        os.system( 'convert tmp.png -channel RGB -negate -colorspace rgb %s' %file )"
   ]
  },
  {
   "cell_type": "code",
   "execution_count": 3,
   "metadata": {},
   "outputs": [],
   "source": [
    "chem = pd.read_csv(\"../data/equation/chemistry_post_eq_filtered_id.csv\", lineterminator='\\n')\n",
    "physics = pd.read_csv(\"../data/equation/physics_post_eq_filtered_id.csv\", lineterminator='\\n')\n",
    "bio = pd.read_csv(\"../data/equation/biology_post_eq_filtered_id.csv\", lineterminator='\\n')\n",
    "#math = pd.read_csv(\"../data/equation/math_post_eq_filtered_id.csv\", lineterminator='\\n')"
   ]
  },
  {
   "cell_type": "code",
   "execution_count": 4,
   "metadata": {},
   "outputs": [
    {
     "name": "stdout",
     "output_type": "stream",
     "text": [
      "309\n"
     ]
    }
   ],
   "source": [
    "#pruning - delete nan values\n",
    "count = 0\n",
    "for text in physics[\"Equation\"]:\n",
    "    if not isinstance(text, str):\n",
    "        count += 1\n",
    "print(count)"
   ]
  },
  {
   "cell_type": "code",
   "execution_count": 5,
   "metadata": {},
   "outputs": [],
   "source": [
    "bio = bio.loc[bio.Equation.apply(type) != float]\n",
    "chem = chem.loc[chem.Equation.apply(type) != float]\n",
    "physics = physics.loc[physics.Equation.apply(type) != float]"
   ]
  },
  {
   "cell_type": "code",
   "execution_count": 6,
   "metadata": {},
   "outputs": [],
   "source": [
    "#check out lengths of equations, delete everything 2 characters or less\n",
    "bio_lens = []\n",
    "chem_lens = []\n",
    "physics_lens = []\n",
    "for text in bio[\"Equation\"]:\n",
    "    bio_lens.append(len(text))\n",
    "for text in chem[\"Equation\"]:\n",
    "    chem_lens.append(len(text))\n",
    "for text in physics[\"Equation\"]:\n",
    "    physics_lens.append(len(text))"
   ]
  },
  {
   "cell_type": "code",
   "execution_count": 7,
   "metadata": {},
   "outputs": [
    {
     "data": {
      "text/plain": [
       "9591"
      ]
     },
     "execution_count": 7,
     "metadata": {},
     "output_type": "execute_result"
    }
   ],
   "source": [
    "len(bio.index) - bio_lens.count(1) - bio_lens.count(2)"
   ]
  },
  {
   "cell_type": "code",
   "execution_count": 8,
   "metadata": {},
   "outputs": [
    {
     "data": {
      "text/plain": [
       "9591"
      ]
     },
     "execution_count": 8,
     "metadata": {},
     "output_type": "execute_result"
    }
   ],
   "source": [
    "bio = bio.loc[bio.Equation.apply(len) > 2]\n",
    "len(bio.index)"
   ]
  },
  {
   "cell_type": "code",
   "execution_count": 9,
   "metadata": {},
   "outputs": [
    {
     "data": {
      "text/plain": [
       "180156"
      ]
     },
     "execution_count": 9,
     "metadata": {},
     "output_type": "execute_result"
    }
   ],
   "source": [
    "len(chem.index) - chem_lens.count(1) - chem_lens.count(2)"
   ]
  },
  {
   "cell_type": "code",
   "execution_count": 10,
   "metadata": {},
   "outputs": [
    {
     "data": {
      "text/plain": [
       "180156"
      ]
     },
     "execution_count": 10,
     "metadata": {},
     "output_type": "execute_result"
    }
   ],
   "source": [
    "chem = chem.loc[chem.Equation.apply(len) > 2]\n",
    "len(chem.index)"
   ]
  },
  {
   "cell_type": "code",
   "execution_count": 11,
   "metadata": {},
   "outputs": [
    {
     "data": {
      "text/plain": [
       "1065471"
      ]
     },
     "execution_count": 11,
     "metadata": {},
     "output_type": "execute_result"
    }
   ],
   "source": [
    "len(physics.index) - physics_lens.count(1) - physics_lens.count(2)"
   ]
  },
  {
   "cell_type": "code",
   "execution_count": 12,
   "metadata": {},
   "outputs": [
    {
     "data": {
      "text/plain": [
       "1065471"
      ]
     },
     "execution_count": 12,
     "metadata": {},
     "output_type": "execute_result"
    }
   ],
   "source": [
    "physics = physics.loc[physics.Equation.apply(len) > 2]\n",
    "len(physics.index)"
   ]
  },
  {
   "cell_type": "code",
   "execution_count": 13,
   "metadata": {},
   "outputs": [
    {
     "name": "stdout",
     "output_type": "stream",
     "text": [
      "9001\n"
     ]
    }
   ],
   "source": [
    "#eliminate chemical equations for now\n",
    "count = 0\n",
    "for text in bio.Equation:\n",
    "    if \"ce{\" in text:\n",
    "        count += 1\n",
    "print(len(bio.index) - count)"
   ]
  },
  {
   "cell_type": "code",
   "execution_count": 14,
   "metadata": {
    "scrolled": true
   },
   "outputs": [
    {
     "name": "stdout",
     "output_type": "stream",
     "text": [
      "9001\n"
     ]
    }
   ],
   "source": [
    "bio = bio[~bio.Equation.str.contains(\"ce{\")]\n",
    "print(len(bio.index))"
   ]
  },
  {
   "cell_type": "code",
   "execution_count": 15,
   "metadata": {},
   "outputs": [
    {
     "name": "stdout",
     "output_type": "stream",
     "text": [
      "90860\n"
     ]
    }
   ],
   "source": [
    "count = 0\n",
    "for text in chem.Equation:\n",
    "    if \"ce{\" in text:\n",
    "        count += 1\n",
    "print(len(chem.index) - count)"
   ]
  },
  {
   "cell_type": "code",
   "execution_count": 16,
   "metadata": {},
   "outputs": [
    {
     "name": "stdout",
     "output_type": "stream",
     "text": [
      "90860\n"
     ]
    }
   ],
   "source": [
    "chem = chem[~chem.Equation.str.contains(\"ce{\")]\n",
    "print(len(chem.index))"
   ]
  },
  {
   "cell_type": "code",
   "execution_count": 17,
   "metadata": {},
   "outputs": [
    {
     "name": "stdout",
     "output_type": "stream",
     "text": [
      "1064429\n",
      "1064429\n"
     ]
    }
   ],
   "source": [
    "count = 0\n",
    "for text in physics.Equation:\n",
    "    if \"ce{\" in text:\n",
    "        count += 1\n",
    "print(len(physics.index) - count)\n",
    "physics = physics[~physics.Equation.str.contains(\"ce{\")]\n",
    "print(len(physics.index))"
   ]
  },
  {
   "cell_type": "code",
   "execution_count": 18,
   "metadata": {},
   "outputs": [],
   "source": [
    "#generate equation filenames\n",
    "bio_lst = []\n",
    "_ = bio.apply(lambda row: [bio_lst.append(str(row.name) + \"_\" + str(row[\"Label\"]) + \"_\" + str(row[\"Id\"]))], axis=1)\n",
    "                                                       \n",
    "                            "
   ]
  },
  {
   "cell_type": "code",
   "execution_count": 20,
   "metadata": {},
   "outputs": [],
   "source": [
    "bio[\"FileName\"] = bio_lst"
   ]
  },
  {
   "cell_type": "code",
   "execution_count": 21,
   "metadata": {},
   "outputs": [
    {
     "data": {
      "text/html": [
       "<div>\n",
       "<style scoped>\n",
       "    .dataframe tbody tr th:only-of-type {\n",
       "        vertical-align: middle;\n",
       "    }\n",
       "\n",
       "    .dataframe tbody tr th {\n",
       "        vertical-align: top;\n",
       "    }\n",
       "\n",
       "    .dataframe thead th {\n",
       "        text-align: right;\n",
       "    }\n",
       "</style>\n",
       "<table border=\"1\" class=\"dataframe\">\n",
       "  <thead>\n",
       "    <tr style=\"text-align: right;\">\n",
       "      <th></th>\n",
       "      <th>Equation</th>\n",
       "      <th>Label</th>\n",
       "      <th>Id</th>\n",
       "      <th>Tags</th>\n",
       "      <th>FileName</th>\n",
       "    </tr>\n",
       "  </thead>\n",
       "  <tbody>\n",
       "    <tr>\n",
       "      <th>0</th>\n",
       "      <td>v = 6d</td>\n",
       "      <td>biology</td>\n",
       "      <td>424</td>\n",
       "      <td>&lt;human-biology&gt;&lt;neuroscience&gt;</td>\n",
       "      <td>0_biology_424</td>\n",
       "    </tr>\n",
       "    <tr>\n",
       "      <th>3</th>\n",
       "      <td>v = \\sqrt{\\frac{i_\\text{Na max}}{r_i c_m^2 V_\\...</td>\n",
       "      <td>biology</td>\n",
       "      <td>424</td>\n",
       "      <td>&lt;human-biology&gt;&lt;neuroscience&gt;</td>\n",
       "      <td>3_biology_424</td>\n",
       "    </tr>\n",
       "    <tr>\n",
       "      <th>6</th>\n",
       "      <td>V_d=k\\frac{\\large a.([C_2]-[C_1])}{\\large l}</td>\n",
       "      <td>biology</td>\n",
       "      <td>1000</td>\n",
       "      <td>NaN</td>\n",
       "      <td>6_biology_1000</td>\n",
       "    </tr>\n",
       "    <tr>\n",
       "      <th>7</th>\n",
       "      <td>counts, mids=h</td>\n",
       "      <td>biology</td>\n",
       "      <td>1207</td>\n",
       "      <td>NaN</td>\n",
       "      <td>7_biology_1207</td>\n",
       "    </tr>\n",
       "    <tr>\n",
       "      <th>8</th>\n",
       "      <td>even &amp;lt;- (df</td>\n",
       "      <td>biology</td>\n",
       "      <td>1207</td>\n",
       "      <td>NaN</td>\n",
       "      <td>8_biology_1207</td>\n",
       "    </tr>\n",
       "  </tbody>\n",
       "</table>\n",
       "</div>"
      ],
      "text/plain": [
       "                                            Equation    Label    Id  \\\n",
       "0                                             v = 6d  biology   424   \n",
       "3  v = \\sqrt{\\frac{i_\\text{Na max}}{r_i c_m^2 V_\\...  biology   424   \n",
       "6       V_d=k\\frac{\\large a.([C_2]-[C_1])}{\\large l}  biology  1000   \n",
       "7                                     counts, mids=h  biology  1207   \n",
       "8                                     even &lt;- (df  biology  1207   \n",
       "\n",
       "                            Tags        FileName  \n",
       "0  <human-biology><neuroscience>   0_biology_424  \n",
       "3  <human-biology><neuroscience>   3_biology_424  \n",
       "6                            NaN  6_biology_1000  \n",
       "7                            NaN  7_biology_1207  \n",
       "8                            NaN  8_biology_1207  "
      ]
     },
     "execution_count": 21,
     "metadata": {},
     "output_type": "execute_result"
    }
   ],
   "source": [
    "bio.head()"
   ]
  },
  {
   "cell_type": "code",
   "execution_count": 22,
   "metadata": {},
   "outputs": [],
   "source": [
    "def bio_process(row):\n",
    "    filepath = \"../data/images/bio/\" + row.FileName + \".png\"\n",
    "    formula_as_file(row.Equation, filepath)"
   ]
  },
  {
   "cell_type": "code",
   "execution_count": 23,
   "metadata": {},
   "outputs": [
    {
     "name": "stdout",
     "output_type": "stream",
     "text": [
      "2.3051753560702006\n"
     ]
    }
   ],
   "source": [
    "start = time.time()\n",
    "with ThreadPoolExecutor(max_workers=8) as executor:\n",
    "    [executor.submit(process, row) for i, row in bio.iterrows()]\n",
    "end = time.time()\n",
    "print((end-start)/60.0)"
   ]
  },
  {
   "cell_type": "code",
   "execution_count": 24,
   "metadata": {},
   "outputs": [],
   "source": [
    "def chem_process(row):\n",
    "    filepath = \"../data/images/chem/\" + row.FileName + \".png\"\n",
    "    formula_as_file(row.Equation, filepath)"
   ]
  },
  {
   "cell_type": "code",
   "execution_count": 25,
   "metadata": {},
   "outputs": [
    {
     "data": {
      "text/html": [
       "<div>\n",
       "<style scoped>\n",
       "    .dataframe tbody tr th:only-of-type {\n",
       "        vertical-align: middle;\n",
       "    }\n",
       "\n",
       "    .dataframe tbody tr th {\n",
       "        vertical-align: top;\n",
       "    }\n",
       "\n",
       "    .dataframe thead th {\n",
       "        text-align: right;\n",
       "    }\n",
       "</style>\n",
       "<table border=\"1\" class=\"dataframe\">\n",
       "  <thead>\n",
       "    <tr style=\"text-align: right;\">\n",
       "      <th></th>\n",
       "      <th>Equation</th>\n",
       "      <th>Label</th>\n",
       "      <th>Id</th>\n",
       "      <th>Tags</th>\n",
       "      <th>FileName</th>\n",
       "    </tr>\n",
       "  </thead>\n",
       "  <tbody>\n",
       "    <tr>\n",
       "      <th>0</th>\n",
       "      <td>\\mathrm{NaCl}</td>\n",
       "      <td>chemistry</td>\n",
       "      <td>2</td>\n",
       "      <td>&lt;ions&gt;&lt;crystal-structure&gt;&lt;ionic-compounds&gt;&lt;sol...</td>\n",
       "      <td>0_chemistry_2</td>\n",
       "    </tr>\n",
       "    <tr>\n",
       "      <th>1</th>\n",
       "      <td>\\mathrm{Cl}</td>\n",
       "      <td>chemistry</td>\n",
       "      <td>2</td>\n",
       "      <td>&lt;ions&gt;&lt;crystal-structure&gt;&lt;ionic-compounds&gt;&lt;sol...</td>\n",
       "      <td>1_chemistry_2</td>\n",
       "    </tr>\n",
       "    <tr>\n",
       "      <th>2</th>\n",
       "      <td>\\mathrm{Cl^-}</td>\n",
       "      <td>chemistry</td>\n",
       "      <td>2</td>\n",
       "      <td>&lt;ions&gt;&lt;crystal-structure&gt;&lt;ionic-compounds&gt;&lt;sol...</td>\n",
       "      <td>2_chemistry_2</td>\n",
       "    </tr>\n",
       "    <tr>\n",
       "      <th>3</th>\n",
       "      <td>\\mathrm{Na}</td>\n",
       "      <td>chemistry</td>\n",
       "      <td>2</td>\n",
       "      <td>&lt;ions&gt;&lt;crystal-structure&gt;&lt;ionic-compounds&gt;&lt;sol...</td>\n",
       "      <td>3_chemistry_2</td>\n",
       "    </tr>\n",
       "    <tr>\n",
       "      <th>4</th>\n",
       "      <td>\\mathrm{Na^+}</td>\n",
       "      <td>chemistry</td>\n",
       "      <td>2</td>\n",
       "      <td>&lt;ions&gt;&lt;crystal-structure&gt;&lt;ionic-compounds&gt;&lt;sol...</td>\n",
       "      <td>4_chemistry_2</td>\n",
       "    </tr>\n",
       "  </tbody>\n",
       "</table>\n",
       "</div>"
      ],
      "text/plain": [
       "        Equation      Label  Id  \\\n",
       "0  \\mathrm{NaCl}  chemistry   2   \n",
       "1    \\mathrm{Cl}  chemistry   2   \n",
       "2  \\mathrm{Cl^-}  chemistry   2   \n",
       "3    \\mathrm{Na}  chemistry   2   \n",
       "4  \\mathrm{Na^+}  chemistry   2   \n",
       "\n",
       "                                                Tags       FileName  \n",
       "0  <ions><crystal-structure><ionic-compounds><sol...  0_chemistry_2  \n",
       "1  <ions><crystal-structure><ionic-compounds><sol...  1_chemistry_2  \n",
       "2  <ions><crystal-structure><ionic-compounds><sol...  2_chemistry_2  \n",
       "3  <ions><crystal-structure><ionic-compounds><sol...  3_chemistry_2  \n",
       "4  <ions><crystal-structure><ionic-compounds><sol...  4_chemistry_2  "
      ]
     },
     "execution_count": 25,
     "metadata": {},
     "output_type": "execute_result"
    }
   ],
   "source": [
    "chem_lst = []\n",
    "_ = chem.apply(lambda row: [chem_lst.append(str(row.name) + \"_\" + str(row[\"Label\"]) + \"_\" + str(row[\"Id\"]))], axis=1)\n",
    "chem[\"FileName\"] = chem_lst\n",
    "chem.head()"
   ]
  },
  {
   "cell_type": "code",
   "execution_count": 26,
   "metadata": {},
   "outputs": [
    {
     "name": "stdout",
     "output_type": "stream",
     "text": [
      "90860\n"
     ]
    }
   ],
   "source": [
    "print(len(chem.index))"
   ]
  },
  {
   "cell_type": "code",
   "execution_count": 27,
   "metadata": {},
   "outputs": [
    {
     "name": "stdout",
     "output_type": "stream",
     "text": [
      "37.6723642150561\n"
     ]
    }
   ],
   "source": [
    "start = time.time()\n",
    "with ThreadPoolExecutor(max_workers=8) as executor:\n",
    "    [executor.submit(chem_process, row) for i, row in chem.iterrows()]\n",
    "end = time.time()\n",
    "print((end-start)/60.0)"
   ]
  },
  {
   "cell_type": "code",
   "execution_count": 28,
   "metadata": {},
   "outputs": [],
   "source": [
    "def phys_process(row):\n",
    "    filepath = \"../data/images/physics/\" + row.FileName + \".png\"\n",
    "    formula_as_file(row.Equation, filepath)"
   ]
  },
  {
   "cell_type": "code",
   "execution_count": 29,
   "metadata": {},
   "outputs": [
    {
     "data": {
      "text/html": [
       "<div>\n",
       "<style scoped>\n",
       "    .dataframe tbody tr th:only-of-type {\n",
       "        vertical-align: middle;\n",
       "    }\n",
       "\n",
       "    .dataframe tbody tr th {\n",
       "        vertical-align: top;\n",
       "    }\n",
       "\n",
       "    .dataframe thead th {\n",
       "        text-align: right;\n",
       "    }\n",
       "</style>\n",
       "<table border=\"1\" class=\"dataframe\">\n",
       "  <thead>\n",
       "    <tr style=\"text-align: right;\">\n",
       "      <th></th>\n",
       "      <th>Equation</th>\n",
       "      <th>Label</th>\n",
       "      <th>Id</th>\n",
       "      <th>Tags</th>\n",
       "      <th>FileName</th>\n",
       "    </tr>\n",
       "  </thead>\n",
       "  <tbody>\n",
       "    <tr>\n",
       "      <th>2</th>\n",
       "      <td>S = \\hbar \\sqrt{s (s + 1)}</td>\n",
       "      <td>physics</td>\n",
       "      <td>5</td>\n",
       "      <td>NaN</td>\n",
       "      <td>2_physics_5</td>\n",
       "    </tr>\n",
       "    <tr>\n",
       "      <th>3</th>\n",
       "      <td>\\displaystyle \\frac{\\delta S}{\\delta q}</td>\n",
       "      <td>physics</td>\n",
       "      <td>14</td>\n",
       "      <td>NaN</td>\n",
       "      <td>3_physics_14</td>\n",
       "    </tr>\n",
       "    <tr>\n",
       "      <th>5</th>\n",
       "      <td>q_{t_{1}}</td>\n",
       "      <td>physics</td>\n",
       "      <td>14</td>\n",
       "      <td>NaN</td>\n",
       "      <td>5_physics_14</td>\n",
       "    </tr>\n",
       "    <tr>\n",
       "      <th>6</th>\n",
       "      <td>q_{t_{2}}</td>\n",
       "      <td>physics</td>\n",
       "      <td>14</td>\n",
       "      <td>NaN</td>\n",
       "      <td>6_physics_14</td>\n",
       "    </tr>\n",
       "    <tr>\n",
       "      <th>7</th>\n",
       "      <td>\\delta S=0</td>\n",
       "      <td>physics</td>\n",
       "      <td>14</td>\n",
       "      <td>NaN</td>\n",
       "      <td>7_physics_14</td>\n",
       "    </tr>\n",
       "  </tbody>\n",
       "</table>\n",
       "</div>"
      ],
      "text/plain": [
       "                                  Equation    Label  Id Tags      FileName\n",
       "2               S = \\hbar \\sqrt{s (s + 1)}  physics   5  NaN   2_physics_5\n",
       "3  \\displaystyle \\frac{\\delta S}{\\delta q}  physics  14  NaN  3_physics_14\n",
       "5                                q_{t_{1}}  physics  14  NaN  5_physics_14\n",
       "6                                q_{t_{2}}  physics  14  NaN  6_physics_14\n",
       "7                               \\delta S=0  physics  14  NaN  7_physics_14"
      ]
     },
     "execution_count": 29,
     "metadata": {},
     "output_type": "execute_result"
    }
   ],
   "source": [
    "phys_lst = []\n",
    "_ = physics.apply(lambda row: [phys_lst.append(str(row.name) + \"_\" + str(row[\"Label\"]) + \"_\" + str(row[\"Id\"]))], axis=1)\n",
    "physics[\"FileName\"] = phys_lst\n",
    "physics.head()"
   ]
  },
  {
   "cell_type": "code",
   "execution_count": 30,
   "metadata": {},
   "outputs": [
    {
     "name": "stdout",
     "output_type": "stream",
     "text": [
      "1064429\n"
     ]
    }
   ],
   "source": [
    "print(len(physics.index))"
   ]
  },
  {
   "cell_type": "code",
   "execution_count": null,
   "metadata": {},
   "outputs": [],
   "source": [
    "start = time.time()\n",
    "with ThreadPoolExecutor(max_workers=8) as executor:\n",
    "    [executor.submit(phys_process, row) for i, row in physics.iterrows()]\n",
    "end = time.time()\n",
    "print((end-start)/60.0)"
   ]
  },
  {
   "cell_type": "code",
   "execution_count": null,
   "metadata": {},
   "outputs": [],
   "source": []
  }
 ],
 "metadata": {
  "kernelspec": {
   "display_name": "Python 3",
   "language": "python",
   "name": "python3"
  },
  "language_info": {
   "codemirror_mode": {
    "name": "ipython",
    "version": 3
   },
   "file_extension": ".py",
   "mimetype": "text/x-python",
   "name": "python",
   "nbconvert_exporter": "python",
   "pygments_lexer": "ipython3",
   "version": "3.7.3"
  }
 },
 "nbformat": 4,
 "nbformat_minor": 2
}
